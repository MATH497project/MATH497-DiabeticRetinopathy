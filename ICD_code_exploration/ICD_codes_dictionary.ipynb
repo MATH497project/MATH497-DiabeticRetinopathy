{
 "cells": [
  {
   "cell_type": "code",
   "execution_count": 2,
   "metadata": {
    "collapsed": false
   },
   "outputs": [],
   "source": [
    "import pandas as pd\n",
    "import numpy as np\n",
    "from pandas import DataFrame\n",
    "from collections import defaultdict\n",
    "from collections import Counter\n",
    "from datetime import datetime\n",
    "import matplotlib.pyplot as plt\n",
    "import pprint\n",
    "import os\n",
    "import reader"
   ]
  },
  {
   "cell_type": "code",
   "execution_count": 3,
   "metadata": {
    "collapsed": false
   },
   "outputs": [
    {
     "name": "stdout",
     "output_type": "stream",
     "text": [
      "Local data read/write folder path:\n",
      "\tCustomed path: /Users/Dan/百度云同步盘/丝打底/2017 spring/MATH 497/code and data/data/\n",
      "\n",
      "Data: systemic_disease_list \n",
      "File: systemic_disease_list.pickle\n",
      "File already exists.\n",
      "\n",
      "Data: SNOMED_problem_list \n",
      "File: SNOMED_problem_list.pickle\n",
      "File already exists.\n",
      "\n",
      "Data: macula_findings_for_Enc \n",
      "File: macula_findings_for_Enc.pickle\n",
      "File already exists.\n",
      "\n",
      "Data: SL_Lens_for_Enc \n",
      "File: SL_Lens_for_Enc.pickle\n",
      "File already exists.\n",
      "\n",
      "Data: family_hist_list \n",
      "File: family_hist_list.pickle\n",
      "File already exists.\n",
      "\n",
      "Data: systemic_disease_for_Enc \n",
      "File: systemic_disease_for_Enc.pickle\n",
      "File already exists.\n",
      "\n",
      "Data: family_hist_for_Enc \n",
      "File: family_hist_for_Enc.pickle\n",
      "File already exists.\n",
      "\n",
      "Data: all_encounter_data \n",
      "File: all_encounter_data.pickle\n",
      "File already exists.\n",
      "\n",
      "Data: encounters \n",
      "File: encounters.pickle\n",
      "File already exists.\n",
      "\n",
      "Data: demographics \n",
      "File: demographics.pickle\n",
      "File already exists.\n",
      "\n",
      "Data: ICD_for_Enc \n",
      "File: ICD_for_Enc.pickle\n",
      "File already exists.\n"
     ]
    }
   ],
   "source": [
    "path = os.getcwd()+'/data/'\n",
    "data = reader.Data(path)"
   ]
  },
  {
   "cell_type": "code",
   "execution_count": 4,
   "metadata": {
    "collapsed": false
   },
   "outputs": [],
   "source": [
    "df=data['ICD_for_Enc']"
   ]
  },
  {
   "cell_type": "code",
   "execution_count": 5,
   "metadata": {
    "collapsed": false
   },
   "outputs": [],
   "source": [
    "df['Enc_Date'] = [datetime.strftime(item, '%Y-%m-%d') for item in df['Enc_Timestamp']]"
   ]
  },
  {
   "cell_type": "code",
   "execution_count": 6,
   "metadata": {
    "collapsed": false
   },
   "outputs": [
    {
     "data": {
      "text/html": [
       "<div>\n",
       "<table border=\"1\" class=\"dataframe\">\n",
       "  <thead>\n",
       "    <tr style=\"text-align: right;\">\n",
       "      <th></th>\n",
       "      <th>Person_ID</th>\n",
       "      <th>Person_Nbr</th>\n",
       "      <th>Enc_ID</th>\n",
       "      <th>Enc_Nbr</th>\n",
       "      <th>Enc_Timestamp</th>\n",
       "      <th>Diagnosis_Code_ID</th>\n",
       "      <th>Description</th>\n",
       "      <th>Enc_Date</th>\n",
       "    </tr>\n",
       "  </thead>\n",
       "  <tbody>\n",
       "    <tr>\n",
       "      <th>194529</th>\n",
       "      <td>80d3df88-dddf-5ad3-7cc1-b7b1ac6151fa</td>\n",
       "      <td>33</td>\n",
       "      <td>97825c51-4462-eade-1c1d-2baa3400c033</td>\n",
       "      <td>123227</td>\n",
       "      <td>2014-12-18 14:00:00</td>\n",
       "      <td>367.4</td>\n",
       "      <td>Presbyopia</td>\n",
       "      <td>2014-12-18</td>\n",
       "    </tr>\n",
       "    <tr>\n",
       "      <th>194530</th>\n",
       "      <td>80d3df88-dddf-5ad3-7cc1-b7b1ac6151fa</td>\n",
       "      <td>33</td>\n",
       "      <td>97825c51-4462-eade-1c1d-2baa3400c033</td>\n",
       "      <td>123227</td>\n",
       "      <td>2014-12-18 14:00:00</td>\n",
       "      <td>373.00</td>\n",
       "      <td>Blepharitis unspecified</td>\n",
       "      <td>2014-12-18</td>\n",
       "    </tr>\n",
       "    <tr>\n",
       "      <th>194531</th>\n",
       "      <td>80d3df88-dddf-5ad3-7cc1-b7b1ac6151fa</td>\n",
       "      <td>33</td>\n",
       "      <td>97825c51-4462-eade-1c1d-2baa3400c033</td>\n",
       "      <td>123227</td>\n",
       "      <td>2014-12-18 14:00:00</td>\n",
       "      <td>250.00</td>\n",
       "      <td>Diabetes mellitus without mention of complicat...</td>\n",
       "      <td>2014-12-18</td>\n",
       "    </tr>\n",
       "    <tr>\n",
       "      <th>136763</th>\n",
       "      <td>adca6fa4-e7d4-d7f8-cf41-27056662d84b</td>\n",
       "      <td>89</td>\n",
       "      <td>a6d9d991-4ff4-79b5-304d-f1b2bff9d6d0</td>\n",
       "      <td>12870648</td>\n",
       "      <td>2012-10-16 03:45:00</td>\n",
       "      <td>365.02</td>\n",
       "      <td>Anatomical narrow angle borderline glaucoma</td>\n",
       "      <td>2012-10-16</td>\n",
       "    </tr>\n",
       "    <tr>\n",
       "      <th>136764</th>\n",
       "      <td>adca6fa4-e7d4-d7f8-cf41-27056662d84b</td>\n",
       "      <td>89</td>\n",
       "      <td>a6d9d991-4ff4-79b5-304d-f1b2bff9d6d0</td>\n",
       "      <td>12870648</td>\n",
       "      <td>2012-10-16 03:45:00</td>\n",
       "      <td>250.00</td>\n",
       "      <td>Diabetes Mellitus Type 2 Uncomplicated</td>\n",
       "      <td>2012-10-16</td>\n",
       "    </tr>\n",
       "  </tbody>\n",
       "</table>\n",
       "</div>"
      ],
      "text/plain": [
       "                                   Person_ID  Person_Nbr  \\\n",
       "194529  80d3df88-dddf-5ad3-7cc1-b7b1ac6151fa          33   \n",
       "194530  80d3df88-dddf-5ad3-7cc1-b7b1ac6151fa          33   \n",
       "194531  80d3df88-dddf-5ad3-7cc1-b7b1ac6151fa          33   \n",
       "136763  adca6fa4-e7d4-d7f8-cf41-27056662d84b          89   \n",
       "136764  adca6fa4-e7d4-d7f8-cf41-27056662d84b          89   \n",
       "\n",
       "                                      Enc_ID   Enc_Nbr       Enc_Timestamp  \\\n",
       "194529  97825c51-4462-eade-1c1d-2baa3400c033    123227 2014-12-18 14:00:00   \n",
       "194530  97825c51-4462-eade-1c1d-2baa3400c033    123227 2014-12-18 14:00:00   \n",
       "194531  97825c51-4462-eade-1c1d-2baa3400c033    123227 2014-12-18 14:00:00   \n",
       "136763  a6d9d991-4ff4-79b5-304d-f1b2bff9d6d0  12870648 2012-10-16 03:45:00   \n",
       "136764  a6d9d991-4ff4-79b5-304d-f1b2bff9d6d0  12870648 2012-10-16 03:45:00   \n",
       "\n",
       "       Diagnosis_Code_ID                                        Description  \\\n",
       "194529             367.4                                         Presbyopia   \n",
       "194530            373.00                            Blepharitis unspecified   \n",
       "194531            250.00  Diabetes mellitus without mention of complicat...   \n",
       "136763            365.02        Anatomical narrow angle borderline glaucoma   \n",
       "136764            250.00             Diabetes Mellitus Type 2 Uncomplicated   \n",
       "\n",
       "          Enc_Date  \n",
       "194529  2014-12-18  \n",
       "194530  2014-12-18  \n",
       "194531  2014-12-18  \n",
       "136763  2012-10-16  \n",
       "136764  2012-10-16  "
      ]
     },
     "execution_count": 6,
     "metadata": {},
     "output_type": "execute_result"
    }
   ],
   "source": [
    "df.head()"
   ]
  },
  {
   "cell_type": "markdown",
   "metadata": {},
   "source": [
    "Group data by person_Nbr then by icd code. Same code may appear in different encounter. Same code may also appear within one encounter, which is suggested to keep only one."
   ]
  },
  {
   "cell_type": "code",
   "execution_count": null,
   "metadata": {
    "collapsed": false
   },
   "outputs": [],
   "source": [
    "#{k:{k1:[item for item in v1.Enc_Nbr]\n",
    "#    for k1,v1 in v.groupby('Diagnosis_Code_ID')} \n",
    "# for k,v in df.groupby('Person_Nbr')}"
   ]
  },
  {
   "cell_type": "markdown",
   "metadata": {},
   "source": [
    "Give each person all codes with no duplication throughout all encounters"
   ]
  },
  {
   "cell_type": "code",
   "execution_count": null,
   "metadata": {
    "collapsed": false
   },
   "outputs": [],
   "source": [
    "#{k:list(v.drop_duplicates()) for k,v in df.groupby('Person_Nbr').Diagnosis_Code_ID}"
   ]
  },
  {
   "cell_type": "markdown",
   "metadata": {},
   "source": [
    "Calculate the frequncy of each code. Calculate it as once if it ever appears in person's encounter history"
   ]
  },
  {
   "cell_type": "code",
   "execution_count": 7,
   "metadata": {
    "collapsed": false
   },
   "outputs": [
    {
     "data": {
      "text/plain": [
       "[('367.4', 8754),\n",
       " ('250.00', 8199),\n",
       " ('H52.4', 4218),\n",
       " ('375.15', 3894),\n",
       " ('E11.9', 3833)]"
      ]
     },
     "execution_count": 7,
     "metadata": {},
     "output_type": "execute_result"
    }
   ],
   "source": [
    "ICD_frequency={k:len(v.drop_duplicates()) for k,v in df.groupby('Diagnosis_Code_ID').Person_Nbr}\n",
    "sorted(ICD_frequency.items(), key=lambda x:x[1], reverse=True)[:5]"
   ]
  },
  {
   "cell_type": "markdown",
   "metadata": {},
   "source": [
    "Only 4 codes have no descriptions, set them to be 'Null'."
   ]
  },
  {
   "cell_type": "code",
   "execution_count": 8,
   "metadata": {
    "collapsed": false
   },
   "outputs": [
    {
     "name": "stdout",
     "output_type": "stream",
     "text": [
      "Person_ID            4b073812-5031-8836-311a-47f6b2bb1e50\n",
      "Person_Nbr                                         362483\n",
      "Enc_ID               1c15c16b-ca15-78ea-52eb-338392d027d7\n",
      "Enc_Nbr                                           7354367\n",
      "Enc_Timestamp                         2014-05-17 15:44:33\n",
      "Diagnosis_Code_ID                                  378.83\n",
      "Description                                           NaN\n",
      "Enc_Date                                       2014-05-17\n",
      "Name: 126893, dtype: object\n",
      "Person_ID            a83e25df-000a-a8db-56a6-014579b7e5a1\n",
      "Person_Nbr                                         378156\n",
      "Enc_ID               6913f73a-2f15-0f2a-5ec9-4f0d627d8fb3\n",
      "Enc_Nbr                                          12902433\n",
      "Enc_Timestamp                         2013-03-19 19:45:00\n",
      "Diagnosis_Code_ID                              367.4367.4\n",
      "Description                                           NaN\n",
      "Enc_Date                                       2013-03-19\n",
      "Name: 90899, dtype: object\n",
      "Person_ID            06c3e488-f53e-593b-98bb-786d4294a6b7\n",
      "Person_Nbr                                         782773\n",
      "Enc_ID               01918eaf-bfa6-d73f-f02c-fcc3b87411a3\n",
      "Enc_Nbr                                           6965466\n",
      "Enc_Timestamp                         2014-04-04 22:30:00\n",
      "Diagnosis_Code_ID                                 RETINAL\n",
      "Description                                           NaN\n",
      "Enc_Date                                       2014-04-04\n",
      "Name: 67180, dtype: object\n",
      "Person_ID            a4e826e0-3231-f31c-f7ae-ce6e79f331bd\n",
      "Person_Nbr                                        1037105\n",
      "Enc_ID               8d88b727-964c-50f2-3022-214334c2abd8\n",
      "Enc_Nbr                                           1454725\n",
      "Enc_Timestamp                         2013-05-24 03:15:00\n",
      "Diagnosis_Code_ID                              362.362.54\n",
      "Description                                           NaN\n",
      "Enc_Date                                       2013-05-24\n",
      "Name: 168442, dtype: object\n",
      "4\n"
     ]
    }
   ],
   "source": [
    "j=0\n",
    "for i in df.index:\n",
    "    if type(df.Description[i])==float:\n",
    "        # float value as nan, we need to give it a string value as 'Null'\n",
    "        print(df.loc[i,])\n",
    "        df.set_value(i, 'Description', 'Null')\n",
    "        j+=1\n",
    "print(j)"
   ]
  },
  {
   "cell_type": "code",
   "execution_count": 9,
   "metadata": {
    "collapsed": false
   },
   "outputs": [
    {
     "data": {
      "text/plain": [
       "[('360.01', ['Acute endophthalmitis']),\n",
       " ('S05.01XA',\n",
       "  ['Corneal abrasion without FB of right eye initial encounter',\n",
       "   'Corneal abrasion w/o FB of right eye initial encounter',\n",
       "   'Corneal abrasion w/o FB of rt eye initial encounter']),\n",
       " ('G44.201', ['Tension-type headache unspecified intractable']),\n",
       " ('H16.123', ['Filamentary keratitis bilateral'])]"
      ]
     },
     "execution_count": 9,
     "metadata": {},
     "output_type": "execute_result"
    }
   ],
   "source": [
    "ICD_dictionary={k:sorted(list(v.drop_duplicates()), key=lambda x: len(x), reverse=True) \n",
    "                for k,v in df.groupby('Diagnosis_Code_ID').Description}\n",
    "ICD_dictionary.items()[1:5]"
   ]
  },
  {
   "cell_type": "markdown",
   "metadata": {},
   "source": [
    "## Proceeding separation of ICD 9 and ICD 10\n",
    "There are codes in icd9 begining with characters 'V' and 'E'. For the 'E' part, icd9 has the form xxxx(.xx). But for the 'V' part forms in icd9 and icd10 are so similar that I can't tell. "
   ]
  },
  {
   "cell_type": "code",
   "execution_count": 10,
   "metadata": {
    "collapsed": false
   },
   "outputs": [
    {
     "name": "stdout",
     "output_type": "stream",
     "text": [
      "('E986', ['Injury by cutting and piercing instruments undetermined whether accidentally or purposely inflicted'])\n",
      "('E931.4', ['Antimalarials and drugs acting on other blood protozoa causing adverse effects in therapeutic use'])\n",
      "('E931.3', ['Quinoline and hydroxyquinoline derivatives causing adverse effects in therapeutic use'])\n",
      "('E914', ['Foreign body accidentally entering eye and adnexa'])\n"
     ]
    }
   ],
   "source": [
    "for k,v in ICD_dictionary.items():\n",
    "    if ord(k[0])==69 and len(k.split('.')[0])==4:\n",
    "        print(k,v)"
   ]
  },
  {
   "cell_type": "code",
   "execution_count": 11,
   "metadata": {
    "collapsed": false
   },
   "outputs": [
    {
     "name": "stdout",
     "output_type": "stream",
     "text": [
      "('V15.09', ['Other allergy other than to medicinal agents'])\n",
      "('V08', ['Human immunodeficiency virus (HIV) infection without symptoms of the illness', 'Asymptomatic human immunodeficiency virus (hiv) infection status', 'Asymptomatic human immunodeficiency virus [HIV] infection status', 'Asymptomatic human immunodeficiency virus (hiv) in', 'HIV - Human immunodeficiency virus infection', 'HIV'])\n",
      "('V80.1', ['Screening for glaucoma', 'Glaucoma screening'])\n",
      "('V67.00', ['Follow-up examination following surgery unspecified'])\n",
      "('V19.11', ['Family history of glaucoma'])\n",
      "('V49.89', ['Other specified conditions influencing health status'])\n",
      "('V72.0', ['Examination of eyes and vision', 'Exam of eyes and vision', 'Vision exam'])\n",
      "('V70.3', ['General medical exam for driving license'])\n",
      "('V58.69', ['Long-term (current) use of other medications', 'Long-term use of high-risk medication', 'Long term use of high risk medication', 'Current use of high risk medication', 'Current use of high-risk medication', 'Therapeutic Drug Monitoring', 'Current use of a medication'])\n",
      "('V77.1', ['Screening for diabetes mellitus', 'Pre-Diabetic'])\n",
      "('V12.54', ['Personal history of transient ischemic attack (TIA) and cerebral infarction without residual deficits', 'HX TIA/STROKE W/O RESID', 'Personal hx of TIA', 'HX TIA/STROKE'])\n",
      "('V58.49', ['Other specified aftercare following surgery'])\n",
      "('V42.5', ['Status post corneal transplant', 'Cornea replaced by transplant'])\n",
      "('V87.49', ['Personal history of other drug therapy'])\n",
      "('V12.41', ['Personal history of benign brain tumor'])\n",
      "('V58.83', ['Encounter for therapeutic drug monitoring', 'Health visit for drug monitoring'])\n",
      "('V74.4', ['Screening examination for bacterial conjunctivitis'])\n",
      "('V12.59', ['Other personal history of diseases of circulatory system', 'CVA Old or Healed'])\n",
      "('V85.25', ['Body Mass Index 29.0-29.9 adult'])\n",
      "('V58.32', ['ATTN REMOVAL OF SUTURES'])\n",
      "('V67.59', ['Other follow-up examination'])\n",
      "('V65.5', ['Health services for a patient who fears that they might have a disease or condition but no such disease or condition was found', 'Person with feared complaint in whom no diagnosis was made'])\n",
      "('V53.1', ['Fitting and adjustment of spectacles and contact lenses', 'Fitting of contact lenses'])\n",
      "('V14.9', ['Personal history of allergy to unspecified medicinal agent'])\n",
      "('V45.78', ['Acquired absence of organ eye', 'Acquired absence of eye'])\n",
      "('V43.1', ['Lens replaced by other means', 'Artificial lens present', 'Pseudophakia', 'Psuedophakia'])\n",
      "('V02.62', ['Carrier or suspected carrier of hepatitis c'])\n",
      "('V18.0', ['Family history of diabetes mellitus'])\n",
      "('V43.0', ['Eye globe replaced by other means', 'S/P eye globe prosthesis'])\n",
      "('V45.61', ['Postsurgical cataract extraction status', 'Cataract extraction status', 'S/P cataract extraction'])\n",
      "('V45.69', ['Other states following surgery of eye and adnexa'])\n",
      "('V67.51', ['Follow-up examination following completed treatment with high-risk medication not elsewhere classified', 'Follow-up examination following completed treatmen'])\n"
     ]
    }
   ],
   "source": [
    "for k,v in ICD_dictionary.items():\n",
    "    if ord(k[0])==86:\n",
    "        print(k,v)"
   ]
  },
  {
   "cell_type": "markdown",
   "metadata": {},
   "source": [
    "### Tried to use pymedtermino to separate icd9 and icd10 (But it did not work correctly because I need to download the data from another source)\n",
    "http://pythonhosted.org/PyMedTermino/. The module did not work so I tried date-division method."
   ]
  },
  {
   "cell_type": "code",
   "execution_count": null,
   "metadata": {
    "collapsed": false
   },
   "outputs": [],
   "source": [
    "!pip install PyMedTermino"
   ]
  },
  {
   "cell_type": "code",
   "execution_count": null,
   "metadata": {
    "collapsed": false,
    "scrolled": true
   },
   "outputs": [],
   "source": [
    "#from pymedtermino import *\n",
    "#from pymedtermino.icd10 import *\n",
    "#ICD10[\"E10\"]"
   ]
  },
  {
   "cell_type": "markdown",
   "metadata": {},
   "source": [
    "### Why I can't just use the date to divide ICD9 and ICD10?!\n",
    "Because I can't use a definite date (like '2015-10-01') as separation line for ICD9 and ICD10. When I run the following codes, it is obvious that during 2015-09-28 and 2015-10-04, utilization of ICD9 and ICD10 is mixed. The very first encounter in our data set was on 2011-10-28, the last one was on 2016-11-03."
   ]
  },
  {
   "cell_type": "code",
   "execution_count": null,
   "metadata": {
    "collapsed": false
   },
   "outputs": [],
   "source": [
    "# The followin codes may take much memory and time. \n",
    "#temp={k: {k1:[item for item in v1.Diagnosis_Code_ID] \n",
    "#     for k1,v1 in v.groupby('Person_Nbr')}\n",
    "# for k,v in df.groupby('Enc_Timestamp')}\n",
    "#pprint.pprint(temp)"
   ]
  },
  {
   "cell_type": "code",
   "execution_count": null,
   "metadata": {
    "collapsed": false
   },
   "outputs": [],
   "source": [
    "#pprint.pprint(temp)"
   ]
  },
  {
   "cell_type": "markdown",
   "metadata": {},
   "source": [
    "ICD 9 code is being used even long after 2015-10-03. Here is the case that there are still iCD 9 codes exist in the overlap of two code set after I separated them with date. For example, 250.00 is obvious a ICD 9 code which was still being used on 2016-06-01"
   ]
  },
  {
   "cell_type": "code",
   "execution_count": 12,
   "metadata": {
    "collapsed": false
   },
   "outputs": [
    {
     "name": "stdout",
     "output_type": "stream",
     "text": [
      "962\n",
      "1182\n",
      "2139\n"
     ]
    }
   ],
   "source": [
    "print (len(df[df.Enc_Date<'2015-09-28'].Diagnosis_Code_ID.drop_duplicates()))\n",
    "print (len(df[df.Enc_Date>'2015-10-04'].Diagnosis_Code_ID.drop_duplicates()))\n",
    "print (len(df.Diagnosis_Code_ID.drop_duplicates()))"
   ]
  },
  {
   "cell_type": "code",
   "execution_count": null,
   "metadata": {
    "collapsed": false
   },
   "outputs": [],
   "source": [
    "# The following ICD 9 codes are still being used after 2015-10-04\n",
    "set(df[df.Enc_Date<'2015-09-28'].Diagnosis_Code_ID.drop_duplicates())&set(df[df.Enc_Date>'2015-10-04'].Diagnosis_Code_ID.drop_duplicates())"
   ]
  },
  {
   "cell_type": "code",
   "execution_count": 13,
   "metadata": {
    "collapsed": false
   },
   "outputs": [
    {
     "data": {
      "text/html": [
       "<div>\n",
       "<table border=\"1\" class=\"dataframe\">\n",
       "  <thead>\n",
       "    <tr style=\"text-align: right;\">\n",
       "      <th></th>\n",
       "      <th>Person_ID</th>\n",
       "      <th>Person_Nbr</th>\n",
       "      <th>Enc_ID</th>\n",
       "      <th>Enc_Nbr</th>\n",
       "      <th>Enc_Timestamp</th>\n",
       "      <th>Diagnosis_Code_ID</th>\n",
       "      <th>Description</th>\n",
       "      <th>Enc_Date</th>\n",
       "    </tr>\n",
       "  </thead>\n",
       "  <tbody>\n",
       "    <tr>\n",
       "      <th>178018</th>\n",
       "      <td>031910b8-92c5-354e-95b7-981f3cd0877e</td>\n",
       "      <td>70556</td>\n",
       "      <td>92cf571a-811e-d49f-bf0b-5198f968c4e5</td>\n",
       "      <td>5241244</td>\n",
       "      <td>2016-06-01 12:00:00</td>\n",
       "      <td>250.00</td>\n",
       "      <td>Type II diabetes mellitus without complication</td>\n",
       "      <td>2016-06-01</td>\n",
       "    </tr>\n",
       "  </tbody>\n",
       "</table>\n",
       "</div>"
      ],
      "text/plain": [
       "                                   Person_ID  Person_Nbr  \\\n",
       "178018  031910b8-92c5-354e-95b7-981f3cd0877e       70556   \n",
       "\n",
       "                                      Enc_ID  Enc_Nbr       Enc_Timestamp  \\\n",
       "178018  92cf571a-811e-d49f-bf0b-5198f968c4e5  5241244 2016-06-01 12:00:00   \n",
       "\n",
       "       Diagnosis_Code_ID                                     Description  \\\n",
       "178018            250.00  Type II diabetes mellitus without complication   \n",
       "\n",
       "          Enc_Date  \n",
       "178018  2016-06-01  "
      ]
     },
     "execution_count": 13,
     "metadata": {},
     "output_type": "execute_result"
    }
   ],
   "source": [
    "temp=df[df.Enc_Date>'2015-10-04'].Diagnosis_Code_ID.drop_duplicates()\n",
    "df.loc[temp[temp=='250.00'].index,]"
   ]
  },
  {
   "cell_type": "markdown",
   "metadata": {},
   "source": [
    "And there is still the problem that I can't tell the Vxx.xx code belongs to ICD 9 and ICD 10. After I extract the V codes after 2015-10-01 and manually look them up in ICD website. The description matches the corresponding ICD9 code description. So right now I can conclude all the codes begin with v belong to ICD 9. And Exxx(.xx) and all codes begin with number belong to ICD 9."
   ]
  },
  {
   "cell_type": "code",
   "execution_count": 14,
   "metadata": {
    "collapsed": false,
    "scrolled": false
   },
   "outputs": [
    {
     "data": {
      "text/plain": [
       "{'V02.62': [],\n",
       " 'V08': [{'Date': '2015-10-04', 'description': 'HIV'}],\n",
       " 'V12.41': [],\n",
       " 'V12.54': [],\n",
       " 'V12.59': [],\n",
       " 'V14.9': [],\n",
       " 'V15.09': [],\n",
       " 'V18.0': [],\n",
       " 'V19.11': [],\n",
       " 'V42.5': [{'Date': '2015-10-02',\n",
       "   'description': 'Status post corneal transplant'}],\n",
       " 'V43.0': [],\n",
       " 'V43.1': [{'Date': '2016-02-15',\n",
       "   'description': 'Lens replaced by other means'}],\n",
       " 'V45.61': [],\n",
       " 'V45.69': [],\n",
       " 'V45.78': [],\n",
       " 'V49.89': [],\n",
       " 'V53.1': [],\n",
       " 'V58.32': [],\n",
       " 'V58.49': [{'Date': '2016-05-14',\n",
       "   'description': 'Other specified aftercare following surgery'},\n",
       "  {'Date': '2015-11-29',\n",
       "   'description': 'Other specified aftercare following surgery'}],\n",
       " 'V58.69': [{'Date': '2016-07-04',\n",
       "   'description': 'Therapeutic Drug Monitoring'}],\n",
       " 'V58.83': [],\n",
       " 'V65.5': [],\n",
       " 'V67.00': [],\n",
       " 'V67.51': [],\n",
       " 'V67.59': [],\n",
       " 'V70.3': [],\n",
       " 'V72.0': [],\n",
       " 'V74.4': [],\n",
       " 'V77.1': [],\n",
       " 'V80.1': [],\n",
       " 'V85.25': [],\n",
       " 'V87.49': []}"
      ]
     },
     "execution_count": 14,
     "metadata": {},
     "output_type": "execute_result"
    }
   ],
   "source": [
    "V_code=[k for k in ICD_dictionary.keys() if ord(k[0])==86]\n",
    "{k:[{'Date':a, 'description':b} for a,b in zip(v.Enc_Date, v.Description) if a>'2015-10-01']\n",
    "for k,v in df[df.Diagnosis_Code_ID.isin(V_code)].groupby('Diagnosis_Code_ID')}"
   ]
  },
  {
   "cell_type": "markdown",
   "metadata": {},
   "source": [
    "### Manually divide ICD 9 and ICD 10 according to the conclusion above."
   ]
  },
  {
   "cell_type": "code",
   "execution_count": 15,
   "metadata": {
    "collapsed": false
   },
   "outputs": [
    {
     "name": "stdout",
     "output_type": "stream",
     "text": [
      "('Distict ICD 9 codes: ', 964)\n",
      "('Distinct ICD 10 codes: ', 1175)\n"
     ]
    }
   ],
   "source": [
    "ICD_9_dictionary={}\n",
    "ICD_10_dictionary={}\n",
    "for k,v in ICD_dictionary.items():\n",
    "    if ord(k[0])==69 and len(k.split('.')[0])==4:\n",
    "        # All 'Exxx(.xx)' codes should belong to icd 9\n",
    "        ICD_9_dictionary[k]=v\n",
    "    elif ord(k[0])==86:\n",
    "        # All the v-codes should belong to icd 9\n",
    "        ICD_9_dictionary[k]=v\n",
    "    elif ord(k[0]) in range(65,91) and len(k.split('.')[0])==3:\n",
    "        # Except the two cases above, codes started with character and the fourth digit is '.' belong to icd 10\n",
    "        ICD_10_dictionary[k]=v\n",
    "    else:\n",
    "        ICD_9_dictionary[k]=v\n",
    "print ('Distict ICD 9 codes: ',len(ICD_9_dictionary))\n",
    "print ('Distinct ICD 10 codes: ', len(ICD_10_dictionary))"
   ]
  },
  {
   "cell_type": "markdown",
   "metadata": {},
   "source": [
    "###  Codes may have multiple descriptions in data\n",
    "The most descriptions contained in one code is 39 for code '250.00', which encourages me to find a standard and official explanation for each code."
   ]
  },
  {
   "cell_type": "code",
   "execution_count": 16,
   "metadata": {
    "collapsed": false
   },
   "outputs": [
    {
     "data": {
      "text/plain": [
       "[('250.00', 39), ('365.01', 20), ('E11.9', 18), ('250.52', 14), ('E11.8', 13)]"
      ]
     },
     "execution_count": 16,
     "metadata": {},
     "output_type": "execute_result"
    }
   ],
   "source": [
    "sorted({k:len(v) for k,v in ICD_dictionary.items()}.items(), key=lambda x:x[1], reverse=True)[:5]"
   ]
  },
  {
   "cell_type": "markdown",
   "metadata": {},
   "source": [
    "### Tried to use R programming to validate ICD 9 and ICD 10\n",
    "There is a R package callled icd from https://github.com/jackwasey/icd. It may recognize all the V-codes as in ICD 9, however, it may recognize all E-codes as in ICD 9 too. which does not follow the rules. This package offers no information on the ancestors and converters. And its library only contains some of the explanation, which is still not specific enough for ICD 10 codes. I got 'Null' values for the 'invalid' codes, the correctness still needs to be tested."
   ]
  },
  {
   "cell_type": "code",
   "execution_count": 17,
   "metadata": {
    "collapsed": true
   },
   "outputs": [],
   "source": [
    "# Export all disctinct codes into a .txt file\n",
    "df.Diagnosis_Code_ID.drop_duplicates().to_csv(path+'ICD_codes.txt', index=False)"
   ]
  },
  {
   "cell_type": "markdown",
   "metadata": {},
   "source": [
    "There are 16 codes with null values exist in officail explanation, and these are all invalid codes in ICD 9 system \n",
    "\n",
    "(actually the results turns out to be 24, more than 16, but the some of them were wrongly recognized as short form of some icd 9 cm codes with no consistence as their description)"
   ]
  },
  {
   "cell_type": "code",
   "execution_count": 18,
   "metadata": {
    "collapsed": false
   },
   "outputs": [
    {
     "name": "stdout",
     "output_type": "stream",
     "text": [
      "('ICD_9_codes amount according to R validation:', 964)\n",
      "24\n",
      "['RETINAL', '00.01', '00.10', '10.91', '11.60', '11.75', '12.14', '12.64', '13.41', '13.43', '13.65', '13.69', '13.70', '14.32', '14.34', '14.39', '14.41', '16.49', '16.92', '95.26', '95.34', '97.31', '362.362.54', '367.4367.4']\n"
     ]
    }
   ],
   "source": [
    "ICD_9_codes_R=pd.read_csv(path+'icd9_codes_R.csv')\n",
    "print('ICD_9_codes amount according to R validation:', len(ICD_9_codes_R))\n",
    "print(len(ICD_9_codes_R[ICD_9_codes_R.official_explanation=='Null']))\n",
    "print(list(ICD_9_codes_R[ICD_9_codes_R.official_explanation=='Null'].codes))"
   ]
  },
  {
   "cell_type": "markdown",
   "metadata": {},
   "source": [
    "There are 68 codes with null values in official explanation exist in ICD 10 table, and some of them in invalid and the others are due to the accuracy of the package."
   ]
  },
  {
   "cell_type": "code",
   "execution_count": 19,
   "metadata": {
    "collapsed": false
   },
   "outputs": [
    {
     "name": "stdout",
     "output_type": "stream",
     "text": [
      "('ICD_10_codes amount according to R validation:', 1175)\n",
      "68\n",
      "['E08.3212', 'E08.3213', 'E08.3293', 'E08.3313', 'E08.3393', 'E08.3412', 'E08.3513', 'E10.3291', 'E10.3292', 'E10.3293', 'E10.3391', 'E10.3392', 'E10.3513', 'E10.3593', 'E11.3211', 'E11.3212', 'E11.3213', 'E11.3291', 'E11.3292', 'E11.3293', 'E11.3311', 'E11.3312', 'E11.3313', 'E11.3391', 'E11.3392', 'E11.3393', 'E11.3411', 'E11.3413', 'E11.3491', 'E11.3492', 'E11.3493', 'E11.3511', 'E11.3512', 'E11.3513', 'E11.3522', 'E11.3551', 'E11.3552', 'E11.3553', 'E11.3591', 'E11.3592', 'E11.3593', 'H34.8110', 'H34.8120', 'H34.8310', 'H34.8312', 'H34.8321', 'H34.8322', 'H35.3112', 'H35.3131', 'H35.3132', 'H35.3212', 'H35.3221', 'H35.3223', 'H35.3230', 'H40.1111', 'H40.1112', 'H40.1113', 'H40.1121', 'H40.1122', 'H40.1123', 'H40.1131', 'H40.1132', 'H40.1133', 'H40.1134', 'L03.213', 'R73.03', 'Z79.84', 'Z98.890']\n"
     ]
    }
   ],
   "source": [
    "ICD_10_codes_R=pd.read_csv(path+'icd10_codes_R.csv')\n",
    "print('ICD_10_codes amount according to R validation:', len(ICD_10_codes_R))\n",
    "print(len(ICD_10_codes_R[ICD_10_codes_R.official_explanation=='Null']))\n",
    "print(list(ICD_10_codes_R[ICD_10_codes_R.official_explanation=='Null'].codes))"
   ]
  },
  {
   "cell_type": "markdown",
   "metadata": {},
   "source": [
    "## Proceeding ICD 9 codes\n",
    "### Look into the invalid codes exist in my divided ICD 9 part.\n",
    "#### 1. The codes with description 'null' in the data set\n",
    "Since ICD_9_dictionary's value is sorted decreasingly by the length of descriptions, I can extract the 3 invalid cases. Remember we have in total 4 null values in data description, another code has other non-null descriptions so it could not be invalid."
   ]
  },
  {
   "cell_type": "code",
   "execution_count": 20,
   "metadata": {
    "collapsed": false
   },
   "outputs": [
    {
     "data": {
      "text/plain": [
       "{'362.362.54': ['Null'], '367.4367.4': ['Null'], 'RETINAL': ['Null']}"
      ]
     },
     "execution_count": 20,
     "metadata": {},
     "output_type": "execute_result"
    }
   ],
   "source": [
    "invalid_code_1={k:v for k,v in ICD_9_dictionary.items() if v[0]=='Null' and len(v)==1}\n",
    "invalid_code_1"
   ]
  },
  {
   "cell_type": "markdown",
   "metadata": {},
   "source": [
    "For these values, they all exist only once over all data. And another code also exists meanwhile in the same encounter, which means these inexplanable codes are typos. So we can delete them directly from the previous dict and dataframe.(ICD_9_dictionary, original data set df, ICD_9_codes_R and ICD_frequency)"
   ]
  },
  {
   "cell_type": "code",
   "execution_count": 21,
   "metadata": {
    "collapsed": false
   },
   "outputs": [
    {
     "data": {
      "text/plain": [
       "{'362.362.54': 1, '367.4367.4': 1, 'RETINAL': 1}"
      ]
     },
     "execution_count": 21,
     "metadata": {},
     "output_type": "execute_result"
    }
   ],
   "source": [
    "{k:ICD_frequency[k] for k in invalid_code_1.keys()}"
   ]
  },
  {
   "cell_type": "code",
   "execution_count": 22,
   "metadata": {
    "collapsed": false
   },
   "outputs": [
    {
     "data": {
      "text/plain": [
       "{378156: {12902433: [('367.4', 'Presbyopia/ Accommodative Insufficiency'),\n",
       "   ('367.4367.4', 'Null')]},\n",
       " 782773: {6965466: [('362.40', 'Retinal layer separation unspecified'),\n",
       "   ('RETINAL', 'Null')]},\n",
       " 1037105: {1454725: [('362.54', 'Macular cyst hole or pseudohole of retina'),\n",
       "   ('362.362.54', 'Null')]}}"
      ]
     },
     "execution_count": 22,
     "metadata": {},
     "output_type": "execute_result"
    }
   ],
   "source": [
    "{k:{k1:[item for item in zip(v1.Diagnosis_Code_ID, v1.Description)]\n",
    "    for k1,v1 in v.groupby('Enc_Nbr')}  \n",
    " for k,v in df[df.Enc_Nbr.isin(\n",
    "     df[df.Diagnosis_Code_ID.isin(invalid_code_1)].Enc_Nbr)].groupby('Person_Nbr')}"
   ]
  },
  {
   "cell_type": "code",
   "execution_count": 23,
   "metadata": {
    "collapsed": false
   },
   "outputs": [
    {
     "data": {
      "text/plain": [
       "961"
      ]
     },
     "execution_count": 23,
     "metadata": {},
     "output_type": "execute_result"
    }
   ],
   "source": [
    "for item in invalid_code_1:\n",
    "    ICD_9_dictionary.pop(item, None)\n",
    "len(ICD_9_dictionary)"
   ]
  },
  {
   "cell_type": "code",
   "execution_count": 24,
   "metadata": {
    "collapsed": false
   },
   "outputs": [
    {
     "data": {
      "text/plain": [
       "(961, 2)"
      ]
     },
     "execution_count": 24,
     "metadata": {},
     "output_type": "execute_result"
    }
   ],
   "source": [
    "ICD_9_codes_R = ICD_9_codes_R.drop(ICD_9_codes_R[ICD_9_codes_R.codes.isin(invalid_code_1)].index)\n",
    "ICD_9_codes_R.shape"
   ]
  },
  {
   "cell_type": "code",
   "execution_count": 25,
   "metadata": {
    "collapsed": false
   },
   "outputs": [
    {
     "data": {
      "text/plain": [
       "2136"
      ]
     },
     "execution_count": 25,
     "metadata": {},
     "output_type": "execute_result"
    }
   ],
   "source": [
    "for item in invalid_code_1:\n",
    "    ICD_frequency.pop(item, None)\n",
    "len(ICD_frequency)"
   ]
  },
  {
   "cell_type": "code",
   "execution_count": 26,
   "metadata": {
    "collapsed": false
   },
   "outputs": [
    {
     "data": {
      "text/plain": [
       "(207252, 8)"
      ]
     },
     "execution_count": 26,
     "metadata": {},
     "output_type": "execute_result"
    }
   ],
   "source": [
    "df=df.drop(df[df.Diagnosis_Code_ID.isin(invalid_code_1)].index)\n",
    "df.shape"
   ]
  },
  {
   "cell_type": "markdown",
   "metadata": {},
   "source": [
    "#### 2. The codes with digits less than 3 before the point\n",
    "According to the hint by R processed codes, there exist codes in ICD 9 that disobey the coding rule and have no sufficient officaial explanation in R package. These codes could be invaid for CM too. And codes in 'xx.xx' form are found to be icd 9 procedure codes after looking up their descriptions on website http://www.icd9data.com/2015/Volume3/default.htm. So I extract them here."
   ]
  },
  {
   "cell_type": "code",
   "execution_count": 27,
   "metadata": {
    "collapsed": false
   },
   "outputs": [
    {
     "data": {
      "text/plain": [
       "{'00.01': ['THER ULT HEAD & NECK VES'],\n",
       " '00.10': ['IMPLANT CHEMOTHERA AGENT'],\n",
       " '10.91': ['SUBCONJUNCTIVAL INJECT'],\n",
       " '11.60': ['CORNEAL TRANSPLANT NOS'],\n",
       " '11.75': ['RADIAL KERATOTOMY'],\n",
       " '12.14': ['IRIDECTOMY NEC'],\n",
       " '12.64': ['TRABECULECTOM AB EXTERNO'],\n",
       " '13.41': ['CATARAC PHACOEMULS/ASPIR'],\n",
       " '13.43': ['CATARACT FRAG/ASPIR NEC'],\n",
       " '13.65': ['AFTER-CATARACT EXCISION'],\n",
       " '13.69': ['CATARACT EXTRACTION NEC'],\n",
       " '13.70': ['INSERT PSEUDOPHAKOS NOS'],\n",
       " '14.32': ['RETINAL TEAR CRYOTHERAPY'],\n",
       " '14.34': ['RETINAL TEAR LASER COAG'],\n",
       " '14.39': ['RETINAL TEAR REPAIR NEC'],\n",
       " '14.41': ['SCLERAL BUCKLE W IMPLANT'],\n",
       " '16.49': ['EYEBALL ENUCLEATION NEC'],\n",
       " '16.92': ['EXCISION ORBITAL LESION'],\n",
       " '95.26': ['GLAUCOMA TESTING'],\n",
       " '95.34': ['OCULAR PROSTHETICS'],\n",
       " '97.31': ['REMOVE EYE PROSTHESIS']}"
      ]
     },
     "execution_count": 27,
     "metadata": {},
     "output_type": "execute_result"
    }
   ],
   "source": [
    "invalid_code_2={k:v for k,v in ICD_9_dictionary.items() if len(k.split('.')[0])<3}\n",
    "invalid_code_2"
   ]
  },
  {
   "cell_type": "markdown",
   "metadata": {},
   "source": [
    "Although these procedure codes are not quite frequent in the data set. I would better separate them with those ICD 9 CM codes and ICD 10 CM codes. Delete them from ICD_9_dictionary and ICD_9_codes_R."
   ]
  },
  {
   "cell_type": "code",
   "execution_count": 28,
   "metadata": {
    "collapsed": false
   },
   "outputs": [
    {
     "data": {
      "text/plain": [
       "{'00.01': 1,\n",
       " '00.10': 1,\n",
       " '10.91': 1,\n",
       " '11.60': 3,\n",
       " '11.75': 1,\n",
       " '12.14': 1,\n",
       " '12.64': 1,\n",
       " '13.41': 1,\n",
       " '13.43': 1,\n",
       " '13.65': 2,\n",
       " '13.69': 3,\n",
       " '13.70': 3,\n",
       " '14.32': 1,\n",
       " '14.34': 1,\n",
       " '14.39': 2,\n",
       " '14.41': 1,\n",
       " '16.49': 8,\n",
       " '16.92': 1,\n",
       " '95.26': 1,\n",
       " '95.34': 5,\n",
       " '97.31': 1}"
      ]
     },
     "execution_count": 28,
     "metadata": {},
     "output_type": "execute_result"
    }
   ],
   "source": [
    "{item:ICD_frequency[item] for item in invalid_code_2.keys()}"
   ]
  },
  {
   "cell_type": "code",
   "execution_count": 29,
   "metadata": {
    "collapsed": false
   },
   "outputs": [
    {
     "data": {
      "text/plain": [
       "940"
      ]
     },
     "execution_count": 29,
     "metadata": {},
     "output_type": "execute_result"
    }
   ],
   "source": [
    "ICD_9_PCS_dictionary = invalid_code_2\n",
    "for item in invalid_code_2:\n",
    "    ICD_9_dictionary.pop(item, None)\n",
    "len(ICD_9_dictionary)"
   ]
  },
  {
   "cell_type": "code",
   "execution_count": 30,
   "metadata": {
    "collapsed": false
   },
   "outputs": [
    {
     "data": {
      "text/plain": [
       "(940, 2)"
      ]
     },
     "execution_count": 30,
     "metadata": {},
     "output_type": "execute_result"
    }
   ],
   "source": [
    "ICD_9_codes_R = ICD_9_codes_R.drop(ICD_9_codes_R[ICD_9_codes_R.codes.isin(invalid_code_2)].index)\n",
    "ICD_9_codes_R.shape"
   ]
  },
  {
   "cell_type": "markdown",
   "metadata": {},
   "source": [
    "### Plot the most frequent codes"
   ]
  },
  {
   "cell_type": "code",
   "execution_count": 31,
   "metadata": {
    "collapsed": true
   },
   "outputs": [],
   "source": [
    "ICD_9_frequency={k:ICD_frequency[k] for k in ICD_9_dictionary.keys()}"
   ]
  },
  {
   "cell_type": "code",
   "execution_count": 32,
   "metadata": {
    "collapsed": false
   },
   "outputs": [
    {
     "name": "stdout",
     "output_type": "stream",
     "text": [
      "[('367.4', 'Presbyopia'),\n",
      " ('250.00',\n",
      "  'Diabetes mellitus without mention of complication, type II or unspecified type, not stated as uncontrolled'),\n",
      " ('375.15', 'Tear film insufficiency, unspecified'),\n",
      " ('366.19', 'Other and combined forms of senile cataract'),\n",
      " ('367.1', 'Myopia'),\n",
      " ('367.0', 'Hypermetropia'),\n",
      " ('367.20', 'Astigmatism, unspecified'),\n",
      " ('373.00', 'Blepharitis, unspecified'),\n",
      " ('365.01', 'Open angle with borderline findings, low risk'),\n",
      " ('362.11', 'Hypertensive retinopathy')]\n"
     ]
    },
    {
     "data": {
      "image/png": "[encoded data removed]",
      "text/plain": [
       "<matplotlib.figure.Figure at 0x111f1ff10>"
      ]
     },
     "metadata": {},
     "output_type": "display_data"
    }
   ],
   "source": [
    "temp=sorted(ICD_9_frequency.items(), key=lambda x:x[1], reverse=True)[:10]\n",
    "pprint.pprint([(k[0],ICD_9_codes_R.set_index('codes').loc[k[0], 'official_explanation']) for k in temp])\n",
    "plt.bar(range(0,len(temp)), [item[1] for item in temp])\n",
    "plt.xticks(range(0,len(temp)), [item[0] for item in temp], rotation='vertical')\n",
    "plt.show()"
   ]
  },
  {
   "cell_type": "markdown",
   "metadata": {},
   "source": [
    "### Get the first-three-digit-ancestors  for the codes\n",
    "Extract the ancestor as the part before dot. There are 175 different ancestors in ICD 9 data"
   ]
  },
  {
   "cell_type": "markdown",
   "metadata": {},
   "source": [
    "Calculate the ancesotr's frequency in person's overall history, and plot a histgram. People with codes in 367 category are even more than the total amount of the patient sample."
   ]
  },
  {
   "cell_type": "code",
   "execution_count": 33,
   "metadata": {
    "collapsed": false
   },
   "outputs": [
    {
     "data": {
      "text/plain": [
       "[('367', 17148),\n",
       " ('362', 9566),\n",
       " ('250', 9120),\n",
       " ('366', 7170),\n",
       " ('365', 6178),\n",
       " ('375', 3981),\n",
       " ('373', 2803),\n",
       " ('379', 1925),\n",
       " ('401', 1489),\n",
       " ('372', 1423)]"
      ]
     },
     "execution_count": 33,
     "metadata": {},
     "output_type": "execute_result"
    }
   ],
   "source": [
    "ICD_9_ancestor_frequency=defaultdict(int)\n",
    "for k in ICD_9_dictionary.keys():\n",
    "    ICD_9_ancestor_frequency[k.split('.')[0]] += ICD_frequency[k]\n",
    "sorted(ICD_9_ancestor_frequency.items(), key=lambda x: x[1], reverse=True)[:10]"
   ]
  },
  {
   "cell_type": "markdown",
   "metadata": {},
   "source": [
    "There are 190 different ancestors in ICD 9 data"
   ]
  },
  {
   "cell_type": "code",
   "execution_count": 34,
   "metadata": {
    "collapsed": false
   },
   "outputs": [
    {
     "data": {
      "text/plain": [
       "190"
      ]
     },
     "execution_count": 34,
     "metadata": {},
     "output_type": "execute_result"
    }
   ],
   "source": [
    "len(ICD_9_ancestor_frequency.keys())"
   ]
  },
  {
   "cell_type": "code",
   "execution_count": 35,
   "metadata": {
    "collapsed": false
   },
   "outputs": [
    {
     "data": {
      "image/png": "[encoded data removed]",
      "text/plain": [
       "<matplotlib.figure.Figure at 0x111f1fa90>"
      ]
     },
     "metadata": {},
     "output_type": "display_data"
    }
   ],
   "source": [
    "temp=sorted(ICD_9_ancestor_frequency.items(), key=lambda x:x[1], reverse=True)[:10]\n",
    "plt.bar(range(0,len(temp)), [item[1] for item in temp])\n",
    "plt.xticks(range(0,len(temp)), [item[0] for item in temp])\n",
    "plt.show()"
   ]
  },
  {
   "cell_type": "markdown",
   "metadata": {},
   "source": [
    "367 category contains 13 different more specific codes in our data set."
   ]
  },
  {
   "cell_type": "code",
   "execution_count": 36,
   "metadata": {
    "collapsed": false
   },
   "outputs": [
    {
     "data": {
      "text/plain": [
       "{'367.0': 2593,\n",
       " '367.1': 2711,\n",
       " '367.2': 1,\n",
       " '367.20': 2316,\n",
       " '367.21': 667,\n",
       " '367.22': 24,\n",
       " '367.31': 61,\n",
       " '367.4': 8754,\n",
       " '367.51': 6,\n",
       " '367.53': 1,\n",
       " '367.81': 9,\n",
       " '367.89': 4,\n",
       " '367.9': 1}"
      ]
     },
     "execution_count": 36,
     "metadata": {},
     "output_type": "execute_result"
    }
   ],
   "source": [
    "temp={k:len(v.Person_Nbr.drop_duplicates())\n",
    "      for k,v in df.groupby('Diagnosis_Code_ID') if k.split('.')[0]=='367'}\n",
    "temp"
   ]
  },
  {
   "cell_type": "markdown",
   "metadata": {},
   "source": [
    "But most people have one or more conditions as following:"
   ]
  },
  {
   "cell_type": "code",
   "execution_count": 37,
   "metadata": {
    "collapsed": false
   },
   "outputs": [],
   "source": [
    "temp={k:[k1 for k1 in v.Diagnosis_Code_ID.drop_duplicates() if k1.split('.')[0]=='367'] \n",
    " for k,v in df.groupby('Person_Nbr')}\n",
    "#temp"
   ]
  },
  {
   "cell_type": "code",
   "execution_count": 38,
   "metadata": {
    "collapsed": false
   },
   "outputs": [
    {
     "data": {
      "text/plain": [
       "Counter({0: 4904, 1: 7513, 2: 2661, 3: 1314, 4: 86, 5: 4, 7: 1})"
      ]
     },
     "execution_count": 38,
     "metadata": {},
     "output_type": "execute_result"
    }
   ],
   "source": [
    "Counter([len(v) for v in temp.values()])"
   ]
  },
  {
   "cell_type": "markdown",
   "metadata": {},
   "source": [
    "###  Get a copied dataframe from the r-processed file and add an ancestor column to it"
   ]
  },
  {
   "cell_type": "code",
   "execution_count": null,
   "metadata": {
    "collapsed": false
   },
   "outputs": [],
   "source": [
    "ICD_9_df=ICD_9_codes_R.copy()"
   ]
  },
  {
   "cell_type": "code",
   "execution_count": null,
   "metadata": {
    "collapsed": false
   },
   "outputs": [],
   "source": [
    "ICD_9_df['ancestor'] = [k.split('.')[0] for k in ICD_9_df.codes]\n",
    "ICD_9_df.head()"
   ]
  },
  {
   "cell_type": "markdown",
   "metadata": {},
   "source": [
    "### Query these ICD code and their ancestors through Aqua API, find more infomation of their categories and converters to ICD 10, and add to the dateframe"
   ]
  },
  {
   "cell_type": "code",
   "execution_count": null,
   "metadata": {
    "collapsed": false
   },
   "outputs": [],
   "source": [
    "!pip install aqua-io"
   ]
  },
  {
   "cell_type": "code",
   "execution_count": null,
   "metadata": {
    "collapsed": false
   },
   "outputs": [],
   "source": [
    "import aqua_io\n",
    "client = aqua_io.Client({ 'client_id': 'ad84e9c56d8a3696e004ed386b2726f5664f778084ac8d3d108efdab5da5d2e1', \n",
    "                         'client_secret': 'e5d6d5b370a8f58d5bd243792b99238e67c3150de8dee81408ba9162cdf2e786'})\n",
    "token = client.access_token().retrieve()\n",
    "access_token = {'access_token': token.body['access_token']}\n",
    "client = aqua_io.Client(access_token)"
   ]
  },
  {
   "cell_type": "code",
   "execution_count": null,
   "metadata": {
    "collapsed": false,
    "scrolled": false
   },
   "outputs": [],
   "source": [
    "# Fn+cmd+/\n",
    "# icd9 = client.icd9()\n",
    "\n",
    "# ancestor_description=[]\n",
    "# converter=[]\n",
    "# count=0\n",
    "# for i in ICD_9_df.index:\n",
    "#     count+=1\n",
    "#     if count % 100 == 0:\n",
    "#         print(count)\n",
    "#     code=ICD_9_df.loc[i,'codes'].replace('.', '-')\n",
    "#     try:\n",
    "#         response = icd9.single_code(code)\n",
    "#         temp1 = [{'ancestor': item['ancestor']['name'].encode('utf8'), \n",
    "#                   'hierarchy': item['ancestor']['hierarchy'],\n",
    "#                   'description': item['ancestor']['description'].encode('utf8')} \n",
    "#                 for item in response.body['ancestors']]\n",
    "#         temp2 = [{'converter': item['equivalent']['name'].encode('utf8'), \n",
    "#                   'system': item['equivalent']['code_system'].encode('utf8'),\n",
    "#                   'strength': item['equivalent']['relationship'].encode('utf8'),\n",
    "#                   'strength_explanation': item['equivalent']['relationship_explanation'].encode('utf8')} \n",
    "#                  for item in response.body['equivalents']]\n",
    "#     except:\n",
    "#         temp1=['Null']\n",
    "#         temp2=['Null']\n",
    "#     ancestor_description.append(temp1)\n",
    "#     converter.append(temp2)\n"
   ]
  },
  {
   "cell_type": "code",
   "execution_count": null,
   "metadata": {
    "collapsed": false
   },
   "outputs": [],
   "source": [
    "converter_snomed=[[{'code': i['converter'], 'strength': i['strength_explanation']} \n",
    "                   for i in item if i['system']=='SNOMED (concept)']\n",
    "                  for item in converter]\n",
    "converter_icd10=[[{'code': i['converter'], 'strength': i['strength_explanation']} \n",
    "                   for i in item if i['system']=='ICD-10']\n",
    "                 for item in converter]"
   ]
  },
  {
   "cell_type": "code",
   "execution_count": null,
   "metadata": {
    "collapsed": false
   },
   "outputs": [],
   "source": [
    "ICD_9_df['ancestors_all'] = ancestor_description\n",
    "ICD_9_df['converter_snomed'] = converter_snomed\n",
    "ICD_9_df['converter_icd10'] = converter_icd10\n",
    "ICD_9_df.head()"
   ]
  },
  {
   "cell_type": "code",
   "execution_count": null,
   "metadata": {
    "collapsed": false
   },
   "outputs": [],
   "source": [
    "max([len(item) for item in ancestor_description])"
   ]
  },
  {
   "cell_type": "code",
   "execution_count": null,
   "metadata": {
    "collapsed": false
   },
   "outputs": [],
   "source": [
    "sorted([len(item) for item in converter_snomed],reverse=True)[:10]"
   ]
  },
  {
   "cell_type": "code",
   "execution_count": null,
   "metadata": {
    "collapsed": false
   },
   "outputs": [],
   "source": [
    "sorted([len(item) for item in converter_icd10],reverse=True)[:10]"
   ]
  },
  {
   "cell_type": "code",
   "execution_count": null,
   "metadata": {
    "collapsed": false
   },
   "outputs": [],
   "source": [
    "for i in ICD_9_df.index:\n",
    "    if len(ICD_9_df.loc[i,'converter_icd10'])==159:\n",
    "        print(ICD_9_df.loc[i,])"
   ]
  },
  {
   "cell_type": "code",
   "execution_count": null,
   "metadata": {
    "collapsed": false
   },
   "outputs": [],
   "source": [
    "ICD_9_frequency['995.29']"
   ]
  },
  {
   "cell_type": "code",
   "execution_count": null,
   "metadata": {
    "collapsed": false
   },
   "outputs": [],
   "source": [
    "ICD_9_df.to_pickle(path+'ICD_9_library_df.pickle')"
   ]
  },
  {
   "cell_type": "code",
   "execution_count": 39,
   "metadata": {
    "collapsed": false
   },
   "outputs": [
    {
     "data": {
      "text/html": [
       "<div>\n",
       "<table border=\"1\" class=\"dataframe\">\n",
       "  <thead>\n",
       "    <tr style=\"text-align: right;\">\n",
       "      <th></th>\n",
       "      <th>codes</th>\n",
       "      <th>official_explanation</th>\n",
       "      <th>ancestor</th>\n",
       "      <th>ancestors_all</th>\n",
       "      <th>converter_snomed</th>\n",
       "      <th>converter_icd10</th>\n",
       "    </tr>\n",
       "  </thead>\n",
       "  <tbody>\n",
       "    <tr>\n",
       "      <th>6</th>\n",
       "      <td>011.90</td>\n",
       "      <td>Pulmonary tuberculosis, unspecified, unspecified</td>\n",
       "      <td>011</td>\n",
       "      <td>[{u'ancestor': u'001-139', u'description': u'i...</td>\n",
       "      <td>[{u'code': u'154283005', u'strength': u'comple...</td>\n",
       "      <td>[{u'code': u'A15.0', u'strength': u'nearly ide...</td>\n",
       "    </tr>\n",
       "    <tr>\n",
       "      <th>20</th>\n",
       "      <td>042</td>\n",
       "      <td>Human immunodeficiency virus [HIV] disease</td>\n",
       "      <td>042</td>\n",
       "      <td>[{u'ancestor': u'001-139', u'description': u'i...</td>\n",
       "      <td>[{u'code': u'86406008', u'strength': u'complet...</td>\n",
       "      <td>[{u'code': u'B20', u'strength': u'completely e...</td>\n",
       "    </tr>\n",
       "    <tr>\n",
       "      <th>21</th>\n",
       "      <td>053.20</td>\n",
       "      <td>Herpes zoster dermatitis of eyelid</td>\n",
       "      <td>053</td>\n",
       "      <td>[{u'ancestor': u'001-139', u'description': u'i...</td>\n",
       "      <td>[{u'code': u'186525007', u'strength': u'comple...</td>\n",
       "      <td>[{u'code': u'B02.39', u'strength': u'nearly id...</td>\n",
       "    </tr>\n",
       "    <tr>\n",
       "      <th>22</th>\n",
       "      <td>053.21</td>\n",
       "      <td>Herpes zoster keratoconjunctivitis</td>\n",
       "      <td>053</td>\n",
       "      <td>[{u'ancestor': u'001-139', u'description': u'i...</td>\n",
       "      <td>[{u'code': u'42448002', u'strength': u'complet...</td>\n",
       "      <td>[{u'code': u'B02.33', u'strength': u'completel...</td>\n",
       "    </tr>\n",
       "    <tr>\n",
       "      <th>23</th>\n",
       "      <td>053.22</td>\n",
       "      <td>Herpes zoster iridocyclitis</td>\n",
       "      <td>053</td>\n",
       "      <td>[{u'ancestor': u'001-139', u'description': u'i...</td>\n",
       "      <td>[{u'code': u'10698009', u'strength': u'complet...</td>\n",
       "      <td>[{u'code': u'B02.32', u'strength': u'completel...</td>\n",
       "    </tr>\n",
       "  </tbody>\n",
       "</table>\n",
       "</div>"
      ],
      "text/plain": [
       "     codes                              official_explanation ancestor  \\\n",
       "6   011.90  Pulmonary tuberculosis, unspecified, unspecified      011   \n",
       "20     042        Human immunodeficiency virus [HIV] disease      042   \n",
       "21  053.20                Herpes zoster dermatitis of eyelid      053   \n",
       "22  053.21                Herpes zoster keratoconjunctivitis      053   \n",
       "23  053.22                       Herpes zoster iridocyclitis      053   \n",
       "\n",
       "                                        ancestors_all  \\\n",
       "6   [{u'ancestor': u'001-139', u'description': u'i...   \n",
       "20  [{u'ancestor': u'001-139', u'description': u'i...   \n",
       "21  [{u'ancestor': u'001-139', u'description': u'i...   \n",
       "22  [{u'ancestor': u'001-139', u'description': u'i...   \n",
       "23  [{u'ancestor': u'001-139', u'description': u'i...   \n",
       "\n",
       "                                     converter_snomed  \\\n",
       "6   [{u'code': u'154283005', u'strength': u'comple...   \n",
       "20  [{u'code': u'86406008', u'strength': u'complet...   \n",
       "21  [{u'code': u'186525007', u'strength': u'comple...   \n",
       "22  [{u'code': u'42448002', u'strength': u'complet...   \n",
       "23  [{u'code': u'10698009', u'strength': u'complet...   \n",
       "\n",
       "                                      converter_icd10  \n",
       "6   [{u'code': u'A15.0', u'strength': u'nearly ide...  \n",
       "20  [{u'code': u'B20', u'strength': u'completely e...  \n",
       "21  [{u'code': u'B02.39', u'strength': u'nearly id...  \n",
       "22  [{u'code': u'B02.33', u'strength': u'completel...  \n",
       "23  [{u'code': u'B02.32', u'strength': u'completel...  "
      ]
     },
     "execution_count": 39,
     "metadata": {},
     "output_type": "execute_result"
    }
   ],
   "source": [
    "ICD_9_df=pd.read_pickle(path+'ICD_9_library_df.pickle')\n",
    "ICD_9_df.head()"
   ]
  },
  {
   "cell_type": "markdown",
   "metadata": {},
   "source": [
    "## Proceeding ICD 10 codes\n",
    "### Look into the possible invalid codes exist in my divided ICD 10 part."
   ]
  },
  {
   "cell_type": "code",
   "execution_count": 40,
   "metadata": {
    "collapsed": false
   },
   "outputs": [
    {
     "data": {
      "text/plain": [
       "{'E08.3212': 1,\n",
       " 'E08.3213': 1,\n",
       " 'E08.3293': 1,\n",
       " 'E08.3313': 2,\n",
       " 'E08.3393': 3,\n",
       " 'E08.3412': 1,\n",
       " 'E08.3513': 1,\n",
       " 'E10.3291': 1,\n",
       " 'E10.3292': 1,\n",
       " 'E10.3293': 4,\n",
       " 'E10.3391': 1,\n",
       " 'E10.3392': 1,\n",
       " 'E10.3513': 3,\n",
       " 'E10.3593': 5,\n",
       " 'E11.3211': 4,\n",
       " 'E11.3212': 1,\n",
       " 'E11.3213': 7,\n",
       " 'E11.3291': 10,\n",
       " 'E11.3292': 15,\n",
       " 'E11.3293': 26,\n",
       " 'E11.3311': 1,\n",
       " 'E11.3312': 4,\n",
       " 'E11.3313': 5,\n",
       " 'E11.3391': 6,\n",
       " 'E11.3392': 3,\n",
       " 'E11.3393': 18,\n",
       " 'E11.3411': 3,\n",
       " 'E11.3413': 4,\n",
       " 'E11.3491': 1,\n",
       " 'E11.3492': 3,\n",
       " 'E11.3493': 4,\n",
       " 'E11.3511': 3,\n",
       " 'E11.3512': 5,\n",
       " 'E11.3513': 10,\n",
       " 'E11.3522': 1,\n",
       " 'E11.3551': 1,\n",
       " 'E11.3552': 2,\n",
       " 'E11.3553': 6,\n",
       " 'E11.3591': 5,\n",
       " 'E11.3592': 2,\n",
       " 'E11.3593': 21,\n",
       " 'H34.8110': 1,\n",
       " 'H34.8120': 2,\n",
       " 'H34.8310': 2,\n",
       " 'H34.8312': 1,\n",
       " 'H34.8321': 2,\n",
       " 'H34.8322': 3,\n",
       " 'H35.3112': 1,\n",
       " 'H35.3131': 2,\n",
       " 'H35.3132': 1,\n",
       " 'H35.3212': 1,\n",
       " 'H35.3221': 1,\n",
       " 'H35.3223': 1,\n",
       " 'H35.3230': 1,\n",
       " 'H40.1111': 10,\n",
       " 'H40.1112': 9,\n",
       " 'H40.1113': 9,\n",
       " 'H40.1121': 9,\n",
       " 'H40.1122': 8,\n",
       " 'H40.1123': 6,\n",
       " 'H40.1131': 29,\n",
       " 'H40.1132': 18,\n",
       " 'H40.1133': 48,\n",
       " 'H40.1134': 21,\n",
       " 'L03.213': 2,\n",
       " 'R73.03': 2,\n",
       " 'Z79.84': 77,\n",
       " 'Z98.890': 1}"
      ]
     },
     "execution_count": 40,
     "metadata": {},
     "output_type": "execute_result"
    }
   ],
   "source": [
    "invalid_code=list(ICD_10_codes_R[ICD_10_codes_R.official_explanation=='Null'].codes)\n",
    "{k:ICD_frequency[k] for k in invalid_code}"
   ]
  },
  {
   "cell_type": "code",
   "execution_count": 41,
   "metadata": {
    "collapsed": false
   },
   "outputs": [
    {
     "data": {
      "text/plain": [
       "{'E08.3212': ['Diabetes mellitus due to underlying condition with mild nonproliferative diabetic retinopathy with macular edema left eye'],\n",
       " 'E08.3213': ['Diabetes mellitus due to underlying condition with mild nonproliferative diabetic retinopathy with macular edema bilateral'],\n",
       " 'E08.3293': ['Diabetes mellitus due to underlying condition with mild nonproliferative diabetic retinopathy without macular edema bilateral'],\n",
       " 'E08.3313': ['Diabetes mellitus due to underlying condition with moderate nonproliferative diabetic retinopathy with macular edema bilateral'],\n",
       " 'E08.3393': ['Diabetes mellitus due to underlying condition with moderate nonproliferative diabetic retinopathy without macular edema bilateral'],\n",
       " 'E08.3412': ['Diabetes mellitus due to underlying condition with severe nonproliferative diabetic retinopathy with macular edema left eye'],\n",
       " 'E08.3513': ['Diabetes mellitus due to underlying condition with proliferative diabetic retinopathy with macular edema bilateral'],\n",
       " 'E10.3291': ['Type 1 diabetes mellitus with mild nonproliferative diabetic retinopathy without macular edema right eye'],\n",
       " 'E10.3292': ['Type 1 diabetes mellitus with mild nonproliferative diabetic retinopathy without macular edema left eye'],\n",
       " 'E10.3293': ['Type 1 diabetes mellitus with mild nonproliferative diabetic retinopathy without macular edema bilateral'],\n",
       " 'E10.3391': ['Type 1 diabetes mellitus with moderate nonproliferative diabetic retinopathy without macular edema right eye'],\n",
       " 'E10.3392': ['Type 1 diabetes mellitus with moderate nonproliferative diabetic retinopathy without macular edema left eye'],\n",
       " 'E10.3513': ['Type 1 diabetes mellitus with proliferative diabetic retinopathy with macular edema bilateral',\n",
       "  'Type 1 diab with prolif diab rtnop with macular edema bi'],\n",
       " 'E10.3593': ['Type 1 diabetes mellitus with proliferative diabetic retinopathy without macular edema bilateral',\n",
       "  'Type 1 diab with prolif diab rtnop without macular edema bi'],\n",
       " 'E11.3211': ['Type 2 diabetes mellitus with mild nonproliferative diabetic retinopathy with macular edema right eye'],\n",
       " 'E11.3212': ['Type 2 diabetes mellitus with mild nonproliferative diabetic retinopathy with macular edema left eye'],\n",
       " 'E11.3213': ['Type 2 diabetes mellitus with mild nonproliferative diabetic retinopathy with macular edema bilateral'],\n",
       " 'E11.3291': ['Type 2 diabetes mellitus with mild nonproliferative diabetic retinopathy without macular edema right eye',\n",
       "  'Type 2 diab with mild nonp rtnop without mclr edema r eye'],\n",
       " 'E11.3292': ['Type 2 diabetes mellitus with mild nonproliferative diabetic retinopathy without macular edema left eye'],\n",
       " 'E11.3293': ['Type 2 diabetes mellitus with mild nonproliferative diabetic retinopathy without macular edema bilateral',\n",
       "  'Type 2 diab with mild nonp rtnop without macular edema bi'],\n",
       " 'E11.3311': ['Type 2 diabetes mellitus with moderate nonproliferative diabetic retinopathy with macular edema right eye'],\n",
       " 'E11.3312': ['Type 2 diabetes mellitus with moderate nonproliferative diabetic retinopathy with macular edema left eye'],\n",
       " 'E11.3313': ['Type 2 diabetes mellitus with moderate nonproliferative diabetic retinopathy with macular edema bilateral',\n",
       "  'Type 2 diab with moderate nonp rtnop with macular edema bi'],\n",
       " 'E11.3391': ['Type 2 diabetes mellitus with moderate nonproliferative diabetic retinopathy without macular edema right eye',\n",
       "  'Type 2 diab with mod nonp rtnop without macular edema r eye'],\n",
       " 'E11.3392': ['Type 2 diabetes mellitus with moderate nonproliferative diabetic retinopathy without macular edema left eye'],\n",
       " 'E11.3393': ['Type 2 diabetes mellitus with moderate nonproliferative diabetic retinopathy without macular edema bilateral',\n",
       "  'Type 2 diab with mod nonp rtnop without macular edema bi'],\n",
       " 'E11.3411': ['Type 2 diabetes mellitus with severe nonproliferative diabetic retinopathy with macular edema right eye',\n",
       "  'Type 2 diab with severe nonp rtnop with macular edema r eye'],\n",
       " 'E11.3413': ['Type 2 diabetes mellitus with severe nonproliferative diabetic retinopathy with macular edema bilateral'],\n",
       " 'E11.3491': ['Type 2 diabetes mellitus with severe nonproliferative diabetic retinopathy without macular edema right eye'],\n",
       " 'E11.3492': ['Type 2 diabetes mellitus with severe nonproliferative diabetic retinopathy without macular edema left eye',\n",
       "  'Type 2 diab with severe nonp rtnop without mclr edema l eye'],\n",
       " 'E11.3493': ['Type 2 diabetes mellitus with severe nonproliferative diabetic retinopathy without macular edema bilateral',\n",
       "  'Type 2 diab with severe nonp rtnop without macular edema bi'],\n",
       " 'E11.3511': ['Type 2 diabetes mellitus with proliferative diabetic retinopathy with macular edema right eye'],\n",
       " 'E11.3512': ['Type 2 diabetes mellitus with proliferative diabetic retinopathy with macular edema left eye',\n",
       "  'Type 2 diab with prolif diab rtnop with macular edema l eye'],\n",
       " 'E11.3513': ['Type 2 diabetes mellitus with proliferative diabetic retinopathy with macular edema bilateral',\n",
       "  'Type 2 diab with prolif diab rtnop with macular edema bi'],\n",
       " 'E11.3522': ['Type 2 diabetes mellitus with proliferative diabetic retinopathy with traction retinal detachment involving the macula left eye'],\n",
       " 'E11.3551': ['Type 2 diabetes mellitus with stable proliferative diabetic retinopathy right eye'],\n",
       " 'E11.3552': ['Type 2 diabetes mellitus with stable proliferative diabetic retinopathy left eye'],\n",
       " 'E11.3553': ['Type 2 diabetes mellitus with stable proliferative diabetic retinopathy bilateral'],\n",
       " 'E11.3591': ['Type 2 diabetes mellitus with proliferative diabetic retinopathy without macular edema right eye'],\n",
       " 'E11.3592': ['Type 2 diabetes mellitus with proliferative diabetic retinopathy without macular edema left eye'],\n",
       " 'E11.3593': ['Type 2 diabetes mellitus with proliferative diabetic retinopathy without macular edema bilateral',\n",
       "  'Type 2 diab with prolif diab rtnop without macular edema bi'],\n",
       " 'H34.8110': ['Central retinal vein occlusion right eye with macular edema'],\n",
       " 'H34.8120': ['Central retinal vein occlusion left eye with macular edema'],\n",
       " 'H34.8310': ['Tributary (branch) retinal vein occlusion right eye with macular edema',\n",
       "  'Trib rtnl vein occlusion right eye with macular edema'],\n",
       " 'H34.8312': ['Tributary (branch) retinal vein occlusion right eye stable'],\n",
       " 'H34.8321': ['Tributary (branch) retinal vein occlusion left eye with retinal neovascularization',\n",
       "  'Trib rtnl vein occlusion left eye w rtnl neovas'],\n",
       " 'H34.8322': ['Tributary (branch) retinal vein occlusion left eye stable'],\n",
       " 'H35.3112': ['Nonexudative age-related macular degeneration right eye intermediate dry stage'],\n",
       " 'H35.3131': ['Nonexudative age-related macular degeneration bilateral early dry stage'],\n",
       " 'H35.3132': ['Nonexudative age-related macular degeneration bilateral intermediate dry stage'],\n",
       " 'H35.3212': ['Exudative age-related macular degeneration right eye with inactive choroidal neovascularization'],\n",
       " 'H35.3221': ['Exudative age-related macular degeneration left eye with active choroidal neovascularization'],\n",
       " 'H35.3223': ['Exudative age-related macular degeneration left eye with inactive scar'],\n",
       " 'H35.3230': ['Exudative age-related macular degeneration bilateral stage unspecified'],\n",
       " 'H40.1111': ['Primary open-angle glaucoma right eye mild stage'],\n",
       " 'H40.1112': ['Primary open-angle glaucoma right eye moderate stage'],\n",
       " 'H40.1113': ['Primary open-angle glaucoma right eye severe stage'],\n",
       " 'H40.1121': ['Primary open-angle glaucoma left eye mild stage'],\n",
       " 'H40.1122': ['Primary open-angle glaucoma left eye moderate stage'],\n",
       " 'H40.1123': ['Primary open-angle glaucoma left eye severe stage'],\n",
       " 'H40.1131': ['Primary open-angle glaucoma bilateral mild stage'],\n",
       " 'H40.1132': ['Primary open-angle glaucoma bilateral moderate stage'],\n",
       " 'H40.1133': ['Primary open-angle glaucoma bilateral severe stage'],\n",
       " 'H40.1134': ['Primary open-angle glaucoma bilateral indeterminate stage'],\n",
       " 'L03.213': ['Preseptal cellulitis'],\n",
       " 'R73.03': ['Prediabetes'],\n",
       " 'Z79.84': ['Long term (current) use of oral hypoglycemic drugs',\n",
       "  'Long term (current) use of oral antidiabetic drugs'],\n",
       " 'Z98.890': ['Personal history of surgery not elsewhere classified']}"
      ]
     },
     "execution_count": 41,
     "metadata": {},
     "output_type": "execute_result"
    }
   ],
   "source": [
    "{k: ICD_dictionary[k] for k in invalid_code}"
   ]
  },
  {
   "cell_type": "markdown",
   "metadata": {},
   "source": [
    "### Plot the most frequent codes"
   ]
  },
  {
   "cell_type": "code",
   "execution_count": 42,
   "metadata": {
    "collapsed": true
   },
   "outputs": [],
   "source": [
    "ICD_10_frequency={k:ICD_frequency[k] for k in ICD_10_dictionary.keys()}"
   ]
  },
  {
   "cell_type": "code",
   "execution_count": 43,
   "metadata": {
    "collapsed": false
   },
   "outputs": [
    {
     "name": "stdout",
     "output_type": "stream",
     "text": [
      "[('H52.4', 'Presbyopia'),\n",
      " ('E11.9', 'Type 2 diabetes mellitus without complications'),\n",
      " ('H04.123', 'Dry eye syndrome of bilateral lacrimal glands'),\n",
      " ('H25.813', 'Combined forms of age-related cataract, bilateral'),\n",
      " ('I10', 'Essential (primary) hypertension'),\n",
      " ('H40.013', 'Open angle with borderline findings, low risk, bilateral'),\n",
      " ('Z96.1', 'Presence of intraocular lens'),\n",
      " ('H52.13', 'Myopia, bilateral'),\n",
      " ('H35.033', 'Hypertensive retinopathy, bilateral'),\n",
      " ('E11.329',\n",
      "  'Type 2 diabetes mellitus with mild nonproliferative diabetic retinopathy without macular edema')]\n"
     ]
    },
    {
     "data": {
      "image/png": "[encoded data removed]",
      "text/plain": [
       "<matplotlib.figure.Figure at 0x10cb7e310>"
      ]
     },
     "metadata": {},
     "output_type": "display_data"
    }
   ],
   "source": [
    "temp=sorted(ICD_10_frequency.items(), key=lambda x:x[1], reverse=True)[:10]\n",
    "pprint.pprint([(k[0],ICD_10_codes_R.set_index('codes').loc[k[0], 'official_explanation']) for k in temp])\n",
    "plt.bar(range(0,len(temp)), [item[1] for item in temp])\n",
    "plt.xticks(range(0,len(temp)), [item[0] for item in temp], rotation='vertical')\n",
    "plt.show()"
   ]
  },
  {
   "cell_type": "markdown",
   "metadata": {},
   "source": [
    "### Get the first-three-digit-ancestors for the codes\n",
    "Extract the ancestor as the part before dot. Calculate the ancesotr's frequency in person's overall history, and plot a histgram."
   ]
  },
  {
   "cell_type": "code",
   "execution_count": 44,
   "metadata": {
    "collapsed": false
   },
   "outputs": [
    {
     "data": {
      "text/plain": [
       "[('H52', 5966),\n",
       " ('E11', 5567),\n",
       " ('H40', 2903),\n",
       " ('H25', 2636),\n",
       " ('H35', 1544),\n",
       " ('H04', 1443),\n",
       " ('H01', 874),\n",
       " ('I10', 798),\n",
       " ('Z96', 698),\n",
       " ('H53', 473)]"
      ]
     },
     "execution_count": 44,
     "metadata": {},
     "output_type": "execute_result"
    }
   ],
   "source": [
    "ICD_10_ancestor_frequency=defaultdict(int)\n",
    "for k in ICD_10_dictionary.keys():\n",
    "    ICD_10_ancestor_frequency[k.split('.')[0]] += ICD_frequency[k]\n",
    "sorted(ICD_10_ancestor_frequency.items(), key=lambda x: x[1], reverse=True)[:10]"
   ]
  },
  {
   "cell_type": "markdown",
   "metadata": {},
   "source": [
    "There are 172 different ancestors in ICD 10 data"
   ]
  },
  {
   "cell_type": "code",
   "execution_count": 45,
   "metadata": {
    "collapsed": false
   },
   "outputs": [
    {
     "data": {
      "text/plain": [
       "172"
      ]
     },
     "execution_count": 45,
     "metadata": {},
     "output_type": "execute_result"
    }
   ],
   "source": [
    "len(ICD_10_ancestor_frequency)"
   ]
  },
  {
   "cell_type": "code",
   "execution_count": 46,
   "metadata": {
    "collapsed": false
   },
   "outputs": [
    {
     "data": {
      "image/png": "[encoded data removed]",
      "text/plain": [
       "<matplotlib.figure.Figure at 0x111f15350>"
      ]
     },
     "metadata": {},
     "output_type": "display_data"
    }
   ],
   "source": [
    "temp=sorted(ICD_10_ancestor_frequency.items(), key=lambda x:x[1], reverse=True)[:10]\n",
    "plt.bar(range(0,len(temp)), [item[1] for item in temp])\n",
    "plt.xticks(range(0,len(temp)), [item[0] for item in temp])\n",
    "plt.show()"
   ]
  },
  {
   "cell_type": "markdown",
   "metadata": {},
   "source": [
    "###  Get a copied dataframe from the r-processed file and add an ancestor column to it"
   ]
  },
  {
   "cell_type": "code",
   "execution_count": null,
   "metadata": {
    "collapsed": true
   },
   "outputs": [],
   "source": [
    "ICD_10_df=ICD_10_codes_R.copy()"
   ]
  },
  {
   "cell_type": "code",
   "execution_count": null,
   "metadata": {
    "collapsed": false
   },
   "outputs": [],
   "source": [
    "ICD_10_df['ancestor'] = [k.split('.')[0] for k in ICD_10_df.codes]\n",
    "ICD_10_df.head()"
   ]
  },
  {
   "cell_type": "markdown",
   "metadata": {},
   "source": [
    "### Query these ICD code and their ancestors through Aqua API, find more infomation of their categories and converters to ICD 9, and add to the dateframe\n",
    "Among the 60 invalid codes, there are 15 that can be accessed via the API. However, the rest 45 codes can't be looked up in API, otherwise there will be error. So I developed the following codes to look up ancestors with one digit less than the invalid codes, and then add these ancestors into the portfolio."
   ]
  },
  {
   "cell_type": "code",
   "execution_count": null,
   "metadata": {
    "collapsed": false
   },
   "outputs": [],
   "source": [
    "# icd10 = client.icd10()\n",
    "\n",
    "# ancestor_description=[]\n",
    "# converter=[]\n",
    "# count=0\n",
    "# for i in ICD_10_df.index:\n",
    "#     count+=1\n",
    "#     if count % 100 == 0:\n",
    "#         print(count)\n",
    "#     code=ICD_10_df.loc[i,'codes'].replace('.', '-')\n",
    "#     flag=False\n",
    "#     while(True):\n",
    "#         try:\n",
    "#             #print(code)\n",
    "#             response = icd10.single_code(code)\n",
    "#             temp1 = [{'ancestor': item['ancestor']['name'].encode('utf8'), \n",
    "#                   'hierarchy': item['ancestor']['hierarchy'],\n",
    "#                   'description': item['ancestor']['description'].encode('utf8').lower()} \n",
    "#                 for item in response.body['ancestors']]\n",
    "#             temp2 = [{'converter': item['equivalent']['name'].encode('utf8'), \n",
    "#                   'system': item['equivalent']['code_system'].encode('utf8'),\n",
    "#                   'strength': item['equivalent']['relationship'].encode('utf8'),\n",
    "#                   'strength_explanation': item['equivalent']['relationship_explanation'].encode('utf8')} \n",
    "#                  for item in response.body['equivalents']]\n",
    "#             if flag:\n",
    "#                 temp1.append({'ancestor': response.body['name'].encode('utf8'),\n",
    "#                               'hierarchy': max([item['ancestor']['hierarchy']\n",
    "#                                                 for item in response.body['ancestors']])+1,\n",
    "#                               'description': response.body['description'].encode('utf8')})\n",
    "#             break\n",
    "#         except:\n",
    "#             if(len(code)<6):\n",
    "#                 temp1=['Null']\n",
    "#                 temp2=['Null']\n",
    "#                 break\n",
    "#             code=code[:len(code)-1]\n",
    "#             flag=True\n",
    "#             #print('error again')\n",
    "\n",
    "#     ancestor_description.append(temp1)\n",
    "#     converter.append(temp2)\n",
    "#     #print(temp1, temp2)"
   ]
  },
  {
   "cell_type": "code",
   "execution_count": null,
   "metadata": {
    "collapsed": true
   },
   "outputs": [],
   "source": [
    "converter_snomed=[[{'code': i['converter'], 'strength': i['strength_explanation']} \n",
    "                   for i in item if i['system']=='SNOMED (concept)']\n",
    "                  for item in converter]\n",
    "converter_icd9=[[{'code': i['converter'], 'strength': i['strength_explanation']} \n",
    "                   for i in item if i['system']=='ICD-9']\n",
    "                 for item in converter]"
   ]
  },
  {
   "cell_type": "code",
   "execution_count": null,
   "metadata": {
    "collapsed": false
   },
   "outputs": [],
   "source": [
    "ICD_10_df['ancestors_all'] = ancestor_description\n",
    "ICD_10_df['converter_snomed'] = converter_snomed\n",
    "ICD_10_df['converter_icd9'] = converter_icd9\n",
    "ICD_10_df.head()"
   ]
  },
  {
   "cell_type": "code",
   "execution_count": null,
   "metadata": {
    "collapsed": true
   },
   "outputs": [],
   "source": [
    "ICD_10_df.to_pickle(path+'ICD_10_library_df.pickle')"
   ]
  },
  {
   "cell_type": "code",
   "execution_count": null,
   "metadata": {
    "collapsed": false
   },
   "outputs": [],
   "source": [
    "max([len(item) for item in ancestor_description])"
   ]
  },
  {
   "cell_type": "code",
   "execution_count": null,
   "metadata": {
    "collapsed": false
   },
   "outputs": [],
   "source": [
    "max([len(item) for item in converter_snomed])"
   ]
  },
  {
   "cell_type": "code",
   "execution_count": null,
   "metadata": {
    "collapsed": false
   },
   "outputs": [],
   "source": [
    "max([len(item) for item in converter_icd9])"
   ]
  },
  {
   "cell_type": "code",
   "execution_count": 47,
   "metadata": {
    "collapsed": false
   },
   "outputs": [
    {
     "data": {
      "text/html": [
       "<div>\n",
       "<table border=\"1\" class=\"dataframe\">\n",
       "  <thead>\n",
       "    <tr style=\"text-align: right;\">\n",
       "      <th></th>\n",
       "      <th>codes</th>\n",
       "      <th>official_explanation</th>\n",
       "      <th>ancestor</th>\n",
       "      <th>ancestors_all</th>\n",
       "      <th>converter_snomed</th>\n",
       "      <th>converter_icd9</th>\n",
       "    </tr>\n",
       "  </thead>\n",
       "  <tbody>\n",
       "    <tr>\n",
       "      <th>0</th>\n",
       "      <td>A51.43</td>\n",
       "      <td>Secondary syphilitic oculopathy</td>\n",
       "      <td>A51</td>\n",
       "      <td>[{u'hierarchy': 1, u'ancestor': u'A00-B99', u'...</td>\n",
       "      <td>[{u'code': u'30080002', u'strength': u'[1.1] -...</td>\n",
       "      <td>[{u'code': u'091.50', u'strength': u'nearly id...</td>\n",
       "    </tr>\n",
       "    <tr>\n",
       "      <th>1</th>\n",
       "      <td>A92.0</td>\n",
       "      <td>Chikungunya virus disease</td>\n",
       "      <td>A92</td>\n",
       "      <td>[{u'hierarchy': 1, u'ancestor': u'A00-B99', u'...</td>\n",
       "      <td>[{u'code': u'111864006', u'strength': u'[1.1] ...</td>\n",
       "      <td>[{u'code': u'065.4', u'strength': u'nearly ide...</td>\n",
       "    </tr>\n",
       "    <tr>\n",
       "      <th>2</th>\n",
       "      <td>B00.52</td>\n",
       "      <td>Herpesviral keratitis</td>\n",
       "      <td>B00</td>\n",
       "      <td>[{u'hierarchy': 1, u'ancestor': u'A00-B99', u'...</td>\n",
       "      <td>[{u'code': u'9389005', u'strength': u'[1.2] - ...</td>\n",
       "      <td>[{u'code': u'054.42', u'strength': u'nearly id...</td>\n",
       "    </tr>\n",
       "    <tr>\n",
       "      <th>3</th>\n",
       "      <td>B00.59</td>\n",
       "      <td>Other herpesviral disease of eye</td>\n",
       "      <td>B00</td>\n",
       "      <td>[{u'hierarchy': 1, u'ancestor': u'A00-B99', u'...</td>\n",
       "      <td>[{u'code': u'27023008', u'strength': u'[1.2] -...</td>\n",
       "      <td>[{u'code': u'054.41', u'strength': u'nearly id...</td>\n",
       "    </tr>\n",
       "    <tr>\n",
       "      <th>4</th>\n",
       "      <td>B00.9</td>\n",
       "      <td>Herpesviral infection, unspecified</td>\n",
       "      <td>B00</td>\n",
       "      <td>[{u'hierarchy': 1, u'ancestor': u'A00-B99', u'...</td>\n",
       "      <td>[{u'code': u'23513009', u'strength': u'[1.1] -...</td>\n",
       "      <td>[{u'code': u'054.8', u'strength': u'nearly ide...</td>\n",
       "    </tr>\n",
       "  </tbody>\n",
       "</table>\n",
       "</div>"
      ],
      "text/plain": [
       "    codes                official_explanation ancestor  \\\n",
       "0  A51.43     Secondary syphilitic oculopathy      A51   \n",
       "1   A92.0           Chikungunya virus disease      A92   \n",
       "2  B00.52               Herpesviral keratitis      B00   \n",
       "3  B00.59    Other herpesviral disease of eye      B00   \n",
       "4   B00.9  Herpesviral infection, unspecified      B00   \n",
       "\n",
       "                                       ancestors_all  \\\n",
       "0  [{u'hierarchy': 1, u'ancestor': u'A00-B99', u'...   \n",
       "1  [{u'hierarchy': 1, u'ancestor': u'A00-B99', u'...   \n",
       "2  [{u'hierarchy': 1, u'ancestor': u'A00-B99', u'...   \n",
       "3  [{u'hierarchy': 1, u'ancestor': u'A00-B99', u'...   \n",
       "4  [{u'hierarchy': 1, u'ancestor': u'A00-B99', u'...   \n",
       "\n",
       "                                    converter_snomed  \\\n",
       "0  [{u'code': u'30080002', u'strength': u'[1.1] -...   \n",
       "1  [{u'code': u'111864006', u'strength': u'[1.1] ...   \n",
       "2  [{u'code': u'9389005', u'strength': u'[1.2] - ...   \n",
       "3  [{u'code': u'27023008', u'strength': u'[1.2] -...   \n",
       "4  [{u'code': u'23513009', u'strength': u'[1.1] -...   \n",
       "\n",
       "                                      converter_icd9  \n",
       "0  [{u'code': u'091.50', u'strength': u'nearly id...  \n",
       "1  [{u'code': u'065.4', u'strength': u'nearly ide...  \n",
       "2  [{u'code': u'054.42', u'strength': u'nearly id...  \n",
       "3  [{u'code': u'054.41', u'strength': u'nearly id...  \n",
       "4  [{u'code': u'054.8', u'strength': u'nearly ide...  "
      ]
     },
     "execution_count": 47,
     "metadata": {},
     "output_type": "execute_result"
    }
   ],
   "source": [
    "ICD_10_df=pd.read_pickle(path+'ICD_10_library_df.pickle')\n",
    "ICD_10_df.head()"
   ]
  },
  {
   "cell_type": "markdown",
   "metadata": {},
   "source": [
    "### Add a column of system name to the icd df and write into a pickle file"
   ]
  },
  {
   "cell_type": "code",
   "execution_count": 60,
   "metadata": {
    "collapsed": false
   },
   "outputs": [],
   "source": [
    "temp=df.copy()\n",
    "temp=temp.drop(['Enc_Date'], axis = 1)"
   ]
  },
  {
   "cell_type": "code",
   "execution_count": 64,
   "metadata": {
    "collapsed": false
   },
   "outputs": [],
   "source": [
    "def classify(code):\n",
    "    if code in ICD_9_dictionary.keys():\n",
    "        return 'icd9'\n",
    "    elif code in ICD_10_dictionary.keys():\n",
    "        return 'icd10'\n",
    "    elif code in ICD_9_PCS_dictionary.keys():\n",
    "        return 'icd9_PCS'\n",
    "temp['System']=temp.Diagnosis_Code_ID.map(lambda x: classify(x))"
   ]
  },
  {
   "cell_type": "code",
   "execution_count": 65,
   "metadata": {
    "collapsed": false
   },
   "outputs": [
    {
     "data": {
      "text/html": [
       "<div>\n",
       "<table border=\"1\" class=\"dataframe\">\n",
       "  <thead>\n",
       "    <tr style=\"text-align: right;\">\n",
       "      <th></th>\n",
       "      <th>Person_ID</th>\n",
       "      <th>Person_Nbr</th>\n",
       "      <th>Enc_ID</th>\n",
       "      <th>Enc_Nbr</th>\n",
       "      <th>Enc_Timestamp</th>\n",
       "      <th>Diagnosis_Code_ID</th>\n",
       "      <th>Description</th>\n",
       "      <th>System</th>\n",
       "    </tr>\n",
       "  </thead>\n",
       "  <tbody>\n",
       "    <tr>\n",
       "      <th>194529</th>\n",
       "      <td>80d3df88-dddf-5ad3-7cc1-b7b1ac6151fa</td>\n",
       "      <td>33</td>\n",
       "      <td>97825c51-4462-eade-1c1d-2baa3400c033</td>\n",
       "      <td>123227</td>\n",
       "      <td>2014-12-18 14:00:00</td>\n",
       "      <td>367.4</td>\n",
       "      <td>Presbyopia</td>\n",
       "      <td>icd9</td>\n",
       "    </tr>\n",
       "    <tr>\n",
       "      <th>194530</th>\n",
       "      <td>80d3df88-dddf-5ad3-7cc1-b7b1ac6151fa</td>\n",
       "      <td>33</td>\n",
       "      <td>97825c51-4462-eade-1c1d-2baa3400c033</td>\n",
       "      <td>123227</td>\n",
       "      <td>2014-12-18 14:00:00</td>\n",
       "      <td>373.00</td>\n",
       "      <td>Blepharitis unspecified</td>\n",
       "      <td>icd9</td>\n",
       "    </tr>\n",
       "    <tr>\n",
       "      <th>194531</th>\n",
       "      <td>80d3df88-dddf-5ad3-7cc1-b7b1ac6151fa</td>\n",
       "      <td>33</td>\n",
       "      <td>97825c51-4462-eade-1c1d-2baa3400c033</td>\n",
       "      <td>123227</td>\n",
       "      <td>2014-12-18 14:00:00</td>\n",
       "      <td>250.00</td>\n",
       "      <td>Diabetes mellitus without mention of complicat...</td>\n",
       "      <td>icd9</td>\n",
       "    </tr>\n",
       "    <tr>\n",
       "      <th>136763</th>\n",
       "      <td>adca6fa4-e7d4-d7f8-cf41-27056662d84b</td>\n",
       "      <td>89</td>\n",
       "      <td>a6d9d991-4ff4-79b5-304d-f1b2bff9d6d0</td>\n",
       "      <td>12870648</td>\n",
       "      <td>2012-10-16 03:45:00</td>\n",
       "      <td>365.02</td>\n",
       "      <td>Anatomical narrow angle borderline glaucoma</td>\n",
       "      <td>icd9</td>\n",
       "    </tr>\n",
       "    <tr>\n",
       "      <th>136764</th>\n",
       "      <td>adca6fa4-e7d4-d7f8-cf41-27056662d84b</td>\n",
       "      <td>89</td>\n",
       "      <td>a6d9d991-4ff4-79b5-304d-f1b2bff9d6d0</td>\n",
       "      <td>12870648</td>\n",
       "      <td>2012-10-16 03:45:00</td>\n",
       "      <td>250.00</td>\n",
       "      <td>Diabetes Mellitus Type 2 Uncomplicated</td>\n",
       "      <td>icd9</td>\n",
       "    </tr>\n",
       "  </tbody>\n",
       "</table>\n",
       "</div>"
      ],
      "text/plain": [
       "                                   Person_ID  Person_Nbr  \\\n",
       "194529  80d3df88-dddf-5ad3-7cc1-b7b1ac6151fa          33   \n",
       "194530  80d3df88-dddf-5ad3-7cc1-b7b1ac6151fa          33   \n",
       "194531  80d3df88-dddf-5ad3-7cc1-b7b1ac6151fa          33   \n",
       "136763  adca6fa4-e7d4-d7f8-cf41-27056662d84b          89   \n",
       "136764  adca6fa4-e7d4-d7f8-cf41-27056662d84b          89   \n",
       "\n",
       "                                      Enc_ID   Enc_Nbr       Enc_Timestamp  \\\n",
       "194529  97825c51-4462-eade-1c1d-2baa3400c033    123227 2014-12-18 14:00:00   \n",
       "194530  97825c51-4462-eade-1c1d-2baa3400c033    123227 2014-12-18 14:00:00   \n",
       "194531  97825c51-4462-eade-1c1d-2baa3400c033    123227 2014-12-18 14:00:00   \n",
       "136763  a6d9d991-4ff4-79b5-304d-f1b2bff9d6d0  12870648 2012-10-16 03:45:00   \n",
       "136764  a6d9d991-4ff4-79b5-304d-f1b2bff9d6d0  12870648 2012-10-16 03:45:00   \n",
       "\n",
       "       Diagnosis_Code_ID                                        Description  \\\n",
       "194529             367.4                                         Presbyopia   \n",
       "194530            373.00                            Blepharitis unspecified   \n",
       "194531            250.00  Diabetes mellitus without mention of complicat...   \n",
       "136763            365.02        Anatomical narrow angle borderline glaucoma   \n",
       "136764            250.00             Diabetes Mellitus Type 2 Uncomplicated   \n",
       "\n",
       "       System  \n",
       "194529   icd9  \n",
       "194530   icd9  \n",
       "194531   icd9  \n",
       "136763   icd9  \n",
       "136764   icd9  "
      ]
     },
     "execution_count": 65,
     "metadata": {},
     "output_type": "execute_result"
    }
   ],
   "source": [
    "temp.head()"
   ]
  },
  {
   "cell_type": "code",
   "execution_count": 67,
   "metadata": {
    "collapsed": true
   },
   "outputs": [],
   "source": [
    "temp.to_pickle(path+'ICD_for_Enc_processed_Dan_20170304.pickle')"
   ]
  },
  {
   "cell_type": "markdown",
   "metadata": {},
   "source": [
    "### How many patients have diabetes or DR?"
   ]
  },
  {
   "cell_type": "code",
   "execution_count": 48,
   "metadata": {
    "collapsed": false
   },
   "outputs": [],
   "source": [
    "temp={k:[item[:3] for item in v.drop_duplicates() if item not in ICD_9_PCS_dictionary.keys()]\n",
    " for k,v in df.groupby('Person_Nbr').Diagnosis_Code_ID}"
   ]
  },
  {
   "cell_type": "code",
   "execution_count": 49,
   "metadata": {
    "collapsed": true
   },
   "outputs": [],
   "source": [
    "diabetes_code=['250','E08','E09','E10','E11','E13','O24']"
   ]
  },
  {
   "cell_type": "code",
   "execution_count": 50,
   "metadata": {
    "collapsed": true
   },
   "outputs": [],
   "source": [
    "diabetes=[k for k,v in temp.items() if len(set(v)&set(diabetes_code))>0]"
   ]
  },
  {
   "cell_type": "code",
   "execution_count": 51,
   "metadata": {
    "collapsed": true
   },
   "outputs": [],
   "source": [
    "non_diabetes=[k for k,v in temp.items() if len(set(v)&set(diabetes_code))==0]"
   ]
  },
  {
   "cell_type": "code",
   "execution_count": 52,
   "metadata": {
    "collapsed": false
   },
   "outputs": [
    {
     "data": {
      "text/plain": [
       "4698"
      ]
     },
     "execution_count": 52,
     "metadata": {},
     "output_type": "execute_result"
    }
   ],
   "source": [
    "len(non_diabetes)"
   ]
  },
  {
   "cell_type": "code",
   "execution_count": 53,
   "metadata": {
    "collapsed": false
   },
   "outputs": [
    {
     "data": {
      "text/plain": [
       "2475"
      ]
     },
     "execution_count": 53,
     "metadata": {},
     "output_type": "execute_result"
    }
   ],
   "source": [
    "temp=sorted({k:len(v.Person_Nbr.drop_duplicates())\n",
    " for k,v in df[df.Person_Nbr.isin(non_diabetes)].groupby('Diagnosis_Code_ID') if k[:5]=='362.0'}.items(), \n",
    "            key=lambda x:x[1], reverse=True)[:10]\n",
    "sum([k[1] for k in temp])"
   ]
  },
  {
   "cell_type": "code",
   "execution_count": 54,
   "metadata": {
    "collapsed": false
   },
   "outputs": [
    {
     "data": {
      "text/html": [
       "<div>\n",
       "<table border=\"1\" class=\"dataframe\">\n",
       "  <thead>\n",
       "    <tr style=\"text-align: right;\">\n",
       "      <th></th>\n",
       "      <th>codes</th>\n",
       "      <th>official_explanation</th>\n",
       "      <th>ancestor</th>\n",
       "      <th>ancestors_all</th>\n",
       "      <th>converter_snomed</th>\n",
       "      <th>converter_icd10</th>\n",
       "    </tr>\n",
       "  </thead>\n",
       "  <tbody>\n",
       "    <tr>\n",
       "      <th>222</th>\n",
       "      <td>362.01</td>\n",
       "      <td>Background diabetic retinopathy</td>\n",
       "      <td>362</td>\n",
       "      <td>[{u'ancestor': u'320-389', u'description': u'd...</td>\n",
       "      <td>[{u'code': u'390834004', u'strength': u'comple...</td>\n",
       "      <td>[{u'code': u'E11.319', u'strength': u'nearly i...</td>\n",
       "    </tr>\n",
       "    <tr>\n",
       "      <th>223</th>\n",
       "      <td>362.02</td>\n",
       "      <td>Proliferative diabetic retinopathy</td>\n",
       "      <td>362</td>\n",
       "      <td>[{u'ancestor': u'320-389', u'description': u'd...</td>\n",
       "      <td>[{u'code': u'59276001', u'strength': u'complet...</td>\n",
       "      <td>[{u'code': u'E11.359', u'strength': u'nearly i...</td>\n",
       "    </tr>\n",
       "    <tr>\n",
       "      <th>224</th>\n",
       "      <td>362.03</td>\n",
       "      <td>Nonproliferative diabetic retinopathy NOS</td>\n",
       "      <td>362</td>\n",
       "      <td>[{u'ancestor': u'320-389', u'description': u'd...</td>\n",
       "      <td>[{u'code': u'390834004', u'strength': u'comple...</td>\n",
       "      <td>[{u'code': u'E11.329', u'strength': u'nearly i...</td>\n",
       "    </tr>\n",
       "    <tr>\n",
       "      <th>225</th>\n",
       "      <td>362.04</td>\n",
       "      <td>Mild nonproliferative diabetic retinopathy</td>\n",
       "      <td>362</td>\n",
       "      <td>[{u'ancestor': u'320-389', u'description': u'd...</td>\n",
       "      <td>[{u'code': u'312903003', u'strength': u'comple...</td>\n",
       "      <td>[{u'code': u'E11.329', u'strength': u'nearly i...</td>\n",
       "    </tr>\n",
       "    <tr>\n",
       "      <th>226</th>\n",
       "      <td>362.05</td>\n",
       "      <td>Moderate nonproliferative diabetic retinopathy</td>\n",
       "      <td>362</td>\n",
       "      <td>[{u'ancestor': u'320-389', u'description': u'd...</td>\n",
       "      <td>[{u'code': u'312904009', u'strength': u'comple...</td>\n",
       "      <td>[{u'code': u'E11.339', u'strength': u'nearly i...</td>\n",
       "    </tr>\n",
       "    <tr>\n",
       "      <th>227</th>\n",
       "      <td>362.06</td>\n",
       "      <td>Severe nonproliferative diabetic retinopathy</td>\n",
       "      <td>362</td>\n",
       "      <td>[{u'ancestor': u'320-389', u'description': u'd...</td>\n",
       "      <td>[{u'code': u'312905005', u'strength': u'comple...</td>\n",
       "      <td>[{u'code': u'E11.349', u'strength': u'nearly i...</td>\n",
       "    </tr>\n",
       "    <tr>\n",
       "      <th>228</th>\n",
       "      <td>362.07</td>\n",
       "      <td>Diabetic macular edema</td>\n",
       "      <td>362</td>\n",
       "      <td>[{u'ancestor': u'320-389', u'description': u'd...</td>\n",
       "      <td>[{u'code': u'312912001', u'strength': u'comple...</td>\n",
       "      <td>[{u'code': u'E11.311', u'strength': u'nearly i...</td>\n",
       "    </tr>\n",
       "  </tbody>\n",
       "</table>\n",
       "</div>"
      ],
      "text/plain": [
       "      codes                            official_explanation ancestor  \\\n",
       "222  362.01                 Background diabetic retinopathy      362   \n",
       "223  362.02              Proliferative diabetic retinopathy      362   \n",
       "224  362.03       Nonproliferative diabetic retinopathy NOS      362   \n",
       "225  362.04      Mild nonproliferative diabetic retinopathy      362   \n",
       "226  362.05  Moderate nonproliferative diabetic retinopathy      362   \n",
       "227  362.06    Severe nonproliferative diabetic retinopathy      362   \n",
       "228  362.07                          Diabetic macular edema      362   \n",
       "\n",
       "                                         ancestors_all  \\\n",
       "222  [{u'ancestor': u'320-389', u'description': u'd...   \n",
       "223  [{u'ancestor': u'320-389', u'description': u'd...   \n",
       "224  [{u'ancestor': u'320-389', u'description': u'd...   \n",
       "225  [{u'ancestor': u'320-389', u'description': u'd...   \n",
       "226  [{u'ancestor': u'320-389', u'description': u'd...   \n",
       "227  [{u'ancestor': u'320-389', u'description': u'd...   \n",
       "228  [{u'ancestor': u'320-389', u'description': u'd...   \n",
       "\n",
       "                                      converter_snomed  \\\n",
       "222  [{u'code': u'390834004', u'strength': u'comple...   \n",
       "223  [{u'code': u'59276001', u'strength': u'complet...   \n",
       "224  [{u'code': u'390834004', u'strength': u'comple...   \n",
       "225  [{u'code': u'312903003', u'strength': u'comple...   \n",
       "226  [{u'code': u'312904009', u'strength': u'comple...   \n",
       "227  [{u'code': u'312905005', u'strength': u'comple...   \n",
       "228  [{u'code': u'312912001', u'strength': u'comple...   \n",
       "\n",
       "                                       converter_icd10  \n",
       "222  [{u'code': u'E11.319', u'strength': u'nearly i...  \n",
       "223  [{u'code': u'E11.359', u'strength': u'nearly i...  \n",
       "224  [{u'code': u'E11.329', u'strength': u'nearly i...  \n",
       "225  [{u'code': u'E11.329', u'strength': u'nearly i...  \n",
       "226  [{u'code': u'E11.339', u'strength': u'nearly i...  \n",
       "227  [{u'code': u'E11.349', u'strength': u'nearly i...  \n",
       "228  [{u'code': u'E11.311', u'strength': u'nearly i...  "
      ]
     },
     "execution_count": 54,
     "metadata": {},
     "output_type": "execute_result"
    }
   ],
   "source": [
    "ICD_9_df[ICD_9_df.codes.isin([k[0] for k in temp])]"
   ]
  },
  {
   "cell_type": "code",
   "execution_count": 55,
   "metadata": {
    "collapsed": false
   },
   "outputs": [
    {
     "data": {
      "text/plain": [
       "222    [{u'code': u'E11.319', u'strength': u'nearly i...\n",
       "Name: converter_icd10, dtype: object"
      ]
     },
     "execution_count": 55,
     "metadata": {},
     "output_type": "execute_result"
    }
   ],
   "source": [
    "index=ICD_9_df[ICD_9_df.codes=='362.01'].index\n",
    "ICD_9_df.ix[index,'converter_icd10']"
   ]
  },
  {
   "cell_type": "code",
   "execution_count": null,
   "metadata": {
    "collapsed": true
   },
   "outputs": [],
   "source": []
  }
 ],
 "metadata": {
  "kernelspec": {
   "display_name": "Python 2",
   "language": "python",
   "name": "python2"
  },
  "language_info": {
   "codemirror_mode": {
    "name": "ipython",
    "version": 2
   },
   "file_extension": ".py",
   "mimetype": "text/x-python",
   "name": "python",
   "nbconvert_exporter": "python",
   "pygments_lexer": "ipython2",
   "version": "2.7.13"
  }
 },
 "nbformat": 4,
 "nbformat_minor": 2
}
