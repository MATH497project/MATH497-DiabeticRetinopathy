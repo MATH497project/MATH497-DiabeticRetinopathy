{
 "cells": [
  {
   "cell_type": "code",
   "execution_count": 1,
   "metadata": {
    "collapsed": false
   },
   "outputs": [],
   "source": [
    "import reader\n",
    "import numpy as np\n",
    "import pandas as pd\n",
    "import os"
   ]
  },
  {
   "cell_type": "markdown",
   "metadata": {},
   "source": [
    "First read in the original data"
   ]
  },
  {
   "cell_type": "code",
   "execution_count": 2,
   "metadata": {
    "collapsed": false,
    "scrolled": false
   },
   "outputs": [],
   "source": [
    "import re\n",
    "data = pd.read_pickle(os.getcwd() + '/data/all_encounter_data.pickle')"
   ]
  },
  {
   "cell_type": "markdown",
   "metadata": {},
   "source": [
    "repeat the processing with all_encounter_data in ICO.py"
   ]
  },
  {
   "cell_type": "code",
   "execution_count": 3,
   "metadata": {
    "collapsed": false
   },
   "outputs": [],
   "source": [
    "d_enc = data.drop([\"Enc_ID\",\"Person_ID\"], axis=1)\n",
    "\n",
    "pattern0= re.compile(\"\\d+\\s*\\/\\s*\\d+\")\n",
    "index1 = d_enc['Glucose'].str.contains(pattern0, na=False)\n",
    "temp = d_enc.loc[index1, 'Glucose']\n",
    "d_enc.loc[index1, 'Glucose'] = d_enc.loc[index1, 'BP']\n",
    "d_enc.loc[index1, 'BP'] = temp\n",
    "\n",
    "index2 = d_enc.BP[d_enc.BP.notnull()][~d_enc.BP[d_enc.BP.notnull()].str.contains('/')].index\n",
    "temp = d_enc.loc[index2, 'Glucose']\n",
    "d_enc.loc[index2, 'Glucose'] = d_enc.loc[index2, 'BP']\n",
    "d_enc.loc[index2, 'BP'] = temp\n",
    "\n",
    "# Split up the BP field into Systolic and Diastolic readings\n",
    "pattern1 = re.compile(\"(?P<BP_Systolic>\\d+)\\s*\\/\\s*(?P<BP_Diastolic>\\d+)\")\n",
    "d_enc = pd.merge(d_enc, d_enc[\"BP\"].str.extract(pattern1, expand=True),\n",
    "                 left_index=True, right_index=True).drop(\"BP\", axis=1)\n",
    "\n",
    "# Define ranges for reasonable values. Identify the data outside of 1.5 times of IQR as outliers\n",
    "NaN = float(\"NaN\")\n",
    "quantitive_columns=['A1C', 'BMI', 'Glucose', 'BP_Diastolic', 'BP_Systolic']"
   ]
  },
  {
   "cell_type": "code",
   "execution_count": 4,
   "metadata": {
    "collapsed": false
   },
   "outputs": [
    {
     "name": "stdout",
     "output_type": "stream",
     "text": [
      "(11850, 12793, 82432)\n",
      "('A1C', 2.6000000000000005, 11.6)\n",
      "(21888, 22198, 82432)\n",
      "('BMI', 8.319999999999993, 55.29500000000001)\n",
      "(29150, 30461, 82432)\n",
      "('Glucose', 16.0, 246.0)\n",
      "(37922, 38226, 82432)\n",
      "('BP_Diastolic', 40.0, 115.0)\n",
      "(37758, 38226, 82432)\n",
      "('BP_Systolic', 74.0, 194.0)\n"
     ]
    }
   ],
   "source": [
    "for column in quantitive_columns:\n",
    "    d_enc[column] = pd.to_numeric(d_enc[column], errors='coerce')\n",
    "    temp = d_enc[column][d_enc[column].notnull()]\n",
    "    \n",
    "    Q2 = temp.quantile(0.75)\n",
    "    Q1 = temp.quantile(0.25)\n",
    "    IQR = Q2-Q1\n",
    "        \n",
    "    print(temp[Q1 - 2 * IQR < temp][temp[Q1 - 2 * IQR < temp] < Q2 + 2 * IQR].shape[0], temp.shape[0], d_enc.shape[0])\n",
    "    print(column, Q1 - 2 * IQR, Q2 + 2 * IQR)"
   ]
  },
  {
   "cell_type": "code",
   "execution_count": 5,
   "metadata": {
    "collapsed": false
   },
   "outputs": [
    {
     "name": "stdout",
     "output_type": "stream",
     "text": [
      "(11467, 12793, 82432)\n",
      "('A1C', 3.5000000000000004, 10.7)\n",
      "(21566, 22198, 82432)\n",
      "('BMI', 13.017499999999995, 50.59750000000001)\n",
      "(28517, 30461, 82432)\n",
      "('Glucose', 39.0, 223.0)\n",
      "(37383, 38226, 82432)\n",
      "('BP_Diastolic', 47.5, 107.5)\n",
      "(37164, 38226, 82432)\n",
      "('BP_Systolic', 86.0, 182.0)\n"
     ]
    }
   ],
   "source": [
    "for column in quantitive_columns:\n",
    "    d_enc[column] = pd.to_numeric(d_enc[column], errors='coerce')\n",
    "    temp = d_enc[column][d_enc[column].notnull()]\n",
    "    \n",
    "    Q2 = temp.quantile(0.75)\n",
    "    Q1 = temp.quantile(0.25)\n",
    "    IQR = Q2-Q1\n",
    "        \n",
    "    print(temp[Q1 - 1.5 * IQR < temp][temp[Q1 - 1.5 * IQR < temp] < Q2 + 1.5 * IQR].shape[0], temp.shape[0], d_enc.shape[0])\n",
    "    print(column, Q1 - 1.5 * IQR, Q2 + 1.5 * IQR)"
   ]
  },
  {
   "cell_type": "markdown",
   "metadata": {},
   "source": [
    "After setting up the standard range of outliers, we lost at most 600 points for each variable in all_encounter_data. (And set the times of IQR from 1.5 to 2 does not really remain as many points as I was expecting. So I choose the standard times of 1.5)"
   ]
  },
  {
   "cell_type": "markdown",
   "metadata": {},
   "source": [
    "And after removing the outliers, the variables seem a lot more normal distributed."
   ]
  },
  {
   "cell_type": "code",
   "execution_count": 6,
   "metadata": {
    "collapsed": false,
    "scrolled": false
   },
   "outputs": [
    {
     "data": {
      "image/png": "[encoded data removed]",
      "text/plain": [
       "<matplotlib.figure.Figure at 0x112529590>"
      ]
     },
     "metadata": {},
     "output_type": "display_data"
    },
    {
     "data": {
      "image/png": "[encoded data removed]",
      "text/plain": [
       "<matplotlib.figure.Figure at 0x1127b7090>"
      ]
     },
     "metadata": {},
     "output_type": "display_data"
    },
    {
     "data": {
      "image/png": "[encoded data removed]",
      "text/plain": [
       "<matplotlib.figure.Figure at 0x1114e4f90>"
      ]
     },
     "metadata": {},
     "output_type": "display_data"
    },
    {
     "data": {
      "image/png": "[encoded data removed]",
      "text/plain": [
       "<matplotlib.figure.Figure at 0x10df65f10>"
      ]
     },
     "metadata": {},
     "output_type": "display_data"
    },
    {
     "data": {
      "image/png": "[encoded data removed]",
      "text/plain": [
       "<matplotlib.figure.Figure at 0x1133a6090>"
      ]
     },
     "metadata": {},
     "output_type": "display_data"
    }
   ],
   "source": [
    "import matplotlib.pyplot as plt\n",
    "for column in quantitive_columns:\n",
    "    f, (ax1, ax2) = plt.subplots(1, 2, sharey=True)\n",
    "\n",
    "    temp0 = pd.to_numeric(d_enc[column], errors='coerce')\n",
    "    ax1.hist(temp0[temp0.notnull()])\n",
    "    ax1.set_title('before')\n",
    "    \n",
    "    \n",
    "    temp = temp0[temp0.notnull()]\n",
    "    \n",
    "    Q2 = temp.quantile(0.75)\n",
    "    Q1 = temp.quantile(0.25)\n",
    "    IQR = Q2-Q1\n",
    "        \n",
    "    d_enc[column] = temp0.map(lambda x: x if Q1 - 1.5 * IQR < x < Q2 + 1.5 * IQR else NaN)\n",
    "    ax2.hist(d_enc[column][d_enc[column].notnull()])\n",
    "    ax2.set_title('after')\n",
    "    \n",
    "    f.suptitle(column)\n",
    "    \n",
    "    \n",
    "plt.show()"
   ]
  },
  {
   "cell_type": "markdown",
   "metadata": {},
   "source": [
    "What about we crush all_encounter_data to all_person_data by group Person_Nbr?"
   ]
  },
  {
   "cell_type": "code",
   "execution_count": 7,
   "metadata": {
    "collapsed": true
   },
   "outputs": [],
   "source": [
    "person_data_old = pd.read_pickle(os.getcwd() + '/data/all_person_data_Richard_20170307.pickle')\n",
    "person_data_new = pd.read_pickle(os.getcwd() + '/data/all_person_data_Dan_20170406.pickle')"
   ]
  },
  {
   "cell_type": "code",
   "execution_count": 8,
   "metadata": {
    "collapsed": false
   },
   "outputs": [
    {
     "data": {
      "text/plain": [
       "A1C             0.683896\n",
       "BMI             0.584450\n",
       "Glucose         0.329509\n",
       "BP_Diastolic    0.091714\n",
       "BP_Systolic     0.091839\n",
       "dtype: float64"
      ]
     },
     "execution_count": 8,
     "metadata": {},
     "output_type": "execute_result"
    }
   ],
   "source": [
    "person_data_old[quantitive_columns].isnull().sum(axis=0)/person_data_old.shape[0]"
   ]
  },
  {
   "cell_type": "code",
   "execution_count": 9,
   "metadata": {
    "collapsed": false
   },
   "outputs": [
    {
     "data": {
      "text/plain": [
       "A1C             0.706465\n",
       "BMI             0.596421\n",
       "Glucose         0.365422\n",
       "BP_Diastolic    0.103809\n",
       "BP_Systolic     0.104807\n",
       "dtype: float64"
      ]
     },
     "execution_count": 9,
     "metadata": {},
     "output_type": "execute_result"
    }
   ],
   "source": [
    "person_data_new[quantitive_columns].isnull().sum(axis=0)/person_data_new.shape[0]"
   ]
  },
  {
   "cell_type": "markdown",
   "metadata": {},
   "source": [
    "From above we can tell, after I identify the outliers, no more than 4% points of each variable are removed, which is acceptable for me."
   ]
  },
  {
   "cell_type": "code",
   "execution_count": 10,
   "metadata": {
    "collapsed": false
   },
   "outputs": [
    {
     "data": {
      "image/png": "[encoded data removed]",
      "text/plain": [
       "<matplotlib.figure.Figure at 0x1082d0190>"
      ]
     },
     "metadata": {},
     "output_type": "display_data"
    }
   ],
   "source": [
    "plt.bar(range(0,5),\n",
    "        person_data_new[quantitive_columns].isnull().sum(axis=0)/person_data_new.shape[0])\n",
    "plt.gca().set_ylim([0,1])\n",
    "plt.xticks(range(0,5), quantitive_columns)\n",
    "plt.ylabel('Missing value percentage')\n",
    "plt.xlabel('Quantative variables')\n",
    "plt.show()"
   ]
  },
  {
   "cell_type": "markdown",
   "metadata": {},
   "source": [
    "## Get the dummy value for the categorical features"
   ]
  },
  {
   "cell_type": "code",
   "execution_count": 11,
   "metadata": {
    "collapsed": false
   },
   "outputs": [],
   "source": [
    "dummy_columns = ['DM', 'ME', 'Glaucoma_Suspect', 'Open_angle_Glaucoma', 'Cataract']\n",
    "categorical_columns = ['Gender', 'Race']\n",
    "for column in categorical_columns:\n",
    "    temp = pd.get_dummies(person_data_new[column], prefix=column)\n",
    "    person_data_new[temp.columns.values]=temp\n",
    "    dummy_columns.extend(temp.columns.values.tolist())"
   ]
  },
  {
   "cell_type": "markdown",
   "metadata": {},
   "source": [
    "## Group the quantitive features by Age and Gender\n",
    "But there are still null values within the grouped mean values."
   ]
  },
  {
   "cell_type": "code",
   "execution_count": 12,
   "metadata": {
    "collapsed": false
   },
   "outputs": [],
   "source": [
    "temp = person_data_new.copy()\n",
    "mean_value = temp.groupby(['Gender', pd.cut(temp['Age'], 6)]).apply(\n",
    "    lambda x: x['A1C'][x['A1C'].notnull()].mean())\n",
    "missing_index = temp.groupby(['Gender', pd.cut(temp['Age'], 6)]).apply(\n",
    "    lambda x: x['A1C'][x['A1C'].isnull()])\n",
    "for i in mean_value.index.to_series().tolist():\n",
    "    if i in missing_index.index:\n",
    "        temp.set_value(missing_index[i].index, 'A1C', mean_value[i])"
   ]
  },
  {
   "cell_type": "code",
   "execution_count": 13,
   "metadata": {
    "collapsed": false
   },
   "outputs": [
    {
     "data": {
      "text/plain": [
       "Gender  Age         \n",
       "F       (17.904, 34]    7.539483\n",
       "        (34, 50]        7.473878\n",
       "        (50, 66]        7.292831\n",
       "        (66, 82]        6.949700\n",
       "        (82, 98]        6.800847\n",
       "        (98, 114]            NaN\n",
       "M       (17.904, 34]    7.542628\n",
       "        (34, 50]        7.567414\n",
       "        (50, 66]        7.248448\n",
       "        (66, 82]        7.042823\n",
       "        (82, 98]        6.968860\n",
       "        (98, 114]            NaN\n",
       "U       (17.904, 34]         NaN\n",
       "        (34, 50]             NaN\n",
       "        (50, 66]        8.500000\n",
       "        (66, 82]             NaN\n",
       "dtype: float64"
      ]
     },
     "execution_count": 13,
     "metadata": {},
     "output_type": "execute_result"
    }
   ],
   "source": [
    "mean_value"
   ]
  },
  {
   "cell_type": "code",
   "execution_count": 14,
   "metadata": {
    "collapsed": false,
    "scrolled": false
   },
   "outputs": [
    {
     "data": {
      "text/plain": [
       "14"
      ]
     },
     "execution_count": 14,
     "metadata": {},
     "output_type": "execute_result"
    }
   ],
   "source": [
    "temp[temp['A1C'].isnull()].shape[0]"
   ]
  },
  {
   "cell_type": "markdown",
   "metadata": {},
   "source": [
    "## Group the quantitive features by Age_group (and maybe gender)\n",
    "\n",
    "Divide patients into groups with same amount of patients by age and created a new column called Age_group"
   ]
  },
  {
   "cell_type": "markdown",
   "metadata": {},
   "source": [
    "### Divide patients into groups by quantile of age and get dummy values "
   ]
  },
  {
   "cell_type": "code",
   "execution_count": 15,
   "metadata": {
    "collapsed": true
   },
   "outputs": [],
   "source": [
    "age_group = np.array([person_data_new.Age.quantile(1.0/6*i) for i in range(1,7)])"
   ]
  },
  {
   "cell_type": "code",
   "execution_count": 16,
   "metadata": {
    "collapsed": false
   },
   "outputs": [
    {
     "data": {
      "text/plain": [
       "array([  49.,   56.,   61.,   67.,   75.,  114.])"
      ]
     },
     "execution_count": 16,
     "metadata": {},
     "output_type": "execute_result"
    }
   ],
   "source": [
    "age_group"
   ]
  },
  {
   "cell_type": "code",
   "execution_count": 17,
   "metadata": {
    "collapsed": false
   },
   "outputs": [],
   "source": [
    "person_data_new['Age_group_numeric']=person_data_new.Age.apply(lambda x: sum(age_group<x)+1)"
   ]
  },
  {
   "cell_type": "code",
   "execution_count": 18,
   "metadata": {
    "collapsed": true
   },
   "outputs": [],
   "source": [
    "age_group_dict = {1: '(18, 48]', 2: '(49, 55]', 3: '(56, 60]', 4: '(61, 66]', 5: '(67, 74]', 6: '(75, 114]'}\n",
    "person_data_new['Age_group'] = person_data_new.Age_group_numeric.apply(lambda x: age_group_dict.get(x))"
   ]
  },
  {
   "cell_type": "code",
   "execution_count": 19,
   "metadata": {
    "collapsed": false,
    "scrolled": false
   },
   "outputs": [
    {
     "data": {
      "text/plain": [
       "Age_group\n",
       "(18, 48]     2882\n",
       "(49, 55]     2779\n",
       "(56, 60]     2465\n",
       "(61, 66]     2723\n",
       "(67, 74]     2544\n",
       "(75, 114]    2646\n",
       "dtype: int64"
      ]
     },
     "execution_count": 19,
     "metadata": {},
     "output_type": "execute_result"
    }
   ],
   "source": [
    "person_data_new.groupby('Age_group').apply(lambda x: x.shape[0])"
   ]
  },
  {
   "cell_type": "code",
   "execution_count": 20,
   "metadata": {
    "collapsed": true
   },
   "outputs": [],
   "source": [
    "temp = pd.get_dummies(person_data_new['Age_group'], prefix = 'Age_group')\n",
    "person_data_new[temp.columns.values] = temp\n",
    "dummy_columns.extend(temp.columns.values.tolist())"
   ]
  },
  {
   "cell_type": "markdown",
   "metadata": {},
   "source": [
    "### The missing value percentage in different age group as following:"
   ]
  },
  {
   "cell_type": "code",
   "execution_count": 21,
   "metadata": {
    "collapsed": false
   },
   "outputs": [
    {
     "data": {
      "text/html": [
       "<div>\n",
       "<table border=\"1\" class=\"dataframe\">\n",
       "  <thead>\n",
       "    <tr style=\"text-align: right;\">\n",
       "      <th></th>\n",
       "      <th>A1C</th>\n",
       "      <th>BMI</th>\n",
       "      <th>Glucose</th>\n",
       "      <th>BP_Diastolic</th>\n",
       "      <th>BP_Systolic</th>\n",
       "    </tr>\n",
       "    <tr>\n",
       "      <th>Age_group</th>\n",
       "      <th></th>\n",
       "      <th></th>\n",
       "      <th></th>\n",
       "      <th></th>\n",
       "      <th></th>\n",
       "    </tr>\n",
       "  </thead>\n",
       "  <tbody>\n",
       "    <tr>\n",
       "      <th>(18, 48]</th>\n",
       "      <td>0.680083</td>\n",
       "      <td>0.553088</td>\n",
       "      <td>0.416724</td>\n",
       "      <td>0.134282</td>\n",
       "      <td>0.121096</td>\n",
       "    </tr>\n",
       "    <tr>\n",
       "      <th>(49, 55]</th>\n",
       "      <td>0.682979</td>\n",
       "      <td>0.565671</td>\n",
       "      <td>0.374955</td>\n",
       "      <td>0.095358</td>\n",
       "      <td>0.093559</td>\n",
       "    </tr>\n",
       "    <tr>\n",
       "      <th>(56, 60]</th>\n",
       "      <td>0.690061</td>\n",
       "      <td>0.595538</td>\n",
       "      <td>0.367546</td>\n",
       "      <td>0.088438</td>\n",
       "      <td>0.090872</td>\n",
       "    </tr>\n",
       "    <tr>\n",
       "      <th>(61, 66]</th>\n",
       "      <td>0.675725</td>\n",
       "      <td>0.602277</td>\n",
       "      <td>0.354021</td>\n",
       "      <td>0.088138</td>\n",
       "      <td>0.091811</td>\n",
       "    </tr>\n",
       "    <tr>\n",
       "      <th>(67, 74]</th>\n",
       "      <td>0.704009</td>\n",
       "      <td>0.648978</td>\n",
       "      <td>0.309748</td>\n",
       "      <td>0.097091</td>\n",
       "      <td>0.104953</td>\n",
       "    </tr>\n",
       "    <tr>\n",
       "      <th>(75, 114]</th>\n",
       "      <td>0.809146</td>\n",
       "      <td>0.620181</td>\n",
       "      <td>0.362812</td>\n",
       "      <td>0.116402</td>\n",
       "      <td>0.125094</td>\n",
       "    </tr>\n",
       "  </tbody>\n",
       "</table>\n",
       "</div>"
      ],
      "text/plain": [
       "                A1C       BMI   Glucose  BP_Diastolic  BP_Systolic\n",
       "Age_group                                                         \n",
       "(18, 48]   0.680083  0.553088  0.416724      0.134282     0.121096\n",
       "(49, 55]   0.682979  0.565671  0.374955      0.095358     0.093559\n",
       "(56, 60]   0.690061  0.595538  0.367546      0.088438     0.090872\n",
       "(61, 66]   0.675725  0.602277  0.354021      0.088138     0.091811\n",
       "(67, 74]   0.704009  0.648978  0.309748      0.097091     0.104953\n",
       "(75, 114]  0.809146  0.620181  0.362812      0.116402     0.125094"
      ]
     },
     "execution_count": 21,
     "metadata": {},
     "output_type": "execute_result"
    }
   ],
   "source": [
    "person_data_new.groupby('Age_group').apply(lambda x: x[quantitive_columns].isnull().sum(axis=0)/x.shape[0])"
   ]
  },
  {
   "cell_type": "markdown",
   "metadata": {},
   "source": [
    "### Implement ANOVA test\n",
    "To test if the mean values of the each feature are equal after being grouped"
   ]
  },
  {
   "cell_type": "code",
   "execution_count": 22,
   "metadata": {
    "collapsed": false
   },
   "outputs": [],
   "source": [
    "from scipy.stats import f_oneway"
   ]
  },
  {
   "cell_type": "code",
   "execution_count": 23,
   "metadata": {
    "collapsed": false
   },
   "outputs": [
    {
     "name": "stdout",
     "output_type": "stream",
     "text": [
      "A1C\n",
      "F_onewayResult(statistic=26.371771578908884, pvalue=2.2829101727302631e-26)\n",
      "BMI\n",
      "F_onewayResult(statistic=78.631909489798105, pvalue=2.5281219635747063e-80)\n",
      "Glucose\n",
      "F_onewayResult(statistic=35.123917937562318, pvalue=9.5112179417179683e-36)\n",
      "BP_Diastolic\n",
      "F_onewayResult(statistic=176.9193371566318, pvalue=2.5176503822653756e-183)\n",
      "BP_Systolic\n",
      "F_onewayResult(statistic=49.171108345538109, pvalue=1.1760769627946283e-50)\n"
     ]
    }
   ],
   "source": [
    "for column in quantitive_columns:\n",
    "    temp = {k:list(v[column]) for k,v in person_data_new[person_data_new[column].notnull()].groupby('Age_group_numeric')}\n",
    "    print column\n",
    "    print f_oneway(temp[1], temp[2], temp[3], temp[4], temp[5], temp[6])"
   ]
  },
  {
   "cell_type": "code",
   "execution_count": 24,
   "metadata": {
    "collapsed": false
   },
   "outputs": [
    {
     "name": "stdout",
     "output_type": "stream",
     "text": [
      "A1C\n",
      "F_onewayResult(statistic=1.4508634183063212, pvalue=0.22845005980287483)\n",
      "BMI\n",
      "F_onewayResult(statistic=180.05607155798691, pvalue=1.6344154452887715e-40)\n",
      "Glucose\n",
      "F_onewayResult(statistic=27.152720231647105, pvalue=1.9168366445098947e-07)\n",
      "BP_Diastolic\n",
      "F_onewayResult(statistic=66.008229158879161, pvalue=4.8540258014637313e-16)\n",
      "BP_Systolic\n",
      "F_onewayResult(statistic=0.13518260552612232, pvalue=0.71312333853157739)\n"
     ]
    }
   ],
   "source": [
    "for column in quantitive_columns:\n",
    "    temp = {k:list(v[column]) for k,v in person_data_new[person_data_new[column].notnull()].groupby('Gender')}\n",
    "    print column\n",
    "    print f_oneway(temp['F'], temp['M'])"
   ]
  },
  {
   "cell_type": "markdown",
   "metadata": {},
   "source": [
    "### Fill up the missing values\n",
    "with the mean of the non-null variable grouped by age group"
   ]
  },
  {
   "cell_type": "code",
   "execution_count": 25,
   "metadata": {
    "collapsed": true
   },
   "outputs": [],
   "source": [
    "person_data_fillup = {}"
   ]
  },
  {
   "cell_type": "code",
   "execution_count": 26,
   "metadata": {
    "collapsed": false
   },
   "outputs": [],
   "source": [
    "temp = person_data_new.copy()\n",
    "for column in quantitive_columns:\n",
    "    mean_value = temp.groupby('Age_group').apply(\n",
    "        lambda x: x[column][x[column].notnull()].mean())\n",
    "    missing_index = temp.groupby('Age_group').apply(\n",
    "        lambda x: x[column][x[column].isnull()])\n",
    "    for i in mean_value.index.to_series().tolist():\n",
    "        if i in missing_index.index:\n",
    "            temp.set_value(missing_index[i].index, column, mean_value[i])\n",
    "person_data_fillup['groupbyAgegroup_mean'] = temp"
   ]
  },
  {
   "cell_type": "markdown",
   "metadata": {},
   "source": [
    "## Group the quantitive features by DR diagnosis"
   ]
  },
  {
   "cell_type": "markdown",
   "metadata": {},
   "source": [
    "### The missing value percentage in different diagnosis as following:"
   ]
  },
  {
   "cell_type": "code",
   "execution_count": 27,
   "metadata": {
    "collapsed": false,
    "scrolled": false
   },
   "outputs": [
    {
     "data": {
      "text/plain": [
       "recent_DR\n",
       "MNPDR      654\n",
       "PDR        964\n",
       "SNPDR      198\n",
       "mNPDR     2214\n",
       "no_DR    12009\n",
       "dtype: int64"
      ]
     },
     "execution_count": 27,
     "metadata": {},
     "output_type": "execute_result"
    }
   ],
   "source": [
    "person_data_new.groupby('recent_DR').apply(lambda x: x.shape[0])"
   ]
  },
  {
   "cell_type": "code",
   "execution_count": 28,
   "metadata": {
    "collapsed": false
   },
   "outputs": [
    {
     "data": {
      "text/html": [
       "<div>\n",
       "<table border=\"1\" class=\"dataframe\">\n",
       "  <thead>\n",
       "    <tr style=\"text-align: right;\">\n",
       "      <th></th>\n",
       "      <th>A1C</th>\n",
       "      <th>BMI</th>\n",
       "      <th>Glucose</th>\n",
       "      <th>BP_Diastolic</th>\n",
       "      <th>BP_Systolic</th>\n",
       "    </tr>\n",
       "    <tr>\n",
       "      <th>recent_DR</th>\n",
       "      <th></th>\n",
       "      <th></th>\n",
       "      <th></th>\n",
       "      <th></th>\n",
       "      <th></th>\n",
       "    </tr>\n",
       "  </thead>\n",
       "  <tbody>\n",
       "    <tr>\n",
       "      <th>MNPDR</th>\n",
       "      <td>0.631498</td>\n",
       "      <td>0.524465</td>\n",
       "      <td>0.249235</td>\n",
       "      <td>0.059633</td>\n",
       "      <td>0.064220</td>\n",
       "    </tr>\n",
       "    <tr>\n",
       "      <th>PDR</th>\n",
       "      <td>0.644191</td>\n",
       "      <td>0.581950</td>\n",
       "      <td>0.221992</td>\n",
       "      <td>0.125519</td>\n",
       "      <td>0.134855</td>\n",
       "    </tr>\n",
       "    <tr>\n",
       "      <th>SNPDR</th>\n",
       "      <td>0.712121</td>\n",
       "      <td>0.505051</td>\n",
       "      <td>0.303030</td>\n",
       "      <td>0.085859</td>\n",
       "      <td>0.075758</td>\n",
       "    </tr>\n",
       "    <tr>\n",
       "      <th>mNPDR</th>\n",
       "      <td>0.645438</td>\n",
       "      <td>0.615628</td>\n",
       "      <td>0.277326</td>\n",
       "      <td>0.065944</td>\n",
       "      <td>0.070912</td>\n",
       "    </tr>\n",
       "    <tr>\n",
       "      <th>no_DR</th>\n",
       "      <td>0.726705</td>\n",
       "      <td>0.599467</td>\n",
       "      <td>0.400533</td>\n",
       "      <td>0.111750</td>\n",
       "      <td>0.111333</td>\n",
       "    </tr>\n",
       "  </tbody>\n",
       "</table>\n",
       "</div>"
      ],
      "text/plain": [
       "                A1C       BMI   Glucose  BP_Diastolic  BP_Systolic\n",
       "recent_DR                                                         \n",
       "MNPDR      0.631498  0.524465  0.249235      0.059633     0.064220\n",
       "PDR        0.644191  0.581950  0.221992      0.125519     0.134855\n",
       "SNPDR      0.712121  0.505051  0.303030      0.085859     0.075758\n",
       "mNPDR      0.645438  0.615628  0.277326      0.065944     0.070912\n",
       "no_DR      0.726705  0.599467  0.400533      0.111750     0.111333"
      ]
     },
     "execution_count": 28,
     "metadata": {},
     "output_type": "execute_result"
    }
   ],
   "source": [
    "person_data_new.groupby('recent_DR').apply(lambda x: x[quantitive_columns].isnull().sum(axis=0)/x.shape[0])"
   ]
  },
  {
   "cell_type": "code",
   "execution_count": 29,
   "metadata": {
    "collapsed": false
   },
   "outputs": [
    {
     "data": {
      "text/plain": [
       "worst_DR\n",
       "MNPDR      711\n",
       "PDR       1040\n",
       "SNPDR      224\n",
       "mNPDR     2055\n",
       "no_DR    12009\n",
       "dtype: int64"
      ]
     },
     "execution_count": 29,
     "metadata": {},
     "output_type": "execute_result"
    }
   ],
   "source": [
    "person_data_new.groupby('worst_DR').apply(lambda x: x.shape[0])"
   ]
  },
  {
   "cell_type": "code",
   "execution_count": 30,
   "metadata": {
    "collapsed": false,
    "scrolled": true
   },
   "outputs": [
    {
     "data": {
      "text/html": [
       "<div>\n",
       "<table border=\"1\" class=\"dataframe\">\n",
       "  <thead>\n",
       "    <tr style=\"text-align: right;\">\n",
       "      <th></th>\n",
       "      <th>A1C</th>\n",
       "      <th>BMI</th>\n",
       "      <th>Glucose</th>\n",
       "      <th>BP_Diastolic</th>\n",
       "      <th>BP_Systolic</th>\n",
       "    </tr>\n",
       "    <tr>\n",
       "      <th>worst_DR</th>\n",
       "      <th></th>\n",
       "      <th></th>\n",
       "      <th></th>\n",
       "      <th></th>\n",
       "      <th></th>\n",
       "    </tr>\n",
       "  </thead>\n",
       "  <tbody>\n",
       "    <tr>\n",
       "      <th>MNPDR</th>\n",
       "      <td>0.613221</td>\n",
       "      <td>0.545710</td>\n",
       "      <td>0.244726</td>\n",
       "      <td>0.053446</td>\n",
       "      <td>0.059072</td>\n",
       "    </tr>\n",
       "    <tr>\n",
       "      <th>PDR</th>\n",
       "      <td>0.642308</td>\n",
       "      <td>0.584615</td>\n",
       "      <td>0.221154</td>\n",
       "      <td>0.120192</td>\n",
       "      <td>0.130769</td>\n",
       "    </tr>\n",
       "    <tr>\n",
       "      <th>SNPDR</th>\n",
       "      <td>0.691964</td>\n",
       "      <td>0.526786</td>\n",
       "      <td>0.276786</td>\n",
       "      <td>0.075893</td>\n",
       "      <td>0.071429</td>\n",
       "    </tr>\n",
       "    <tr>\n",
       "      <th>mNPDR</th>\n",
       "      <td>0.654501</td>\n",
       "      <td>0.609732</td>\n",
       "      <td>0.284672</td>\n",
       "      <td>0.069586</td>\n",
       "      <td>0.072993</td>\n",
       "    </tr>\n",
       "    <tr>\n",
       "      <th>no_DR</th>\n",
       "      <td>0.726705</td>\n",
       "      <td>0.599467</td>\n",
       "      <td>0.400533</td>\n",
       "      <td>0.111750</td>\n",
       "      <td>0.111333</td>\n",
       "    </tr>\n",
       "  </tbody>\n",
       "</table>\n",
       "</div>"
      ],
      "text/plain": [
       "               A1C       BMI   Glucose  BP_Diastolic  BP_Systolic\n",
       "worst_DR                                                         \n",
       "MNPDR     0.613221  0.545710  0.244726      0.053446     0.059072\n",
       "PDR       0.642308  0.584615  0.221154      0.120192     0.130769\n",
       "SNPDR     0.691964  0.526786  0.276786      0.075893     0.071429\n",
       "mNPDR     0.654501  0.609732  0.284672      0.069586     0.072993\n",
       "no_DR     0.726705  0.599467  0.400533      0.111750     0.111333"
      ]
     },
     "execution_count": 30,
     "metadata": {},
     "output_type": "execute_result"
    }
   ],
   "source": [
    "person_data_new.groupby('worst_DR').apply(lambda x: x[quantitive_columns].isnull().sum(axis=0)/x.shape[0])"
   ]
  },
  {
   "cell_type": "markdown",
   "metadata": {},
   "source": [
    "### Implement ANOVA test\n",
    "To test if the mean values of the each feature are equal after being grouped "
   ]
  },
  {
   "cell_type": "code",
   "execution_count": 31,
   "metadata": {
    "collapsed": false
   },
   "outputs": [
    {
     "name": "stdout",
     "output_type": "stream",
     "text": [
      "A1C\n",
      "F_onewayResult(statistic=42.456564864690357, pvalue=4.9175526790653143e-35)\n",
      "BMI\n",
      "F_onewayResult(statistic=7.9483011303806936, pvalue=2.1822365886499604e-06)\n",
      "Glucose\n",
      "F_onewayResult(statistic=18.394389549816427, pvalue=4.5149589422910206e-15)\n",
      "BP_Diastolic\n",
      "F_onewayResult(statistic=8.6619398405301098, pvalue=5.5900999918337789e-07)\n",
      "BP_Systolic\n",
      "F_onewayResult(statistic=56.945191077184248, pvalue=9.5480751841461601e-48)\n"
     ]
    }
   ],
   "source": [
    "for column in quantitive_columns:\n",
    "    temp = {k:list(v[column]) for k,v in person_data_new[person_data_new[column].notnull()].groupby('recent_DR')}\n",
    "    print column\n",
    "    print f_oneway(temp['PDR'], temp['SNPDR'], temp['MNPDR'], temp['mNPDR'], temp['no_DR'])"
   ]
  },
  {
   "cell_type": "markdown",
   "metadata": {},
   "source": [
    "### Fill up the missing values \n",
    "with the mean of the non-null variable grouped by DR diagnosis"
   ]
  },
  {
   "cell_type": "code",
   "execution_count": 32,
   "metadata": {
    "collapsed": true
   },
   "outputs": [],
   "source": [
    "DR_diagnoses = ['PDR', 'SNPDR', 'MNPDR', 'mNPDR', 'no_DR']"
   ]
  },
  {
   "cell_type": "code",
   "execution_count": 33,
   "metadata": {
    "collapsed": false
   },
   "outputs": [],
   "source": [
    "temp = person_data_new.copy()\n",
    "for column in quantitive_columns:\n",
    "    mean_value = temp.groupby('recent_DR').apply(lambda x: x[column][x[column].notnull()].mean())\n",
    "    missing_index = temp.groupby('recent_DR').apply(lambda x: x[column][x[column].isnull()])\n",
    "    for diagnosis in DR_diagnoses:\n",
    "        temp.set_value(missing_index[diagnosis].index, column, mean_value[diagnosis])\n",
    "person_data_fillup['recent_groupbyDR_mean'] = temp"
   ]
  },
  {
   "cell_type": "code",
   "execution_count": 34,
   "metadata": {
    "collapsed": true
   },
   "outputs": [],
   "source": [
    "temp = person_data_new.copy()\n",
    "for column in quantitive_columns:\n",
    "    mean_value = temp.groupby('worst_DR').apply(lambda x: x[column][x[column].notnull()].mean())\n",
    "    missing_index = temp.groupby('worst_DR').apply(lambda x: x[column][x[column].isnull()])\n",
    "    for diagnosis in DR_diagnoses:\n",
    "        temp.set_value(missing_index[diagnosis].index, column, mean_value[diagnosis])\n",
    "person_data_fillup['worst_groupbyDR_mean'] = temp"
   ]
  },
  {
   "cell_type": "markdown",
   "metadata": {},
   "source": [
    "## Modeling trial"
   ]
  },
  {
   "cell_type": "markdown",
   "metadata": {},
   "source": [
    "### Varibles"
   ]
  },
  {
   "cell_type": "code",
   "execution_count": 35,
   "metadata": {
    "collapsed": false
   },
   "outputs": [
    {
     "data": {
      "text/plain": [
       "['DM',\n",
       " 'ME',\n",
       " 'Glaucoma_Suspect',\n",
       " 'Open_angle_Glaucoma',\n",
       " 'Cataract',\n",
       " 'Gender_F',\n",
       " 'Gender_M',\n",
       " 'Gender_U',\n",
       " 'Race_Asian',\n",
       " 'Race_Black or African American',\n",
       " 'Race_Hispanic or Latino',\n",
       " 'Race_Other Race',\n",
       " 'Race_Two or More Races',\n",
       " 'Race_Unknown',\n",
       " 'Race_White',\n",
       " 'Age_group_(18, 48]',\n",
       " 'Age_group_(49, 55]',\n",
       " 'Age_group_(56, 60]',\n",
       " 'Age_group_(61, 66]',\n",
       " 'Age_group_(67, 74]',\n",
       " 'Age_group_(75, 114]']"
      ]
     },
     "execution_count": 35,
     "metadata": {},
     "output_type": "execute_result"
    }
   ],
   "source": [
    "dummy_columns"
   ]
  },
  {
   "cell_type": "code",
   "execution_count": 36,
   "metadata": {
    "collapsed": false
   },
   "outputs": [
    {
     "data": {
      "text/plain": [
       "['A1C', 'BMI', 'Glucose', 'BP_Diastolic', 'BP_Systolic']"
      ]
     },
     "execution_count": 36,
     "metadata": {},
     "output_type": "execute_result"
    }
   ],
   "source": [
    "quantitive_columns"
   ]
  },
  {
   "cell_type": "code",
   "execution_count": 37,
   "metadata": {
    "collapsed": true
   },
   "outputs": [],
   "source": [
    "target_columns = {'recent_groupbyDR_mean': 'recent_DR', \n",
    "                  'worst_groupbyDR_mean': 'worst_DR',\n",
    "                  'groupbyAgegroup_mean': 'recent_DR'}"
   ]
  },
  {
   "cell_type": "markdown",
   "metadata": {},
   "source": [
    "### Decision Tree modeling exploration"
   ]
  },
  {
   "cell_type": "code",
   "execution_count": 38,
   "metadata": {
    "collapsed": true
   },
   "outputs": [],
   "source": [
    "from sklearn import tree\n",
    "from sklearn.model_selection import train_test_split\n",
    "from sklearn import metrics\n",
    "from sklearn.metrics import confusion_matrix"
   ]
  },
  {
   "cell_type": "code",
   "execution_count": 39,
   "metadata": {
    "collapsed": false
   },
   "outputs": [
    {
     "name": "stdout",
     "output_type": "stream",
     "text": [
      "groupbyAgegroup_mean\n",
      "col_0      MNPDR  PDR  SNPDR  mNPDR  no_DR\n",
      "recent_DR                                 \n",
      "MNPDR         19   35      6     47    101\n",
      "PDR           31   52     10     69    150\n",
      "SNPDR          6   10      4     12     26\n",
      "mNPDR         43   72     16    138    456\n",
      "no_DR        126  186     44    501   3133\n",
      "             precision    recall  f1-score   support\n",
      "\n",
      "      MNPDR       0.08      0.09      0.09       208\n",
      "        PDR       0.15      0.17      0.16       312\n",
      "      SNPDR       0.05      0.07      0.06        58\n",
      "      mNPDR       0.18      0.19      0.18       725\n",
      "      no_DR       0.81      0.79      0.80      3990\n",
      "\n",
      "avg / total       0.65      0.63      0.64      5293\n",
      "\n",
      "recent_groupbyDR_mean\n",
      "col_0      MNPDR  PDR  SNPDR  mNPDR  no_DR\n",
      "recent_DR                                 \n",
      "MNPDR        173    5      2      8     20\n",
      "PDR            8  268      3     11     22\n",
      "SNPDR          2    1     48      2      5\n",
      "mNPDR          5    8      0    665     47\n",
      "no_DR         26   31      4     70   3859\n",
      "             precision    recall  f1-score   support\n",
      "\n",
      "      MNPDR       0.81      0.83      0.82       208\n",
      "        PDR       0.86      0.86      0.86       312\n",
      "      SNPDR       0.84      0.83      0.83        58\n",
      "      mNPDR       0.88      0.92      0.90       725\n",
      "      no_DR       0.98      0.97      0.97      3990\n",
      "\n",
      "avg / total       0.95      0.95      0.95      5293\n",
      "\n",
      "worst_groupbyDR_mean\n",
      "col_0     MNPDR  PDR  SNPDR  mNPDR  no_DR\n",
      "worst_DR                                 \n",
      "MNPDR       197    8      2      5     17\n",
      "PDR           4  294      0     12     22\n",
      "SNPDR         0    3     64      2      3\n",
      "mNPDR         5    7      0    611     47\n",
      "no_DR        26   26      2     57   3879\n",
      "             precision    recall  f1-score   support\n",
      "\n",
      "      MNPDR       0.85      0.86      0.85       229\n",
      "        PDR       0.87      0.89      0.88       332\n",
      "      SNPDR       0.94      0.89      0.91        72\n",
      "      mNPDR       0.89      0.91      0.90       670\n",
      "      no_DR       0.98      0.97      0.97      3990\n",
      "\n",
      "avg / total       0.95      0.95      0.95      5293\n",
      "\n"
     ]
    }
   ],
   "source": [
    "for method, temp in person_data_fillup.items():\n",
    "    print(method)\n",
    "    \n",
    "    X = temp[quantitive_columns + dummy_columns]\n",
    "    y = temp[target_columns[method]]\n",
    "    X_train, X_test, y_train, y_test = train_test_split(X, y, test_size=0.33, random_state=42)\n",
    "\n",
    "    clf = tree.DecisionTreeClassifier()\n",
    "    clf = clf.fit(X_train, y_train)\n",
    "\n",
    "    preds = clf.predict(X = X_test)\n",
    "\n",
    "    #preds = label_encoder.inverse_transform(preds.tolist())\n",
    "    #y_test = label_encoder.inverse_transform(y_test)\n",
    "\n",
    "    print(pd.crosstab(y_test, preds))\n",
    "    print(metrics.classification_report(y_true = y_test, y_pred=preds))\n"
   ]
  },
  {
   "cell_type": "code",
   "execution_count": 40,
   "metadata": {
    "collapsed": false
   },
   "outputs": [],
   "source": [
    "tree.export_graphviz(clf, feature_names = quantitive_columns + dummy_columns,\n",
    "                     class_names = ['MNPDR','PDR','SNPDR','mNPDR','no_DR'], out_file='DT.dot') "
   ]
  },
  {
   "cell_type": "markdown",
   "metadata": {},
   "source": [
    "### Logistic Regression modeling exploration"
   ]
  },
  {
   "cell_type": "code",
   "execution_count": 41,
   "metadata": {
    "collapsed": true
   },
   "outputs": [],
   "source": [
    "from sklearn.linear_model import LogisticRegression"
   ]
  },
  {
   "cell_type": "code",
   "execution_count": 42,
   "metadata": {
    "collapsed": false
   },
   "outputs": [
    {
     "name": "stdout",
     "output_type": "stream",
     "text": [
      "groupbyAgegroup_mean\n",
      "col_0      MNPDR  PDR  SNPDR  mNPDR  no_DR\n",
      "recent_DR                                 \n",
      "MNPDR          5   46      0     24    133\n",
      "PDR            3   57      0     37    215\n",
      "SNPDR          0   23      0      5     30\n",
      "mNPDR          5   53      1     35    631\n",
      "no_DR          0   25      0     13   3952\n",
      "             precision    recall  f1-score   support\n",
      "\n",
      "      MNPDR       0.38      0.02      0.05       208\n",
      "        PDR       0.28      0.18      0.22       312\n",
      "      SNPDR       0.00      0.00      0.00        58\n",
      "      mNPDR       0.31      0.05      0.08       725\n",
      "      no_DR       0.80      0.99      0.88      3990\n",
      "\n",
      "avg / total       0.67      0.76      0.69      5293\n",
      "\n",
      "recent_groupbyDR_mean\n",
      "col_0      MNPDR  PDR  SNPDR  mNPDR  no_DR\n",
      "recent_DR                                 \n",
      "MNPDR          5   40      0     38    125\n",
      "PDR            4   60      0     38    210\n",
      "SNPDR          0   19      0     10     29\n",
      "mNPDR          4   43      1     63    614\n",
      "no_DR          2   20      0     50   3918\n",
      "             precision    recall  f1-score   support\n",
      "\n",
      "      MNPDR       0.33      0.02      0.04       208\n",
      "        PDR       0.33      0.19      0.24       312\n",
      "      SNPDR       0.00      0.00      0.00        58\n",
      "      mNPDR       0.32      0.09      0.14       725\n",
      "      no_DR       0.80      0.98      0.88      3990\n",
      "\n",
      "avg / total       0.68      0.76      0.70      5293\n",
      "\n",
      "worst_groupbyDR_mean\n",
      "col_0     MNPDR  PDR  SNPDR  mNPDR  no_DR\n",
      "worst_DR                                 \n",
      "MNPDR         8   52      0     21    148\n",
      "PDR           2   89      1     21    219\n",
      "SNPDR         2   29      0      9     32\n",
      "mNPDR         3   53      1     30    583\n",
      "no_DR         1   33      0     41   3915\n",
      "             precision    recall  f1-score   support\n",
      "\n",
      "      MNPDR       0.50      0.03      0.07       229\n",
      "        PDR       0.35      0.27      0.30       332\n",
      "      SNPDR       0.00      0.00      0.00        72\n",
      "      mNPDR       0.25      0.04      0.08       670\n",
      "      no_DR       0.80      0.98      0.88      3990\n",
      "\n",
      "avg / total       0.68      0.76      0.70      5293\n",
      "\n"
     ]
    }
   ],
   "source": [
    "for method, temp in person_data_fillup.items():\n",
    "    print(method)\n",
    "    \n",
    "    X = temp[quantitive_columns + dummy_columns]\n",
    "    y = temp[target_columns[method]]\n",
    "    X_train, X_test, y_train, y_test = train_test_split(X, y, test_size=0.33, random_state=42)\n",
    "\n",
    "    clf = LogisticRegression()\n",
    "    clf = clf.fit(X_train, y_train)\n",
    "\n",
    "    preds = clf.predict(X = X_test)\n",
    "\n",
    "    #preds = label_encoder.inverse_transform(preds.tolist())\n",
    "    #y_test = label_encoder.inverse_transform(y_test)\n",
    "\n",
    "    print(pd.crosstab(y_test, preds))\n",
    "    print(metrics.classification_report(y_true = y_test, y_pred=preds))\n"
   ]
  },
  {
   "cell_type": "markdown",
   "metadata": {},
   "source": [
    "## Output the filled up data"
   ]
  },
  {
   "cell_type": "code",
   "execution_count": 43,
   "metadata": {
    "collapsed": false
   },
   "outputs": [
    {
     "data": {
      "text/html": [
       "<div>\n",
       "<table border=\"1\" class=\"dataframe\">\n",
       "  <thead>\n",
       "    <tr style=\"text-align: right;\">\n",
       "      <th></th>\n",
       "      <th>A1C</th>\n",
       "      <th>BMI</th>\n",
       "      <th>Glucose</th>\n",
       "      <th>BP_Diastolic</th>\n",
       "      <th>BP_Systolic</th>\n",
       "      <th>DM</th>\n",
       "      <th>ME</th>\n",
       "      <th>Glaucoma_Suspect</th>\n",
       "      <th>Open_angle_Glaucoma</th>\n",
       "      <th>Cataract</th>\n",
       "      <th>...</th>\n",
       "      <th>Race_Unknown</th>\n",
       "      <th>Race_White</th>\n",
       "      <th>Age_group_(18, 48]</th>\n",
       "      <th>Age_group_(49, 55]</th>\n",
       "      <th>Age_group_(56, 60]</th>\n",
       "      <th>Age_group_(61, 66]</th>\n",
       "      <th>Age_group_(67, 74]</th>\n",
       "      <th>Age_group_(75, 114]</th>\n",
       "      <th>worst_DR</th>\n",
       "      <th>recent_DR</th>\n",
       "    </tr>\n",
       "  </thead>\n",
       "  <tbody>\n",
       "    <tr>\n",
       "      <th>count</th>\n",
       "      <td>16039.000000</td>\n",
       "      <td>16039.000000</td>\n",
       "      <td>16039.000000</td>\n",
       "      <td>16039.000000</td>\n",
       "      <td>16039.000000</td>\n",
       "      <td>16039</td>\n",
       "      <td>16039</td>\n",
       "      <td>16039</td>\n",
       "      <td>16039</td>\n",
       "      <td>16039</td>\n",
       "      <td>...</td>\n",
       "      <td>16039.000000</td>\n",
       "      <td>16039.000000</td>\n",
       "      <td>16039.000000</td>\n",
       "      <td>16039.000000</td>\n",
       "      <td>16039.000000</td>\n",
       "      <td>16039.000000</td>\n",
       "      <td>16039.000000</td>\n",
       "      <td>16039.000000</td>\n",
       "      <td>16039</td>\n",
       "      <td>16039</td>\n",
       "    </tr>\n",
       "    <tr>\n",
       "      <th>unique</th>\n",
       "      <td>NaN</td>\n",
       "      <td>NaN</td>\n",
       "      <td>NaN</td>\n",
       "      <td>NaN</td>\n",
       "      <td>NaN</td>\n",
       "      <td>2</td>\n",
       "      <td>2</td>\n",
       "      <td>2</td>\n",
       "      <td>2</td>\n",
       "      <td>2</td>\n",
       "      <td>...</td>\n",
       "      <td>NaN</td>\n",
       "      <td>NaN</td>\n",
       "      <td>NaN</td>\n",
       "      <td>NaN</td>\n",
       "      <td>NaN</td>\n",
       "      <td>NaN</td>\n",
       "      <td>NaN</td>\n",
       "      <td>NaN</td>\n",
       "      <td>5</td>\n",
       "      <td>5</td>\n",
       "    </tr>\n",
       "    <tr>\n",
       "      <th>top</th>\n",
       "      <td>NaN</td>\n",
       "      <td>NaN</td>\n",
       "      <td>NaN</td>\n",
       "      <td>NaN</td>\n",
       "      <td>NaN</td>\n",
       "      <td>True</td>\n",
       "      <td>False</td>\n",
       "      <td>False</td>\n",
       "      <td>False</td>\n",
       "      <td>False</td>\n",
       "      <td>...</td>\n",
       "      <td>NaN</td>\n",
       "      <td>NaN</td>\n",
       "      <td>NaN</td>\n",
       "      <td>NaN</td>\n",
       "      <td>NaN</td>\n",
       "      <td>NaN</td>\n",
       "      <td>NaN</td>\n",
       "      <td>NaN</td>\n",
       "      <td>no_DR</td>\n",
       "      <td>no_DR</td>\n",
       "    </tr>\n",
       "    <tr>\n",
       "      <th>freq</th>\n",
       "      <td>NaN</td>\n",
       "      <td>NaN</td>\n",
       "      <td>NaN</td>\n",
       "      <td>NaN</td>\n",
       "      <td>NaN</td>\n",
       "      <td>13321</td>\n",
       "      <td>15021</td>\n",
       "      <td>12439</td>\n",
       "      <td>14554</td>\n",
       "      <td>9170</td>\n",
       "      <td>...</td>\n",
       "      <td>NaN</td>\n",
       "      <td>NaN</td>\n",
       "      <td>NaN</td>\n",
       "      <td>NaN</td>\n",
       "      <td>NaN</td>\n",
       "      <td>NaN</td>\n",
       "      <td>NaN</td>\n",
       "      <td>NaN</td>\n",
       "      <td>12009</td>\n",
       "      <td>12009</td>\n",
       "    </tr>\n",
       "    <tr>\n",
       "      <th>mean</th>\n",
       "      <td>7.208732</td>\n",
       "      <td>31.770937</td>\n",
       "      <td>131.811752</td>\n",
       "      <td>78.109306</td>\n",
       "      <td>133.602606</td>\n",
       "      <td>NaN</td>\n",
       "      <td>NaN</td>\n",
       "      <td>NaN</td>\n",
       "      <td>NaN</td>\n",
       "      <td>NaN</td>\n",
       "      <td>...</td>\n",
       "      <td>0.256375</td>\n",
       "      <td>0.031486</td>\n",
       "      <td>0.179687</td>\n",
       "      <td>0.173265</td>\n",
       "      <td>0.153688</td>\n",
       "      <td>0.169774</td>\n",
       "      <td>0.158613</td>\n",
       "      <td>0.164973</td>\n",
       "      <td>NaN</td>\n",
       "      <td>NaN</td>\n",
       "    </tr>\n",
       "    <tr>\n",
       "      <th>std</th>\n",
       "      <td>0.698271</td>\n",
       "      <td>4.492439</td>\n",
       "      <td>25.716994</td>\n",
       "      <td>9.867409</td>\n",
       "      <td>16.124745</td>\n",
       "      <td>NaN</td>\n",
       "      <td>NaN</td>\n",
       "      <td>NaN</td>\n",
       "      <td>NaN</td>\n",
       "      <td>NaN</td>\n",
       "      <td>...</td>\n",
       "      <td>0.436645</td>\n",
       "      <td>0.174632</td>\n",
       "      <td>0.383939</td>\n",
       "      <td>0.378488</td>\n",
       "      <td>0.360661</td>\n",
       "      <td>0.375446</td>\n",
       "      <td>0.365327</td>\n",
       "      <td>0.371168</td>\n",
       "      <td>NaN</td>\n",
       "      <td>NaN</td>\n",
       "    </tr>\n",
       "    <tr>\n",
       "      <th>min</th>\n",
       "      <td>3.900000</td>\n",
       "      <td>14.395000</td>\n",
       "      <td>40.000000</td>\n",
       "      <td>48.000000</td>\n",
       "      <td>87.000000</td>\n",
       "      <td>NaN</td>\n",
       "      <td>NaN</td>\n",
       "      <td>NaN</td>\n",
       "      <td>NaN</td>\n",
       "      <td>NaN</td>\n",
       "      <td>...</td>\n",
       "      <td>0.000000</td>\n",
       "      <td>0.000000</td>\n",
       "      <td>0.000000</td>\n",
       "      <td>0.000000</td>\n",
       "      <td>0.000000</td>\n",
       "      <td>0.000000</td>\n",
       "      <td>0.000000</td>\n",
       "      <td>0.000000</td>\n",
       "      <td>NaN</td>\n",
       "      <td>NaN</td>\n",
       "    </tr>\n",
       "    <tr>\n",
       "      <th>25%</th>\n",
       "      <td>6.900000</td>\n",
       "      <td>28.900000</td>\n",
       "      <td>120.000000</td>\n",
       "      <td>72.000000</td>\n",
       "      <td>123.000000</td>\n",
       "      <td>NaN</td>\n",
       "      <td>NaN</td>\n",
       "      <td>NaN</td>\n",
       "      <td>NaN</td>\n",
       "      <td>NaN</td>\n",
       "      <td>...</td>\n",
       "      <td>0.000000</td>\n",
       "      <td>0.000000</td>\n",
       "      <td>0.000000</td>\n",
       "      <td>0.000000</td>\n",
       "      <td>0.000000</td>\n",
       "      <td>0.000000</td>\n",
       "      <td>0.000000</td>\n",
       "      <td>0.000000</td>\n",
       "      <td>NaN</td>\n",
       "      <td>NaN</td>\n",
       "    </tr>\n",
       "    <tr>\n",
       "      <th>50%</th>\n",
       "      <td>7.203035</td>\n",
       "      <td>31.579036</td>\n",
       "      <td>131.670279</td>\n",
       "      <td>78.082412</td>\n",
       "      <td>133.000000</td>\n",
       "      <td>NaN</td>\n",
       "      <td>NaN</td>\n",
       "      <td>NaN</td>\n",
       "      <td>NaN</td>\n",
       "      <td>NaN</td>\n",
       "      <td>...</td>\n",
       "      <td>0.000000</td>\n",
       "      <td>0.000000</td>\n",
       "      <td>0.000000</td>\n",
       "      <td>0.000000</td>\n",
       "      <td>0.000000</td>\n",
       "      <td>0.000000</td>\n",
       "      <td>0.000000</td>\n",
       "      <td>0.000000</td>\n",
       "      <td>NaN</td>\n",
       "      <td>NaN</td>\n",
       "    </tr>\n",
       "    <tr>\n",
       "      <th>75%</th>\n",
       "      <td>7.367049</td>\n",
       "      <td>33.360000</td>\n",
       "      <td>136.876498</td>\n",
       "      <td>84.000000</td>\n",
       "      <td>142.000000</td>\n",
       "      <td>NaN</td>\n",
       "      <td>NaN</td>\n",
       "      <td>NaN</td>\n",
       "      <td>NaN</td>\n",
       "      <td>NaN</td>\n",
       "      <td>...</td>\n",
       "      <td>1.000000</td>\n",
       "      <td>0.000000</td>\n",
       "      <td>0.000000</td>\n",
       "      <td>0.000000</td>\n",
       "      <td>0.000000</td>\n",
       "      <td>0.000000</td>\n",
       "      <td>0.000000</td>\n",
       "      <td>0.000000</td>\n",
       "      <td>NaN</td>\n",
       "      <td>NaN</td>\n",
       "    </tr>\n",
       "    <tr>\n",
       "      <th>max</th>\n",
       "      <td>10.600000</td>\n",
       "      <td>50.580000</td>\n",
       "      <td>222.000000</td>\n",
       "      <td>107.000000</td>\n",
       "      <td>181.000000</td>\n",
       "      <td>NaN</td>\n",
       "      <td>NaN</td>\n",
       "      <td>NaN</td>\n",
       "      <td>NaN</td>\n",
       "      <td>NaN</td>\n",
       "      <td>...</td>\n",
       "      <td>1.000000</td>\n",
       "      <td>1.000000</td>\n",
       "      <td>1.000000</td>\n",
       "      <td>1.000000</td>\n",
       "      <td>1.000000</td>\n",
       "      <td>1.000000</td>\n",
       "      <td>1.000000</td>\n",
       "      <td>1.000000</td>\n",
       "      <td>NaN</td>\n",
       "      <td>NaN</td>\n",
       "    </tr>\n",
       "  </tbody>\n",
       "</table>\n",
       "<p>11 rows × 28 columns</p>\n",
       "</div>"
      ],
      "text/plain": [
       "                 A1C           BMI       Glucose  BP_Diastolic   BP_Systolic  \\\n",
       "count   16039.000000  16039.000000  16039.000000  16039.000000  16039.000000   \n",
       "unique           NaN           NaN           NaN           NaN           NaN   \n",
       "top              NaN           NaN           NaN           NaN           NaN   \n",
       "freq             NaN           NaN           NaN           NaN           NaN   \n",
       "mean        7.208732     31.770937    131.811752     78.109306    133.602606   \n",
       "std         0.698271      4.492439     25.716994      9.867409     16.124745   \n",
       "min         3.900000     14.395000     40.000000     48.000000     87.000000   \n",
       "25%         6.900000     28.900000    120.000000     72.000000    123.000000   \n",
       "50%         7.203035     31.579036    131.670279     78.082412    133.000000   \n",
       "75%         7.367049     33.360000    136.876498     84.000000    142.000000   \n",
       "max        10.600000     50.580000    222.000000    107.000000    181.000000   \n",
       "\n",
       "           DM     ME Glaucoma_Suspect Open_angle_Glaucoma Cataract    ...      \\\n",
       "count   16039  16039            16039               16039    16039    ...       \n",
       "unique      2      2                2                   2        2    ...       \n",
       "top      True  False            False               False    False    ...       \n",
       "freq    13321  15021            12439               14554     9170    ...       \n",
       "mean      NaN    NaN              NaN                 NaN      NaN    ...       \n",
       "std       NaN    NaN              NaN                 NaN      NaN    ...       \n",
       "min       NaN    NaN              NaN                 NaN      NaN    ...       \n",
       "25%       NaN    NaN              NaN                 NaN      NaN    ...       \n",
       "50%       NaN    NaN              NaN                 NaN      NaN    ...       \n",
       "75%       NaN    NaN              NaN                 NaN      NaN    ...       \n",
       "max       NaN    NaN              NaN                 NaN      NaN    ...       \n",
       "\n",
       "        Race_Unknown    Race_White  Age_group_(18, 48]  Age_group_(49, 55]  \\\n",
       "count   16039.000000  16039.000000        16039.000000        16039.000000   \n",
       "unique           NaN           NaN                 NaN                 NaN   \n",
       "top              NaN           NaN                 NaN                 NaN   \n",
       "freq             NaN           NaN                 NaN                 NaN   \n",
       "mean        0.256375      0.031486            0.179687            0.173265   \n",
       "std         0.436645      0.174632            0.383939            0.378488   \n",
       "min         0.000000      0.000000            0.000000            0.000000   \n",
       "25%         0.000000      0.000000            0.000000            0.000000   \n",
       "50%         0.000000      0.000000            0.000000            0.000000   \n",
       "75%         1.000000      0.000000            0.000000            0.000000   \n",
       "max         1.000000      1.000000            1.000000            1.000000   \n",
       "\n",
       "        Age_group_(56, 60]  Age_group_(61, 66]  Age_group_(67, 74]  \\\n",
       "count         16039.000000        16039.000000        16039.000000   \n",
       "unique                 NaN                 NaN                 NaN   \n",
       "top                    NaN                 NaN                 NaN   \n",
       "freq                   NaN                 NaN                 NaN   \n",
       "mean              0.153688            0.169774            0.158613   \n",
       "std               0.360661            0.375446            0.365327   \n",
       "min               0.000000            0.000000            0.000000   \n",
       "25%               0.000000            0.000000            0.000000   \n",
       "50%               0.000000            0.000000            0.000000   \n",
       "75%               0.000000            0.000000            0.000000   \n",
       "max               1.000000            1.000000            1.000000   \n",
       "\n",
       "        Age_group_(75, 114]  worst_DR  recent_DR  \n",
       "count          16039.000000     16039      16039  \n",
       "unique                  NaN         5          5  \n",
       "top                     NaN     no_DR      no_DR  \n",
       "freq                    NaN     12009      12009  \n",
       "mean               0.164973       NaN        NaN  \n",
       "std                0.371168       NaN        NaN  \n",
       "min                0.000000       NaN        NaN  \n",
       "25%                0.000000       NaN        NaN  \n",
       "50%                0.000000       NaN        NaN  \n",
       "75%                0.000000       NaN        NaN  \n",
       "max                1.000000       NaN        NaN  \n",
       "\n",
       "[11 rows x 28 columns]"
      ]
     },
     "execution_count": 43,
     "metadata": {},
     "output_type": "execute_result"
    }
   ],
   "source": [
    "temp = person_data_fillup['groupbyAgegroup_mean'][quantitive_columns + dummy_columns + ['worst_DR', 'recent_DR']]\n",
    "temp.describe(include='all')"
   ]
  },
  {
   "cell_type": "code",
   "execution_count": 44,
   "metadata": {
    "collapsed": true
   },
   "outputs": [],
   "source": [
    "temp.to_pickle('baseline_missingHandled_Dan_20170406.pickle')"
   ]
  },
  {
   "cell_type": "code",
   "execution_count": 49,
   "metadata": {
    "collapsed": false
   },
   "outputs": [
    {
     "data": {
      "text/html": [
       "<div>\n",
       "<table border=\"1\" class=\"dataframe\">\n",
       "  <thead>\n",
       "    <tr style=\"text-align: right;\">\n",
       "      <th></th>\n",
       "      <th>A1C</th>\n",
       "      <th>BMI</th>\n",
       "      <th>Glucose</th>\n",
       "      <th>BP_Diastolic</th>\n",
       "      <th>BP_Systolic</th>\n",
       "      <th>DM</th>\n",
       "      <th>ME</th>\n",
       "      <th>Glaucoma_Suspect</th>\n",
       "      <th>Open_angle_Glaucoma</th>\n",
       "      <th>Cataract</th>\n",
       "      <th>...</th>\n",
       "      <th>Race_Unknown</th>\n",
       "      <th>Race_White</th>\n",
       "      <th>Age_group_(18, 48]</th>\n",
       "      <th>Age_group_(49, 55]</th>\n",
       "      <th>Age_group_(56, 60]</th>\n",
       "      <th>Age_group_(61, 66]</th>\n",
       "      <th>Age_group_(67, 74]</th>\n",
       "      <th>Age_group_(75, 114]</th>\n",
       "      <th>worst_DR</th>\n",
       "      <th>recent_DR</th>\n",
       "    </tr>\n",
       "  </thead>\n",
       "  <tbody>\n",
       "    <tr>\n",
       "      <th>count</th>\n",
       "      <td>4708.000000</td>\n",
       "      <td>6473.000000</td>\n",
       "      <td>10178.000000</td>\n",
       "      <td>14374.000000</td>\n",
       "      <td>14358.000000</td>\n",
       "      <td>16039</td>\n",
       "      <td>16039</td>\n",
       "      <td>16039</td>\n",
       "      <td>16039</td>\n",
       "      <td>16039</td>\n",
       "      <td>...</td>\n",
       "      <td>16039.000000</td>\n",
       "      <td>16039.000000</td>\n",
       "      <td>16039.000000</td>\n",
       "      <td>16039.000000</td>\n",
       "      <td>16039.000000</td>\n",
       "      <td>16039.000000</td>\n",
       "      <td>16039.000000</td>\n",
       "      <td>16039.000000</td>\n",
       "      <td>16039</td>\n",
       "      <td>16039</td>\n",
       "    </tr>\n",
       "    <tr>\n",
       "      <th>unique</th>\n",
       "      <td>NaN</td>\n",
       "      <td>NaN</td>\n",
       "      <td>NaN</td>\n",
       "      <td>NaN</td>\n",
       "      <td>NaN</td>\n",
       "      <td>2</td>\n",
       "      <td>2</td>\n",
       "      <td>2</td>\n",
       "      <td>2</td>\n",
       "      <td>2</td>\n",
       "      <td>...</td>\n",
       "      <td>NaN</td>\n",
       "      <td>NaN</td>\n",
       "      <td>NaN</td>\n",
       "      <td>NaN</td>\n",
       "      <td>NaN</td>\n",
       "      <td>NaN</td>\n",
       "      <td>NaN</td>\n",
       "      <td>NaN</td>\n",
       "      <td>5</td>\n",
       "      <td>5</td>\n",
       "    </tr>\n",
       "    <tr>\n",
       "      <th>top</th>\n",
       "      <td>NaN</td>\n",
       "      <td>NaN</td>\n",
       "      <td>NaN</td>\n",
       "      <td>NaN</td>\n",
       "      <td>NaN</td>\n",
       "      <td>True</td>\n",
       "      <td>False</td>\n",
       "      <td>False</td>\n",
       "      <td>False</td>\n",
       "      <td>False</td>\n",
       "      <td>...</td>\n",
       "      <td>NaN</td>\n",
       "      <td>NaN</td>\n",
       "      <td>NaN</td>\n",
       "      <td>NaN</td>\n",
       "      <td>NaN</td>\n",
       "      <td>NaN</td>\n",
       "      <td>NaN</td>\n",
       "      <td>NaN</td>\n",
       "      <td>no_DR</td>\n",
       "      <td>no_DR</td>\n",
       "    </tr>\n",
       "    <tr>\n",
       "      <th>freq</th>\n",
       "      <td>NaN</td>\n",
       "      <td>NaN</td>\n",
       "      <td>NaN</td>\n",
       "      <td>NaN</td>\n",
       "      <td>NaN</td>\n",
       "      <td>13321</td>\n",
       "      <td>15021</td>\n",
       "      <td>12439</td>\n",
       "      <td>14554</td>\n",
       "      <td>9170</td>\n",
       "      <td>...</td>\n",
       "      <td>NaN</td>\n",
       "      <td>NaN</td>\n",
       "      <td>NaN</td>\n",
       "      <td>NaN</td>\n",
       "      <td>NaN</td>\n",
       "      <td>NaN</td>\n",
       "      <td>NaN</td>\n",
       "      <td>NaN</td>\n",
       "      <td>12009</td>\n",
       "      <td>12009</td>\n",
       "    </tr>\n",
       "    <tr>\n",
       "      <th>mean</th>\n",
       "      <td>7.235485</td>\n",
       "      <td>31.867714</td>\n",
       "      <td>131.677803</td>\n",
       "      <td>78.109281</td>\n",
       "      <td>133.611368</td>\n",
       "      <td>NaN</td>\n",
       "      <td>NaN</td>\n",
       "      <td>NaN</td>\n",
       "      <td>NaN</td>\n",
       "      <td>NaN</td>\n",
       "      <td>...</td>\n",
       "      <td>0.256375</td>\n",
       "      <td>0.031486</td>\n",
       "      <td>0.179687</td>\n",
       "      <td>0.173265</td>\n",
       "      <td>0.153688</td>\n",
       "      <td>0.169774</td>\n",
       "      <td>0.158613</td>\n",
       "      <td>0.164973</td>\n",
       "      <td>NaN</td>\n",
       "      <td>NaN</td>\n",
       "    </tr>\n",
       "    <tr>\n",
       "      <th>std</th>\n",
       "      <td>1.241573</td>\n",
       "      <td>6.785681</td>\n",
       "      <td>32.121431</td>\n",
       "      <td>10.384908</td>\n",
       "      <td>17.023775</td>\n",
       "      <td>NaN</td>\n",
       "      <td>NaN</td>\n",
       "      <td>NaN</td>\n",
       "      <td>NaN</td>\n",
       "      <td>NaN</td>\n",
       "      <td>...</td>\n",
       "      <td>0.436645</td>\n",
       "      <td>0.174632</td>\n",
       "      <td>0.383939</td>\n",
       "      <td>0.378488</td>\n",
       "      <td>0.360661</td>\n",
       "      <td>0.375446</td>\n",
       "      <td>0.365327</td>\n",
       "      <td>0.371168</td>\n",
       "      <td>NaN</td>\n",
       "      <td>NaN</td>\n",
       "    </tr>\n",
       "    <tr>\n",
       "      <th>min</th>\n",
       "      <td>3.900000</td>\n",
       "      <td>14.395000</td>\n",
       "      <td>40.000000</td>\n",
       "      <td>48.000000</td>\n",
       "      <td>87.000000</td>\n",
       "      <td>NaN</td>\n",
       "      <td>NaN</td>\n",
       "      <td>NaN</td>\n",
       "      <td>NaN</td>\n",
       "      <td>NaN</td>\n",
       "      <td>...</td>\n",
       "      <td>0.000000</td>\n",
       "      <td>0.000000</td>\n",
       "      <td>0.000000</td>\n",
       "      <td>0.000000</td>\n",
       "      <td>0.000000</td>\n",
       "      <td>0.000000</td>\n",
       "      <td>0.000000</td>\n",
       "      <td>0.000000</td>\n",
       "      <td>NaN</td>\n",
       "      <td>NaN</td>\n",
       "    </tr>\n",
       "    <tr>\n",
       "      <th>25%</th>\n",
       "      <td>6.300000</td>\n",
       "      <td>26.880000</td>\n",
       "      <td>109.500000</td>\n",
       "      <td>70.675000</td>\n",
       "      <td>122.000000</td>\n",
       "      <td>NaN</td>\n",
       "      <td>NaN</td>\n",
       "      <td>NaN</td>\n",
       "      <td>NaN</td>\n",
       "      <td>NaN</td>\n",
       "      <td>...</td>\n",
       "      <td>0.000000</td>\n",
       "      <td>0.000000</td>\n",
       "      <td>0.000000</td>\n",
       "      <td>0.000000</td>\n",
       "      <td>0.000000</td>\n",
       "      <td>0.000000</td>\n",
       "      <td>0.000000</td>\n",
       "      <td>0.000000</td>\n",
       "      <td>NaN</td>\n",
       "      <td>NaN</td>\n",
       "    </tr>\n",
       "    <tr>\n",
       "      <th>50%</th>\n",
       "      <td>7.000000</td>\n",
       "      <td>31.170000</td>\n",
       "      <td>127.000000</td>\n",
       "      <td>78.000000</td>\n",
       "      <td>132.000000</td>\n",
       "      <td>NaN</td>\n",
       "      <td>NaN</td>\n",
       "      <td>NaN</td>\n",
       "      <td>NaN</td>\n",
       "      <td>NaN</td>\n",
       "      <td>...</td>\n",
       "      <td>0.000000</td>\n",
       "      <td>0.000000</td>\n",
       "      <td>0.000000</td>\n",
       "      <td>0.000000</td>\n",
       "      <td>0.000000</td>\n",
       "      <td>0.000000</td>\n",
       "      <td>0.000000</td>\n",
       "      <td>0.000000</td>\n",
       "      <td>NaN</td>\n",
       "      <td>NaN</td>\n",
       "    </tr>\n",
       "    <tr>\n",
       "      <th>75%</th>\n",
       "      <td>8.000000</td>\n",
       "      <td>36.120000</td>\n",
       "      <td>150.000000</td>\n",
       "      <td>85.000000</td>\n",
       "      <td>144.000000</td>\n",
       "      <td>NaN</td>\n",
       "      <td>NaN</td>\n",
       "      <td>NaN</td>\n",
       "      <td>NaN</td>\n",
       "      <td>NaN</td>\n",
       "      <td>...</td>\n",
       "      <td>1.000000</td>\n",
       "      <td>0.000000</td>\n",
       "      <td>0.000000</td>\n",
       "      <td>0.000000</td>\n",
       "      <td>0.000000</td>\n",
       "      <td>0.000000</td>\n",
       "      <td>0.000000</td>\n",
       "      <td>0.000000</td>\n",
       "      <td>NaN</td>\n",
       "      <td>NaN</td>\n",
       "    </tr>\n",
       "    <tr>\n",
       "      <th>max</th>\n",
       "      <td>10.600000</td>\n",
       "      <td>50.580000</td>\n",
       "      <td>222.000000</td>\n",
       "      <td>107.000000</td>\n",
       "      <td>181.000000</td>\n",
       "      <td>NaN</td>\n",
       "      <td>NaN</td>\n",
       "      <td>NaN</td>\n",
       "      <td>NaN</td>\n",
       "      <td>NaN</td>\n",
       "      <td>...</td>\n",
       "      <td>1.000000</td>\n",
       "      <td>1.000000</td>\n",
       "      <td>1.000000</td>\n",
       "      <td>1.000000</td>\n",
       "      <td>1.000000</td>\n",
       "      <td>1.000000</td>\n",
       "      <td>1.000000</td>\n",
       "      <td>1.000000</td>\n",
       "      <td>NaN</td>\n",
       "      <td>NaN</td>\n",
       "    </tr>\n",
       "  </tbody>\n",
       "</table>\n",
       "<p>11 rows × 28 columns</p>\n",
       "</div>"
      ],
      "text/plain": [
       "                A1C          BMI       Glucose  BP_Diastolic   BP_Systolic  \\\n",
       "count   4708.000000  6473.000000  10178.000000  14374.000000  14358.000000   \n",
       "unique          NaN          NaN           NaN           NaN           NaN   \n",
       "top             NaN          NaN           NaN           NaN           NaN   \n",
       "freq            NaN          NaN           NaN           NaN           NaN   \n",
       "mean       7.235485    31.867714    131.677803     78.109281    133.611368   \n",
       "std        1.241573     6.785681     32.121431     10.384908     17.023775   \n",
       "min        3.900000    14.395000     40.000000     48.000000     87.000000   \n",
       "25%        6.300000    26.880000    109.500000     70.675000    122.000000   \n",
       "50%        7.000000    31.170000    127.000000     78.000000    132.000000   \n",
       "75%        8.000000    36.120000    150.000000     85.000000    144.000000   \n",
       "max       10.600000    50.580000    222.000000    107.000000    181.000000   \n",
       "\n",
       "           DM     ME Glaucoma_Suspect Open_angle_Glaucoma Cataract    ...      \\\n",
       "count   16039  16039            16039               16039    16039    ...       \n",
       "unique      2      2                2                   2        2    ...       \n",
       "top      True  False            False               False    False    ...       \n",
       "freq    13321  15021            12439               14554     9170    ...       \n",
       "mean      NaN    NaN              NaN                 NaN      NaN    ...       \n",
       "std       NaN    NaN              NaN                 NaN      NaN    ...       \n",
       "min       NaN    NaN              NaN                 NaN      NaN    ...       \n",
       "25%       NaN    NaN              NaN                 NaN      NaN    ...       \n",
       "50%       NaN    NaN              NaN                 NaN      NaN    ...       \n",
       "75%       NaN    NaN              NaN                 NaN      NaN    ...       \n",
       "max       NaN    NaN              NaN                 NaN      NaN    ...       \n",
       "\n",
       "        Race_Unknown    Race_White  Age_group_(18, 48]  Age_group_(49, 55]  \\\n",
       "count   16039.000000  16039.000000        16039.000000        16039.000000   \n",
       "unique           NaN           NaN                 NaN                 NaN   \n",
       "top              NaN           NaN                 NaN                 NaN   \n",
       "freq             NaN           NaN                 NaN                 NaN   \n",
       "mean        0.256375      0.031486            0.179687            0.173265   \n",
       "std         0.436645      0.174632            0.383939            0.378488   \n",
       "min         0.000000      0.000000            0.000000            0.000000   \n",
       "25%         0.000000      0.000000            0.000000            0.000000   \n",
       "50%         0.000000      0.000000            0.000000            0.000000   \n",
       "75%         1.000000      0.000000            0.000000            0.000000   \n",
       "max         1.000000      1.000000            1.000000            1.000000   \n",
       "\n",
       "        Age_group_(56, 60]  Age_group_(61, 66]  Age_group_(67, 74]  \\\n",
       "count         16039.000000        16039.000000        16039.000000   \n",
       "unique                 NaN                 NaN                 NaN   \n",
       "top                    NaN                 NaN                 NaN   \n",
       "freq                   NaN                 NaN                 NaN   \n",
       "mean              0.153688            0.169774            0.158613   \n",
       "std               0.360661            0.375446            0.365327   \n",
       "min               0.000000            0.000000            0.000000   \n",
       "25%               0.000000            0.000000            0.000000   \n",
       "50%               0.000000            0.000000            0.000000   \n",
       "75%               0.000000            0.000000            0.000000   \n",
       "max               1.000000            1.000000            1.000000   \n",
       "\n",
       "        Age_group_(75, 114]  worst_DR  recent_DR  \n",
       "count          16039.000000     16039      16039  \n",
       "unique                  NaN         5          5  \n",
       "top                     NaN     no_DR      no_DR  \n",
       "freq                    NaN     12009      12009  \n",
       "mean               0.164973       NaN        NaN  \n",
       "std                0.371168       NaN        NaN  \n",
       "min                0.000000       NaN        NaN  \n",
       "25%                0.000000       NaN        NaN  \n",
       "50%                0.000000       NaN        NaN  \n",
       "75%                0.000000       NaN        NaN  \n",
       "max                1.000000       NaN        NaN  \n",
       "\n",
       "[11 rows x 28 columns]"
      ]
     },
     "execution_count": 49,
     "metadata": {},
     "output_type": "execute_result"
    }
   ],
   "source": [
    "temp = person_data_new[quantitive_columns + dummy_columns + ['worst_DR', 'recent_DR']]\n",
    "temp.describe(include='all')"
   ]
  },
  {
   "cell_type": "code",
   "execution_count": 48,
   "metadata": {
    "collapsed": true
   },
   "outputs": [],
   "source": [
    "temp.to_pickle('baseline_raw_Dan_20170406.pickle')"
   ]
  },
  {
   "cell_type": "code",
   "execution_count": null,
   "metadata": {
    "collapsed": true
   },
   "outputs": [],
   "source": []
  }
 ],
 "metadata": {
  "kernelspec": {
   "display_name": "Python 2",
   "language": "python",
   "name": "python2"
  },
  "language_info": {
   "codemirror_mode": {
    "name": "ipython",
    "version": 2
   },
   "file_extension": ".py",
   "mimetype": "text/x-python",
   "name": "python",
   "nbconvert_exporter": "python",
   "pygments_lexer": "ipython2",
   "version": "2.7.13"
  }
 },
 "nbformat": 4,
 "nbformat_minor": 2
}
