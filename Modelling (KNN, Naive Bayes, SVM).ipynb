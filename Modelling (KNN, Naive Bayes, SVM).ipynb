{
 "cells": [
  {
   "cell_type": "code",
   "execution_count": 26,
   "metadata": {
    "collapsed": true
   },
   "outputs": [],
   "source": [
    "import pandas as pd\n",
    "import numpy as np\n",
    "import matplotlib\n",
    "import matplotlib.pyplot as plt\n",
    "from sklearn.neighbors import KNeighborsClassifier\n",
    "from sklearn.model_selection import train_test_split\n",
    "from sklearn.metrics import confusion_matrix\n",
    "from sklearn.metrics import accuracy_score\n",
    "from sklearn import preprocessing\n",
    "from sklearn import metrics\n",
    "from sklearn.ensemble import ExtraTreesClassifier\n",
    "from sklearn.preprocessing import minmax_scale\n",
    "from sklearn.cross_validation import cross_val_score\n",
    "from sklearn import metrics\n",
    "from sklearn.naive_bayes import GaussianNB\n",
    "from sklearn.naive_bayes import BernoulliNB\n",
    "from sklearn.naive_bayes import MultinomialNB\n",
    "from sklearn.svm import SVC"
   ]
  },
  {
   "cell_type": "code",
   "execution_count": 3,
   "metadata": {
    "collapsed": true
   },
   "outputs": [],
   "source": [
    "path = 'E:/SUBJECTS/497 MATH S17 PSP--/Data/'\n",
    "interpath= 'E:/SUBJECTS/497 MATH S17 PSP--/Data/intermediate/'"
   ]
  },
  {
   "cell_type": "code",
   "execution_count": 4,
   "metadata": {
    "collapsed": true
   },
   "outputs": [
    {
     "name": "stdout",
     "output_type": "stream",
     "text": [
      "(16039, 26)\n",
      "Index([u'A1C', u'BMI', u'Glucose', u'BP_Diastolic', u'BP_Systolic', u'DM',\n",
      "       u'ME', u'Glaucoma_Suspect', u'Open_angle_Glaucoma', u'Cataract',\n",
      "       u'Gender_F', u'Gender_M', u'Gender_U', u'Race_Asian',\n",
      "       u'Race_Black or African American', u'Race_Hispanic or Latino',\n",
      "       u'Race_Other', u'Race_White', u'Age_group_(18, 48]',\n",
      "       u'Age_group_(49, 55]', u'Age_group_(56, 60]', u'Age_group_(61, 66]',\n",
      "       u'Age_group_(67, 74]', u'Age_group_(75, 114]', u'worst_DR',\n",
      "       u'recent_DR'],\n",
      "      dtype='object')\n"
     ]
    },
    {
     "data": {
      "text/html": [
       "<div>\n",
       "<table border=\"1\" class=\"dataframe\">\n",
       "  <thead>\n",
       "    <tr style=\"text-align: right;\">\n",
       "      <th></th>\n",
       "      <th>A1C</th>\n",
       "      <th>BMI</th>\n",
       "      <th>Glucose</th>\n",
       "      <th>BP_Diastolic</th>\n",
       "      <th>BP_Systolic</th>\n",
       "      <th>DM</th>\n",
       "      <th>ME</th>\n",
       "      <th>Glaucoma_Suspect</th>\n",
       "      <th>Open_angle_Glaucoma</th>\n",
       "      <th>Cataract</th>\n",
       "      <th>...</th>\n",
       "      <th>Race_Other</th>\n",
       "      <th>Race_White</th>\n",
       "      <th>Age_group_(18, 48]</th>\n",
       "      <th>Age_group_(49, 55]</th>\n",
       "      <th>Age_group_(56, 60]</th>\n",
       "      <th>Age_group_(61, 66]</th>\n",
       "      <th>Age_group_(67, 74]</th>\n",
       "      <th>Age_group_(75, 114]</th>\n",
       "      <th>worst_DR</th>\n",
       "      <th>recent_DR</th>\n",
       "    </tr>\n",
       "    <tr>\n",
       "      <th>Person_Nbr</th>\n",
       "      <th></th>\n",
       "      <th></th>\n",
       "      <th></th>\n",
       "      <th></th>\n",
       "      <th></th>\n",
       "      <th></th>\n",
       "      <th></th>\n",
       "      <th></th>\n",
       "      <th></th>\n",
       "      <th></th>\n",
       "      <th></th>\n",
       "      <th></th>\n",
       "      <th></th>\n",
       "      <th></th>\n",
       "      <th></th>\n",
       "      <th></th>\n",
       "      <th></th>\n",
       "      <th></th>\n",
       "      <th></th>\n",
       "      <th></th>\n",
       "      <th></th>\n",
       "    </tr>\n",
       "  </thead>\n",
       "  <tbody>\n",
       "    <tr>\n",
       "      <th>33</th>\n",
       "      <td>8.000000</td>\n",
       "      <td>31.579036</td>\n",
       "      <td>130.000000</td>\n",
       "      <td>78.000000</td>\n",
       "      <td>118.000000</td>\n",
       "      <td>True</td>\n",
       "      <td>False</td>\n",
       "      <td>False</td>\n",
       "      <td>False</td>\n",
       "      <td>False</td>\n",
       "      <td>...</td>\n",
       "      <td>0</td>\n",
       "      <td>0</td>\n",
       "      <td>0</td>\n",
       "      <td>0</td>\n",
       "      <td>0</td>\n",
       "      <td>1</td>\n",
       "      <td>0</td>\n",
       "      <td>0</td>\n",
       "      <td>no_DR</td>\n",
       "      <td>no_DR</td>\n",
       "    </tr>\n",
       "    <tr>\n",
       "      <th>89</th>\n",
       "      <td>7.280372</td>\n",
       "      <td>32.452934</td>\n",
       "      <td>133.443515</td>\n",
       "      <td>53.000000</td>\n",
       "      <td>92.000000</td>\n",
       "      <td>True</td>\n",
       "      <td>False</td>\n",
       "      <td>True</td>\n",
       "      <td>False</td>\n",
       "      <td>False</td>\n",
       "      <td>...</td>\n",
       "      <td>1</td>\n",
       "      <td>0</td>\n",
       "      <td>0</td>\n",
       "      <td>0</td>\n",
       "      <td>1</td>\n",
       "      <td>0</td>\n",
       "      <td>0</td>\n",
       "      <td>0</td>\n",
       "      <td>no_DR</td>\n",
       "      <td>no_DR</td>\n",
       "    </tr>\n",
       "    <tr>\n",
       "      <th>146</th>\n",
       "      <td>6.989072</td>\n",
       "      <td>31.129173</td>\n",
       "      <td>128.568645</td>\n",
       "      <td>75.000000</td>\n",
       "      <td>130.000000</td>\n",
       "      <td>True</td>\n",
       "      <td>False</td>\n",
       "      <td>True</td>\n",
       "      <td>False</td>\n",
       "      <td>True</td>\n",
       "      <td>...</td>\n",
       "      <td>1</td>\n",
       "      <td>0</td>\n",
       "      <td>0</td>\n",
       "      <td>0</td>\n",
       "      <td>0</td>\n",
       "      <td>0</td>\n",
       "      <td>1</td>\n",
       "      <td>0</td>\n",
       "      <td>no_DR</td>\n",
       "      <td>no_DR</td>\n",
       "    </tr>\n",
       "    <tr>\n",
       "      <th>196</th>\n",
       "      <td>7.280372</td>\n",
       "      <td>32.452934</td>\n",
       "      <td>78.000000</td>\n",
       "      <td>88.000000</td>\n",
       "      <td>125.000000</td>\n",
       "      <td>False</td>\n",
       "      <td>False</td>\n",
       "      <td>False</td>\n",
       "      <td>False</td>\n",
       "      <td>False</td>\n",
       "      <td>...</td>\n",
       "      <td>1</td>\n",
       "      <td>0</td>\n",
       "      <td>0</td>\n",
       "      <td>0</td>\n",
       "      <td>1</td>\n",
       "      <td>0</td>\n",
       "      <td>0</td>\n",
       "      <td>0</td>\n",
       "      <td>no_DR</td>\n",
       "      <td>no_DR</td>\n",
       "    </tr>\n",
       "    <tr>\n",
       "      <th>327</th>\n",
       "      <td>7.203035</td>\n",
       "      <td>31.579036</td>\n",
       "      <td>121.000000</td>\n",
       "      <td>78.082412</td>\n",
       "      <td>134.756106</td>\n",
       "      <td>False</td>\n",
       "      <td>False</td>\n",
       "      <td>True</td>\n",
       "      <td>False</td>\n",
       "      <td>False</td>\n",
       "      <td>...</td>\n",
       "      <td>0</td>\n",
       "      <td>0</td>\n",
       "      <td>0</td>\n",
       "      <td>0</td>\n",
       "      <td>0</td>\n",
       "      <td>1</td>\n",
       "      <td>0</td>\n",
       "      <td>0</td>\n",
       "      <td>no_DR</td>\n",
       "      <td>no_DR</td>\n",
       "    </tr>\n",
       "  </tbody>\n",
       "</table>\n",
       "<p>5 rows × 26 columns</p>\n",
       "</div>"
      ],
      "text/plain": [
       "                 A1C        BMI     Glucose  BP_Diastolic  BP_Systolic     DM  \\\n",
       "Person_Nbr                                                                      \n",
       "33          8.000000  31.579036  130.000000     78.000000   118.000000   True   \n",
       "89          7.280372  32.452934  133.443515     53.000000    92.000000   True   \n",
       "146         6.989072  31.129173  128.568645     75.000000   130.000000   True   \n",
       "196         7.280372  32.452934   78.000000     88.000000   125.000000  False   \n",
       "327         7.203035  31.579036  121.000000     78.082412   134.756106  False   \n",
       "\n",
       "               ME Glaucoma_Suspect Open_angle_Glaucoma Cataract    ...      \\\n",
       "Person_Nbr                                                         ...       \n",
       "33          False            False               False    False    ...       \n",
       "89          False             True               False    False    ...       \n",
       "146         False             True               False     True    ...       \n",
       "196         False            False               False    False    ...       \n",
       "327         False             True               False    False    ...       \n",
       "\n",
       "            Race_Other  Race_White  Age_group_(18, 48]  Age_group_(49, 55]  \\\n",
       "Person_Nbr                                                                   \n",
       "33                   0           0                   0                   0   \n",
       "89                   1           0                   0                   0   \n",
       "146                  1           0                   0                   0   \n",
       "196                  1           0                   0                   0   \n",
       "327                  0           0                   0                   0   \n",
       "\n",
       "            Age_group_(56, 60]  Age_group_(61, 66]  Age_group_(67, 74]  \\\n",
       "Person_Nbr                                                               \n",
       "33                           0                   1                   0   \n",
       "89                           1                   0                   0   \n",
       "146                          0                   0                   1   \n",
       "196                          1                   0                   0   \n",
       "327                          0                   1                   0   \n",
       "\n",
       "            Age_group_(75, 114]  worst_DR  recent_DR  \n",
       "Person_Nbr                                            \n",
       "33                            0     no_DR      no_DR  \n",
       "89                            0     no_DR      no_DR  \n",
       "146                           0     no_DR      no_DR  \n",
       "196                           0     no_DR      no_DR  \n",
       "327                           0     no_DR      no_DR  \n",
       "\n",
       "[5 rows x 26 columns]"
      ]
     },
     "execution_count": 4,
     "metadata": {},
     "output_type": "execute_result"
    }
   ],
   "source": [
    "baseline_missingHandle=pd.read_pickle(interpath+\"baseline_missingHandled_Dan_20170406.pickle\")\n",
    "print baseline_missingHandle.shape\n",
    "print baseline_missingHandle.columns\n",
    "baseline_missingHandle.head()"
   ]
  },
  {
   "cell_type": "code",
   "execution_count": 5,
   "metadata": {
    "collapsed": true
   },
   "outputs": [
    {
     "name": "stdout",
     "output_type": "stream",
     "text": [
      "19\n"
     ]
    },
    {
     "data": {
      "text/plain": [
       "Index([u'A1C', u'BMI', u'Glucose', u'BP_Diastolic', u'BP_Systolic',\n",
       "       u'Gender_F', u'Gender_M', u'Gender_U', u'Race_Asian',\n",
       "       u'Race_Black or African American', u'Race_Hispanic or Latino',\n",
       "       u'Race_Other', u'Race_White', u'Age_group_(18, 48]',\n",
       "       u'Age_group_(49, 55]', u'Age_group_(56, 60]', u'Age_group_(61, 66]',\n",
       "       u'Age_group_(67, 74]', u'Age_group_(75, 114]'],\n",
       "      dtype='object')"
      ]
     },
     "execution_count": 5,
     "metadata": {},
     "output_type": "execute_result"
    }
   ],
   "source": [
    "quantitive_columns = baseline_missingHandle.select_dtypes(include=[np.number]).columns\n",
    "print len(quantitive_columns)\n",
    "quantitive_columns"
   ]
  },
  {
   "cell_type": "code",
   "execution_count": 6,
   "metadata": {
    "collapsed": false
   },
   "outputs": [
    {
     "name": "stdout",
     "output_type": "stream",
     "text": [
      "2\n"
     ]
    },
    {
     "data": {
      "text/plain": [
       "Index([u'worst_DR', u'recent_DR'], dtype='object')"
      ]
     },
     "execution_count": 6,
     "metadata": {},
     "output_type": "execute_result"
    }
   ],
   "source": [
    "qualitative_columns = baseline_missingHandle.select_dtypes(include=[object]).columns\n",
    "print len(qualitative_columns)\n",
    "qualitative_columns"
   ]
  },
  {
   "cell_type": "code",
   "execution_count": 7,
   "metadata": {
    "collapsed": true
   },
   "outputs": [
    {
     "name": "stdout",
     "output_type": "stream",
     "text": [
      "Worst_DR:\n",
      "no_DR    12009\n",
      "mNPDR     2055\n",
      "PDR       1040\n",
      "MNPDR      711\n",
      "SNPDR      224\n",
      "Name: worst_DR, dtype: int64\n",
      "\n",
      "Recent_DR:\n",
      "no_DR    12009\n",
      "mNPDR     2214\n",
      "PDR        964\n",
      "MNPDR      654\n",
      "SNPDR      198\n",
      "Name: recent_DR, dtype: int64\n"
     ]
    }
   ],
   "source": [
    "print \"Worst_DR:\"\n",
    "print (baseline_missingHandle.worst_DR).value_counts()\n",
    "print \"\\nRecent_DR:\"\n",
    "print (baseline_missingHandle.recent_DR).value_counts()"
   ]
  },
  {
   "cell_type": "code",
   "execution_count": 10,
   "metadata": {
    "collapsed": true
   },
   "outputs": [
    {
     "name": "stdout",
     "output_type": "stream",
     "text": [
      "(16039, 54)\n",
      "Index([u'A1C', u'BMI', u'Glucose', u'BP_Systolic', u'BP_Diastolic',\n",
      "       u'MR_OD_SPH_Numeric', u'MR_OD_CYL_Numeric', u'MR_OS_SPH_Numeric',\n",
      "       u'MR_OS_CYL_Numeric', u'MR_OS_DVA_ability', u'MR_OD_DVA_ability',\n",
      "       u'MR_OS_NVA_ability', u'MR_OD_NVA_ability', u'DM', u'ME',\n",
      "       u'Glaucoma_Suspect', u'Open_angle_Glaucoma', u'Cataract', u'Gender_F',\n",
      "       u'Gender_M', u'Gender_U', u'Race_Asian',\n",
      "       u'Race_Black or African American', u'Race_Hispanic or Latino',\n",
      "       u'Race_Other', u'Race_White',\n",
      "       u'recent_smoking_status_current every day smoker',\n",
      "       u'recent_smoking_status_current some day smoker',\n",
      "       u'recent_smoking_status_former smoker',\n",
      "       u'recent_smoking_status_heavy tobacco smoker',\n",
      "       u'recent_smoking_status_light tobacco smoker',\n",
      "       u'recent_smoking_status_never smoker', u'recent_smoking_status_smoker',\n",
      "       u'recent_smoking_status_unknown if ever smoked',\n",
      "       u'family_DM_G_DM_P_NDM', u'family_DM_Gp_DM', u'family_DM_Gp_SM_P_DM',\n",
      "       u'family_DM_P_DM', u'family_DM_P_NDM', u'family_DM_Unknown',\n",
      "       u'family_G_GP_G_P_NG', u'family_G_Gp_G', u'family_G_Gp_G_P_G',\n",
      "       u'family_G_P_G', u'family_G_P_NG', u'family_G_Unknown',\n",
      "       u'Age_group_(18, 48]', u'Age_group_(49, 55]', u'Age_group_(56, 60]',\n",
      "       u'Age_group_(61, 66]', u'Age_group_(67, 74]', u'Age_group_(75, 114]',\n",
      "       u'worst_DR', u'recent_DR'],\n",
      "      dtype='object')\n"
     ]
    },
    {
     "data": {
      "text/html": [
       "<div>\n",
       "<table border=\"1\" class=\"dataframe\">\n",
       "  <thead>\n",
       "    <tr style=\"text-align: right;\">\n",
       "      <th></th>\n",
       "      <th>A1C</th>\n",
       "      <th>BMI</th>\n",
       "      <th>Glucose</th>\n",
       "      <th>BP_Systolic</th>\n",
       "      <th>BP_Diastolic</th>\n",
       "      <th>MR_OD_SPH_Numeric</th>\n",
       "      <th>MR_OD_CYL_Numeric</th>\n",
       "      <th>MR_OS_SPH_Numeric</th>\n",
       "      <th>MR_OS_CYL_Numeric</th>\n",
       "      <th>MR_OS_DVA_ability</th>\n",
       "      <th>...</th>\n",
       "      <th>family_G_P_NG</th>\n",
       "      <th>family_G_Unknown</th>\n",
       "      <th>Age_group_(18, 48]</th>\n",
       "      <th>Age_group_(49, 55]</th>\n",
       "      <th>Age_group_(56, 60]</th>\n",
       "      <th>Age_group_(61, 66]</th>\n",
       "      <th>Age_group_(67, 74]</th>\n",
       "      <th>Age_group_(75, 114]</th>\n",
       "      <th>worst_DR</th>\n",
       "      <th>recent_DR</th>\n",
       "    </tr>\n",
       "    <tr>\n",
       "      <th>Person_Nbr</th>\n",
       "      <th></th>\n",
       "      <th></th>\n",
       "      <th></th>\n",
       "      <th></th>\n",
       "      <th></th>\n",
       "      <th></th>\n",
       "      <th></th>\n",
       "      <th></th>\n",
       "      <th></th>\n",
       "      <th></th>\n",
       "      <th></th>\n",
       "      <th></th>\n",
       "      <th></th>\n",
       "      <th></th>\n",
       "      <th></th>\n",
       "      <th></th>\n",
       "      <th></th>\n",
       "      <th></th>\n",
       "      <th></th>\n",
       "      <th></th>\n",
       "      <th></th>\n",
       "    </tr>\n",
       "  </thead>\n",
       "  <tbody>\n",
       "    <tr>\n",
       "      <th>33</th>\n",
       "      <td>8.000000</td>\n",
       "      <td>31.579036</td>\n",
       "      <td>130.000000</td>\n",
       "      <td>118.000000</td>\n",
       "      <td>78.000000</td>\n",
       "      <td>1.250000</td>\n",
       "      <td>-0.913393</td>\n",
       "      <td>1.750000</td>\n",
       "      <td>-0.500000</td>\n",
       "      <td>20.000000</td>\n",
       "      <td>...</td>\n",
       "      <td>0</td>\n",
       "      <td>0</td>\n",
       "      <td>0</td>\n",
       "      <td>0</td>\n",
       "      <td>0</td>\n",
       "      <td>1</td>\n",
       "      <td>0</td>\n",
       "      <td>0</td>\n",
       "      <td>no_DR</td>\n",
       "      <td>no_DR</td>\n",
       "    </tr>\n",
       "    <tr>\n",
       "      <th>89</th>\n",
       "      <td>7.280372</td>\n",
       "      <td>32.452934</td>\n",
       "      <td>133.443515</td>\n",
       "      <td>92.000000</td>\n",
       "      <td>53.000000</td>\n",
       "      <td>0.500000</td>\n",
       "      <td>-0.750000</td>\n",
       "      <td>0.250000</td>\n",
       "      <td>-1.250000</td>\n",
       "      <td>20.000000</td>\n",
       "      <td>...</td>\n",
       "      <td>0</td>\n",
       "      <td>0</td>\n",
       "      <td>0</td>\n",
       "      <td>0</td>\n",
       "      <td>1</td>\n",
       "      <td>0</td>\n",
       "      <td>0</td>\n",
       "      <td>0</td>\n",
       "      <td>no_DR</td>\n",
       "      <td>no_DR</td>\n",
       "    </tr>\n",
       "    <tr>\n",
       "      <th>146</th>\n",
       "      <td>6.989072</td>\n",
       "      <td>31.129173</td>\n",
       "      <td>128.568645</td>\n",
       "      <td>130.000000</td>\n",
       "      <td>75.000000</td>\n",
       "      <td>0.802648</td>\n",
       "      <td>-0.941888</td>\n",
       "      <td>0.767671</td>\n",
       "      <td>-0.929986</td>\n",
       "      <td>22.279976</td>\n",
       "      <td>...</td>\n",
       "      <td>0</td>\n",
       "      <td>1</td>\n",
       "      <td>0</td>\n",
       "      <td>0</td>\n",
       "      <td>0</td>\n",
       "      <td>0</td>\n",
       "      <td>1</td>\n",
       "      <td>0</td>\n",
       "      <td>no_DR</td>\n",
       "      <td>no_DR</td>\n",
       "    </tr>\n",
       "    <tr>\n",
       "      <th>196</th>\n",
       "      <td>7.280372</td>\n",
       "      <td>32.452934</td>\n",
       "      <td>78.000000</td>\n",
       "      <td>125.000000</td>\n",
       "      <td>88.000000</td>\n",
       "      <td>1.750000</td>\n",
       "      <td>-0.750000</td>\n",
       "      <td>0.750000</td>\n",
       "      <td>-0.873557</td>\n",
       "      <td>20.000000</td>\n",
       "      <td>...</td>\n",
       "      <td>1</td>\n",
       "      <td>0</td>\n",
       "      <td>0</td>\n",
       "      <td>0</td>\n",
       "      <td>1</td>\n",
       "      <td>0</td>\n",
       "      <td>0</td>\n",
       "      <td>0</td>\n",
       "      <td>no_DR</td>\n",
       "      <td>no_DR</td>\n",
       "    </tr>\n",
       "    <tr>\n",
       "      <th>327</th>\n",
       "      <td>7.203035</td>\n",
       "      <td>31.579036</td>\n",
       "      <td>121.000000</td>\n",
       "      <td>134.756106</td>\n",
       "      <td>78.082412</td>\n",
       "      <td>1.250000</td>\n",
       "      <td>-0.750000</td>\n",
       "      <td>3.000000</td>\n",
       "      <td>-1.000000</td>\n",
       "      <td>25.000000</td>\n",
       "      <td>...</td>\n",
       "      <td>1</td>\n",
       "      <td>0</td>\n",
       "      <td>0</td>\n",
       "      <td>0</td>\n",
       "      <td>0</td>\n",
       "      <td>1</td>\n",
       "      <td>0</td>\n",
       "      <td>0</td>\n",
       "      <td>no_DR</td>\n",
       "      <td>no_DR</td>\n",
       "    </tr>\n",
       "  </tbody>\n",
       "</table>\n",
       "<p>5 rows × 54 columns</p>\n",
       "</div>"
      ],
      "text/plain": [
       "                 A1C        BMI     Glucose  BP_Systolic  BP_Diastolic  \\\n",
       "Person_Nbr                                                               \n",
       "33          8.000000  31.579036  130.000000   118.000000     78.000000   \n",
       "89          7.280372  32.452934  133.443515    92.000000     53.000000   \n",
       "146         6.989072  31.129173  128.568645   130.000000     75.000000   \n",
       "196         7.280372  32.452934   78.000000   125.000000     88.000000   \n",
       "327         7.203035  31.579036  121.000000   134.756106     78.082412   \n",
       "\n",
       "            MR_OD_SPH_Numeric  MR_OD_CYL_Numeric  MR_OS_SPH_Numeric  \\\n",
       "Person_Nbr                                                            \n",
       "33                   1.250000          -0.913393           1.750000   \n",
       "89                   0.500000          -0.750000           0.250000   \n",
       "146                  0.802648          -0.941888           0.767671   \n",
       "196                  1.750000          -0.750000           0.750000   \n",
       "327                  1.250000          -0.750000           3.000000   \n",
       "\n",
       "            MR_OS_CYL_Numeric  MR_OS_DVA_ability    ...      family_G_P_NG  \\\n",
       "Person_Nbr                                          ...                      \n",
       "33                  -0.500000          20.000000    ...                  0   \n",
       "89                  -1.250000          20.000000    ...                  0   \n",
       "146                 -0.929986          22.279976    ...                  0   \n",
       "196                 -0.873557          20.000000    ...                  1   \n",
       "327                 -1.000000          25.000000    ...                  1   \n",
       "\n",
       "            family_G_Unknown  Age_group_(18, 48] Age_group_(49, 55]  \\\n",
       "Person_Nbr                                                            \n",
       "33                         0                   0                  0   \n",
       "89                         0                   0                  0   \n",
       "146                        1                   0                  0   \n",
       "196                        0                   0                  0   \n",
       "327                        0                   0                  0   \n",
       "\n",
       "           Age_group_(56, 60] Age_group_(61, 66] Age_group_(67, 74]  \\\n",
       "Person_Nbr                                                            \n",
       "33                          0                  1                  0   \n",
       "89                          1                  0                  0   \n",
       "146                         0                  0                  1   \n",
       "196                         1                  0                  0   \n",
       "327                         0                  1                  0   \n",
       "\n",
       "           Age_group_(75, 114]  worst_DR  recent_DR  \n",
       "Person_Nbr                                           \n",
       "33                           0     no_DR      no_DR  \n",
       "89                           0     no_DR      no_DR  \n",
       "146                          0     no_DR      no_DR  \n",
       "196                          0     no_DR      no_DR  \n",
       "327                          0     no_DR      no_DR  \n",
       "\n",
       "[5 rows x 54 columns]"
      ]
     },
     "execution_count": 10,
     "metadata": {},
     "output_type": "execute_result"
    }
   ],
   "source": [
    "Morefeatures_missingHandle=pd.read_pickle(interpath+\"Morefeatures_missingHandled_Dan_20170415.pickle\")\n",
    "print Morefeatures_missingHandle.shape\n",
    "print Morefeatures_missingHandle.columns\n",
    "Morefeatures_missingHandle.head()"
   ]
  },
  {
   "cell_type": "code",
   "execution_count": 12,
   "metadata": {
    "collapsed": true
   },
   "outputs": [
    {
     "name": "stdout",
     "output_type": "stream",
     "text": [
      "47\n"
     ]
    },
    {
     "data": {
      "text/plain": [
       "Index([u'A1C', u'BMI', u'Glucose', u'BP_Systolic', u'BP_Diastolic',\n",
       "       u'MR_OD_SPH_Numeric', u'MR_OD_CYL_Numeric', u'MR_OS_SPH_Numeric',\n",
       "       u'MR_OS_CYL_Numeric', u'MR_OS_DVA_ability', u'MR_OD_DVA_ability',\n",
       "       u'MR_OS_NVA_ability', u'MR_OD_NVA_ability', u'Gender_F', u'Gender_M',\n",
       "       u'Gender_U', u'Race_Asian', u'Race_Black or African American',\n",
       "       u'Race_Hispanic or Latino', u'Race_Other', u'Race_White',\n",
       "       u'recent_smoking_status_current every day smoker',\n",
       "       u'recent_smoking_status_current some day smoker',\n",
       "       u'recent_smoking_status_former smoker',\n",
       "       u'recent_smoking_status_heavy tobacco smoker',\n",
       "       u'recent_smoking_status_light tobacco smoker',\n",
       "       u'recent_smoking_status_never smoker', u'recent_smoking_status_smoker',\n",
       "       u'recent_smoking_status_unknown if ever smoked',\n",
       "       u'family_DM_G_DM_P_NDM', u'family_DM_Gp_DM', u'family_DM_Gp_SM_P_DM',\n",
       "       u'family_DM_P_DM', u'family_DM_P_NDM', u'family_DM_Unknown',\n",
       "       u'family_G_GP_G_P_NG', u'family_G_Gp_G', u'family_G_Gp_G_P_G',\n",
       "       u'family_G_P_G', u'family_G_P_NG', u'family_G_Unknown',\n",
       "       u'Age_group_(18, 48]', u'Age_group_(49, 55]', u'Age_group_(56, 60]',\n",
       "       u'Age_group_(61, 66]', u'Age_group_(67, 74]', u'Age_group_(75, 114]'],\n",
       "      dtype='object')"
      ]
     },
     "execution_count": 12,
     "metadata": {},
     "output_type": "execute_result"
    }
   ],
   "source": [
    "quantitive_columns1 = Morefeatures_missingHandle.select_dtypes(include=[np.number]).columns\n",
    "print len(quantitive_columns1)\n",
    "quantitive_columns1"
   ]
  },
  {
   "cell_type": "code",
   "execution_count": 13,
   "metadata": {
    "collapsed": true
   },
   "outputs": [
    {
     "name": "stdout",
     "output_type": "stream",
     "text": [
      "2\n"
     ]
    },
    {
     "data": {
      "text/plain": [
       "Index([u'worst_DR', u'recent_DR'], dtype='object')"
      ]
     },
     "execution_count": 13,
     "metadata": {},
     "output_type": "execute_result"
    }
   ],
   "source": [
    "qualitative_columns1 = Morefeatures_missingHandle.select_dtypes(include=[object]).columns\n",
    "print len(qualitative_columns1)\n",
    "qualitative_columns1"
   ]
  },
  {
   "cell_type": "code",
   "execution_count": 14,
   "metadata": {
    "collapsed": true
   },
   "outputs": [
    {
     "name": "stdout",
     "output_type": "stream",
     "text": [
      "Worst_DR:\n",
      "no_DR    12009\n",
      "mNPDR     2055\n",
      "PDR       1040\n",
      "MNPDR      711\n",
      "SNPDR      224\n",
      "Name: worst_DR, dtype: int64\n",
      "\n",
      "Recent_DR:\n",
      "no_DR    12009\n",
      "mNPDR     2214\n",
      "PDR        964\n",
      "MNPDR      654\n",
      "SNPDR      198\n",
      "Name: recent_DR, dtype: int64\n"
     ]
    }
   ],
   "source": [
    "print \"Worst_DR:\"\n",
    "print (Morefeatures_missingHandle.worst_DR).value_counts()\n",
    "print \"\\nRecent_DR:\"\n",
    "print (Morefeatures_missingHandle.recent_DR).value_counts()"
   ]
  },
  {
   "cell_type": "code",
   "execution_count": 15,
   "metadata": {
    "collapsed": false
   },
   "outputs": [],
   "source": [
    "DR_to_vis_dict = {'PDR': 'vision_threatening', \n",
    "                  'SNPDR': 'vision_threatening',\n",
    "                  'MNPDR': 'non_vision_threatening',\n",
    "                  'mNPDR': 'non_vision_threatening', \n",
    "                  'no_DR': 'no_DR'}\n",
    "baseline_missingHandle['base_recent_vis'] = baseline_missingHandle['recent_DR'].map(lambda x: DR_to_vis_dict[x])\n",
    "Morefeatures_missingHandle['more_recent_vis'] = Morefeatures_missingHandle['recent_DR'].map(lambda x: DR_to_vis_dict[x])"
   ]
  },
  {
   "cell_type": "code",
   "execution_count": 16,
   "metadata": {
    "collapsed": true
   },
   "outputs": [
    {
     "name": "stdout",
     "output_type": "stream",
     "text": [
      "Baseline_DR\n",
      "no_DR                     12009\n",
      "non_vision_threatening     2868\n",
      "vision_threatening         1162\n",
      "Name: base_recent_vis, dtype: int64\n",
      "\n",
      "More_DR:\n",
      "no_DR                     12009\n",
      "non_vision_threatening     2868\n",
      "vision_threatening         1162\n",
      "Name: more_recent_vis, dtype: int64\n"
     ]
    }
   ],
   "source": [
    "print \"Baseline_DR\"\n",
    "print (baseline_missingHandle.base_recent_vis).value_counts()\n",
    "print \"\\nMore_DR:\"\n",
    "print (Morefeatures_missingHandle.more_recent_vis).value_counts()"
   ]
  },
  {
   "cell_type": "code",
   "execution_count": 19,
   "metadata": {
    "collapsed": true
   },
   "outputs": [],
   "source": [
    "predictors = [u'A1C', u'BMI', u'Glucose', u'BP_Diastolic', u'BP_Systolic', u'Gender_F', u'Gender_M', u'Gender_U', u'Race_Asian',\n",
    "       u'Race_Black or African American', u'Race_Hispanic or Latino',u'Race_Other', u'Race_White', u'Age_group_(18, 48]',\n",
    "       u'Age_group_(49, 55]', u'Age_group_(56, 60]', u'Age_group_(61, 66]',u'Age_group_(67, 74]', u'Age_group_(75, 114]',u'DM',\n",
    "       u'ME', u'Glaucoma_Suspect', u'Open_angle_Glaucoma', u'Cataract' ]\n",
    "predictors1 = [u'A1C', u'BMI', u'Glucose', u'BP_Diastolic', u'BP_Systolic',u'Gender_F', u'Gender_M', u'Gender_U', u'Race_Asian',\n",
    "       u'Race_Black or African American', u'Race_Hispanic or Latino',u'Race_Other', u'Race_White', u'Age_group_(18, 48]',\n",
    "       u'Age_group_(49, 55]', u'Age_group_(56, 60]', u'Age_group_(61, 66]', u'Age_group_(67, 74]', u'Age_group_(75, 114]',u'MR_OD_SPH_Numeric', u'MR_OD_CYL_Numeric', u'MR_OS_SPH_Numeric',\n",
    "       u'MR_OS_CYL_Numeric', u'MR_OS_DVA_ability', u'MR_OD_DVA_ability',u'MR_OS_NVA_ability', u'MR_OD_NVA_ability',\n",
    "       u'recent_smoking_status_current every day smoker',u'recent_smoking_status_current some day smoker',u'recent_smoking_status_former smoker',\n",
    "       u'recent_smoking_status_heavy tobacco smoker',u'recent_smoking_status_light tobacco smoker',u'recent_smoking_status_never smoker',\n",
    "       u'recent_smoking_status_smoker',u'recent_smoking_status_unknown if ever smoked',u'family_DM_G_DM_P_NDM', u'family_DM_Gp_DM', u'family_DM_Gp_SM_P_DM',\n",
    "       u'family_DM_P_DM', u'family_DM_P_NDM', u'family_DM_Unknown',u'family_G_GP_G_P_NG', u'family_G_Gp_G', u'family_G_Gp_G_P_G',\n",
    "       u'family_G_P_G', u'family_G_P_NG', u'family_G_Unknown',u'DM',u'ME', u'Glaucoma_Suspect', u'Open_angle_Glaucoma', u'Cataract']"
   ]
  },
  {
   "cell_type": "markdown",
   "metadata": {},
   "source": [
    "## KNN"
   ]
  },
  {
   "cell_type": "markdown",
   "metadata": {},
   "source": [
    "Predictors: Baseline features \n",
    "Response: Worst_DR"
   ]
  },
  {
   "cell_type": "code",
   "execution_count": 48,
   "metadata": {
    "collapsed": false
   },
   "outputs": [
    {
     "name": "stdout",
     "output_type": "stream",
     "text": [
      "\n",
      "Test set accuracy is  70.2618453865 % for K-Value: 3 \n",
      "\n",
      "col_0     MNPDR  PDR  SNPDR  mNPDR  no_DR\n",
      "worst_DR                                 \n",
      "MNPDR        17   27      3      8     87\n",
      "PDR          33   48      2     17    108\n",
      "SNPDR        11   16      0      1     17\n",
      "mNPDR        29   36      5     31    310\n",
      "no_DR        58   90      6     90   2158 \n",
      "\n",
      "Classification Report:\n",
      "             precision    recall  f1-score   support\n",
      "\n",
      "      MNPDR       0.11      0.12      0.12       142\n",
      "        PDR       0.22      0.23      0.23       208\n",
      "      SNPDR       0.00      0.00      0.00        45\n",
      "      mNPDR       0.21      0.08      0.11       411\n",
      "      no_DR       0.81      0.90      0.85      2402\n",
      "\n",
      "avg / total       0.65      0.70      0.67      3208\n",
      "\n",
      "\n",
      "Number of mislabeled points out of a total 3208 points : 954\n",
      "--------------------------\n",
      "\n",
      "Test set accuracy is  72.8179551122 % for K-Value: 5 \n",
      "\n",
      "col_0     MNPDR  PDR  SNPDR  mNPDR  no_DR\n",
      "worst_DR                                 \n",
      "MNPDR        11   19      1     17     94\n",
      "PDR          22   35      3     25    123\n",
      "SNPDR         7   10      0      9     19\n",
      "mNPDR         9   28      0     29    345\n",
      "no_DR        15   28      1     97   2261 \n",
      "\n",
      "Classification Report:\n",
      "             precision    recall  f1-score   support\n",
      "\n",
      "      MNPDR       0.17      0.08      0.11       142\n",
      "        PDR       0.29      0.17      0.21       208\n",
      "      SNPDR       0.00      0.00      0.00        45\n",
      "      mNPDR       0.16      0.07      0.10       411\n",
      "      no_DR       0.80      0.94      0.86      2402\n",
      "\n",
      "avg / total       0.64      0.73      0.68      3208\n",
      "\n",
      "\n",
      "Number of mislabeled points out of a total 3208 points : 872\n",
      "--------------------------\n",
      "\n",
      "Test set accuracy is  75.2805486284 % for K-Value: 10 \n",
      "\n",
      "col_0     MNPDR  PDR  SNPDR  mNPDR  no_DR\n",
      "worst_DR                                 \n",
      "MNPDR         6   16      0      8    112\n",
      "PDR          15   28      2     11    152\n",
      "SNPDR         4   10      0      2     29\n",
      "mNPDR         3   20      2     19    367\n",
      "no_DR         3    6      0     31   2362 \n",
      "\n",
      "Classification Report:\n",
      "             precision    recall  f1-score   support\n",
      "\n",
      "      MNPDR       0.19      0.04      0.07       142\n",
      "        PDR       0.35      0.13      0.19       208\n",
      "      SNPDR       0.00      0.00      0.00        45\n",
      "      mNPDR       0.27      0.05      0.08       411\n",
      "      no_DR       0.78      0.98      0.87      2402\n",
      "\n",
      "avg / total       0.65      0.75      0.68      3208\n",
      "\n",
      "\n",
      "Number of mislabeled points out of a total 3208 points : 793\n",
      "--------------------------\n",
      "\n",
      "Test set accuracy is  75.4987531172 % for K-Value: 15 \n",
      "\n",
      "col_0     MNPDR  PDR  SNPDR  mNPDR  no_DR\n",
      "worst_DR                                 \n",
      "MNPDR         4   13      0      4    121\n",
      "PDR           7   23      1      9    168\n",
      "SNPDR         2    7      0      1     35\n",
      "mNPDR         3   19      1      7    381\n",
      "no_DR         1    5      0      8   2388 \n",
      "\n",
      "Classification Report:\n",
      "             precision    recall  f1-score   support\n",
      "\n",
      "      MNPDR       0.24      0.03      0.05       142\n",
      "        PDR       0.34      0.11      0.17       208\n",
      "      SNPDR       0.00      0.00      0.00        45\n",
      "      mNPDR       0.24      0.02      0.03       411\n",
      "      no_DR       0.77      0.99      0.87      2402\n",
      "\n",
      "avg / total       0.64      0.75      0.67      3208\n",
      "\n",
      "\n",
      "Number of mislabeled points out of a total 3208 points : 786\n",
      "--------------------------\n"
     ]
    }
   ],
   "source": [
    "X=baseline_missingHandle[predictors]\n",
    "y=baseline_missingHandle['worst_DR']\n",
    "X=preprocessing.minmax_scale(X)\n",
    "X_train, X_test,y_train,y_test=train_test_split(X,y,stratify=y,test_size=0.20,random_state=42)\n",
    "for K in [3,5,10,15]:\n",
    "    neigh = KNeighborsClassifier(n_neighbors = K)\n",
    "    neigh.fit(X_train, y_train) \n",
    "    y_pred = neigh.predict(X_test)\n",
    "    print \"\\nTest set accuracy is \", accuracy_score(y_test,y_pred)*100,\"% for K-Value:\",K ,\"\\n\"\n",
    "    print(pd.crosstab(y_test, y_pred)), \"\\n\"\n",
    "    print \"Classification Report:\\n\", (metrics.classification_report(y_test,y_pred))\n",
    "    print(\"\\nNumber of mislabeled points out of a total %d points : %d\"\n",
    "      % (X_test.shape[0],(y_test != y_pred).sum()))\n",
    "    print \"--------------------------\""
   ]
  },
  {
   "cell_type": "markdown",
   "metadata": {},
   "source": [
    "Predictors: Baseline features Response: Recent_DR"
   ]
  },
  {
   "cell_type": "code",
   "execution_count": 49,
   "metadata": {
    "collapsed": false
   },
   "outputs": [
    {
     "name": "stdout",
     "output_type": "stream",
     "text": [
      "\n",
      "Test set accuracy is  69.6072319202 % for K-Value: 3 \n",
      "\n",
      "col_0      MNPDR  PDR  SNPDR  mNPDR  no_DR\n",
      "recent_DR                                 \n",
      "MNPDR         18   22      7      9     75\n",
      "PDR           34   28      1     21    109\n",
      "SNPDR         11    3      0      3     22\n",
      "mNPDR         40   32      2     46    323\n",
      "no_DR         45   89      9    118   2141 \n",
      "\n",
      "Classification Report:\n",
      "             precision    recall  f1-score   support\n",
      "\n",
      "      MNPDR       0.12      0.14      0.13       131\n",
      "        PDR       0.16      0.15      0.15       193\n",
      "      SNPDR       0.00      0.00      0.00        39\n",
      "      mNPDR       0.23      0.10      0.14       443\n",
      "      no_DR       0.80      0.89      0.84      2402\n",
      "\n",
      "avg / total       0.65      0.70      0.67      3208\n",
      "\n",
      "\n",
      "Number of mislabeled points out of a total 3208 points : 975\n",
      "--------------------------\n",
      "\n",
      "Test set accuracy is  72.2256857855 % for K-Value: 5 \n",
      "\n",
      "col_0      MNPDR  PDR  SNPDR  mNPDR  no_DR\n",
      "recent_DR                                 \n",
      "MNPDR          8   21      4     11     87\n",
      "PDR           20   19      1     30    123\n",
      "SNPDR          7    7      0      4     21\n",
      "mNPDR         22   28      2     50    341\n",
      "no_DR         13   23      2    124   2240 \n",
      "\n",
      "Classification Report:\n",
      "             precision    recall  f1-score   support\n",
      "\n",
      "      MNPDR       0.11      0.06      0.08       131\n",
      "        PDR       0.19      0.10      0.13       193\n",
      "      SNPDR       0.00      0.00      0.00        39\n",
      "      mNPDR       0.23      0.11      0.15       443\n",
      "      no_DR       0.80      0.93      0.86      2402\n",
      "\n",
      "avg / total       0.64      0.72      0.68      3208\n",
      "\n",
      "\n",
      "Number of mislabeled points out of a total 3208 points : 891\n",
      "--------------------------\n",
      "\n",
      "Test set accuracy is  75.1246882793 % for K-Value: 10 \n",
      "\n",
      "col_0      MNPDR  PDR  SNPDR  mNPDR  no_DR\n",
      "recent_DR                                 \n",
      "MNPDR          4   15      0     16     96\n",
      "PDR           16   17      0     21    139\n",
      "SNPDR          4    4      0      6     25\n",
      "mNPDR         14   20      1     29    379\n",
      "no_DR          1    9      0     32   2360 \n",
      "\n",
      "Classification Report:\n",
      "             precision    recall  f1-score   support\n",
      "\n",
      "      MNPDR       0.10      0.03      0.05       131\n",
      "        PDR       0.26      0.09      0.13       193\n",
      "      SNPDR       0.00      0.00      0.00        39\n",
      "      mNPDR       0.28      0.07      0.11       443\n",
      "      no_DR       0.79      0.98      0.87      2402\n",
      "\n",
      "avg / total       0.65      0.75      0.68      3208\n",
      "\n",
      "\n",
      "Number of mislabeled points out of a total 3208 points : 798\n",
      "--------------------------\n",
      "\n",
      "Test set accuracy is  75.4052369077 % for K-Value: 15 \n",
      "\n",
      "col_0      MNPDR  PDR  mNPDR  no_DR\n",
      "recent_DR                          \n",
      "MNPDR          4   12      8    107\n",
      "PDR           11   14     13    155\n",
      "SNPDR          4    4      3     28\n",
      "mNPDR         12   12     18    401\n",
      "no_DR          2    4     13   2383 \n",
      "\n",
      "Classification Report:\n",
      "             precision    recall  f1-score   support\n",
      "\n",
      "      MNPDR       0.12      0.03      0.05       131\n",
      "        PDR       0.30      0.07      0.12       193\n",
      "      SNPDR       0.00      0.00      0.00        39\n",
      "      mNPDR       0.33      0.04      0.07       443\n",
      "      no_DR       0.78      0.99      0.87      2402\n",
      "\n",
      "avg / total       0.65      0.75      0.67      3208\n",
      "\n",
      "\n",
      "Number of mislabeled points out of a total 3208 points : 789\n",
      "--------------------------\n"
     ]
    }
   ],
   "source": [
    "X=baseline_missingHandle[predictors]\n",
    "y=baseline_missingHandle['recent_DR']\n",
    "X=preprocessing.minmax_scale(X)\n",
    "X_train, X_test,y_train,y_test=train_test_split(X,y,stratify=y,test_size=0.20,random_state=42)\n",
    "for K in [3,5,10,15]:\n",
    "    neigh = KNeighborsClassifier(n_neighbors = K)\n",
    "    neigh.fit(X_train, y_train) \n",
    "    y_pred = neigh.predict(X_test)\n",
    "    print \"\\nTest set accuracy is \", accuracy_score(y_test,y_pred)*100,\"% for K-Value:\",K ,\"\\n\"\n",
    "    print(pd.crosstab(y_test, y_pred)), \"\\n\"\n",
    "    print \"Classification Report:\\n\", (metrics.classification_report(y_test,y_pred))\n",
    "    print(\"\\nNumber of mislabeled points out of a total %d points : %d\"\n",
    "      % (X_test.shape[0],(y_test != y_pred).sum()))\n",
    "    print \"--------------------------\""
   ]
  },
  {
   "cell_type": "markdown",
   "metadata": {},
   "source": [
    "Predictors: Baseline features Response: Base_Recent_Vis"
   ]
  },
  {
   "cell_type": "code",
   "execution_count": 50,
   "metadata": {
    "collapsed": false
   },
   "outputs": [
    {
     "name": "stdout",
     "output_type": "stream",
     "text": [
      "\n",
      "Test set accuracy is  73.3478802993 % for K-Value: 3 \n",
      "\n",
      "col_0                   no_DR  non_vision_threatening  vision_threatening\n",
      "base_recent_vis                                                          \n",
      "no_DR                    2221                     159                  22\n",
      "non_vision_threatening    436                      96                  42\n",
      "vision_threatening        150                      46                  36 \n",
      "\n",
      "Classification Report:\n",
      "                        precision    recall  f1-score   support\n",
      "\n",
      "                 no_DR       0.79      0.92      0.85      2402\n",
      "non_vision_threatening       0.32      0.17      0.22       574\n",
      "    vision_threatening       0.36      0.16      0.22       232\n",
      "\n",
      "           avg / total       0.68      0.73      0.69      3208\n",
      "\n",
      "\n",
      "Number of mislabeled points out of a total 3208 points : 855\n",
      "--------------------------\n",
      "\n",
      "Test set accuracy is  74.8753117207 % for K-Value: 5 \n",
      "\n",
      "col_0                   no_DR  non_vision_threatening  vision_threatening\n",
      "base_recent_vis                                                          \n",
      "no_DR                    2292                      99                  11\n",
      "non_vision_threatening    454                      86                  34\n",
      "vision_threatening        157                      51                  24 \n",
      "\n",
      "Classification Report:\n",
      "                        precision    recall  f1-score   support\n",
      "\n",
      "                 no_DR       0.79      0.95      0.86      2402\n",
      "non_vision_threatening       0.36      0.15      0.21       574\n",
      "    vision_threatening       0.35      0.10      0.16       232\n",
      "\n",
      "           avg / total       0.68      0.75      0.70      3208\n",
      "\n",
      "\n",
      "Number of mislabeled points out of a total 3208 points : 806\n",
      "--------------------------\n",
      "\n",
      "Test set accuracy is  75.7793017456 % for K-Value: 10 \n",
      "\n",
      "col_0                   no_DR  non_vision_threatening  vision_threatening\n",
      "base_recent_vis                                                          \n",
      "no_DR                    2357                      38                   7\n",
      "non_vision_threatening    489                      59                  26\n",
      "vision_threatening        168                      49                  15 \n",
      "\n",
      "Classification Report:\n",
      "                        precision    recall  f1-score   support\n",
      "\n",
      "                 no_DR       0.78      0.98      0.87      2402\n",
      "non_vision_threatening       0.40      0.10      0.16       574\n",
      "    vision_threatening       0.31      0.06      0.11       232\n",
      "\n",
      "           avg / total       0.68      0.76      0.69      3208\n",
      "\n",
      "\n",
      "Number of mislabeled points out of a total 3208 points : 777\n",
      "--------------------------\n",
      "\n",
      "Test set accuracy is  76.4027431421 % for K-Value: 15 \n",
      "\n",
      "col_0                   no_DR  non_vision_threatening  vision_threatening\n",
      "base_recent_vis                                                          \n",
      "no_DR                    2383                      14                   5\n",
      "non_vision_threatening    493                      55                  26\n",
      "vision_threatening        183                      36                  13 \n",
      "\n",
      "Classification Report:\n",
      "                        precision    recall  f1-score   support\n",
      "\n",
      "                 no_DR       0.78      0.99      0.87      2402\n",
      "non_vision_threatening       0.52      0.10      0.16       574\n",
      "    vision_threatening       0.30      0.06      0.09       232\n",
      "\n",
      "           avg / total       0.70      0.76      0.69      3208\n",
      "\n",
      "\n",
      "Number of mislabeled points out of a total 3208 points : 757\n",
      "--------------------------\n"
     ]
    }
   ],
   "source": [
    "X=baseline_missingHandle[predictors]\n",
    "y=baseline_missingHandle['base_recent_vis']\n",
    "X=preprocessing.minmax_scale(X)\n",
    "X_train, X_test,y_train,y_test=train_test_split(X,y,stratify=y,test_size=0.20,random_state=42)\n",
    "for K in [3,5,10,15]:\n",
    "    neigh = KNeighborsClassifier(n_neighbors = K)\n",
    "    neigh.fit(X_train, y_train) \n",
    "    y_pred = neigh.predict(X_test)\n",
    "    print \"\\nTest set accuracy is \", accuracy_score(y_test,y_pred)*100,\"% for K-Value:\",K ,\"\\n\"\n",
    "    print(pd.crosstab(y_test, y_pred)), \"\\n\"\n",
    "    print \"Classification Report:\\n\", (metrics.classification_report(y_test,y_pred))\n",
    "    print(\"\\nNumber of mislabeled points out of a total %d points : %d\"\n",
    "      % (X_test.shape[0],(y_test != y_pred).sum()))\n",
    "    print \"--------------------------\""
   ]
  },
  {
   "cell_type": "markdown",
   "metadata": {},
   "source": [
    "Predictors: More features Response: Worst_DR"
   ]
  },
  {
   "cell_type": "code",
   "execution_count": 51,
   "metadata": {
    "collapsed": false
   },
   "outputs": [
    {
     "name": "stdout",
     "output_type": "stream",
     "text": [
      "\n",
      "Test set accuracy is  68.391521197 % for K-Value: 3 \n",
      "\n",
      "col_0     MNPDR  PDR  SNPDR  mNPDR  no_DR\n",
      "worst_DR                                 \n",
      "MNPDR        17   11      3     12     99\n",
      "PDR          12   30      3     22    141\n",
      "SNPDR         6    7      0      5     27\n",
      "mNPDR        21   35      4     27    324\n",
      "no_DR        76   96      7    103   2120 \n",
      "\n",
      "Classification Report:\n",
      "             precision    recall  f1-score   support\n",
      "\n",
      "      MNPDR       0.13      0.12      0.12       142\n",
      "        PDR       0.17      0.14      0.16       208\n",
      "      SNPDR       0.00      0.00      0.00        45\n",
      "      mNPDR       0.16      0.07      0.09       411\n",
      "      no_DR       0.78      0.88      0.83      2402\n",
      "\n",
      "avg / total       0.62      0.68      0.65      3208\n",
      "\n",
      "\n",
      "Number of mislabeled points out of a total 3208 points : 1014\n",
      "--------------------------\n",
      "\n",
      "Test set accuracy is  71.3528678304 % for K-Value: 5 \n",
      "\n",
      "col_0     MNPDR  PDR  SNPDR  mNPDR  no_DR\n",
      "worst_DR                                 \n",
      "MNPDR         3   12      1     16    110\n",
      "PDR          10   23      2     22    151\n",
      "SNPDR         1    6      0      6     32\n",
      "mNPDR         5   17      2     25    362\n",
      "no_DR        10   34      1    119   2238 \n",
      "\n",
      "Classification Report:\n",
      "             precision    recall  f1-score   support\n",
      "\n",
      "      MNPDR       0.10      0.02      0.04       142\n",
      "        PDR       0.25      0.11      0.15       208\n",
      "      SNPDR       0.00      0.00      0.00        45\n",
      "      mNPDR       0.13      0.06      0.08       411\n",
      "      no_DR       0.77      0.93      0.85      2402\n",
      "\n",
      "avg / total       0.62      0.71      0.66      3208\n",
      "\n",
      "\n",
      "Number of mislabeled points out of a total 3208 points : 919\n",
      "--------------------------\n",
      "\n",
      "Test set accuracy is  74.4077306733 % for K-Value: 10 \n",
      "\n",
      "col_0     MNPDR  PDR  SNPDR  mNPDR  no_DR\n",
      "worst_DR                                 \n",
      "MNPDR         0    5      0      5    132\n",
      "PDR           2    9      1     10    186\n",
      "SNPDR         1    0      0      1     43\n",
      "mNPDR         0    7      0     10    394\n",
      "no_DR         3    4      0     27   2368 \n",
      "\n",
      "Classification Report:\n",
      "             precision    recall  f1-score   support\n",
      "\n",
      "      MNPDR       0.00      0.00      0.00       142\n",
      "        PDR       0.36      0.04      0.08       208\n",
      "      SNPDR       0.00      0.00      0.00        45\n",
      "      mNPDR       0.19      0.02      0.04       411\n",
      "      no_DR       0.76      0.99      0.86      2402\n",
      "\n",
      "avg / total       0.62      0.74      0.65      3208\n",
      "\n",
      "\n",
      "Number of mislabeled points out of a total 3208 points : 821\n",
      "--------------------------\n",
      "\n",
      "Test set accuracy is  74.6882793017 % for K-Value: 15 \n",
      "\n",
      "col_0     PDR  mNPDR  no_DR\n",
      "worst_DR                   \n",
      "MNPDR       3      2    137\n",
      "PDR         5      5    198\n",
      "SNPDR       1      1     43\n",
      "mNPDR       5      3    403\n",
      "no_DR       2     12   2388 \n",
      "\n",
      "Classification Report:\n",
      "             precision    recall  f1-score   support\n",
      "\n",
      "      MNPDR       0.00      0.00      0.00       142\n",
      "        PDR       0.31      0.02      0.04       208\n",
      "      SNPDR       0.00      0.00      0.00        45\n",
      "      mNPDR       0.13      0.01      0.01       411\n",
      "      no_DR       0.75      0.99      0.86      2402\n",
      "\n",
      "avg / total       0.60      0.75      0.65      3208\n",
      "\n",
      "\n",
      "Number of mislabeled points out of a total 3208 points : 812\n",
      "--------------------------\n"
     ]
    }
   ],
   "source": [
    "X=Morefeatures_missingHandle[predictors1]\n",
    "y=Morefeatures_missingHandle['worst_DR']\n",
    "X=preprocessing.minmax_scale(X)\n",
    "X_train, X_test,y_train,y_test=train_test_split(X,y,stratify=y,test_size=0.20,random_state=42)\n",
    "for K in [3,5,10,15]:\n",
    "    neigh = KNeighborsClassifier(n_neighbors = K)\n",
    "    neigh.fit(X_train, y_train) \n",
    "    y_pred = neigh.predict(X_test)\n",
    "    print \"\\nTest set accuracy is \", accuracy_score(y_test,y_pred)*100,\"% for K-Value:\",K ,\"\\n\"\n",
    "    print(pd.crosstab(y_test, y_pred)), \"\\n\"\n",
    "    print \"Classification Report:\\n\", (metrics.classification_report(y_test,y_pred))\n",
    "    print(\"\\nNumber of mislabeled points out of a total %d points : %d\"\n",
    "      % (X_test.shape[0],(y_test != y_pred).sum()))\n",
    "    print \"--------------------------\""
   ]
  },
  {
   "cell_type": "markdown",
   "metadata": {},
   "source": [
    "Predictors: More features Response: Recent_DR"
   ]
  },
  {
   "cell_type": "code",
   "execution_count": 52,
   "metadata": {
    "collapsed": true
   },
   "outputs": [
    {
     "name": "stdout",
     "output_type": "stream",
     "text": [
      "\n",
      "Test set accuracy is  67.3316708229 % for K-Value: 3 \n",
      "\n",
      "col_0      MNPDR  PDR  SNPDR  mNPDR  no_DR\n",
      "recent_DR                                 \n",
      "MNPDR          5   17      3     10     96\n",
      "PDR           15   31      3     13    131\n",
      "SNPDR          2    6      1      1     29\n",
      "mNPDR         34   39      5     36    329\n",
      "no_DR         79  112     10    114   2087 \n",
      "\n",
      "Classification Report:\n",
      "             precision    recall  f1-score   support\n",
      "\n",
      "      MNPDR       0.04      0.04      0.04       131\n",
      "        PDR       0.15      0.16      0.16       193\n",
      "      SNPDR       0.05      0.03      0.03        39\n",
      "      mNPDR       0.21      0.08      0.12       443\n",
      "      no_DR       0.78      0.87      0.82      2402\n",
      "\n",
      "avg / total       0.62      0.67      0.64      3208\n",
      "\n",
      "\n",
      "Number of mislabeled points out of a total 3208 points : 1048\n",
      "--------------------------\n",
      "\n",
      "Test set accuracy is  71.789276808 % for K-Value: 5 \n",
      "\n",
      "col_0      MNPDR  PDR  SNPDR  mNPDR  no_DR\n",
      "recent_DR                                 \n",
      "MNPDR          2    8      1     16    104\n",
      "PDR           10   18      1     16    148\n",
      "SNPDR          1    7      0      2     29\n",
      "mNPDR          5   20      1     47    370\n",
      "no_DR         14   30      2    120   2236 \n",
      "\n",
      "Classification Report:\n",
      "             precision    recall  f1-score   support\n",
      "\n",
      "      MNPDR       0.06      0.02      0.02       131\n",
      "        PDR       0.22      0.09      0.13       193\n",
      "      SNPDR       0.00      0.00      0.00        39\n",
      "      mNPDR       0.23      0.11      0.15       443\n",
      "      no_DR       0.77      0.93      0.85      2402\n",
      "\n",
      "avg / total       0.63      0.72      0.66      3208\n",
      "\n",
      "\n",
      "Number of mislabeled points out of a total 3208 points : 905\n",
      "--------------------------\n",
      "\n",
      "Test set accuracy is  74.470074813 % for K-Value: 10 \n",
      "\n",
      "col_0      MNPDR  PDR  mNPDR  no_DR\n",
      "recent_DR                          \n",
      "MNPDR          0    4      9    118\n",
      "PDR            5    9      7    172\n",
      "SNPDR          0    3      0     36\n",
      "mNPDR          0    7     18    418\n",
      "no_DR          2    8     30   2362 \n",
      "\n",
      "Classification Report:\n",
      "             precision    recall  f1-score   support\n",
      "\n",
      "      MNPDR       0.00      0.00      0.00       131\n",
      "        PDR       0.29      0.05      0.08       193\n",
      "      SNPDR       0.00      0.00      0.00        39\n",
      "      mNPDR       0.28      0.04      0.07       443\n",
      "      no_DR       0.76      0.98      0.86      2402\n",
      "\n",
      "avg / total       0.63      0.74      0.66      3208\n",
      "\n",
      "\n",
      "Number of mislabeled points out of a total 3208 points : 819\n",
      "--------------------------\n",
      "\n",
      "Test set accuracy is  74.9688279302 % for K-Value: 15 \n",
      "\n",
      "col_0      MNPDR  PDR  mNPDR  no_DR\n",
      "recent_DR                          \n",
      "MNPDR          0    1      6    124\n",
      "PDR            1    6      6    180\n",
      "SNPDR          0    0      1     38\n",
      "mNPDR          0    3     12    428\n",
      "no_DR          0    4     11   2387 \n",
      "\n",
      "Classification Report:\n",
      "             precision    recall  f1-score   support\n",
      "\n",
      "      MNPDR       0.00      0.00      0.00       131\n",
      "        PDR       0.43      0.03      0.06       193\n",
      "      SNPDR       0.00      0.00      0.00        39\n",
      "      mNPDR       0.33      0.03      0.05       443\n",
      "      no_DR       0.76      0.99      0.86      2402\n",
      "\n",
      "avg / total       0.64      0.75      0.65      3208\n",
      "\n",
      "\n",
      "Number of mislabeled points out of a total 3208 points : 803\n",
      "--------------------------\n"
     ]
    }
   ],
   "source": [
    "X=Morefeatures_missingHandle[predictors1]\n",
    "y=Morefeatures_missingHandle['recent_DR']\n",
    "X=preprocessing.minmax_scale(X)\n",
    "X_train, X_test,y_train,y_test=train_test_split(X,y,stratify=y,test_size=0.20,random_state=42)\n",
    "for K in [3,5,10,15]:\n",
    "    neigh = KNeighborsClassifier(n_neighbors = K)\n",
    "    neigh.fit(X_train, y_train) \n",
    "    y_pred = neigh.predict(X_test)\n",
    "    print \"\\nTest set accuracy is \", accuracy_score(y_test,y_pred)*100,\"% for K-Value:\",K ,\"\\n\"\n",
    "    print(pd.crosstab(y_test, y_pred)), \"\\n\"\n",
    "    print \"Classification Report:\\n\", (metrics.classification_report(y_test,y_pred))\n",
    "    print(\"\\nNumber of mislabeled points out of a total %d points : %d\"\n",
    "      % (X_test.shape[0],(y_test != y_pred).sum()))\n",
    "    print \"--------------------------\""
   ]
  },
  {
   "cell_type": "markdown",
   "metadata": {},
   "source": [
    "Predictors: More features Response: More_Recent_Vis"
   ]
  },
  {
   "cell_type": "code",
   "execution_count": 53,
   "metadata": {
    "collapsed": false
   },
   "outputs": [
    {
     "name": "stdout",
     "output_type": "stream",
     "text": [
      "\n",
      "Test set accuracy is  71.8204488778 % for K-Value: 3 \n",
      "\n",
      "col_0                   no_DR  non_vision_threatening  vision_threatening\n",
      "more_recent_vis                                                          \n",
      "no_DR                    2204                     171                  27\n",
      "non_vision_threatening    467                      86                  21\n",
      "vision_threatening        176                      42                  14 \n",
      "\n",
      "Classification Report:\n",
      "                        precision    recall  f1-score   support\n",
      "\n",
      "                 no_DR       0.77      0.92      0.84      2402\n",
      "non_vision_threatening       0.29      0.15      0.20       574\n",
      "    vision_threatening       0.23      0.06      0.10       232\n",
      "\n",
      "           avg / total       0.65      0.72      0.67      3208\n",
      "\n",
      "\n",
      "Number of mislabeled points out of a total 3208 points : 904\n",
      "--------------------------\n",
      "\n",
      "Test set accuracy is  73.8466334165 % for K-Value: 5 \n",
      "\n",
      "col_0                   no_DR  non_vision_threatening  vision_threatening\n",
      "more_recent_vis                                                          \n",
      "no_DR                    2303                      91                   8\n",
      "non_vision_threatening    505                      58                  11\n",
      "vision_threatening        195                      29                   8 \n",
      "\n",
      "Classification Report:\n",
      "                        precision    recall  f1-score   support\n",
      "\n",
      "                 no_DR       0.77      0.96      0.85      2402\n",
      "non_vision_threatening       0.33      0.10      0.15       574\n",
      "    vision_threatening       0.30      0.03      0.06       232\n",
      "\n",
      "           avg / total       0.65      0.74      0.67      3208\n",
      "\n",
      "\n",
      "Number of mislabeled points out of a total 3208 points : 839\n",
      "--------------------------\n",
      "\n",
      "Test set accuracy is  75.1558603491 % for K-Value: 10 \n",
      "\n",
      "col_0                   no_DR  non_vision_threatening  vision_threatening\n",
      "more_recent_vis                                                          \n",
      "no_DR                    2378                      24                   0\n",
      "non_vision_threatening    544                      24                   6\n",
      "vision_threatening        211                      12                   9 \n",
      "\n",
      "Classification Report:\n",
      "                        precision    recall  f1-score   support\n",
      "\n",
      "                 no_DR       0.76      0.99      0.86      2402\n",
      "non_vision_threatening       0.40      0.04      0.08       574\n",
      "    vision_threatening       0.60      0.04      0.07       232\n",
      "\n",
      "           avg / total       0.68      0.75      0.66      3208\n",
      "\n",
      "\n",
      "Number of mislabeled points out of a total 3208 points : 797\n",
      "--------------------------\n",
      "\n",
      "Test set accuracy is  75.0935162095 % for K-Value: 15 \n",
      "\n",
      "col_0                   no_DR  non_vision_threatening  vision_threatening\n",
      "more_recent_vis                                                          \n",
      "no_DR                    2387                      15                   0\n",
      "non_vision_threatening    554                      19                   1\n",
      "vision_threatening        222                       7                   3 \n",
      "\n",
      "Classification Report:\n",
      "                        precision    recall  f1-score   support\n",
      "\n",
      "                 no_DR       0.75      0.99      0.86      2402\n",
      "non_vision_threatening       0.46      0.03      0.06       574\n",
      "    vision_threatening       0.75      0.01      0.03       232\n",
      "\n",
      "           avg / total       0.70      0.75      0.66      3208\n",
      "\n",
      "\n",
      "Number of mislabeled points out of a total 3208 points : 799\n",
      "--------------------------\n"
     ]
    }
   ],
   "source": [
    "X=Morefeatures_missingHandle[predictors1]\n",
    "y=Morefeatures_missingHandle['more_recent_vis']\n",
    "X=preprocessing.minmax_scale(X)\n",
    "X_train, X_test,y_train,y_test=train_test_split(X,y,stratify=y,test_size=0.20,random_state=42)\n",
    "for K in [3,5,10,15]:\n",
    "    neigh = KNeighborsClassifier(n_neighbors = K)\n",
    "    neigh.fit(X_train, y_train) \n",
    "    y_pred = neigh.predict(X_test)\n",
    "    print \"\\nTest set accuracy is \", accuracy_score(y_test,y_pred)*100,\"% for K-Value:\",K ,\"\\n\"\n",
    "    print(pd.crosstab(y_test, y_pred)), \"\\n\"\n",
    "    print \"Classification Report:\\n\", (metrics.classification_report(y_test,y_pred))\n",
    "    print(\"\\nNumber of mislabeled points out of a total %d points : %d\"\n",
    "      % (X_test.shape[0],(y_test != y_pred).sum()))\n",
    "    print \"--------------------------\""
   ]
  },
  {
   "cell_type": "markdown",
   "metadata": {
    "collapsed": true
   },
   "source": [
    "## Gaussian NB"
   ]
  },
  {
   "cell_type": "markdown",
   "metadata": {},
   "source": [
    "Predictors: Baseline features Response: Recent_DR"
   ]
  },
  {
   "cell_type": "code",
   "execution_count": 44,
   "metadata": {
    "collapsed": false
   },
   "outputs": [
    {
     "name": "stdout",
     "output_type": "stream",
     "text": [
      "GaussianNB(priors=None)\n",
      "\n",
      "Test set accuracy is  29.6758104738 \n",
      "\n",
      "col_0      MNPDR  PDR  SNPDR  mNPDR  no_DR\n",
      "recent_DR                                 \n",
      "MNPDR          0   28     32     71      0\n",
      "PDR            0   53     33    107      0\n",
      "SNPDR          0   11     16     12      0\n",
      "mNPDR          0   66     46    331      0\n",
      "no_DR          1  256    192   1401    552 \n",
      "\n",
      "Classification Report:\n",
      "             precision    recall  f1-score   support\n",
      "\n",
      "      MNPDR       0.00      0.00      0.00       131\n",
      "        PDR       0.13      0.27      0.17       193\n",
      "      SNPDR       0.05      0.41      0.09        39\n",
      "      mNPDR       0.17      0.75      0.28       443\n",
      "      no_DR       1.00      0.23      0.37      2402\n",
      "\n",
      "avg / total       0.78      0.30      0.33      3208\n",
      "\n",
      "Number of mislabeled points out of a total 3208 points : 2256\n"
     ]
    }
   ],
   "source": [
    "model = GaussianNB()\n",
    "X=baseline_missingHandle[predictors]\n",
    "y=baseline_missingHandle['recent_DR']\n",
    "X=preprocessing.minmax_scale(X)\n",
    "X_train, X_test,y_train,y_test=train_test_split(X,y,stratify=y,test_size=0.20,random_state=42)\n",
    "model.fit(X_train, y_train)\n",
    "print(model)\n",
    "# make predictions\n",
    "y_pred = model.predict(X_test)\n",
    "# summarize the fit of the model\n",
    "print \"\\nTest set accuracy is \", accuracy_score(y_test,y_pred)*100,\"\\n\"\n",
    "print(pd.crosstab(y_test, y_pred)), \"\\n\"\n",
    "print \"Classification Report:\\n\", (metrics.classification_report(y_test, y_pred))\n",
    "print(\"Number of mislabeled points out of a total %d points : %d\"\n",
    "      % (X_test.shape[0],(y_test != y_pred).sum()))"
   ]
  },
  {
   "cell_type": "markdown",
   "metadata": {},
   "source": [
    "Predictors: Baseline features Response: base_recent_vis"
   ]
  },
  {
   "cell_type": "code",
   "execution_count": 43,
   "metadata": {
    "collapsed": false
   },
   "outputs": [
    {
     "name": "stdout",
     "output_type": "stream",
     "text": [
      "GaussianNB(priors=None)\n",
      "\n",
      "Test set accuracy is  32.5748129676 \n",
      "\n",
      "col_0                   no_DR  non_vision_threatening  vision_threatening\n",
      "base_recent_vis                                                          \n",
      "no_DR                     518                    1672                 212\n",
      "non_vision_threatening      1                     452                 121\n",
      "vision_threatening          0                     157                  75 \n",
      "\n",
      "Classification Report:\n",
      "                        precision    recall  f1-score   support\n",
      "\n",
      "                 no_DR       1.00      0.22      0.35      2402\n",
      "non_vision_threatening       0.20      0.79      0.32       574\n",
      "    vision_threatening       0.18      0.32      0.23       232\n",
      "\n",
      "           avg / total       0.80      0.33      0.34      3208\n",
      "\n",
      "Number of mislabeled points out of a total 3208 points : 2163\n"
     ]
    }
   ],
   "source": [
    "model = GaussianNB()\n",
    "X=baseline_missingHandle[predictors]\n",
    "y=baseline_missingHandle['base_recent_vis']\n",
    "X=preprocessing.minmax_scale(X)\n",
    "X_train, X_test,y_train,y_test=train_test_split(X,y,stratify=y,test_size=0.20,random_state=42)\n",
    "model.fit(X_train, y_train)\n",
    "print(model)\n",
    "# make predictions\n",
    "y_pred = model.predict(X_test)\n",
    "# summarize the fit of the model\n",
    "print \"\\nTest set accuracy is \", accuracy_score(y_test,y_pred)*100,\"\\n\"\n",
    "print(pd.crosstab(y_test, y_pred)), \"\\n\"\n",
    "print \"Classification Report:\\n\", (metrics.classification_report(y_test, y_pred))\n",
    "print(\"Number of mislabeled points out of a total %d points : %d\"\n",
    "      % (X_test.shape[0],(y_test != y_pred).sum()))"
   ]
  },
  {
   "cell_type": "markdown",
   "metadata": {},
   "source": [
    "Predictors: More features Response: Recent_DR"
   ]
  },
  {
   "cell_type": "code",
   "execution_count": 42,
   "metadata": {
    "collapsed": false
   },
   "outputs": [
    {
     "name": "stdout",
     "output_type": "stream",
     "text": [
      "GaussianNB(priors=None)\n",
      "\n",
      "Test set accuracy is  19.1396508728 \n",
      "\n",
      "col_0      MNPDR  PDR  SNPDR  mNPDR  no_DR\n",
      "recent_DR                                 \n",
      "MNPDR          2    7    118      4      0\n",
      "PDR            1    8    181      3      0\n",
      "SNPDR          0    2     37      0      0\n",
      "mNPDR          2   31    402      6      2\n",
      "no_DR         19  110   1673     39    561 \n",
      "\n",
      "Classification Report:\n",
      "             precision    recall  f1-score   support\n",
      "\n",
      "      MNPDR       0.08      0.02      0.03       131\n",
      "        PDR       0.05      0.04      0.05       193\n",
      "      SNPDR       0.02      0.95      0.03        39\n",
      "      mNPDR       0.12      0.01      0.02       443\n",
      "      no_DR       1.00      0.23      0.38      2402\n",
      "\n",
      "avg / total       0.77      0.19      0.29      3208\n",
      "\n",
      "Number of mislabeled points out of a total 3208 points : 2594\n"
     ]
    }
   ],
   "source": [
    "model = GaussianNB()\n",
    "X=Morefeatures_missingHandle[predictors1]\n",
    "y=Morefeatures_missingHandle['recent_DR']\n",
    "X=preprocessing.minmax_scale(X)\n",
    "X_train, X_test,y_train,y_test=train_test_split(X,y,stratify=y,test_size=0.20,random_state=42)\n",
    "model.fit(X_train, y_train)\n",
    "print(model)\n",
    "# make predictions\n",
    "y_pred = model.predict(X_test)\n",
    "# summarize the fit of the model\n",
    "print \"\\nTest set accuracy is \", accuracy_score(y_test,y_pred)*100,\"\\n\"\n",
    "print(pd.crosstab(y_test, y_pred)), \"\\n\"\n",
    "print \"Classification Report:\\n\", (metrics.classification_report(y_test, y_pred))\n",
    "print(\"Number of mislabeled points out of a total %d points : %d\"\n",
    "      % (X_test.shape[0],(y_test != y_pred).sum()))"
   ]
  },
  {
   "cell_type": "markdown",
   "metadata": {},
   "source": [
    "Predictors: More features Response: more_recent_vis\n"
   ]
  },
  {
   "cell_type": "code",
   "execution_count": 41,
   "metadata": {
    "collapsed": false
   },
   "outputs": [
    {
     "name": "stdout",
     "output_type": "stream",
     "text": [
      "GaussianNB(priors=None)\n",
      "\n",
      "Test set accuracy is  24.0336658354 \n",
      "\n",
      "col_0                   no_DR  non_vision_threatening  vision_threatening\n",
      "more_recent_vis                                                          \n",
      "no_DR                     522                      79                1801\n",
      "non_vision_threatening      1                      24                 549\n",
      "vision_threatening          0                       7                 225 \n",
      "\n",
      "Classification Report:\n",
      "                        precision    recall  f1-score   support\n",
      "\n",
      "                 no_DR       1.00      0.22      0.36      2402\n",
      "non_vision_threatening       0.22      0.04      0.07       574\n",
      "    vision_threatening       0.09      0.97      0.16       232\n",
      "\n",
      "           avg / total       0.79      0.24      0.29      3208\n",
      "\n",
      "Number of mislabeled points out of a total 3208 points : 2437\n"
     ]
    }
   ],
   "source": [
    "model = GaussianNB()\n",
    "X=Morefeatures_missingHandle[predictors1]\n",
    "y=Morefeatures_missingHandle['more_recent_vis']\n",
    "X=preprocessing.minmax_scale(X)\n",
    "X_train, X_test,y_train,y_test=train_test_split(X,y,stratify=y,test_size=0.20,random_state=42)\n",
    "model.fit(X_train, y_train)\n",
    "print(model)\n",
    "# make predictions\n",
    "y_pred = model.predict(X_test)\n",
    "# summarize the fit of the model\n",
    "print \"\\nTest set accuracy is \", accuracy_score(y_test,y_pred)*100,\"\\n\"\n",
    "print(pd.crosstab(y_test, y_pred)), \"\\n\"\n",
    "print \"Classification Report:\\n\", (metrics.classification_report(y_test, y_pred))\n",
    "print(\"Number of mislabeled points out of a total %d points : %d\"\n",
    "      % (X_test.shape[0],(y_test != y_pred).sum()))"
   ]
  },
  {
   "cell_type": "markdown",
   "metadata": {},
   "source": [
    "## Bernoulli NB"
   ]
  },
  {
   "cell_type": "markdown",
   "metadata": {},
   "source": [
    "Predictors: Baseline features  Response: recent_DR"
   ]
  },
  {
   "cell_type": "code",
   "execution_count": 40,
   "metadata": {
    "collapsed": false
   },
   "outputs": [
    {
     "name": "stdout",
     "output_type": "stream",
     "text": [
      "BernoulliNB(alpha=1.0, binarize=0.0, class_prior=None, fit_prior=True)\n",
      "\n",
      "Test set accuracy is  76.1221945137 \n",
      "\n",
      "col_0      MNPDR  PDR  SNPDR  mNPDR  no_DR\n",
      "recent_DR                                 \n",
      "MNPDR          7   12      2     18     92\n",
      "PDR            4   28      1     31    129\n",
      "SNPDR          5    6      0      4     24\n",
      "mNPDR          5   32      3     24    379\n",
      "no_DR          1   10      1      7   2383 \n",
      "\n",
      "Classification Report:\n",
      "             precision    recall  f1-score   support\n",
      "\n",
      "      MNPDR       0.32      0.05      0.09       131\n",
      "        PDR       0.32      0.15      0.20       193\n",
      "      SNPDR       0.00      0.00      0.00        39\n",
      "      mNPDR       0.29      0.05      0.09       443\n",
      "      no_DR       0.79      0.99      0.88      2402\n",
      "\n",
      "avg / total       0.66      0.76      0.69      3208\n",
      "\n",
      "Number of mislabeled points out of a total 3208 points : 766\n"
     ]
    }
   ],
   "source": [
    "model = BernoulliNB()\n",
    "X=baseline_missingHandle[predictors]\n",
    "y=baseline_missingHandle['recent_DR']\n",
    "X=preprocessing.minmax_scale(X)\n",
    "X_train, X_test,y_train,y_test=train_test_split(X,y,stratify=y,test_size=0.20,random_state=42)\n",
    "model.fit(X_train, y_train)\n",
    "print(model)\n",
    "# make predictions\n",
    "y_pred = model.predict(X_test)\n",
    "# summarize the fit of the model\n",
    "print \"\\nTest set accuracy is \", accuracy_score(y_test,y_pred)*100,\"\\n\"\n",
    "print(pd.crosstab(y_test, y_pred)), \"\\n\"\n",
    "print \"Classification Report:\\n\", (metrics.classification_report(y_test, y_pred))\n",
    "print(\"Number of mislabeled points out of a total %d points : %d\"\n",
    "      % (X_test.shape[0],(y_test != y_pred).sum()))"
   ]
  },
  {
   "cell_type": "markdown",
   "metadata": {},
   "source": [
    "Predictors: Baseline features Response: base_recent_vis"
   ]
  },
  {
   "cell_type": "code",
   "execution_count": 39,
   "metadata": {
    "collapsed": false
   },
   "outputs": [
    {
     "name": "stdout",
     "output_type": "stream",
     "text": [
      "BernoulliNB(alpha=1.0, binarize=0.0, class_prior=None, fit_prior=True)\n",
      "\n",
      "Test set accuracy is  76.9014962594 \n",
      "\n",
      "col_0                   no_DR  non_vision_threatening  vision_threatening\n",
      "base_recent_vis                                                          \n",
      "no_DR                    2379                       9                  14\n",
      "non_vision_threatening    469                      69                  36\n",
      "vision_threatening        155                      58                  19 \n",
      "\n",
      "Classification Report:\n",
      "                        precision    recall  f1-score   support\n",
      "\n",
      "                 no_DR       0.79      0.99      0.88      2402\n",
      "non_vision_threatening       0.51      0.12      0.19       574\n",
      "    vision_threatening       0.28      0.08      0.13       232\n",
      "\n",
      "           avg / total       0.70      0.77      0.70      3208\n",
      "\n",
      "Number of mislabeled points out of a total 3208 points : 741\n"
     ]
    }
   ],
   "source": [
    "model = BernoulliNB()\n",
    "X=baseline_missingHandle[predictors]\n",
    "y=baseline_missingHandle['base_recent_vis']\n",
    "X=preprocessing.minmax_scale(X)\n",
    "X_train, X_test,y_train,y_test=train_test_split(X,y,stratify=y,test_size=0.20,random_state=42)\n",
    "model.fit(X_train, y_train)\n",
    "print(model)\n",
    "# make predictions\n",
    "y_pred = model.predict(X_test)\n",
    "# summarize the fit of the model\n",
    "print \"\\nTest set accuracy is \", accuracy_score(y_test,y_pred)*100,\"\\n\"\n",
    "print(pd.crosstab(y_test, y_pred)), \"\\n\"\n",
    "print \"Classification Report:\\n\", (metrics.classification_report(y_test, y_pred))\n",
    "print(\"Number of mislabeled points out of a total %d points : %d\"\n",
    "      % (X_test.shape[0],(y_test != y_pred).sum()))"
   ]
  },
  {
   "cell_type": "markdown",
   "metadata": {},
   "source": [
    "Predictors: More features Response: recent_DR"
   ]
  },
  {
   "cell_type": "code",
   "execution_count": 38,
   "metadata": {
    "collapsed": false
   },
   "outputs": [
    {
     "name": "stdout",
     "output_type": "stream",
     "text": [
      "BernoulliNB(alpha=1.0, binarize=0.0, class_prior=None, fit_prior=True)\n",
      "\n",
      "Test set accuracy is  76.3092269327 \n",
      "\n",
      "col_0      MNPDR  PDR  SNPDR  mNPDR  no_DR\n",
      "recent_DR                                 \n",
      "MNPDR          6   17      1     15     92\n",
      "PDR            5   37      1     21    129\n",
      "SNPDR          5    7      0      3     24\n",
      "mNPDR          6   31      5     22    379\n",
      "no_DR          3   12      0      4   2383 \n",
      "\n",
      "Classification Report:\n",
      "             precision    recall  f1-score   support\n",
      "\n",
      "      MNPDR       0.24      0.05      0.08       131\n",
      "        PDR       0.36      0.19      0.25       193\n",
      "      SNPDR       0.00      0.00      0.00        39\n",
      "      mNPDR       0.34      0.05      0.09       443\n",
      "      no_DR       0.79      0.99      0.88      2402\n",
      "\n",
      "avg / total       0.67      0.76      0.69      3208\n",
      "\n",
      "Number of mislabeled points out of a total 3208 points : 760\n"
     ]
    }
   ],
   "source": [
    "model=BernoulliNB()\n",
    "X=Morefeatures_missingHandle[predictors1]\n",
    "y=Morefeatures_missingHandle['recent_DR']\n",
    "X=preprocessing.minmax_scale(X)\n",
    "X_train, X_test,y_train,y_test=train_test_split(X,y,stratify=y,test_size=0.20,random_state=42)\n",
    "model.fit(X_train, y_train)\n",
    "print(model)\n",
    "# make predictions\n",
    "y_pred = model.predict(X_test)\n",
    "# summarize the fit of the model\n",
    "print \"\\nTest set accuracy is \", accuracy_score(y_test,y_pred)*100,\"\\n\"\n",
    "print(pd.crosstab(y_test, y_pred)), \"\\n\"\n",
    "print \"Classification Report:\\n\", (metrics.classification_report(y_test, y_pred))\n",
    "print(\"Number of mislabeled points out of a total %d points : %d\"\n",
    "      % (X_test.shape[0],(y_test != y_pred).sum()))"
   ]
  },
  {
   "cell_type": "markdown",
   "metadata": {},
   "source": [
    "Predictors: More features Response: more_recent_vis\n"
   ]
  },
  {
   "cell_type": "code",
   "execution_count": 37,
   "metadata": {
    "collapsed": false
   },
   "outputs": [
    {
     "name": "stdout",
     "output_type": "stream",
     "text": [
      "BernoulliNB(alpha=1.0, binarize=0.0, class_prior=None, fit_prior=True)\n",
      "\n",
      "Test set accuracy is  77.1197007481 \n",
      "\n",
      "col_0                   no_DR  non_vision_threatening  vision_threatening\n",
      "more_recent_vis                                                          \n",
      "no_DR                    2374                      13                  15\n",
      "non_vision_threatening    469                      68                  37\n",
      "vision_threatening        155                      45                  32 \n",
      "\n",
      "Classification Report:\n",
      "                        precision    recall  f1-score   support\n",
      "\n",
      "                 no_DR       0.79      0.99      0.88      2402\n",
      "non_vision_threatening       0.54      0.12      0.19       574\n",
      "    vision_threatening       0.38      0.14      0.20       232\n",
      "\n",
      "           avg / total       0.72      0.77      0.71      3208\n",
      "\n",
      "Number of mislabeled points out of a total 3208 points : 734\n"
     ]
    }
   ],
   "source": [
    "model=BernoulliNB()\n",
    "X=Morefeatures_missingHandle[predictors1]\n",
    "y=Morefeatures_missingHandle['more_recent_vis']\n",
    "X=preprocessing.minmax_scale(X)\n",
    "X_train, X_test,y_train,y_test=train_test_split(X,y,stratify=y,test_size=0.20,random_state=42)\n",
    "model.fit(X_train, y_train)\n",
    "print(model)\n",
    "y_pred = model.predict(X_test)\n",
    "print \"\\nTest set accuracy is \", accuracy_score(y_test,y_pred)*100,\"\\n\"\n",
    "print(pd.crosstab(y_test, y_pred)), \"\\n\"\n",
    "print \"Classification Report:\\n\", (metrics.classification_report(y_test, y_pred))\n",
    "print(\"Number of mislabeled points out of a total %d points : %d\"\n",
    "      % (X_test.shape[0],(y_test != y_pred).sum()))"
   ]
  },
  {
   "cell_type": "markdown",
   "metadata": {},
   "source": [
    "## Multinomial NB\n",
    "Predictors: Baseline features Response: recent_DR"
   ]
  },
  {
   "cell_type": "code",
   "execution_count": 36,
   "metadata": {
    "collapsed": false
   },
   "outputs": [
    {
     "name": "stdout",
     "output_type": "stream",
     "text": [
      "MultinomialNB(alpha=1.0, class_prior=None, fit_prior=True)\n",
      "\n",
      "Test set accuracy is  76.0910224439 \n",
      "\n",
      "col_0      MNPDR  PDR  mNPDR  no_DR\n",
      "recent_DR                          \n",
      "MNPDR          5   11     23     92\n",
      "PDR            1   20     42    130\n",
      "SNPDR          3    5      7     24\n",
      "mNPDR          2   29     33    379\n",
      "no_DR          2    7     10   2383 \n",
      "\n",
      "Classification Report:\n",
      "             precision    recall  f1-score   support\n",
      "\n",
      "      MNPDR       0.38      0.04      0.07       131\n",
      "        PDR       0.28      0.10      0.15       193\n",
      "      SNPDR       0.00      0.00      0.00        39\n",
      "      mNPDR       0.29      0.07      0.12       443\n",
      "      no_DR       0.79      0.99      0.88      2402\n",
      "\n",
      "avg / total       0.67      0.76      0.69      3208\n",
      "\n",
      "Number of mislabeled points out of a total 3208 points : 767\n"
     ]
    }
   ],
   "source": [
    "model = MultinomialNB()\n",
    "X=baseline_missingHandle[predictors]\n",
    "y=baseline_missingHandle['recent_DR']\n",
    "X=preprocessing.minmax_scale(X)\n",
    "X_train, X_test,y_train,y_test=train_test_split(X,y,stratify=y,test_size=0.20,random_state=42)\n",
    "model.fit(X_train, y_train)\n",
    "print(model)\n",
    "y_pred = model.predict(X_test)\n",
    "print \"\\nTest set accuracy is \", accuracy_score(y_test,y_pred)*100,\"\\n\"\n",
    "print(pd.crosstab(y_test, y_pred)), \"\\n\"\n",
    "print \"Classification Report:\\n\", (metrics.classification_report(y_test, y_pred))\n",
    "print(\"Number of mislabeled points out of a total %d points : %d\"\n",
    "      % (X_test.shape[0],(y_test != y_pred).sum()))"
   ]
  },
  {
   "cell_type": "markdown",
   "metadata": {},
   "source": [
    "Predictors: Baseline features Response: base_recent_vis"
   ]
  },
  {
   "cell_type": "code",
   "execution_count": 35,
   "metadata": {
    "collapsed": false
   },
   "outputs": [
    {
     "name": "stdout",
     "output_type": "stream",
     "text": [
      "MultinomialNB(alpha=1.0, class_prior=None, fit_prior=True)\n",
      "\n",
      "Test set accuracy is  77.3379052369 \n",
      "\n",
      "col_0                   no_DR  non_vision_threatening  vision_threatening\n",
      "base_recent_vis                                                          \n",
      "no_DR                    2379                      18                   5\n",
      "non_vision_threatening    469                      92                  13\n",
      "vision_threatening        155                      67                  10 \n",
      "\n",
      "Classification Report:\n",
      "                        precision    recall  f1-score   support\n",
      "\n",
      "                 no_DR       0.79      0.99      0.88      2402\n",
      "non_vision_threatening       0.52      0.16      0.25       574\n",
      "    vision_threatening       0.36      0.04      0.08       232\n",
      "\n",
      "           avg / total       0.71      0.77      0.71      3208\n",
      "\n",
      "Number of mislabeled points out of a total 3208 points : 727\n"
     ]
    }
   ],
   "source": [
    "model = MultinomialNB()\n",
    "X=baseline_missingHandle[predictors]\n",
    "y=baseline_missingHandle['base_recent_vis']\n",
    "X=preprocessing.minmax_scale(X)\n",
    "X_train, X_test,y_train,y_test=train_test_split(X,y,stratify=y,test_size=0.20,random_state=42)\n",
    "model.fit(X_train, y_train)\n",
    "print(model)\n",
    "y_pred = model.predict(X_test)\n",
    "print \"\\nTest set accuracy is \", accuracy_score(y_test,y_pred)*100,\"\\n\"\n",
    "print(pd.crosstab(y_test, y_pred)), \"\\n\"\n",
    "print \"Classification Report:\\n\", (metrics.classification_report(y_test, y_pred))\n",
    "print(\"Number of mislabeled points out of a total %d points : %d\"\n",
    "      % (X_test.shape[0],(y_test != y_pred).sum()))"
   ]
  },
  {
   "cell_type": "markdown",
   "metadata": {},
   "source": [
    "Predictors: More features Response: recent_DR"
   ]
  },
  {
   "cell_type": "code",
   "execution_count": 63,
   "metadata": {
    "collapsed": false
   },
   "outputs": [
    {
     "name": "stdout",
     "output_type": "stream",
     "text": [
      "MultinomialNB(alpha=1.0, class_prior=None, fit_prior=True)\n",
      "\n",
      "Test set accuracy is  76.3403990025 \n",
      "\n",
      "col_0      MNPDR  PDR  SNPDR  mNPDR  no_DR\n",
      "recent_DR                                 \n",
      "MNPDR          3   12      1     23     92\n",
      "PDR            1   26      0     36    130\n",
      "SNPDR          3    6      0      6     24\n",
      "mNPDR          2   24      1     37    379\n",
      "no_DR          2    9      0      8   2383 \n",
      "\n",
      "Classification Report:\n",
      "             precision    recall  f1-score   support\n",
      "\n",
      "      MNPDR       0.27      0.02      0.04       131\n",
      "        PDR       0.34      0.13      0.19       193\n",
      "      SNPDR       0.00      0.00      0.00        39\n",
      "      mNPDR       0.34      0.08      0.13       443\n",
      "      no_DR       0.79      0.99      0.88      2402\n",
      "\n",
      "avg / total       0.67      0.76      0.69      3208\n",
      "\n",
      "Number of mislabeled points out of a total 3208 points : 759\n"
     ]
    }
   ],
   "source": [
    "model = MultinomialNB()\n",
    "X=Morefeatures_missingHandle[predictors1]\n",
    "y=Morefeatures_missingHandle['recent_DR']\n",
    "X=preprocessing.minmax_scale(X)\n",
    "X_train, X_test,y_train,y_test=train_test_split(X,y,stratify=y,test_size=0.20,random_state=42)\n",
    "model.fit(X_train, y_train)\n",
    "print(model)\n",
    "y_pred = model.predict(X_test)\n",
    "print \"\\nTest set accuracy is \", accuracy_score(y_test,y_pred)*100,\"\\n\"\n",
    "print(pd.crosstab(y_test, y_pred)), \"\\n\"\n",
    "print \"Classification Report:\\n\", (metrics.classification_report(y_test, y_pred))\n",
    "print(\"Number of mislabeled points out of a total %d points : %d\"\n",
    "      % (X_test.shape[0],(y_test != y_pred).sum()))"
   ]
  },
  {
   "cell_type": "markdown",
   "metadata": {},
   "source": [
    "Predictors: More features Response: more_recent_vis"
   ]
  },
  {
   "cell_type": "code",
   "execution_count": 31,
   "metadata": {
    "collapsed": false
   },
   "outputs": [
    {
     "name": "stdout",
     "output_type": "stream",
     "text": [
      "MultinomialNB(alpha=1.0, class_prior=None, fit_prior=True)\n",
      "\n",
      "Test set accuracy is  77.2755610973 \n",
      "\n",
      "col_0                   no_DR  non_vision_threatening  vision_threatening\n",
      "more_recent_vis                                                          \n",
      "no_DR                    2379                      17                   6\n",
      "non_vision_threatening    469                      86                  19\n",
      "vision_threatening        155                      63                  14 \n",
      "\n",
      "Classification Report:\n",
      "                        precision    recall  f1-score   support\n",
      "\n",
      "                 no_DR       0.79      0.99      0.88      2402\n",
      "non_vision_threatening       0.52      0.15      0.23       574\n",
      "    vision_threatening       0.36      0.06      0.10       232\n",
      "\n",
      "           avg / total       0.71      0.77      0.71      3208\n",
      "\n",
      "Number of mislabeled points out of a total 3208 points : 729\n"
     ]
    }
   ],
   "source": [
    "model = MultinomialNB()\n",
    "X=Morefeatures_missingHandle[predictors1]\n",
    "y=Morefeatures_missingHandle['more_recent_vis']\n",
    "X=preprocessing.minmax_scale(X)\n",
    "X_train, X_test,y_train,y_test=train_test_split(X,y,stratify=y,test_size=0.20,random_state=42)\n",
    "model.fit(X_train, y_train)\n",
    "print(model)\n",
    "y_pred = model.predict(X_test)\n",
    "print \"\\nTest set accuracy is \", accuracy_score(y_test,y_pred)*100,\"\\n\"\n",
    "print(pd.crosstab(y_test, y_pred)), \"\\n\"\n",
    "print \"Classification Report:\\n\", (metrics.classification_report(y_test, y_pred))\n",
    "print(\"Number of mislabeled points out of a total %d points : %d\"\n",
    "      % (X_test.shape[0],(y_test != y_pred).sum()))"
   ]
  },
  {
   "cell_type": "markdown",
   "metadata": {},
   "source": [
    "## SVM"
   ]
  },
  {
   "cell_type": "markdown",
   "metadata": {},
   "source": [
    "Predictors: Baseline features Response: recent_DR"
   ]
  },
  {
   "cell_type": "code",
   "execution_count": 34,
   "metadata": {
    "collapsed": true
   },
   "outputs": [
    {
     "name": "stdout",
     "output_type": "stream",
     "text": [
      "SVC(C=1.0, cache_size=200, class_weight=None, coef0=0.0,\n",
      "  decision_function_shape=None, degree=3, gamma='auto', kernel='rbf',\n",
      "  max_iter=-1, probability=False, random_state=None, shrinking=True,\n",
      "  tol=0.001, verbose=False)\n",
      "\n",
      "Test set accuracy is  76.246882793 \n",
      "\n",
      "col_0      PDR  no_DR\n",
      "recent_DR            \n",
      "MNPDR       39     92\n",
      "PDR         63    130\n",
      "SNPDR       15     24\n",
      "mNPDR       64    379\n",
      "no_DR       19   2383 \n",
      "\n",
      "Classification Report:\n",
      "             precision    recall  f1-score   support\n",
      "\n",
      "      MNPDR       0.00      0.00      0.00       131\n",
      "        PDR       0.32      0.33      0.32       193\n",
      "      SNPDR       0.00      0.00      0.00        39\n",
      "      mNPDR       0.00      0.00      0.00       443\n",
      "      no_DR       0.79      0.99      0.88      2402\n",
      "\n",
      "avg / total       0.61      0.76      0.68      3208\n",
      "\n",
      "\n",
      "Number of mislabeled points out of a total 3208 points : 762\n"
     ]
    }
   ],
   "source": [
    "model = SVC()\n",
    "X=baseline_missingHandle[predictors]\n",
    "y=baseline_missingHandle['recent_DR']\n",
    "X=preprocessing.minmax_scale(X)\n",
    "X_train, X_test,y_train,y_test=train_test_split(X,y,stratify=y,test_size=0.20,random_state=42)\n",
    "model.fit(X_train, y_train)\n",
    "print(model)\n",
    "y_pred = model.predict(X_test)\n",
    "print \"\\nTest set accuracy is \", accuracy_score(y_test,y_pred)*100,\"\\n\"\n",
    "print(pd.crosstab(y_test, y_pred)), \"\\n\"\n",
    "print \"Classification Report:\\n\", (metrics.classification_report(y_test,y_pred))\n",
    "print(\"\\nNumber of mislabeled points out of a total %d points : %d\"\n",
    "      % (X_test.shape[0],(y_test != y_pred).sum()))"
   ]
  },
  {
   "cell_type": "markdown",
   "metadata": {},
   "source": [
    "Predictors: More features Response: recent_DR"
   ]
  },
  {
   "cell_type": "code",
   "execution_count": 33,
   "metadata": {
    "collapsed": true
   },
   "outputs": [
    {
     "name": "stdout",
     "output_type": "stream",
     "text": [
      "SVC(C=1.0, cache_size=200, class_weight=None, coef0=0.0,\n",
      "  decision_function_shape=None, degree=3, gamma='auto', kernel='rbf',\n",
      "  max_iter=-1, probability=False, random_state=None, shrinking=True,\n",
      "  tol=0.001, verbose=False)\n",
      "\n",
      "Test set accuracy is  76.4027431421 \n",
      "\n",
      "col_0      PDR  mNPDR  no_DR\n",
      "recent_DR                   \n",
      "MNPDR        1     38     92\n",
      "PDR          8     55    130\n",
      "SNPDR        1     14     24\n",
      "mNPDR        4     60    379\n",
      "no_DR        1     18   2383 \n",
      "\n",
      "Classification Report:\n",
      "             precision    recall  f1-score   support\n",
      "\n",
      "      MNPDR       0.00      0.00      0.00       131\n",
      "        PDR       0.53      0.04      0.08       193\n",
      "      SNPDR       0.00      0.00      0.00        39\n",
      "      mNPDR       0.32      0.14      0.19       443\n",
      "      no_DR       0.79      0.99      0.88      2402\n",
      "\n",
      "avg / total       0.67      0.76      0.69      3208\n",
      "\n",
      "\n",
      "Number of mislabeled points out of a total 3208 points : 757\n"
     ]
    }
   ],
   "source": [
    "model = SVC()\n",
    "X=Morefeatures_missingHandle[predictors1]\n",
    "y=Morefeatures_missingHandle['recent_DR']\n",
    "X=preprocessing.minmax_scale(X)\n",
    "X_train, X_test,y_train,y_test=train_test_split(X,y,stratify=y,test_size=0.20,random_state=42)\n",
    "model.fit(X_train, y_train)\n",
    "print(model)\n",
    "y_pred = model.predict(X_test)\n",
    "print \"\\nTest set accuracy is \", accuracy_score(y_test,y_pred)*100,\"\\n\"\n",
    "print(pd.crosstab(y_test, y_pred)), \"\\n\"\n",
    "print \"Classification Report:\\n\", (metrics.classification_report(y_test,y_pred))\n",
    "print(\"\\nNumber of mislabeled points out of a total %d points : %d\"\n",
    "      % (X_test.shape[0],(y_test != y_pred).sum()))"
   ]
  },
  {
   "cell_type": "markdown",
   "metadata": {
    "collapsed": true
   },
   "source": [
    "Predictors: Base features Response: base_recent_vis"
   ]
  },
  {
   "cell_type": "code",
   "execution_count": 28,
   "metadata": {
    "collapsed": true
   },
   "outputs": [
    {
     "name": "stdout",
     "output_type": "stream",
     "text": [
      "SVC(C=1.0, cache_size=200, class_weight=None, coef0=0.0,\n",
      "  decision_function_shape=None, degree=3, gamma='auto', kernel='rbf',\n",
      "  max_iter=-1, probability=False, random_state=None, shrinking=True,\n",
      "  tol=0.001, verbose=False)\n",
      "\n",
      "Test set accuracy is  77.4314214464 \n",
      "\n",
      "col_0                   no_DR  non_vision_threatening\n",
      "base_recent_vis                                      \n",
      "no_DR                    2379                      23\n",
      "non_vision_threatening    469                     105\n",
      "vision_threatening        155                      77 \n",
      "\n",
      "Classification Report:\n",
      "                        precision    recall  f1-score   support\n",
      "\n",
      "                 no_DR       0.79      0.99      0.88      2402\n",
      "non_vision_threatening       0.51      0.18      0.27       574\n",
      "    vision_threatening       0.00      0.00      0.00       232\n",
      "\n",
      "           avg / total       0.68      0.77      0.71      3208\n",
      "\n",
      "\n",
      "Number of mislabeled points out of a total 3208 points : 724\n"
     ]
    },
    {
     "name": "stderr",
     "output_type": "stream",
     "text": [
      "C:\\Users\\mom1\\Anaconda2\\lib\\site-packages\\sklearn\\metrics\\classification.py:1113: UndefinedMetricWarning: Precision and F-score are ill-defined and being set to 0.0 in labels with no predicted samples.\n",
      "  'precision', 'predicted', average, warn_for)\n"
     ]
    }
   ],
   "source": [
    "model = SVC()\n",
    "X=baseline_missingHandle[predictors]\n",
    "y=baseline_missingHandle['base_recent_vis']\n",
    "X=preprocessing.minmax_scale(X)\n",
    "X_train, X_test,y_train,y_test=train_test_split(X,y,stratify=y,test_size=0.20,random_state=42)\n",
    "model.fit(X_train, y_train)\n",
    "print(model)\n",
    "y_pred = model.predict(X_test)\n",
    "print \"\\nTest set accuracy is \", accuracy_score(y_test,y_pred)*100,\"\\n\"\n",
    "print(pd.crosstab(y_test, y_pred)), \"\\n\"\n",
    "print \"Classification Report:\\n\", (metrics.classification_report(y_test,y_pred))\n",
    "print(\"\\nNumber of mislabeled points out of a total %d points : %d\"\n",
    "      % (X_test.shape[0],(y_test != y_pred).sum()))"
   ]
  },
  {
   "cell_type": "markdown",
   "metadata": {},
   "source": [
    "Predictors: More features Response: more_recent_vis"
   ]
  },
  {
   "cell_type": "code",
   "execution_count": 30,
   "metadata": {
    "collapsed": true
   },
   "outputs": [
    {
     "name": "stdout",
     "output_type": "stream",
     "text": [
      "SVC(C=1.0, cache_size=200, class_weight=None, coef0=0.0,\n",
      "  decision_function_shape=None, degree=3, gamma='auto', kernel='rbf',\n",
      "  max_iter=-1, probability=False, random_state=None, shrinking=True,\n",
      "  tol=0.001, verbose=False)\n",
      "\n",
      "Test set accuracy is  77.4314214464 \n",
      "\n",
      "col_0                   no_DR  non_vision_threatening\n",
      "more_recent_vis                                      \n",
      "no_DR                    2379                      23\n",
      "non_vision_threatening    469                     105\n",
      "vision_threatening        155                      77 \n",
      "\n",
      "Classification Report:\n",
      "                        precision    recall  f1-score   support\n",
      "\n",
      "                 no_DR       0.79      0.99      0.88      2402\n",
      "non_vision_threatening       0.51      0.18      0.27       574\n",
      "    vision_threatening       0.00      0.00      0.00       232\n",
      "\n",
      "           avg / total       0.68      0.77      0.71      3208\n",
      "\n",
      "\n",
      "Number of mislabeled points out of a total 3208 points : 724\n"
     ]
    }
   ],
   "source": [
    "model = SVC()\n",
    "X=Morefeatures_missingHandle[predictors1]\n",
    "y=Morefeatures_missingHandle['more_recent_vis']\n",
    "X=preprocessing.minmax_scale(X)\n",
    "X_train, X_test,y_train,y_test=train_test_split(X,y,stratify=y,test_size=0.20,random_state=42)\n",
    "model.fit(X_train, y_train)\n",
    "print(model)\n",
    "y_pred = model.predict(X_test)\n",
    "print \"\\nTest set accuracy is \", accuracy_score(y_test,y_pred)*100,\"\\n\"\n",
    "print(pd.crosstab(y_test, y_pred)), \"\\n\"\n",
    "print \"Classification Report:\\n\", (metrics.classification_report(y_test,y_pred))\n",
    "print(\"\\nNumber of mislabeled points out of a total %d points : %d\"\n",
    "      % (X_test.shape[0],(y_test != y_pred).sum()))"
   ]
  },
  {
   "cell_type": "code",
   "execution_count": null,
   "metadata": {
    "collapsed": true
   },
   "outputs": [],
   "source": []
  }
 ],
 "metadata": {
  "anaconda-cloud": {},
  "kernelspec": {
   "display_name": "Python [conda root]",
   "language": "python",
   "name": "conda-root-py"
  },
  "language_info": {
   "codemirror_mode": {
    "name": "ipython",
    "version": 2
   },
   "file_extension": ".py",
   "mimetype": "text/x-python",
   "name": "python",
   "nbconvert_exporter": "python",
   "pygments_lexer": "ipython2",
   "version": "2.7.12"
  }
 },
 "nbformat": 4,
 "nbformat_minor": 2
}
