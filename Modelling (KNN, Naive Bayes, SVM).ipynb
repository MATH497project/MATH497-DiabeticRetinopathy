{
 "cells": [
  {
   "cell_type": "code",
   "execution_count": 100,
   "metadata": {
    "collapsed": true
   },
   "outputs": [],
   "source": [
    "import pandas as pd\n",
    "import numpy as np\n",
    "import matplotlib\n",
    "import matplotlib.pyplot as plt\n",
    "from sklearn.neighbors import KNeighborsClassifier\n",
    "from sklearn.model_selection import train_test_split\n",
    "from sklearn import metrics\n",
    "from sklearn.metrics import confusion_matrix\n",
    "from sklearn.metrics import accuracy_score\n",
    "from sklearn import preprocessing\n",
    "from sklearn import metrics\n",
    "from sklearn.ensemble import ExtraTreesClassifier\n"
   ]
  },
  {
   "cell_type": "code",
   "execution_count": 2,
   "metadata": {
    "collapsed": true
   },
   "outputs": [],
   "source": [
    "path = 'E:/SUBJECTS/497 MATH S17 PSP--/Data/'\n",
    "interpath= 'E:/SUBJECTS/497 MATH S17 PSP--/Data/intermediate/'"
   ]
  },
  {
   "cell_type": "code",
   "execution_count": 125,
   "metadata": {
    "collapsed": true
   },
   "outputs": [
    {
     "name": "stdout",
     "output_type": "stream",
     "text": [
      "(16039, 26)\n",
      "Index([u'A1C', u'BMI', u'Glucose', u'BP_Diastolic', u'BP_Systolic', u'DM',\n",
      "       u'ME', u'Glaucoma_Suspect', u'Open_angle_Glaucoma', u'Cataract',\n",
      "       u'Gender_F', u'Gender_M', u'Gender_U', u'Race_Asian',\n",
      "       u'Race_Black or African American', u'Race_Hispanic or Latino',\n",
      "       u'Race_Other', u'Race_White', u'Age_group_(18, 48]',\n",
      "       u'Age_group_(49, 55]', u'Age_group_(56, 60]', u'Age_group_(61, 66]',\n",
      "       u'Age_group_(67, 74]', u'Age_group_(75, 114]', u'worst_DR',\n",
      "       u'recent_DR'],\n",
      "      dtype='object')\n"
     ]
    },
    {
     "data": {
      "text/html": [
       "<div>\n",
       "<table border=\"1\" class=\"dataframe\">\n",
       "  <thead>\n",
       "    <tr style=\"text-align: right;\">\n",
       "      <th></th>\n",
       "      <th>A1C</th>\n",
       "      <th>BMI</th>\n",
       "      <th>Glucose</th>\n",
       "      <th>BP_Diastolic</th>\n",
       "      <th>BP_Systolic</th>\n",
       "      <th>DM</th>\n",
       "      <th>ME</th>\n",
       "      <th>Glaucoma_Suspect</th>\n",
       "      <th>Open_angle_Glaucoma</th>\n",
       "      <th>Cataract</th>\n",
       "      <th>...</th>\n",
       "      <th>Race_Other</th>\n",
       "      <th>Race_White</th>\n",
       "      <th>Age_group_(18, 48]</th>\n",
       "      <th>Age_group_(49, 55]</th>\n",
       "      <th>Age_group_(56, 60]</th>\n",
       "      <th>Age_group_(61, 66]</th>\n",
       "      <th>Age_group_(67, 74]</th>\n",
       "      <th>Age_group_(75, 114]</th>\n",
       "      <th>worst_DR</th>\n",
       "      <th>recent_DR</th>\n",
       "    </tr>\n",
       "    <tr>\n",
       "      <th>Person_Nbr</th>\n",
       "      <th></th>\n",
       "      <th></th>\n",
       "      <th></th>\n",
       "      <th></th>\n",
       "      <th></th>\n",
       "      <th></th>\n",
       "      <th></th>\n",
       "      <th></th>\n",
       "      <th></th>\n",
       "      <th></th>\n",
       "      <th></th>\n",
       "      <th></th>\n",
       "      <th></th>\n",
       "      <th></th>\n",
       "      <th></th>\n",
       "      <th></th>\n",
       "      <th></th>\n",
       "      <th></th>\n",
       "      <th></th>\n",
       "      <th></th>\n",
       "      <th></th>\n",
       "    </tr>\n",
       "  </thead>\n",
       "  <tbody>\n",
       "    <tr>\n",
       "      <th>33</th>\n",
       "      <td>8.000000</td>\n",
       "      <td>31.579036</td>\n",
       "      <td>130.000000</td>\n",
       "      <td>78.000000</td>\n",
       "      <td>118.000000</td>\n",
       "      <td>True</td>\n",
       "      <td>False</td>\n",
       "      <td>False</td>\n",
       "      <td>False</td>\n",
       "      <td>False</td>\n",
       "      <td>...</td>\n",
       "      <td>0</td>\n",
       "      <td>0</td>\n",
       "      <td>0</td>\n",
       "      <td>0</td>\n",
       "      <td>0</td>\n",
       "      <td>1</td>\n",
       "      <td>0</td>\n",
       "      <td>0</td>\n",
       "      <td>no_DR</td>\n",
       "      <td>no_DR</td>\n",
       "    </tr>\n",
       "    <tr>\n",
       "      <th>89</th>\n",
       "      <td>7.280372</td>\n",
       "      <td>32.452934</td>\n",
       "      <td>133.443515</td>\n",
       "      <td>53.000000</td>\n",
       "      <td>92.000000</td>\n",
       "      <td>True</td>\n",
       "      <td>False</td>\n",
       "      <td>True</td>\n",
       "      <td>False</td>\n",
       "      <td>False</td>\n",
       "      <td>...</td>\n",
       "      <td>1</td>\n",
       "      <td>0</td>\n",
       "      <td>0</td>\n",
       "      <td>0</td>\n",
       "      <td>1</td>\n",
       "      <td>0</td>\n",
       "      <td>0</td>\n",
       "      <td>0</td>\n",
       "      <td>no_DR</td>\n",
       "      <td>no_DR</td>\n",
       "    </tr>\n",
       "    <tr>\n",
       "      <th>146</th>\n",
       "      <td>6.989072</td>\n",
       "      <td>31.129173</td>\n",
       "      <td>128.568645</td>\n",
       "      <td>75.000000</td>\n",
       "      <td>130.000000</td>\n",
       "      <td>True</td>\n",
       "      <td>False</td>\n",
       "      <td>True</td>\n",
       "      <td>False</td>\n",
       "      <td>True</td>\n",
       "      <td>...</td>\n",
       "      <td>1</td>\n",
       "      <td>0</td>\n",
       "      <td>0</td>\n",
       "      <td>0</td>\n",
       "      <td>0</td>\n",
       "      <td>0</td>\n",
       "      <td>1</td>\n",
       "      <td>0</td>\n",
       "      <td>no_DR</td>\n",
       "      <td>no_DR</td>\n",
       "    </tr>\n",
       "    <tr>\n",
       "      <th>196</th>\n",
       "      <td>7.280372</td>\n",
       "      <td>32.452934</td>\n",
       "      <td>78.000000</td>\n",
       "      <td>88.000000</td>\n",
       "      <td>125.000000</td>\n",
       "      <td>False</td>\n",
       "      <td>False</td>\n",
       "      <td>False</td>\n",
       "      <td>False</td>\n",
       "      <td>False</td>\n",
       "      <td>...</td>\n",
       "      <td>1</td>\n",
       "      <td>0</td>\n",
       "      <td>0</td>\n",
       "      <td>0</td>\n",
       "      <td>1</td>\n",
       "      <td>0</td>\n",
       "      <td>0</td>\n",
       "      <td>0</td>\n",
       "      <td>no_DR</td>\n",
       "      <td>no_DR</td>\n",
       "    </tr>\n",
       "    <tr>\n",
       "      <th>327</th>\n",
       "      <td>7.203035</td>\n",
       "      <td>31.579036</td>\n",
       "      <td>121.000000</td>\n",
       "      <td>78.082412</td>\n",
       "      <td>134.756106</td>\n",
       "      <td>False</td>\n",
       "      <td>False</td>\n",
       "      <td>True</td>\n",
       "      <td>False</td>\n",
       "      <td>False</td>\n",
       "      <td>...</td>\n",
       "      <td>0</td>\n",
       "      <td>0</td>\n",
       "      <td>0</td>\n",
       "      <td>0</td>\n",
       "      <td>0</td>\n",
       "      <td>1</td>\n",
       "      <td>0</td>\n",
       "      <td>0</td>\n",
       "      <td>no_DR</td>\n",
       "      <td>no_DR</td>\n",
       "    </tr>\n",
       "  </tbody>\n",
       "</table>\n",
       "<p>5 rows × 26 columns</p>\n",
       "</div>"
      ],
      "text/plain": [
       "                 A1C        BMI     Glucose  BP_Diastolic  BP_Systolic     DM  \\\n",
       "Person_Nbr                                                                      \n",
       "33          8.000000  31.579036  130.000000     78.000000   118.000000   True   \n",
       "89          7.280372  32.452934  133.443515     53.000000    92.000000   True   \n",
       "146         6.989072  31.129173  128.568645     75.000000   130.000000   True   \n",
       "196         7.280372  32.452934   78.000000     88.000000   125.000000  False   \n",
       "327         7.203035  31.579036  121.000000     78.082412   134.756106  False   \n",
       "\n",
       "               ME Glaucoma_Suspect Open_angle_Glaucoma Cataract    ...      \\\n",
       "Person_Nbr                                                         ...       \n",
       "33          False            False               False    False    ...       \n",
       "89          False             True               False    False    ...       \n",
       "146         False             True               False     True    ...       \n",
       "196         False            False               False    False    ...       \n",
       "327         False             True               False    False    ...       \n",
       "\n",
       "            Race_Other  Race_White  Age_group_(18, 48]  Age_group_(49, 55]  \\\n",
       "Person_Nbr                                                                   \n",
       "33                   0           0                   0                   0   \n",
       "89                   1           0                   0                   0   \n",
       "146                  1           0                   0                   0   \n",
       "196                  1           0                   0                   0   \n",
       "327                  0           0                   0                   0   \n",
       "\n",
       "            Age_group_(56, 60]  Age_group_(61, 66]  Age_group_(67, 74]  \\\n",
       "Person_Nbr                                                               \n",
       "33                           0                   1                   0   \n",
       "89                           1                   0                   0   \n",
       "146                          0                   0                   1   \n",
       "196                          1                   0                   0   \n",
       "327                          0                   1                   0   \n",
       "\n",
       "            Age_group_(75, 114]  worst_DR  recent_DR  \n",
       "Person_Nbr                                            \n",
       "33                            0     no_DR      no_DR  \n",
       "89                            0     no_DR      no_DR  \n",
       "146                           0     no_DR      no_DR  \n",
       "196                           0     no_DR      no_DR  \n",
       "327                           0     no_DR      no_DR  \n",
       "\n",
       "[5 rows x 26 columns]"
      ]
     },
     "execution_count": 125,
     "metadata": {},
     "output_type": "execute_result"
    }
   ],
   "source": [
    "baseline_missingHandle=pd.read_pickle(interpath+\"baseline_missingHandled_Dan_20170406.pickle\")\n",
    "print baseline_missingHandle.shape\n",
    "print baseline_missingHandle.columns\n",
    "baseline_missingHandle.head()"
   ]
  },
  {
   "cell_type": "code",
   "execution_count": 84,
   "metadata": {
    "collapsed": true
   },
   "outputs": [
    {
     "name": "stdout",
     "output_type": "stream",
     "text": [
      "19\n"
     ]
    },
    {
     "data": {
      "text/plain": [
       "Index([u'A1C', u'BMI', u'Glucose', u'BP_Diastolic', u'BP_Systolic',\n",
       "       u'Gender_F', u'Gender_M', u'Gender_U', u'Race_Asian',\n",
       "       u'Race_Black or African American', u'Race_Hispanic or Latino',\n",
       "       u'Race_Other', u'Race_White', u'Age_group_(18, 48]',\n",
       "       u'Age_group_(49, 55]', u'Age_group_(56, 60]', u'Age_group_(61, 66]',\n",
       "       u'Age_group_(67, 74]', u'Age_group_(75, 114]'],\n",
       "      dtype='object')"
      ]
     },
     "execution_count": 84,
     "metadata": {},
     "output_type": "execute_result"
    }
   ],
   "source": [
    "quantitive_columns = baseline_missingHandle.select_dtypes(include=[np.number]).columns\n",
    "print len(quantitive_columns)\n",
    "quantitive_columns"
   ]
  },
  {
   "cell_type": "code",
   "execution_count": 85,
   "metadata": {
    "collapsed": false
   },
   "outputs": [
    {
     "name": "stdout",
     "output_type": "stream",
     "text": [
      "2\n"
     ]
    },
    {
     "data": {
      "text/plain": [
       "Index([u'worst_DR', u'recent_DR'], dtype='object')"
      ]
     },
     "execution_count": 85,
     "metadata": {},
     "output_type": "execute_result"
    }
   ],
   "source": [
    "qualitative_columns = baseline_missingHandle.select_dtypes(include=[object]).columns\n",
    "print len(qualitative_columns)\n",
    "qualitative_columns"
   ]
  },
  {
   "cell_type": "code",
   "execution_count": 87,
   "metadata": {
    "collapsed": true
   },
   "outputs": [
    {
     "name": "stdout",
     "output_type": "stream",
     "text": [
      "Worst_DR:\n",
      "no_DR    12009\n",
      "mNPDR     2055\n",
      "PDR       1040\n",
      "MNPDR      711\n",
      "SNPDR      224\n",
      "Name: worst_DR, dtype: int64\n",
      "\n",
      "Recent_DR:\n",
      "no_DR    12009\n",
      "mNPDR     2214\n",
      "PDR        964\n",
      "MNPDR      654\n",
      "SNPDR      198\n",
      "Name: recent_DR, dtype: int64\n"
     ]
    }
   ],
   "source": [
    "print \"Worst_DR:\"\n",
    "print (baseline_missingHandle.worst_DR).value_counts()\n",
    "print \"\\nRecent_DR:\"\n",
    "print (baseline_missingHandle.recent_DR).value_counts()"
   ]
  },
  {
   "cell_type": "code",
   "execution_count": 126,
   "metadata": {
    "collapsed": true
   },
   "outputs": [],
   "source": [
    "predictors = [u'A1C', u'BMI', u'Glucose', u'BP_Diastolic', u'BP_Systolic',\n",
    "       u'Gender_F', u'Gender_M', u'Gender_U', u'Race_Asian',\n",
    "       u'Race_Black or African American', u'Race_Hispanic or Latino',\n",
    "       u'Race_Other', u'Race_White', u'Age_group_(18, 48]',\n",
    "       u'Age_group_(49, 55]', u'Age_group_(56, 60]', u'Age_group_(61, 66]',\n",
    "       u'Age_group_(67, 74]', u'Age_group_(75, 114]'\n",
    "             ]"
   ]
  },
  {
   "cell_type": "markdown",
   "metadata": {},
   "source": [
    "## KNN"
   ]
  },
  {
   "cell_type": "markdown",
   "metadata": {},
   "source": [
    "Predictors: Baseline features \n",
    "Response: Worst_DR"
   ]
  },
  {
   "cell_type": "code",
   "execution_count": 157,
   "metadata": {
    "collapsed": true
   },
   "outputs": [
    {
     "name": "stdout",
     "output_type": "stream",
     "text": [
      "\n",
      "Test set accuracy is  64.993765586 % for K-Value: 3 \n",
      "\n",
      "col_0     MNPDR  PDR  SNPDR  mNPDR  no_DR\n",
      "worst_DR                                 \n",
      "MNPDR        13   10      2      8    109\n",
      "PDR          11   15      1      8    173\n",
      "SNPDR         4    7      0      1     33\n",
      "mNPDR        23   32      6     24    326\n",
      "no_DR       116  140     26     87   2033 \n",
      "\n",
      "Classification Report:\n",
      "             precision    recall  f1-score   support\n",
      "\n",
      "      MNPDR       0.08      0.09      0.08       142\n",
      "        PDR       0.07      0.07      0.07       208\n",
      "      SNPDR       0.00      0.00      0.00        45\n",
      "      mNPDR       0.19      0.06      0.09       411\n",
      "      no_DR       0.76      0.85      0.80      2402\n",
      "\n",
      "avg / total       0.60      0.65      0.62      3208\n",
      "\n",
      "\n",
      "Number of mislabeled points out of a total 3208 points : 1123\n",
      "--------------------------\n",
      "\n",
      "Test set accuracy is  69.63840399 % for K-Value: 5 \n",
      "\n",
      "col_0     MNPDR  PDR  SNPDR  mNPDR  no_DR\n",
      "worst_DR                                 \n",
      "MNPDR         2    5      0     12    123\n",
      "PDR           5    9      0     17    177\n",
      "SNPDR         1    1      0      4     39\n",
      "mNPDR         5   11      0     30    365\n",
      "no_DR        39   47      2    121   2193 \n",
      "\n",
      "Classification Report:\n",
      "             precision    recall  f1-score   support\n",
      "\n",
      "      MNPDR       0.04      0.01      0.02       142\n",
      "        PDR       0.12      0.04      0.06       208\n",
      "      SNPDR       0.00      0.00      0.00        45\n",
      "      mNPDR       0.16      0.07      0.10       411\n",
      "      no_DR       0.76      0.91      0.83      2402\n",
      "\n",
      "avg / total       0.60      0.70      0.64      3208\n",
      "\n",
      "\n",
      "Number of mislabeled points out of a total 3208 points : 974\n",
      "--------------------------\n",
      "\n",
      "Test set accuracy is  73.7219451372 % for K-Value: 10 \n",
      "\n",
      "col_0     MNPDR  PDR  mNPDR  no_DR\n",
      "worst_DR                          \n",
      "MNPDR         0    1      4    137\n",
      "PDR           0    1      2    205\n",
      "SNPDR         0    0      3     42\n",
      "mNPDR         0    1      7    403\n",
      "no_DR         1   12     32   2357 \n",
      "\n",
      "Classification Report:\n",
      "             precision    recall  f1-score   support\n",
      "\n",
      "      MNPDR       0.00      0.00      0.00       142\n",
      "        PDR       0.07      0.00      0.01       208\n",
      "      SNPDR       0.00      0.00      0.00        45\n",
      "      mNPDR       0.15      0.02      0.03       411\n",
      "      no_DR       0.75      0.98      0.85      2402\n",
      "\n",
      "avg / total       0.58      0.74      0.64      3208\n",
      "\n",
      "\n",
      "Number of mislabeled points out of a total 3208 points : 843\n",
      "--------------------------\n"
     ]
    }
   ],
   "source": [
    "X=baseline_missingHandle[predictors]\n",
    "y=baseline_missingHandle['worst_DR']\n",
    "X=preprocessing.normalize(X)\n",
    "X_train, X_test,y_train,y_test=train_test_split(X,y,stratify=y,test_size=0.20,random_state=42)\n",
    "for K in [3,5,10]:\n",
    "    neigh = KNeighborsClassifier(n_neighbors = K)\n",
    "    neigh.fit(X_train, y_train) \n",
    "    y_pred = neigh.predict(X_test)\n",
    "    print \"\\nTest set accuracy is \", accuracy_score(y_test,y_pred)*100,\"% for K-Value:\",K ,\"\\n\"\n",
    "    print(pd.crosstab(y_test, y_pred)), \"\\n\"\n",
    "    print \"Classification Report:\\n\", (metrics.classification_report(y_test,y_pred))\n",
    "    print(\"\\nNumber of mislabeled points out of a total %d points : %d\"\n",
    "      % (X_test.shape[0],(y_test != y_pred).sum()))\n",
    "    print \"--------------------------\""
   ]
  },
  {
   "cell_type": "code",
   "execution_count": 129,
   "metadata": {
    "collapsed": true
   },
   "outputs": [
    {
     "name": "stdout",
     "output_type": "stream",
     "text": [
      "Feature ranking:\n",
      "1. BP_Diastolic (0.122901)\n",
      "2. A1C (0.121952)\n",
      "3. Glucose (0.118588)\n",
      "4. BMI (0.118502)\n",
      "5. BP_Systolic (0.118152)\n",
      "6. Race_Black or African American (0.074474)\n",
      "7. Gender_F (0.072879)\n",
      "8. Gender_M (0.049522)\n",
      "9. Race_Other (0.037736)\n",
      "10. Age_group_(75, 114] (0.023978)\n",
      "11. Age_group_(61, 66] (0.023794)\n",
      "12. Age_group_(18, 48] (0.022474)\n",
      "13. Age_group_(49, 55] (0.021983)\n",
      "14. Age_group_(67, 74] (0.021847)\n",
      "15. Age_group_(56, 60] (0.021579)\n"
     ]
    }
   ],
   "source": [
    "model = ExtraTreesClassifier()\n",
    "model.fit(X, y)\n",
    "importances = model.feature_importances_\n",
    "std = np.std([tree.feature_importances_ for tree in model.estimators_],\n",
    "             axis=0)\n",
    "indices = np.argsort(importances)[::-1]\n",
    "\n",
    "# Print the feature ranking\n",
    "print(\"Feature ranking:\")\n",
    "\n",
    "for f in range(15):\n",
    "    print(\"%d. %s (%f)\" % (f + 1, [predictors[int(i)] for i in indices][f], importances[indices[f]]))"
   ]
  },
  {
   "cell_type": "code",
   "execution_count": 130,
   "metadata": {
    "collapsed": true
   },
   "outputs": [
    {
     "data": {
      "image/png": "[encoded data removed]",
      "text/plain": [
       "<matplotlib.figure.Figure at 0xc515860>"
      ]
     },
     "metadata": {},
     "output_type": "display_data"
    }
   ],
   "source": [
    "# Plot the feature importances of the model\n",
    "plt.figure()\n",
    "plt.title(\"Feature importances\")\n",
    "plt.bar(range(X.shape[1]), importances[indices],\n",
    "       color=\"b\", yerr=std[indices], align=\"center\",width=.5)\n",
    "\n",
    "plt.xticks(range(X.shape[1]), [predictors[int(i)] for i in indices], rotation='vertical')\n",
    "plt.xlim([-1,15])\n",
    "plt.show()\n"
   ]
  },
  {
   "cell_type": "markdown",
   "metadata": {},
   "source": [
    "Predictors: Baseline features Response: Recent_DR"
   ]
  },
  {
   "cell_type": "code",
   "execution_count": 158,
   "metadata": {
    "collapsed": true
   },
   "outputs": [
    {
     "name": "stdout",
     "output_type": "stream",
     "text": [
      "\n",
      "Test set accuracy is  65.6172069825 % for K-Value: 3 \n",
      "\n",
      "col_0      MNPDR  PDR  SNPDR  mNPDR  no_DR\n",
      "recent_DR                                 \n",
      "MNPDR          7    8      3      8    105\n",
      "PDR           12   13      4     11    153\n",
      "SNPDR          2    4      0      1     32\n",
      "mNPDR         26   21      6     26    364\n",
      "no_DR        117  117     24     85   2059 \n",
      "\n",
      "Classification Report:\n",
      "             precision    recall  f1-score   support\n",
      "\n",
      "      MNPDR       0.04      0.05      0.05       131\n",
      "        PDR       0.08      0.07      0.07       193\n",
      "      SNPDR       0.00      0.00      0.00        39\n",
      "      mNPDR       0.20      0.06      0.09       443\n",
      "      no_DR       0.76      0.86      0.81      2402\n",
      "\n",
      "avg / total       0.60      0.66      0.62      3208\n",
      "\n",
      "\n",
      "Number of mislabeled points out of a total 3208 points : 1103\n",
      "--------------------------\n",
      "\n",
      "Test set accuracy is  70.0436408978 % for K-Value: 5 \n",
      "\n",
      "col_0      MNPDR  PDR  SNPDR  mNPDR  no_DR\n",
      "recent_DR                                 \n",
      "MNPDR          1    3      0     13    114\n",
      "PDR            0    8      0     16    169\n",
      "SNPDR          0    1      0      5     33\n",
      "mNPDR          6   13      0     36    388\n",
      "no_DR         20   50      1    129   2202 \n",
      "\n",
      "Classification Report:\n",
      "             precision    recall  f1-score   support\n",
      "\n",
      "      MNPDR       0.04      0.01      0.01       131\n",
      "        PDR       0.11      0.04      0.06       193\n",
      "      SNPDR       0.00      0.00      0.00        39\n",
      "      mNPDR       0.18      0.08      0.11       443\n",
      "      no_DR       0.76      0.92      0.83      2402\n",
      "\n",
      "avg / total       0.60      0.70      0.64      3208\n",
      "\n",
      "\n",
      "Number of mislabeled points out of a total 3208 points : 961\n",
      "--------------------------\n",
      "\n",
      "Test set accuracy is  74.0648379052 % for K-Value: 10 \n",
      "\n",
      "col_0      MNPDR  PDR  mNPDR  no_DR\n",
      "recent_DR                          \n",
      "MNPDR          0    1      4    126\n",
      "PDR            0    2      3    188\n",
      "SNPDR          0    0      2     37\n",
      "mNPDR          0    2     15    426\n",
      "no_DR          3    7     33   2359 \n",
      "\n",
      "Classification Report:\n",
      "             precision    recall  f1-score   support\n",
      "\n",
      "      MNPDR       0.00      0.00      0.00       131\n",
      "        PDR       0.17      0.01      0.02       193\n",
      "      SNPDR       0.00      0.00      0.00        39\n",
      "      mNPDR       0.26      0.03      0.06       443\n",
      "      no_DR       0.75      0.98      0.85      2402\n",
      "\n",
      "avg / total       0.61      0.74      0.65      3208\n",
      "\n",
      "\n",
      "Number of mislabeled points out of a total 3208 points : 832\n",
      "--------------------------\n"
     ]
    }
   ],
   "source": [
    "X=baseline_missingHandle[predictors]\n",
    "y=baseline_missingHandle['recent_DR']\n",
    "X=preprocessing.normalize(X)\n",
    "X_train, X_test,y_train,y_test=train_test_split(X,y,stratify=y,test_size=0.20,random_state=42)\n",
    "for K in [3,5,10]:\n",
    "    neigh = KNeighborsClassifier(n_neighbors = K)\n",
    "    neigh.fit(X_train, y_train) \n",
    "    y_pred = neigh.predict(X_test)\n",
    "    print \"\\nTest set accuracy is \", accuracy_score(y_test,y_pred)*100,\"% for K-Value:\",K ,\"\\n\"\n",
    "    print(pd.crosstab(y_test, y_pred)), \"\\n\"\n",
    "    print \"Classification Report:\\n\", (metrics.classification_report(y_test,y_pred))\n",
    "    print(\"\\nNumber of mislabeled points out of a total %d points : %d\"\n",
    "      % (X_test.shape[0],(y_test != y_pred).sum()))\n",
    "    print \"--------------------------\""
   ]
  },
  {
   "cell_type": "code",
   "execution_count": 132,
   "metadata": {
    "collapsed": true
   },
   "outputs": [
    {
     "name": "stdout",
     "output_type": "stream",
     "text": [
      "Feature ranking:\n",
      "1. A1C (0.123816)\n",
      "2. BP_Diastolic (0.122408)\n",
      "3. BP_Systolic (0.121310)\n",
      "4. BMI (0.118639)\n",
      "5. Glucose (0.117402)\n",
      "6. Race_Black or African American (0.075529)\n",
      "7. Gender_F (0.071994)\n",
      "8. Gender_M (0.047912)\n",
      "9. Race_Other (0.036702)\n",
      "10. Age_group_(61, 66] (0.025568)\n",
      "11. Age_group_(75, 114] (0.024916)\n",
      "12. Age_group_(18, 48] (0.022462)\n",
      "13. Age_group_(67, 74] (0.022179)\n",
      "14. Age_group_(49, 55] (0.021975)\n",
      "15. Age_group_(56, 60] (0.020700)\n"
     ]
    }
   ],
   "source": [
    "model = ExtraTreesClassifier()\n",
    "model.fit(X, y)\n",
    "importances = model.feature_importances_\n",
    "std = np.std([tree.feature_importances_ for tree in model.estimators_],\n",
    "             axis=0)\n",
    "indices = np.argsort(importances)[::-1]\n",
    "\n",
    "# Print the feature ranking\n",
    "print(\"Feature ranking:\")\n",
    "\n",
    "for f in range(15):\n",
    "    print(\"%d. %s (%f)\" % (f + 1, [predictors[int(i)] for i in indices][f], importances[indices[f]]))"
   ]
  },
  {
   "cell_type": "code",
   "execution_count": 133,
   "metadata": {
    "collapsed": true
   },
   "outputs": [
    {
     "data": {
      "image/png": "[encoded data removed]",
      "text/plain": [
       "<matplotlib.figure.Figure at 0x12374128>"
      ]
     },
     "metadata": {},
     "output_type": "display_data"
    }
   ],
   "source": [
    "# Plot the feature importances of the model\n",
    "plt.figure()\n",
    "plt.title(\"Feature importances\")\n",
    "plt.bar(range(X.shape[1]), importances[indices],\n",
    "       color=\"b\", yerr=std[indices], align=\"center\",width=.5)\n",
    "\n",
    "plt.xticks(range(X.shape[1]), [predictors[int(i)] for i in indices], rotation='vertical')\n",
    "plt.xlim([-1,15])\n",
    "plt.show()\n"
   ]
  },
  {
   "cell_type": "markdown",
   "metadata": {},
   "source": [
    "Predictors: More features Response: Worst_DR"
   ]
  },
  {
   "cell_type": "code",
   "execution_count": 90,
   "metadata": {
    "collapsed": true
   },
   "outputs": [
    {
     "name": "stdout",
     "output_type": "stream",
     "text": [
      "(16039, 54)\n",
      "Index([u'A1C', u'BMI', u'Glucose', u'BP_Systolic', u'BP_Diastolic',\n",
      "       u'MR_OD_SPH_Numeric', u'MR_OD_CYL_Numeric', u'MR_OS_SPH_Numeric',\n",
      "       u'MR_OS_CYL_Numeric', u'MR_OS_DVA_ability', u'MR_OD_DVA_ability',\n",
      "       u'MR_OS_NVA_ability', u'MR_OD_NVA_ability', u'DM', u'ME',\n",
      "       u'Glaucoma_Suspect', u'Open_angle_Glaucoma', u'Cataract', u'Gender_F',\n",
      "       u'Gender_M', u'Gender_U', u'Race_Asian',\n",
      "       u'Race_Black or African American', u'Race_Hispanic or Latino',\n",
      "       u'Race_Other', u'Race_White',\n",
      "       u'recent_smoking_status_current every day smoker',\n",
      "       u'recent_smoking_status_current some day smoker',\n",
      "       u'recent_smoking_status_former smoker',\n",
      "       u'recent_smoking_status_heavy tobacco smoker',\n",
      "       u'recent_smoking_status_light tobacco smoker',\n",
      "       u'recent_smoking_status_never smoker', u'recent_smoking_status_smoker',\n",
      "       u'recent_smoking_status_unknown if ever smoked',\n",
      "       u'family_DM_G_DM_P_NDM', u'family_DM_Gp_DM', u'family_DM_Gp_SM_P_DM',\n",
      "       u'family_DM_P_DM', u'family_DM_P_NDM', u'family_DM_Unknown',\n",
      "       u'family_G_GP_G_P_NG', u'family_G_Gp_G', u'family_G_Gp_G_P_G',\n",
      "       u'family_G_P_G', u'family_G_P_NG', u'family_G_Unknown',\n",
      "       u'Age_group_(18, 48]', u'Age_group_(49, 55]', u'Age_group_(56, 60]',\n",
      "       u'Age_group_(61, 66]', u'Age_group_(67, 74]', u'Age_group_(75, 114]',\n",
      "       u'worst_DR', u'recent_DR'],\n",
      "      dtype='object')\n"
     ]
    },
    {
     "data": {
      "text/html": [
       "<div>\n",
       "<table border=\"1\" class=\"dataframe\">\n",
       "  <thead>\n",
       "    <tr style=\"text-align: right;\">\n",
       "      <th></th>\n",
       "      <th>A1C</th>\n",
       "      <th>BMI</th>\n",
       "      <th>Glucose</th>\n",
       "      <th>BP_Systolic</th>\n",
       "      <th>BP_Diastolic</th>\n",
       "      <th>MR_OD_SPH_Numeric</th>\n",
       "      <th>MR_OD_CYL_Numeric</th>\n",
       "      <th>MR_OS_SPH_Numeric</th>\n",
       "      <th>MR_OS_CYL_Numeric</th>\n",
       "      <th>MR_OS_DVA_ability</th>\n",
       "      <th>...</th>\n",
       "      <th>family_G_P_NG</th>\n",
       "      <th>family_G_Unknown</th>\n",
       "      <th>Age_group_(18, 48]</th>\n",
       "      <th>Age_group_(49, 55]</th>\n",
       "      <th>Age_group_(56, 60]</th>\n",
       "      <th>Age_group_(61, 66]</th>\n",
       "      <th>Age_group_(67, 74]</th>\n",
       "      <th>Age_group_(75, 114]</th>\n",
       "      <th>worst_DR</th>\n",
       "      <th>recent_DR</th>\n",
       "    </tr>\n",
       "    <tr>\n",
       "      <th>Person_Nbr</th>\n",
       "      <th></th>\n",
       "      <th></th>\n",
       "      <th></th>\n",
       "      <th></th>\n",
       "      <th></th>\n",
       "      <th></th>\n",
       "      <th></th>\n",
       "      <th></th>\n",
       "      <th></th>\n",
       "      <th></th>\n",
       "      <th></th>\n",
       "      <th></th>\n",
       "      <th></th>\n",
       "      <th></th>\n",
       "      <th></th>\n",
       "      <th></th>\n",
       "      <th></th>\n",
       "      <th></th>\n",
       "      <th></th>\n",
       "      <th></th>\n",
       "      <th></th>\n",
       "    </tr>\n",
       "  </thead>\n",
       "  <tbody>\n",
       "    <tr>\n",
       "      <th>33</th>\n",
       "      <td>8.000000</td>\n",
       "      <td>31.579036</td>\n",
       "      <td>130.000000</td>\n",
       "      <td>118.000000</td>\n",
       "      <td>78.000000</td>\n",
       "      <td>1.250000</td>\n",
       "      <td>-0.913393</td>\n",
       "      <td>1.750000</td>\n",
       "      <td>-0.500000</td>\n",
       "      <td>20.000000</td>\n",
       "      <td>...</td>\n",
       "      <td>0</td>\n",
       "      <td>0</td>\n",
       "      <td>0</td>\n",
       "      <td>0</td>\n",
       "      <td>0</td>\n",
       "      <td>1</td>\n",
       "      <td>0</td>\n",
       "      <td>0</td>\n",
       "      <td>no_DR</td>\n",
       "      <td>no_DR</td>\n",
       "    </tr>\n",
       "    <tr>\n",
       "      <th>89</th>\n",
       "      <td>7.280372</td>\n",
       "      <td>32.452934</td>\n",
       "      <td>133.443515</td>\n",
       "      <td>92.000000</td>\n",
       "      <td>53.000000</td>\n",
       "      <td>0.500000</td>\n",
       "      <td>-0.750000</td>\n",
       "      <td>0.250000</td>\n",
       "      <td>-1.250000</td>\n",
       "      <td>20.000000</td>\n",
       "      <td>...</td>\n",
       "      <td>0</td>\n",
       "      <td>0</td>\n",
       "      <td>0</td>\n",
       "      <td>0</td>\n",
       "      <td>1</td>\n",
       "      <td>0</td>\n",
       "      <td>0</td>\n",
       "      <td>0</td>\n",
       "      <td>no_DR</td>\n",
       "      <td>no_DR</td>\n",
       "    </tr>\n",
       "    <tr>\n",
       "      <th>146</th>\n",
       "      <td>6.989072</td>\n",
       "      <td>31.129173</td>\n",
       "      <td>128.568645</td>\n",
       "      <td>130.000000</td>\n",
       "      <td>75.000000</td>\n",
       "      <td>0.802648</td>\n",
       "      <td>-0.941888</td>\n",
       "      <td>0.767671</td>\n",
       "      <td>-0.929986</td>\n",
       "      <td>22.279976</td>\n",
       "      <td>...</td>\n",
       "      <td>0</td>\n",
       "      <td>1</td>\n",
       "      <td>0</td>\n",
       "      <td>0</td>\n",
       "      <td>0</td>\n",
       "      <td>0</td>\n",
       "      <td>1</td>\n",
       "      <td>0</td>\n",
       "      <td>no_DR</td>\n",
       "      <td>no_DR</td>\n",
       "    </tr>\n",
       "    <tr>\n",
       "      <th>196</th>\n",
       "      <td>7.280372</td>\n",
       "      <td>32.452934</td>\n",
       "      <td>78.000000</td>\n",
       "      <td>125.000000</td>\n",
       "      <td>88.000000</td>\n",
       "      <td>1.750000</td>\n",
       "      <td>-0.750000</td>\n",
       "      <td>0.750000</td>\n",
       "      <td>-0.873557</td>\n",
       "      <td>20.000000</td>\n",
       "      <td>...</td>\n",
       "      <td>1</td>\n",
       "      <td>0</td>\n",
       "      <td>0</td>\n",
       "      <td>0</td>\n",
       "      <td>1</td>\n",
       "      <td>0</td>\n",
       "      <td>0</td>\n",
       "      <td>0</td>\n",
       "      <td>no_DR</td>\n",
       "      <td>no_DR</td>\n",
       "    </tr>\n",
       "    <tr>\n",
       "      <th>327</th>\n",
       "      <td>7.203035</td>\n",
       "      <td>31.579036</td>\n",
       "      <td>121.000000</td>\n",
       "      <td>134.756106</td>\n",
       "      <td>78.082412</td>\n",
       "      <td>1.250000</td>\n",
       "      <td>-0.750000</td>\n",
       "      <td>3.000000</td>\n",
       "      <td>-1.000000</td>\n",
       "      <td>25.000000</td>\n",
       "      <td>...</td>\n",
       "      <td>1</td>\n",
       "      <td>0</td>\n",
       "      <td>0</td>\n",
       "      <td>0</td>\n",
       "      <td>0</td>\n",
       "      <td>1</td>\n",
       "      <td>0</td>\n",
       "      <td>0</td>\n",
       "      <td>no_DR</td>\n",
       "      <td>no_DR</td>\n",
       "    </tr>\n",
       "  </tbody>\n",
       "</table>\n",
       "<p>5 rows × 54 columns</p>\n",
       "</div>"
      ],
      "text/plain": [
       "                 A1C        BMI     Glucose  BP_Systolic  BP_Diastolic  \\\n",
       "Person_Nbr                                                               \n",
       "33          8.000000  31.579036  130.000000   118.000000     78.000000   \n",
       "89          7.280372  32.452934  133.443515    92.000000     53.000000   \n",
       "146         6.989072  31.129173  128.568645   130.000000     75.000000   \n",
       "196         7.280372  32.452934   78.000000   125.000000     88.000000   \n",
       "327         7.203035  31.579036  121.000000   134.756106     78.082412   \n",
       "\n",
       "            MR_OD_SPH_Numeric  MR_OD_CYL_Numeric  MR_OS_SPH_Numeric  \\\n",
       "Person_Nbr                                                            \n",
       "33                   1.250000          -0.913393           1.750000   \n",
       "89                   0.500000          -0.750000           0.250000   \n",
       "146                  0.802648          -0.941888           0.767671   \n",
       "196                  1.750000          -0.750000           0.750000   \n",
       "327                  1.250000          -0.750000           3.000000   \n",
       "\n",
       "            MR_OS_CYL_Numeric  MR_OS_DVA_ability    ...      family_G_P_NG  \\\n",
       "Person_Nbr                                          ...                      \n",
       "33                  -0.500000          20.000000    ...                  0   \n",
       "89                  -1.250000          20.000000    ...                  0   \n",
       "146                 -0.929986          22.279976    ...                  0   \n",
       "196                 -0.873557          20.000000    ...                  1   \n",
       "327                 -1.000000          25.000000    ...                  1   \n",
       "\n",
       "            family_G_Unknown  Age_group_(18, 48] Age_group_(49, 55]  \\\n",
       "Person_Nbr                                                            \n",
       "33                         0                   0                  0   \n",
       "89                         0                   0                  0   \n",
       "146                        1                   0                  0   \n",
       "196                        0                   0                  0   \n",
       "327                        0                   0                  0   \n",
       "\n",
       "           Age_group_(56, 60] Age_group_(61, 66] Age_group_(67, 74]  \\\n",
       "Person_Nbr                                                            \n",
       "33                          0                  1                  0   \n",
       "89                          1                  0                  0   \n",
       "146                         0                  0                  1   \n",
       "196                         1                  0                  0   \n",
       "327                         0                  1                  0   \n",
       "\n",
       "           Age_group_(75, 114]  worst_DR  recent_DR  \n",
       "Person_Nbr                                           \n",
       "33                           0     no_DR      no_DR  \n",
       "89                           0     no_DR      no_DR  \n",
       "146                          0     no_DR      no_DR  \n",
       "196                          0     no_DR      no_DR  \n",
       "327                          0     no_DR      no_DR  \n",
       "\n",
       "[5 rows x 54 columns]"
      ]
     },
     "execution_count": 90,
     "metadata": {},
     "output_type": "execute_result"
    }
   ],
   "source": [
    "Morefeatures_missingHandle=pd.read_pickle(interpath+\"Morefeatures_missingHandled_Dan_20170415.pickle\")\n",
    "print Morefeatures_missingHandle.shape\n",
    "print Morefeatures_missingHandle.columns\n",
    "Morefeatures_missingHandle.head()"
   ]
  },
  {
   "cell_type": "code",
   "execution_count": 91,
   "metadata": {
    "collapsed": true
   },
   "outputs": [
    {
     "name": "stdout",
     "output_type": "stream",
     "text": [
      "Worst_DR:\n",
      "no_DR    12009\n",
      "mNPDR     2055\n",
      "PDR       1040\n",
      "MNPDR      711\n",
      "SNPDR      224\n",
      "Name: worst_DR, dtype: int64\n",
      "\n",
      "Recent_DR:\n",
      "no_DR    12009\n",
      "mNPDR     2214\n",
      "PDR        964\n",
      "MNPDR      654\n",
      "SNPDR      198\n",
      "Name: recent_DR, dtype: int64\n"
     ]
    }
   ],
   "source": [
    "print \"Worst_DR:\"\n",
    "print (Morefeatures_missingHandle.worst_DR).value_counts()\n",
    "print \"\\nRecent_DR:\"\n",
    "print (Morefeatures_missingHandle.recent_DR).value_counts()"
   ]
  },
  {
   "cell_type": "code",
   "execution_count": 135,
   "metadata": {
    "collapsed": true
   },
   "outputs": [],
   "source": [
    "predictors1 = [u'A1C', u'BMI', u'Glucose', u'BP_Diastolic', u'BP_Systolic',\n",
    "       u'Gender_F', u'Gender_M', u'Gender_U', u'Race_Asian',\n",
    "       u'Race_Black or African American', u'Race_Hispanic or Latino',\n",
    "       u'Race_Other', u'Race_White', u'Age_group_(18, 48]',\n",
    "       u'Age_group_(49, 55]', u'Age_group_(56, 60]', u'Age_group_(61, 66]',\n",
    "       u'Age_group_(67, 74]', u'Age_group_(75, 114]',u'MR_OD_SPH_Numeric', u'MR_OD_CYL_Numeric', u'MR_OS_SPH_Numeric',\n",
    "       u'MR_OS_CYL_Numeric', u'MR_OS_DVA_ability', u'MR_OD_DVA_ability',\n",
    "       u'MR_OS_NVA_ability', u'MR_OD_NVA_ability',u'recent_smoking_status_current every day smoker',\n",
    "       u'recent_smoking_status_current some day smoker',\n",
    "       u'recent_smoking_status_former smoker',\n",
    "       u'recent_smoking_status_heavy tobacco smoker',\n",
    "       u'recent_smoking_status_light tobacco smoker',\n",
    "       u'recent_smoking_status_never smoker', u'recent_smoking_status_smoker',\n",
    "       u'recent_smoking_status_unknown if ever smoked',u'family_DM_G_DM_P_NDM', u'family_DM_Gp_DM', u'family_DM_Gp_SM_P_DM',\n",
    "       u'family_DM_P_DM', u'family_DM_P_NDM', u'family_DM_Unknown',\n",
    "       u'family_G_GP_G_P_NG', u'family_G_Gp_G', u'family_G_Gp_G_P_G',\n",
    "       u'family_G_P_G', u'family_G_P_NG', u'family_G_Unknown'\n",
    "             ]"
   ]
  },
  {
   "cell_type": "code",
   "execution_count": 159,
   "metadata": {
    "collapsed": false,
    "scrolled": true
   },
   "outputs": [
    {
     "name": "stdout",
     "output_type": "stream",
     "text": [
      "\n",
      "Test set accuracy is  64.993765586 % for K-Value: 3 \n",
      "\n",
      "col_0     MNPDR  PDR  SNPDR  mNPDR  no_DR\n",
      "worst_DR                                 \n",
      "MNPDR         7   11      1      6    117\n",
      "PDR          18   22      2      8    158\n",
      "SNPDR         5    5      0      0     35\n",
      "mNPDR        21   30      2     20    338\n",
      "no_DR       117  132     19     98   2036 \n",
      "\n",
      "Classification Report:\n",
      "             precision    recall  f1-score   support\n",
      "\n",
      "      MNPDR       0.04      0.05      0.05       142\n",
      "        PDR       0.11      0.11      0.11       208\n",
      "      SNPDR       0.00      0.00      0.00        45\n",
      "      mNPDR       0.15      0.05      0.07       411\n",
      "      no_DR       0.76      0.85      0.80      2402\n",
      "\n",
      "avg / total       0.60      0.65      0.62      3208\n",
      "\n",
      "\n",
      "Number of mislabeled points out of a total 3208 points : 1123\n",
      "--------------------------\n",
      "\n",
      "Test set accuracy is  69.0461346633 % for K-Value: 5 \n",
      "\n",
      "col_0     MNPDR  PDR  SNPDR  mNPDR  no_DR\n",
      "worst_DR                                 \n",
      "MNPDR         1    7      0      8    126\n",
      "PDR           2   10      0     17    179\n",
      "SNPDR         1    3      0      4     37\n",
      "mNPDR         4   15      0     22    370\n",
      "no_DR        25   52      5    138   2182 \n",
      "\n",
      "Classification Report:\n",
      "             precision    recall  f1-score   support\n",
      "\n",
      "      MNPDR       0.03      0.01      0.01       142\n",
      "        PDR       0.11      0.05      0.07       208\n",
      "      SNPDR       0.00      0.00      0.00        45\n",
      "      mNPDR       0.12      0.05      0.07       411\n",
      "      no_DR       0.75      0.91      0.82      2402\n",
      "\n",
      "avg / total       0.59      0.69      0.63      3208\n",
      "\n",
      "\n",
      "Number of mislabeled points out of a total 3208 points : 993\n",
      "--------------------------\n",
      "\n",
      "Test set accuracy is  73.8154613466 % for K-Value: 10 \n",
      "\n",
      "col_0     MNPDR  PDR  mNPDR  no_DR\n",
      "worst_DR                          \n",
      "MNPDR         0    0      3    139\n",
      "PDR           0    2      5    201\n",
      "SNPDR         0    1      0     44\n",
      "mNPDR         1    2     12    396\n",
      "no_DR         4   10     34   2354 \n",
      "\n",
      "Classification Report:\n",
      "             precision    recall  f1-score   support\n",
      "\n",
      "      MNPDR       0.00      0.00      0.00       142\n",
      "        PDR       0.13      0.01      0.02       208\n",
      "      SNPDR       0.00      0.00      0.00        45\n",
      "      mNPDR       0.22      0.03      0.05       411\n",
      "      no_DR       0.75      0.98      0.85      2402\n",
      "\n",
      "avg / total       0.60      0.74      0.64      3208\n",
      "\n",
      "\n",
      "Number of mislabeled points out of a total 3208 points : 840\n",
      "--------------------------\n"
     ]
    }
   ],
   "source": [
    "X=Morefeatures_missingHandle[predictors1]\n",
    "y=Morefeatures_missingHandle['worst_DR']\n",
    "X=preprocessing.normalize(X)\n",
    "X_train, X_test,y_train,y_test=train_test_split(X,y,stratify=y,test_size=0.20,random_state=42)\n",
    "for K in [3,5,10]:\n",
    "    neigh = KNeighborsClassifier(n_neighbors = K)\n",
    "    neigh.fit(X_train, y_train) \n",
    "    y_pred = neigh.predict(X_test)\n",
    "    print \"\\nTest set accuracy is \", accuracy_score(y_test,y_pred)*100,\"% for K-Value:\",K ,\"\\n\"\n",
    "    print(pd.crosstab(y_test, y_pred)), \"\\n\"\n",
    "    print \"Classification Report:\\n\", (metrics.classification_report(y_test,y_pred))\n",
    "    print(\"\\nNumber of mislabeled points out of a total %d points : %d\"\n",
    "      % (X_test.shape[0],(y_test != y_pred).sum()))\n",
    "    print \"--------------------------\""
   ]
  },
  {
   "cell_type": "code",
   "execution_count": 142,
   "metadata": {
    "collapsed": true
   },
   "outputs": [
    {
     "name": "stdout",
     "output_type": "stream",
     "text": [
      "Feature ranking:\n",
      "1. BP_Diastolic (0.050178)\n",
      "2. A1C (0.048293)\n",
      "3. BP_Systolic (0.047914)\n",
      "4. BMI (0.047303)\n",
      "5. Glucose (0.046297)\n",
      "6. MR_OS_NVA_ability (0.045004)\n",
      "7. MR_OD_DVA_ability (0.044573)\n",
      "8. MR_OD_SPH_Numeric (0.044208)\n",
      "9. MR_OS_DVA_ability (0.043683)\n",
      "10. MR_OD_NVA_ability (0.043435)\n",
      "11. MR_OS_CYL_Numeric (0.043036)\n",
      "12. MR_OS_SPH_Numeric (0.042814)\n",
      "13. MR_OD_CYL_Numeric (0.041611)\n",
      "14. Race_Black or African American (0.030832)\n",
      "15. Gender_F (0.029993)\n"
     ]
    }
   ],
   "source": [
    "model = ExtraTreesClassifier()\n",
    "model.fit(X, y)\n",
    "importances = model.feature_importances_\n",
    "std = np.std([tree.feature_importances_ for tree in model.estimators_],\n",
    "             axis=0)\n",
    "indices = np.argsort(importances)[::-1]\n",
    "\n",
    "# Print the feature ranking\n",
    "print(\"Feature ranking:\")\n",
    "\n",
    "for f in range(15):\n",
    "    print(\"%d. %s (%f)\" % (f + 1, [predictors1[int(i)] for i in indices][f], importances[indices[f]]))"
   ]
  },
  {
   "cell_type": "code",
   "execution_count": 143,
   "metadata": {
    "collapsed": true
   },
   "outputs": [
    {
     "data": {
      "image/png": "[encoded data removed]",
      "text/plain": [
       "<matplotlib.figure.Figure at 0x1231b5c0>"
      ]
     },
     "metadata": {},
     "output_type": "display_data"
    }
   ],
   "source": [
    "# Plot the feature importances of the model\n",
    "plt.figure()\n",
    "plt.title(\"Feature importances\")\n",
    "plt.bar(range(X.shape[1]), importances[indices],\n",
    "       color=\"b\", yerr=std[indices], align=\"center\",width=.5)\n",
    "\n",
    "plt.xticks(range(X.shape[1]), [predictors1[int(i)] for i in indices], rotation='vertical')\n",
    "plt.xlim([-1,15])\n",
    "plt.show()"
   ]
  },
  {
   "cell_type": "markdown",
   "metadata": {},
   "source": [
    "Predictors: Baseline features Response: Recent_DR"
   ]
  },
  {
   "cell_type": "code",
   "execution_count": 160,
   "metadata": {
    "collapsed": true
   },
   "outputs": [
    {
     "name": "stdout",
     "output_type": "stream",
     "text": [
      "\n",
      "Test set accuracy is  65.710723192 % for K-Value: 3 \n",
      "\n",
      "col_0      MNPDR  PDR  SNPDR  mNPDR  no_DR\n",
      "recent_DR                                 \n",
      "MNPDR          7    8      3      8    105\n",
      "PDR           12   16      4     11    150\n",
      "SNPDR          2    4      0      1     32\n",
      "mNPDR         26   24      6     26    361\n",
      "no_DR        117  122     23     81   2059 \n",
      "\n",
      "Classification Report:\n",
      "             precision    recall  f1-score   support\n",
      "\n",
      "      MNPDR       0.04      0.05      0.05       131\n",
      "        PDR       0.09      0.08      0.09       193\n",
      "      SNPDR       0.00      0.00      0.00        39\n",
      "      mNPDR       0.20      0.06      0.09       443\n",
      "      no_DR       0.76      0.86      0.81      2402\n",
      "\n",
      "avg / total       0.61      0.66      0.62      3208\n",
      "\n",
      "\n",
      "Number of mislabeled points out of a total 3208 points : 1100\n",
      "--------------------------\n",
      "\n",
      "Test set accuracy is  69.9812967581 % for K-Value: 5 \n",
      "\n",
      "col_0      MNPDR  PDR  SNPDR  mNPDR  no_DR\n",
      "recent_DR                                 \n",
      "MNPDR          1    3      0     13    114\n",
      "PDR            0   10      0     16    167\n",
      "SNPDR          0    1      0      5     33\n",
      "mNPDR          6   16      0     37    384\n",
      "no_DR         20   55      1    129   2197 \n",
      "\n",
      "Classification Report:\n",
      "             precision    recall  f1-score   support\n",
      "\n",
      "      MNPDR       0.04      0.01      0.01       131\n",
      "        PDR       0.12      0.05      0.07       193\n",
      "      SNPDR       0.00      0.00      0.00        39\n",
      "      mNPDR       0.18      0.08      0.12       443\n",
      "      no_DR       0.76      0.91      0.83      2402\n",
      "\n",
      "avg / total       0.60      0.70      0.64      3208\n",
      "\n",
      "\n",
      "Number of mislabeled points out of a total 3208 points : 963\n",
      "--------------------------\n",
      "\n",
      "Test set accuracy is  74.1583541147 % for K-Value: 10 \n",
      "\n",
      "col_0      MNPDR  PDR  mNPDR  no_DR\n",
      "recent_DR                          \n",
      "MNPDR          0    1      4    126\n",
      "PDR            0    2      3    188\n",
      "SNPDR          0    0      2     37\n",
      "mNPDR          0    2     15    426\n",
      "no_DR          3    7     30   2362 \n",
      "\n",
      "Classification Report:\n",
      "             precision    recall  f1-score   support\n",
      "\n",
      "      MNPDR       0.00      0.00      0.00       131\n",
      "        PDR       0.17      0.01      0.02       193\n",
      "      SNPDR       0.00      0.00      0.00        39\n",
      "      mNPDR       0.28      0.03      0.06       443\n",
      "      no_DR       0.75      0.98      0.85      2402\n",
      "\n",
      "avg / total       0.61      0.74      0.65      3208\n",
      "\n",
      "\n",
      "Number of mislabeled points out of a total 3208 points : 829\n",
      "--------------------------\n"
     ]
    }
   ],
   "source": [
    "X=Morefeatures_missingHandle[predictors]\n",
    "y=Morefeatures_missingHandle['recent_DR']\n",
    "X=preprocessing.normalize(X)\n",
    "X_train, X_test,y_train,y_test=train_test_split(X,y,stratify=y,test_size=0.20,random_state=42)\n",
    "for K in [3,5,10]:\n",
    "    neigh = KNeighborsClassifier(n_neighbors = K)\n",
    "    neigh.fit(X_train, y_train) \n",
    "    y_pred = neigh.predict(X_test)\n",
    "    print \"\\nTest set accuracy is \", accuracy_score(y_test,y_pred)*100,\"% for K-Value:\",K ,\"\\n\"\n",
    "    print(pd.crosstab(y_test, y_pred)), \"\\n\"\n",
    "    print \"Classification Report:\\n\", (metrics.classification_report(y_test,y_pred))\n",
    "    print(\"\\nNumber of mislabeled points out of a total %d points : %d\"\n",
    "      % (X_test.shape[0],(y_test != y_pred).sum()))\n",
    "    print \"--------------------------\""
   ]
  },
  {
   "cell_type": "code",
   "execution_count": 145,
   "metadata": {
    "collapsed": true
   },
   "outputs": [
    {
     "name": "stdout",
     "output_type": "stream",
     "text": [
      "Feature ranking:\n",
      "1. BP_Diastolic (0.126303)\n",
      "2. A1C (0.125148)\n",
      "3. BMI (0.119971)\n",
      "4. BP_Systolic (0.117941)\n",
      "5. Glucose (0.116264)\n",
      "6. Race_Black or African American (0.072859)\n",
      "7. Gender_F (0.071966)\n",
      "8. Gender_M (0.048504)\n",
      "9. Race_Other (0.035754)\n",
      "10. Age_group_(75, 114] (0.025399)\n",
      "11. Age_group_(61, 66] (0.024364)\n",
      "12. Age_group_(67, 74] (0.023663)\n",
      "13. Age_group_(56, 60] (0.022414)\n",
      "14. Age_group_(49, 55] (0.021908)\n",
      "15. Age_group_(18, 48] (0.021093)\n"
     ]
    }
   ],
   "source": [
    "model = ExtraTreesClassifier()\n",
    "model.fit(X, y)\n",
    "importances = model.feature_importances_\n",
    "std = np.std([tree.feature_importances_ for tree in model.estimators_],\n",
    "             axis=0)\n",
    "indices = np.argsort(importances)[::-1]\n",
    "\n",
    "# Print the feature ranking\n",
    "print(\"Feature ranking:\")\n",
    "\n",
    "for f in range(15):\n",
    "    print(\"%d. %s (%f)\" % (f + 1, [predictors1[int(i)] for i in indices][f], importances[indices[f]]))\n"
   ]
  },
  {
   "cell_type": "code",
   "execution_count": 146,
   "metadata": {
    "collapsed": true
   },
   "outputs": [
    {
     "data": {
      "image/png": "[encoded data removed]",
      "text/plain": [
       "<matplotlib.figure.Figure at 0x1287fe10>"
      ]
     },
     "metadata": {},
     "output_type": "display_data"
    }
   ],
   "source": [
    "# Plot the feature importances of the model\n",
    "plt.figure()\n",
    "plt.title(\"Feature importances\")\n",
    "plt.bar(range(X.shape[1]), importances[indices],\n",
    "       color=\"r\", yerr=std[indices], align=\"center\",width=.5)\n",
    "\n",
    "plt.xticks(range(X.shape[1]), [predictors[int(i)] for i in indices], rotation='vertical')\n",
    "plt.xlim([-1,15])\n",
    "plt.show()"
   ]
  },
  {
   "cell_type": "markdown",
   "metadata": {
    "collapsed": true
   },
   "source": [
    "Predictors: Baseline features excluding Glucose and BP_D Response: Worst_DR"
   ]
  },
  {
   "cell_type": "code",
   "execution_count": 161,
   "metadata": {
    "collapsed": true
   },
   "outputs": [
    {
     "name": "stdout",
     "output_type": "stream",
     "text": [
      "\n",
      "Test set accuracy is  64.5573566085 % for K-Value: 3 \n",
      "\n",
      "col_0     MNPDR  PDR  SNPDR  mNPDR  no_DR\n",
      "worst_DR                                 \n",
      "MNPDR         3    8      1      7    123\n",
      "PDR          10   17      2      7    172\n",
      "SNPDR         4    1      0      4     36\n",
      "mNPDR        26   36      1     17    331\n",
      "no_DR       115  129     15    109   2034 \n",
      "\n",
      "Classification Report:\n",
      "             precision    recall  f1-score   support\n",
      "\n",
      "      MNPDR       0.02      0.02      0.02       142\n",
      "        PDR       0.09      0.08      0.09       208\n",
      "      SNPDR       0.00      0.00      0.00        45\n",
      "      mNPDR       0.12      0.04      0.06       411\n",
      "      no_DR       0.75      0.85      0.80      2402\n",
      "\n",
      "avg / total       0.59      0.65      0.61      3208\n",
      "\n",
      "\n",
      "Number of mislabeled points out of a total 3208 points : 1137\n",
      "--------------------------\n",
      "\n",
      "Test set accuracy is  68.9526184539 % for K-Value: 5 \n",
      "\n",
      "col_0     MNPDR  PDR  SNPDR  mNPDR  no_DR\n",
      "worst_DR                                 \n",
      "MNPDR         1    7      1      4    129\n",
      "PDR           3   10      0     15    180\n",
      "SNPDR         0    1      0      5     39\n",
      "mNPDR         9   22      0     17    363\n",
      "no_DR        31   58      4    125   2184 \n",
      "\n",
      "Classification Report:\n",
      "             precision    recall  f1-score   support\n",
      "\n",
      "      MNPDR       0.02      0.01      0.01       142\n",
      "        PDR       0.10      0.05      0.07       208\n",
      "      SNPDR       0.00      0.00      0.00        45\n",
      "      mNPDR       0.10      0.04      0.06       411\n",
      "      no_DR       0.75      0.91      0.82      2402\n",
      "\n",
      "avg / total       0.59      0.69      0.63      3208\n",
      "\n",
      "\n",
      "Number of mislabeled points out of a total 3208 points : 996\n",
      "--------------------------\n",
      "\n",
      "Test set accuracy is  74.0336658354 % for K-Value: 10 \n",
      "\n",
      "col_0     MNPDR  PDR  SNPDR  mNPDR  no_DR\n",
      "worst_DR                                 \n",
      "MNPDR         0    5      1      1    135\n",
      "PDR           0    2      0      4    202\n",
      "SNPDR         0    0      0      1     44\n",
      "mNPDR         2    7      0      4    398\n",
      "no_DR         3    9      3     18   2369 \n",
      "\n",
      "Classification Report:\n",
      "             precision    recall  f1-score   support\n",
      "\n",
      "      MNPDR       0.00      0.00      0.00       142\n",
      "        PDR       0.09      0.01      0.02       208\n",
      "      SNPDR       0.00      0.00      0.00        45\n",
      "      mNPDR       0.14      0.01      0.02       411\n",
      "      no_DR       0.75      0.99      0.85      2402\n",
      "\n",
      "avg / total       0.59      0.74      0.64      3208\n",
      "\n",
      "\n",
      "Number of mislabeled points out of a total 3208 points : 833\n",
      "--------------------------\n"
     ]
    }
   ],
   "source": [
    "predictors3 = [u'A1C', u'BMI', u'BP_Systolic',\n",
    "       u'Gender_F', u'Gender_M', u'Gender_U', u'Race_Asian',\n",
    "       u'Race_Black or African American', u'Race_Hispanic or Latino',\n",
    "       u'Race_Other', u'Race_White', u'Age_group_(18, 48]',\n",
    "       u'Age_group_(49, 55]', u'Age_group_(56, 60]', u'Age_group_(61, 66]',\n",
    "       u'Age_group_(67, 74]', u'Age_group_(75, 114]'\n",
    "             ]\n",
    "X=baseline_missingHandle[predictors3]\n",
    "y=baseline_missingHandle['worst_DR']\n",
    "X=preprocessing.normalize(X)\n",
    "X_train, X_test,y_train,y_test=train_test_split(X,y,stratify=y,test_size=0.20,random_state=42)\n",
    "for K in [3,5,10]:\n",
    "    neigh = KNeighborsClassifier(n_neighbors = K)\n",
    "    neigh.fit(X_train, y_train) \n",
    "    y_pred = neigh.predict(X_test)\n",
    "    print \"\\nTest set accuracy is \", accuracy_score(y_test,y_pred)*100,\"% for K-Value:\",K ,\"\\n\"\n",
    "    print(pd.crosstab(y_test, y_pred)), \"\\n\"\n",
    "    print \"Classification Report:\\n\", (metrics.classification_report(y_test,y_pred))\n",
    "    print(\"\\nNumber of mislabeled points out of a total %d points : %d\"\n",
    "      % (X_test.shape[0],(y_test != y_pred).sum()))\n",
    "    print \"--------------------------\""
   ]
  },
  {
   "cell_type": "code",
   "execution_count": 148,
   "metadata": {
    "collapsed": true
   },
   "outputs": [
    {
     "name": "stdout",
     "output_type": "stream",
     "text": [
      "Feature ranking:\n",
      "1. A1C (0.173509)\n",
      "2. BP_Systolic (0.159444)\n",
      "3. BMI (0.158843)\n",
      "4. Gender_F (0.095321)\n",
      "5. Race_Black or African American (0.093811)\n",
      "6. Gender_M (0.065125)\n",
      "7. Race_Other (0.045299)\n",
      "8. Age_group_(61, 66] (0.032437)\n",
      "9. Age_group_(75, 114] (0.029991)\n",
      "10. Age_group_(49, 55] (0.029075)\n",
      "11. Age_group_(18, 48] (0.028577)\n",
      "12. Age_group_(56, 60] (0.027339)\n",
      "13. Age_group_(67, 74] (0.027171)\n",
      "14. Race_Hispanic or Latino (0.019506)\n",
      "15. Race_White (0.009460)\n"
     ]
    }
   ],
   "source": [
    "model = ExtraTreesClassifier()\n",
    "model.fit(X, y)\n",
    "importances = model.feature_importances_\n",
    "std = np.std([tree.feature_importances_ for tree in model.estimators_],\n",
    "             axis=0)\n",
    "indices = np.argsort(importances)[::-1]\n",
    "\n",
    "# Print the feature ranking\n",
    "print(\"Feature ranking:\")\n",
    "\n",
    "for f in range(15):\n",
    "    print(\"%d. %s (%f)\" % (f + 1, [predictors3[int(i)] for i in indices][f], importances[indices[f]]))\n"
   ]
  },
  {
   "cell_type": "markdown",
   "metadata": {},
   "source": [
    "Predictors: More features excluding Glucose and BP_D Response: Worst_DR"
   ]
  },
  {
   "cell_type": "code",
   "execution_count": 162,
   "metadata": {
    "collapsed": true
   },
   "outputs": [
    {
     "name": "stdout",
     "output_type": "stream",
     "text": [
      "\n",
      "Test set accuracy is  64.3079800499 % for K-Value: 3 \n",
      "\n",
      "col_0     MNPDR  PDR  SNPDR  mNPDR  no_DR\n",
      "worst_DR                                 \n",
      "MNPDR         4   15      3      6    114\n",
      "PDR          14   18      1     11    164\n",
      "SNPDR         3    3      0      1     38\n",
      "mNPDR        26   30      4     18    333\n",
      "no_DR       111  142     20    106   2023 \n",
      "\n",
      "Classification Report:\n",
      "             precision    recall  f1-score   support\n",
      "\n",
      "      MNPDR       0.03      0.03      0.03       142\n",
      "        PDR       0.09      0.09      0.09       208\n",
      "      SNPDR       0.00      0.00      0.00        45\n",
      "      mNPDR       0.13      0.04      0.07       411\n",
      "      no_DR       0.76      0.84      0.80      2402\n",
      "\n",
      "avg / total       0.59      0.64      0.61      3208\n",
      "\n",
      "\n",
      "Number of mislabeled points out of a total 3208 points : 1145\n",
      "--------------------------\n",
      "\n",
      "Test set accuracy is  69.1708229426 % for K-Value: 5 \n",
      "\n",
      "col_0     MNPDR  PDR  SNPDR  mNPDR  no_DR\n",
      "worst_DR                                 \n",
      "MNPDR         0    8      0     13    121\n",
      "PDR           3   11      0     13    181\n",
      "SNPDR         1    2      0      3     39\n",
      "mNPDR         8   21      2     19    361\n",
      "no_DR        23   58      7    125   2189 \n",
      "\n",
      "Classification Report:\n",
      "             precision    recall  f1-score   support\n",
      "\n",
      "      MNPDR       0.00      0.00      0.00       142\n",
      "        PDR       0.11      0.05      0.07       208\n",
      "      SNPDR       0.00      0.00      0.00        45\n",
      "      mNPDR       0.11      0.05      0.07       411\n",
      "      no_DR       0.76      0.91      0.83      2402\n",
      "\n",
      "avg / total       0.59      0.69      0.63      3208\n",
      "\n",
      "\n",
      "Number of mislabeled points out of a total 3208 points : 989\n",
      "--------------------------\n",
      "\n",
      "Test set accuracy is  73.9401496259 % for K-Value: 10 \n",
      "\n",
      "col_0     MNPDR  PDR  SNPDR  mNPDR  no_DR\n",
      "worst_DR                                 \n",
      "MNPDR         0    1      0      2    139\n",
      "PDR           1    3      0      4    200\n",
      "SNPDR         0    0      0      0     45\n",
      "mNPDR         3    6      0      7    395\n",
      "no_DR         0   10      3     27   2362 \n",
      "\n",
      "Classification Report:\n",
      "             precision    recall  f1-score   support\n",
      "\n",
      "      MNPDR       0.00      0.00      0.00       142\n",
      "        PDR       0.15      0.01      0.03       208\n",
      "      SNPDR       0.00      0.00      0.00        45\n",
      "      mNPDR       0.17      0.02      0.03       411\n",
      "      no_DR       0.75      0.98      0.85      2402\n",
      "\n",
      "avg / total       0.60      0.74      0.64      3208\n",
      "\n",
      "\n",
      "Number of mislabeled points out of a total 3208 points : 836\n",
      "--------------------------\n"
     ]
    }
   ],
   "source": [
    "predictors4 = [u'A1C', u'BMI',  u'BP_Systolic',\n",
    "       u'Gender_F', u'Gender_M', u'Gender_U', u'Race_Asian',\n",
    "       u'Race_Black or African American', u'Race_Hispanic or Latino',\n",
    "       u'Race_Other', u'Race_White', u'Age_group_(18, 48]',\n",
    "       u'Age_group_(49, 55]', u'Age_group_(56, 60]', u'Age_group_(61, 66]',\n",
    "       u'Age_group_(67, 74]', u'Age_group_(75, 114]',u'MR_OD_SPH_Numeric', u'MR_OD_CYL_Numeric', u'MR_OS_SPH_Numeric',\n",
    "       u'MR_OS_CYL_Numeric', u'MR_OS_DVA_ability', u'MR_OD_DVA_ability',\n",
    "       u'MR_OS_NVA_ability', u'MR_OD_NVA_ability',u'recent_smoking_status_current every day smoker',\n",
    "       u'recent_smoking_status_current some day smoker',\n",
    "       u'recent_smoking_status_former smoker',\n",
    "       u'recent_smoking_status_heavy tobacco smoker',\n",
    "       u'recent_smoking_status_light tobacco smoker',\n",
    "       u'recent_smoking_status_never smoker', u'recent_smoking_status_smoker',\n",
    "       u'recent_smoking_status_unknown if ever smoked',u'family_DM_G_DM_P_NDM', u'family_DM_Gp_DM', u'family_DM_Gp_SM_P_DM',\n",
    "       u'family_DM_P_DM', u'family_DM_P_NDM', u'family_DM_Unknown',\n",
    "       u'family_G_GP_G_P_NG', u'family_G_Gp_G', u'family_G_Gp_G_P_G',\n",
    "       u'family_G_P_G', u'family_G_P_NG', u'family_G_Unknown'\n",
    "             ]\n",
    "X=Morefeatures_missingHandle[predictors4]\n",
    "y=Morefeatures_missingHandle['worst_DR']\n",
    "X=preprocessing.normalize(X)\n",
    "X_train, X_test,y_train,y_test=train_test_split(X,y,stratify=y,test_size=0.20,random_state=42)\n",
    "for K in [3,5,10]:\n",
    "    neigh = KNeighborsClassifier(n_neighbors = K)\n",
    "    neigh.fit(X_train, y_train) \n",
    "    y_pred = neigh.predict(X_test)\n",
    "    print \"\\nTest set accuracy is \", accuracy_score(y_test,y_pred)*100,\"% for K-Value:\",K ,\"\\n\"\n",
    "    print(pd.crosstab(y_test, y_pred)), \"\\n\"\n",
    "    print \"Classification Report:\\n\", (metrics.classification_report(y_test,y_pred))\n",
    "    print(\"\\nNumber of mislabeled points out of a total %d points : %d\"\n",
    "      % (X_test.shape[0],(y_test != y_pred).sum()))\n",
    "    print \"--------------------------\""
   ]
  },
  {
   "cell_type": "code",
   "execution_count": 151,
   "metadata": {
    "collapsed": true
   },
   "outputs": [
    {
     "name": "stdout",
     "output_type": "stream",
     "text": [
      "Feature ranking:\n",
      "1. A1C (0.054522)\n",
      "2. BMI (0.051630)\n",
      "3. MR_OD_DVA_ability (0.050480)\n",
      "4. MR_OS_NVA_ability (0.050467)\n",
      "5. MR_OS_DVA_ability (0.050053)\n",
      "6. MR_OD_NVA_ability (0.049956)\n",
      "7. BP_Systolic (0.049559)\n",
      "8. MR_OS_SPH_Numeric (0.049490)\n",
      "9. MR_OS_CYL_Numeric (0.049131)\n",
      "10. MR_OD_SPH_Numeric (0.048949)\n",
      "11. MR_OD_CYL_Numeric (0.047792)\n",
      "12. Race_Black or African American (0.035459)\n",
      "13. Gender_F (0.034611)\n",
      "14. recent_smoking_status_never smoker (0.032555)\n",
      "15. family_DM_P_DM (0.027028)\n"
     ]
    }
   ],
   "source": [
    "model = ExtraTreesClassifier()\n",
    "model.fit(X, y)\n",
    "importances = model.feature_importances_\n",
    "std = np.std([tree.feature_importances_ for tree in model.estimators_],\n",
    "             axis=0)\n",
    "indices = np.argsort(importances)[::-1]\n",
    "\n",
    "# Print the feature ranking\n",
    "print(\"Feature ranking:\")\n",
    "\n",
    "for f in range(15):\n",
    "    print(\"%d. %s (%f)\" % (f + 1, [predictors4[int(i)] for i in indices][f], importances[indices[f]]))\n"
   ]
  },
  {
   "cell_type": "markdown",
   "metadata": {
    "collapsed": true
   },
   "source": [
    "## Gaussian NB"
   ]
  },
  {
   "cell_type": "markdown",
   "metadata": {},
   "source": [
    "Predictors: Baseline features Response: Worst_DR"
   ]
  },
  {
   "cell_type": "code",
   "execution_count": 163,
   "metadata": {
    "collapsed": true
   },
   "outputs": [
    {
     "name": "stdout",
     "output_type": "stream",
     "text": [
      "GaussianNB(priors=None)\n",
      "\n",
      "Test set accuracy is  10.0374064838 \n",
      "\n",
      "col_0     MNPDR  PDR  SNPDR  mNPDR  no_DR\n",
      "worst_DR                                 \n",
      "MNPDR         0   20     35     87      0\n",
      "PDR           0   36     58    114      0\n",
      "SNPDR         0    3     17     25      0\n",
      "mNPDR         0   42    101    268      0\n",
      "no_DR         1  246    704   1450      1 \n",
      "\n",
      "Classification Report:\n",
      "             precision    recall  f1-score   support\n",
      "\n",
      "      MNPDR       0.00      0.00      0.00       142\n",
      "        PDR       0.10      0.17      0.13       208\n",
      "      SNPDR       0.02      0.38      0.04        45\n",
      "      mNPDR       0.14      0.65      0.23       411\n",
      "      no_DR       1.00      0.00      0.00      2402\n",
      "\n",
      "avg / total       0.77      0.10      0.04      3208\n",
      "\n",
      "Number of mislabeled points out of a total 3208 points : 2886\n"
     ]
    }
   ],
   "source": [
    "from sklearn import metrics\n",
    "from sklearn.naive_bayes import GaussianNB\n",
    "model = GaussianNB()\n",
    "X=baseline_missingHandle[predictors]\n",
    "y=baseline_missingHandle['worst_DR']\n",
    "X=preprocessing.normalize(X)\n",
    "X_train, X_test,y_train,y_test=train_test_split(X,y,stratify=y,test_size=0.20,random_state=42)\n",
    "model.fit(X_train, y_train)\n",
    "print(model)\n",
    "# make predictions\n",
    "y_pred = model.predict(X_test)\n",
    "# summarize the fit of the model\n",
    "print \"\\nTest set accuracy is \", accuracy_score(y_test,y_pred)*100,\"\\n\"\n",
    "print(pd.crosstab(y_test, y_pred)), \"\\n\"\n",
    "print \"Classification Report:\\n\", (metrics.classification_report(y_test, y_pred))\n",
    "print(\"Number of mislabeled points out of a total %d points : %d\"\n",
    "      % (X_test.shape[0],(y_test != y_pred).sum()))"
   ]
  },
  {
   "cell_type": "markdown",
   "metadata": {},
   "source": [
    "## Bernoulli NB"
   ]
  },
  {
   "cell_type": "markdown",
   "metadata": {},
   "source": [
    "Predictors: Baseline features  Response: Worst_DR"
   ]
  },
  {
   "cell_type": "code",
   "execution_count": 164,
   "metadata": {
    "collapsed": true
   },
   "outputs": [
    {
     "name": "stdout",
     "output_type": "stream",
     "text": [
      "BernoulliNB(alpha=1.0, binarize=0.0, class_prior=None, fit_prior=True)\n",
      "\n",
      "Test set accuracy is  74.8753117207 \n",
      "\n",
      "col_0     no_DR\n",
      "worst_DR       \n",
      "MNPDR       142\n",
      "PDR         208\n",
      "SNPDR        45\n",
      "mNPDR       411\n",
      "no_DR      2402 \n",
      "\n",
      "Classification Report:\n",
      "             precision    recall  f1-score   support\n",
      "\n",
      "      MNPDR       0.00      0.00      0.00       142\n",
      "        PDR       0.00      0.00      0.00       208\n",
      "      SNPDR       0.00      0.00      0.00        45\n",
      "      mNPDR       0.00      0.00      0.00       411\n",
      "      no_DR       0.75      1.00      0.86      2402\n",
      "\n",
      "avg / total       0.56      0.75      0.64      3208\n",
      "\n",
      "Number of mislabeled points out of a total 3208 points : 806\n"
     ]
    }
   ],
   "source": [
    "from sklearn.naive_bayes import BernoulliNB\n",
    "model = BernoulliNB()\n",
    "X=baseline_missingHandle[predictors]\n",
    "y=baseline_missingHandle['worst_DR']\n",
    "X=preprocessing.normalize(X)\n",
    "X_train, X_test,y_train,y_test=train_test_split(X,y,stratify=y,test_size=0.20,random_state=42)\n",
    "model.fit(X_train, y_train)\n",
    "print(model)\n",
    "# make predictions\n",
    "y_pred = model.predict(X_test)\n",
    "# summarize the fit of the model\n",
    "print \"\\nTest set accuracy is \", accuracy_score(y_test,y_pred)*100,\"\\n\"\n",
    "print(pd.crosstab(y_test, y_pred)), \"\\n\"\n",
    "print \"Classification Report:\\n\", (metrics.classification_report(y_test, y_pred))\n",
    "print(\"Number of mislabeled points out of a total %d points : %d\"\n",
    "      % (X_test.shape[0],(y_test != y_pred).sum()))"
   ]
  },
  {
   "cell_type": "markdown",
   "metadata": {},
   "source": [
    "Predictors: More features Response: Worst_DR"
   ]
  },
  {
   "cell_type": "code",
   "execution_count": 167,
   "metadata": {
    "collapsed": true
   },
   "outputs": [
    {
     "name": "stdout",
     "output_type": "stream",
     "text": [
      "BernoulliNB(alpha=1.0, binarize=0.0, class_prior=None, fit_prior=True)\n",
      "\n",
      "Test set accuracy is  74.812967581 \n",
      "\n",
      "col_0     SNPDR  no_DR\n",
      "worst_DR              \n",
      "MNPDR         0    142\n",
      "PDR           0    208\n",
      "SNPDR         0     45\n",
      "mNPDR         0    411\n",
      "no_DR         2   2400 \n",
      "\n",
      "Classification Report:\n",
      "             precision    recall  f1-score   support\n",
      "\n",
      "      MNPDR       0.00      0.00      0.00       142\n",
      "        PDR       0.00      0.00      0.00       208\n",
      "      SNPDR       0.00      0.00      0.00        45\n",
      "      mNPDR       0.00      0.00      0.00       411\n",
      "      no_DR       0.75      1.00      0.86      2402\n",
      "\n",
      "avg / total       0.56      0.75      0.64      3208\n",
      "\n",
      "Number of mislabeled points out of a total 3208 points : 808\n"
     ]
    }
   ],
   "source": [
    "model=BernoulliNB()\n",
    "X=Morefeatures_missingHandle[predictors1]\n",
    "y=Morefeatures_missingHandle['worst_DR']\n",
    "X=preprocessing.normalize(X)\n",
    "X_train, X_test,y_train,y_test=train_test_split(X,y,stratify=y,test_size=0.20,random_state=42)\n",
    "model.fit(X_train, y_train)\n",
    "print(model)\n",
    "# make predictions\n",
    "y_pred = model.predict(X_test)\n",
    "# summarize the fit of the model\n",
    "print \"\\nTest set accuracy is \", accuracy_score(y_test,y_pred)*100,\"\\n\"\n",
    "print(pd.crosstab(y_test, y_pred)), \"\\n\"\n",
    "print \"Classification Report:\\n\", (metrics.classification_report(y_test, y_pred))\n",
    "print(\"Number of mislabeled points out of a total %d points : %d\"\n",
    "      % (X_test.shape[0],(y_test != y_pred).sum()))"
   ]
  },
  {
   "cell_type": "markdown",
   "metadata": {},
   "source": [
    "## SVM"
   ]
  },
  {
   "cell_type": "markdown",
   "metadata": {},
   "source": [
    "Predictors: Baseline features Response: Worst_DR"
   ]
  },
  {
   "cell_type": "code",
   "execution_count": 170,
   "metadata": {
    "collapsed": true
   },
   "outputs": [
    {
     "name": "stdout",
     "output_type": "stream",
     "text": [
      "SVC(C=1.0, cache_size=200, class_weight=None, coef0=0.0,\n",
      "  decision_function_shape=None, degree=3, gamma='auto', kernel='rbf',\n",
      "  max_iter=-1, probability=False, random_state=None, shrinking=True,\n",
      "  tol=0.001, verbose=False)\n",
      "\n",
      "Test set accuracy is  74.8753117207 \n",
      "\n",
      "col_0      no_DR\n",
      "recent_DR       \n",
      "MNPDR        131\n",
      "PDR          193\n",
      "SNPDR         39\n",
      "mNPDR        443\n",
      "no_DR       2402 \n",
      "\n",
      "Classification Report:\n",
      "             precision    recall  f1-score   support\n",
      "\n",
      "      MNPDR       0.00      0.00      0.00       131\n",
      "        PDR       0.00      0.00      0.00       193\n",
      "      SNPDR       0.00      0.00      0.00        39\n",
      "      mNPDR       0.00      0.00      0.00       443\n",
      "      no_DR       0.75      1.00      0.86      2402\n",
      "\n",
      "avg / total       0.56      0.75      0.64      3208\n",
      "\n",
      "\n",
      "Number of mislabeled points out of a total 3208 points : 806\n"
     ]
    }
   ],
   "source": [
    "from sklearn.svm import SVC\n",
    "# fit a SVM model to the data\n",
    "model = SVC()\n",
    "X=baseline_missingHandle[predictors]\n",
    "y=baseline_missingHandle['recent_DR']\n",
    "X=preprocessing.normalize(X)\n",
    "X_train, X_test,y_train,y_test=train_test_split(X,y,stratify=y,test_size=0.20,random_state=42)\n",
    "model.fit(X_train, y_train)\n",
    "print(model)\n",
    "# make predictions\n",
    "y_pred = model.predict(X_test)\n",
    "# summarize the fit of the model\n",
    "print \"\\nTest set accuracy is \", accuracy_score(y_test,y_pred)*100,\"\\n\"\n",
    "print(pd.crosstab(y_test, y_pred)), \"\\n\"\n",
    "print \"Classification Report:\\n\", (metrics.classification_report(y_test,y_pred))\n",
    "print(\"\\nNumber of mislabeled points out of a total %d points : %d\"\n",
    "      % (X_test.shape[0],(y_test != y_pred).sum()))"
   ]
  }
 ],
 "metadata": {
  "anaconda-cloud": {},
  "kernelspec": {
   "display_name": "Python [conda root]",
   "language": "python",
   "name": "conda-root-py"
  },
  "language_info": {
   "codemirror_mode": {
    "name": "ipython",
    "version": 2
   },
   "file_extension": ".py",
   "mimetype": "text/x-python",
   "name": "python",
   "nbconvert_exporter": "python",
   "pygments_lexer": "ipython2",
   "version": "2.7.12"
  }
 },
 "nbformat": 4,
 "nbformat_minor": 2
}
