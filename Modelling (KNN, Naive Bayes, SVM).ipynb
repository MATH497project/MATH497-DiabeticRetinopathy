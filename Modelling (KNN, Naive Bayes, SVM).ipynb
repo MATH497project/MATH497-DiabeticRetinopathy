{
 "cells": [
  {
   "cell_type": "code",
   "execution_count": 14,
   "metadata": {
    "collapsed": false
   },
   "outputs": [],
   "source": [
    "import pandas as pd\n",
    "import numpy as np\n",
    "import matplotlib\n",
    "import matplotlib.pyplot as plt\n",
    "from sklearn.neighbors import KNeighborsClassifier\n",
    "from sklearn.model_selection import train_test_split\n",
    "from sklearn.metrics import confusion_matrix\n",
    "from sklearn.metrics import accuracy_score\n",
    "from sklearn import preprocessing\n",
    "from sklearn import metrics\n",
    "from sklearn.ensemble import ExtraTreesClassifier\n",
    "from sklearn.preprocessing import minmax_scale\n",
    "from sklearn.cross_validation import cross_val_score\n",
    "from sklearn import metrics\n",
    "from sklearn.naive_bayes import GaussianNB\n",
    "from sklearn.naive_bayes import BernoulliNB\n",
    "from sklearn.naive_bayes import MultinomialNB\n",
    "from sklearn.svm import SVC"
   ]
  },
  {
   "cell_type": "code",
   "execution_count": 15,
   "metadata": {
    "collapsed": true
   },
   "outputs": [],
   "source": [
    "path = 'E:/SUBJECTS/497 MATH S17 PSP--/Data/'\n",
    "interpath= 'E:/SUBJECTS/497 MATH S17 PSP--/Data/intermediate/'"
   ]
  },
  {
   "cell_type": "code",
   "execution_count": 16,
   "metadata": {
    "collapsed": true
   },
   "outputs": [
    {
     "name": "stdout",
     "output_type": "stream",
     "text": [
      "(16039, 26)\n",
      "Index([u'A1C', u'BMI', u'Glucose', u'BP_Diastolic', u'BP_Systolic', u'DM',\n",
      "       u'ME', u'Glaucoma_Suspect', u'Open_angle_Glaucoma', u'Cataract',\n",
      "       u'Gender_F', u'Gender_M', u'Gender_U', u'Race_Asian',\n",
      "       u'Race_Black or African American', u'Race_Hispanic or Latino',\n",
      "       u'Race_Other', u'Race_White', u'Age_group_(18, 48]',\n",
      "       u'Age_group_(49, 55]', u'Age_group_(56, 60]', u'Age_group_(61, 66]',\n",
      "       u'Age_group_(67, 74]', u'Age_group_(75, 114]', u'worst_DR',\n",
      "       u'recent_DR'],\n",
      "      dtype='object')\n"
     ]
    },
    {
     "data": {
      "text/html": [
       "<div>\n",
       "<table border=\"1\" class=\"dataframe\">\n",
       "  <thead>\n",
       "    <tr style=\"text-align: right;\">\n",
       "      <th></th>\n",
       "      <th>A1C</th>\n",
       "      <th>BMI</th>\n",
       "      <th>Glucose</th>\n",
       "      <th>BP_Diastolic</th>\n",
       "      <th>BP_Systolic</th>\n",
       "      <th>DM</th>\n",
       "      <th>ME</th>\n",
       "      <th>Glaucoma_Suspect</th>\n",
       "      <th>Open_angle_Glaucoma</th>\n",
       "      <th>Cataract</th>\n",
       "      <th>...</th>\n",
       "      <th>Race_Other</th>\n",
       "      <th>Race_White</th>\n",
       "      <th>Age_group_(18, 48]</th>\n",
       "      <th>Age_group_(49, 55]</th>\n",
       "      <th>Age_group_(56, 60]</th>\n",
       "      <th>Age_group_(61, 66]</th>\n",
       "      <th>Age_group_(67, 74]</th>\n",
       "      <th>Age_group_(75, 114]</th>\n",
       "      <th>worst_DR</th>\n",
       "      <th>recent_DR</th>\n",
       "    </tr>\n",
       "    <tr>\n",
       "      <th>Person_Nbr</th>\n",
       "      <th></th>\n",
       "      <th></th>\n",
       "      <th></th>\n",
       "      <th></th>\n",
       "      <th></th>\n",
       "      <th></th>\n",
       "      <th></th>\n",
       "      <th></th>\n",
       "      <th></th>\n",
       "      <th></th>\n",
       "      <th></th>\n",
       "      <th></th>\n",
       "      <th></th>\n",
       "      <th></th>\n",
       "      <th></th>\n",
       "      <th></th>\n",
       "      <th></th>\n",
       "      <th></th>\n",
       "      <th></th>\n",
       "      <th></th>\n",
       "      <th></th>\n",
       "    </tr>\n",
       "  </thead>\n",
       "  <tbody>\n",
       "    <tr>\n",
       "      <th>33</th>\n",
       "      <td>8.000000</td>\n",
       "      <td>31.579036</td>\n",
       "      <td>130.000000</td>\n",
       "      <td>78.000000</td>\n",
       "      <td>118.000000</td>\n",
       "      <td>True</td>\n",
       "      <td>False</td>\n",
       "      <td>False</td>\n",
       "      <td>False</td>\n",
       "      <td>False</td>\n",
       "      <td>...</td>\n",
       "      <td>0</td>\n",
       "      <td>0</td>\n",
       "      <td>0</td>\n",
       "      <td>0</td>\n",
       "      <td>0</td>\n",
       "      <td>1</td>\n",
       "      <td>0</td>\n",
       "      <td>0</td>\n",
       "      <td>no_DR</td>\n",
       "      <td>no_DR</td>\n",
       "    </tr>\n",
       "    <tr>\n",
       "      <th>89</th>\n",
       "      <td>7.280372</td>\n",
       "      <td>32.452934</td>\n",
       "      <td>133.443515</td>\n",
       "      <td>53.000000</td>\n",
       "      <td>92.000000</td>\n",
       "      <td>True</td>\n",
       "      <td>False</td>\n",
       "      <td>True</td>\n",
       "      <td>False</td>\n",
       "      <td>False</td>\n",
       "      <td>...</td>\n",
       "      <td>1</td>\n",
       "      <td>0</td>\n",
       "      <td>0</td>\n",
       "      <td>0</td>\n",
       "      <td>1</td>\n",
       "      <td>0</td>\n",
       "      <td>0</td>\n",
       "      <td>0</td>\n",
       "      <td>no_DR</td>\n",
       "      <td>no_DR</td>\n",
       "    </tr>\n",
       "    <tr>\n",
       "      <th>146</th>\n",
       "      <td>6.989072</td>\n",
       "      <td>31.129173</td>\n",
       "      <td>128.568645</td>\n",
       "      <td>75.000000</td>\n",
       "      <td>130.000000</td>\n",
       "      <td>True</td>\n",
       "      <td>False</td>\n",
       "      <td>True</td>\n",
       "      <td>False</td>\n",
       "      <td>True</td>\n",
       "      <td>...</td>\n",
       "      <td>1</td>\n",
       "      <td>0</td>\n",
       "      <td>0</td>\n",
       "      <td>0</td>\n",
       "      <td>0</td>\n",
       "      <td>0</td>\n",
       "      <td>1</td>\n",
       "      <td>0</td>\n",
       "      <td>no_DR</td>\n",
       "      <td>no_DR</td>\n",
       "    </tr>\n",
       "    <tr>\n",
       "      <th>196</th>\n",
       "      <td>7.280372</td>\n",
       "      <td>32.452934</td>\n",
       "      <td>78.000000</td>\n",
       "      <td>88.000000</td>\n",
       "      <td>125.000000</td>\n",
       "      <td>False</td>\n",
       "      <td>False</td>\n",
       "      <td>False</td>\n",
       "      <td>False</td>\n",
       "      <td>False</td>\n",
       "      <td>...</td>\n",
       "      <td>1</td>\n",
       "      <td>0</td>\n",
       "      <td>0</td>\n",
       "      <td>0</td>\n",
       "      <td>1</td>\n",
       "      <td>0</td>\n",
       "      <td>0</td>\n",
       "      <td>0</td>\n",
       "      <td>no_DR</td>\n",
       "      <td>no_DR</td>\n",
       "    </tr>\n",
       "    <tr>\n",
       "      <th>327</th>\n",
       "      <td>7.203035</td>\n",
       "      <td>31.579036</td>\n",
       "      <td>121.000000</td>\n",
       "      <td>78.082412</td>\n",
       "      <td>134.756106</td>\n",
       "      <td>False</td>\n",
       "      <td>False</td>\n",
       "      <td>True</td>\n",
       "      <td>False</td>\n",
       "      <td>False</td>\n",
       "      <td>...</td>\n",
       "      <td>0</td>\n",
       "      <td>0</td>\n",
       "      <td>0</td>\n",
       "      <td>0</td>\n",
       "      <td>0</td>\n",
       "      <td>1</td>\n",
       "      <td>0</td>\n",
       "      <td>0</td>\n",
       "      <td>no_DR</td>\n",
       "      <td>no_DR</td>\n",
       "    </tr>\n",
       "  </tbody>\n",
       "</table>\n",
       "<p>5 rows × 26 columns</p>\n",
       "</div>"
      ],
      "text/plain": [
       "                 A1C        BMI     Glucose  BP_Diastolic  BP_Systolic     DM  \\\n",
       "Person_Nbr                                                                      \n",
       "33          8.000000  31.579036  130.000000     78.000000   118.000000   True   \n",
       "89          7.280372  32.452934  133.443515     53.000000    92.000000   True   \n",
       "146         6.989072  31.129173  128.568645     75.000000   130.000000   True   \n",
       "196         7.280372  32.452934   78.000000     88.000000   125.000000  False   \n",
       "327         7.203035  31.579036  121.000000     78.082412   134.756106  False   \n",
       "\n",
       "               ME Glaucoma_Suspect Open_angle_Glaucoma Cataract    ...      \\\n",
       "Person_Nbr                                                         ...       \n",
       "33          False            False               False    False    ...       \n",
       "89          False             True               False    False    ...       \n",
       "146         False             True               False     True    ...       \n",
       "196         False            False               False    False    ...       \n",
       "327         False             True               False    False    ...       \n",
       "\n",
       "            Race_Other  Race_White  Age_group_(18, 48]  Age_group_(49, 55]  \\\n",
       "Person_Nbr                                                                   \n",
       "33                   0           0                   0                   0   \n",
       "89                   1           0                   0                   0   \n",
       "146                  1           0                   0                   0   \n",
       "196                  1           0                   0                   0   \n",
       "327                  0           0                   0                   0   \n",
       "\n",
       "            Age_group_(56, 60]  Age_group_(61, 66]  Age_group_(67, 74]  \\\n",
       "Person_Nbr                                                               \n",
       "33                           0                   1                   0   \n",
       "89                           1                   0                   0   \n",
       "146                          0                   0                   1   \n",
       "196                          1                   0                   0   \n",
       "327                          0                   1                   0   \n",
       "\n",
       "            Age_group_(75, 114]  worst_DR  recent_DR  \n",
       "Person_Nbr                                            \n",
       "33                            0     no_DR      no_DR  \n",
       "89                            0     no_DR      no_DR  \n",
       "146                           0     no_DR      no_DR  \n",
       "196                           0     no_DR      no_DR  \n",
       "327                           0     no_DR      no_DR  \n",
       "\n",
       "[5 rows x 26 columns]"
      ]
     },
     "execution_count": 16,
     "metadata": {},
     "output_type": "execute_result"
    }
   ],
   "source": [
    "baseline_missingHandle=pd.read_pickle(interpath+\"baseline_missingHandled_Dan_20170406.pickle\")\n",
    "print baseline_missingHandle.shape\n",
    "print baseline_missingHandle.columns\n",
    "baseline_missingHandle.head()"
   ]
  },
  {
   "cell_type": "code",
   "execution_count": 17,
   "metadata": {
    "collapsed": true
   },
   "outputs": [
    {
     "name": "stdout",
     "output_type": "stream",
     "text": [
      "19\n"
     ]
    },
    {
     "data": {
      "text/plain": [
       "Index([u'A1C', u'BMI', u'Glucose', u'BP_Diastolic', u'BP_Systolic',\n",
       "       u'Gender_F', u'Gender_M', u'Gender_U', u'Race_Asian',\n",
       "       u'Race_Black or African American', u'Race_Hispanic or Latino',\n",
       "       u'Race_Other', u'Race_White', u'Age_group_(18, 48]',\n",
       "       u'Age_group_(49, 55]', u'Age_group_(56, 60]', u'Age_group_(61, 66]',\n",
       "       u'Age_group_(67, 74]', u'Age_group_(75, 114]'],\n",
       "      dtype='object')"
      ]
     },
     "execution_count": 17,
     "metadata": {},
     "output_type": "execute_result"
    }
   ],
   "source": [
    "quantitive_columns = baseline_missingHandle.select_dtypes(include=[np.number]).columns\n",
    "print len(quantitive_columns)\n",
    "quantitive_columns"
   ]
  },
  {
   "cell_type": "code",
   "execution_count": null,
   "metadata": {
    "collapsed": false
   },
   "outputs": [],
   "source": [
    "qualitative_columns = baseline_missingHandle.select_dtypes(include=[object]).columns\n",
    "print len(qualitative_columns)\n",
    "qualitative_columns"
   ]
  },
  {
   "cell_type": "code",
   "execution_count": null,
   "metadata": {
    "collapsed": true
   },
   "outputs": [],
   "source": [
    "print \"Worst_DR:\"\n",
    "print (baseline_missingHandle.worst_DR).value_counts()\n",
    "print \"\\nRecent_DR:\"\n",
    "print (baseline_missingHandle.recent_DR).value_counts()"
   ]
  },
  {
   "cell_type": "code",
   "execution_count": 18,
   "metadata": {
    "collapsed": true
   },
   "outputs": [
    {
     "name": "stdout",
     "output_type": "stream",
     "text": [
      "(16039, 54)\n",
      "Index([u'A1C', u'BMI', u'Glucose', u'BP_Systolic', u'BP_Diastolic',\n",
      "       u'MR_OD_SPH_Numeric', u'MR_OD_CYL_Numeric', u'MR_OS_SPH_Numeric',\n",
      "       u'MR_OS_CYL_Numeric', u'MR_OS_DVA_ability', u'MR_OD_DVA_ability',\n",
      "       u'MR_OS_NVA_ability', u'MR_OD_NVA_ability', u'DM', u'ME',\n",
      "       u'Glaucoma_Suspect', u'Open_angle_Glaucoma', u'Cataract', u'Gender_F',\n",
      "       u'Gender_M', u'Gender_U', u'Race_Asian',\n",
      "       u'Race_Black or African American', u'Race_Hispanic or Latino',\n",
      "       u'Race_Other', u'Race_White',\n",
      "       u'recent_smoking_status_current every day smoker',\n",
      "       u'recent_smoking_status_current some day smoker',\n",
      "       u'recent_smoking_status_former smoker',\n",
      "       u'recent_smoking_status_heavy tobacco smoker',\n",
      "       u'recent_smoking_status_light tobacco smoker',\n",
      "       u'recent_smoking_status_never smoker', u'recent_smoking_status_smoker',\n",
      "       u'recent_smoking_status_unknown if ever smoked',\n",
      "       u'family_DM_G_DM_P_NDM', u'family_DM_Gp_DM', u'family_DM_Gp_SM_P_DM',\n",
      "       u'family_DM_P_DM', u'family_DM_P_NDM', u'family_DM_Unknown',\n",
      "       u'family_G_GP_G_P_NG', u'family_G_Gp_G', u'family_G_Gp_G_P_G',\n",
      "       u'family_G_P_G', u'family_G_P_NG', u'family_G_Unknown',\n",
      "       u'Age_group_(18, 48]', u'Age_group_(49, 55]', u'Age_group_(56, 60]',\n",
      "       u'Age_group_(61, 66]', u'Age_group_(67, 74]', u'Age_group_(75, 114]',\n",
      "       u'worst_DR', u'recent_DR'],\n",
      "      dtype='object')\n"
     ]
    },
    {
     "data": {
      "text/html": [
       "<div>\n",
       "<table border=\"1\" class=\"dataframe\">\n",
       "  <thead>\n",
       "    <tr style=\"text-align: right;\">\n",
       "      <th></th>\n",
       "      <th>A1C</th>\n",
       "      <th>BMI</th>\n",
       "      <th>Glucose</th>\n",
       "      <th>BP_Systolic</th>\n",
       "      <th>BP_Diastolic</th>\n",
       "      <th>MR_OD_SPH_Numeric</th>\n",
       "      <th>MR_OD_CYL_Numeric</th>\n",
       "      <th>MR_OS_SPH_Numeric</th>\n",
       "      <th>MR_OS_CYL_Numeric</th>\n",
       "      <th>MR_OS_DVA_ability</th>\n",
       "      <th>...</th>\n",
       "      <th>family_G_P_NG</th>\n",
       "      <th>family_G_Unknown</th>\n",
       "      <th>Age_group_(18, 48]</th>\n",
       "      <th>Age_group_(49, 55]</th>\n",
       "      <th>Age_group_(56, 60]</th>\n",
       "      <th>Age_group_(61, 66]</th>\n",
       "      <th>Age_group_(67, 74]</th>\n",
       "      <th>Age_group_(75, 114]</th>\n",
       "      <th>worst_DR</th>\n",
       "      <th>recent_DR</th>\n",
       "    </tr>\n",
       "    <tr>\n",
       "      <th>Person_Nbr</th>\n",
       "      <th></th>\n",
       "      <th></th>\n",
       "      <th></th>\n",
       "      <th></th>\n",
       "      <th></th>\n",
       "      <th></th>\n",
       "      <th></th>\n",
       "      <th></th>\n",
       "      <th></th>\n",
       "      <th></th>\n",
       "      <th></th>\n",
       "      <th></th>\n",
       "      <th></th>\n",
       "      <th></th>\n",
       "      <th></th>\n",
       "      <th></th>\n",
       "      <th></th>\n",
       "      <th></th>\n",
       "      <th></th>\n",
       "      <th></th>\n",
       "      <th></th>\n",
       "    </tr>\n",
       "  </thead>\n",
       "  <tbody>\n",
       "    <tr>\n",
       "      <th>33</th>\n",
       "      <td>8.000000</td>\n",
       "      <td>31.579036</td>\n",
       "      <td>130.000000</td>\n",
       "      <td>118.000000</td>\n",
       "      <td>78.000000</td>\n",
       "      <td>1.250000</td>\n",
       "      <td>-0.913393</td>\n",
       "      <td>1.750000</td>\n",
       "      <td>-0.500000</td>\n",
       "      <td>20.000000</td>\n",
       "      <td>...</td>\n",
       "      <td>0</td>\n",
       "      <td>0</td>\n",
       "      <td>0</td>\n",
       "      <td>0</td>\n",
       "      <td>0</td>\n",
       "      <td>1</td>\n",
       "      <td>0</td>\n",
       "      <td>0</td>\n",
       "      <td>no_DR</td>\n",
       "      <td>no_DR</td>\n",
       "    </tr>\n",
       "    <tr>\n",
       "      <th>89</th>\n",
       "      <td>7.280372</td>\n",
       "      <td>32.452934</td>\n",
       "      <td>133.443515</td>\n",
       "      <td>92.000000</td>\n",
       "      <td>53.000000</td>\n",
       "      <td>0.500000</td>\n",
       "      <td>-0.750000</td>\n",
       "      <td>0.250000</td>\n",
       "      <td>-1.250000</td>\n",
       "      <td>20.000000</td>\n",
       "      <td>...</td>\n",
       "      <td>0</td>\n",
       "      <td>0</td>\n",
       "      <td>0</td>\n",
       "      <td>0</td>\n",
       "      <td>1</td>\n",
       "      <td>0</td>\n",
       "      <td>0</td>\n",
       "      <td>0</td>\n",
       "      <td>no_DR</td>\n",
       "      <td>no_DR</td>\n",
       "    </tr>\n",
       "    <tr>\n",
       "      <th>146</th>\n",
       "      <td>6.989072</td>\n",
       "      <td>31.129173</td>\n",
       "      <td>128.568645</td>\n",
       "      <td>130.000000</td>\n",
       "      <td>75.000000</td>\n",
       "      <td>0.802648</td>\n",
       "      <td>-0.941888</td>\n",
       "      <td>0.767671</td>\n",
       "      <td>-0.929986</td>\n",
       "      <td>22.279976</td>\n",
       "      <td>...</td>\n",
       "      <td>0</td>\n",
       "      <td>1</td>\n",
       "      <td>0</td>\n",
       "      <td>0</td>\n",
       "      <td>0</td>\n",
       "      <td>0</td>\n",
       "      <td>1</td>\n",
       "      <td>0</td>\n",
       "      <td>no_DR</td>\n",
       "      <td>no_DR</td>\n",
       "    </tr>\n",
       "    <tr>\n",
       "      <th>196</th>\n",
       "      <td>7.280372</td>\n",
       "      <td>32.452934</td>\n",
       "      <td>78.000000</td>\n",
       "      <td>125.000000</td>\n",
       "      <td>88.000000</td>\n",
       "      <td>1.750000</td>\n",
       "      <td>-0.750000</td>\n",
       "      <td>0.750000</td>\n",
       "      <td>-0.873557</td>\n",
       "      <td>20.000000</td>\n",
       "      <td>...</td>\n",
       "      <td>1</td>\n",
       "      <td>0</td>\n",
       "      <td>0</td>\n",
       "      <td>0</td>\n",
       "      <td>1</td>\n",
       "      <td>0</td>\n",
       "      <td>0</td>\n",
       "      <td>0</td>\n",
       "      <td>no_DR</td>\n",
       "      <td>no_DR</td>\n",
       "    </tr>\n",
       "    <tr>\n",
       "      <th>327</th>\n",
       "      <td>7.203035</td>\n",
       "      <td>31.579036</td>\n",
       "      <td>121.000000</td>\n",
       "      <td>134.756106</td>\n",
       "      <td>78.082412</td>\n",
       "      <td>1.250000</td>\n",
       "      <td>-0.750000</td>\n",
       "      <td>3.000000</td>\n",
       "      <td>-1.000000</td>\n",
       "      <td>25.000000</td>\n",
       "      <td>...</td>\n",
       "      <td>1</td>\n",
       "      <td>0</td>\n",
       "      <td>0</td>\n",
       "      <td>0</td>\n",
       "      <td>0</td>\n",
       "      <td>1</td>\n",
       "      <td>0</td>\n",
       "      <td>0</td>\n",
       "      <td>no_DR</td>\n",
       "      <td>no_DR</td>\n",
       "    </tr>\n",
       "  </tbody>\n",
       "</table>\n",
       "<p>5 rows × 54 columns</p>\n",
       "</div>"
      ],
      "text/plain": [
       "                 A1C        BMI     Glucose  BP_Systolic  BP_Diastolic  \\\n",
       "Person_Nbr                                                               \n",
       "33          8.000000  31.579036  130.000000   118.000000     78.000000   \n",
       "89          7.280372  32.452934  133.443515    92.000000     53.000000   \n",
       "146         6.989072  31.129173  128.568645   130.000000     75.000000   \n",
       "196         7.280372  32.452934   78.000000   125.000000     88.000000   \n",
       "327         7.203035  31.579036  121.000000   134.756106     78.082412   \n",
       "\n",
       "            MR_OD_SPH_Numeric  MR_OD_CYL_Numeric  MR_OS_SPH_Numeric  \\\n",
       "Person_Nbr                                                            \n",
       "33                   1.250000          -0.913393           1.750000   \n",
       "89                   0.500000          -0.750000           0.250000   \n",
       "146                  0.802648          -0.941888           0.767671   \n",
       "196                  1.750000          -0.750000           0.750000   \n",
       "327                  1.250000          -0.750000           3.000000   \n",
       "\n",
       "            MR_OS_CYL_Numeric  MR_OS_DVA_ability    ...      family_G_P_NG  \\\n",
       "Person_Nbr                                          ...                      \n",
       "33                  -0.500000          20.000000    ...                  0   \n",
       "89                  -1.250000          20.000000    ...                  0   \n",
       "146                 -0.929986          22.279976    ...                  0   \n",
       "196                 -0.873557          20.000000    ...                  1   \n",
       "327                 -1.000000          25.000000    ...                  1   \n",
       "\n",
       "            family_G_Unknown  Age_group_(18, 48] Age_group_(49, 55]  \\\n",
       "Person_Nbr                                                            \n",
       "33                         0                   0                  0   \n",
       "89                         0                   0                  0   \n",
       "146                        1                   0                  0   \n",
       "196                        0                   0                  0   \n",
       "327                        0                   0                  0   \n",
       "\n",
       "           Age_group_(56, 60] Age_group_(61, 66] Age_group_(67, 74]  \\\n",
       "Person_Nbr                                                            \n",
       "33                          0                  1                  0   \n",
       "89                          1                  0                  0   \n",
       "146                         0                  0                  1   \n",
       "196                         1                  0                  0   \n",
       "327                         0                  1                  0   \n",
       "\n",
       "           Age_group_(75, 114]  worst_DR  recent_DR  \n",
       "Person_Nbr                                           \n",
       "33                           0     no_DR      no_DR  \n",
       "89                           0     no_DR      no_DR  \n",
       "146                          0     no_DR      no_DR  \n",
       "196                          0     no_DR      no_DR  \n",
       "327                          0     no_DR      no_DR  \n",
       "\n",
       "[5 rows x 54 columns]"
      ]
     },
     "execution_count": 18,
     "metadata": {},
     "output_type": "execute_result"
    }
   ],
   "source": [
    "Morefeatures_missingHandle=pd.read_pickle(interpath+\"Morefeatures_missingHandled_Dan_20170415.pickle\")\n",
    "print Morefeatures_missingHandle.shape\n",
    "print Morefeatures_missingHandle.columns\n",
    "Morefeatures_missingHandle.head()"
   ]
  },
  {
   "cell_type": "code",
   "execution_count": null,
   "metadata": {
    "collapsed": true
   },
   "outputs": [],
   "source": [
    "quantitive_columns1 = Morefeatures_missingHandle.select_dtypes(include=[np.number]).columns\n",
    "print len(quantitive_columns1)\n",
    "quantitive_columns1"
   ]
  },
  {
   "cell_type": "code",
   "execution_count": null,
   "metadata": {
    "collapsed": true
   },
   "outputs": [],
   "source": [
    "qualitative_columns1 = Morefeatures_missingHandle.select_dtypes(include=[object]).columns\n",
    "print len(qualitative_columns1)\n",
    "qualitative_columns1"
   ]
  },
  {
   "cell_type": "code",
   "execution_count": null,
   "metadata": {
    "collapsed": true
   },
   "outputs": [],
   "source": [
    "print \"Worst_DR:\"\n",
    "print (Morefeatures_missingHandle.worst_DR).value_counts()\n",
    "print \"\\nRecent_DR:\"\n",
    "print (Morefeatures_missingHandle.recent_DR).value_counts()"
   ]
  },
  {
   "cell_type": "code",
   "execution_count": 19,
   "metadata": {
    "collapsed": false
   },
   "outputs": [],
   "source": [
    "DR_to_vis_dict = {'PDR': 'vision_threatening', \n",
    "                  'SNPDR': 'vision_threatening',\n",
    "                  'MNPDR': 'non_vision_threatening',\n",
    "                  'mNPDR': 'non_vision_threatening', \n",
    "                  'no_DR': 'no_DR'}\n",
    "baseline_missingHandle['base_recent_vis'] = baseline_missingHandle['recent_DR'].map(lambda x: DR_to_vis_dict[x])\n",
    "Morefeatures_missingHandle['more_recent_vis'] = Morefeatures_missingHandle['recent_DR'].map(lambda x: DR_to_vis_dict[x])"
   ]
  },
  {
   "cell_type": "code",
   "execution_count": 22,
   "metadata": {
    "collapsed": true
   },
   "outputs": [
    {
     "name": "stdout",
     "output_type": "stream",
     "text": [
      "Baseline_DR\n",
      "no_DR                     12009\n",
      "non_vision_threatening     2868\n",
      "vision_threatening         1162\n",
      "Name: base_recent_vis, dtype: int64\n",
      "\n",
      "More_DR:\n",
      "no_DR                     12009\n",
      "non_vision_threatening     2868\n",
      "vision_threatening         1162\n",
      "Name: more_recent_vis, dtype: int64\n"
     ]
    }
   ],
   "source": [
    "print \"Baseline_DR\"\n",
    "print (baseline_missingHandle.base_recent_vis).value_counts()\n",
    "print \"\\nMore_DR:\"\n",
    "print (Morefeatures_missingHandle.more_recent_vis).value_counts()"
   ]
  },
  {
   "cell_type": "code",
   "execution_count": 20,
   "metadata": {
    "collapsed": true
   },
   "outputs": [],
   "source": [
    "predictors = [u'A1C', u'BMI', u'Glucose', u'BP_Diastolic', u'BP_Systolic', u'Gender_F', u'Gender_M', u'Gender_U', u'Race_Asian',\n",
    "       u'Race_Black or African American', u'Race_Hispanic or Latino',u'Race_Other', u'Race_White', u'Age_group_(18, 48]',\n",
    "       u'Age_group_(49, 55]', u'Age_group_(56, 60]', u'Age_group_(61, 66]',u'Age_group_(67, 74]', u'Age_group_(75, 114]',u'DM',\n",
    "        u'Glaucoma_Suspect', u'Open_angle_Glaucoma', u'Cataract' ] #u'ME',\n",
    "predictors1 = [u'A1C', u'BMI', u'Glucose', u'BP_Diastolic', u'BP_Systolic',u'Gender_F', u'Gender_M', u'Gender_U', u'Race_Asian',\n",
    "       u'Race_Black or African American', u'Race_Hispanic or Latino',u'Race_Other', u'Race_White', u'Age_group_(18, 48]',\n",
    "       u'Age_group_(49, 55]', u'Age_group_(56, 60]', u'Age_group_(61, 66]', u'Age_group_(67, 74]', u'Age_group_(75, 114]',u'MR_OD_SPH_Numeric', u'MR_OD_CYL_Numeric', u'MR_OS_SPH_Numeric',\n",
    "       u'MR_OS_CYL_Numeric', u'MR_OS_DVA_ability', u'MR_OD_DVA_ability',u'MR_OS_NVA_ability', u'MR_OD_NVA_ability',\n",
    "       u'recent_smoking_status_current every day smoker',u'recent_smoking_status_current some day smoker',u'recent_smoking_status_former smoker',\n",
    "       u'recent_smoking_status_heavy tobacco smoker',u'recent_smoking_status_light tobacco smoker',u'recent_smoking_status_never smoker',\n",
    "       u'recent_smoking_status_smoker',u'recent_smoking_status_unknown if ever smoked',u'family_DM_G_DM_P_NDM', u'family_DM_Gp_DM', u'family_DM_Gp_SM_P_DM',\n",
    "       u'family_DM_P_DM', u'family_DM_P_NDM', u'family_DM_Unknown',u'family_G_GP_G_P_NG', u'family_G_Gp_G', u'family_G_Gp_G_P_G',\n",
    "       u'family_G_P_G', u'family_G_P_NG', u'family_G_Unknown',u'DM', u'Glaucoma_Suspect', u'Open_angle_Glaucoma', u'Cataract']#u'ME',"
   ]
  },
  {
   "cell_type": "markdown",
   "metadata": {},
   "source": [
    "## Dummy Classifier\n",
    "Predictors: Baseline features Response: Base_Recent_Vis\n",
    "\n",
    "Most Frequent"
   ]
  },
  {
   "cell_type": "code",
   "execution_count": 21,
   "metadata": {
    "collapsed": false
   },
   "outputs": [
    {
     "name": "stdout",
     "output_type": "stream",
     "text": [
      "\n",
      "Test set accuracy is  74.8753117207 \n",
      "\n",
      "col_0                   no_DR\n",
      "base_recent_vis              \n",
      "no_DR                    2402\n",
      "non_vision_threatening    574\n",
      "vision_threatening        232 \n",
      "\n",
      "Classification Report:\n",
      "                        precision    recall  f1-score   support\n",
      "\n",
      "                 no_DR       0.75      1.00      0.86      2402\n",
      "non_vision_threatening       0.00      0.00      0.00       574\n",
      "    vision_threatening       0.00      0.00      0.00       232\n",
      "\n",
      "           avg / total       0.56      0.75      0.64      3208\n",
      "\n",
      "\n",
      "Number of mislabeled points out of a total 3208 points : 806\n"
     ]
    }
   ],
   "source": [
    "from sklearn.dummy import DummyClassifier\n",
    "X=baseline_missingHandle[predictors]\n",
    "y=baseline_missingHandle['base_recent_vis']\n",
    "X=preprocessing.minmax_scale(X)\n",
    "X_train, X_test,y_train,y_test=train_test_split(X,y,stratify=y,test_size=0.20,random_state=42)\n",
    "\n",
    "#train a dummy classifier to make predictions based on the most_frequent class value\n",
    "dummy_classifier = DummyClassifier(strategy=\"most_frequent\")\n",
    "dummy_classifier.fit( X_train,y_train )\n",
    "y_pred = dummy_classifier.predict(X_test)\n",
    "print \"\\nTest set accuracy is \", accuracy_score(y_test,y_pred)*100,\"\\n\"\n",
    "print(pd.crosstab(y_test, y_pred)), \"\\n\"\n",
    "print \"Classification Report:\\n\", (metrics.classification_report(y_test,y_pred))\n",
    "print(\"\\nNumber of mislabeled points out of a total %d points : %d\"\n",
    "      % (X_test.shape[0],(y_test != y_pred).sum()))"
   ]
  },
  {
   "cell_type": "markdown",
   "metadata": {},
   "source": [
    "Stratified"
   ]
  },
  {
   "cell_type": "code",
   "execution_count": 23,
   "metadata": {
    "collapsed": false
   },
   "outputs": [
    {
     "name": "stdout",
     "output_type": "stream",
     "text": [
      "\n",
      "Test set accuracy is  60.4738154613 \n",
      "\n",
      "col_0                   no_DR  non_vision_threatening  vision_threatening\n",
      "base_recent_vis                                                          \n",
      "no_DR                    1823                     404                 175\n",
      "non_vision_threatening    417                     106                  51\n",
      "vision_threatening        182                      39                  11 \n",
      "\n",
      "Classification Report:\n",
      "                        precision    recall  f1-score   support\n",
      "\n",
      "                 no_DR       0.75      0.76      0.76      2402\n",
      "non_vision_threatening       0.19      0.18      0.19       574\n",
      "    vision_threatening       0.05      0.05      0.05       232\n",
      "\n",
      "           avg / total       0.60      0.60      0.60      3208\n",
      "\n",
      "\n",
      "Number of mislabeled points out of a total 3208 points : 1268\n"
     ]
    }
   ],
   "source": [
    "#train a dummy classifier to make predictions based on the class values\n",
    "new_dummy_classifier = DummyClassifier(strategy=\"stratified\")\n",
    "new_dummy_classifier.fit( X_train,y_train )\n",
    "\n",
    "y_pred = new_dummy_classifier.predict(X_test)\n",
    "print \"\\nTest set accuracy is \", accuracy_score(y_test,y_pred)*100,\"\\n\"\n",
    "print(pd.crosstab(y_test, y_pred)), \"\\n\"\n",
    "print \"Classification Report:\\n\", (metrics.classification_report(y_test,y_pred))\n",
    "print(\"\\nNumber of mislabeled points out of a total %d points : %d\"\n",
    "      % (X_test.shape[0],(y_test != y_pred).sum()))"
   ]
  },
  {
   "cell_type": "markdown",
   "metadata": {},
   "source": [
    "Predictors: More features Response: More_Recent_Vis\n",
    "Most Frequent"
   ]
  },
  {
   "cell_type": "code",
   "execution_count": 24,
   "metadata": {
    "collapsed": false
   },
   "outputs": [
    {
     "name": "stdout",
     "output_type": "stream",
     "text": [
      "\n",
      "Test set accuracy is  74.8753117207 \n",
      "\n",
      "col_0                   no_DR\n",
      "more_recent_vis              \n",
      "no_DR                    2402\n",
      "non_vision_threatening    574\n",
      "vision_threatening        232 \n",
      "\n",
      "Classification Report:\n",
      "                        precision    recall  f1-score   support\n",
      "\n",
      "                 no_DR       0.75      1.00      0.86      2402\n",
      "non_vision_threatening       0.00      0.00      0.00       574\n",
      "    vision_threatening       0.00      0.00      0.00       232\n",
      "\n",
      "           avg / total       0.56      0.75      0.64      3208\n",
      "\n",
      "\n",
      "Number of mislabeled points out of a total 3208 points : 806\n"
     ]
    }
   ],
   "source": [
    "from sklearn.dummy import DummyClassifier\n",
    "X=Morefeatures_missingHandle[predictors1]\n",
    "y=Morefeatures_missingHandle['more_recent_vis']\n",
    "X=preprocessing.minmax_scale(X)\n",
    "X_train, X_test,y_train,y_test=train_test_split(X,y,stratify=y,test_size=0.20,random_state=42)\n",
    "\n",
    "#train a dummy classifier to make predictions based on the most_frequent class value\n",
    "dummy_classifier = DummyClassifier(strategy=\"most_frequent\")\n",
    "dummy_classifier.fit( X_train,y_train )\n",
    "y_pred = dummy_classifier.predict(X_test)\n",
    "print \"\\nTest set accuracy is \", accuracy_score(y_test,y_pred)*100,\"\\n\"\n",
    "print(pd.crosstab(y_test, y_pred)), \"\\n\"\n",
    "print \"Classification Report:\\n\", (metrics.classification_report(y_test,y_pred))\n",
    "print(\"\\nNumber of mislabeled points out of a total %d points : %d\"\n",
    "      % (X_test.shape[0],(y_test != y_pred).sum()))"
   ]
  },
  {
   "cell_type": "code",
   "execution_count": 25,
   "metadata": {
    "collapsed": false
   },
   "outputs": [
    {
     "name": "stdout",
     "output_type": "stream",
     "text": [
      "\n",
      "Test set accuracy is  61.1907730673 \n",
      "\n",
      "col_0                   no_DR  non_vision_threatening  vision_threatening\n",
      "more_recent_vis                                                          \n",
      "no_DR                    1841                     391                 170\n",
      "non_vision_threatening    416                     110                  48\n",
      "vision_threatening        180                      40                  12 \n",
      "\n",
      "Classification Report:\n",
      "                        precision    recall  f1-score   support\n",
      "\n",
      "                 no_DR       0.76      0.77      0.76      2402\n",
      "non_vision_threatening       0.20      0.19      0.20       574\n",
      "    vision_threatening       0.05      0.05      0.05       232\n",
      "\n",
      "           avg / total       0.61      0.61      0.61      3208\n",
      "\n",
      "\n",
      "Number of mislabeled points out of a total 3208 points : 1245\n"
     ]
    }
   ],
   "source": [
    "#train a dummy classifier to make predictions based on the class values\n",
    "new_dummy_classifier = DummyClassifier(strategy=\"stratified\")\n",
    "new_dummy_classifier.fit( X_train,y_train )\n",
    "\n",
    "y_pred = new_dummy_classifier.predict(X_test)\n",
    "print \"\\nTest set accuracy is \", accuracy_score(y_test,y_pred)*100,\"\\n\"\n",
    "print(pd.crosstab(y_test, y_pred)), \"\\n\"\n",
    "print \"Classification Report:\\n\", (metrics.classification_report(y_test,y_pred))\n",
    "print(\"\\nNumber of mislabeled points out of a total %d points : %d\"\n",
    "      % (X_test.shape[0],(y_test != y_pred).sum()))"
   ]
  },
  {
   "cell_type": "markdown",
   "metadata": {},
   "source": [
    "## KNN"
   ]
  },
  {
   "cell_type": "markdown",
   "metadata": {},
   "source": [
    "Predictors: Baseline features Response: Recent_DR"
   ]
  },
  {
   "cell_type": "code",
   "execution_count": 26,
   "metadata": {
    "collapsed": false
   },
   "outputs": [
    {
     "name": "stdout",
     "output_type": "stream",
     "text": [
      "\n",
      "Test set accuracy is  66.6770573566 % for K-Value: 3 \n",
      "\n",
      "col_0      MNPDR  PDR  SNPDR  mNPDR  no_DR\n",
      "recent_DR                                 \n",
      "MNPDR         10   18      2     10     91\n",
      "PDR           15   20      2     12    144\n",
      "SNPDR          5    1      1      3     29\n",
      "mNPDR         34   31      4     35    339\n",
      "no_DR         83  107     21    118   2073 \n",
      "\n",
      "Classification Report:\n",
      "             precision    recall  f1-score   support\n",
      "\n",
      "      MNPDR       0.07      0.08      0.07       131\n",
      "        PDR       0.11      0.10      0.11       193\n",
      "      SNPDR       0.03      0.03      0.03        39\n",
      "      mNPDR       0.20      0.08      0.11       443\n",
      "      no_DR       0.77      0.86      0.82      2402\n",
      "\n",
      "avg / total       0.62      0.67      0.64      3208\n",
      "\n",
      "\n",
      "Number of mislabeled points out of a total 3208 points : 1069\n",
      "--------------------------\n",
      "\n",
      "Test set accuracy is  70.2930174564 % for K-Value: 5 \n",
      "\n",
      "col_0      MNPDR  PDR  SNPDR  mNPDR  no_DR\n",
      "recent_DR                                 \n",
      "MNPDR          0    7      0     12    112\n",
      "PDR            5   12      0     19    157\n",
      "SNPDR          4    1      0      3     31\n",
      "mNPDR         12   13      1     49    368\n",
      "no_DR         24   42      2    140   2194 \n",
      "\n",
      "Classification Report:\n",
      "             precision    recall  f1-score   support\n",
      "\n",
      "      MNPDR       0.00      0.00      0.00       131\n",
      "        PDR       0.16      0.06      0.09       193\n",
      "      SNPDR       0.00      0.00      0.00        39\n",
      "      mNPDR       0.22      0.11      0.15       443\n",
      "      no_DR       0.77      0.91      0.83      2402\n",
      "\n",
      "avg / total       0.61      0.70      0.65      3208\n",
      "\n",
      "\n",
      "Number of mislabeled points out of a total 3208 points : 953\n",
      "--------------------------\n",
      "\n",
      "Test set accuracy is  73.8154613466 % for K-Value: 10 \n",
      "\n",
      "col_0      MNPDR  PDR  SNPDR  mNPDR  no_DR\n",
      "recent_DR                                 \n",
      "MNPDR          0    0      0      7    124\n",
      "PDR            2    4      1      8    178\n",
      "SNPDR          1    0      0      1     37\n",
      "mNPDR          3    2      1     20    417\n",
      "no_DR          4    8      0     46   2344 \n",
      "\n",
      "Classification Report:\n",
      "             precision    recall  f1-score   support\n",
      "\n",
      "      MNPDR       0.00      0.00      0.00       131\n",
      "        PDR       0.29      0.02      0.04       193\n",
      "      SNPDR       0.00      0.00      0.00        39\n",
      "      mNPDR       0.24      0.05      0.08       443\n",
      "      no_DR       0.76      0.98      0.85      2402\n",
      "\n",
      "avg / total       0.62      0.74      0.65      3208\n",
      "\n",
      "\n",
      "Number of mislabeled points out of a total 3208 points : 840\n",
      "--------------------------\n",
      "\n",
      "Test set accuracy is  74.5947630923 % for K-Value: 15 \n",
      "\n",
      "col_0      MNPDR  PDR  SNPDR  mNPDR  no_DR\n",
      "recent_DR                                 \n",
      "MNPDR          0    0      0      4    127\n",
      "PDR            1    2      0      2    188\n",
      "SNPDR          0    0      0      0     39\n",
      "mNPDR          1    0      1      7    434\n",
      "no_DR          0    3      0     15   2384 \n",
      "\n",
      "Classification Report:\n",
      "             precision    recall  f1-score   support\n",
      "\n",
      "      MNPDR       0.00      0.00      0.00       131\n",
      "        PDR       0.40      0.01      0.02       193\n",
      "      SNPDR       0.00      0.00      0.00        39\n",
      "      mNPDR       0.25      0.02      0.03       443\n",
      "      no_DR       0.75      0.99      0.86      2402\n",
      "\n",
      "avg / total       0.62      0.75      0.65      3208\n",
      "\n",
      "\n",
      "Number of mislabeled points out of a total 3208 points : 815\n",
      "--------------------------\n"
     ]
    }
   ],
   "source": [
    "X=baseline_missingHandle[predictors]\n",
    "y=baseline_missingHandle['recent_DR']\n",
    "X=preprocessing.minmax_scale(X)\n",
    "X_train, X_test,y_train,y_test=train_test_split(X,y,stratify=y,test_size=0.20,random_state=42)\n",
    "for K in [3,5,10,15]:\n",
    "    neigh = KNeighborsClassifier(n_neighbors = K)\n",
    "    neigh.fit(X_train, y_train) \n",
    "    y_pred = neigh.predict(X_test)\n",
    "    print \"\\nTest set accuracy is \", accuracy_score(y_test,y_pred)*100,\"% for K-Value:\",K ,\"\\n\"\n",
    "    print(pd.crosstab(y_test, y_pred)), \"\\n\"\n",
    "    print \"Classification Report:\\n\", (metrics.classification_report(y_test,y_pred))\n",
    "    print(\"\\nNumber of mislabeled points out of a total %d points : %d\"\n",
    "      % (X_test.shape[0],(y_test != y_pred).sum()))\n",
    "    print \"--------------------------\""
   ]
  },
  {
   "cell_type": "markdown",
   "metadata": {},
   "source": [
    "Predictors: Baseline features Response: Base_Recent_Vis"
   ]
  },
  {
   "cell_type": "code",
   "execution_count": 27,
   "metadata": {
    "collapsed": false,
    "scrolled": true
   },
   "outputs": [
    {
     "name": "stdout",
     "output_type": "stream",
     "text": [
      "\n",
      "Test set accuracy is  71.1034912718 % for K-Value: 3 \n",
      "\n",
      "col_0                   no_DR  non_vision_threatening  vision_threatening\n",
      "base_recent_vis                                                          \n",
      "no_DR                    2189                     179                  34\n",
      "non_vision_threatening    478                      78                  18\n",
      "vision_threatening        186                      32                  14 \n",
      "\n",
      "Classification Report:\n",
      "                        precision    recall  f1-score   support\n",
      "\n",
      "                 no_DR       0.77      0.91      0.83      2402\n",
      "non_vision_threatening       0.27      0.14      0.18       574\n",
      "    vision_threatening       0.21      0.06      0.09       232\n",
      "\n",
      "           avg / total       0.64      0.71      0.66      3208\n",
      "\n",
      "\n",
      "Number of mislabeled points out of a total 3208 points : 927\n",
      "--------------------------\n",
      "\n",
      "Test set accuracy is  72.8179551122 % for K-Value: 5 \n",
      "\n",
      "col_0                   no_DR  non_vision_threatening  vision_threatening\n",
      "base_recent_vis                                                          \n",
      "no_DR                    2272                     120                  10\n",
      "non_vision_threatening    508                      57                   9\n",
      "vision_threatening        200                      25                   7 \n",
      "\n",
      "Classification Report:\n",
      "                        precision    recall  f1-score   support\n",
      "\n",
      "                 no_DR       0.76      0.95      0.84      2402\n",
      "non_vision_threatening       0.28      0.10      0.15       574\n",
      "    vision_threatening       0.27      0.03      0.05       232\n",
      "\n",
      "           avg / total       0.64      0.73      0.66      3208\n",
      "\n",
      "\n",
      "Number of mislabeled points out of a total 3208 points : 872\n",
      "--------------------------\n",
      "\n",
      "Test set accuracy is  74.0648379052 % for K-Value: 10 \n",
      "\n",
      "col_0                   no_DR  non_vision_threatening  vision_threatening\n",
      "base_recent_vis                                                          \n",
      "no_DR                    2339                      55                   8\n",
      "non_vision_threatening    537                      34                   3\n",
      "vision_threatening        217                      12                   3 \n",
      "\n",
      "Classification Report:\n",
      "                        precision    recall  f1-score   support\n",
      "\n",
      "                 no_DR       0.76      0.97      0.85      2402\n",
      "non_vision_threatening       0.34      0.06      0.10       574\n",
      "    vision_threatening       0.21      0.01      0.02       232\n",
      "\n",
      "           avg / total       0.64      0.74      0.66      3208\n",
      "\n",
      "\n",
      "Number of mislabeled points out of a total 3208 points : 832\n",
      "--------------------------\n",
      "\n",
      "Test set accuracy is  74.470074813 % for K-Value: 15 \n",
      "\n",
      "col_0                   no_DR  non_vision_threatening  vision_threatening\n",
      "base_recent_vis                                                          \n",
      "no_DR                    2372                      26                   4\n",
      "non_vision_threatening    556                      17                   1\n",
      "vision_threatening        227                       5                   0 \n",
      "\n",
      "Classification Report:\n",
      "                        precision    recall  f1-score   support\n",
      "\n",
      "                 no_DR       0.75      0.99      0.85      2402\n",
      "non_vision_threatening       0.35      0.03      0.05       574\n",
      "    vision_threatening       0.00      0.00      0.00       232\n",
      "\n",
      "           avg / total       0.63      0.74      0.65      3208\n",
      "\n",
      "\n",
      "Number of mislabeled points out of a total 3208 points : 819\n",
      "--------------------------\n"
     ]
    }
   ],
   "source": [
    "X=baseline_missingHandle[predictors]\n",
    "y=baseline_missingHandle['base_recent_vis']\n",
    "X=preprocessing.minmax_scale(X)\n",
    "X_train, X_test,y_train,y_test=train_test_split(X,y,stratify=y,test_size=0.20,random_state=42)\n",
    "for K in [3,5,10,15]:\n",
    "    neigh = KNeighborsClassifier(n_neighbors = K)\n",
    "    neigh.fit(X_train, y_train) \n",
    "    y_pred = neigh.predict(X_test)\n",
    "    print \"\\nTest set accuracy is \", accuracy_score(y_test,y_pred)*100,\"% for K-Value:\",K ,\"\\n\"\n",
    "    print(pd.crosstab(y_test, y_pred)), \"\\n\"\n",
    "    print \"Classification Report:\\n\", (metrics.classification_report(y_test,y_pred))\n",
    "    print(\"\\nNumber of mislabeled points out of a total %d points : %d\"\n",
    "      % (X_test.shape[0],(y_test != y_pred).sum()))\n",
    "    print \"--------------------------\""
   ]
  },
  {
   "cell_type": "markdown",
   "metadata": {},
   "source": [
    "Predictors: More features Response: Recent_DR"
   ]
  },
  {
   "cell_type": "code",
   "execution_count": 28,
   "metadata": {
    "collapsed": false,
    "scrolled": true
   },
   "outputs": [
    {
     "name": "stdout",
     "output_type": "stream",
     "text": [
      "\n",
      "Test set accuracy is  63.8092269327 % for K-Value: 3 \n",
      "\n",
      "col_0      MNPDR  PDR  SNPDR  mNPDR  no_DR\n",
      "recent_DR                                 \n",
      "MNPDR          5   16      0      8    102\n",
      "PDR            9   21      3     11    149\n",
      "SNPDR          1    6      1      1     30\n",
      "mNPDR         36   47      4     28    328\n",
      "no_DR        123  151     13    123   1992 \n",
      "\n",
      "Classification Report:\n",
      "             precision    recall  f1-score   support\n",
      "\n",
      "      MNPDR       0.03      0.04      0.03       131\n",
      "        PDR       0.09      0.11      0.10       193\n",
      "      SNPDR       0.05      0.03      0.03        39\n",
      "      mNPDR       0.16      0.06      0.09       443\n",
      "      no_DR       0.77      0.83      0.80      2402\n",
      "\n",
      "avg / total       0.60      0.64      0.62      3208\n",
      "\n",
      "\n",
      "Number of mislabeled points out of a total 3208 points : 1161\n",
      "--------------------------\n",
      "\n",
      "Test set accuracy is  69.3266832918 % for K-Value: 5 \n",
      "\n",
      "col_0      MNPDR  PDR  SNPDR  mNPDR  no_DR\n",
      "recent_DR                                 \n",
      "MNPDR          1    5      0     12    113\n",
      "PDR            3   10      2     18    160\n",
      "SNPDR          0    4      0      2     33\n",
      "mNPDR          5   18      1     56    363\n",
      "no_DR         27   64      5    149   2157 \n",
      "\n",
      "Classification Report:\n",
      "             precision    recall  f1-score   support\n",
      "\n",
      "      MNPDR       0.03      0.01      0.01       131\n",
      "        PDR       0.10      0.05      0.07       193\n",
      "      SNPDR       0.00      0.00      0.00        39\n",
      "      mNPDR       0.24      0.13      0.16       443\n",
      "      no_DR       0.76      0.90      0.83      2402\n",
      "\n",
      "avg / total       0.61      0.69      0.65      3208\n",
      "\n",
      "\n",
      "Number of mislabeled points out of a total 3208 points : 984\n",
      "--------------------------\n",
      "\n",
      "Test set accuracy is  73.9713216958 % for K-Value: 10 \n",
      "\n",
      "col_0      MNPDR  PDR  mNPDR  no_DR\n",
      "recent_DR                          \n",
      "MNPDR          0    0      5    126\n",
      "PDR            1    5      3    184\n",
      "SNPDR          0    3      0     36\n",
      "mNPDR          1    3     25    414\n",
      "no_DR          1   12     46   2343 \n",
      "\n",
      "Classification Report:\n",
      "             precision    recall  f1-score   support\n",
      "\n",
      "      MNPDR       0.00      0.00      0.00       131\n",
      "        PDR       0.22      0.03      0.05       193\n",
      "      SNPDR       0.00      0.00      0.00        39\n",
      "      mNPDR       0.32      0.06      0.10       443\n",
      "      no_DR       0.76      0.98      0.85      2402\n",
      "\n",
      "avg / total       0.62      0.74      0.65      3208\n",
      "\n",
      "\n",
      "Number of mislabeled points out of a total 3208 points : 835\n",
      "--------------------------\n",
      "\n",
      "Test set accuracy is  74.5324189526 % for K-Value: 15 \n",
      "\n",
      "col_0      PDR  mNPDR  no_DR\n",
      "recent_DR                   \n",
      "MNPDR        0      3    128\n",
      "PDR          3      2    188\n",
      "SNPDR        0      0     39\n",
      "mNPDR        0      5    438\n",
      "no_DR        6     13   2383 \n",
      "\n",
      "Classification Report:\n",
      "             precision    recall  f1-score   support\n",
      "\n",
      "      MNPDR       0.00      0.00      0.00       131\n",
      "        PDR       0.33      0.02      0.03       193\n",
      "      SNPDR       0.00      0.00      0.00        39\n",
      "      mNPDR       0.22      0.01      0.02       443\n",
      "      no_DR       0.75      0.99      0.85      2402\n",
      "\n",
      "avg / total       0.61      0.75      0.64      3208\n",
      "\n",
      "\n",
      "Number of mislabeled points out of a total 3208 points : 817\n",
      "--------------------------\n"
     ]
    }
   ],
   "source": [
    "X=Morefeatures_missingHandle[predictors1]\n",
    "y=Morefeatures_missingHandle['recent_DR']\n",
    "X=preprocessing.minmax_scale(X)\n",
    "X_train, X_test,y_train,y_test=train_test_split(X,y,stratify=y,test_size=0.20,random_state=42)\n",
    "for K in [3,5,10,15]:\n",
    "    neigh = KNeighborsClassifier(n_neighbors = K)\n",
    "    neigh.fit(X_train, y_train) \n",
    "    y_pred = neigh.predict(X_test)\n",
    "    print \"\\nTest set accuracy is \", accuracy_score(y_test,y_pred)*100,\"% for K-Value:\",K ,\"\\n\"\n",
    "    print(pd.crosstab(y_test, y_pred)), \"\\n\"\n",
    "    print \"Classification Report:\\n\", (metrics.classification_report(y_test,y_pred))\n",
    "    print(\"\\nNumber of mislabeled points out of a total %d points : %d\"\n",
    "      % (X_test.shape[0],(y_test != y_pred).sum()))\n",
    "    print \"--------------------------\""
   ]
  },
  {
   "cell_type": "markdown",
   "metadata": {},
   "source": [
    "Predictors: More features Response: More_Recent_Vis"
   ]
  },
  {
   "cell_type": "code",
   "execution_count": 29,
   "metadata": {
    "collapsed": false,
    "scrolled": true
   },
   "outputs": [
    {
     "name": "stdout",
     "output_type": "stream",
     "text": [
      "\n",
      "Test set accuracy is  69.7630922693 % for K-Value: 3 \n",
      "\n",
      "col_0                   no_DR  non_vision_threatening  vision_threatening\n",
      "more_recent_vis                                                          \n",
      "no_DR                    2153                     206                  43\n",
      "non_vision_threatening    483                      74                  17\n",
      "vision_threatening        196                      25                  11 \n",
      "\n",
      "Classification Report:\n",
      "                        precision    recall  f1-score   support\n",
      "\n",
      "                 no_DR       0.76      0.90      0.82      2402\n",
      "non_vision_threatening       0.24      0.13      0.17       574\n",
      "    vision_threatening       0.15      0.05      0.07       232\n",
      "\n",
      "           avg / total       0.62      0.70      0.65      3208\n",
      "\n",
      "\n",
      "Number of mislabeled points out of a total 3208 points : 970\n",
      "--------------------------\n",
      "\n",
      "Test set accuracy is  71.8204488778 % for K-Value: 5 \n",
      "\n",
      "col_0                   no_DR  non_vision_threatening  vision_threatening\n",
      "more_recent_vis                                                          \n",
      "no_DR                    2252                     133                  17\n",
      "non_vision_threatening    523                      47                   4\n",
      "vision_threatening        210                      17                   5 \n",
      "\n",
      "Classification Report:\n",
      "                        precision    recall  f1-score   support\n",
      "\n",
      "                 no_DR       0.75      0.94      0.84      2402\n",
      "non_vision_threatening       0.24      0.08      0.12       574\n",
      "    vision_threatening       0.19      0.02      0.04       232\n",
      "\n",
      "           avg / total       0.62      0.72      0.65      3208\n",
      "\n",
      "\n",
      "Number of mislabeled points out of a total 3208 points : 904\n",
      "--------------------------\n",
      "\n",
      "Test set accuracy is  73.9713216958 % for K-Value: 10 \n",
      "\n",
      "col_0                   no_DR  non_vision_threatening  vision_threatening\n",
      "more_recent_vis                                                          \n",
      "no_DR                    2348                      49                   5\n",
      "non_vision_threatening    550                      23                   1\n",
      "vision_threatening        223                       7                   2 \n",
      "\n",
      "Classification Report:\n",
      "                        precision    recall  f1-score   support\n",
      "\n",
      "                 no_DR       0.75      0.98      0.85      2402\n",
      "non_vision_threatening       0.29      0.04      0.07       574\n",
      "    vision_threatening       0.25      0.01      0.02       232\n",
      "\n",
      "           avg / total       0.63      0.74      0.65      3208\n",
      "\n",
      "\n",
      "Number of mislabeled points out of a total 3208 points : 835\n",
      "--------------------------\n",
      "\n",
      "Test set accuracy is  74.3142144638 % for K-Value: 15 \n",
      "\n",
      "col_0                   no_DR  non_vision_threatening  vision_threatening\n",
      "more_recent_vis                                                          \n",
      "no_DR                    2371                      29                   2\n",
      "non_vision_threatening    561                      12                   1\n",
      "vision_threatening        228                       3                   1 \n",
      "\n",
      "Classification Report:\n",
      "                        precision    recall  f1-score   support\n",
      "\n",
      "                 no_DR       0.75      0.99      0.85      2402\n",
      "non_vision_threatening       0.27      0.02      0.04       574\n",
      "    vision_threatening       0.25      0.00      0.01       232\n",
      "\n",
      "           avg / total       0.63      0.74      0.65      3208\n",
      "\n",
      "\n",
      "Number of mislabeled points out of a total 3208 points : 824\n",
      "--------------------------\n"
     ]
    }
   ],
   "source": [
    "X=Morefeatures_missingHandle[predictors1]\n",
    "y=Morefeatures_missingHandle['more_recent_vis']\n",
    "X=preprocessing.minmax_scale(X)\n",
    "X_train, X_test,y_train,y_test=train_test_split(X,y,stratify=y,test_size=0.20,random_state=42)\n",
    "for K in [3,5,10,15]:\n",
    "    neigh = KNeighborsClassifier(n_neighbors = K)\n",
    "    neigh.fit(X_train, y_train) \n",
    "    y_pred = neigh.predict(X_test)\n",
    "    print \"\\nTest set accuracy is \", accuracy_score(y_test,y_pred)*100,\"% for K-Value:\",K ,\"\\n\"\n",
    "    print(pd.crosstab(y_test, y_pred)), \"\\n\"\n",
    "    print \"Classification Report:\\n\", (metrics.classification_report(y_test,y_pred))\n",
    "    print(\"\\nNumber of mislabeled points out of a total %d points : %d\"\n",
    "      % (X_test.shape[0],(y_test != y_pred).sum()))\n",
    "    print \"--------------------------\""
   ]
  },
  {
   "cell_type": "markdown",
   "metadata": {
    "collapsed": true
   },
   "source": [
    "## Gaussian NB"
   ]
  },
  {
   "cell_type": "markdown",
   "metadata": {},
   "source": [
    "Predictors: Baseline features Response: Recent_DR"
   ]
  },
  {
   "cell_type": "code",
   "execution_count": 30,
   "metadata": {
    "collapsed": false
   },
   "outputs": [
    {
     "name": "stdout",
     "output_type": "stream",
     "text": [
      "GaussianNB(priors=None)\n",
      "\n",
      "Test set accuracy is  28.1483790524 \n",
      "\n",
      "col_0      MNPDR  PDR  SNPDR  mNPDR  no_DR\n",
      "recent_DR                                 \n",
      "MNPDR          0   22     33     76      0\n",
      "PDR            0   25     35    133      0\n",
      "SNPDR          0   10     15     14      0\n",
      "mNPDR          0   66     66    311      0\n",
      "no_DR          1  326    310   1213    552 \n",
      "\n",
      "Classification Report:\n",
      "             precision    recall  f1-score   support\n",
      "\n",
      "      MNPDR       0.00      0.00      0.00       131\n",
      "        PDR       0.06      0.13      0.08       193\n",
      "      SNPDR       0.03      0.38      0.06        39\n",
      "      mNPDR       0.18      0.70      0.28       443\n",
      "      no_DR       1.00      0.23      0.37      2402\n",
      "\n",
      "avg / total       0.78      0.28      0.32      3208\n",
      "\n",
      "Number of mislabeled points out of a total 3208 points : 2305\n"
     ]
    }
   ],
   "source": [
    "model = GaussianNB()\n",
    "X=baseline_missingHandle[predictors]\n",
    "y=baseline_missingHandle['recent_DR']\n",
    "X=preprocessing.minmax_scale(X)\n",
    "X_train, X_test,y_train,y_test=train_test_split(X,y,stratify=y,test_size=0.20,random_state=42)\n",
    "model.fit(X_train, y_train)\n",
    "print(model)\n",
    "# make predictions\n",
    "y_pred = model.predict(X_test)\n",
    "# summarize the fit of the model\n",
    "print \"\\nTest set accuracy is \", accuracy_score(y_test,y_pred)*100,\"\\n\"\n",
    "print(pd.crosstab(y_test, y_pred)), \"\\n\"\n",
    "print \"Classification Report:\\n\", (metrics.classification_report(y_test, y_pred))\n",
    "print(\"Number of mislabeled points out of a total %d points : %d\"\n",
    "      % (X_test.shape[0],(y_test != y_pred).sum()))"
   ]
  },
  {
   "cell_type": "markdown",
   "metadata": {},
   "source": [
    "Predictors: Baseline features Response: base_recent_vis"
   ]
  },
  {
   "cell_type": "code",
   "execution_count": 31,
   "metadata": {
    "collapsed": false
   },
   "outputs": [
    {
     "name": "stdout",
     "output_type": "stream",
     "text": [
      "GaussianNB(priors=None)\n",
      "\n",
      "Test set accuracy is  32.4501246883 \n",
      "\n",
      "col_0                   no_DR  non_vision_threatening  vision_threatening\n",
      "base_recent_vis                                                          \n",
      "no_DR                     518                    1530                 354\n",
      "non_vision_threatening      1                     473                 100\n",
      "vision_threatening          0                     182                  50 \n",
      "\n",
      "Classification Report:\n",
      "                        precision    recall  f1-score   support\n",
      "\n",
      "                 no_DR       1.00      0.22      0.35      2402\n",
      "non_vision_threatening       0.22      0.82      0.34       574\n",
      "    vision_threatening       0.10      0.22      0.14       232\n",
      "\n",
      "           avg / total       0.79      0.32      0.34      3208\n",
      "\n",
      "Number of mislabeled points out of a total 3208 points : 2167\n"
     ]
    }
   ],
   "source": [
    "model = GaussianNB()\n",
    "X=baseline_missingHandle[predictors]\n",
    "y=baseline_missingHandle['base_recent_vis']\n",
    "X=preprocessing.minmax_scale(X)\n",
    "X_train, X_test,y_train,y_test=train_test_split(X,y,stratify=y,test_size=0.20,random_state=42)\n",
    "model.fit(X_train, y_train)\n",
    "print(model)\n",
    "# make predictions\n",
    "y_pred = model.predict(X_test)\n",
    "# summarize the fit of the model\n",
    "print \"\\nTest set accuracy is \", accuracy_score(y_test,y_pred)*100,\"\\n\"\n",
    "print(pd.crosstab(y_test, y_pred)), \"\\n\"\n",
    "print \"Classification Report:\\n\", (metrics.classification_report(y_test, y_pred))\n",
    "print(\"Number of mislabeled points out of a total %d points : %d\"\n",
    "      % (X_test.shape[0],(y_test != y_pred).sum()))"
   ]
  },
  {
   "cell_type": "markdown",
   "metadata": {},
   "source": [
    "Predictors: More features Response: Recent_DR"
   ]
  },
  {
   "cell_type": "code",
   "execution_count": 32,
   "metadata": {
    "collapsed": false,
    "scrolled": true
   },
   "outputs": [
    {
     "name": "stdout",
     "output_type": "stream",
     "text": [
      "GaussianNB(priors=None)\n",
      "\n",
      "Test set accuracy is  19.108478803 \n",
      "\n",
      "col_0      MNPDR  PDR  SNPDR  mNPDR  no_DR\n",
      "recent_DR                                 \n",
      "MNPDR          2    8    118      3      0\n",
      "PDR            1    8    181      3      0\n",
      "SNPDR          0    2     37      0      0\n",
      "mNPDR          3   31    402      6      1\n",
      "no_DR         22  111   1674     35    560 \n",
      "\n",
      "Classification Report:\n",
      "             precision    recall  f1-score   support\n",
      "\n",
      "      MNPDR       0.07      0.02      0.03       131\n",
      "        PDR       0.05      0.04      0.05       193\n",
      "      SNPDR       0.02      0.95      0.03        39\n",
      "      mNPDR       0.13      0.01      0.02       443\n",
      "      no_DR       1.00      0.23      0.38      2402\n",
      "\n",
      "avg / total       0.77      0.19      0.29      3208\n",
      "\n",
      "Number of mislabeled points out of a total 3208 points : 2595\n"
     ]
    }
   ],
   "source": [
    "model = GaussianNB()\n",
    "X=Morefeatures_missingHandle[predictors1]\n",
    "y=Morefeatures_missingHandle['recent_DR']\n",
    "X=preprocessing.minmax_scale(X)\n",
    "X_train, X_test,y_train,y_test=train_test_split(X,y,stratify=y,test_size=0.20,random_state=42)\n",
    "model.fit(X_train, y_train)\n",
    "print(model)\n",
    "# make predictions\n",
    "y_pred = model.predict(X_test)\n",
    "# summarize the fit of the model\n",
    "print \"\\nTest set accuracy is \", accuracy_score(y_test,y_pred)*100,\"\\n\"\n",
    "print(pd.crosstab(y_test, y_pred)), \"\\n\"\n",
    "print \"Classification Report:\\n\", (metrics.classification_report(y_test, y_pred))\n",
    "print(\"Number of mislabeled points out of a total %d points : %d\"\n",
    "      % (X_test.shape[0],(y_test != y_pred).sum()))"
   ]
  },
  {
   "cell_type": "markdown",
   "metadata": {},
   "source": [
    "Predictors: More features Response: more_recent_vis\n"
   ]
  },
  {
   "cell_type": "code",
   "execution_count": 33,
   "metadata": {
    "collapsed": false
   },
   "outputs": [
    {
     "name": "stdout",
     "output_type": "stream",
     "text": [
      "GaussianNB(priors=None)\n",
      "\n",
      "Test set accuracy is  23.9089775561 \n",
      "\n",
      "col_0                   no_DR  non_vision_threatening  vision_threatening\n",
      "more_recent_vis                                                          \n",
      "no_DR                     520                      79                1803\n",
      "non_vision_threatening      1                      22                 551\n",
      "vision_threatening          0                       7                 225 \n",
      "\n",
      "Classification Report:\n",
      "                        precision    recall  f1-score   support\n",
      "\n",
      "                 no_DR       1.00      0.22      0.36      2402\n",
      "non_vision_threatening       0.20      0.04      0.06       574\n",
      "    vision_threatening       0.09      0.97      0.16       232\n",
      "\n",
      "           avg / total       0.79      0.24      0.29      3208\n",
      "\n",
      "Number of mislabeled points out of a total 3208 points : 2441\n"
     ]
    }
   ],
   "source": [
    "model = GaussianNB()\n",
    "X=Morefeatures_missingHandle[predictors1]\n",
    "y=Morefeatures_missingHandle['more_recent_vis']\n",
    "X=preprocessing.minmax_scale(X)\n",
    "X_train, X_test,y_train,y_test=train_test_split(X,y,stratify=y,test_size=0.20,random_state=42)\n",
    "model.fit(X_train, y_train)\n",
    "print(model)\n",
    "# make predictions\n",
    "y_pred = model.predict(X_test)\n",
    "# summarize the fit of the model\n",
    "print \"\\nTest set accuracy is \", accuracy_score(y_test,y_pred)*100,\"\\n\"\n",
    "print(pd.crosstab(y_test, y_pred)), \"\\n\"\n",
    "print \"Classification Report:\\n\", (metrics.classification_report(y_test, y_pred))\n",
    "print(\"Number of mislabeled points out of a total %d points : %d\"\n",
    "      % (X_test.shape[0],(y_test != y_pred).sum()))"
   ]
  },
  {
   "cell_type": "markdown",
   "metadata": {},
   "source": [
    "## Bernoulli NB"
   ]
  },
  {
   "cell_type": "markdown",
   "metadata": {},
   "source": [
    "Predictors: Baseline features  Response: recent_DR"
   ]
  },
  {
   "cell_type": "code",
   "execution_count": 34,
   "metadata": {
    "collapsed": false,
    "scrolled": true
   },
   "outputs": [
    {
     "name": "stdout",
     "output_type": "stream",
     "text": [
      "BernoulliNB(alpha=1.0, binarize=0.0, class_prior=None, fit_prior=True)\n",
      "\n",
      "Test set accuracy is  74.8441396509 \n",
      "\n",
      "col_0      MNPDR  SNPDR  no_DR\n",
      "recent_DR                     \n",
      "MNPDR          0      0    131\n",
      "PDR            1      0    192\n",
      "SNPDR          0      0     39\n",
      "mNPDR          0      0    443\n",
      "no_DR          0      1   2401 \n",
      "\n",
      "Classification Report:\n",
      "             precision    recall  f1-score   support\n",
      "\n",
      "      MNPDR       0.00      0.00      0.00       131\n",
      "        PDR       0.00      0.00      0.00       193\n",
      "      SNPDR       0.00      0.00      0.00        39\n",
      "      mNPDR       0.00      0.00      0.00       443\n",
      "      no_DR       0.75      1.00      0.86      2402\n",
      "\n",
      "avg / total       0.56      0.75      0.64      3208\n",
      "\n",
      "Number of mislabeled points out of a total 3208 points : 807\n"
     ]
    }
   ],
   "source": [
    "model = BernoulliNB()\n",
    "X=baseline_missingHandle[predictors]\n",
    "y=baseline_missingHandle['recent_DR']\n",
    "X=preprocessing.minmax_scale(X)\n",
    "X_train, X_test,y_train,y_test=train_test_split(X,y,stratify=y,test_size=0.20,random_state=42)\n",
    "model.fit(X_train, y_train)\n",
    "print(model)\n",
    "# make predictions\n",
    "y_pred = model.predict(X_test)\n",
    "# summarize the fit of the model\n",
    "print \"\\nTest set accuracy is \", accuracy_score(y_test,y_pred)*100,\"\\n\"\n",
    "print(pd.crosstab(y_test, y_pred)), \"\\n\"\n",
    "print \"Classification Report:\\n\", (metrics.classification_report(y_test, y_pred))\n",
    "print(\"Number of mislabeled points out of a total %d points : %d\"\n",
    "      % (X_test.shape[0],(y_test != y_pred).sum()))"
   ]
  },
  {
   "cell_type": "markdown",
   "metadata": {},
   "source": [
    "Predictors: Baseline features Response: base_recent_vis"
   ]
  },
  {
   "cell_type": "code",
   "execution_count": 35,
   "metadata": {
    "collapsed": false
   },
   "outputs": [
    {
     "name": "stdout",
     "output_type": "stream",
     "text": [
      "BernoulliNB(alpha=1.0, binarize=0.0, class_prior=None, fit_prior=True)\n",
      "\n",
      "Test set accuracy is  74.8753117207 \n",
      "\n",
      "col_0                   no_DR\n",
      "base_recent_vis              \n",
      "no_DR                    2402\n",
      "non_vision_threatening    574\n",
      "vision_threatening        232 \n",
      "\n",
      "Classification Report:\n",
      "                        precision    recall  f1-score   support\n",
      "\n",
      "                 no_DR       0.75      1.00      0.86      2402\n",
      "non_vision_threatening       0.00      0.00      0.00       574\n",
      "    vision_threatening       0.00      0.00      0.00       232\n",
      "\n",
      "           avg / total       0.56      0.75      0.64      3208\n",
      "\n",
      "Number of mislabeled points out of a total 3208 points : 806\n"
     ]
    }
   ],
   "source": [
    "model = BernoulliNB()\n",
    "X=baseline_missingHandle[predictors]\n",
    "y=baseline_missingHandle['base_recent_vis']\n",
    "X=preprocessing.minmax_scale(X)\n",
    "X_train, X_test,y_train,y_test=train_test_split(X,y,stratify=y,test_size=0.20,random_state=42)\n",
    "model.fit(X_train, y_train)\n",
    "print(model)\n",
    "# make predictions\n",
    "y_pred = model.predict(X_test)\n",
    "# summarize the fit of the model\n",
    "print \"\\nTest set accuracy is \", accuracy_score(y_test,y_pred)*100,\"\\n\"\n",
    "print(pd.crosstab(y_test, y_pred)), \"\\n\"\n",
    "print \"Classification Report:\\n\", (metrics.classification_report(y_test, y_pred))\n",
    "print(\"Number of mislabeled points out of a total %d points : %d\"\n",
    "      % (X_test.shape[0],(y_test != y_pred).sum()))"
   ]
  },
  {
   "cell_type": "markdown",
   "metadata": {},
   "source": [
    "Predictors: More features Response: recent_DR"
   ]
  },
  {
   "cell_type": "code",
   "execution_count": 36,
   "metadata": {
    "collapsed": false
   },
   "outputs": [
    {
     "name": "stdout",
     "output_type": "stream",
     "text": [
      "BernoulliNB(alpha=1.0, binarize=0.0, class_prior=None, fit_prior=True)\n",
      "\n",
      "Test set accuracy is  74.7817955112 \n",
      "\n",
      "col_0      SNPDR  mNPDR  no_DR\n",
      "recent_DR                     \n",
      "MNPDR          0      0    131\n",
      "PDR            0      1    192\n",
      "SNPDR          0      0     39\n",
      "mNPDR          0      0    443\n",
      "no_DR          1      2   2399 \n",
      "\n",
      "Classification Report:\n",
      "             precision    recall  f1-score   support\n",
      "\n",
      "      MNPDR       0.00      0.00      0.00       131\n",
      "        PDR       0.00      0.00      0.00       193\n",
      "      SNPDR       0.00      0.00      0.00        39\n",
      "      mNPDR       0.00      0.00      0.00       443\n",
      "      no_DR       0.75      1.00      0.86      2402\n",
      "\n",
      "avg / total       0.56      0.75      0.64      3208\n",
      "\n",
      "Number of mislabeled points out of a total 3208 points : 809\n"
     ]
    }
   ],
   "source": [
    "model=BernoulliNB()\n",
    "X=Morefeatures_missingHandle[predictors1]\n",
    "y=Morefeatures_missingHandle['recent_DR']\n",
    "X=preprocessing.minmax_scale(X)\n",
    "X_train, X_test,y_train,y_test=train_test_split(X,y,stratify=y,test_size=0.20,random_state=42)\n",
    "model.fit(X_train, y_train)\n",
    "print(model)\n",
    "# make predictions\n",
    "y_pred = model.predict(X_test)\n",
    "# summarize the fit of the model\n",
    "print \"\\nTest set accuracy is \", accuracy_score(y_test,y_pred)*100,\"\\n\"\n",
    "print(pd.crosstab(y_test, y_pred)), \"\\n\"\n",
    "print \"Classification Report:\\n\", (metrics.classification_report(y_test, y_pred))\n",
    "print(\"Number of mislabeled points out of a total %d points : %d\"\n",
    "      % (X_test.shape[0],(y_test != y_pred).sum()))"
   ]
  },
  {
   "cell_type": "markdown",
   "metadata": {},
   "source": [
    "Predictors: More features Response: more_recent_vis\n"
   ]
  },
  {
   "cell_type": "code",
   "execution_count": 37,
   "metadata": {
    "collapsed": false
   },
   "outputs": [
    {
     "name": "stdout",
     "output_type": "stream",
     "text": [
      "BernoulliNB(alpha=1.0, binarize=0.0, class_prior=None, fit_prior=True)\n",
      "\n",
      "Test set accuracy is  74.283042394 \n",
      "\n",
      "col_0                   no_DR  non_vision_threatening\n",
      "more_recent_vis                                      \n",
      "no_DR                    2382                      20\n",
      "non_vision_threatening    573                       1\n",
      "vision_threatening        231                       1 \n",
      "\n",
      "Classification Report:\n",
      "                        precision    recall  f1-score   support\n",
      "\n",
      "                 no_DR       0.75      0.99      0.85      2402\n",
      "non_vision_threatening       0.05      0.00      0.00       574\n",
      "    vision_threatening       0.00      0.00      0.00       232\n",
      "\n",
      "           avg / total       0.57      0.74      0.64      3208\n",
      "\n",
      "Number of mislabeled points out of a total 3208 points : 825\n"
     ]
    }
   ],
   "source": [
    "model=BernoulliNB()\n",
    "X=Morefeatures_missingHandle[predictors1]\n",
    "y=Morefeatures_missingHandle['more_recent_vis']\n",
    "X=preprocessing.minmax_scale(X)\n",
    "X_train, X_test,y_train,y_test=train_test_split(X,y,stratify=y,test_size=0.20,random_state=42)\n",
    "model.fit(X_train, y_train)\n",
    "print(model)\n",
    "y_pred = model.predict(X_test)\n",
    "print \"\\nTest set accuracy is \", accuracy_score(y_test,y_pred)*100,\"\\n\"\n",
    "print(pd.crosstab(y_test, y_pred)), \"\\n\"\n",
    "print \"Classification Report:\\n\", (metrics.classification_report(y_test, y_pred))\n",
    "print(\"Number of mislabeled points out of a total %d points : %d\"\n",
    "      % (X_test.shape[0],(y_test != y_pred).sum()))"
   ]
  },
  {
   "cell_type": "markdown",
   "metadata": {},
   "source": [
    "## Multinomial NB\n",
    "Predictors: Baseline features Response: recent_DR"
   ]
  },
  {
   "cell_type": "code",
   "execution_count": 38,
   "metadata": {
    "collapsed": false
   },
   "outputs": [
    {
     "name": "stdout",
     "output_type": "stream",
     "text": [
      "MultinomialNB(alpha=1.0, class_prior=None, fit_prior=True)\n",
      "\n",
      "Test set accuracy is  74.8753117207 \n",
      "\n",
      "col_0      no_DR\n",
      "recent_DR       \n",
      "MNPDR        131\n",
      "PDR          193\n",
      "SNPDR         39\n",
      "mNPDR        443\n",
      "no_DR       2402 \n",
      "\n",
      "Classification Report:\n",
      "             precision    recall  f1-score   support\n",
      "\n",
      "      MNPDR       0.00      0.00      0.00       131\n",
      "        PDR       0.00      0.00      0.00       193\n",
      "      SNPDR       0.00      0.00      0.00        39\n",
      "      mNPDR       0.00      0.00      0.00       443\n",
      "      no_DR       0.75      1.00      0.86      2402\n",
      "\n",
      "avg / total       0.56      0.75      0.64      3208\n",
      "\n",
      "Number of mislabeled points out of a total 3208 points : 806\n"
     ]
    }
   ],
   "source": [
    "model = MultinomialNB()\n",
    "X=baseline_missingHandle[predictors]\n",
    "y=baseline_missingHandle['recent_DR']\n",
    "X=preprocessing.minmax_scale(X)\n",
    "X_train, X_test,y_train,y_test=train_test_split(X,y,stratify=y,test_size=0.20,random_state=42)\n",
    "model.fit(X_train, y_train)\n",
    "print(model)\n",
    "y_pred = model.predict(X_test)\n",
    "print \"\\nTest set accuracy is \", accuracy_score(y_test,y_pred)*100,\"\\n\"\n",
    "print(pd.crosstab(y_test, y_pred)), \"\\n\"\n",
    "print \"Classification Report:\\n\", (metrics.classification_report(y_test, y_pred))\n",
    "print(\"Number of mislabeled points out of a total %d points : %d\"\n",
    "      % (X_test.shape[0],(y_test != y_pred).sum()))"
   ]
  },
  {
   "cell_type": "markdown",
   "metadata": {},
   "source": [
    "Predictors: Baseline features Response: base_recent_vis"
   ]
  },
  {
   "cell_type": "code",
   "execution_count": 52,
   "metadata": {
    "collapsed": false
   },
   "outputs": [
    {
     "name": "stdout",
     "output_type": "stream",
     "text": [
      "MultinomialNB(alpha=1.0, class_prior=None, fit_prior=True)\n",
      "\n",
      "Test set accuracy is  74.8753117207 \n",
      "\n",
      "col_0                   no_DR\n",
      "base_recent_vis              \n",
      "no_DR                    2402\n",
      "non_vision_threatening    574\n",
      "vision_threatening        232 \n",
      "\n",
      "Classification Report:\n",
      "                        precision    recall  f1-score   support\n",
      "\n",
      "                 no_DR       0.75      1.00      0.86      2402\n",
      "non_vision_threatening       0.00      0.00      0.00       574\n",
      "    vision_threatening       0.00      0.00      0.00       232\n",
      "\n",
      "           avg / total       0.56      0.75      0.64      3208\n",
      "\n",
      "Number of mislabeled points out of a total 3208 points : 806\n"
     ]
    }
   ],
   "source": [
    "model = MultinomialNB()\n",
    "X=baseline_missingHandle[predictors]\n",
    "y=baseline_missingHandle['base_recent_vis']\n",
    "X=preprocessing.minmax_scale(X)\n",
    "X_train, X_test,y_train,y_test=train_test_split(X,y,stratify=y,test_size=0.20,random_state=42)\n",
    "model.fit(X_train, y_train)\n",
    "print(model)\n",
    "y_pred = model.predict(X_test)\n",
    "print \"\\nTest set accuracy is \", accuracy_score(y_test,y_pred)*100,\"\\n\"\n",
    "print(pd.crosstab(y_test, y_pred)), \"\\n\"\n",
    "print \"Classification Report:\\n\", (metrics.classification_report(y_test, y_pred))\n",
    "print(\"Number of mislabeled points out of a total %d points : %d\"\n",
    "      % (X_test.shape[0],(y_test != y_pred).sum()))"
   ]
  },
  {
   "cell_type": "markdown",
   "metadata": {},
   "source": [
    "Predictors: More features Response: recent_DR"
   ]
  },
  {
   "cell_type": "code",
   "execution_count": 40,
   "metadata": {
    "collapsed": false,
    "scrolled": true
   },
   "outputs": [
    {
     "name": "stdout",
     "output_type": "stream",
     "text": [
      "MultinomialNB(alpha=1.0, class_prior=None, fit_prior=True)\n",
      "\n",
      "Test set accuracy is  74.8753117207 \n",
      "\n",
      "col_0      no_DR\n",
      "recent_DR       \n",
      "MNPDR        131\n",
      "PDR          193\n",
      "SNPDR         39\n",
      "mNPDR        443\n",
      "no_DR       2402 \n",
      "\n",
      "Classification Report:\n",
      "             precision    recall  f1-score   support\n",
      "\n",
      "      MNPDR       0.00      0.00      0.00       131\n",
      "        PDR       0.00      0.00      0.00       193\n",
      "      SNPDR       0.00      0.00      0.00        39\n",
      "      mNPDR       0.00      0.00      0.00       443\n",
      "      no_DR       0.75      1.00      0.86      2402\n",
      "\n",
      "avg / total       0.56      0.75      0.64      3208\n",
      "\n",
      "Number of mislabeled points out of a total 3208 points : 806\n"
     ]
    }
   ],
   "source": [
    "model = MultinomialNB()\n",
    "X=Morefeatures_missingHandle[predictors1]\n",
    "y=Morefeatures_missingHandle['recent_DR']\n",
    "X=preprocessing.minmax_scale(X)\n",
    "X_train, X_test,y_train,y_test=train_test_split(X,y,stratify=y,test_size=0.20,random_state=42)\n",
    "model.fit(X_train, y_train)\n",
    "print(model)\n",
    "y_pred = model.predict(X_test)\n",
    "print \"\\nTest set accuracy is \", accuracy_score(y_test,y_pred)*100,\"\\n\"\n",
    "print(pd.crosstab(y_test, y_pred)), \"\\n\"\n",
    "print \"Classification Report:\\n\", (metrics.classification_report(y_test, y_pred))\n",
    "print(\"Number of mislabeled points out of a total %d points : %d\"\n",
    "      % (X_test.shape[0],(y_test != y_pred).sum()))"
   ]
  },
  {
   "cell_type": "markdown",
   "metadata": {},
   "source": [
    "Predictors: More features Response: more_recent_vis"
   ]
  },
  {
   "cell_type": "code",
   "execution_count": 41,
   "metadata": {
    "collapsed": false
   },
   "outputs": [
    {
     "name": "stdout",
     "output_type": "stream",
     "text": [
      "MultinomialNB(alpha=1.0, class_prior=None, fit_prior=True)\n",
      "\n",
      "Test set accuracy is  74.8753117207 \n",
      "\n",
      "col_0                   no_DR\n",
      "more_recent_vis              \n",
      "no_DR                    2402\n",
      "non_vision_threatening    574\n",
      "vision_threatening        232 \n",
      "\n",
      "Classification Report:\n",
      "                        precision    recall  f1-score   support\n",
      "\n",
      "                 no_DR       0.75      1.00      0.86      2402\n",
      "non_vision_threatening       0.00      0.00      0.00       574\n",
      "    vision_threatening       0.00      0.00      0.00       232\n",
      "\n",
      "           avg / total       0.56      0.75      0.64      3208\n",
      "\n",
      "Number of mislabeled points out of a total 3208 points : 806\n"
     ]
    }
   ],
   "source": [
    "model = MultinomialNB()\n",
    "X=Morefeatures_missingHandle[predictors1]\n",
    "y=Morefeatures_missingHandle['more_recent_vis']\n",
    "X=preprocessing.minmax_scale(X)\n",
    "X_train, X_test,y_train,y_test=train_test_split(X,y,stratify=y,test_size=0.20,random_state=42)\n",
    "model.fit(X_train, y_train)\n",
    "print(model)\n",
    "y_pred = model.predict(X_test)\n",
    "print \"\\nTest set accuracy is \", accuracy_score(y_test,y_pred)*100,\"\\n\"\n",
    "print(pd.crosstab(y_test, y_pred)), \"\\n\"\n",
    "print \"Classification Report:\\n\", (metrics.classification_report(y_test, y_pred))\n",
    "print(\"Number of mislabeled points out of a total %d points : %d\"\n",
    "      % (X_test.shape[0],(y_test != y_pred).sum()))"
   ]
  },
  {
   "cell_type": "markdown",
   "metadata": {},
   "source": [
    "## SVM"
   ]
  },
  {
   "cell_type": "markdown",
   "metadata": {},
   "source": [
    "Predictors: Baseline features Response: recent_DR"
   ]
  },
  {
   "cell_type": "code",
   "execution_count": 53,
   "metadata": {
    "collapsed": false,
    "scrolled": true
   },
   "outputs": [
    {
     "name": "stdout",
     "output_type": "stream",
     "text": [
      "SVC(C=1.0, cache_size=200, class_weight=None, coef0=0.0,\n",
      "  decision_function_shape=None, degree=3, gamma='auto', kernel='rbf',\n",
      "  max_iter=-1, probability=False, random_state=None, shrinking=True,\n",
      "  tol=0.001, verbose=False)\n",
      "\n",
      "Test set accuracy is  74.8753117207 \n",
      "\n",
      "col_0      no_DR\n",
      "recent_DR       \n",
      "MNPDR        131\n",
      "PDR          193\n",
      "SNPDR         39\n",
      "mNPDR        443\n",
      "no_DR       2402 \n",
      "\n",
      "Classification Report:\n",
      "             precision    recall  f1-score   support\n",
      "\n",
      "      MNPDR       0.00      0.00      0.00       131\n",
      "        PDR       0.00      0.00      0.00       193\n",
      "      SNPDR       0.00      0.00      0.00        39\n",
      "      mNPDR       0.00      0.00      0.00       443\n",
      "      no_DR       0.75      1.00      0.86      2402\n",
      "\n",
      "avg / total       0.56      0.75      0.64      3208\n",
      "\n",
      "\n",
      "Number of mislabeled points out of a total 3208 points : 806\n"
     ]
    }
   ],
   "source": [
    "model = SVC()\n",
    "X=baseline_missingHandle[predictors]\n",
    "y=baseline_missingHandle['recent_DR']\n",
    "X=preprocessing.minmax_scale(X)\n",
    "X_train, X_test,y_train,y_test=train_test_split(X,y,stratify=y,test_size=0.20,random_state=42)\n",
    "model.fit(X_train, y_train)\n",
    "print(model)\n",
    "y_pred = model.predict(X_test)\n",
    "print \"\\nTest set accuracy is \", accuracy_score(y_test,y_pred)*100,\"\\n\"\n",
    "print(pd.crosstab(y_test, y_pred)), \"\\n\"\n",
    "print \"Classification Report:\\n\", (metrics.classification_report(y_test,y_pred))\n",
    "print(\"\\nNumber of mislabeled points out of a total %d points : %d\"\n",
    "      % (X_test.shape[0],(y_test != y_pred).sum()))"
   ]
  },
  {
   "cell_type": "markdown",
   "metadata": {},
   "source": [
    "Predictors: More features Response: recent_DR"
   ]
  },
  {
   "cell_type": "code",
   "execution_count": 54,
   "metadata": {
    "collapsed": false,
    "scrolled": true
   },
   "outputs": [
    {
     "name": "stdout",
     "output_type": "stream",
     "text": [
      "SVC(C=1.0, cache_size=200, class_weight=None, coef0=0.0,\n",
      "  decision_function_shape=None, degree=3, gamma='auto', kernel='rbf',\n",
      "  max_iter=-1, probability=False, random_state=None, shrinking=True,\n",
      "  tol=0.001, verbose=False)\n",
      "\n",
      "Test set accuracy is  74.8753117207 \n",
      "\n",
      "col_0      no_DR\n",
      "recent_DR       \n",
      "MNPDR        131\n",
      "PDR          193\n",
      "SNPDR         39\n",
      "mNPDR        443\n",
      "no_DR       2402 \n",
      "\n",
      "Classification Report:\n",
      "             precision    recall  f1-score   support\n",
      "\n",
      "      MNPDR       0.00      0.00      0.00       131\n",
      "        PDR       0.00      0.00      0.00       193\n",
      "      SNPDR       0.00      0.00      0.00        39\n",
      "      mNPDR       0.00      0.00      0.00       443\n",
      "      no_DR       0.75      1.00      0.86      2402\n",
      "\n",
      "avg / total       0.56      0.75      0.64      3208\n",
      "\n",
      "\n",
      "Number of mislabeled points out of a total 3208 points : 806\n"
     ]
    }
   ],
   "source": [
    "model = SVC()\n",
    "X=Morefeatures_missingHandle[predictors1]\n",
    "y=Morefeatures_missingHandle['recent_DR']\n",
    "X=preprocessing.minmax_scale(X)\n",
    "X_train, X_test,y_train,y_test=train_test_split(X,y,stratify=y,test_size=0.20,random_state=42)\n",
    "model.fit(X_train, y_train)\n",
    "print(model)\n",
    "y_pred = model.predict(X_test)\n",
    "print \"\\nTest set accuracy is \", accuracy_score(y_test,y_pred)*100,\"\\n\"\n",
    "print(pd.crosstab(y_test, y_pred)), \"\\n\"\n",
    "print \"Classification Report:\\n\", (metrics.classification_report(y_test,y_pred))\n",
    "print(\"\\nNumber of mislabeled points out of a total %d points : %d\"\n",
    "      % (X_test.shape[0],(y_test != y_pred).sum()))"
   ]
  },
  {
   "cell_type": "markdown",
   "metadata": {
    "collapsed": true
   },
   "source": [
    "Predictors: Base features Response: base_recent_vis"
   ]
  },
  {
   "cell_type": "code",
   "execution_count": 55,
   "metadata": {
    "collapsed": false
   },
   "outputs": [
    {
     "name": "stdout",
     "output_type": "stream",
     "text": [
      "SVC(C=1.0, cache_size=200, class_weight=None, coef0=0.0,\n",
      "  decision_function_shape=None, degree=3, gamma='auto', kernel='rbf',\n",
      "  max_iter=-1, probability=False, random_state=None, shrinking=True,\n",
      "  tol=0.001, verbose=False)\n",
      "\n",
      "Test set accuracy is  74.8753117207 \n",
      "\n",
      "col_0                   no_DR\n",
      "base_recent_vis              \n",
      "no_DR                    2402\n",
      "non_vision_threatening    574\n",
      "vision_threatening        232 \n",
      "\n",
      "Classification Report:\n",
      "                        precision    recall  f1-score   support\n",
      "\n",
      "                 no_DR       0.75      1.00      0.86      2402\n",
      "non_vision_threatening       0.00      0.00      0.00       574\n",
      "    vision_threatening       0.00      0.00      0.00       232\n",
      "\n",
      "           avg / total       0.56      0.75      0.64      3208\n",
      "\n",
      "\n",
      "Number of mislabeled points out of a total 3208 points : 806\n"
     ]
    }
   ],
   "source": [
    "model = SVC()\n",
    "X=baseline_missingHandle[predictors]\n",
    "y=baseline_missingHandle['base_recent_vis']\n",
    "X=preprocessing.minmax_scale(X)\n",
    "X_train, X_test,y_train,y_test=train_test_split(X,y,stratify=y,test_size=0.20,random_state=42)\n",
    "model.fit(X_train, y_train)\n",
    "print(model)\n",
    "y_pred = model.predict(X_test)\n",
    "print \"\\nTest set accuracy is \", accuracy_score(y_test,y_pred)*100,\"\\n\"\n",
    "print(pd.crosstab(y_test, y_pred)), \"\\n\"\n",
    "print \"Classification Report:\\n\", (metrics.classification_report(y_test,y_pred))\n",
    "print(\"\\nNumber of mislabeled points out of a total %d points : %d\"\n",
    "      % (X_test.shape[0],(y_test != y_pred).sum()))"
   ]
  },
  {
   "cell_type": "markdown",
   "metadata": {},
   "source": [
    "Predictors: More features Response: more_recent_vis"
   ]
  },
  {
   "cell_type": "code",
   "execution_count": 56,
   "metadata": {
    "collapsed": false
   },
   "outputs": [
    {
     "name": "stdout",
     "output_type": "stream",
     "text": [
      "SVC(C=1.0, cache_size=200, class_weight=None, coef0=0.0,\n",
      "  decision_function_shape=None, degree=3, gamma='auto', kernel='rbf',\n",
      "  max_iter=-1, probability=False, random_state=None, shrinking=True,\n",
      "  tol=0.001, verbose=False)\n",
      "\n",
      "Test set accuracy is  74.8753117207 \n",
      "\n",
      "col_0                   no_DR\n",
      "more_recent_vis              \n",
      "no_DR                    2402\n",
      "non_vision_threatening    574\n",
      "vision_threatening        232 \n",
      "\n",
      "Classification Report:\n",
      "                        precision    recall  f1-score   support\n",
      "\n",
      "                 no_DR       0.75      1.00      0.86      2402\n",
      "non_vision_threatening       0.00      0.00      0.00       574\n",
      "    vision_threatening       0.00      0.00      0.00       232\n",
      "\n",
      "           avg / total       0.56      0.75      0.64      3208\n",
      "\n",
      "\n",
      "Number of mislabeled points out of a total 3208 points : 806\n"
     ]
    }
   ],
   "source": [
    "model = SVC()\n",
    "X=Morefeatures_missingHandle[predictors1]\n",
    "y=Morefeatures_missingHandle['more_recent_vis']\n",
    "X=preprocessing.minmax_scale(X)\n",
    "X_train, X_test,y_train,y_test=train_test_split(X,y,stratify=y,test_size=0.20,random_state=42)\n",
    "model.fit(X_train, y_train)\n",
    "print(model)\n",
    "y_pred = model.predict(X_test)\n",
    "print \"\\nTest set accuracy is \", accuracy_score(y_test,y_pred)*100,\"\\n\"\n",
    "print(pd.crosstab(y_test, y_pred)), \"\\n\"\n",
    "print \"Classification Report:\\n\", (metrics.classification_report(y_test,y_pred))\n",
    "print(\"\\nNumber of mislabeled points out of a total %d points : %d\"\n",
    "      % (X_test.shape[0],(y_test != y_pred).sum()))"
   ]
  },
  {
   "cell_type": "code",
   "execution_count": null,
   "metadata": {
    "collapsed": true
   },
   "outputs": [],
   "source": []
  }
 ],
 "metadata": {
  "anaconda-cloud": {},
  "kernelspec": {
   "display_name": "Python [conda root]",
   "language": "python",
   "name": "conda-root-py"
  },
  "language_info": {
   "codemirror_mode": {
    "name": "ipython",
    "version": 2
   },
   "file_extension": ".py",
   "mimetype": "text/x-python",
   "name": "python",
   "nbconvert_exporter": "python",
   "pygments_lexer": "ipython2",
   "version": "2.7.12"
  }
 },
 "nbformat": 4,
 "nbformat_minor": 2
}
