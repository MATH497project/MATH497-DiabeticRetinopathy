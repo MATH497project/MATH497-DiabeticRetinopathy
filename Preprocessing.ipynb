{
 "cells": [
  {
   "cell_type": "code",
   "execution_count": 409,
   "metadata": {
    "collapsed": true
   },
   "outputs": [
    {
     "name": "stdout",
     "output_type": "stream",
     "text": [
      "ready\n"
     ]
    }
   ],
   "source": [
    "print \"ready\""
   ]
  },
  {
   "cell_type": "code",
   "execution_count": 4,
   "metadata": {
    "collapsed": true
   },
   "outputs": [],
   "source": [
    "import pandas as pd\n",
    "import numpy as np\n",
    "from collections import defaultdict\n",
    "from datetime import datetime\n",
    "import time\n",
    "import matplotlib.pyplot as plt\n",
    "import os\n",
    "import re\n",
    "from dateutil.relativedelta import relativedelta"
   ]
  },
  {
   "cell_type": "code",
   "execution_count": 5,
   "metadata": {
    "collapsed": true
   },
   "outputs": [],
   "source": [
    "path = 'E:/SUBJECTS/497 MATH S17 PSP--/Data/'\n",
    "interpath= 'E:/SUBJECTS/497 MATH S17 PSP--/Data/intermediate/'"
   ]
  },
  {
   "cell_type": "code",
   "execution_count": 4,
   "metadata": {
    "collapsed": true
   },
   "outputs": [],
   "source": [
    "encounters=pd.read_pickle(path + '/encounters.pickle')"
   ]
  },
  {
   "cell_type": "code",
   "execution_count": 18,
   "metadata": {
    "collapsed": true
   },
   "outputs": [
    {
     "name": "stdout",
     "output_type": "stream",
     "text": [
      "(85829, 5)\n",
      "<class 'pandas.core.frame.DataFrame'>\n",
      "Int64Index: 85829 entries, 10335 to 47927\n",
      "Data columns (total 5 columns):\n",
      "﻿Person_ID       85829 non-null object\n",
      "Person_Nbr       85829 non-null int64\n",
      "Enc_ID           85829 non-null object\n",
      "Enc_Nbr          85829 non-null int64\n",
      "Enc_Timestamp    85829 non-null datetime64[ns]\n",
      "dtypes: datetime64[ns](1), int64(2), object(2)\n",
      "memory usage: 3.9+ MB\n"
     ]
    }
   ],
   "source": [
    "print encounters.shape\n",
    "encounters.info()"
   ]
  },
  {
   "cell_type": "markdown",
   "metadata": {},
   "source": [
    "There are 85829 unique Enc_Nbrs and 16509 unique Person_Nbrs in encounters table"
   ]
  },
  {
   "cell_type": "code",
   "execution_count": 25,
   "metadata": {
    "collapsed": true
   },
   "outputs": [
    {
     "name": "stdout",
     "output_type": "stream",
     "text": [
      "85829\n"
     ]
    },
    {
     "data": {
      "text/plain": [
       "16509"
      ]
     },
     "execution_count": 25,
     "metadata": {},
     "output_type": "execute_result"
    }
   ],
   "source": [
    "print len(encounters.Enc_Nbr.unique())\n",
    "len(encounters.Person_Nbr.unique())"
   ]
  },
  {
   "cell_type": "code",
   "execution_count": 17,
   "metadata": {
    "collapsed": true
   },
   "outputs": [],
   "source": [
    "all_enc = pd.read_pickle(path + '/all_encounter_data.pickle') "
   ]
  },
  {
   "cell_type": "code",
   "execution_count": 112,
   "metadata": {
    "collapsed": true
   },
   "outputs": [
    {
     "name": "stdout",
     "output_type": "stream",
     "text": [
      "(82432, 41)\n",
      "<class 'pandas.core.frame.DataFrame'>\n",
      "Int64Index: 82432 entries, 75857 to 79638\n",
      "Data columns (total 41 columns):\n",
      "Enc_ID            82432 non-null object\n",
      "Enc_Nbr           82432 non-null int64\n",
      "Enc_Date          82432 non-null datetime64[ns]\n",
      "Person_ID         82432 non-null object\n",
      "Person_Nbr        82432 non-null int64\n",
      "Primary_Payer     82432 non-null object\n",
      "Smoking_Status    59199 non-null object\n",
      "BMI               22325 non-null object\n",
      "BP                38219 non-null object\n",
      "Glucose           30483 non-null object\n",
      "A1C               12793 non-null float64\n",
      "MR_OD_SPH         25476 non-null object\n",
      "MR_OD_CYL         24693 non-null object\n",
      "MR_OD_AXIS        19897 non-null object\n",
      "MR_OD_DVA         24179 non-null object\n",
      "MR_OD_NVA         18104 non-null object\n",
      "MR_OS_SPH         25452 non-null object\n",
      "MR_OS_CYL         24606 non-null object\n",
      "MR_OS_AXIS        19417 non-null object\n",
      "MR_OS_DVA         24068 non-null object\n",
      "MR_OS_NVA         18035 non-null object\n",
      "BB_OD_SPH         5851 non-null object\n",
      "BB_OD_CYL         5701 non-null object\n",
      "BB_OD_AXIS        4616 non-null object\n",
      "BB_OD_DVA         5393 non-null object\n",
      "BB_OD_NVA         4886 non-null object\n",
      "BB_OS_SPH         5814 non-null object\n",
      "BB_OS_CYL         5709 non-null object\n",
      "BB_OS_AXIS        4552 non-null object\n",
      "BB_OS_DVA         5387 non-null object\n",
      "BB_OS_NVA         4878 non-null object\n",
      "CYCLO_OD_SPH      1285 non-null object\n",
      "CYCLO_OD_CYL      1238 non-null object\n",
      "CYCLO_OD_AXIS     1046 non-null float64\n",
      "CYCLO_OD_DVA      526 non-null object\n",
      "CYCLO_OD_NVA      238 non-null object\n",
      "CYCLO_OS_SPH      1268 non-null object\n",
      "CYCLO_OS_CYL      1234 non-null object\n",
      "CYCLO_OS_AXIS     1055 non-null object\n",
      "CYCLO_OS_DVA      523 non-null object\n",
      "CYCLO_OS_NVA      237 non-null object\n",
      "dtypes: datetime64[ns](1), float64(2), int64(2), object(36)\n",
      "memory usage: 26.4+ MB\n"
     ]
    }
   ],
   "source": [
    "print all_enc.shape\n",
    "all_enc.info()"
   ]
  },
  {
   "cell_type": "markdown",
   "metadata": {},
   "source": [
    "There are 80946 unique Enc_Nbrs and 16087 unique Person_Nbrs in all_enc table"
   ]
  },
  {
   "cell_type": "code",
   "execution_count": 27,
   "metadata": {
    "collapsed": true
   },
   "outputs": [
    {
     "name": "stdout",
     "output_type": "stream",
     "text": [
      "80946\n"
     ]
    },
    {
     "data": {
      "text/plain": [
       "16087"
      ]
     },
     "execution_count": 27,
     "metadata": {},
     "output_type": "execute_result"
    }
   ],
   "source": [
    "print len(all_enc.Enc_Nbr.unique())\n",
    "uni"
   ]
  },
  {
   "cell_type": "code",
   "execution_count": 458,
   "metadata": {
    "collapsed": false
   },
   "outputs": [
    {
     "name": "stdout",
     "output_type": "stream",
     "text": [
      "2011-10-28 23:00:00\n"
     ]
    },
    {
     "data": {
      "text/plain": [
       "Timestamp('2016-11-03 23:15:00')"
      ]
     },
     "execution_count": 458,
     "metadata": {},
     "output_type": "execute_result"
    }
   ],
   "source": [
    "print all_enc.Enc_Date.min()\n",
    "all_enc.Enc_Date.max()"
   ]
  },
  {
   "cell_type": "markdown",
   "metadata": {},
   "source": [
    "## Findings: \n",
    "\n",
    "There are 3397 Enc_nbrs in encounter table which do not have data recorded for them in the all_enc table\n",
    "There are 422 Person_nbrs in encounter table which do not have data recorded for them in the all_enc table"
   ]
  },
  {
   "cell_type": "markdown",
   "metadata": {},
   "source": [
    "Out of the 82432 Enc_Nbrs in the all_enc table 80946 are unique leaving 1486 duplicated Enc_Nbrs"
   ]
  },
  {
   "cell_type": "code",
   "execution_count": 28,
   "metadata": {
    "collapsed": true
   },
   "outputs": [
    {
     "data": {
      "text/plain": [
       "1486"
      ]
     },
     "execution_count": 28,
     "metadata": {},
     "output_type": "execute_result"
    }
   ],
   "source": [
    "len(all_enc['Enc_Nbr'])-len(all_enc['Enc_Nbr'].drop_duplicates())"
   ]
  },
  {
   "cell_type": "markdown",
   "metadata": {},
   "source": [
    "## IDEA: Create a table for each person with a single encounter data set where examination values are averaged"
   ]
  },
  {
   "cell_type": "markdown",
   "metadata": {},
   "source": [
    "## Distribution and Outliers  "
   ]
  },
  {
   "cell_type": "markdown",
   "metadata": {},
   "source": [
    "Separate BP into BP_Systolic and BP_Diastolic"
   ]
  },
  {
   "cell_type": "code",
   "execution_count": 73,
   "metadata": {
    "collapsed": false
   },
   "outputs": [],
   "source": [
    "pattern = re.compile(\"(?P<BP_Systolic>\\d+)\\s*\\/\\s*(?P<BP_Diastolic>\\d+)\")\n",
    "all_enc = pd.merge(all_enc, all_enc[\"BP\"].str.extract(pattern, expand=True),\n",
    "                         left_index=True, right_index=True)"
   ]
  },
  {
   "cell_type": "markdown",
   "metadata": {},
   "source": [
    "Fix the 87 values in Glucose column with x/y format"
   ]
  },
  {
   "cell_type": "code",
   "execution_count": 75,
   "metadata": {
    "collapsed": true
   },
   "outputs": [],
   "source": [
    "result=all_enc[\"Glucose\"].str.extract(pattern, expand=True)\n",
    "result.info()"
   ]
  },
  {
   "cell_type": "code",
   "execution_count": 77,
   "metadata": {
    "collapsed": false
   },
   "outputs": [
    {
     "data": {
      "text/html": [
       "<div>\n",
       "<table border=\"1\" class=\"dataframe\">\n",
       "  <thead>\n",
       "    <tr style=\"text-align: right;\">\n",
       "      <th></th>\n",
       "      <th>Enc_ID</th>\n",
       "      <th>Enc_Nbr</th>\n",
       "      <th>Enc_Date</th>\n",
       "      <th>Person_ID</th>\n",
       "      <th>Person_Nbr</th>\n",
       "      <th>Primary_Payer</th>\n",
       "      <th>Smoking_Status</th>\n",
       "      <th>BMI</th>\n",
       "      <th>BP</th>\n",
       "      <th>Glucose</th>\n",
       "      <th>...</th>\n",
       "      <th>CYCLO_OD_NVA</th>\n",
       "      <th>CYCLO_OS_SPH</th>\n",
       "      <th>CYCLO_OS_CYL</th>\n",
       "      <th>CYCLO_OS_AXIS</th>\n",
       "      <th>CYCLO_OS_DVA</th>\n",
       "      <th>CYCLO_OS_NVA</th>\n",
       "      <th>BP_Systolic_x</th>\n",
       "      <th>BP_Diastolic_x</th>\n",
       "      <th>BP_Systolic_y</th>\n",
       "      <th>BP_Diastolic_y</th>\n",
       "    </tr>\n",
       "  </thead>\n",
       "  <tbody>\n",
       "    <tr>\n",
       "      <th>75857</th>\n",
       "      <td>97825c51-4462-eade-1c1d-2baa3400c033</td>\n",
       "      <td>123227</td>\n",
       "      <td>2014-12-18 14:00:00</td>\n",
       "      <td>80d3df88-dddf-5ad3-7cc1-b7b1ac6151fa</td>\n",
       "      <td>33</td>\n",
       "      <td>Premier Vision Plan</td>\n",
       "      <td>Never smoker</td>\n",
       "      <td>NaN</td>\n",
       "      <td>NaN</td>\n",
       "      <td>130</td>\n",
       "      <td>...</td>\n",
       "      <td>NaN</td>\n",
       "      <td>NaN</td>\n",
       "      <td>NaN</td>\n",
       "      <td>NaN</td>\n",
       "      <td>NaN</td>\n",
       "      <td>NaN</td>\n",
       "      <td>NaN</td>\n",
       "      <td>NaN</td>\n",
       "      <td>NaN</td>\n",
       "      <td>NaN</td>\n",
       "    </tr>\n",
       "    <tr>\n",
       "      <th>75858</th>\n",
       "      <td>97825c51-4462-eade-1c1d-2baa3400c033</td>\n",
       "      <td>123227</td>\n",
       "      <td>2014-12-18 14:00:00</td>\n",
       "      <td>80d3df88-dddf-5ad3-7cc1-b7b1ac6151fa</td>\n",
       "      <td>33</td>\n",
       "      <td>Premier Vision Plan</td>\n",
       "      <td>Never smoker</td>\n",
       "      <td>NaN</td>\n",
       "      <td>118/ 78</td>\n",
       "      <td>130</td>\n",
       "      <td>...</td>\n",
       "      <td>NaN</td>\n",
       "      <td>NaN</td>\n",
       "      <td>NaN</td>\n",
       "      <td>NaN</td>\n",
       "      <td>NaN</td>\n",
       "      <td>NaN</td>\n",
       "      <td>118</td>\n",
       "      <td>78</td>\n",
       "      <td>NaN</td>\n",
       "      <td>NaN</td>\n",
       "    </tr>\n",
       "    <tr>\n",
       "      <th>55347</th>\n",
       "      <td>a6d9d991-4ff4-79b5-304d-f1b2bff9d6d0</td>\n",
       "      <td>12870648</td>\n",
       "      <td>2012-10-16 03:45:00</td>\n",
       "      <td>adca6fa4-e7d4-d7f8-cf41-27056662d84b</td>\n",
       "      <td>89</td>\n",
       "      <td>Adv BCBS HMO</td>\n",
       "      <td>Former smoker</td>\n",
       "      <td>26.04</td>\n",
       "      <td>140 / 88</td>\n",
       "      <td>140</td>\n",
       "      <td>...</td>\n",
       "      <td>NaN</td>\n",
       "      <td>NaN</td>\n",
       "      <td>NaN</td>\n",
       "      <td>NaN</td>\n",
       "      <td>NaN</td>\n",
       "      <td>NaN</td>\n",
       "      <td>140</td>\n",
       "      <td>88</td>\n",
       "      <td>NaN</td>\n",
       "      <td>NaN</td>\n",
       "    </tr>\n",
       "    <tr>\n",
       "      <th>55348</th>\n",
       "      <td>fe5eb87c-39b3-4314-0172-4642d51de417</td>\n",
       "      <td>4126172</td>\n",
       "      <td>2014-03-12 15:30:00</td>\n",
       "      <td>adca6fa4-e7d4-d7f8-cf41-27056662d84b</td>\n",
       "      <td>89</td>\n",
       "      <td>Adv BCBS HMO</td>\n",
       "      <td>Former smoker</td>\n",
       "      <td>29.16</td>\n",
       "      <td>128 / 78</td>\n",
       "      <td>120</td>\n",
       "      <td>...</td>\n",
       "      <td>NaN</td>\n",
       "      <td>NaN</td>\n",
       "      <td>NaN</td>\n",
       "      <td>NaN</td>\n",
       "      <td>NaN</td>\n",
       "      <td>NaN</td>\n",
       "      <td>128</td>\n",
       "      <td>78</td>\n",
       "      <td>NaN</td>\n",
       "      <td>NaN</td>\n",
       "    </tr>\n",
       "    <tr>\n",
       "      <th>55349</th>\n",
       "      <td>ea3c2622-6d1d-53ab-ddf0-9764927f1507</td>\n",
       "      <td>9217142</td>\n",
       "      <td>2014-04-17 18:45:00</td>\n",
       "      <td>adca6fa4-e7d4-d7f8-cf41-27056662d84b</td>\n",
       "      <td>89</td>\n",
       "      <td>Adv BCBS HMO</td>\n",
       "      <td>Former smoker</td>\n",
       "      <td>29.16</td>\n",
       "      <td>132 / 86</td>\n",
       "      <td>130</td>\n",
       "      <td>...</td>\n",
       "      <td>NaN</td>\n",
       "      <td>NaN</td>\n",
       "      <td>NaN</td>\n",
       "      <td>NaN</td>\n",
       "      <td>NaN</td>\n",
       "      <td>NaN</td>\n",
       "      <td>132</td>\n",
       "      <td>86</td>\n",
       "      <td>NaN</td>\n",
       "      <td>NaN</td>\n",
       "    </tr>\n",
       "  </tbody>\n",
       "</table>\n",
       "<p>5 rows × 45 columns</p>\n",
       "</div>"
      ],
      "text/plain": [
       "                                     Enc_ID   Enc_Nbr            Enc_Date  \\\n",
       "75857  97825c51-4462-eade-1c1d-2baa3400c033    123227 2014-12-18 14:00:00   \n",
       "75858  97825c51-4462-eade-1c1d-2baa3400c033    123227 2014-12-18 14:00:00   \n",
       "55347  a6d9d991-4ff4-79b5-304d-f1b2bff9d6d0  12870648 2012-10-16 03:45:00   \n",
       "55348  fe5eb87c-39b3-4314-0172-4642d51de417   4126172 2014-03-12 15:30:00   \n",
       "55349  ea3c2622-6d1d-53ab-ddf0-9764927f1507   9217142 2014-04-17 18:45:00   \n",
       "\n",
       "                                  Person_ID  Person_Nbr        Primary_Payer  \\\n",
       "75857  80d3df88-dddf-5ad3-7cc1-b7b1ac6151fa          33  Premier Vision Plan   \n",
       "75858  80d3df88-dddf-5ad3-7cc1-b7b1ac6151fa          33  Premier Vision Plan   \n",
       "55347  adca6fa4-e7d4-d7f8-cf41-27056662d84b          89         Adv BCBS HMO   \n",
       "55348  adca6fa4-e7d4-d7f8-cf41-27056662d84b          89         Adv BCBS HMO   \n",
       "55349  adca6fa4-e7d4-d7f8-cf41-27056662d84b          89         Adv BCBS HMO   \n",
       "\n",
       "      Smoking_Status    BMI        BP Glucose      ...        CYCLO_OD_NVA  \\\n",
       "75857   Never smoker    NaN       NaN     130      ...                 NaN   \n",
       "75858   Never smoker    NaN   118/ 78     130      ...                 NaN   \n",
       "55347  Former smoker  26.04  140 / 88     140      ...                 NaN   \n",
       "55348  Former smoker  29.16  128 / 78     120      ...                 NaN   \n",
       "55349  Former smoker  29.16  132 / 86     130      ...                 NaN   \n",
       "\n",
       "      CYCLO_OS_SPH CYCLO_OS_CYL CYCLO_OS_AXIS CYCLO_OS_DVA CYCLO_OS_NVA  \\\n",
       "75857          NaN          NaN           NaN          NaN          NaN   \n",
       "75858          NaN          NaN           NaN          NaN          NaN   \n",
       "55347          NaN          NaN           NaN          NaN          NaN   \n",
       "55348          NaN          NaN           NaN          NaN          NaN   \n",
       "55349          NaN          NaN           NaN          NaN          NaN   \n",
       "\n",
       "      BP_Systolic_x BP_Diastolic_x BP_Systolic_y BP_Diastolic_y  \n",
       "75857           NaN            NaN           NaN            NaN  \n",
       "75858           118             78           NaN            NaN  \n",
       "55347           140             88           NaN            NaN  \n",
       "55348           128             78           NaN            NaN  \n",
       "55349           132             86           NaN            NaN  \n",
       "\n",
       "[5 rows x 45 columns]"
      ]
     },
     "execution_count": 77,
     "metadata": {},
     "output_type": "execute_result"
    }
   ],
   "source": [
    "all_enc=pd.merge(all_enc,result,left_index=True,right_index=True)\n",
    "all_enc.head()"
   ]
  },
  {
   "cell_type": "code",
   "execution_count": 79,
   "metadata": {
    "collapsed": true
   },
   "outputs": [
    {
     "name": "stdout",
     "output_type": "stream",
     "text": [
      "True     82345\n",
      "False       87\n",
      "Name: BP_Systolic_y, dtype: int64\n"
     ]
    },
    {
     "data": {
      "text/plain": [
       "True     82345\n",
       "False       87\n",
       "Name: BP_Diastolic_y, dtype: int64"
      ]
     },
     "execution_count": 79,
     "metadata": {},
     "output_type": "execute_result"
    }
   ],
   "source": [
    "print all_enc.BP_Systolic_y.isnull().value_counts()\n",
    "all_enc.BP_Diastolic_y.isnull().value_counts()"
   ]
  },
  {
   "cell_type": "code",
   "execution_count": 80,
   "metadata": {
    "collapsed": true
   },
   "outputs": [
    {
     "name": "stderr",
     "output_type": "stream",
     "text": [
      "C:\\Users\\mom1\\Anaconda2\\lib\\site-packages\\ipykernel\\__main__.py:1: FutureWarning: convert_objects is deprecated.  Use the data-type specific converters pd.to_datetime, pd.to_timedelta and pd.to_numeric.\n",
      "  if __name__ == '__main__':\n",
      "C:\\Users\\mom1\\Anaconda2\\lib\\site-packages\\ipykernel\\__main__.py:2: FutureWarning: convert_objects is deprecated.  Use the data-type specific converters pd.to_datetime, pd.to_timedelta and pd.to_numeric.\n",
      "  from ipykernel import kernelapp as app\n"
     ]
    }
   ],
   "source": [
    "all_enc.BP_Systolic_x=all_enc.BP_Systolic_x.convert_objects(convert_numeric=True)\n",
    "all_enc.BP_Systolic_y=all_enc.BP_Systolic_y.convert_objects(convert_numeric=True)\n",
    "BPS = pd.concat((all_enc.BP_Systolic_x, all_enc.BP_Systolic_y),axis=1).mean(axis=1)\n",
    "all_enc.BP_Systolic_x=BPS"
   ]
  },
  {
   "cell_type": "code",
   "execution_count": 81,
   "metadata": {
    "collapsed": true
   },
   "outputs": [
    {
     "name": "stderr",
     "output_type": "stream",
     "text": [
      "C:\\Users\\mom1\\Anaconda2\\lib\\site-packages\\ipykernel\\__main__.py:1: FutureWarning: convert_objects is deprecated.  Use the data-type specific converters pd.to_datetime, pd.to_timedelta and pd.to_numeric.\n",
      "  if __name__ == '__main__':\n",
      "C:\\Users\\mom1\\Anaconda2\\lib\\site-packages\\ipykernel\\__main__.py:2: FutureWarning: convert_objects is deprecated.  Use the data-type specific converters pd.to_datetime, pd.to_timedelta and pd.to_numeric.\n",
      "  from ipykernel import kernelapp as app\n"
     ]
    }
   ],
   "source": [
    "all_enc.BP_Diastolic_x=all_enc.BP_Diastolic_x.convert_objects(convert_numeric=True)\n",
    "all_enc.BP_Diastolic_y=all_enc.BP_Diastolic_y.convert_objects(convert_numeric=True)\n",
    "BPD = pd.concat((all_enc.BP_Diastolic_x, all_enc.BP_Diastolic_y),axis=1).mean(axis=1)\n",
    "all_enc.BP_Diastolic_x=BPD"
   ]
  },
  {
   "cell_type": "code",
   "execution_count": 82,
   "metadata": {
    "collapsed": true
   },
   "outputs": [],
   "source": [
    "pattern1 = re.compile(\"(\\d+)\\s*\\/\\s*(\\d+)\")\n",
    "all_enc.Glucose=all_enc.Glucose.replace(pattern1,\"NaN\")"
   ]
  },
  {
   "cell_type": "markdown",
   "metadata": {},
   "source": [
    "Converting to int "
   ]
  },
  {
   "cell_type": "code",
   "execution_count": 84,
   "metadata": {
    "collapsed": false
   },
   "outputs": [
    {
     "name": "stderr",
     "output_type": "stream",
     "text": [
      "C:\\Users\\mom1\\Anaconda2\\lib\\site-packages\\ipykernel\\__main__.py:2: FutureWarning: convert_objects is deprecated.  Use the data-type specific converters pd.to_datetime, pd.to_timedelta and pd.to_numeric.\n",
      "  from ipykernel import kernelapp as app\n"
     ]
    }
   ],
   "source": [
    "toconvert=['A1C','BMI','Glucose']\n",
    "for i in toconvert:\n",
    "    all_enc[i]=all_enc[i].convert_objects(convert_numeric=True)"
   ]
  },
  {
   "cell_type": "markdown",
   "metadata": {},
   "source": [
    "Change NaN to zero"
   ]
  },
  {
   "cell_type": "code",
   "execution_count": 86,
   "metadata": {
    "collapsed": false
   },
   "outputs": [],
   "source": [
    "tochange=['A1C','BMI','Glucose','BP_Systolic_x','BP_Diastolic_x']\n",
    "for i in tochange:\n",
    "    all_enc[i]=np.nan_to_num(all_enc[i])"
   ]
  },
  {
   "cell_type": "markdown",
   "metadata": {},
   "source": [
    "Create a new set for analysis "
   ]
  },
  {
   "cell_type": "code",
   "execution_count": 88,
   "metadata": {
    "collapsed": true
   },
   "outputs": [],
   "source": [
    "columns=['Person_Nbr','Enc_Nbr','Enc_Date','Smoking_Status','Primary_Payer','A1C','BMI','Glucose','BP_Systolic_x','BP_Diastolic_x']"
   ]
  },
  {
   "cell_type": "code",
   "execution_count": 92,
   "metadata": {
    "collapsed": true
   },
   "outputs": [],
   "source": [
    "all_enc_1= pd.DataFrame(columns=columns)"
   ]
  },
  {
   "cell_type": "code",
   "execution_count": 94,
   "metadata": {
    "collapsed": true
   },
   "outputs": [],
   "source": [
    "for index,row in all_enc.iterrows():\n",
    "    for i in columns:\n",
    "           all_enc_1.loc[index,i]=row[i]"
   ]
  },
  {
   "cell_type": "code",
   "execution_count": 99,
   "metadata": {
    "collapsed": true
   },
   "outputs": [
    {
     "data": {
      "text/html": [
       "<div>\n",
       "<table border=\"1\" class=\"dataframe\">\n",
       "  <thead>\n",
       "    <tr style=\"text-align: right;\">\n",
       "      <th></th>\n",
       "      <th>Person_Nbr</th>\n",
       "      <th>Enc_Nbr</th>\n",
       "      <th>Enc_Date</th>\n",
       "      <th>Smoking_Status</th>\n",
       "      <th>Primary_Payer</th>\n",
       "      <th>A1C</th>\n",
       "      <th>BMI</th>\n",
       "      <th>Glucose</th>\n",
       "      <th>BP_Systolic_x</th>\n",
       "      <th>BP_Diastolic_x</th>\n",
       "    </tr>\n",
       "  </thead>\n",
       "  <tbody>\n",
       "    <tr>\n",
       "      <th>75857</th>\n",
       "      <td>33</td>\n",
       "      <td>123227</td>\n",
       "      <td>2014-12-18 14:00:00</td>\n",
       "      <td>Never smoker</td>\n",
       "      <td>Premier Vision Plan</td>\n",
       "      <td>8</td>\n",
       "      <td>0</td>\n",
       "      <td>130</td>\n",
       "      <td>0</td>\n",
       "      <td>0</td>\n",
       "    </tr>\n",
       "    <tr>\n",
       "      <th>75858</th>\n",
       "      <td>33</td>\n",
       "      <td>123227</td>\n",
       "      <td>2014-12-18 14:00:00</td>\n",
       "      <td>Never smoker</td>\n",
       "      <td>Premier Vision Plan</td>\n",
       "      <td>8</td>\n",
       "      <td>0</td>\n",
       "      <td>130</td>\n",
       "      <td>118</td>\n",
       "      <td>78</td>\n",
       "    </tr>\n",
       "    <tr>\n",
       "      <th>55347</th>\n",
       "      <td>89</td>\n",
       "      <td>12870648</td>\n",
       "      <td>2012-10-16 03:45:00</td>\n",
       "      <td>Former smoker</td>\n",
       "      <td>Adv BCBS HMO</td>\n",
       "      <td>0</td>\n",
       "      <td>26.04</td>\n",
       "      <td>140</td>\n",
       "      <td>140</td>\n",
       "      <td>88</td>\n",
       "    </tr>\n",
       "    <tr>\n",
       "      <th>55348</th>\n",
       "      <td>89</td>\n",
       "      <td>4126172</td>\n",
       "      <td>2014-03-12 15:30:00</td>\n",
       "      <td>Former smoker</td>\n",
       "      <td>Adv BCBS HMO</td>\n",
       "      <td>0</td>\n",
       "      <td>29.16</td>\n",
       "      <td>120</td>\n",
       "      <td>128</td>\n",
       "      <td>78</td>\n",
       "    </tr>\n",
       "    <tr>\n",
       "      <th>55349</th>\n",
       "      <td>89</td>\n",
       "      <td>9217142</td>\n",
       "      <td>2014-04-17 18:45:00</td>\n",
       "      <td>Former smoker</td>\n",
       "      <td>Adv BCBS HMO</td>\n",
       "      <td>0</td>\n",
       "      <td>29.16</td>\n",
       "      <td>130</td>\n",
       "      <td>132</td>\n",
       "      <td>86</td>\n",
       "    </tr>\n",
       "  </tbody>\n",
       "</table>\n",
       "</div>"
      ],
      "text/plain": [
       "      Person_Nbr   Enc_Nbr             Enc_Date Smoking_Status  \\\n",
       "75857         33    123227  2014-12-18 14:00:00   Never smoker   \n",
       "75858         33    123227  2014-12-18 14:00:00   Never smoker   \n",
       "55347         89  12870648  2012-10-16 03:45:00  Former smoker   \n",
       "55348         89   4126172  2014-03-12 15:30:00  Former smoker   \n",
       "55349         89   9217142  2014-04-17 18:45:00  Former smoker   \n",
       "\n",
       "             Primary_Payer A1C    BMI Glucose BP_Systolic_x BP_Diastolic_x  \n",
       "75857  Premier Vision Plan   8      0     130             0              0  \n",
       "75858  Premier Vision Plan   8      0     130           118             78  \n",
       "55347         Adv BCBS HMO   0  26.04     140           140             88  \n",
       "55348         Adv BCBS HMO   0  29.16     120           128             78  \n",
       "55349         Adv BCBS HMO   0  29.16     130           132             86  "
      ]
     },
     "execution_count": 99,
     "metadata": {},
     "output_type": "execute_result"
    }
   ],
   "source": [
    "all_enc_1.head()"
   ]
  },
  {
   "cell_type": "code",
   "execution_count": 102,
   "metadata": {
    "collapsed": true
   },
   "outputs": [],
   "source": [
    "all_enc_1.to_csv('all_enc_1.txt')"
   ]
  },
  {
   "cell_type": "code",
   "execution_count": 101,
   "metadata": {
    "collapsed": false
   },
   "outputs": [
    {
     "data": {
      "text/plain": [
       "(82432, 10)"
      ]
     },
     "execution_count": 101,
     "metadata": {},
     "output_type": "execute_result"
    }
   ],
   "source": [
    "all_enc_1.shape"
   ]
  },
  {
   "cell_type": "markdown",
   "metadata": {
    "collapsed": true
   },
   "source": [
    "Based on the visualizations in R and research the following outlier ranges have been considered "
   ]
  },
  {
   "cell_type": "code",
   "execution_count": 11,
   "metadata": {
    "collapsed": false
   },
   "outputs": [],
   "source": [
    "all_enc_2=pd.read_csv(interpath+'all_enc_1.csv')"
   ]
  },
  {
   "cell_type": "code",
   "execution_count": 13,
   "metadata": {
    "collapsed": true
   },
   "outputs": [
    {
     "data": {
      "text/html": [
       "<div>\n",
       "<table border=\"1\" class=\"dataframe\">\n",
       "  <thead>\n",
       "    <tr style=\"text-align: right;\">\n",
       "      <th></th>\n",
       "      <th>Unnamed: 0</th>\n",
       "      <th>Person_Nbr</th>\n",
       "      <th>Enc_Nbr</th>\n",
       "      <th>Enc_Date</th>\n",
       "      <th>Smoking_Status</th>\n",
       "      <th>Primary_Payer</th>\n",
       "      <th>A1C</th>\n",
       "      <th>BMI</th>\n",
       "      <th>Glucose</th>\n",
       "      <th>BP_Systolic_x</th>\n",
       "      <th>BP_Diastolic_x</th>\n",
       "    </tr>\n",
       "  </thead>\n",
       "  <tbody>\n",
       "    <tr>\n",
       "      <th>0</th>\n",
       "      <td>75857</td>\n",
       "      <td>33</td>\n",
       "      <td>123227</td>\n",
       "      <td>2014-12-18 14:00:00</td>\n",
       "      <td>Never smoker</td>\n",
       "      <td>Premier Vision Plan</td>\n",
       "      <td>8.0</td>\n",
       "      <td>0.00</td>\n",
       "      <td>130.0</td>\n",
       "      <td>0.0</td>\n",
       "      <td>0.0</td>\n",
       "    </tr>\n",
       "    <tr>\n",
       "      <th>1</th>\n",
       "      <td>75858</td>\n",
       "      <td>33</td>\n",
       "      <td>123227</td>\n",
       "      <td>2014-12-18 14:00:00</td>\n",
       "      <td>Never smoker</td>\n",
       "      <td>Premier Vision Plan</td>\n",
       "      <td>8.0</td>\n",
       "      <td>0.00</td>\n",
       "      <td>130.0</td>\n",
       "      <td>118.0</td>\n",
       "      <td>78.0</td>\n",
       "    </tr>\n",
       "    <tr>\n",
       "      <th>2</th>\n",
       "      <td>55347</td>\n",
       "      <td>89</td>\n",
       "      <td>12870648</td>\n",
       "      <td>2012-10-16 03:45:00</td>\n",
       "      <td>Former smoker</td>\n",
       "      <td>Adv BCBS HMO</td>\n",
       "      <td>0.0</td>\n",
       "      <td>26.04</td>\n",
       "      <td>140.0</td>\n",
       "      <td>140.0</td>\n",
       "      <td>88.0</td>\n",
       "    </tr>\n",
       "    <tr>\n",
       "      <th>3</th>\n",
       "      <td>55348</td>\n",
       "      <td>89</td>\n",
       "      <td>4126172</td>\n",
       "      <td>2014-03-12 15:30:00</td>\n",
       "      <td>Former smoker</td>\n",
       "      <td>Adv BCBS HMO</td>\n",
       "      <td>0.0</td>\n",
       "      <td>29.16</td>\n",
       "      <td>120.0</td>\n",
       "      <td>128.0</td>\n",
       "      <td>78.0</td>\n",
       "    </tr>\n",
       "    <tr>\n",
       "      <th>4</th>\n",
       "      <td>55349</td>\n",
       "      <td>89</td>\n",
       "      <td>9217142</td>\n",
       "      <td>2014-04-17 18:45:00</td>\n",
       "      <td>Former smoker</td>\n",
       "      <td>Adv BCBS HMO</td>\n",
       "      <td>0.0</td>\n",
       "      <td>29.16</td>\n",
       "      <td>130.0</td>\n",
       "      <td>132.0</td>\n",
       "      <td>86.0</td>\n",
       "    </tr>\n",
       "  </tbody>\n",
       "</table>\n",
       "</div>"
      ],
      "text/plain": [
       "   Unnamed: 0  Person_Nbr   Enc_Nbr             Enc_Date Smoking_Status  \\\n",
       "0       75857          33    123227  2014-12-18 14:00:00   Never smoker   \n",
       "1       75858          33    123227  2014-12-18 14:00:00   Never smoker   \n",
       "2       55347          89  12870648  2012-10-16 03:45:00  Former smoker   \n",
       "3       55348          89   4126172  2014-03-12 15:30:00  Former smoker   \n",
       "4       55349          89   9217142  2014-04-17 18:45:00  Former smoker   \n",
       "\n",
       "         Primary_Payer  A1C    BMI  Glucose  BP_Systolic_x  BP_Diastolic_x  \n",
       "0  Premier Vision Plan  8.0   0.00    130.0            0.0             0.0  \n",
       "1  Premier Vision Plan  8.0   0.00    130.0          118.0            78.0  \n",
       "2         Adv BCBS HMO  0.0  26.04    140.0          140.0            88.0  \n",
       "3         Adv BCBS HMO  0.0  29.16    120.0          128.0            78.0  \n",
       "4         Adv BCBS HMO  0.0  29.16    130.0          132.0            86.0  "
      ]
     },
     "execution_count": 13,
     "metadata": {},
     "output_type": "execute_result"
    }
   ],
   "source": [
    "all_enc_2.head()"
   ]
  },
  {
   "cell_type": "code",
   "execution_count": 15,
   "metadata": {
    "collapsed": false
   },
   "outputs": [],
   "source": [
    "outliers = {\n",
    "            \"A1C\" : lambda x: x if 3.89 < x < 18 else 0,\n",
    "            \"BMI\" : lambda x: x if 8 < x < 204 else 0,\n",
    "            \"Glucose\" : lambda x: x if 50 < x < 2656 else 0,\n",
    "            \"BP_Systolic_x\" : lambda x: x if 55 < x < 370 else 0,\n",
    "            \"BP_Diastolic_x\" : lambda x: x if 30 < x < 360 else 0\n",
    "        }\n",
    "       "
   ]
  },
  {
   "cell_type": "code",
   "execution_count": 16,
   "metadata": {
    "collapsed": false
   },
   "outputs": [],
   "source": [
    " for column in list(outliers):\n",
    "            all_enc_2[column] = all_enc_2[column].map(outliers[column])"
   ]
  },
  {
   "cell_type": "code",
   "execution_count": 17,
   "metadata": {
    "collapsed": true
   },
   "outputs": [],
   "source": [
    "all_enc_2.to_csv('all_enc_2.csv')"
   ]
  },
  {
   "cell_type": "markdown",
   "metadata": {},
   "source": [
    "Taking average for the values recorded for same encounter, i.e the 1486 duplicated Enc_Nbrs"
   ]
  },
  {
   "cell_type": "code",
   "execution_count": 50,
   "metadata": {
    "collapsed": true
   },
   "outputs": [],
   "source": [
    "all_enc_2=pd.read_csv(interpath+'all_enc_2.csv')"
   ]
  },
  {
   "cell_type": "code",
   "execution_count": 51,
   "metadata": {
    "collapsed": false
   },
   "outputs": [],
   "source": [
    "dups= pd.DataFrame(columns=dict(all_enc_2))"
   ]
  },
  {
   "cell_type": "code",
   "execution_count": 52,
   "metadata": {
    "collapsed": true
   },
   "outputs": [],
   "source": [
    "all_enc_2[\"Duplicate_Exists\"]=all_enc_2[\"Enc_Nbr\"].duplicated(keep=False)"
   ]
  },
  {
   "cell_type": "code",
   "execution_count": 53,
   "metadata": {
    "collapsed": false
   },
   "outputs": [
    {
     "data": {
      "text/plain": [
       "2806"
      ]
     },
     "execution_count": 53,
     "metadata": {},
     "output_type": "execute_result"
    }
   ],
   "source": [
    "all_enc_2.Duplicate_Exists.sum()"
   ]
  },
  {
   "cell_type": "code",
   "execution_count": 54,
   "metadata": {
    "collapsed": false
   },
   "outputs": [],
   "source": [
    "for index,row in all_enc_2.iterrows():\n",
    "    if row[\"Duplicate_Exists\"]==True:\n",
    "        dups.loc[index]=row"
   ]
  },
  {
   "cell_type": "code",
   "execution_count": 55,
   "metadata": {
    "collapsed": false
   },
   "outputs": [
    {
     "data": {
      "text/plain": [
       "(2806, 12)"
      ]
     },
     "execution_count": 55,
     "metadata": {},
     "output_type": "execute_result"
    }
   ],
   "source": [
    "dups.shape"
   ]
  },
  {
   "cell_type": "code",
   "execution_count": 58,
   "metadata": {
    "collapsed": true
   },
   "outputs": [
    {
     "data": {
      "text/html": [
       "<div>\n",
       "<table border=\"1\" class=\"dataframe\">\n",
       "  <thead>\n",
       "    <tr style=\"text-align: right;\">\n",
       "      <th></th>\n",
       "      <th>BP_Diastolic_x</th>\n",
       "      <th>BMI</th>\n",
       "      <th>Smoking_Status</th>\n",
       "      <th>BP_Systolic_x</th>\n",
       "      <th>Enc_Date</th>\n",
       "      <th>A1C</th>\n",
       "      <th>Enc_Nbr</th>\n",
       "      <th>Primary_Payer</th>\n",
       "      <th>Person_Nbr</th>\n",
       "      <th>Glucose</th>\n",
       "    </tr>\n",
       "  </thead>\n",
       "  <tbody>\n",
       "    <tr>\n",
       "      <th>0</th>\n",
       "      <td>0.0</td>\n",
       "      <td>0.0</td>\n",
       "      <td>Never smoker</td>\n",
       "      <td>0.0</td>\n",
       "      <td>2014-12-18 14:00:00</td>\n",
       "      <td>8.0</td>\n",
       "      <td>123227.0</td>\n",
       "      <td>Premier Vision Plan</td>\n",
       "      <td>33.0</td>\n",
       "      <td>130.0</td>\n",
       "    </tr>\n",
       "    <tr>\n",
       "      <th>1</th>\n",
       "      <td>78.0</td>\n",
       "      <td>0.0</td>\n",
       "      <td>Never smoker</td>\n",
       "      <td>118.0</td>\n",
       "      <td>2014-12-18 14:00:00</td>\n",
       "      <td>8.0</td>\n",
       "      <td>123227.0</td>\n",
       "      <td>Premier Vision Plan</td>\n",
       "      <td>33.0</td>\n",
       "      <td>130.0</td>\n",
       "    </tr>\n",
       "    <tr>\n",
       "      <th>34</th>\n",
       "      <td>106.0</td>\n",
       "      <td>0.0</td>\n",
       "      <td>Never smoker</td>\n",
       "      <td>180.0</td>\n",
       "      <td>2015-03-03 18:15:00</td>\n",
       "      <td>0.0</td>\n",
       "      <td>13886332.0</td>\n",
       "      <td>Blue Shield Of Illinois PPO</td>\n",
       "      <td>535.0</td>\n",
       "      <td>0.0</td>\n",
       "    </tr>\n",
       "    <tr>\n",
       "      <th>35</th>\n",
       "      <td>55.0</td>\n",
       "      <td>0.0</td>\n",
       "      <td>Never smoker</td>\n",
       "      <td>124.0</td>\n",
       "      <td>2015-03-03 18:15:00</td>\n",
       "      <td>0.0</td>\n",
       "      <td>13886332.0</td>\n",
       "      <td>Blue Shield Of Illinois PPO</td>\n",
       "      <td>535.0</td>\n",
       "      <td>0.0</td>\n",
       "    </tr>\n",
       "    <tr>\n",
       "      <th>36</th>\n",
       "      <td>55.0</td>\n",
       "      <td>24.6</td>\n",
       "      <td>Never smoker</td>\n",
       "      <td>124.0</td>\n",
       "      <td>2015-03-03 18:15:00</td>\n",
       "      <td>0.0</td>\n",
       "      <td>13886332.0</td>\n",
       "      <td>Blue Shield Of Illinois PPO</td>\n",
       "      <td>535.0</td>\n",
       "      <td>0.0</td>\n",
       "    </tr>\n",
       "  </tbody>\n",
       "</table>\n",
       "</div>"
      ],
      "text/plain": [
       "    BP_Diastolic_x   BMI Smoking_Status  BP_Systolic_x             Enc_Date  \\\n",
       "0              0.0   0.0   Never smoker            0.0  2014-12-18 14:00:00   \n",
       "1             78.0   0.0   Never smoker          118.0  2014-12-18 14:00:00   \n",
       "34           106.0   0.0   Never smoker          180.0  2015-03-03 18:15:00   \n",
       "35            55.0   0.0   Never smoker          124.0  2015-03-03 18:15:00   \n",
       "36            55.0  24.6   Never smoker          124.0  2015-03-03 18:15:00   \n",
       "\n",
       "    A1C     Enc_Nbr                Primary_Payer  Person_Nbr  Glucose  \n",
       "0   8.0    123227.0          Premier Vision Plan        33.0    130.0  \n",
       "1   8.0    123227.0          Premier Vision Plan        33.0    130.0  \n",
       "34  0.0  13886332.0  Blue Shield Of Illinois PPO       535.0      0.0  \n",
       "35  0.0  13886332.0  Blue Shield Of Illinois PPO       535.0      0.0  \n",
       "36  0.0  13886332.0  Blue Shield Of Illinois PPO       535.0      0.0  "
      ]
     },
     "execution_count": 58,
     "metadata": {},
     "output_type": "execute_result"
    }
   ],
   "source": [
    "dups.head()"
   ]
  },
  {
   "cell_type": "code",
   "execution_count": 57,
   "metadata": {
    "collapsed": true
   },
   "outputs": [],
   "source": [
    "del dups[\"Unnamed: 0\"]\n",
    "del dups[\"Unnamed: 0.1\"]"
   ]
  },
  {
   "cell_type": "code",
   "execution_count": 59,
   "metadata": {
    "collapsed": true
   },
   "outputs": [],
   "source": [
    "dups.to_csv('dups.csv')"
   ]
  },
  {
   "cell_type": "code",
   "execution_count": 61,
   "metadata": {
    "collapsed": true
   },
   "outputs": [],
   "source": [
    "columns=['A1C','BMI','Glucose','BP_Systolic_x','BP_Diastolic_x']"
   ]
  },
  {
   "cell_type": "code",
   "execution_count": 62,
   "metadata": {
    "collapsed": true
   },
   "outputs": [],
   "source": [
    "columns1=['Enc_Nbr','Enc_Date','Person_Nbr']"
   ]
  },
  {
   "cell_type": "code",
   "execution_count": 63,
   "metadata": {
    "collapsed": true
   },
   "outputs": [],
   "source": [
    "columns2=['Primary_Payer','Smoking_Status']"
   ]
  },
  {
   "cell_type": "markdown",
   "metadata": {},
   "source": [
    "Average for numeric values"
   ]
  },
  {
   "cell_type": "code",
   "execution_count": 64,
   "metadata": {
    "collapsed": true
   },
   "outputs": [],
   "source": [
    "a=dups.groupby(\"Enc_Nbr\")[columns].mean()"
   ]
  },
  {
   "cell_type": "code",
   "execution_count": 65,
   "metadata": {
    "collapsed": false
   },
   "outputs": [
    {
     "data": {
      "text/plain": [
       "(1320, 5)"
      ]
     },
     "execution_count": 65,
     "metadata": {},
     "output_type": "execute_result"
    }
   ],
   "source": [
    "a.shape"
   ]
  },
  {
   "cell_type": "code",
   "execution_count": 66,
   "metadata": {
    "collapsed": true
   },
   "outputs": [
    {
     "data": {
      "text/html": [
       "<div>\n",
       "<table border=\"1\" class=\"dataframe\">\n",
       "  <thead>\n",
       "    <tr style=\"text-align: right;\">\n",
       "      <th></th>\n",
       "      <th>A1C</th>\n",
       "      <th>BMI</th>\n",
       "      <th>Glucose</th>\n",
       "      <th>BP_Systolic_x</th>\n",
       "      <th>BP_Diastolic_x</th>\n",
       "    </tr>\n",
       "    <tr>\n",
       "      <th>Enc_Nbr</th>\n",
       "      <th></th>\n",
       "      <th></th>\n",
       "      <th></th>\n",
       "      <th></th>\n",
       "      <th></th>\n",
       "    </tr>\n",
       "  </thead>\n",
       "  <tbody>\n",
       "    <tr>\n",
       "      <th>10196.0</th>\n",
       "      <td>0.0</td>\n",
       "      <td>0.00</td>\n",
       "      <td>0.0</td>\n",
       "      <td>126.5</td>\n",
       "      <td>65.0</td>\n",
       "    </tr>\n",
       "    <tr>\n",
       "      <th>31148.0</th>\n",
       "      <td>0.0</td>\n",
       "      <td>31.87</td>\n",
       "      <td>0.0</td>\n",
       "      <td>142.0</td>\n",
       "      <td>82.0</td>\n",
       "    </tr>\n",
       "    <tr>\n",
       "      <th>44311.0</th>\n",
       "      <td>7.0</td>\n",
       "      <td>0.00</td>\n",
       "      <td>105.0</td>\n",
       "      <td>70.0</td>\n",
       "      <td>45.0</td>\n",
       "    </tr>\n",
       "    <tr>\n",
       "      <th>46178.0</th>\n",
       "      <td>0.0</td>\n",
       "      <td>0.00</td>\n",
       "      <td>282.0</td>\n",
       "      <td>153.5</td>\n",
       "      <td>95.0</td>\n",
       "    </tr>\n",
       "    <tr>\n",
       "      <th>69786.0</th>\n",
       "      <td>0.0</td>\n",
       "      <td>0.00</td>\n",
       "      <td>131.0</td>\n",
       "      <td>189.5</td>\n",
       "      <td>99.0</td>\n",
       "    </tr>\n",
       "  </tbody>\n",
       "</table>\n",
       "</div>"
      ],
      "text/plain": [
       "         A1C    BMI  Glucose  BP_Systolic_x  BP_Diastolic_x\n",
       "Enc_Nbr                                                    \n",
       "10196.0  0.0   0.00      0.0          126.5            65.0\n",
       "31148.0  0.0  31.87      0.0          142.0            82.0\n",
       "44311.0  7.0   0.00    105.0           70.0            45.0\n",
       "46178.0  0.0   0.00    282.0          153.5            95.0\n",
       "69786.0  0.0   0.00    131.0          189.5            99.0"
      ]
     },
     "execution_count": 66,
     "metadata": {},
     "output_type": "execute_result"
    }
   ],
   "source": [
    "a.head()"
   ]
  },
  {
   "cell_type": "markdown",
   "metadata": {},
   "source": [
    "Check change in Smoking status and PP"
   ]
  },
  {
   "cell_type": "code",
   "execution_count": 298,
   "metadata": {
    "collapsed": false
   },
   "outputs": [],
   "source": [
    "index=0\n",
    "b=pd.DataFrame(columns=['Enc_Nbr','Person_Nbr',\"Primary_Payer\",\"Num_PP\", 'Smoking_Status',\"Num_SS\"])\n",
    "for name, group in dups.groupby(['Enc_Nbr']):\n",
    "    b.loc[index,\"Enc_Nbr\"]=name\n",
    "    b.loc[index,\"Person_Nbr\"]=group.get_value(index=0,col=8,takeable=True)\n",
    "    b.loc[index,\"Smoking_Status\"]=group.get_value(index=0,col=2,takeable=True)\n",
    "    b.loc[index,\"Num_SS\"]=1\n",
    "    b.loc[index,\"Primary_Payer\"]=group.get_value(index=0,col=7,takeable=True)\n",
    "    b.loc[index,\"Num_PP\"]=1\n",
    "    for i in range(len(group.get_values())-1):\n",
    "        frsts= b.loc[index,\"Smoking_Status\"]\n",
    "        secs= group.get_value(index=i+1,col=2,takeable=True)\n",
    "        if frsts!=secs and pd.isnull(secs)==False:\n",
    "            boths=[frsts,secs]\n",
    "            b.loc[index,\"Smoking_Status\"]=boths\n",
    "            b.loc[index,\"Num_SS\"]=len(boths)\n",
    "        frstp= b.loc[index,\"Primary_Payer\"]\n",
    "        secp= group.get_value(index=i+1,col=7,takeable=True)\n",
    "        if frstp!=secp and pd.isnull(secp)==False:\n",
    "            bothp=[frstp,secp]\n",
    "            b.loc[index,\"Primary_Payer\"]=bothp\n",
    "            b.loc[index,\"Num_PP\"]=len(bothp)       \n",
    "    index=index+1     "
   ]
  },
  {
   "cell_type": "code",
   "execution_count": 299,
   "metadata": {
    "collapsed": true
   },
   "outputs": [
    {
     "name": "stdout",
     "output_type": "stream",
     "text": [
      "(1320, 6)\n"
     ]
    },
    {
     "data": {
      "text/html": [
       "<div>\n",
       "<table border=\"1\" class=\"dataframe\">\n",
       "  <thead>\n",
       "    <tr style=\"text-align: right;\">\n",
       "      <th></th>\n",
       "      <th>Person_Nbr</th>\n",
       "      <th>Primary_Payer</th>\n",
       "      <th>Num_PP</th>\n",
       "      <th>Smoking_Status</th>\n",
       "      <th>Num_SS</th>\n",
       "    </tr>\n",
       "    <tr>\n",
       "      <th>Enc_Nbr</th>\n",
       "      <th></th>\n",
       "      <th></th>\n",
       "      <th></th>\n",
       "      <th></th>\n",
       "      <th></th>\n",
       "    </tr>\n",
       "  </thead>\n",
       "  <tbody>\n",
       "    <tr>\n",
       "      <th>10196.0</th>\n",
       "      <td>590786</td>\n",
       "      <td>Medicare</td>\n",
       "      <td>1</td>\n",
       "      <td>Former smoker</td>\n",
       "      <td>1</td>\n",
       "    </tr>\n",
       "    <tr>\n",
       "      <th>31148.0</th>\n",
       "      <td>203064</td>\n",
       "      <td>VOHHA</td>\n",
       "      <td>1</td>\n",
       "      <td>Former smoker</td>\n",
       "      <td>1</td>\n",
       "    </tr>\n",
       "    <tr>\n",
       "      <th>44311.0</th>\n",
       "      <td>329550</td>\n",
       "      <td>Medicaid HFS</td>\n",
       "      <td>1</td>\n",
       "      <td>Never smoker</td>\n",
       "      <td>1</td>\n",
       "    </tr>\n",
       "    <tr>\n",
       "      <th>46178.0</th>\n",
       "      <td>735932</td>\n",
       "      <td>Medicare</td>\n",
       "      <td>1</td>\n",
       "      <td>Current some day smoker</td>\n",
       "      <td>1</td>\n",
       "    </tr>\n",
       "    <tr>\n",
       "      <th>69786.0</th>\n",
       "      <td>265609</td>\n",
       "      <td>Medicaid HFS</td>\n",
       "      <td>1</td>\n",
       "      <td>Never smoker</td>\n",
       "      <td>1</td>\n",
       "    </tr>\n",
       "  </tbody>\n",
       "</table>\n",
       "</div>"
      ],
      "text/plain": [
       "        Person_Nbr Primary_Payer Num_PP           Smoking_Status Num_SS\n",
       "Enc_Nbr                                                                \n",
       "10196.0     590786      Medicare      1            Former smoker      1\n",
       "31148.0     203064         VOHHA      1            Former smoker      1\n",
       "44311.0     329550  Medicaid HFS      1             Never smoker      1\n",
       "46178.0     735932      Medicare      1  Current some day smoker      1\n",
       "69786.0     265609  Medicaid HFS      1             Never smoker      1"
      ]
     },
     "execution_count": 299,
     "metadata": {},
     "output_type": "execute_result"
    }
   ],
   "source": [
    "print b.shape\n",
    "b=b.set_index(\"Enc_Nbr\")\n",
    "b.head()"
   ]
  },
  {
   "cell_type": "code",
   "execution_count": 300,
   "metadata": {
    "collapsed": false
   },
   "outputs": [
    {
     "name": "stdout",
     "output_type": "stream",
     "text": [
      "0\n"
     ]
    },
    {
     "data": {
      "text/plain": [
       "0"
      ]
     },
     "execution_count": 300,
     "metadata": {},
     "output_type": "execute_result"
    }
   ],
   "source": [
    "print sum(b[\"Num_PP\"]>1)\n",
    "sum(b[\"Num_SS\"]>1)"
   ]
  },
  {
   "cell_type": "code",
   "execution_count": 209,
   "metadata": {
    "collapsed": true
   },
   "outputs": [],
   "source": [
    "b=dups.drop(columns, axis=1).drop_duplicates(\"Enc_Nbr\").set_index(\"Enc_Nbr\")"
   ]
  },
  {
   "cell_type": "code",
   "execution_count": 210,
   "metadata": {
    "collapsed": false
   },
   "outputs": [
    {
     "data": {
      "text/plain": [
       "(1320, 5)"
      ]
     },
     "execution_count": 210,
     "metadata": {},
     "output_type": "execute_result"
    }
   ],
   "source": [
    "b.shape"
   ]
  },
  {
   "cell_type": "code",
   "execution_count": 211,
   "metadata": {
    "collapsed": true
   },
   "outputs": [
    {
     "data": {
      "text/html": [
       "<div>\n",
       "<table border=\"1\" class=\"dataframe\">\n",
       "  <thead>\n",
       "    <tr style=\"text-align: right;\">\n",
       "      <th></th>\n",
       "      <th>Unnamed: 0</th>\n",
       "      <th>Smoking_Status</th>\n",
       "      <th>Enc_Date</th>\n",
       "      <th>Primary_Payer</th>\n",
       "      <th>Person_Nbr</th>\n",
       "    </tr>\n",
       "    <tr>\n",
       "      <th>Enc_Nbr</th>\n",
       "      <th></th>\n",
       "      <th></th>\n",
       "      <th></th>\n",
       "      <th></th>\n",
       "      <th></th>\n",
       "    </tr>\n",
       "  </thead>\n",
       "  <tbody>\n",
       "    <tr>\n",
       "      <th>123227.0</th>\n",
       "      <td>0</td>\n",
       "      <td>Never smoker</td>\n",
       "      <td>2014-12-18 14:00:00</td>\n",
       "      <td>Premier Vision Plan</td>\n",
       "      <td>33.0</td>\n",
       "    </tr>\n",
       "    <tr>\n",
       "      <th>13886332.0</th>\n",
       "      <td>2</td>\n",
       "      <td>Never smoker</td>\n",
       "      <td>2015-03-03 18:15:00</td>\n",
       "      <td>Blue Shield Of Illinois PPO</td>\n",
       "      <td>535.0</td>\n",
       "    </tr>\n",
       "    <tr>\n",
       "      <th>5330366.0</th>\n",
       "      <td>5</td>\n",
       "      <td>Never smoker</td>\n",
       "      <td>2016-06-10 18:30:00</td>\n",
       "      <td>Medicare</td>\n",
       "      <td>777.0</td>\n",
       "    </tr>\n",
       "    <tr>\n",
       "      <th>4612609.0</th>\n",
       "      <td>7</td>\n",
       "      <td>Former smoker</td>\n",
       "      <td>2012-01-12 00:00:00</td>\n",
       "      <td>Medicare</td>\n",
       "      <td>1614.0</td>\n",
       "    </tr>\n",
       "    <tr>\n",
       "      <th>2586704.0</th>\n",
       "      <td>11</td>\n",
       "      <td>Never smoker</td>\n",
       "      <td>2012-05-01 06:00:00</td>\n",
       "      <td>Medicare</td>\n",
       "      <td>2556.0</td>\n",
       "    </tr>\n",
       "  </tbody>\n",
       "</table>\n",
       "</div>"
      ],
      "text/plain": [
       "            Unnamed: 0 Smoking_Status             Enc_Date  \\\n",
       "Enc_Nbr                                                      \n",
       "123227.0             0   Never smoker  2014-12-18 14:00:00   \n",
       "13886332.0           2   Never smoker  2015-03-03 18:15:00   \n",
       "5330366.0            5   Never smoker  2016-06-10 18:30:00   \n",
       "4612609.0            7  Former smoker  2012-01-12 00:00:00   \n",
       "2586704.0           11   Never smoker  2012-05-01 06:00:00   \n",
       "\n",
       "                          Primary_Payer  Person_Nbr  \n",
       "Enc_Nbr                                              \n",
       "123227.0            Premier Vision Plan        33.0  \n",
       "13886332.0  Blue Shield Of Illinois PPO       535.0  \n",
       "5330366.0                      Medicare       777.0  \n",
       "4612609.0                      Medicare      1614.0  \n",
       "2586704.0                      Medicare      2556.0  "
      ]
     },
     "execution_count": 211,
     "metadata": {},
     "output_type": "execute_result"
    }
   ],
   "source": [
    "b.head()"
   ]
  },
  {
   "cell_type": "code",
   "execution_count": 215,
   "metadata": {
    "collapsed": false
   },
   "outputs": [],
   "source": [
    "del b[\"Unnamed: 0\"]"
   ]
  },
  {
   "cell_type": "code",
   "execution_count": 45,
   "metadata": {
    "collapsed": true
   },
   "outputs": [
    {
     "ename": "NameError",
     "evalue": "name 'b' is not defined",
     "output_type": "error",
     "traceback": [
      "\u001b[0;31m---------------------------------------------------------------------------\u001b[0m",
      "\u001b[0;31mNameError\u001b[0m                                 Traceback (most recent call last)",
      "\u001b[0;32m<ipython-input-45-ba67fe38d2bb>\u001b[0m in \u001b[0;36m<module>\u001b[0;34m()\u001b[0m\n\u001b[0;32m----> 1\u001b[0;31m \u001b[0mb\u001b[0m\u001b[1;33m.\u001b[0m\u001b[0mhead\u001b[0m\u001b[1;33m(\u001b[0m\u001b[1;33m)\u001b[0m\u001b[1;33m\u001b[0m\u001b[0m\n\u001b[0m",
      "\u001b[0;31mNameError\u001b[0m: name 'b' is not defined"
     ]
    }
   ],
   "source": [
    "b.head()"
   ]
  },
  {
   "cell_type": "code",
   "execution_count": 218,
   "metadata": {
    "collapsed": false
   },
   "outputs": [],
   "source": [
    "dups1=pd.merge(a,b,left_index=True,right_index=True)"
   ]
  },
  {
   "cell_type": "code",
   "execution_count": 249,
   "metadata": {
    "collapsed": false
   },
   "outputs": [
    {
     "data": {
      "text/plain": [
       "(1320, 9)"
      ]
     },
     "execution_count": 249,
     "metadata": {},
     "output_type": "execute_result"
    }
   ],
   "source": [
    "dups"
   ]
  },
  {
   "cell_type": "code",
   "execution_count": 220,
   "metadata": {
    "collapsed": true
   },
   "outputs": [
    {
     "data": {
      "text/html": [
       "<div>\n",
       "<table border=\"1\" class=\"dataframe\">\n",
       "  <thead>\n",
       "    <tr style=\"text-align: right;\">\n",
       "      <th></th>\n",
       "      <th>A1C</th>\n",
       "      <th>BMI</th>\n",
       "      <th>Glucose</th>\n",
       "      <th>BP_Systolic_x</th>\n",
       "      <th>BP_Diastolic_x</th>\n",
       "      <th>Smoking_Status</th>\n",
       "      <th>Enc_Date</th>\n",
       "      <th>Primary_Payer</th>\n",
       "      <th>Person_Nbr</th>\n",
       "    </tr>\n",
       "    <tr>\n",
       "      <th>Enc_Nbr</th>\n",
       "      <th></th>\n",
       "      <th></th>\n",
       "      <th></th>\n",
       "      <th></th>\n",
       "      <th></th>\n",
       "      <th></th>\n",
       "      <th></th>\n",
       "      <th></th>\n",
       "      <th></th>\n",
       "    </tr>\n",
       "  </thead>\n",
       "  <tbody>\n",
       "    <tr>\n",
       "      <th>123227.0</th>\n",
       "      <td>8.0</td>\n",
       "      <td>0.000</td>\n",
       "      <td>130.0</td>\n",
       "      <td>59.000000</td>\n",
       "      <td>39.0</td>\n",
       "      <td>Never smoker</td>\n",
       "      <td>2014-12-18 14:00:00</td>\n",
       "      <td>Premier Vision Plan</td>\n",
       "      <td>33.0</td>\n",
       "    </tr>\n",
       "    <tr>\n",
       "      <th>13886332.0</th>\n",
       "      <td>0.0</td>\n",
       "      <td>8.200</td>\n",
       "      <td>0.0</td>\n",
       "      <td>142.666667</td>\n",
       "      <td>72.0</td>\n",
       "      <td>Never smoker</td>\n",
       "      <td>2015-03-03 18:15:00</td>\n",
       "      <td>Blue Shield Of Illinois PPO</td>\n",
       "      <td>535.0</td>\n",
       "    </tr>\n",
       "    <tr>\n",
       "      <th>5330366.0</th>\n",
       "      <td>0.0</td>\n",
       "      <td>0.000</td>\n",
       "      <td>188.0</td>\n",
       "      <td>163.000000</td>\n",
       "      <td>95.0</td>\n",
       "      <td>Never smoker</td>\n",
       "      <td>2016-06-10 18:30:00</td>\n",
       "      <td>Medicare</td>\n",
       "      <td>777.0</td>\n",
       "    </tr>\n",
       "    <tr>\n",
       "      <th>4612609.0</th>\n",
       "      <td>3.3</td>\n",
       "      <td>14.445</td>\n",
       "      <td>36.0</td>\n",
       "      <td>55.000000</td>\n",
       "      <td>33.0</td>\n",
       "      <td>Former smoker</td>\n",
       "      <td>2012-01-12 00:00:00</td>\n",
       "      <td>Medicare</td>\n",
       "      <td>1614.0</td>\n",
       "    </tr>\n",
       "    <tr>\n",
       "      <th>2586704.0</th>\n",
       "      <td>0.0</td>\n",
       "      <td>19.080</td>\n",
       "      <td>0.0</td>\n",
       "      <td>0.000000</td>\n",
       "      <td>0.0</td>\n",
       "      <td>Never smoker</td>\n",
       "      <td>2012-05-01 06:00:00</td>\n",
       "      <td>Medicare</td>\n",
       "      <td>2556.0</td>\n",
       "    </tr>\n",
       "  </tbody>\n",
       "</table>\n",
       "</div>"
      ],
      "text/plain": [
       "            A1C     BMI  Glucose  BP_Systolic_x  BP_Diastolic_x  \\\n",
       "Enc_Nbr                                                           \n",
       "123227.0    8.0   0.000    130.0      59.000000            39.0   \n",
       "13886332.0  0.0   8.200      0.0     142.666667            72.0   \n",
       "5330366.0   0.0   0.000    188.0     163.000000            95.0   \n",
       "4612609.0   3.3  14.445     36.0      55.000000            33.0   \n",
       "2586704.0   0.0  19.080      0.0       0.000000             0.0   \n",
       "\n",
       "           Smoking_Status             Enc_Date                Primary_Payer  \\\n",
       "Enc_Nbr                                                                       \n",
       "123227.0     Never smoker  2014-12-18 14:00:00          Premier Vision Plan   \n",
       "13886332.0   Never smoker  2015-03-03 18:15:00  Blue Shield Of Illinois PPO   \n",
       "5330366.0    Never smoker  2016-06-10 18:30:00                     Medicare   \n",
       "4612609.0   Former smoker  2012-01-12 00:00:00                     Medicare   \n",
       "2586704.0    Never smoker  2012-05-01 06:00:00                     Medicare   \n",
       "\n",
       "            Person_Nbr  \n",
       "Enc_Nbr                 \n",
       "123227.0          33.0  \n",
       "13886332.0       535.0  \n",
       "5330366.0        777.0  \n",
       "4612609.0       1614.0  \n",
       "2586704.0       2556.0  "
      ]
     },
     "execution_count": 220,
     "metadata": {},
     "output_type": "execute_result"
    }
   ],
   "source": [
    "dups1.head()"
   ]
  },
  {
   "cell_type": "code",
   "execution_count": 222,
   "metadata": {
    "collapsed": true
   },
   "outputs": [],
   "source": [
    "dups1.to_csv('dups1.csv')"
   ]
  },
  {
   "cell_type": "markdown",
   "metadata": {},
   "source": [
    "Merge with full data"
   ]
  },
  {
   "cell_type": "code",
   "execution_count": 223,
   "metadata": {
    "collapsed": false
   },
   "outputs": [
    {
     "data": {
      "text/plain": [
       "(82432, 12)"
      ]
     },
     "execution_count": 223,
     "metadata": {},
     "output_type": "execute_result"
    }
   ],
   "source": [
    "all_enc_2.shape"
   ]
  },
  {
   "cell_type": "code",
   "execution_count": 224,
   "metadata": {
    "collapsed": true
   },
   "outputs": [
    {
     "data": {
      "text/html": [
       "<div>\n",
       "<table border=\"1\" class=\"dataframe\">\n",
       "  <thead>\n",
       "    <tr style=\"text-align: right;\">\n",
       "      <th></th>\n",
       "      <th>Unnamed: 0</th>\n",
       "      <th>Person_Nbr</th>\n",
       "      <th>Enc_Nbr</th>\n",
       "      <th>Enc_Date</th>\n",
       "      <th>Smoking_Status</th>\n",
       "      <th>Primary_Payer</th>\n",
       "      <th>A1C</th>\n",
       "      <th>BMI</th>\n",
       "      <th>Glucose</th>\n",
       "      <th>BP_Systolic_x</th>\n",
       "      <th>BP_Diastolic_x</th>\n",
       "      <th>Duplicate_Exists</th>\n",
       "    </tr>\n",
       "  </thead>\n",
       "  <tbody>\n",
       "    <tr>\n",
       "      <th>0</th>\n",
       "      <td>75857</td>\n",
       "      <td>33</td>\n",
       "      <td>123227</td>\n",
       "      <td>2014-12-18 14:00:00</td>\n",
       "      <td>Never smoker</td>\n",
       "      <td>Premier Vision Plan</td>\n",
       "      <td>8.0</td>\n",
       "      <td>0.00</td>\n",
       "      <td>130.0</td>\n",
       "      <td>0.0</td>\n",
       "      <td>0.0</td>\n",
       "      <td>True</td>\n",
       "    </tr>\n",
       "    <tr>\n",
       "      <th>1</th>\n",
       "      <td>75858</td>\n",
       "      <td>33</td>\n",
       "      <td>123227</td>\n",
       "      <td>2014-12-18 14:00:00</td>\n",
       "      <td>Never smoker</td>\n",
       "      <td>Premier Vision Plan</td>\n",
       "      <td>8.0</td>\n",
       "      <td>0.00</td>\n",
       "      <td>130.0</td>\n",
       "      <td>118.0</td>\n",
       "      <td>78.0</td>\n",
       "      <td>True</td>\n",
       "    </tr>\n",
       "    <tr>\n",
       "      <th>2</th>\n",
       "      <td>55347</td>\n",
       "      <td>89</td>\n",
       "      <td>12870648</td>\n",
       "      <td>2012-10-16 03:45:00</td>\n",
       "      <td>Former smoker</td>\n",
       "      <td>Adv BCBS HMO</td>\n",
       "      <td>0.0</td>\n",
       "      <td>26.04</td>\n",
       "      <td>140.0</td>\n",
       "      <td>140.0</td>\n",
       "      <td>88.0</td>\n",
       "      <td>False</td>\n",
       "    </tr>\n",
       "    <tr>\n",
       "      <th>3</th>\n",
       "      <td>55348</td>\n",
       "      <td>89</td>\n",
       "      <td>4126172</td>\n",
       "      <td>2014-03-12 15:30:00</td>\n",
       "      <td>Former smoker</td>\n",
       "      <td>Adv BCBS HMO</td>\n",
       "      <td>0.0</td>\n",
       "      <td>29.16</td>\n",
       "      <td>120.0</td>\n",
       "      <td>128.0</td>\n",
       "      <td>78.0</td>\n",
       "      <td>False</td>\n",
       "    </tr>\n",
       "    <tr>\n",
       "      <th>4</th>\n",
       "      <td>55349</td>\n",
       "      <td>89</td>\n",
       "      <td>9217142</td>\n",
       "      <td>2014-04-17 18:45:00</td>\n",
       "      <td>Former smoker</td>\n",
       "      <td>Adv BCBS HMO</td>\n",
       "      <td>0.0</td>\n",
       "      <td>29.16</td>\n",
       "      <td>130.0</td>\n",
       "      <td>132.0</td>\n",
       "      <td>86.0</td>\n",
       "      <td>False</td>\n",
       "    </tr>\n",
       "  </tbody>\n",
       "</table>\n",
       "</div>"
      ],
      "text/plain": [
       "   Unnamed: 0  Person_Nbr   Enc_Nbr             Enc_Date Smoking_Status  \\\n",
       "0       75857          33    123227  2014-12-18 14:00:00   Never smoker   \n",
       "1       75858          33    123227  2014-12-18 14:00:00   Never smoker   \n",
       "2       55347          89  12870648  2012-10-16 03:45:00  Former smoker   \n",
       "3       55348          89   4126172  2014-03-12 15:30:00  Former smoker   \n",
       "4       55349          89   9217142  2014-04-17 18:45:00  Former smoker   \n",
       "\n",
       "         Primary_Payer  A1C    BMI  Glucose  BP_Systolic_x  BP_Diastolic_x  \\\n",
       "0  Premier Vision Plan  8.0   0.00    130.0            0.0             0.0   \n",
       "1  Premier Vision Plan  8.0   0.00    130.0          118.0            78.0   \n",
       "2         Adv BCBS HMO  0.0  26.04    140.0          140.0            88.0   \n",
       "3         Adv BCBS HMO  0.0  29.16    120.0          128.0            78.0   \n",
       "4         Adv BCBS HMO  0.0  29.16    130.0          132.0            86.0   \n",
       "\n",
       "  Duplicate_Exists  \n",
       "0             True  \n",
       "1             True  \n",
       "2            False  \n",
       "3            False  \n",
       "4            False  "
      ]
     },
     "execution_count": 224,
     "metadata": {},
     "output_type": "execute_result"
    }
   ],
   "source": [
    "all_enc_2.head()"
   ]
  },
  {
   "cell_type": "code",
   "execution_count": 250,
   "metadata": {
    "collapsed": true
   },
   "outputs": [],
   "source": [
    "c=all_enc_2.drop_duplicates(\"Enc_Nbr\",keep=False).set_index(\"Enc_Nbr\")"
   ]
  },
  {
   "cell_type": "code",
   "execution_count": 251,
   "metadata": {
    "collapsed": false
   },
   "outputs": [
    {
     "data": {
      "text/plain": [
       "(79626, 11)"
      ]
     },
     "execution_count": 251,
     "metadata": {},
     "output_type": "execute_result"
    }
   ],
   "source": [
    "c.shape"
   ]
  },
  {
   "cell_type": "code",
   "execution_count": 253,
   "metadata": {
    "collapsed": true
   },
   "outputs": [],
   "source": [
    "del c[\"Unnamed: 0\"]"
   ]
  },
  {
   "cell_type": "code",
   "execution_count": 254,
   "metadata": {
    "collapsed": true
   },
   "outputs": [
    {
     "data": {
      "text/html": [
       "<div>\n",
       "<table border=\"1\" class=\"dataframe\">\n",
       "  <thead>\n",
       "    <tr style=\"text-align: right;\">\n",
       "      <th></th>\n",
       "      <th>Person_Nbr</th>\n",
       "      <th>Enc_Date</th>\n",
       "      <th>Smoking_Status</th>\n",
       "      <th>Primary_Payer</th>\n",
       "      <th>A1C</th>\n",
       "      <th>BMI</th>\n",
       "      <th>Glucose</th>\n",
       "      <th>BP_Systolic_x</th>\n",
       "      <th>BP_Diastolic_x</th>\n",
       "      <th>Duplicate_Exists</th>\n",
       "    </tr>\n",
       "    <tr>\n",
       "      <th>Enc_Nbr</th>\n",
       "      <th></th>\n",
       "      <th></th>\n",
       "      <th></th>\n",
       "      <th></th>\n",
       "      <th></th>\n",
       "      <th></th>\n",
       "      <th></th>\n",
       "      <th></th>\n",
       "      <th></th>\n",
       "      <th></th>\n",
       "    </tr>\n",
       "  </thead>\n",
       "  <tbody>\n",
       "    <tr>\n",
       "      <th>12870648</th>\n",
       "      <td>89</td>\n",
       "      <td>2012-10-16 03:45:00</td>\n",
       "      <td>Former smoker</td>\n",
       "      <td>Adv BCBS HMO</td>\n",
       "      <td>0.0</td>\n",
       "      <td>26.04</td>\n",
       "      <td>140.0</td>\n",
       "      <td>140.0</td>\n",
       "      <td>88.0</td>\n",
       "      <td>False</td>\n",
       "    </tr>\n",
       "    <tr>\n",
       "      <th>4126172</th>\n",
       "      <td>89</td>\n",
       "      <td>2014-03-12 15:30:00</td>\n",
       "      <td>Former smoker</td>\n",
       "      <td>Adv BCBS HMO</td>\n",
       "      <td>0.0</td>\n",
       "      <td>29.16</td>\n",
       "      <td>120.0</td>\n",
       "      <td>128.0</td>\n",
       "      <td>78.0</td>\n",
       "      <td>False</td>\n",
       "    </tr>\n",
       "    <tr>\n",
       "      <th>9217142</th>\n",
       "      <td>89</td>\n",
       "      <td>2014-04-17 18:45:00</td>\n",
       "      <td>Former smoker</td>\n",
       "      <td>Adv BCBS HMO</td>\n",
       "      <td>0.0</td>\n",
       "      <td>29.16</td>\n",
       "      <td>130.0</td>\n",
       "      <td>132.0</td>\n",
       "      <td>86.0</td>\n",
       "      <td>False</td>\n",
       "    </tr>\n",
       "    <tr>\n",
       "      <th>14968450</th>\n",
       "      <td>89</td>\n",
       "      <td>2014-05-25 10:45:00</td>\n",
       "      <td>Former smoker</td>\n",
       "      <td>Adv BCBS HMO</td>\n",
       "      <td>0.0</td>\n",
       "      <td>26.38</td>\n",
       "      <td>130.0</td>\n",
       "      <td>78.0</td>\n",
       "      <td>62.0</td>\n",
       "      <td>False</td>\n",
       "    </tr>\n",
       "    <tr>\n",
       "      <th>14537805</th>\n",
       "      <td>89</td>\n",
       "      <td>2015-03-14 15:30:00</td>\n",
       "      <td>Former smoker</td>\n",
       "      <td>Adv BCBS HMO</td>\n",
       "      <td>0.0</td>\n",
       "      <td>0.00</td>\n",
       "      <td>0.0</td>\n",
       "      <td>125.0</td>\n",
       "      <td>73.0</td>\n",
       "      <td>False</td>\n",
       "    </tr>\n",
       "  </tbody>\n",
       "</table>\n",
       "</div>"
      ],
      "text/plain": [
       "          Person_Nbr             Enc_Date Smoking_Status Primary_Payer  A1C  \\\n",
       "Enc_Nbr                                                                       \n",
       "12870648          89  2012-10-16 03:45:00  Former smoker  Adv BCBS HMO  0.0   \n",
       "4126172           89  2014-03-12 15:30:00  Former smoker  Adv BCBS HMO  0.0   \n",
       "9217142           89  2014-04-17 18:45:00  Former smoker  Adv BCBS HMO  0.0   \n",
       "14968450          89  2014-05-25 10:45:00  Former smoker  Adv BCBS HMO  0.0   \n",
       "14537805          89  2015-03-14 15:30:00  Former smoker  Adv BCBS HMO  0.0   \n",
       "\n",
       "            BMI  Glucose  BP_Systolic_x  BP_Diastolic_x Duplicate_Exists  \n",
       "Enc_Nbr                                                                   \n",
       "12870648  26.04    140.0          140.0            88.0            False  \n",
       "4126172   29.16    120.0          128.0            78.0            False  \n",
       "9217142   29.16    130.0          132.0            86.0            False  \n",
       "14968450  26.38    130.0           78.0            62.0            False  \n",
       "14537805   0.00      0.0          125.0            73.0            False  "
      ]
     },
     "execution_count": 254,
     "metadata": {},
     "output_type": "execute_result"
    }
   ],
   "source": [
    "c.head()"
   ]
  },
  {
   "cell_type": "code",
   "execution_count": 230,
   "metadata": {
    "collapsed": false
   },
   "outputs": [],
   "source": [
    "for i,j in c.iterrows():\n",
    "    if j[\"Duplicate_Exists\"]==True:\n",
    "        print j    "
   ]
  },
  {
   "cell_type": "code",
   "execution_count": 256,
   "metadata": {
    "collapsed": false
   },
   "outputs": [],
   "source": [
    "c=c.reset_index()\n",
    "dups1=dups1.reset_index()"
   ]
  },
  {
   "cell_type": "code",
   "execution_count": 257,
   "metadata": {
    "collapsed": false
   },
   "outputs": [],
   "source": [
    "all_enc_3=pd.merge(c,dups1,how=\"outer\")"
   ]
  },
  {
   "cell_type": "code",
   "execution_count": 258,
   "metadata": {
    "collapsed": false
   },
   "outputs": [
    {
     "data": {
      "text/plain": [
       "(80946, 12)"
      ]
     },
     "execution_count": 258,
     "metadata": {},
     "output_type": "execute_result"
    }
   ],
   "source": [
    "all_enc_3.shape"
   ]
  },
  {
   "cell_type": "code",
   "execution_count": 259,
   "metadata": {
    "collapsed": true
   },
   "outputs": [
    {
     "data": {
      "text/html": [
       "<div>\n",
       "<table border=\"1\" class=\"dataframe\">\n",
       "  <thead>\n",
       "    <tr style=\"text-align: right;\">\n",
       "      <th></th>\n",
       "      <th>index</th>\n",
       "      <th>Enc_Nbr</th>\n",
       "      <th>Person_Nbr</th>\n",
       "      <th>Enc_Date</th>\n",
       "      <th>Smoking_Status</th>\n",
       "      <th>Primary_Payer</th>\n",
       "      <th>A1C</th>\n",
       "      <th>BMI</th>\n",
       "      <th>Glucose</th>\n",
       "      <th>BP_Systolic_x</th>\n",
       "      <th>BP_Diastolic_x</th>\n",
       "      <th>Duplicate_Exists</th>\n",
       "    </tr>\n",
       "  </thead>\n",
       "  <tbody>\n",
       "    <tr>\n",
       "      <th>0</th>\n",
       "      <td>0.0</td>\n",
       "      <td>12870648.0</td>\n",
       "      <td>89.0</td>\n",
       "      <td>2012-10-16 03:45:00</td>\n",
       "      <td>Former smoker</td>\n",
       "      <td>Adv BCBS HMO</td>\n",
       "      <td>0.0</td>\n",
       "      <td>26.04</td>\n",
       "      <td>140.0</td>\n",
       "      <td>140.0</td>\n",
       "      <td>88.0</td>\n",
       "      <td>False</td>\n",
       "    </tr>\n",
       "    <tr>\n",
       "      <th>1</th>\n",
       "      <td>1.0</td>\n",
       "      <td>4126172.0</td>\n",
       "      <td>89.0</td>\n",
       "      <td>2014-03-12 15:30:00</td>\n",
       "      <td>Former smoker</td>\n",
       "      <td>Adv BCBS HMO</td>\n",
       "      <td>0.0</td>\n",
       "      <td>29.16</td>\n",
       "      <td>120.0</td>\n",
       "      <td>128.0</td>\n",
       "      <td>78.0</td>\n",
       "      <td>False</td>\n",
       "    </tr>\n",
       "    <tr>\n",
       "      <th>2</th>\n",
       "      <td>2.0</td>\n",
       "      <td>9217142.0</td>\n",
       "      <td>89.0</td>\n",
       "      <td>2014-04-17 18:45:00</td>\n",
       "      <td>Former smoker</td>\n",
       "      <td>Adv BCBS HMO</td>\n",
       "      <td>0.0</td>\n",
       "      <td>29.16</td>\n",
       "      <td>130.0</td>\n",
       "      <td>132.0</td>\n",
       "      <td>86.0</td>\n",
       "      <td>False</td>\n",
       "    </tr>\n",
       "    <tr>\n",
       "      <th>3</th>\n",
       "      <td>3.0</td>\n",
       "      <td>14968450.0</td>\n",
       "      <td>89.0</td>\n",
       "      <td>2014-05-25 10:45:00</td>\n",
       "      <td>Former smoker</td>\n",
       "      <td>Adv BCBS HMO</td>\n",
       "      <td>0.0</td>\n",
       "      <td>26.38</td>\n",
       "      <td>130.0</td>\n",
       "      <td>78.0</td>\n",
       "      <td>62.0</td>\n",
       "      <td>False</td>\n",
       "    </tr>\n",
       "    <tr>\n",
       "      <th>4</th>\n",
       "      <td>4.0</td>\n",
       "      <td>14537805.0</td>\n",
       "      <td>89.0</td>\n",
       "      <td>2015-03-14 15:30:00</td>\n",
       "      <td>Former smoker</td>\n",
       "      <td>Adv BCBS HMO</td>\n",
       "      <td>0.0</td>\n",
       "      <td>0.00</td>\n",
       "      <td>0.0</td>\n",
       "      <td>125.0</td>\n",
       "      <td>73.0</td>\n",
       "      <td>False</td>\n",
       "    </tr>\n",
       "  </tbody>\n",
       "</table>\n",
       "</div>"
      ],
      "text/plain": [
       "   index     Enc_Nbr  Person_Nbr             Enc_Date Smoking_Status  \\\n",
       "0    0.0  12870648.0        89.0  2012-10-16 03:45:00  Former smoker   \n",
       "1    1.0   4126172.0        89.0  2014-03-12 15:30:00  Former smoker   \n",
       "2    2.0   9217142.0        89.0  2014-04-17 18:45:00  Former smoker   \n",
       "3    3.0  14968450.0        89.0  2014-05-25 10:45:00  Former smoker   \n",
       "4    4.0  14537805.0        89.0  2015-03-14 15:30:00  Former smoker   \n",
       "\n",
       "  Primary_Payer  A1C    BMI  Glucose  BP_Systolic_x  BP_Diastolic_x  \\\n",
       "0  Adv BCBS HMO  0.0  26.04    140.0          140.0            88.0   \n",
       "1  Adv BCBS HMO  0.0  29.16    120.0          128.0            78.0   \n",
       "2  Adv BCBS HMO  0.0  29.16    130.0          132.0            86.0   \n",
       "3  Adv BCBS HMO  0.0  26.38    130.0           78.0            62.0   \n",
       "4  Adv BCBS HMO  0.0   0.00      0.0          125.0            73.0   \n",
       "\n",
       "  Duplicate_Exists  \n",
       "0            False  \n",
       "1            False  \n",
       "2            False  \n",
       "3            False  \n",
       "4            False  "
      ]
     },
     "execution_count": 259,
     "metadata": {},
     "output_type": "execute_result"
    }
   ],
   "source": [
    "all_enc_3.head()"
   ]
  },
  {
   "cell_type": "code",
   "execution_count": 260,
   "metadata": {
    "collapsed": true
   },
   "outputs": [],
   "source": [
    "all_enc_3.to_csv('all_enc_3.csv')"
   ]
  },
  {
   "cell_type": "markdown",
   "metadata": {},
   "source": [
    "Adding ICD codes"
   ]
  },
  {
   "cell_type": "code",
   "execution_count": 262,
   "metadata": {
    "collapsed": false
   },
   "outputs": [],
   "source": [
    "icd_for_enc=pd.read_pickle(path+'ICD_for_Enc.pickle')"
   ]
  },
  {
   "cell_type": "code",
   "execution_count": 263,
   "metadata": {
    "collapsed": true
   },
   "outputs": [
    {
     "name": "stdout",
     "output_type": "stream",
     "text": [
      "(207255, 7)\n",
      "<class 'pandas.core.frame.DataFrame'>\n",
      "Int64Index: 207255 entries, 194529 to 201888\n",
      "Data columns (total 7 columns):\n",
      "Person_ID            207255 non-null object\n",
      "Person_Nbr           207255 non-null int64\n",
      "Enc_ID               207255 non-null object\n",
      "Enc_Nbr              207255 non-null int64\n",
      "Enc_Timestamp        207255 non-null datetime64[ns]\n",
      "Diagnosis_Code_ID    207255 non-null object\n",
      "Description          207251 non-null object\n",
      "dtypes: datetime64[ns](1), int64(2), object(4)\n",
      "memory usage: 12.6+ MB\n"
     ]
    }
   ],
   "source": [
    "print icd_for_enc.shape\n",
    "icd_for_enc.info()"
   ]
  },
  {
   "cell_type": "code",
   "execution_count": 264,
   "metadata": {
    "collapsed": true
   },
   "outputs": [
    {
     "data": {
      "text/html": [
       "<div>\n",
       "<table border=\"1\" class=\"dataframe\">\n",
       "  <thead>\n",
       "    <tr style=\"text-align: right;\">\n",
       "      <th></th>\n",
       "      <th>Person_ID</th>\n",
       "      <th>Person_Nbr</th>\n",
       "      <th>Enc_ID</th>\n",
       "      <th>Enc_Nbr</th>\n",
       "      <th>Enc_Timestamp</th>\n",
       "      <th>Diagnosis_Code_ID</th>\n",
       "      <th>Description</th>\n",
       "    </tr>\n",
       "  </thead>\n",
       "  <tbody>\n",
       "    <tr>\n",
       "      <th>194529</th>\n",
       "      <td>80d3df88-dddf-5ad3-7cc1-b7b1ac6151fa</td>\n",
       "      <td>33</td>\n",
       "      <td>97825c51-4462-eade-1c1d-2baa3400c033</td>\n",
       "      <td>123227</td>\n",
       "      <td>2014-12-18 14:00:00</td>\n",
       "      <td>367.4</td>\n",
       "      <td>Presbyopia</td>\n",
       "    </tr>\n",
       "    <tr>\n",
       "      <th>194530</th>\n",
       "      <td>80d3df88-dddf-5ad3-7cc1-b7b1ac6151fa</td>\n",
       "      <td>33</td>\n",
       "      <td>97825c51-4462-eade-1c1d-2baa3400c033</td>\n",
       "      <td>123227</td>\n",
       "      <td>2014-12-18 14:00:00</td>\n",
       "      <td>373.00</td>\n",
       "      <td>Blepharitis unspecified</td>\n",
       "    </tr>\n",
       "    <tr>\n",
       "      <th>194531</th>\n",
       "      <td>80d3df88-dddf-5ad3-7cc1-b7b1ac6151fa</td>\n",
       "      <td>33</td>\n",
       "      <td>97825c51-4462-eade-1c1d-2baa3400c033</td>\n",
       "      <td>123227</td>\n",
       "      <td>2014-12-18 14:00:00</td>\n",
       "      <td>250.00</td>\n",
       "      <td>Diabetes mellitus without mention of complicat...</td>\n",
       "    </tr>\n",
       "    <tr>\n",
       "      <th>136763</th>\n",
       "      <td>adca6fa4-e7d4-d7f8-cf41-27056662d84b</td>\n",
       "      <td>89</td>\n",
       "      <td>a6d9d991-4ff4-79b5-304d-f1b2bff9d6d0</td>\n",
       "      <td>12870648</td>\n",
       "      <td>2012-10-16 03:45:00</td>\n",
       "      <td>365.02</td>\n",
       "      <td>Anatomical narrow angle borderline glaucoma</td>\n",
       "    </tr>\n",
       "    <tr>\n",
       "      <th>136764</th>\n",
       "      <td>adca6fa4-e7d4-d7f8-cf41-27056662d84b</td>\n",
       "      <td>89</td>\n",
       "      <td>a6d9d991-4ff4-79b5-304d-f1b2bff9d6d0</td>\n",
       "      <td>12870648</td>\n",
       "      <td>2012-10-16 03:45:00</td>\n",
       "      <td>250.00</td>\n",
       "      <td>Diabetes Mellitus Type 2 Uncomplicated</td>\n",
       "    </tr>\n",
       "  </tbody>\n",
       "</table>\n",
       "</div>"
      ],
      "text/plain": [
       "                                   Person_ID  Person_Nbr  \\\n",
       "194529  80d3df88-dddf-5ad3-7cc1-b7b1ac6151fa          33   \n",
       "194530  80d3df88-dddf-5ad3-7cc1-b7b1ac6151fa          33   \n",
       "194531  80d3df88-dddf-5ad3-7cc1-b7b1ac6151fa          33   \n",
       "136763  adca6fa4-e7d4-d7f8-cf41-27056662d84b          89   \n",
       "136764  adca6fa4-e7d4-d7f8-cf41-27056662d84b          89   \n",
       "\n",
       "                                      Enc_ID   Enc_Nbr       Enc_Timestamp  \\\n",
       "194529  97825c51-4462-eade-1c1d-2baa3400c033    123227 2014-12-18 14:00:00   \n",
       "194530  97825c51-4462-eade-1c1d-2baa3400c033    123227 2014-12-18 14:00:00   \n",
       "194531  97825c51-4462-eade-1c1d-2baa3400c033    123227 2014-12-18 14:00:00   \n",
       "136763  a6d9d991-4ff4-79b5-304d-f1b2bff9d6d0  12870648 2012-10-16 03:45:00   \n",
       "136764  a6d9d991-4ff4-79b5-304d-f1b2bff9d6d0  12870648 2012-10-16 03:45:00   \n",
       "\n",
       "       Diagnosis_Code_ID                                        Description  \n",
       "194529             367.4                                         Presbyopia  \n",
       "194530            373.00                            Blepharitis unspecified  \n",
       "194531            250.00  Diabetes mellitus without mention of complicat...  \n",
       "136763            365.02        Anatomical narrow angle borderline glaucoma  \n",
       "136764            250.00             Diabetes Mellitus Type 2 Uncomplicated  "
      ]
     },
     "execution_count": 264,
     "metadata": {},
     "output_type": "execute_result"
    }
   ],
   "source": [
    "icd_for_enc.head()"
   ]
  },
  {
   "cell_type": "code",
   "execution_count": 265,
   "metadata": {
    "collapsed": false
   },
   "outputs": [
    {
     "data": {
      "text/plain": [
       "64217"
      ]
     },
     "execution_count": 265,
     "metadata": {},
     "output_type": "execute_result"
    }
   ],
   "source": [
    "len(icd_for_enc.Enc_Nbr.unique())"
   ]
  },
  {
   "cell_type": "code",
   "execution_count": 266,
   "metadata": {
    "collapsed": true
   },
   "outputs": [
    {
     "data": {
      "text/plain": [
       "count     207255\n",
       "unique      2139\n",
       "top       250.00\n",
       "freq       18575\n",
       "Name: Diagnosis_Code_ID, dtype: object"
      ]
     },
     "execution_count": 266,
     "metadata": {},
     "output_type": "execute_result"
    }
   ],
   "source": [
    "icd_for_enc.Diagnosis_Code_ID.describe()"
   ]
  },
  {
   "cell_type": "code",
   "execution_count": 267,
   "metadata": {
    "collapsed": true
   },
   "outputs": [],
   "source": [
    "cols=[\"Enc_Nbr\",\"Person_Nbr\",\"Diagnosis_Code_ID\"]"
   ]
  },
  {
   "cell_type": "code",
   "execution_count": 268,
   "metadata": {
    "collapsed": true
   },
   "outputs": [],
   "source": [
    "icd=icd_for_enc[cols]"
   ]
  },
  {
   "cell_type": "code",
   "execution_count": 269,
   "metadata": {
    "collapsed": true
   },
   "outputs": [],
   "source": [
    "icd=icd.reset_index()"
   ]
  },
  {
   "cell_type": "code",
   "execution_count": 270,
   "metadata": {
    "collapsed": true
   },
   "outputs": [
    {
     "data": {
      "text/html": [
       "<div>\n",
       "<table border=\"1\" class=\"dataframe\">\n",
       "  <thead>\n",
       "    <tr style=\"text-align: right;\">\n",
       "      <th></th>\n",
       "      <th>index</th>\n",
       "      <th>Enc_Nbr</th>\n",
       "      <th>Person_Nbr</th>\n",
       "      <th>Diagnosis_Code_ID</th>\n",
       "    </tr>\n",
       "  </thead>\n",
       "  <tbody>\n",
       "    <tr>\n",
       "      <th>0</th>\n",
       "      <td>194529</td>\n",
       "      <td>123227</td>\n",
       "      <td>33</td>\n",
       "      <td>367.4</td>\n",
       "    </tr>\n",
       "    <tr>\n",
       "      <th>1</th>\n",
       "      <td>194530</td>\n",
       "      <td>123227</td>\n",
       "      <td>33</td>\n",
       "      <td>373.00</td>\n",
       "    </tr>\n",
       "    <tr>\n",
       "      <th>2</th>\n",
       "      <td>194531</td>\n",
       "      <td>123227</td>\n",
       "      <td>33</td>\n",
       "      <td>250.00</td>\n",
       "    </tr>\n",
       "    <tr>\n",
       "      <th>3</th>\n",
       "      <td>136763</td>\n",
       "      <td>12870648</td>\n",
       "      <td>89</td>\n",
       "      <td>365.02</td>\n",
       "    </tr>\n",
       "    <tr>\n",
       "      <th>4</th>\n",
       "      <td>136764</td>\n",
       "      <td>12870648</td>\n",
       "      <td>89</td>\n",
       "      <td>250.00</td>\n",
       "    </tr>\n",
       "  </tbody>\n",
       "</table>\n",
       "</div>"
      ],
      "text/plain": [
       "    index   Enc_Nbr  Person_Nbr Diagnosis_Code_ID\n",
       "0  194529    123227          33             367.4\n",
       "1  194530    123227          33            373.00\n",
       "2  194531    123227          33            250.00\n",
       "3  136763  12870648          89            365.02\n",
       "4  136764  12870648          89            250.00"
      ]
     },
     "execution_count": 270,
     "metadata": {},
     "output_type": "execute_result"
    }
   ],
   "source": [
    "icd.head()"
   ]
  },
  {
   "cell_type": "code",
   "execution_count": null,
   "metadata": {
    "collapsed": true
   },
   "outputs": [],
   "source": [
    "count=1\n",
    "index=0\n",
    "alld_in=0\n",
    "alld=pd.DataFrame(columns=[\"Enc_Nbr\",\"ICD\",\"Num_Encs\"])\n",
    "while index<len(icd):\n",
    "    cur=icd.loc[index,\"Enc_Nbr\"]\n",
    "    alld.loc[alld_in,\"Enc_Nbr\"]=cur\n",
    "    nex=icd.loc[index+1,\"Enc_Nbr\"]\n",
    "    alld.loc[alld_in,\"ICD\"]=icd.loc[index,\"Diagnosis_Code_ID\"]\n",
    "    loop_count=1\n",
    "    while cur==nex:\n",
    "        alld.loc[alld_in,\"ICD\"] = alld.loc[alld_in,\"ICD\"] + \",\"+ icd.loc[index+1,\"Diagnosis_Code_ID\"]\n",
    "        index=index+1\n",
    "        nex=icd.loc[index+1,\"Enc_Nbr\"]\n",
    "        loop_count=loop_count+1\n",
    "        alld.loc[alld_in,\"Num_Encs\"] = loop_count\n",
    "    if alld.loc[alld_in,\"Num_Encs\"] != loop_count :\n",
    "        alld.loc[alld_in,\"Num_Encs\"] = count  \n",
    "    alld_in=alld_in+1\n",
    "    index=index+1"
   ]
  },
  {
   "cell_type": "code",
   "execution_count": 273,
   "metadata": {
    "collapsed": false
   },
   "outputs": [
    {
     "data": {
      "text/plain": [
       "(64217, 4)"
      ]
     },
     "execution_count": 273,
     "metadata": {},
     "output_type": "execute_result"
    }
   ],
   "source": [
    "alld.shape"
   ]
  },
  {
   "cell_type": "code",
   "execution_count": 275,
   "metadata": {
    "collapsed": true
   },
   "outputs": [],
   "source": [
    "alld.to_csv('alld.csv')"
   ]
  },
  {
   "cell_type": "code",
   "execution_count": 272,
   "metadata": {
    "collapsed": true
   },
   "outputs": [],
   "source": [
    "alld=pd.read_csv(interpath+'alld.csv')"
   ]
  },
  {
   "cell_type": "code",
   "execution_count": 360,
   "metadata": {
    "collapsed": true
   },
   "outputs": [
    {
     "ename": "NameError",
     "evalue": "name 'alld' is not defined",
     "output_type": "error",
     "traceback": [
      "\u001b[0;31m---------------------------------------------------------------------------\u001b[0m",
      "\u001b[0;31mNameError\u001b[0m                                 Traceback (most recent call last)",
      "\u001b[0;32m<ipython-input-360-6698ba6b13b3>\u001b[0m in \u001b[0;36m<module>\u001b[0;34m()\u001b[0m\n\u001b[0;32m----> 1\u001b[0;31m \u001b[0malld\u001b[0m\u001b[1;33m.\u001b[0m\u001b[0mhead\u001b[0m\u001b[1;33m(\u001b[0m\u001b[1;33m)\u001b[0m\u001b[1;33m\u001b[0m\u001b[0m\n\u001b[0m",
      "\u001b[0;31mNameError\u001b[0m: name 'alld' is not defined"
     ]
    }
   ],
   "source": [
    "alld.head()"
   ]
  },
  {
   "cell_type": "code",
   "execution_count": 280,
   "metadata": {
    "collapsed": false
   },
   "outputs": [],
   "source": [
    "all_enc_4=pd.merge(all_enc_3,alld, how='left',on='Enc_Nbr')"
   ]
  },
  {
   "cell_type": "code",
   "execution_count": 14,
   "metadata": {
    "collapsed": true
   },
   "outputs": [
    {
     "ename": "NameError",
     "evalue": "name 'all_enc_4' is not defined",
     "output_type": "error",
     "traceback": [
      "\u001b[0;31m---------------------------------------------------------------------------\u001b[0m",
      "\u001b[0;31mNameError\u001b[0m                                 Traceback (most recent call last)",
      "\u001b[0;32m<ipython-input-14-5c2691f40fe1>\u001b[0m in \u001b[0;36m<module>\u001b[0;34m()\u001b[0m\n\u001b[0;32m----> 1\u001b[0;31m \u001b[0mall_enc_4\u001b[0m\u001b[1;33m.\u001b[0m\u001b[0mshape\u001b[0m\u001b[1;33m\u001b[0m\u001b[0m\n\u001b[0m",
      "\u001b[0;31mNameError\u001b[0m: name 'all_enc_4' is not defined"
     ]
    }
   ],
   "source": [
    "all_enc_4.shape"
   ]
  },
  {
   "cell_type": "markdown",
   "metadata": {},
   "source": [
    "Creating single ecnounter record for a person "
   ]
  },
  {
   "cell_type": "code",
   "execution_count": 15,
   "metadata": {
    "collapsed": false
   },
   "outputs": [],
   "source": [
    "ale=pd.read_csv(interpath+'all_enc_4.csv')"
   ]
  },
  {
   "cell_type": "code",
   "execution_count": 19,
   "metadata": {
    "collapsed": true
   },
   "outputs": [
    {
     "data": {
      "text/html": [
       "<div>\n",
       "<table border=\"1\" class=\"dataframe\">\n",
       "  <thead>\n",
       "    <tr style=\"text-align: right;\">\n",
       "      <th></th>\n",
       "      <th>index</th>\n",
       "      <th>Enc_Nbr</th>\n",
       "      <th>Person_Nbr</th>\n",
       "      <th>Enc_Date</th>\n",
       "      <th>Smoking_Status</th>\n",
       "      <th>Primary_Payer</th>\n",
       "      <th>A1C</th>\n",
       "      <th>BMI</th>\n",
       "      <th>Glucose</th>\n",
       "      <th>BP_Systolic_x</th>\n",
       "      <th>BP_Diastolic_x</th>\n",
       "      <th>ICD</th>\n",
       "      <th>Num_Encs</th>\n",
       "    </tr>\n",
       "  </thead>\n",
       "  <tbody>\n",
       "    <tr>\n",
       "      <th>0</th>\n",
       "      <td>0.0</td>\n",
       "      <td>12870648.0</td>\n",
       "      <td>89.0</td>\n",
       "      <td>2012-10-16 03:45:00</td>\n",
       "      <td>Former smoker</td>\n",
       "      <td>Adv BCBS HMO</td>\n",
       "      <td>0.0</td>\n",
       "      <td>26.04</td>\n",
       "      <td>140.0</td>\n",
       "      <td>140.0</td>\n",
       "      <td>88.0</td>\n",
       "      <td>365.02,250.00</td>\n",
       "      <td>2.0</td>\n",
       "    </tr>\n",
       "    <tr>\n",
       "      <th>1</th>\n",
       "      <td>1.0</td>\n",
       "      <td>4126172.0</td>\n",
       "      <td>89.0</td>\n",
       "      <td>2014-03-12 15:30:00</td>\n",
       "      <td>Former smoker</td>\n",
       "      <td>Adv BCBS HMO</td>\n",
       "      <td>0.0</td>\n",
       "      <td>29.16</td>\n",
       "      <td>120.0</td>\n",
       "      <td>128.0</td>\n",
       "      <td>78.0</td>\n",
       "      <td>362.81,365.02,250.00</td>\n",
       "      <td>3.0</td>\n",
       "    </tr>\n",
       "    <tr>\n",
       "      <th>2</th>\n",
       "      <td>2.0</td>\n",
       "      <td>9217142.0</td>\n",
       "      <td>89.0</td>\n",
       "      <td>2014-04-17 18:45:00</td>\n",
       "      <td>Former smoker</td>\n",
       "      <td>Adv BCBS HMO</td>\n",
       "      <td>0.0</td>\n",
       "      <td>29.16</td>\n",
       "      <td>130.0</td>\n",
       "      <td>132.0</td>\n",
       "      <td>86.0</td>\n",
       "      <td>365.02</td>\n",
       "      <td>1.0</td>\n",
       "    </tr>\n",
       "    <tr>\n",
       "      <th>3</th>\n",
       "      <td>3.0</td>\n",
       "      <td>14968450.0</td>\n",
       "      <td>89.0</td>\n",
       "      <td>2014-05-25 10:45:00</td>\n",
       "      <td>Former smoker</td>\n",
       "      <td>Adv BCBS HMO</td>\n",
       "      <td>0.0</td>\n",
       "      <td>26.38</td>\n",
       "      <td>130.0</td>\n",
       "      <td>78.0</td>\n",
       "      <td>62.0</td>\n",
       "      <td>250.00,365.02,365.23,365.23</td>\n",
       "      <td>4.0</td>\n",
       "    </tr>\n",
       "    <tr>\n",
       "      <th>4</th>\n",
       "      <td>4.0</td>\n",
       "      <td>14537805.0</td>\n",
       "      <td>89.0</td>\n",
       "      <td>2015-03-14 15:30:00</td>\n",
       "      <td>Former smoker</td>\n",
       "      <td>Adv BCBS HMO</td>\n",
       "      <td>0.0</td>\n",
       "      <td>0.00</td>\n",
       "      <td>0.0</td>\n",
       "      <td>125.0</td>\n",
       "      <td>73.0</td>\n",
       "      <td>365.06</td>\n",
       "      <td>1.0</td>\n",
       "    </tr>\n",
       "  </tbody>\n",
       "</table>\n",
       "</div>"
      ],
      "text/plain": [
       "   index     Enc_Nbr  Person_Nbr             Enc_Date Smoking_Status  \\\n",
       "0    0.0  12870648.0        89.0  2012-10-16 03:45:00  Former smoker   \n",
       "1    1.0   4126172.0        89.0  2014-03-12 15:30:00  Former smoker   \n",
       "2    2.0   9217142.0        89.0  2014-04-17 18:45:00  Former smoker   \n",
       "3    3.0  14968450.0        89.0  2014-05-25 10:45:00  Former smoker   \n",
       "4    4.0  14537805.0        89.0  2015-03-14 15:30:00  Former smoker   \n",
       "\n",
       "  Primary_Payer  A1C    BMI  Glucose  BP_Systolic_x  BP_Diastolic_x  \\\n",
       "0  Adv BCBS HMO  0.0  26.04    140.0          140.0            88.0   \n",
       "1  Adv BCBS HMO  0.0  29.16    120.0          128.0            78.0   \n",
       "2  Adv BCBS HMO  0.0  29.16    130.0          132.0            86.0   \n",
       "3  Adv BCBS HMO  0.0  26.38    130.0           78.0            62.0   \n",
       "4  Adv BCBS HMO  0.0   0.00      0.0          125.0            73.0   \n",
       "\n",
       "                           ICD  Num_Encs  \n",
       "0                365.02,250.00       2.0  \n",
       "1         362.81,365.02,250.00       3.0  \n",
       "2                       365.02       1.0  \n",
       "3  250.00,365.02,365.23,365.23       4.0  \n",
       "4                       365.06       1.0  "
      ]
     },
     "execution_count": 19,
     "metadata": {},
     "output_type": "execute_result"
    }
   ],
   "source": [
    "ale.head()"
   ]
  },
  {
   "cell_type": "code",
   "execution_count": 17,
   "metadata": {
    "collapsed": true
   },
   "outputs": [
    {
     "ename": "KeyError",
     "evalue": "'Duplicate_Exists'",
     "output_type": "error",
     "traceback": [
      "\u001b[0;31m---------------------------------------------------------------------------\u001b[0m",
      "\u001b[0;31mKeyError\u001b[0m                                  Traceback (most recent call last)",
      "\u001b[0;32m<ipython-input-17-7744eab03402>\u001b[0m in \u001b[0;36m<module>\u001b[0;34m()\u001b[0m\n\u001b[0;32m----> 1\u001b[0;31m \u001b[1;32mdel\u001b[0m \u001b[0male\u001b[0m\u001b[1;33m[\u001b[0m\u001b[1;34m\"Duplicate_Exists\"\u001b[0m\u001b[1;33m]\u001b[0m\u001b[1;33m\u001b[0m\u001b[0m\n\u001b[0m\u001b[1;32m      2\u001b[0m \u001b[1;32mdel\u001b[0m \u001b[0male\u001b[0m\u001b[1;33m[\u001b[0m\u001b[1;34m\"Unnamed: 0\"\u001b[0m\u001b[1;33m]\u001b[0m\u001b[1;33m\u001b[0m\u001b[0m\n",
      "\u001b[0;32mC:\\Users\\mom1\\Anaconda2\\lib\\site-packages\\pandas\\core\\generic.pyc\u001b[0m in \u001b[0;36m__delitem__\u001b[0;34m(self, key)\u001b[0m\n\u001b[1;32m   1604\u001b[0m             \u001b[1;31m# there was no match, this call should raise the appropriate\u001b[0m\u001b[1;33m\u001b[0m\u001b[1;33m\u001b[0m\u001b[0m\n\u001b[1;32m   1605\u001b[0m             \u001b[1;31m# exception:\u001b[0m\u001b[1;33m\u001b[0m\u001b[1;33m\u001b[0m\u001b[0m\n\u001b[0;32m-> 1606\u001b[0;31m             \u001b[0mself\u001b[0m\u001b[1;33m.\u001b[0m\u001b[0m_data\u001b[0m\u001b[1;33m.\u001b[0m\u001b[0mdelete\u001b[0m\u001b[1;33m(\u001b[0m\u001b[0mkey\u001b[0m\u001b[1;33m)\u001b[0m\u001b[1;33m\u001b[0m\u001b[0m\n\u001b[0m\u001b[1;32m   1607\u001b[0m \u001b[1;33m\u001b[0m\u001b[0m\n\u001b[1;32m   1608\u001b[0m         \u001b[1;31m# delete from the caches\u001b[0m\u001b[1;33m\u001b[0m\u001b[1;33m\u001b[0m\u001b[0m\n",
      "\u001b[0;32mC:\\Users\\mom1\\Anaconda2\\lib\\site-packages\\pandas\\core\\internals.pyc\u001b[0m in \u001b[0;36mdelete\u001b[0;34m(self, item)\u001b[0m\n\u001b[1;32m   3347\u001b[0m         \u001b[0mDelete\u001b[0m \u001b[0mselected\u001b[0m \u001b[0mitem\u001b[0m \u001b[1;33m(\u001b[0m\u001b[0mitems\u001b[0m \u001b[1;32mif\u001b[0m \u001b[0mnon\u001b[0m\u001b[1;33m-\u001b[0m\u001b[0munique\u001b[0m\u001b[1;33m)\u001b[0m \u001b[1;32min\u001b[0m\u001b[1;33m-\u001b[0m\u001b[0mplace\u001b[0m\u001b[1;33m.\u001b[0m\u001b[1;33m\u001b[0m\u001b[0m\n\u001b[1;32m   3348\u001b[0m         \"\"\"\n\u001b[0;32m-> 3349\u001b[0;31m         \u001b[0mindexer\u001b[0m \u001b[1;33m=\u001b[0m \u001b[0mself\u001b[0m\u001b[1;33m.\u001b[0m\u001b[0mitems\u001b[0m\u001b[1;33m.\u001b[0m\u001b[0mget_loc\u001b[0m\u001b[1;33m(\u001b[0m\u001b[0mitem\u001b[0m\u001b[1;33m)\u001b[0m\u001b[1;33m\u001b[0m\u001b[0m\n\u001b[0m\u001b[1;32m   3350\u001b[0m \u001b[1;33m\u001b[0m\u001b[0m\n\u001b[1;32m   3351\u001b[0m         \u001b[0mis_deleted\u001b[0m \u001b[1;33m=\u001b[0m \u001b[0mnp\u001b[0m\u001b[1;33m.\u001b[0m\u001b[0mzeros\u001b[0m\u001b[1;33m(\u001b[0m\u001b[0mself\u001b[0m\u001b[1;33m.\u001b[0m\u001b[0mshape\u001b[0m\u001b[1;33m[\u001b[0m\u001b[1;36m0\u001b[0m\u001b[1;33m]\u001b[0m\u001b[1;33m,\u001b[0m \u001b[0mdtype\u001b[0m\u001b[1;33m=\u001b[0m\u001b[0mnp\u001b[0m\u001b[1;33m.\u001b[0m\u001b[0mbool_\u001b[0m\u001b[1;33m)\u001b[0m\u001b[1;33m\u001b[0m\u001b[0m\n",
      "\u001b[0;32mC:\\Users\\mom1\\Anaconda2\\lib\\site-packages\\pandas\\indexes\\base.pyc\u001b[0m in \u001b[0;36mget_loc\u001b[0;34m(self, key, method, tolerance)\u001b[0m\n\u001b[1;32m   1945\u001b[0m                 \u001b[1;32mreturn\u001b[0m \u001b[0mself\u001b[0m\u001b[1;33m.\u001b[0m\u001b[0m_engine\u001b[0m\u001b[1;33m.\u001b[0m\u001b[0mget_loc\u001b[0m\u001b[1;33m(\u001b[0m\u001b[0mkey\u001b[0m\u001b[1;33m)\u001b[0m\u001b[1;33m\u001b[0m\u001b[0m\n\u001b[1;32m   1946\u001b[0m             \u001b[1;32mexcept\u001b[0m \u001b[0mKeyError\u001b[0m\u001b[1;33m:\u001b[0m\u001b[1;33m\u001b[0m\u001b[0m\n\u001b[0;32m-> 1947\u001b[0;31m                 \u001b[1;32mreturn\u001b[0m \u001b[0mself\u001b[0m\u001b[1;33m.\u001b[0m\u001b[0m_engine\u001b[0m\u001b[1;33m.\u001b[0m\u001b[0mget_loc\u001b[0m\u001b[1;33m(\u001b[0m\u001b[0mself\u001b[0m\u001b[1;33m.\u001b[0m\u001b[0m_maybe_cast_indexer\u001b[0m\u001b[1;33m(\u001b[0m\u001b[0mkey\u001b[0m\u001b[1;33m)\u001b[0m\u001b[1;33m)\u001b[0m\u001b[1;33m\u001b[0m\u001b[0m\n\u001b[0m\u001b[1;32m   1948\u001b[0m \u001b[1;33m\u001b[0m\u001b[0m\n\u001b[1;32m   1949\u001b[0m         \u001b[0mindexer\u001b[0m \u001b[1;33m=\u001b[0m \u001b[0mself\u001b[0m\u001b[1;33m.\u001b[0m\u001b[0mget_indexer\u001b[0m\u001b[1;33m(\u001b[0m\u001b[1;33m[\u001b[0m\u001b[0mkey\u001b[0m\u001b[1;33m]\u001b[0m\u001b[1;33m,\u001b[0m \u001b[0mmethod\u001b[0m\u001b[1;33m=\u001b[0m\u001b[0mmethod\u001b[0m\u001b[1;33m,\u001b[0m \u001b[0mtolerance\u001b[0m\u001b[1;33m=\u001b[0m\u001b[0mtolerance\u001b[0m\u001b[1;33m)\u001b[0m\u001b[1;33m\u001b[0m\u001b[0m\n",
      "\u001b[0;32mpandas\\index.pyx\u001b[0m in \u001b[0;36mpandas.index.IndexEngine.get_loc (pandas\\index.c:4154)\u001b[0;34m()\u001b[0m\n",
      "\u001b[0;32mpandas\\index.pyx\u001b[0m in \u001b[0;36mpandas.index.IndexEngine.get_loc (pandas\\index.c:4018)\u001b[0;34m()\u001b[0m\n",
      "\u001b[0;32mpandas\\hashtable.pyx\u001b[0m in \u001b[0;36mpandas.hashtable.PyObjectHashTable.get_item (pandas\\hashtable.c:12368)\u001b[0;34m()\u001b[0m\n",
      "\u001b[0;32mpandas\\hashtable.pyx\u001b[0m in \u001b[0;36mpandas.hashtable.PyObjectHashTable.get_item (pandas\\hashtable.c:12322)\u001b[0;34m()\u001b[0m\n",
      "\u001b[0;31mKeyError\u001b[0m: 'Duplicate_Exists'"
     ]
    }
   ],
   "source": [
    "del ale[\"Duplicate_Exists\"]\n",
    "del ale[\"Unnamed: 0\"]"
   ]
  },
  {
   "cell_type": "markdown",
   "metadata": {},
   "source": [
    "Split Enc_Date into Enc_Yr and Enc_Time"
   ]
  },
  {
   "cell_type": "code",
   "execution_count": null,
   "metadata": {
    "collapsed": true
   },
   "outputs": [],
   "source": [
    "ale[\"Enc_Yr\"]=ale.Enc_Date.str.split(\" \",1,expand=True)[0]\n",
    "ale[\"Enc_Time\"]=ale.Enc_Date.str.split(\" \",1,expand=True)[1]\n",
    "print ale.shape\n",
    "ale.columns"
   ]
  },
  {
   "cell_type": "code",
   "execution_count": 214,
   "metadata": {
    "collapsed": true
   },
   "outputs": [],
   "source": [
    "ale['Enc_Yr'] =  pd.to_datetime(ale['Enc_Yr'], format='%Y-%m-%d')"
   ]
  },
  {
   "cell_type": "code",
   "execution_count": 215,
   "metadata": {
    "collapsed": true
   },
   "outputs": [
    {
     "name": "stdout",
     "output_type": "stream",
     "text": [
      "<class 'pandas.core.frame.DataFrame'>\n",
      "RangeIndex: 80946 entries, 0 to 80945\n",
      "Data columns (total 14 columns):\n",
      "Enc_Nbr           80946 non-null float64\n",
      "Person_Nbr        80946 non-null float64\n",
      "Enc_Date          80946 non-null object\n",
      "Smoking_Status    57718 non-null object\n",
      "Primary_Payer     80946 non-null object\n",
      "A1C               80946 non-null float64\n",
      "BMI               80946 non-null float64\n",
      "Glucose           80946 non-null float64\n",
      "BP_Systolic_x     80946 non-null float64\n",
      "BP_Diastolic_x    80946 non-null float64\n",
      "ICD               61861 non-null object\n",
      "Num_Encs          61861 non-null float64\n",
      "Enc_Yr            80946 non-null datetime64[ns]\n",
      "Enc_Time          80946 non-null object\n",
      "dtypes: datetime64[ns](1), float64(8), object(5)\n",
      "memory usage: 8.6+ MB\n"
     ]
    }
   ],
   "source": [
    "ale.info()"
   ]
  },
  {
   "cell_type": "markdown",
   "metadata": {},
   "source": [
    "Split data into two tables, one with single encounters second with multiple encounters"
   ]
  },
  {
   "cell_type": "code",
   "execution_count": 210,
   "metadata": {
    "collapsed": false
   },
   "outputs": [],
   "source": [
    "lastyrcols=['Enc_Nbr', 'Person_Nbr', 'Smoking_Status',\n",
    "       'Primary_Payer', 'A1C', 'BMI', 'Glucose', 'BP_Systolic',\n",
    "       'BP_Diastolic','Enc_Yr', 'Enc_Time']"
   ]
  },
  {
   "cell_type": "code",
   "execution_count": 216,
   "metadata": {
    "collapsed": false
   },
   "outputs": [],
   "source": [
    "index_lsyr=0\n",
    "index_num_encs=0\n",
    "index_ale1=0\n",
    "lastyr_encs=pd.DataFrame(columns=lastyrcols)\n",
    "ale1=pd.DataFrame(columns=lastyrcols)\n",
    "num_encs_total=pd.DataFrame(columns=[\"Person_Nbr\",\"Total_Num_Encs\",\"Total_Num_Enc_Lastyr\"])\n",
    "for name,group in ale.groupby([\"Person_Nbr\"]):\n",
    "    num_encs_total.loc[index_num_encs,\"Person_Nbr\"]=group.get_value(index=0,col=1,takeable=True)\n",
    "    num_encs_total.loc[index_num_encs,\"Total_Num_Encs\"]=len(group.get_values())\n",
    "    if len(group.get_values())>1:\n",
    "        recentdate=group['Enc_Yr'].max()\n",
    "        recentyear=recentdate.year\n",
    "        previuosyear=recentyear-1\n",
    "        num_enc_lsyr=0\n",
    "        for i in range(len(group.get_values())):\n",
    "            enc_yr= group.get_value(index=i,col=12,takeable=True).year\n",
    "            if previuosyear<=enc_yr<=recentyear:\n",
    "                num_enc_lsyr=num_enc_lsyr+1\n",
    "                lastyr_encs.loc[index_lsyr,\"Enc_Nbr\"]=group.get_value(index=i,col=0,takeable=True)\n",
    "                lastyr_encs.loc[index_lsyr, 'Person_Nbr']=group.get_value(index=i,col=1,takeable=True)\n",
    "                lastyr_encs.loc[index_lsyr, 'Smoking_Status']=group.get_value(index=i,col=3,takeable=True)\n",
    "                lastyr_encs.loc[index_lsyr,'Primary_Payer']=group.get_value(index=i,col=4,takeable=True)\n",
    "                lastyr_encs.loc[index_lsyr,'A1C']=group.get_value(index=i,col=5,takeable=True)\n",
    "                lastyr_encs.loc[index_lsyr, 'BMI']=group.get_value(index=i,col=6,takeable=True)\n",
    "                lastyr_encs.loc[index_lsyr, 'Glucose']=group.get_value(index=i,col=7,takeable=True)\n",
    "                lastyr_encs.loc[index_lsyr, 'BP_Systolic']=group.get_value(index=i,col=8,takeable=True)\n",
    "                lastyr_encs.loc[index_lsyr,'BP_Diastolic']=group.get_value(index=i,col=9,takeable=True)\n",
    "                lastyr_encs.loc[index_lsyr,'Enc_Yr']=group.get_value(index=i,col=12,takeable=True)\n",
    "                lastyr_encs.loc[index_lsyr,'Enc_Time']=group.get_value(index=i,col=13,takeable=True)\n",
    "                index_lsyr=index_lsyr+1\n",
    "        num_encs_total.loc[index_num_encs,\"Total_Num_Enc_Lastyr\"]=num_enc_lsyr\n",
    "    else:\n",
    "        ale1.loc[index_ale1,'Enc_Nbr']=group.get_value(index=0,col=0,takeable=True)\n",
    "        ale1.loc[index_ale1, 'Person_Nbr']=group.get_value(index=0,col=1,takeable=True)\n",
    "        ale1.loc[index_ale1, 'Smoking_Status']=group.get_value(index=0,col=3,takeable=True)\n",
    "        ale1.loc[index_ale1,'Primary_Payer']=group.get_value(index=0,col=4,takeable=True)\n",
    "        ale1.loc[index_ale1,'A1C']=group.get_value(index=0,col=5,takeable=True)\n",
    "        ale1.loc[index_ale1, 'BMI']=group.get_value(index=0,col=6,takeable=True)\n",
    "        ale1.loc[index_ale1, 'Glucose']=group.get_value(index=0,col=7,takeable=True)\n",
    "        ale1.loc[index_ale1, 'BP_Systolic']=group.get_value(index=0,col=8,takeable=True)\n",
    "        ale1.loc[index_ale1,'BP_Diastolic']=group.get_value(index=0,col=9,takeable=True)\n",
    "        ale1.loc[index_ale1,'Enc_Yr']=group.get_value(index=0,col=12,takeable=True)\n",
    "        ale1.loc[index_ale1,'Enc_Time']=group.get_value(index=0,col=13,takeable=True)\n",
    "        index_ale1=index_ale1+1\n",
    "        num_encs_total.loc[index_num_encs,\"Total_Num_Enc_Lastyr\"]=1\n",
    "    index_num_encs=index_num_encs+1"
   ]
  },
  {
   "cell_type": "markdown",
   "metadata": {
    "collapsed": false
   },
   "source": [
    "Table with total number encunters and the total number encunters in the most recent last year  for each person"
   ]
  },
  {
   "cell_type": "code",
   "execution_count": 218,
   "metadata": {
    "collapsed": false
   },
   "outputs": [
    {
     "name": "stdout",
     "output_type": "stream",
     "text": [
      "(16087, 3)\n"
     ]
    },
    {
     "data": {
      "text/html": [
       "<div>\n",
       "<table border=\"1\" class=\"dataframe\">\n",
       "  <thead>\n",
       "    <tr style=\"text-align: right;\">\n",
       "      <th></th>\n",
       "      <th>Person_Nbr</th>\n",
       "      <th>Total_Num_Encs</th>\n",
       "      <th>Total_Num_Enc_Lastyr</th>\n",
       "    </tr>\n",
       "  </thead>\n",
       "  <tbody>\n",
       "    <tr>\n",
       "      <th>0</th>\n",
       "      <td>33</td>\n",
       "      <td>1</td>\n",
       "      <td>1</td>\n",
       "    </tr>\n",
       "    <tr>\n",
       "      <th>1</th>\n",
       "      <td>89</td>\n",
       "      <td>9</td>\n",
       "      <td>5</td>\n",
       "    </tr>\n",
       "    <tr>\n",
       "      <th>2</th>\n",
       "      <td>146</td>\n",
       "      <td>5</td>\n",
       "      <td>3</td>\n",
       "    </tr>\n",
       "    <tr>\n",
       "      <th>3</th>\n",
       "      <td>196</td>\n",
       "      <td>2</td>\n",
       "      <td>2</td>\n",
       "    </tr>\n",
       "    <tr>\n",
       "      <th>4</th>\n",
       "      <td>327</td>\n",
       "      <td>1</td>\n",
       "      <td>1</td>\n",
       "    </tr>\n",
       "  </tbody>\n",
       "</table>\n",
       "</div>"
      ],
      "text/plain": [
       "  Person_Nbr Total_Num_Encs Total_Num_Enc_Lastyr\n",
       "0         33              1                    1\n",
       "1         89              9                    5\n",
       "2        146              5                    3\n",
       "3        196              2                    2\n",
       "4        327              1                    1"
      ]
     },
     "execution_count": 218,
     "metadata": {},
     "output_type": "execute_result"
    }
   ],
   "source": [
    "print num_encs_total.shape\n",
    "num_encs_total.head()"
   ]
  },
  {
   "cell_type": "markdown",
   "metadata": {},
   "source": [
    "Table with single encounters"
   ]
  },
  {
   "cell_type": "code",
   "execution_count": 219,
   "metadata": {
    "collapsed": true
   },
   "outputs": [
    {
     "name": "stdout",
     "output_type": "stream",
     "text": [
      "(4545, 11)\n"
     ]
    },
    {
     "data": {
      "text/html": [
       "<div>\n",
       "<table border=\"1\" class=\"dataframe\">\n",
       "  <thead>\n",
       "    <tr style=\"text-align: right;\">\n",
       "      <th></th>\n",
       "      <th>Enc_Nbr</th>\n",
       "      <th>Person_Nbr</th>\n",
       "      <th>Smoking_Status</th>\n",
       "      <th>Primary_Payer</th>\n",
       "      <th>A1C</th>\n",
       "      <th>BMI</th>\n",
       "      <th>Glucose</th>\n",
       "      <th>BP_Systolic</th>\n",
       "      <th>BP_Diastolic</th>\n",
       "      <th>Enc_Yr</th>\n",
       "      <th>Enc_Time</th>\n",
       "    </tr>\n",
       "  </thead>\n",
       "  <tbody>\n",
       "    <tr>\n",
       "      <th>0</th>\n",
       "      <td>123227</td>\n",
       "      <td>33</td>\n",
       "      <td>Never smoker</td>\n",
       "      <td>Premier Vision Plan</td>\n",
       "      <td>8</td>\n",
       "      <td>0</td>\n",
       "      <td>130</td>\n",
       "      <td>59</td>\n",
       "      <td>39</td>\n",
       "      <td>2014-12-18 00:00:00</td>\n",
       "      <td>14:00:00</td>\n",
       "    </tr>\n",
       "    <tr>\n",
       "      <th>1</th>\n",
       "      <td>1.43611e+07</td>\n",
       "      <td>327</td>\n",
       "      <td>Never smoker</td>\n",
       "      <td>Medicare</td>\n",
       "      <td>0</td>\n",
       "      <td>0</td>\n",
       "      <td>121</td>\n",
       "      <td>0</td>\n",
       "      <td>0</td>\n",
       "      <td>2011-12-04 00:00:00</td>\n",
       "      <td>11:00:00</td>\n",
       "    </tr>\n",
       "    <tr>\n",
       "      <th>2</th>\n",
       "      <td>1.17838e+07</td>\n",
       "      <td>335</td>\n",
       "      <td>Former smoker</td>\n",
       "      <td>Blue Shield Of Illinois PPO</td>\n",
       "      <td>0</td>\n",
       "      <td>0</td>\n",
       "      <td>103</td>\n",
       "      <td>0</td>\n",
       "      <td>0</td>\n",
       "      <td>2013-10-16 00:00:00</td>\n",
       "      <td>17:45:00</td>\n",
       "    </tr>\n",
       "    <tr>\n",
       "      <th>3</th>\n",
       "      <td>6.0747e+06</td>\n",
       "      <td>1515</td>\n",
       "      <td>Never smoker</td>\n",
       "      <td>VOHHA</td>\n",
       "      <td>0</td>\n",
       "      <td>0</td>\n",
       "      <td>200</td>\n",
       "      <td>130</td>\n",
       "      <td>80</td>\n",
       "      <td>2012-10-01 00:00:00</td>\n",
       "      <td>15:30:00</td>\n",
       "    </tr>\n",
       "    <tr>\n",
       "      <th>4</th>\n",
       "      <td>8.58324e+06</td>\n",
       "      <td>1519</td>\n",
       "      <td>Former smoker</td>\n",
       "      <td>Opticare CountyCare</td>\n",
       "      <td>0</td>\n",
       "      <td>37.11</td>\n",
       "      <td>118</td>\n",
       "      <td>110</td>\n",
       "      <td>80</td>\n",
       "      <td>2014-07-01 00:00:00</td>\n",
       "      <td>17:45:00</td>\n",
       "    </tr>\n",
       "  </tbody>\n",
       "</table>\n",
       "</div>"
      ],
      "text/plain": [
       "       Enc_Nbr Person_Nbr Smoking_Status                Primary_Payer A1C  \\\n",
       "0       123227         33   Never smoker          Premier Vision Plan   8   \n",
       "1  1.43611e+07        327   Never smoker                     Medicare   0   \n",
       "2  1.17838e+07        335  Former smoker  Blue Shield Of Illinois PPO   0   \n",
       "3   6.0747e+06       1515   Never smoker                        VOHHA   0   \n",
       "4  8.58324e+06       1519  Former smoker          Opticare CountyCare   0   \n",
       "\n",
       "     BMI Glucose BP_Systolic BP_Diastolic               Enc_Yr  Enc_Time  \n",
       "0      0     130          59           39  2014-12-18 00:00:00  14:00:00  \n",
       "1      0     121           0            0  2011-12-04 00:00:00  11:00:00  \n",
       "2      0     103           0            0  2013-10-16 00:00:00  17:45:00  \n",
       "3      0     200         130           80  2012-10-01 00:00:00  15:30:00  \n",
       "4  37.11     118         110           80  2014-07-01 00:00:00  17:45:00  "
      ]
     },
     "execution_count": 219,
     "metadata": {},
     "output_type": "execute_result"
    }
   ],
   "source": [
    "print ale1.shape\n",
    "ale1.head()"
   ]
  },
  {
   "cell_type": "markdown",
   "metadata": {},
   "source": [
    "Table with multiple encounters"
   ]
  },
  {
   "cell_type": "code",
   "execution_count": 220,
   "metadata": {
    "collapsed": true
   },
   "outputs": [
    {
     "name": "stdout",
     "output_type": "stream",
     "text": [
      "(46019, 11)\n"
     ]
    },
    {
     "data": {
      "text/html": [
       "<div>\n",
       "<table border=\"1\" class=\"dataframe\">\n",
       "  <thead>\n",
       "    <tr style=\"text-align: right;\">\n",
       "      <th></th>\n",
       "      <th>Enc_Nbr</th>\n",
       "      <th>Person_Nbr</th>\n",
       "      <th>Smoking_Status</th>\n",
       "      <th>Primary_Payer</th>\n",
       "      <th>A1C</th>\n",
       "      <th>BMI</th>\n",
       "      <th>Glucose</th>\n",
       "      <th>BP_Systolic</th>\n",
       "      <th>BP_Diastolic</th>\n",
       "      <th>Enc_Yr</th>\n",
       "      <th>Enc_Time</th>\n",
       "    </tr>\n",
       "  </thead>\n",
       "  <tbody>\n",
       "    <tr>\n",
       "      <th>0</th>\n",
       "      <td>1.45378e+07</td>\n",
       "      <td>89</td>\n",
       "      <td>Former smoker</td>\n",
       "      <td>Adv BCBS HMO</td>\n",
       "      <td>0</td>\n",
       "      <td>0</td>\n",
       "      <td>0</td>\n",
       "      <td>125</td>\n",
       "      <td>73</td>\n",
       "      <td>2015-03-14 00:00:00</td>\n",
       "      <td>15:30:00</td>\n",
       "    </tr>\n",
       "    <tr>\n",
       "      <th>1</th>\n",
       "      <td>1.3816e+07</td>\n",
       "      <td>89</td>\n",
       "      <td>NaN</td>\n",
       "      <td>Adv BCBS HMO</td>\n",
       "      <td>0</td>\n",
       "      <td>0</td>\n",
       "      <td>0</td>\n",
       "      <td>0</td>\n",
       "      <td>0</td>\n",
       "      <td>2015-07-11 00:00:00</td>\n",
       "      <td>05:19:32.400000</td>\n",
       "    </tr>\n",
       "    <tr>\n",
       "      <th>2</th>\n",
       "      <td>455661</td>\n",
       "      <td>89</td>\n",
       "      <td>Former smoker</td>\n",
       "      <td>Adv BCBS HMO</td>\n",
       "      <td>0</td>\n",
       "      <td>0</td>\n",
       "      <td>137</td>\n",
       "      <td>63</td>\n",
       "      <td>38</td>\n",
       "      <td>2015-07-14 00:00:00</td>\n",
       "      <td>10:15:00</td>\n",
       "    </tr>\n",
       "    <tr>\n",
       "      <th>3</th>\n",
       "      <td>1.06583e+07</td>\n",
       "      <td>89</td>\n",
       "      <td>Former smoker</td>\n",
       "      <td>Adv BCBS HMO</td>\n",
       "      <td>0</td>\n",
       "      <td>0</td>\n",
       "      <td>0</td>\n",
       "      <td>92</td>\n",
       "      <td>53</td>\n",
       "      <td>2016-10-22 00:00:00</td>\n",
       "      <td>09:15:00</td>\n",
       "    </tr>\n",
       "    <tr>\n",
       "      <th>4</th>\n",
       "      <td>233159</td>\n",
       "      <td>89</td>\n",
       "      <td>NaN</td>\n",
       "      <td>Adv BCBS HMO</td>\n",
       "      <td>0</td>\n",
       "      <td>0</td>\n",
       "      <td>0</td>\n",
       "      <td>0</td>\n",
       "      <td>0</td>\n",
       "      <td>2016-10-22 00:00:00</td>\n",
       "      <td>11:29:08.763000</td>\n",
       "    </tr>\n",
       "  </tbody>\n",
       "</table>\n",
       "</div>"
      ],
      "text/plain": [
       "       Enc_Nbr Person_Nbr Smoking_Status Primary_Payer A1C BMI Glucose  \\\n",
       "0  1.45378e+07         89  Former smoker  Adv BCBS HMO   0   0       0   \n",
       "1   1.3816e+07         89            NaN  Adv BCBS HMO   0   0       0   \n",
       "2       455661         89  Former smoker  Adv BCBS HMO   0   0     137   \n",
       "3  1.06583e+07         89  Former smoker  Adv BCBS HMO   0   0       0   \n",
       "4       233159         89            NaN  Adv BCBS HMO   0   0       0   \n",
       "\n",
       "  BP_Systolic BP_Diastolic               Enc_Yr         Enc_Time  \n",
       "0         125           73  2015-03-14 00:00:00         15:30:00  \n",
       "1           0            0  2015-07-11 00:00:00  05:19:32.400000  \n",
       "2          63           38  2015-07-14 00:00:00         10:15:00  \n",
       "3          92           53  2016-10-22 00:00:00         09:15:00  \n",
       "4           0            0  2016-10-22 00:00:00  11:29:08.763000  "
      ]
     },
     "execution_count": 220,
     "metadata": {},
     "output_type": "execute_result"
    }
   ],
   "source": [
    "print lastyr_encs.shape\n",
    "lastyr_encs.head()"
   ]
  },
  {
   "cell_type": "markdown",
   "metadata": {},
   "source": [
    "Check that no encounter was missed"
   ]
  },
  {
   "cell_type": "code",
   "execution_count": 221,
   "metadata": {
    "collapsed": true
   },
   "outputs": [
    {
     "name": "stdout",
     "output_type": "stream",
     "text": [
      "Total num of patients with encounters\n",
      "16087\n",
      "Total num of patients with multiple encounters\n",
      "11542\n",
      "Total num of patients with single encounters\n",
      "4545\n"
     ]
    }
   ],
   "source": [
    "count=0\n",
    "for index,row in num_encs_total.iterrows():\n",
    "    if  row[\"Total_Num_Encs\"]>1:\n",
    "        count=count+1\n",
    "print \"Total num of patients with encounters\"\n",
    "print num_encs_total.shape[0]\n",
    "print \"Total num of patients with multiple encounters\"\n",
    "print count\n",
    "print \"Total num of patients with single encounters\"\n",
    "print num_encs_total.shape[0]-count"
   ]
  },
  {
   "cell_type": "code",
   "execution_count": 222,
   "metadata": {
    "collapsed": true
   },
   "outputs": [
    {
     "name": "stdout",
     "output_type": "stream",
     "text": [
      "11542\n",
      "4545\n"
     ]
    },
    {
     "data": {
      "text/plain": [
       "16087"
      ]
     },
     "execution_count": 222,
     "metadata": {},
     "output_type": "execute_result"
    }
   ],
   "source": [
    "print len(lastyr_encs.Person_Nbr.unique())\n",
    "print len(ale1.Person_Nbr.unique())\n",
    "len(lastyr_encs.Person_Nbr.unique())+ len(ale1.Person_Nbr.unique())"
   ]
  },
  {
   "cell_type": "code",
   "execution_count": 223,
   "metadata": {
    "collapsed": true
   },
   "outputs": [],
   "source": [
    "num_encs_total.to_csv(\"num_encs_total.csv\")\n",
    "ale1.to_csv(\"ale1.csv\")\n",
    "lastyr_encs.to_csv(\"lastyr_encs.csv\")"
   ]
  },
  {
   "cell_type": "markdown",
   "metadata": {},
   "source": [
    "Taking avg of numeric values "
   ]
  },
  {
   "cell_type": "code",
   "execution_count": 303,
   "metadata": {
    "collapsed": false
   },
   "outputs": [
    {
     "name": "stderr",
     "output_type": "stream",
     "text": [
      "C:\\Users\\mom1\\Anaconda2\\lib\\site-packages\\ipykernel\\__main__.py:3: FutureWarning: convert_objects is deprecated.  Use the data-type specific converters pd.to_datetime, pd.to_timedelta and pd.to_numeric.\n",
      "  app.launch_new_instance()\n"
     ]
    }
   ],
   "source": [
    "columns=['A1C','BMI','Glucose','BP_Systolic','BP_Diastolic']\n",
    "for i in columns:\n",
    "    lastyr_encs[i]=lastyr_encs[i].convert_objects(convert_numeric=True)"
   ]
  },
  {
   "cell_type": "code",
   "execution_count": 304,
   "metadata": {
    "collapsed": true
   },
   "outputs": [
    {
     "name": "stdout",
     "output_type": "stream",
     "text": [
      "<class 'pandas.core.frame.DataFrame'>\n",
      "Int64Index: 46019 entries, 0 to 46018\n",
      "Data columns (total 12 columns):\n",
      "Enc_Nbr                 46019 non-null object\n",
      "Person_Nbr              46019 non-null object\n",
      "Smoking_Status          31318 non-null object\n",
      "Primary_Payer           46019 non-null object\n",
      "A1C                     46019 non-null float64\n",
      "BMI                     46019 non-null float64\n",
      "Glucose                 46019 non-null float64\n",
      "BP_Systolic             46019 non-null float64\n",
      "BP_Diastolic            46019 non-null float64\n",
      "Enc_Yr                  46019 non-null object\n",
      "Enc_Time                46019 non-null object\n",
      "Smoking_Status_Stand    46019 non-null object\n",
      "dtypes: float64(5), object(7)\n",
      "memory usage: 4.6+ MB\n"
     ]
    }
   ],
   "source": [
    "lastyr_encs.info()"
   ]
  },
  {
   "cell_type": "code",
   "execution_count": 305,
   "metadata": {
    "collapsed": false
   },
   "outputs": [
    {
     "data": {
      "text/plain": [
       "(11542, 5)"
      ]
     },
     "execution_count": 305,
     "metadata": {},
     "output_type": "execute_result"
    }
   ],
   "source": [
    "lastyr_avg=lastyr_encs.groupby(\"Person_Nbr\")[columns].mean()\n",
    "lastyr_avg.shape"
   ]
  },
  {
   "cell_type": "code",
   "execution_count": 306,
   "metadata": {
    "collapsed": false
   },
   "outputs": [],
   "source": [
    "lastyr_avg.to_csv(\"lastyr_avg.csv\")"
   ]
  },
  {
   "cell_type": "markdown",
   "metadata": {},
   "source": [
    "Check for change in Smoking Status and Primary Payer"
   ]
  },
  {
   "cell_type": "code",
   "execution_count": 246,
   "metadata": {
    "collapsed": true
   },
   "outputs": [
    {
     "name": "stdout",
     "output_type": "stream",
     "text": [
      "81\n",
      "['Adv BCBS HMO' 'Medicare' 'EyeQuest Family Health Network'\n",
      " 'Davis Vision Plan' 'Blue Shield Of Illinois PPO'\n",
      " 'No Medical Insurance Accepted' 'Medicaid HFS' 'Eye Med Vision Plan'\n",
      " 'VOHHA' 'Opticare CountyCare' 'OptiCare MCO' 'CIGNA PPO'\n",
      " 'United Health Care PPO' 'Opticare IlliniCare ICP'\n",
      " 'Human Services Medical Record' 'BCBS Medicaid FHP'\n",
      " 'March - Aetna Better Health' 'Aetna Better Health MCO' 'Adv AHC Wellcare'\n",
      " 'Aetna PPO' 'Railroad Medicare' 'BCBS Medicaid ICP' 'EyeQuest CountyCare'\n",
      " 'Vision Service Plan' 'Commercial' 'Aetna BH Medicaid ICP'\n",
      " 'Humana Medicaid ICP' 'Cigna HS MMP/MMAI' 'Adv Cigna Health Spring HMO'\n",
      " 'Meridian Medicaid ICP' 'Meridian Complete MMAI' 'Premier Vision Plan'\n",
      " 'Adv Humana Health Centers' 'Humana PPO' 'BCBS Medicare MMAI' 'DHS'\n",
      " 'VOHHA DEC' 'OptiCare Vision Plan' 'CCAI Medicaid'\n",
      " 'Opticare IlliniCare FHP' 'ICO Faculty Staff' 'VOHHA RCVA'\n",
      " 'Aetna BH MMAI Premier Plan' 'ICO Family' 'March - Molina'\n",
      " 'Adv Blue Shield Of Illinois' 'Adv HMOI Health Center'\n",
      " 'Block-Superior Vision' 'Davis CCN Vision Plan'\n",
      " 'Cigna HS Medicare Advantage HMO' 'Opticare IlliniCare MMAI'\n",
      " 'Davis CCS Vision Plan' 'Humana MMAI' 'Family Health Network' 'FQHC'\n",
      " 'Aetna Medicare' 'Adv Medicare' 'Cigna HS Medicaid ICP'\n",
      " 'United Health Care HMO' 'Humana HMO' 'Aetna BH Medicaid FHP' 'ORS' 'PHCS'\n",
      " 'CountyCare Valence MD' 'Meridian Medicaid VMC FHP' 'ICO Student'\n",
      " 'Adv NonSykes Payer' 'CPS Princeton' 'Vision Care Plan'\n",
      " 'Adv Unicare Health Centers' 'Adv Advocate Health Centers' 'DME'\n",
      " 'Contributed Services' 'No Vision Insurance Accepted' 'Vision USA'\n",
      " 'Stickney Health District' 'Workmans Compensation' 'Speilburg IMT Study'\n",
      " 'Family Health Network MD' 'PALS' 'Schlange Research']\n",
      "10\n"
     ]
    },
    {
     "data": {
      "text/plain": [
       "array(['Former smoker', nan, 'Never smoker', 'Current some day smoker',\n",
       "       'Current every day smoker', 'Light tobacco smoker',\n",
       "       'Heavy tobacco smoker', 'Unknown if ever smoked', 'Smoker',\n",
       "       'Never Smoker'], dtype=object)"
      ]
     },
     "execution_count": 246,
     "metadata": {},
     "output_type": "execute_result"
    }
   ],
   "source": [
    "print len(lastyr_encs.Primary_Payer.unique())\n",
    "print lastyr_encs.Primary_Payer.unique()\n",
    "print len(lastyr_encs.Smoking_Status.unique())\n",
    "lastyr_encs.Smoking_Status.unique()"
   ]
  },
  {
   "cell_type": "code",
   "execution_count": 248,
   "metadata": {
    "collapsed": false
   },
   "outputs": [
    {
     "data": {
      "text/plain": [
       "(46019, 11)"
      ]
     },
     "execution_count": 248,
     "metadata": {},
     "output_type": "execute_result"
    }
   ],
   "source": [
    "lastyr_encs.shape"
   ]
  },
  {
   "cell_type": "code",
   "execution_count": 247,
   "metadata": {
    "collapsed": false
   },
   "outputs": [
    {
     "data": {
      "text/plain": [
       "14701"
      ]
     },
     "execution_count": 247,
     "metadata": {},
     "output_type": "execute_result"
    }
   ],
   "source": [
    "pd.isnull(lastyr_encs.Smoking_Status).sum()"
   ]
  },
  {
   "cell_type": "markdown",
   "metadata": {},
   "source": [
    "Standarize the Smoking_Status"
   ]
  },
  {
   "cell_type": "code",
   "execution_count": 291,
   "metadata": {
    "collapsed": false
   },
   "outputs": [],
   "source": [
    "def stand_smoke(x):\n",
    "    if pd.isnull(x):\n",
    "        return 'Unknown if ever smoked'\n",
    "    elif x=='Unknown if ever smoked':\n",
    "        return 'Unknown if ever smoked'\n",
    "    elif x=='Never Smoker':\n",
    "         return 'Never smoker'\n",
    "    elif x=='Never smoker':\n",
    "         return 'Never smoker'\n",
    "    elif x == 'Smoker' :\n",
    "        return 'Smoker'\n",
    "    elif x == 'Current every day smoker':\n",
    "        return 'Smoker'\n",
    "    elif x == 'Current some day smoker':\n",
    "        return 'Smoker'\n",
    "    elif x == 'Light tobacco smoker' :\n",
    "        return 'Smoker'\n",
    "    elif x == 'Heavy tobacco smoker':\n",
    "        return 'Smoker'\n",
    "    elif x==\"Former smoker\":\n",
    "        return \"Former smoker\""
   ]
  },
  {
   "cell_type": "code",
   "execution_count": 295,
   "metadata": {
    "collapsed": true
   },
   "outputs": [
    {
     "name": "stdout",
     "output_type": "stream",
     "text": [
      "(46019, 12)\n"
     ]
    },
    {
     "data": {
      "text/html": [
       "<div>\n",
       "<table border=\"1\" class=\"dataframe\">\n",
       "  <thead>\n",
       "    <tr style=\"text-align: right;\">\n",
       "      <th></th>\n",
       "      <th>Enc_Nbr</th>\n",
       "      <th>Person_Nbr</th>\n",
       "      <th>Smoking_Status</th>\n",
       "      <th>Primary_Payer</th>\n",
       "      <th>A1C</th>\n",
       "      <th>BMI</th>\n",
       "      <th>Glucose</th>\n",
       "      <th>BP_Systolic</th>\n",
       "      <th>BP_Diastolic</th>\n",
       "      <th>Enc_Yr</th>\n",
       "      <th>Enc_Time</th>\n",
       "      <th>Smoking_Status_Stand</th>\n",
       "    </tr>\n",
       "  </thead>\n",
       "  <tbody>\n",
       "    <tr>\n",
       "      <th>0</th>\n",
       "      <td>1.45378e+07</td>\n",
       "      <td>89</td>\n",
       "      <td>Former smoker</td>\n",
       "      <td>Adv BCBS HMO</td>\n",
       "      <td>0</td>\n",
       "      <td>0</td>\n",
       "      <td>0</td>\n",
       "      <td>125</td>\n",
       "      <td>73</td>\n",
       "      <td>2015-03-14 00:00:00</td>\n",
       "      <td>15:30:00</td>\n",
       "      <td>Former smoker</td>\n",
       "    </tr>\n",
       "    <tr>\n",
       "      <th>1</th>\n",
       "      <td>1.3816e+07</td>\n",
       "      <td>89</td>\n",
       "      <td>NaN</td>\n",
       "      <td>Adv BCBS HMO</td>\n",
       "      <td>0</td>\n",
       "      <td>0</td>\n",
       "      <td>0</td>\n",
       "      <td>0</td>\n",
       "      <td>0</td>\n",
       "      <td>2015-07-11 00:00:00</td>\n",
       "      <td>05:19:32.400000</td>\n",
       "      <td>Unknown if ever smoked</td>\n",
       "    </tr>\n",
       "    <tr>\n",
       "      <th>2</th>\n",
       "      <td>455661</td>\n",
       "      <td>89</td>\n",
       "      <td>Former smoker</td>\n",
       "      <td>Adv BCBS HMO</td>\n",
       "      <td>0</td>\n",
       "      <td>0</td>\n",
       "      <td>137</td>\n",
       "      <td>63</td>\n",
       "      <td>38</td>\n",
       "      <td>2015-07-14 00:00:00</td>\n",
       "      <td>10:15:00</td>\n",
       "      <td>Former smoker</td>\n",
       "    </tr>\n",
       "    <tr>\n",
       "      <th>3</th>\n",
       "      <td>1.06583e+07</td>\n",
       "      <td>89</td>\n",
       "      <td>Former smoker</td>\n",
       "      <td>Adv BCBS HMO</td>\n",
       "      <td>0</td>\n",
       "      <td>0</td>\n",
       "      <td>0</td>\n",
       "      <td>92</td>\n",
       "      <td>53</td>\n",
       "      <td>2016-10-22 00:00:00</td>\n",
       "      <td>09:15:00</td>\n",
       "      <td>Former smoker</td>\n",
       "    </tr>\n",
       "    <tr>\n",
       "      <th>4</th>\n",
       "      <td>233159</td>\n",
       "      <td>89</td>\n",
       "      <td>NaN</td>\n",
       "      <td>Adv BCBS HMO</td>\n",
       "      <td>0</td>\n",
       "      <td>0</td>\n",
       "      <td>0</td>\n",
       "      <td>0</td>\n",
       "      <td>0</td>\n",
       "      <td>2016-10-22 00:00:00</td>\n",
       "      <td>11:29:08.763000</td>\n",
       "      <td>Unknown if ever smoked</td>\n",
       "    </tr>\n",
       "  </tbody>\n",
       "</table>\n",
       "</div>"
      ],
      "text/plain": [
       "       Enc_Nbr Person_Nbr Smoking_Status Primary_Payer A1C BMI Glucose  \\\n",
       "0  1.45378e+07         89  Former smoker  Adv BCBS HMO   0   0       0   \n",
       "1   1.3816e+07         89            NaN  Adv BCBS HMO   0   0       0   \n",
       "2       455661         89  Former smoker  Adv BCBS HMO   0   0     137   \n",
       "3  1.06583e+07         89  Former smoker  Adv BCBS HMO   0   0       0   \n",
       "4       233159         89            NaN  Adv BCBS HMO   0   0       0   \n",
       "\n",
       "  BP_Systolic BP_Diastolic               Enc_Yr         Enc_Time  \\\n",
       "0         125           73  2015-03-14 00:00:00         15:30:00   \n",
       "1           0            0  2015-07-11 00:00:00  05:19:32.400000   \n",
       "2          63           38  2015-07-14 00:00:00         10:15:00   \n",
       "3          92           53  2016-10-22 00:00:00         09:15:00   \n",
       "4           0            0  2016-10-22 00:00:00  11:29:08.763000   \n",
       "\n",
       "     Smoking_Status_Stand  \n",
       "0           Former smoker  \n",
       "1  Unknown if ever smoked  \n",
       "2           Former smoker  \n",
       "3           Former smoker  \n",
       "4  Unknown if ever smoked  "
      ]
     },
     "execution_count": 295,
     "metadata": {},
     "output_type": "execute_result"
    }
   ],
   "source": [
    "lastyr_encs[\"Smoking_Status_Stand\"]=lastyr_encs.Smoking_Status.map(stand_smoke)\n",
    "print lastyr_encs.shape\n",
    "lastyr_encs.head()"
   ]
  },
  {
   "cell_type": "code",
   "execution_count": 316,
   "metadata": {
    "collapsed": true
   },
   "outputs": [],
   "source": [
    "lastyr_encs.to_csv(\"lastyr_encs.csv\")"
   ]
  },
  {
   "cell_type": "code",
   "execution_count": 356,
   "metadata": {
    "collapsed": false
   },
   "outputs": [
    {
     "name": "stdout",
     "output_type": "stream",
     "text": [
      "0\n",
      "4\n"
     ]
    },
    {
     "data": {
      "text/plain": [
       "array(['Former smoker', 'Unknown if ever smoked', 'Never smoker', 'Smoker'], dtype=object)"
      ]
     },
     "execution_count": 356,
     "metadata": {},
     "output_type": "execute_result"
    }
   ],
   "source": [
    "print sum(lastyr_encs.Smoking_Status_Stand==None)\n",
    "print len(lastyr_encs.Smoking_Status_Stand.unique())\n",
    "lastyr_encs.Smoking_Status_Stand.unique()"
   ]
  },
  {
   "cell_type": "code",
   "execution_count": 336,
   "metadata": {
    "collapsed": true
   },
   "outputs": [],
   "source": [
    "index=0\n",
    "last_smpp=pd.DataFrame(columns=['Person_Nbr', 'Smoking_Status_Standd',\"Num_SS\"])\n",
    "for name, group in lastyr_encs.groupby(\"Person_Nbr\"):\n",
    "    last_smpp.loc[index,\"Person_Nbr\"]=name\n",
    "    last_smpp.loc[index,\"Smoking_Status_Standd\"]=group.get_value(index=0,col=11,takeable=True)\n",
    "    last_smpp.loc[index,\"Num_SS\"]=1\n",
    "    for i in range(len(group.get_values())-1):\n",
    "        frsts= last_smpp.loc[index,\"Smoking_Status_Standd\"]\n",
    "        secs= group.get_value(index=i+1,col=11,takeable=True)\n",
    "        if frsts!=secs:\n",
    "            if frsts=='Unknown if ever smoked':\n",
    "                last_smpp.loc[index,\"Smoking_Status_Standd\"]==secs\n",
    "                last_smpp.loc[index,\"Num_SS\"]=1\n",
    "            elif secs=='Unknown if ever smoked':\n",
    "                last_smpp.loc[index,\"Smoking_Status_Standd\"]==frsts\n",
    "                last_smpp.loc[index,\"Num_SS\"]=1\n",
    "            else:\n",
    "                boths=frsts+\",\"+secs\n",
    "                last_smpp.loc[index,\"Smoking_Status_Standd\"]=boths\n",
    "                last_smpp.loc[index,\"Num_SS\"]=(last_smpp.loc[index,\"Smoking_Status_Standd\"].count(\",\")+1)     \n",
    "    index=index+1 "
   ]
  },
  {
   "cell_type": "code",
   "execution_count": 337,
   "metadata": {
    "collapsed": true
   },
   "outputs": [
    {
     "name": "stdout",
     "output_type": "stream",
     "text": [
      "(11542, 3)\n"
     ]
    },
    {
     "data": {
      "text/html": [
       "<div>\n",
       "<table border=\"1\" class=\"dataframe\">\n",
       "  <thead>\n",
       "    <tr style=\"text-align: right;\">\n",
       "      <th></th>\n",
       "      <th>Person_Nbr</th>\n",
       "      <th>Smoking_Status_Standd</th>\n",
       "      <th>Num_SS</th>\n",
       "    </tr>\n",
       "  </thead>\n",
       "  <tbody>\n",
       "    <tr>\n",
       "      <th>0</th>\n",
       "      <td>89</td>\n",
       "      <td>Former smoker</td>\n",
       "      <td>1</td>\n",
       "    </tr>\n",
       "    <tr>\n",
       "      <th>1</th>\n",
       "      <td>146</td>\n",
       "      <td>Former smoker</td>\n",
       "      <td>1</td>\n",
       "    </tr>\n",
       "    <tr>\n",
       "      <th>2</th>\n",
       "      <td>196</td>\n",
       "      <td>Never smoker</td>\n",
       "      <td>1</td>\n",
       "    </tr>\n",
       "    <tr>\n",
       "      <th>3</th>\n",
       "      <td>331</td>\n",
       "      <td>Never smoker</td>\n",
       "      <td>1</td>\n",
       "    </tr>\n",
       "    <tr>\n",
       "      <th>4</th>\n",
       "      <td>535</td>\n",
       "      <td>Former smoker,Never smoker</td>\n",
       "      <td>2</td>\n",
       "    </tr>\n",
       "  </tbody>\n",
       "</table>\n",
       "</div>"
      ],
      "text/plain": [
       "  Person_Nbr       Smoking_Status_Standd Num_SS\n",
       "0         89               Former smoker      1\n",
       "1        146               Former smoker      1\n",
       "2        196                Never smoker      1\n",
       "3        331                Never smoker      1\n",
       "4        535  Former smoker,Never smoker      2"
      ]
     },
     "execution_count": 337,
     "metadata": {},
     "output_type": "execute_result"
    }
   ],
   "source": [
    "print last_smpp.shape\n",
    "last_smpp.head()"
   ]
  },
  {
   "cell_type": "markdown",
   "metadata": {},
   "source": [
    "168 people with change in Smoking_status "
   ]
  },
  {
   "cell_type": "code",
   "execution_count": 338,
   "metadata": {
    "collapsed": false,
    "scrolled": true
   },
   "outputs": [
    {
     "data": {
      "text/plain": [
       "168"
      ]
     },
     "execution_count": 338,
     "metadata": {},
     "output_type": "execute_result"
    }
   ],
   "source": [
    "sum(last_smpp.Num_SS > 1)"
   ]
  },
  {
   "cell_type": "code",
   "execution_count": 344,
   "metadata": {
    "collapsed": false
   },
   "outputs": [
    {
     "data": {
      "text/plain": [
       "array([2, 3, 4, 8, 7, 5, 9, 10, 21, 6, 14], dtype=object)"
      ]
     },
     "execution_count": 344,
     "metadata": {},
     "output_type": "execute_result"
    }
   ],
   "source": [
    "last_sm.Num_SS.unique()"
   ]
  },
  {
   "cell_type": "markdown",
   "metadata": {},
   "source": [
    "Choosing the appropriate status"
   ]
  },
  {
   "cell_type": "code",
   "execution_count": null,
   "metadata": {
    "collapsed": true
   },
   "outputs": [],
   "source": [
    "count=0\n",
    "index=0\n",
    "lastyr_ss=pd.DataFrame(columns=[\"Person_Nbr\",\"Smoking_Status\"])\n",
    "for name,group in lastyr_encs.groupby(\"Person_Nbr\"):\n",
    "    lastyr_ss.loc[index,\"Person_Nbr\"]=name\n",
    "    group=group.sort(\"Enc_Yr\",ascending=False)\n",
    "    if len(group.get_values())>1:\n",
    "        if (group.get_value(index=0,col=11,takeable=True))==group.get_value(index=1,col=11,takeable=True):\n",
    "            lastyr_ss.loc[index,\"Smoking_Status\"]=group.get_value(index=0,col=11,takeable=True)\n",
    "        elif group.get_value(index=0,col=11,takeable=True) in (\"Never smoker\" , \"Unknown if ever smoked\"):\n",
    "            lastyr_ss.loc[index,\"Smoking_Status\"]=group.get_value(index=1,col=11,takeable=True)\n",
    "        else:\n",
    "            lastyr_ss.loc[index,\"Smoking_Status\"]=group.get_value(index=0,col=11,takeable=True)\n",
    "        index=index+1\n",
    "    else:\n",
    "        lastyr_ss.loc[index,\"Smoking_Status\"]=group.get_value(index=0,col=11,takeable=True)\n",
    "        index=index+1"
   ]
  },
  {
   "cell_type": "code",
   "execution_count": null,
   "metadata": {
    "collapsed": true
   },
   "outputs": [],
   "source": [
    "print sum(pd.isnull(lastyr_ss.Smoking_Status))\n",
    "print lastyr_ss.shape\n",
    "lastyr_ss.head()"
   ]
  },
  {
   "cell_type": "markdown",
   "metadata": {},
   "source": [
    "Choosing the appropriate Primary Payer"
   ]
  },
  {
   "cell_type": "code",
   "execution_count": null,
   "metadata": {
    "collapsed": true
   },
   "outputs": [],
   "source": [
    "count=0\n",
    "index=0\n",
    "lastyr_pp=pd.DataFrame(columns=[\"Person_Nbr\",\"Primary_Payer\",\"Enc_Nbr\",\"Enc_Yr\",\"Enc_Time\"])\n",
    "for name,group in lastyr_encs.groupby(\"Person_Nbr\"):\n",
    "    lastyr_pp.loc[index,\"Person_Nbr\"]=name\n",
    "    group=group.sort(\"Enc_Yr\",ascending=False)\n",
    "    lastyr_pp.loc[index,\"Enc_Nbr\"]=group.get_value(index=0,col=0,takeable=True)\n",
    "    lastyr_pp.loc[index,\"Enc_Yr\"]=group.get_value(index=0,col=9,takeable=True)\n",
    "    lastyr_pp.loc[index,\"Enc_Time\"]=group.get_value(index=0,col=10,takeable=True)\n",
    "    if pd.isnull(group.get_value(index=0,col=3,takeable=True))==False:\n",
    "        lastyr_pp.loc[index,\"Primary_Payer\"]=group.get_value(index=0,col=3,takeable=True)\n",
    "    else:\n",
    "        lastyr_pp.loc[index,\"Primary_Payer\"]=group.get_value(index=1,col=3,takeable=True)\n",
    "    index=index+1"
   ]
  },
  {
   "cell_type": "code",
   "execution_count": null,
   "metadata": {
    "collapsed": true
   },
   "outputs": [],
   "source": [
    "print sum(pd.isnull(lastyr_pp.Primary_Payer))\n",
    "print lastyr_pp.shape\n",
    "lastyr_pp.head()"
   ]
  },
  {
   "cell_type": "markdown",
   "metadata": {},
   "source": [
    "Merge smoking_status and pp results"
   ]
  },
  {
   "cell_type": "code",
   "execution_count": null,
   "metadata": {
    "collapsed": true
   },
   "outputs": [],
   "source": [
    "print lastyr_pp.shape\n",
    "lastyr_ss.shape"
   ]
  },
  {
   "cell_type": "code",
   "execution_count": null,
   "metadata": {
    "collapsed": true
   },
   "outputs": [],
   "source": [
    "lastyr_sspp=pd.merge(lastyr_ss,lastyr_pp,left_index=True,right_index=True)\n",
    "print lastyr_sspp.shape\n",
    "lastyr_sspp.head()"
   ]
  },
  {
   "cell_type": "code",
   "execution_count": null,
   "metadata": {
    "collapsed": true
   },
   "outputs": [],
   "source": [
    "del lastyr_sspp[\"Person_Nbr_y\"]\n",
    "lastyr_sspp=lastyr_sspp.rename(columns={\"Person_Nbr_x\":\"Person_Nbr\"})\n",
    "lastyr_sspp.head()"
   ]
  },
  {
   "cell_type": "markdown",
   "metadata": {},
   "source": [
    "Merge sspp with avg values"
   ]
  },
  {
   "cell_type": "code",
   "execution_count": null,
   "metadata": {
    "collapsed": true
   },
   "outputs": [],
   "source": [
    "lastyr_avg=lastyr_avg.reset_index()\n",
    "lastyr_avg.head()"
   ]
  },
  {
   "cell_type": "code",
   "execution_count": null,
   "metadata": {
    "collapsed": true
   },
   "outputs": [],
   "source": [
    "lastyr_all=pd.merge(lastyr_sspp,lastyr_avg,left_index=True,right_index=True)\n",
    "print lastyr_all.shape\n",
    "lastyr_all.head()"
   ]
  },
  {
   "cell_type": "code",
   "execution_count": 357,
   "metadata": {
    "collapsed": true
   },
   "outputs": [
    {
     "ename": "NameError",
     "evalue": "name 'lastyr_all' is not defined",
     "output_type": "error",
     "traceback": [
      "\u001b[0;31m---------------------------------------------------------------------------\u001b[0m",
      "\u001b[0;31mNameError\u001b[0m                                 Traceback (most recent call last)",
      "\u001b[0;32m<ipython-input-357-93409d59f82a>\u001b[0m in \u001b[0;36m<module>\u001b[0;34m()\u001b[0m\n\u001b[0;32m----> 1\u001b[0;31m \u001b[1;32mdel\u001b[0m \u001b[0mlastyr_all\u001b[0m\u001b[1;33m[\u001b[0m\u001b[1;34m\"Person_Nbr_y\"\u001b[0m\u001b[1;33m]\u001b[0m\u001b[1;33m\u001b[0m\u001b[0m\n\u001b[0m\u001b[1;32m      2\u001b[0m \u001b[0mlastyr_all\u001b[0m\u001b[1;33m=\u001b[0m\u001b[0mlastyr_sspp\u001b[0m\u001b[1;33m.\u001b[0m\u001b[0mrename\u001b[0m\u001b[1;33m(\u001b[0m\u001b[0mcolumns\u001b[0m\u001b[1;33m=\u001b[0m\u001b[1;33m{\u001b[0m\u001b[1;34m\"Person_Nbr_x\"\u001b[0m\u001b[1;33m:\u001b[0m\u001b[1;34m\"Person_Nbr\"\u001b[0m\u001b[1;33m}\u001b[0m\u001b[1;33m)\u001b[0m\u001b[1;33m\u001b[0m\u001b[0m\n",
      "\u001b[0;31mNameError\u001b[0m: name 'lastyr_all' is not defined"
     ]
    }
   ],
   "source": [
    "del lastyr_all[\"Person_Nbr_y\"]\n",
    "lastyr_all=lastyr_all.rename(columns={\"Person_Nbr_x\":\"Person_Nbr\"})\n",
    "lastyr_all.head()"
   ]
  },
  {
   "cell_type": "markdown",
   "metadata": {},
   "source": [
    "Merge single and multiple encounter averages"
   ]
  },
  {
   "cell_type": "code",
   "execution_count": null,
   "metadata": {
    "collapsed": true
   },
   "outputs": [],
   "source": [
    "print ale1.shape\n",
    "lastyr_all.shape"
   ]
  },
  {
   "cell_type": "code",
   "execution_count": null,
   "metadata": {
    "collapsed": true
   },
   "outputs": [],
   "source": [
    "single_enc_per_person=pd.merge(ale1,lastyr_all,how=\"outer\")\n",
    "print single_enc_per_person.shape\n",
    "single_enc_per_person.head()"
   ]
  },
  {
   "cell_type": "code",
   "execution_count": null,
   "metadata": {
    "collapsed": true
   },
   "outputs": [],
   "source": [
    "len(single_enc_per_person.Person_Nbr.drop_duplicates())"
   ]
  },
  {
   "cell_type": "code",
   "execution_count": null,
   "metadata": {
    "collapsed": true
   },
   "outputs": [],
   "source": [
    "single_enc_per_person.to_csv(\"single_enc_per_person.csv\")"
   ]
  },
  {
   "cell_type": "markdown",
   "metadata": {},
   "source": [
    "Add ICDs"
   ]
  },
  {
   "cell_type": "code",
   "execution_count": 217,
   "metadata": {
    "collapsed": true
   },
   "outputs": [
    {
     "name": "stdout",
     "output_type": "stream",
     "text": [
      "(80946, 4)\n",
      "<class 'pandas.core.frame.DataFrame'>\n",
      "RangeIndex: 80946 entries, 0 to 80945\n",
      "Data columns (total 4 columns):\n",
      "Enc_Nbr       80946 non-null float64\n",
      "Person_Nbr    80946 non-null float64\n",
      "ICD           61861 non-null object\n",
      "Num_Encs      61861 non-null float64\n",
      "dtypes: float64(3), object(1)\n",
      "memory usage: 2.5+ MB\n",
      "None\n",
      "      Enc_Nbr  Person_Nbr                          ICD  Num_Encs\n",
      "0  12870648.0        89.0                365.02,250.00       2.0\n",
      "1   4126172.0        89.0         362.81,365.02,250.00       3.0\n",
      "2   9217142.0        89.0                       365.02       1.0\n",
      "3  14968450.0        89.0  250.00,365.02,365.23,365.23       4.0\n",
      "4  14537805.0        89.0                       365.06       1.0\n"
     ]
    }
   ],
   "source": [
    "cols=['Enc_Nbr', 'Person_Nbr', 'ICD', 'Num_Encs']\n",
    "icds=ale[cols]\n",
    "print icds.shape\n",
    "print icds.info()\n",
    "print icds.head()"
   ]
  },
  {
   "cell_type": "code",
   "execution_count": 361,
   "metadata": {
    "collapsed": false
   },
   "outputs": [
    {
     "name": "stdout",
     "output_type": "stream",
     "text": [
      "total rows with unique enc_nbr\n",
      "80946\n",
      "uni prsn_nbr\n",
      "16087\n",
      "icds available\n",
      "61861\n"
     ]
    }
   ],
   "source": [
    "print \"total rows with unique enc_nbr\"\n",
    "print ale.shape[0]\n",
    "print \"uni prsn_nbr\"\n",
    "print len(ale.Person_Nbr.drop_duplicates())\n",
    "print \"icds available\"\n",
    "print sum(pd.isnull(ale.ICD)==False)"
   ]
  },
  {
   "cell_type": "code",
   "execution_count": 386,
   "metadata": {
    "collapsed": true
   },
   "outputs": [],
   "source": [
    "index=0\n",
    "icd_per_person=pd.DataFrame(columns=[\"Person_Nbr\",\"ICD\"])\n",
    "for name,group in icds.groupby(\"Person_Nbr\"):\n",
    "    icd_per_person.loc[index,\"Person_Nbr\"]=name\n",
    "    a=group.get_value(index=0,col=2,takeable=True)\n",
    "    icd_per_person.loc[index,\"ICD\"]=str(group.get_value(index=0,col=2,takeable=True))\n",
    "    if len(group.get_values())>1:\n",
    "        for i in range(len(group.get_values())-1):\n",
    "            i+=1\n",
    "            icd_per_person.loc[index,\"ICD\"] = icd_per_person.loc[index,\"ICD\"] + \",\"+ str(group.get_value(index=i,col=2,takeable=True))\n",
    "    index=index+1"
   ]
  },
  {
   "cell_type": "code",
   "execution_count": 387,
   "metadata": {
    "collapsed": true
   },
   "outputs": [
    {
     "name": "stdout",
     "output_type": "stream",
     "text": [
      "(16087, 2)\n"
     ]
    },
    {
     "data": {
      "text/html": [
       "<div>\n",
       "<table border=\"1\" class=\"dataframe\">\n",
       "  <thead>\n",
       "    <tr style=\"text-align: right;\">\n",
       "      <th></th>\n",
       "      <th>Person_Nbr</th>\n",
       "      <th>ICD</th>\n",
       "    </tr>\n",
       "  </thead>\n",
       "  <tbody>\n",
       "    <tr>\n",
       "      <th>0</th>\n",
       "      <td>33</td>\n",
       "      <td>367.4,373.00,250.00</td>\n",
       "    </tr>\n",
       "    <tr>\n",
       "      <th>1</th>\n",
       "      <td>89</td>\n",
       "      <td>365.02,250.00,362.81,365.02,250.00,365.02,250....</td>\n",
       "    </tr>\n",
       "    <tr>\n",
       "      <th>2</th>\n",
       "      <td>146</td>\n",
       "      <td>366.19,374.87,250.00,250.00,366.19,250.00,366....</td>\n",
       "    </tr>\n",
       "    <tr>\n",
       "      <th>3</th>\n",
       "      <td>196</td>\n",
       "      <td>H10.45,H35.40,H04.123,H52.4,nan</td>\n",
       "    </tr>\n",
       "    <tr>\n",
       "      <th>4</th>\n",
       "      <td>327</td>\n",
       "      <td>367.4,365.01,365.01,367.4,367.4</td>\n",
       "    </tr>\n",
       "  </tbody>\n",
       "</table>\n",
       "</div>"
      ],
      "text/plain": [
       "  Person_Nbr                                                ICD\n",
       "0         33                                367.4,373.00,250.00\n",
       "1         89  365.02,250.00,362.81,365.02,250.00,365.02,250....\n",
       "2        146  366.19,374.87,250.00,250.00,366.19,250.00,366....\n",
       "3        196                    H10.45,H35.40,H04.123,H52.4,nan\n",
       "4        327                    367.4,365.01,365.01,367.4,367.4"
      ]
     },
     "execution_count": 387,
     "metadata": {},
     "output_type": "execute_result"
    }
   ],
   "source": [
    "print icd_per_person.shape\n",
    "icd_per_person.head()"
   ]
  },
  {
   "cell_type": "code",
   "execution_count": 388,
   "metadata": {
    "collapsed": true
   },
   "outputs": [],
   "source": [
    "icd_per_person.to_csv(\"icd_per_person.csv\")"
   ]
  },
  {
   "cell_type": "markdown",
   "metadata": {},
   "source": [
    "Merge single_person and icd_per_person"
   ]
  },
  {
   "cell_type": "code",
   "execution_count": 389,
   "metadata": {
    "collapsed": false
   },
   "outputs": [
    {
     "name": "stdout",
     "output_type": "stream",
     "text": [
      "(16087, 11)\n"
     ]
    },
    {
     "data": {
      "text/plain": [
       "(16087, 2)"
      ]
     },
     "execution_count": 389,
     "metadata": {},
     "output_type": "execute_result"
    }
   ],
   "source": [
    "print single_enc_per_person.shape\n",
    "icd_per_person.shape"
   ]
  },
  {
   "cell_type": "code",
   "execution_count": 390,
   "metadata": {
    "collapsed": true
   },
   "outputs": [
    {
     "name": "stdout",
     "output_type": "stream",
     "text": [
      "(16087, 13)\n"
     ]
    },
    {
     "data": {
      "text/html": [
       "<div>\n",
       "<table border=\"1\" class=\"dataframe\">\n",
       "  <thead>\n",
       "    <tr style=\"text-align: right;\">\n",
       "      <th></th>\n",
       "      <th>Enc_Nbr</th>\n",
       "      <th>Person_Nbr_x</th>\n",
       "      <th>Smoking_Status</th>\n",
       "      <th>Primary_Payer</th>\n",
       "      <th>A1C</th>\n",
       "      <th>BMI</th>\n",
       "      <th>Glucose</th>\n",
       "      <th>BP_Systolic</th>\n",
       "      <th>BP_Diastolic</th>\n",
       "      <th>Enc_Yr</th>\n",
       "      <th>Enc_Time</th>\n",
       "      <th>Person_Nbr_y</th>\n",
       "      <th>ICD</th>\n",
       "    </tr>\n",
       "  </thead>\n",
       "  <tbody>\n",
       "    <tr>\n",
       "      <th>0</th>\n",
       "      <td>123227.0</td>\n",
       "      <td>33.0</td>\n",
       "      <td>Never smoker</td>\n",
       "      <td>Premier Vision Plan</td>\n",
       "      <td>8.0</td>\n",
       "      <td>0.00</td>\n",
       "      <td>130.0</td>\n",
       "      <td>59.0</td>\n",
       "      <td>39.0</td>\n",
       "      <td>2014-12-18 00:00:00</td>\n",
       "      <td>14:00:00</td>\n",
       "      <td>33</td>\n",
       "      <td>367.4,373.00,250.00</td>\n",
       "    </tr>\n",
       "    <tr>\n",
       "      <th>1</th>\n",
       "      <td>14361139.0</td>\n",
       "      <td>327.0</td>\n",
       "      <td>Never smoker</td>\n",
       "      <td>Medicare</td>\n",
       "      <td>0.0</td>\n",
       "      <td>0.00</td>\n",
       "      <td>121.0</td>\n",
       "      <td>0.0</td>\n",
       "      <td>0.0</td>\n",
       "      <td>2011-12-04 00:00:00</td>\n",
       "      <td>11:00:00</td>\n",
       "      <td>89</td>\n",
       "      <td>365.02,250.00,362.81,365.02,250.00,365.02,250....</td>\n",
       "    </tr>\n",
       "    <tr>\n",
       "      <th>2</th>\n",
       "      <td>11783809.0</td>\n",
       "      <td>335.0</td>\n",
       "      <td>Former smoker</td>\n",
       "      <td>Blue Shield Of Illinois PPO</td>\n",
       "      <td>0.0</td>\n",
       "      <td>0.00</td>\n",
       "      <td>103.0</td>\n",
       "      <td>0.0</td>\n",
       "      <td>0.0</td>\n",
       "      <td>2013-10-16 00:00:00</td>\n",
       "      <td>17:45:00</td>\n",
       "      <td>146</td>\n",
       "      <td>366.19,374.87,250.00,250.00,366.19,250.00,366....</td>\n",
       "    </tr>\n",
       "    <tr>\n",
       "      <th>3</th>\n",
       "      <td>6074701.0</td>\n",
       "      <td>1515.0</td>\n",
       "      <td>Never smoker</td>\n",
       "      <td>VOHHA</td>\n",
       "      <td>0.0</td>\n",
       "      <td>0.00</td>\n",
       "      <td>200.0</td>\n",
       "      <td>130.0</td>\n",
       "      <td>80.0</td>\n",
       "      <td>2012-10-01 00:00:00</td>\n",
       "      <td>15:30:00</td>\n",
       "      <td>196</td>\n",
       "      <td>H10.45,H35.40,H04.123,H52.4,nan</td>\n",
       "    </tr>\n",
       "    <tr>\n",
       "      <th>4</th>\n",
       "      <td>8583237.0</td>\n",
       "      <td>1519.0</td>\n",
       "      <td>Former smoker</td>\n",
       "      <td>Opticare CountyCare</td>\n",
       "      <td>0.0</td>\n",
       "      <td>37.11</td>\n",
       "      <td>118.0</td>\n",
       "      <td>110.0</td>\n",
       "      <td>80.0</td>\n",
       "      <td>2014-07-01 00:00:00</td>\n",
       "      <td>17:45:00</td>\n",
       "      <td>327</td>\n",
       "      <td>367.4,365.01,365.01,367.4,367.4</td>\n",
       "    </tr>\n",
       "  </tbody>\n",
       "</table>\n",
       "</div>"
      ],
      "text/plain": [
       "      Enc_Nbr  Person_Nbr_x Smoking_Status                Primary_Payer  A1C  \\\n",
       "0    123227.0          33.0   Never smoker          Premier Vision Plan  8.0   \n",
       "1  14361139.0         327.0   Never smoker                     Medicare  0.0   \n",
       "2  11783809.0         335.0  Former smoker  Blue Shield Of Illinois PPO  0.0   \n",
       "3   6074701.0        1515.0   Never smoker                        VOHHA  0.0   \n",
       "4   8583237.0        1519.0  Former smoker          Opticare CountyCare  0.0   \n",
       "\n",
       "     BMI  Glucose  BP_Systolic  BP_Diastolic               Enc_Yr  Enc_Time  \\\n",
       "0   0.00    130.0         59.0          39.0  2014-12-18 00:00:00  14:00:00   \n",
       "1   0.00    121.0          0.0           0.0  2011-12-04 00:00:00  11:00:00   \n",
       "2   0.00    103.0          0.0           0.0  2013-10-16 00:00:00  17:45:00   \n",
       "3   0.00    200.0        130.0          80.0  2012-10-01 00:00:00  15:30:00   \n",
       "4  37.11    118.0        110.0          80.0  2014-07-01 00:00:00  17:45:00   \n",
       "\n",
       "  Person_Nbr_y                                                ICD  \n",
       "0           33                                367.4,373.00,250.00  \n",
       "1           89  365.02,250.00,362.81,365.02,250.00,365.02,250....  \n",
       "2          146  366.19,374.87,250.00,250.00,366.19,250.00,366....  \n",
       "3          196                    H10.45,H35.40,H04.123,H52.4,nan  \n",
       "4          327                    367.4,365.01,365.01,367.4,367.4  "
      ]
     },
     "execution_count": 390,
     "metadata": {},
     "output_type": "execute_result"
    }
   ],
   "source": [
    "single_person_wicd=pd.merge(single_enc_per_person,icd_per_person,left_index=True,right_index=True)\n",
    "print single_person_wicd.shape\n",
    "single_person_wicd.head()"
   ]
  },
  {
   "cell_type": "code",
   "execution_count": 391,
   "metadata": {
    "collapsed": true
   },
   "outputs": [
    {
     "data": {
      "text/html": [
       "<div>\n",
       "<table border=\"1\" class=\"dataframe\">\n",
       "  <thead>\n",
       "    <tr style=\"text-align: right;\">\n",
       "      <th></th>\n",
       "      <th>Enc_Nbr</th>\n",
       "      <th>Person_Nbr</th>\n",
       "      <th>Smoking_Status</th>\n",
       "      <th>Primary_Payer</th>\n",
       "      <th>A1C</th>\n",
       "      <th>BMI</th>\n",
       "      <th>Glucose</th>\n",
       "      <th>BP_Systolic</th>\n",
       "      <th>BP_Diastolic</th>\n",
       "      <th>Enc_Yr</th>\n",
       "      <th>Enc_Time</th>\n",
       "      <th>ICD</th>\n",
       "    </tr>\n",
       "  </thead>\n",
       "  <tbody>\n",
       "    <tr>\n",
       "      <th>0</th>\n",
       "      <td>123227.0</td>\n",
       "      <td>33.0</td>\n",
       "      <td>Never smoker</td>\n",
       "      <td>Premier Vision Plan</td>\n",
       "      <td>8.0</td>\n",
       "      <td>0.00</td>\n",
       "      <td>130.0</td>\n",
       "      <td>59.0</td>\n",
       "      <td>39.0</td>\n",
       "      <td>2014-12-18 00:00:00</td>\n",
       "      <td>14:00:00</td>\n",
       "      <td>367.4,373.00,250.00</td>\n",
       "    </tr>\n",
       "    <tr>\n",
       "      <th>1</th>\n",
       "      <td>14361139.0</td>\n",
       "      <td>327.0</td>\n",
       "      <td>Never smoker</td>\n",
       "      <td>Medicare</td>\n",
       "      <td>0.0</td>\n",
       "      <td>0.00</td>\n",
       "      <td>121.0</td>\n",
       "      <td>0.0</td>\n",
       "      <td>0.0</td>\n",
       "      <td>2011-12-04 00:00:00</td>\n",
       "      <td>11:00:00</td>\n",
       "      <td>365.02,250.00,362.81,365.02,250.00,365.02,250....</td>\n",
       "    </tr>\n",
       "    <tr>\n",
       "      <th>2</th>\n",
       "      <td>11783809.0</td>\n",
       "      <td>335.0</td>\n",
       "      <td>Former smoker</td>\n",
       "      <td>Blue Shield Of Illinois PPO</td>\n",
       "      <td>0.0</td>\n",
       "      <td>0.00</td>\n",
       "      <td>103.0</td>\n",
       "      <td>0.0</td>\n",
       "      <td>0.0</td>\n",
       "      <td>2013-10-16 00:00:00</td>\n",
       "      <td>17:45:00</td>\n",
       "      <td>366.19,374.87,250.00,250.00,366.19,250.00,366....</td>\n",
       "    </tr>\n",
       "    <tr>\n",
       "      <th>3</th>\n",
       "      <td>6074701.0</td>\n",
       "      <td>1515.0</td>\n",
       "      <td>Never smoker</td>\n",
       "      <td>VOHHA</td>\n",
       "      <td>0.0</td>\n",
       "      <td>0.00</td>\n",
       "      <td>200.0</td>\n",
       "      <td>130.0</td>\n",
       "      <td>80.0</td>\n",
       "      <td>2012-10-01 00:00:00</td>\n",
       "      <td>15:30:00</td>\n",
       "      <td>H10.45,H35.40,H04.123,H52.4,nan</td>\n",
       "    </tr>\n",
       "    <tr>\n",
       "      <th>4</th>\n",
       "      <td>8583237.0</td>\n",
       "      <td>1519.0</td>\n",
       "      <td>Former smoker</td>\n",
       "      <td>Opticare CountyCare</td>\n",
       "      <td>0.0</td>\n",
       "      <td>37.11</td>\n",
       "      <td>118.0</td>\n",
       "      <td>110.0</td>\n",
       "      <td>80.0</td>\n",
       "      <td>2014-07-01 00:00:00</td>\n",
       "      <td>17:45:00</td>\n",
       "      <td>367.4,365.01,365.01,367.4,367.4</td>\n",
       "    </tr>\n",
       "  </tbody>\n",
       "</table>\n",
       "</div>"
      ],
      "text/plain": [
       "      Enc_Nbr  Person_Nbr Smoking_Status                Primary_Payer  A1C  \\\n",
       "0    123227.0        33.0   Never smoker          Premier Vision Plan  8.0   \n",
       "1  14361139.0       327.0   Never smoker                     Medicare  0.0   \n",
       "2  11783809.0       335.0  Former smoker  Blue Shield Of Illinois PPO  0.0   \n",
       "3   6074701.0      1515.0   Never smoker                        VOHHA  0.0   \n",
       "4   8583237.0      1519.0  Former smoker          Opticare CountyCare  0.0   \n",
       "\n",
       "     BMI  Glucose  BP_Systolic  BP_Diastolic               Enc_Yr  Enc_Time  \\\n",
       "0   0.00    130.0         59.0          39.0  2014-12-18 00:00:00  14:00:00   \n",
       "1   0.00    121.0          0.0           0.0  2011-12-04 00:00:00  11:00:00   \n",
       "2   0.00    103.0          0.0           0.0  2013-10-16 00:00:00  17:45:00   \n",
       "3   0.00    200.0        130.0          80.0  2012-10-01 00:00:00  15:30:00   \n",
       "4  37.11    118.0        110.0          80.0  2014-07-01 00:00:00  17:45:00   \n",
       "\n",
       "                                                 ICD  \n",
       "0                                367.4,373.00,250.00  \n",
       "1  365.02,250.00,362.81,365.02,250.00,365.02,250....  \n",
       "2  366.19,374.87,250.00,250.00,366.19,250.00,366....  \n",
       "3                    H10.45,H35.40,H04.123,H52.4,nan  \n",
       "4                    367.4,365.01,365.01,367.4,367.4  "
      ]
     },
     "execution_count": 391,
     "metadata": {},
     "output_type": "execute_result"
    }
   ],
   "source": [
    "del single_person_wicd[\"Person_Nbr_y\"]\n",
    "single_person_wicd=single_person_wicd.rename(columns={\"Person_Nbr_x\":\"Person_Nbr\"})\n",
    "single_person_wicd.head()"
   ]
  },
  {
   "cell_type": "code",
   "execution_count": 392,
   "metadata": {
    "collapsed": true
   },
   "outputs": [],
   "source": [
    "single_person_wicd.to_csv(\"single_person_wicd.csv\")"
   ]
  },
  {
   "cell_type": "markdown",
   "metadata": {},
   "source": [
    "Adding Macula Readings"
   ]
  },
  {
   "cell_type": "code",
   "execution_count": 364,
   "metadata": {
    "collapsed": true
   },
   "outputs": [],
   "source": [
    "macula=pd.read_pickle(path+'macula_findings_for_Enc.pickle')"
   ]
  },
  {
   "cell_type": "code",
   "execution_count": 365,
   "metadata": {
    "collapsed": true
   },
   "outputs": [
    {
     "name": "stdout",
     "output_type": "stream",
     "text": [
      "(80946, 29)\n",
      "80946\n",
      "16087\n"
     ]
    },
    {
     "data": {
      "text/html": [
       "<div>\n",
       "<table border=\"1\" class=\"dataframe\">\n",
       "  <thead>\n",
       "    <tr style=\"text-align: right;\">\n",
       "      <th></th>\n",
       "      <th>Enc_ID</th>\n",
       "      <th>Enc_Nbr</th>\n",
       "      <th>Enc_Date</th>\n",
       "      <th>Person_ID</th>\n",
       "      <th>Person_Nbr</th>\n",
       "      <th>OD_Macula1_Finding</th>\n",
       "      <th>OD_Macula1_Modifer</th>\n",
       "      <th>OD_Macula1_Location</th>\n",
       "      <th>OD_Macula2_Finding</th>\n",
       "      <th>OD_Macula2_Modifer</th>\n",
       "      <th>...</th>\n",
       "      <th>OS_Macula1_Location</th>\n",
       "      <th>OS_Macula2_Finding</th>\n",
       "      <th>OS_Macula2_Modifer</th>\n",
       "      <th>OS_Macula2_Location</th>\n",
       "      <th>OS_Macula3_Finding</th>\n",
       "      <th>OS_Macula3_Modifer</th>\n",
       "      <th>OS_Macula3_Location</th>\n",
       "      <th>OS_Macula4_Finding</th>\n",
       "      <th>OS_Macula4_Modifer</th>\n",
       "      <th>OS_Macula4_Location</th>\n",
       "    </tr>\n",
       "  </thead>\n",
       "  <tbody>\n",
       "    <tr>\n",
       "      <th>74595</th>\n",
       "      <td>97825c51-4462-eade-1c1d-2baa3400c033</td>\n",
       "      <td>123227</td>\n",
       "      <td>2014-12-18 14:00:00</td>\n",
       "      <td>80d3df88-dddf-5ad3-7cc1-b7b1ac6151fa</td>\n",
       "      <td>33</td>\n",
       "      <td>flat no hemorrhages exudates or pigmentary cha...</td>\n",
       "      <td>NaN</td>\n",
       "      <td>NaN</td>\n",
       "      <td>NaN</td>\n",
       "      <td>NaN</td>\n",
       "      <td>...</td>\n",
       "      <td>NaN</td>\n",
       "      <td>NaN</td>\n",
       "      <td>NaN</td>\n",
       "      <td>NaN</td>\n",
       "      <td>NaN</td>\n",
       "      <td>NaN</td>\n",
       "      <td>NaN</td>\n",
       "      <td>NaN</td>\n",
       "      <td>NaN</td>\n",
       "      <td>NaN</td>\n",
       "    </tr>\n",
       "    <tr>\n",
       "      <th>54456</th>\n",
       "      <td>a6d9d991-4ff4-79b5-304d-f1b2bff9d6d0</td>\n",
       "      <td>12870648</td>\n",
       "      <td>2012-10-16 03:45:00</td>\n",
       "      <td>adca6fa4-e7d4-d7f8-cf41-27056662d84b</td>\n",
       "      <td>89</td>\n",
       "      <td>flat no hemorrhages exudates or pigmentary cha...</td>\n",
       "      <td>NaN</td>\n",
       "      <td>NaN</td>\n",
       "      <td>NaN</td>\n",
       "      <td>NaN</td>\n",
       "      <td>...</td>\n",
       "      <td>NaN</td>\n",
       "      <td>NaN</td>\n",
       "      <td>NaN</td>\n",
       "      <td>NaN</td>\n",
       "      <td>NaN</td>\n",
       "      <td>NaN</td>\n",
       "      <td>NaN</td>\n",
       "      <td>NaN</td>\n",
       "      <td>NaN</td>\n",
       "      <td>NaN</td>\n",
       "    </tr>\n",
       "    <tr>\n",
       "      <th>54457</th>\n",
       "      <td>fe5eb87c-39b3-4314-0172-4642d51de417</td>\n",
       "      <td>4126172</td>\n",
       "      <td>2014-03-12 15:30:00</td>\n",
       "      <td>adca6fa4-e7d4-d7f8-cf41-27056662d84b</td>\n",
       "      <td>89</td>\n",
       "      <td>flat (-)DME</td>\n",
       "      <td>NaN</td>\n",
       "      <td>NaN</td>\n",
       "      <td>NaN</td>\n",
       "      <td>NaN</td>\n",
       "      <td>...</td>\n",
       "      <td>NaN</td>\n",
       "      <td>NaN</td>\n",
       "      <td>NaN</td>\n",
       "      <td>NaN</td>\n",
       "      <td>NaN</td>\n",
       "      <td>NaN</td>\n",
       "      <td>NaN</td>\n",
       "      <td>NaN</td>\n",
       "      <td>NaN</td>\n",
       "      <td>NaN</td>\n",
       "    </tr>\n",
       "    <tr>\n",
       "      <th>54458</th>\n",
       "      <td>ea3c2622-6d1d-53ab-ddf0-9764927f1507</td>\n",
       "      <td>9217142</td>\n",
       "      <td>2014-04-17 18:45:00</td>\n",
       "      <td>adca6fa4-e7d4-d7f8-cf41-27056662d84b</td>\n",
       "      <td>89</td>\n",
       "      <td>flat no hemorrhages exudates or pigmentary cha...</td>\n",
       "      <td>NaN</td>\n",
       "      <td>NaN</td>\n",
       "      <td>NaN</td>\n",
       "      <td>NaN</td>\n",
       "      <td>...</td>\n",
       "      <td>NaN</td>\n",
       "      <td>NaN</td>\n",
       "      <td>NaN</td>\n",
       "      <td>NaN</td>\n",
       "      <td>NaN</td>\n",
       "      <td>NaN</td>\n",
       "      <td>NaN</td>\n",
       "      <td>NaN</td>\n",
       "      <td>NaN</td>\n",
       "      <td>NaN</td>\n",
       "    </tr>\n",
       "    <tr>\n",
       "      <th>54459</th>\n",
       "      <td>71d10fa4-3b0d-fa52-cfbd-ffd0f3d3532d</td>\n",
       "      <td>14968450</td>\n",
       "      <td>2014-05-25 10:45:00</td>\n",
       "      <td>adca6fa4-e7d4-d7f8-cf41-27056662d84b</td>\n",
       "      <td>89</td>\n",
       "      <td>NaN</td>\n",
       "      <td>NaN</td>\n",
       "      <td>NaN</td>\n",
       "      <td>NaN</td>\n",
       "      <td>NaN</td>\n",
       "      <td>...</td>\n",
       "      <td>NaN</td>\n",
       "      <td>NaN</td>\n",
       "      <td>NaN</td>\n",
       "      <td>NaN</td>\n",
       "      <td>NaN</td>\n",
       "      <td>NaN</td>\n",
       "      <td>NaN</td>\n",
       "      <td>NaN</td>\n",
       "      <td>NaN</td>\n",
       "      <td>NaN</td>\n",
       "    </tr>\n",
       "  </tbody>\n",
       "</table>\n",
       "<p>5 rows × 29 columns</p>\n",
       "</div>"
      ],
      "text/plain": [
       "                                     Enc_ID   Enc_Nbr            Enc_Date  \\\n",
       "74595  97825c51-4462-eade-1c1d-2baa3400c033    123227 2014-12-18 14:00:00   \n",
       "54456  a6d9d991-4ff4-79b5-304d-f1b2bff9d6d0  12870648 2012-10-16 03:45:00   \n",
       "54457  fe5eb87c-39b3-4314-0172-4642d51de417   4126172 2014-03-12 15:30:00   \n",
       "54458  ea3c2622-6d1d-53ab-ddf0-9764927f1507   9217142 2014-04-17 18:45:00   \n",
       "54459  71d10fa4-3b0d-fa52-cfbd-ffd0f3d3532d  14968450 2014-05-25 10:45:00   \n",
       "\n",
       "                                  Person_ID  Person_Nbr  \\\n",
       "74595  80d3df88-dddf-5ad3-7cc1-b7b1ac6151fa          33   \n",
       "54456  adca6fa4-e7d4-d7f8-cf41-27056662d84b          89   \n",
       "54457  adca6fa4-e7d4-d7f8-cf41-27056662d84b          89   \n",
       "54458  adca6fa4-e7d4-d7f8-cf41-27056662d84b          89   \n",
       "54459  adca6fa4-e7d4-d7f8-cf41-27056662d84b          89   \n",
       "\n",
       "                                      OD_Macula1_Finding OD_Macula1_Modifer  \\\n",
       "74595  flat no hemorrhages exudates or pigmentary cha...                NaN   \n",
       "54456  flat no hemorrhages exudates or pigmentary cha...                NaN   \n",
       "54457                                        flat (-)DME                NaN   \n",
       "54458  flat no hemorrhages exudates or pigmentary cha...                NaN   \n",
       "54459                                                NaN                NaN   \n",
       "\n",
       "       OD_Macula1_Location OD_Macula2_Finding OD_Macula2_Modifer  \\\n",
       "74595                  NaN                NaN                NaN   \n",
       "54456                  NaN                NaN                NaN   \n",
       "54457                  NaN                NaN                NaN   \n",
       "54458                  NaN                NaN                NaN   \n",
       "54459                  NaN                NaN                NaN   \n",
       "\n",
       "              ...           OS_Macula1_Location OS_Macula2_Finding  \\\n",
       "74595         ...                           NaN                NaN   \n",
       "54456         ...                           NaN                NaN   \n",
       "54457         ...                           NaN                NaN   \n",
       "54458         ...                           NaN                NaN   \n",
       "54459         ...                           NaN                NaN   \n",
       "\n",
       "      OS_Macula2_Modifer  OS_Macula2_Location OS_Macula3_Finding  \\\n",
       "74595                NaN                  NaN                NaN   \n",
       "54456                NaN                  NaN                NaN   \n",
       "54457                NaN                  NaN                NaN   \n",
       "54458                NaN                  NaN                NaN   \n",
       "54459                NaN                  NaN                NaN   \n",
       "\n",
       "       OS_Macula3_Modifer  OS_Macula3_Location OS_Macula4_Finding  \\\n",
       "74595                 NaN                  NaN                NaN   \n",
       "54456                 NaN                  NaN                NaN   \n",
       "54457                 NaN                  NaN                NaN   \n",
       "54458                 NaN                  NaN                NaN   \n",
       "54459                 NaN                  NaN                NaN   \n",
       "\n",
       "      OS_Macula4_Modifer  OS_Macula4_Location  \n",
       "74595                NaN                  NaN  \n",
       "54456                NaN                  NaN  \n",
       "54457                NaN                  NaN  \n",
       "54458                NaN                  NaN  \n",
       "54459                NaN                  NaN  \n",
       "\n",
       "[5 rows x 29 columns]"
      ]
     },
     "execution_count": 365,
     "metadata": {},
     "output_type": "execute_result"
    }
   ],
   "source": [
    "print macula.shape\n",
    "print len(macula.Enc_Nbr.drop_duplicates())\n",
    "print len(macula.Person_Nbr.drop_duplicates())\n",
    "macula.head()"
   ]
  },
  {
   "cell_type": "code",
   "execution_count": 366,
   "metadata": {
    "collapsed": true
   },
   "outputs": [],
   "source": [
    "macula=macula.reset_index()"
   ]
  },
  {
   "cell_type": "code",
   "execution_count": 367,
   "metadata": {
    "collapsed": true
   },
   "outputs": [
    {
     "name": "stdout",
     "output_type": "stream",
     "text": [
      "(39940, 30)\n"
     ]
    },
    {
     "data": {
      "text/html": [
       "<div>\n",
       "<table border=\"1\" class=\"dataframe\">\n",
       "  <thead>\n",
       "    <tr style=\"text-align: right;\">\n",
       "      <th></th>\n",
       "      <th>index</th>\n",
       "      <th>Enc_ID</th>\n",
       "      <th>Enc_Nbr</th>\n",
       "      <th>Enc_Date</th>\n",
       "      <th>Person_ID</th>\n",
       "      <th>Person_Nbr</th>\n",
       "      <th>OD_Macula1_Finding</th>\n",
       "      <th>OD_Macula1_Modifer</th>\n",
       "      <th>OD_Macula1_Location</th>\n",
       "      <th>OD_Macula2_Finding</th>\n",
       "      <th>...</th>\n",
       "      <th>OS_Macula1_Location</th>\n",
       "      <th>OS_Macula2_Finding</th>\n",
       "      <th>OS_Macula2_Modifer</th>\n",
       "      <th>OS_Macula2_Location</th>\n",
       "      <th>OS_Macula3_Finding</th>\n",
       "      <th>OS_Macula3_Modifer</th>\n",
       "      <th>OS_Macula3_Location</th>\n",
       "      <th>OS_Macula4_Finding</th>\n",
       "      <th>OS_Macula4_Modifer</th>\n",
       "      <th>OS_Macula4_Location</th>\n",
       "    </tr>\n",
       "  </thead>\n",
       "  <tbody>\n",
       "    <tr>\n",
       "      <th>0</th>\n",
       "      <td>74595</td>\n",
       "      <td>97825c51-4462-eade-1c1d-2baa3400c033</td>\n",
       "      <td>123227</td>\n",
       "      <td>2014-12-18 14:00:00</td>\n",
       "      <td>80d3df88-dddf-5ad3-7cc1-b7b1ac6151fa</td>\n",
       "      <td>33</td>\n",
       "      <td>flat no hemorrhages exudates or pigmentary cha...</td>\n",
       "      <td>NaN</td>\n",
       "      <td>NaN</td>\n",
       "      <td>NaN</td>\n",
       "      <td>...</td>\n",
       "      <td>NaN</td>\n",
       "      <td>NaN</td>\n",
       "      <td>NaN</td>\n",
       "      <td>NaN</td>\n",
       "      <td>NaN</td>\n",
       "      <td>NaN</td>\n",
       "      <td>NaN</td>\n",
       "      <td>NaN</td>\n",
       "      <td>NaN</td>\n",
       "      <td>NaN</td>\n",
       "    </tr>\n",
       "    <tr>\n",
       "      <th>1</th>\n",
       "      <td>54456</td>\n",
       "      <td>a6d9d991-4ff4-79b5-304d-f1b2bff9d6d0</td>\n",
       "      <td>12870648</td>\n",
       "      <td>2012-10-16 03:45:00</td>\n",
       "      <td>adca6fa4-e7d4-d7f8-cf41-27056662d84b</td>\n",
       "      <td>89</td>\n",
       "      <td>flat no hemorrhages exudates or pigmentary cha...</td>\n",
       "      <td>NaN</td>\n",
       "      <td>NaN</td>\n",
       "      <td>NaN</td>\n",
       "      <td>...</td>\n",
       "      <td>NaN</td>\n",
       "      <td>NaN</td>\n",
       "      <td>NaN</td>\n",
       "      <td>NaN</td>\n",
       "      <td>NaN</td>\n",
       "      <td>NaN</td>\n",
       "      <td>NaN</td>\n",
       "      <td>NaN</td>\n",
       "      <td>NaN</td>\n",
       "      <td>NaN</td>\n",
       "    </tr>\n",
       "    <tr>\n",
       "      <th>2</th>\n",
       "      <td>54457</td>\n",
       "      <td>fe5eb87c-39b3-4314-0172-4642d51de417</td>\n",
       "      <td>4126172</td>\n",
       "      <td>2014-03-12 15:30:00</td>\n",
       "      <td>adca6fa4-e7d4-d7f8-cf41-27056662d84b</td>\n",
       "      <td>89</td>\n",
       "      <td>flat (-)DME</td>\n",
       "      <td>NaN</td>\n",
       "      <td>NaN</td>\n",
       "      <td>NaN</td>\n",
       "      <td>...</td>\n",
       "      <td>NaN</td>\n",
       "      <td>NaN</td>\n",
       "      <td>NaN</td>\n",
       "      <td>NaN</td>\n",
       "      <td>NaN</td>\n",
       "      <td>NaN</td>\n",
       "      <td>NaN</td>\n",
       "      <td>NaN</td>\n",
       "      <td>NaN</td>\n",
       "      <td>NaN</td>\n",
       "    </tr>\n",
       "    <tr>\n",
       "      <th>3</th>\n",
       "      <td>54458</td>\n",
       "      <td>ea3c2622-6d1d-53ab-ddf0-9764927f1507</td>\n",
       "      <td>9217142</td>\n",
       "      <td>2014-04-17 18:45:00</td>\n",
       "      <td>adca6fa4-e7d4-d7f8-cf41-27056662d84b</td>\n",
       "      <td>89</td>\n",
       "      <td>flat no hemorrhages exudates or pigmentary cha...</td>\n",
       "      <td>NaN</td>\n",
       "      <td>NaN</td>\n",
       "      <td>NaN</td>\n",
       "      <td>...</td>\n",
       "      <td>NaN</td>\n",
       "      <td>NaN</td>\n",
       "      <td>NaN</td>\n",
       "      <td>NaN</td>\n",
       "      <td>NaN</td>\n",
       "      <td>NaN</td>\n",
       "      <td>NaN</td>\n",
       "      <td>NaN</td>\n",
       "      <td>NaN</td>\n",
       "      <td>NaN</td>\n",
       "    </tr>\n",
       "    <tr>\n",
       "      <th>8</th>\n",
       "      <td>54463</td>\n",
       "      <td>831d44f9-4ab7-8df8-8757-bb1eebd14e6b</td>\n",
       "      <td>10658304</td>\n",
       "      <td>2016-10-22 09:15:00</td>\n",
       "      <td>adca6fa4-e7d4-d7f8-cf41-27056662d84b</td>\n",
       "      <td>89</td>\n",
       "      <td>flat no hemorrhages exudates pigmentary change...</td>\n",
       "      <td>NaN</td>\n",
       "      <td>NaN</td>\n",
       "      <td>NaN</td>\n",
       "      <td>...</td>\n",
       "      <td>NaN</td>\n",
       "      <td>NaN</td>\n",
       "      <td>NaN</td>\n",
       "      <td>NaN</td>\n",
       "      <td>NaN</td>\n",
       "      <td>NaN</td>\n",
       "      <td>NaN</td>\n",
       "      <td>NaN</td>\n",
       "      <td>NaN</td>\n",
       "      <td>NaN</td>\n",
       "    </tr>\n",
       "  </tbody>\n",
       "</table>\n",
       "<p>5 rows × 30 columns</p>\n",
       "</div>"
      ],
      "text/plain": [
       "   index                                Enc_ID   Enc_Nbr            Enc_Date  \\\n",
       "0  74595  97825c51-4462-eade-1c1d-2baa3400c033    123227 2014-12-18 14:00:00   \n",
       "1  54456  a6d9d991-4ff4-79b5-304d-f1b2bff9d6d0  12870648 2012-10-16 03:45:00   \n",
       "2  54457  fe5eb87c-39b3-4314-0172-4642d51de417   4126172 2014-03-12 15:30:00   \n",
       "3  54458  ea3c2622-6d1d-53ab-ddf0-9764927f1507   9217142 2014-04-17 18:45:00   \n",
       "8  54463  831d44f9-4ab7-8df8-8757-bb1eebd14e6b  10658304 2016-10-22 09:15:00   \n",
       "\n",
       "                              Person_ID  Person_Nbr  \\\n",
       "0  80d3df88-dddf-5ad3-7cc1-b7b1ac6151fa          33   \n",
       "1  adca6fa4-e7d4-d7f8-cf41-27056662d84b          89   \n",
       "2  adca6fa4-e7d4-d7f8-cf41-27056662d84b          89   \n",
       "3  adca6fa4-e7d4-d7f8-cf41-27056662d84b          89   \n",
       "8  adca6fa4-e7d4-d7f8-cf41-27056662d84b          89   \n",
       "\n",
       "                                  OD_Macula1_Finding OD_Macula1_Modifer  \\\n",
       "0  flat no hemorrhages exudates or pigmentary cha...                NaN   \n",
       "1  flat no hemorrhages exudates or pigmentary cha...                NaN   \n",
       "2                                        flat (-)DME                NaN   \n",
       "3  flat no hemorrhages exudates or pigmentary cha...                NaN   \n",
       "8  flat no hemorrhages exudates pigmentary change...                NaN   \n",
       "\n",
       "   OD_Macula1_Location OD_Macula2_Finding         ...          \\\n",
       "0                  NaN                NaN         ...           \n",
       "1                  NaN                NaN         ...           \n",
       "2                  NaN                NaN         ...           \n",
       "3                  NaN                NaN         ...           \n",
       "8                  NaN                NaN         ...           \n",
       "\n",
       "  OS_Macula1_Location  OS_Macula2_Finding OS_Macula2_Modifer  \\\n",
       "0                 NaN                 NaN                NaN   \n",
       "1                 NaN                 NaN                NaN   \n",
       "2                 NaN                 NaN                NaN   \n",
       "3                 NaN                 NaN                NaN   \n",
       "8                 NaN                 NaN                NaN   \n",
       "\n",
       "  OS_Macula2_Location  OS_Macula3_Finding OS_Macula3_Modifer  \\\n",
       "0                 NaN                 NaN                NaN   \n",
       "1                 NaN                 NaN                NaN   \n",
       "2                 NaN                 NaN                NaN   \n",
       "3                 NaN                 NaN                NaN   \n",
       "8                 NaN                 NaN                NaN   \n",
       "\n",
       "   OS_Macula3_Location  OS_Macula4_Finding OS_Macula4_Modifer  \\\n",
       "0                  NaN                 NaN                NaN   \n",
       "1                  NaN                 NaN                NaN   \n",
       "2                  NaN                 NaN                NaN   \n",
       "3                  NaN                 NaN                NaN   \n",
       "8                  NaN                 NaN                NaN   \n",
       "\n",
       "  OS_Macula4_Location  \n",
       "0                 NaN  \n",
       "1                 NaN  \n",
       "2                 NaN  \n",
       "3                 NaN  \n",
       "8                 NaN  \n",
       "\n",
       "[5 rows x 30 columns]"
      ]
     },
     "execution_count": 367,
     "metadata": {},
     "output_type": "execute_result"
    }
   ],
   "source": [
    "m1=macula.dropna(subset=[\"OD_Macula1_Finding\"])\n",
    "print m1.shape\n",
    "m1.head()"
   ]
  },
  {
   "cell_type": "code",
   "execution_count": 368,
   "metadata": {
    "collapsed": false
   },
   "outputs": [
    {
     "data": {
      "text/plain": [
       "15409"
      ]
     },
     "execution_count": 368,
     "metadata": {},
     "output_type": "execute_result"
    }
   ],
   "source": [
    "len(m1.Person_Nbr.drop_duplicates())"
   ]
  },
  {
   "cell_type": "markdown",
   "metadata": {},
   "source": [
    "Choose the most recent findings"
   ]
  },
  {
   "cell_type": "code",
   "execution_count": 369,
   "metadata": {
    "collapsed": true
   },
   "outputs": [
    {
     "name": "stdout",
     "output_type": "stream",
     "text": [
      "(15409, 30)\n"
     ]
    },
    {
     "data": {
      "text/html": [
       "<div>\n",
       "<table border=\"1\" class=\"dataframe\">\n",
       "  <thead>\n",
       "    <tr style=\"text-align: right;\">\n",
       "      <th></th>\n",
       "      <th>index</th>\n",
       "      <th>Enc_ID</th>\n",
       "      <th>Enc_Nbr</th>\n",
       "      <th>Enc_Date</th>\n",
       "      <th>Person_ID</th>\n",
       "      <th>Person_Nbr</th>\n",
       "      <th>OD_Macula1_Finding</th>\n",
       "      <th>OD_Macula1_Modifer</th>\n",
       "      <th>OD_Macula1_Location</th>\n",
       "      <th>OD_Macula2_Finding</th>\n",
       "      <th>...</th>\n",
       "      <th>OS_Macula1_Location</th>\n",
       "      <th>OS_Macula2_Finding</th>\n",
       "      <th>OS_Macula2_Modifer</th>\n",
       "      <th>OS_Macula2_Location</th>\n",
       "      <th>OS_Macula3_Finding</th>\n",
       "      <th>OS_Macula3_Modifer</th>\n",
       "      <th>OS_Macula3_Location</th>\n",
       "      <th>OS_Macula4_Finding</th>\n",
       "      <th>OS_Macula4_Modifer</th>\n",
       "      <th>OS_Macula4_Location</th>\n",
       "    </tr>\n",
       "  </thead>\n",
       "  <tbody>\n",
       "    <tr>\n",
       "      <th>0</th>\n",
       "      <td>74595</td>\n",
       "      <td>97825c51-4462-eade-1c1d-2baa3400c033</td>\n",
       "      <td>123227</td>\n",
       "      <td>2014-12-18 14:00:00</td>\n",
       "      <td>80d3df88-dddf-5ad3-7cc1-b7b1ac6151fa</td>\n",
       "      <td>33</td>\n",
       "      <td>flat no hemorrhages exudates or pigmentary cha...</td>\n",
       "      <td>NaN</td>\n",
       "      <td>NaN</td>\n",
       "      <td>NaN</td>\n",
       "      <td>...</td>\n",
       "      <td>NaN</td>\n",
       "      <td>NaN</td>\n",
       "      <td>NaN</td>\n",
       "      <td>NaN</td>\n",
       "      <td>NaN</td>\n",
       "      <td>NaN</td>\n",
       "      <td>NaN</td>\n",
       "      <td>NaN</td>\n",
       "      <td>NaN</td>\n",
       "      <td>NaN</td>\n",
       "    </tr>\n",
       "    <tr>\n",
       "      <th>8</th>\n",
       "      <td>54463</td>\n",
       "      <td>831d44f9-4ab7-8df8-8757-bb1eebd14e6b</td>\n",
       "      <td>10658304</td>\n",
       "      <td>2016-10-22 09:15:00</td>\n",
       "      <td>adca6fa4-e7d4-d7f8-cf41-27056662d84b</td>\n",
       "      <td>89</td>\n",
       "      <td>flat no hemorrhages exudates pigmentary change...</td>\n",
       "      <td>NaN</td>\n",
       "      <td>NaN</td>\n",
       "      <td>NaN</td>\n",
       "      <td>...</td>\n",
       "      <td>NaN</td>\n",
       "      <td>NaN</td>\n",
       "      <td>NaN</td>\n",
       "      <td>NaN</td>\n",
       "      <td>NaN</td>\n",
       "      <td>NaN</td>\n",
       "      <td>NaN</td>\n",
       "      <td>NaN</td>\n",
       "      <td>NaN</td>\n",
       "      <td>NaN</td>\n",
       "    </tr>\n",
       "    <tr>\n",
       "      <th>14</th>\n",
       "      <td>44553</td>\n",
       "      <td>63ecc259-208f-7ef2-b0f8-acf25e23c264</td>\n",
       "      <td>5786173</td>\n",
       "      <td>2016-04-05 10:15:00</td>\n",
       "      <td>ca793eec-f101-2505-42e6-57fefc6baf14</td>\n",
       "      <td>146</td>\n",
       "      <td>flat no hemorrhages exudates pigmentary change...</td>\n",
       "      <td>NaN</td>\n",
       "      <td>NaN</td>\n",
       "      <td>NaN</td>\n",
       "      <td>...</td>\n",
       "      <td>NaN</td>\n",
       "      <td>NaN</td>\n",
       "      <td>NaN</td>\n",
       "      <td>NaN</td>\n",
       "      <td>NaN</td>\n",
       "      <td>NaN</td>\n",
       "      <td>NaN</td>\n",
       "      <td>NaN</td>\n",
       "      <td>NaN</td>\n",
       "      <td>NaN</td>\n",
       "    </tr>\n",
       "    <tr>\n",
       "      <th>15</th>\n",
       "      <td>81657</td>\n",
       "      <td>918e81a9-5ea3-933a-6c73-219c07ffb733</td>\n",
       "      <td>14534672</td>\n",
       "      <td>2016-10-05 00:45:00</td>\n",
       "      <td>3afb193c-dbf7-9f64-5f95-447f81cd0bdf</td>\n",
       "      <td>196</td>\n",
       "      <td>flat no hemorrhages exudates pigmentary change...</td>\n",
       "      <td>NaN</td>\n",
       "      <td>NaN</td>\n",
       "      <td>NaN</td>\n",
       "      <td>...</td>\n",
       "      <td>NaN</td>\n",
       "      <td>NaN</td>\n",
       "      <td>NaN</td>\n",
       "      <td>NaN</td>\n",
       "      <td>NaN</td>\n",
       "      <td>NaN</td>\n",
       "      <td>NaN</td>\n",
       "      <td>NaN</td>\n",
       "      <td>NaN</td>\n",
       "      <td>NaN</td>\n",
       "    </tr>\n",
       "    <tr>\n",
       "      <th>20</th>\n",
       "      <td>79224</td>\n",
       "      <td>2bad0952-05f8-acc5-35f2-3c7ea950943d</td>\n",
       "      <td>3610887</td>\n",
       "      <td>2016-01-19 07:45:00</td>\n",
       "      <td>8101be56-67f1-cc74-49d0-9eb3f721cdc6</td>\n",
       "      <td>331</td>\n",
       "      <td>Large ME</td>\n",
       "      <td>NaN</td>\n",
       "      <td>NaN</td>\n",
       "      <td>NaN</td>\n",
       "      <td>...</td>\n",
       "      <td>NaN</td>\n",
       "      <td>NaN</td>\n",
       "      <td>NaN</td>\n",
       "      <td>NaN</td>\n",
       "      <td>NaN</td>\n",
       "      <td>NaN</td>\n",
       "      <td>NaN</td>\n",
       "      <td>NaN</td>\n",
       "      <td>NaN</td>\n",
       "      <td>NaN</td>\n",
       "    </tr>\n",
       "  </tbody>\n",
       "</table>\n",
       "<p>5 rows × 30 columns</p>\n",
       "</div>"
      ],
      "text/plain": [
       "    index                                Enc_ID   Enc_Nbr            Enc_Date  \\\n",
       "0   74595  97825c51-4462-eade-1c1d-2baa3400c033    123227 2014-12-18 14:00:00   \n",
       "8   54463  831d44f9-4ab7-8df8-8757-bb1eebd14e6b  10658304 2016-10-22 09:15:00   \n",
       "14  44553  63ecc259-208f-7ef2-b0f8-acf25e23c264   5786173 2016-04-05 10:15:00   \n",
       "15  81657  918e81a9-5ea3-933a-6c73-219c07ffb733  14534672 2016-10-05 00:45:00   \n",
       "20  79224  2bad0952-05f8-acc5-35f2-3c7ea950943d   3610887 2016-01-19 07:45:00   \n",
       "\n",
       "                               Person_ID  Person_Nbr  \\\n",
       "0   80d3df88-dddf-5ad3-7cc1-b7b1ac6151fa          33   \n",
       "8   adca6fa4-e7d4-d7f8-cf41-27056662d84b          89   \n",
       "14  ca793eec-f101-2505-42e6-57fefc6baf14         146   \n",
       "15  3afb193c-dbf7-9f64-5f95-447f81cd0bdf         196   \n",
       "20  8101be56-67f1-cc74-49d0-9eb3f721cdc6         331   \n",
       "\n",
       "                                   OD_Macula1_Finding OD_Macula1_Modifer  \\\n",
       "0   flat no hemorrhages exudates or pigmentary cha...                NaN   \n",
       "8   flat no hemorrhages exudates pigmentary change...                NaN   \n",
       "14  flat no hemorrhages exudates pigmentary change...                NaN   \n",
       "15  flat no hemorrhages exudates pigmentary change...                NaN   \n",
       "20                                           Large ME                NaN   \n",
       "\n",
       "    OD_Macula1_Location OD_Macula2_Finding         ...          \\\n",
       "0                   NaN                NaN         ...           \n",
       "8                   NaN                NaN         ...           \n",
       "14                  NaN                NaN         ...           \n",
       "15                  NaN                NaN         ...           \n",
       "20                  NaN                NaN         ...           \n",
       "\n",
       "   OS_Macula1_Location  OS_Macula2_Finding OS_Macula2_Modifer  \\\n",
       "0                  NaN                 NaN                NaN   \n",
       "8                  NaN                 NaN                NaN   \n",
       "14                 NaN                 NaN                NaN   \n",
       "15                 NaN                 NaN                NaN   \n",
       "20                 NaN                 NaN                NaN   \n",
       "\n",
       "   OS_Macula2_Location  OS_Macula3_Finding OS_Macula3_Modifer  \\\n",
       "0                  NaN                 NaN                NaN   \n",
       "8                  NaN                 NaN                NaN   \n",
       "14                 NaN                 NaN                NaN   \n",
       "15                 NaN                 NaN                NaN   \n",
       "20                 NaN                 NaN                NaN   \n",
       "\n",
       "    OS_Macula3_Location  OS_Macula4_Finding OS_Macula4_Modifer  \\\n",
       "0                   NaN                 NaN                NaN   \n",
       "8                   NaN                 NaN                NaN   \n",
       "14                  NaN                 NaN                NaN   \n",
       "15                  NaN                 NaN                NaN   \n",
       "20                  NaN                 NaN                NaN   \n",
       "\n",
       "   OS_Macula4_Location  \n",
       "0                  NaN  \n",
       "8                  NaN  \n",
       "14                 NaN  \n",
       "15                 NaN  \n",
       "20                 NaN  \n",
       "\n",
       "[5 rows x 30 columns]"
      ]
     },
     "execution_count": 369,
     "metadata": {},
     "output_type": "execute_result"
    }
   ],
   "source": [
    "a=m1.loc[m1.groupby(['Person_Nbr'])['Enc_Date'].idxmax()]\n",
    "print a.shape\n",
    "a.head()"
   ]
  },
  {
   "cell_type": "code",
   "execution_count": 375,
   "metadata": {
    "collapsed": true
   },
   "outputs": [
    {
     "name": "stdout",
     "output_type": "stream",
     "text": [
      "(15409, 32)\n"
     ]
    },
    {
     "data": {
      "text/plain": [
       "Index([u'index', u'Enc_ID', u'Enc_Nbr', u'Enc_Date', u'Person_ID',\n",
       "       u'Person_Nbr', u'OD_Macula1_Finding', u'OD_Macula1_Modifer',\n",
       "       u'OD_Macula1_Location', u'OD_Macula2_Finding', u'OD_Macula2_Modifer',\n",
       "       u'OD_Macula2_Location', u'OD_Macula3_Finding', u'OD_Macula3_Modifer',\n",
       "       u'OD_Macula3_Location', u'OD_Macula4_Finding', u'OD_Macula4_Modifer',\n",
       "       u'OD_Macula4_Location', u'OS_Macula1_Finding', u'OS_Macula1_Modifer',\n",
       "       u'OS_Macula1_Location', u'OS_Macula2_Finding', u'OS_Macula2_Modifer',\n",
       "       u'OS_Macula2_Location', u'OS_Macula3_Finding', u'OS_Macula3_Modifer',\n",
       "       u'OS_Macula3_Location', u'OS_Macula4_Finding', u'OS_Macula4_Modifer',\n",
       "       u'OS_Macula4_Location', u'Enc_Yr', u'Enc_Time'],\n",
       "      dtype='object')"
      ]
     },
     "execution_count": 375,
     "metadata": {},
     "output_type": "execute_result"
    }
   ],
   "source": [
    "temp = pd.DatetimeIndex(a.Enc_Date)\n",
    "a[\"Enc_Yr\"] = temp.date\n",
    "a['Enc_Time'] = temp.time\n",
    "print a.shape\n",
    "a.columns"
   ]
  },
  {
   "cell_type": "code",
   "execution_count": 377,
   "metadata": {
    "collapsed": true
   },
   "outputs": [
    {
     "name": "stdout",
     "output_type": "stream",
     "text": [
      "(15409, 29)\n"
     ]
    },
    {
     "data": {
      "text/html": [
       "<div>\n",
       "<table border=\"1\" class=\"dataframe\">\n",
       "  <thead>\n",
       "    <tr style=\"text-align: right;\">\n",
       "      <th></th>\n",
       "      <th>Enc_ID</th>\n",
       "      <th>Enc_Nbr</th>\n",
       "      <th>Enc_Yr</th>\n",
       "      <th>Enc_Time</th>\n",
       "      <th>Person_Nbr</th>\n",
       "      <th>OD_Macula1_Finding</th>\n",
       "      <th>OD_Macula1_Modifer</th>\n",
       "      <th>OD_Macula1_Location</th>\n",
       "      <th>OD_Macula2_Finding</th>\n",
       "      <th>OD_Macula2_Modifer</th>\n",
       "      <th>...</th>\n",
       "      <th>OS_Macula1_Location</th>\n",
       "      <th>OS_Macula2_Finding</th>\n",
       "      <th>OS_Macula2_Modifer</th>\n",
       "      <th>OS_Macula2_Location</th>\n",
       "      <th>OS_Macula3_Finding</th>\n",
       "      <th>OS_Macula3_Modifer</th>\n",
       "      <th>OS_Macula3_Location</th>\n",
       "      <th>OS_Macula4_Finding</th>\n",
       "      <th>OS_Macula4_Modifer</th>\n",
       "      <th>OS_Macula4_Location</th>\n",
       "    </tr>\n",
       "  </thead>\n",
       "  <tbody>\n",
       "    <tr>\n",
       "      <th>0</th>\n",
       "      <td>97825c51-4462-eade-1c1d-2baa3400c033</td>\n",
       "      <td>123227</td>\n",
       "      <td>2014-12-18</td>\n",
       "      <td>14:00:00</td>\n",
       "      <td>33</td>\n",
       "      <td>flat no hemorrhages exudates or pigmentary cha...</td>\n",
       "      <td>NaN</td>\n",
       "      <td>NaN</td>\n",
       "      <td>NaN</td>\n",
       "      <td>NaN</td>\n",
       "      <td>...</td>\n",
       "      <td>NaN</td>\n",
       "      <td>NaN</td>\n",
       "      <td>NaN</td>\n",
       "      <td>NaN</td>\n",
       "      <td>NaN</td>\n",
       "      <td>NaN</td>\n",
       "      <td>NaN</td>\n",
       "      <td>NaN</td>\n",
       "      <td>NaN</td>\n",
       "      <td>NaN</td>\n",
       "    </tr>\n",
       "    <tr>\n",
       "      <th>8</th>\n",
       "      <td>831d44f9-4ab7-8df8-8757-bb1eebd14e6b</td>\n",
       "      <td>10658304</td>\n",
       "      <td>2016-10-22</td>\n",
       "      <td>09:15:00</td>\n",
       "      <td>89</td>\n",
       "      <td>flat no hemorrhages exudates pigmentary change...</td>\n",
       "      <td>NaN</td>\n",
       "      <td>NaN</td>\n",
       "      <td>NaN</td>\n",
       "      <td>NaN</td>\n",
       "      <td>...</td>\n",
       "      <td>NaN</td>\n",
       "      <td>NaN</td>\n",
       "      <td>NaN</td>\n",
       "      <td>NaN</td>\n",
       "      <td>NaN</td>\n",
       "      <td>NaN</td>\n",
       "      <td>NaN</td>\n",
       "      <td>NaN</td>\n",
       "      <td>NaN</td>\n",
       "      <td>NaN</td>\n",
       "    </tr>\n",
       "    <tr>\n",
       "      <th>14</th>\n",
       "      <td>63ecc259-208f-7ef2-b0f8-acf25e23c264</td>\n",
       "      <td>5786173</td>\n",
       "      <td>2016-04-05</td>\n",
       "      <td>10:15:00</td>\n",
       "      <td>146</td>\n",
       "      <td>flat no hemorrhages exudates pigmentary change...</td>\n",
       "      <td>NaN</td>\n",
       "      <td>NaN</td>\n",
       "      <td>NaN</td>\n",
       "      <td>NaN</td>\n",
       "      <td>...</td>\n",
       "      <td>NaN</td>\n",
       "      <td>NaN</td>\n",
       "      <td>NaN</td>\n",
       "      <td>NaN</td>\n",
       "      <td>NaN</td>\n",
       "      <td>NaN</td>\n",
       "      <td>NaN</td>\n",
       "      <td>NaN</td>\n",
       "      <td>NaN</td>\n",
       "      <td>NaN</td>\n",
       "    </tr>\n",
       "    <tr>\n",
       "      <th>15</th>\n",
       "      <td>918e81a9-5ea3-933a-6c73-219c07ffb733</td>\n",
       "      <td>14534672</td>\n",
       "      <td>2016-10-05</td>\n",
       "      <td>00:45:00</td>\n",
       "      <td>196</td>\n",
       "      <td>flat no hemorrhages exudates pigmentary change...</td>\n",
       "      <td>NaN</td>\n",
       "      <td>NaN</td>\n",
       "      <td>NaN</td>\n",
       "      <td>NaN</td>\n",
       "      <td>...</td>\n",
       "      <td>NaN</td>\n",
       "      <td>NaN</td>\n",
       "      <td>NaN</td>\n",
       "      <td>NaN</td>\n",
       "      <td>NaN</td>\n",
       "      <td>NaN</td>\n",
       "      <td>NaN</td>\n",
       "      <td>NaN</td>\n",
       "      <td>NaN</td>\n",
       "      <td>NaN</td>\n",
       "    </tr>\n",
       "    <tr>\n",
       "      <th>20</th>\n",
       "      <td>2bad0952-05f8-acc5-35f2-3c7ea950943d</td>\n",
       "      <td>3610887</td>\n",
       "      <td>2016-01-19</td>\n",
       "      <td>07:45:00</td>\n",
       "      <td>331</td>\n",
       "      <td>Large ME</td>\n",
       "      <td>NaN</td>\n",
       "      <td>NaN</td>\n",
       "      <td>NaN</td>\n",
       "      <td>NaN</td>\n",
       "      <td>...</td>\n",
       "      <td>NaN</td>\n",
       "      <td>NaN</td>\n",
       "      <td>NaN</td>\n",
       "      <td>NaN</td>\n",
       "      <td>NaN</td>\n",
       "      <td>NaN</td>\n",
       "      <td>NaN</td>\n",
       "      <td>NaN</td>\n",
       "      <td>NaN</td>\n",
       "      <td>NaN</td>\n",
       "    </tr>\n",
       "  </tbody>\n",
       "</table>\n",
       "<p>5 rows × 29 columns</p>\n",
       "</div>"
      ],
      "text/plain": [
       "                                  Enc_ID   Enc_Nbr      Enc_Yr  Enc_Time  \\\n",
       "0   97825c51-4462-eade-1c1d-2baa3400c033    123227  2014-12-18  14:00:00   \n",
       "8   831d44f9-4ab7-8df8-8757-bb1eebd14e6b  10658304  2016-10-22  09:15:00   \n",
       "14  63ecc259-208f-7ef2-b0f8-acf25e23c264   5786173  2016-04-05  10:15:00   \n",
       "15  918e81a9-5ea3-933a-6c73-219c07ffb733  14534672  2016-10-05  00:45:00   \n",
       "20  2bad0952-05f8-acc5-35f2-3c7ea950943d   3610887  2016-01-19  07:45:00   \n",
       "\n",
       "    Person_Nbr                                 OD_Macula1_Finding  \\\n",
       "0           33  flat no hemorrhages exudates or pigmentary cha...   \n",
       "8           89  flat no hemorrhages exudates pigmentary change...   \n",
       "14         146  flat no hemorrhages exudates pigmentary change...   \n",
       "15         196  flat no hemorrhages exudates pigmentary change...   \n",
       "20         331                                           Large ME   \n",
       "\n",
       "   OD_Macula1_Modifer  OD_Macula1_Location OD_Macula2_Finding  \\\n",
       "0                 NaN                  NaN                NaN   \n",
       "8                 NaN                  NaN                NaN   \n",
       "14                NaN                  NaN                NaN   \n",
       "15                NaN                  NaN                NaN   \n",
       "20                NaN                  NaN                NaN   \n",
       "\n",
       "   OD_Macula2_Modifer         ...           OS_Macula1_Location  \\\n",
       "0                 NaN         ...                           NaN   \n",
       "8                 NaN         ...                           NaN   \n",
       "14                NaN         ...                           NaN   \n",
       "15                NaN         ...                           NaN   \n",
       "20                NaN         ...                           NaN   \n",
       "\n",
       "   OS_Macula2_Finding OS_Macula2_Modifer  OS_Macula2_Location  \\\n",
       "0                 NaN                NaN                  NaN   \n",
       "8                 NaN                NaN                  NaN   \n",
       "14                NaN                NaN                  NaN   \n",
       "15                NaN                NaN                  NaN   \n",
       "20                NaN                NaN                  NaN   \n",
       "\n",
       "   OS_Macula3_Finding  OS_Macula3_Modifer  OS_Macula3_Location  \\\n",
       "0                 NaN                 NaN                  NaN   \n",
       "8                 NaN                 NaN                  NaN   \n",
       "14                NaN                 NaN                  NaN   \n",
       "15                NaN                 NaN                  NaN   \n",
       "20                NaN                 NaN                  NaN   \n",
       "\n",
       "   OS_Macula4_Finding OS_Macula4_Modifer  OS_Macula4_Location  \n",
       "0                 NaN                NaN                  NaN  \n",
       "8                 NaN                NaN                  NaN  \n",
       "14                NaN                NaN                  NaN  \n",
       "15                NaN                NaN                  NaN  \n",
       "20                NaN                NaN                  NaN  \n",
       "\n",
       "[5 rows x 29 columns]"
      ]
     },
     "execution_count": 377,
     "metadata": {},
     "output_type": "execute_result"
    }
   ],
   "source": [
    "cols=['Enc_ID','Enc_Nbr', 'Enc_Yr', 'Enc_Time',\n",
    "       u'Person_Nbr', u'OD_Macula1_Finding', u'OD_Macula1_Modifer',\n",
    "       u'OD_Macula1_Location', u'OD_Macula2_Finding', u'OD_Macula2_Modifer',\n",
    "       u'OD_Macula2_Location', u'OD_Macula3_Finding', u'OD_Macula3_Modifer',\n",
    "       u'OD_Macula3_Location', u'OD_Macula4_Finding', u'OD_Macula4_Modifer',\n",
    "       u'OD_Macula4_Location', u'OS_Macula1_Finding', u'OS_Macula1_Modifer',\n",
    "       u'OS_Macula1_Location', u'OS_Macula2_Finding', u'OS_Macula2_Modifer',\n",
    "       u'OS_Macula2_Location', u'OS_Macula3_Finding', u'OS_Macula3_Modifer',\n",
    "       u'OS_Macula3_Location', u'OS_Macula4_Finding', u'OS_Macula4_Modifer',\n",
    "       u'OS_Macula4_Location']\n",
    "mac=a[cols]\n",
    "print mac.shape\n",
    "mac.head()"
   ]
  },
  {
   "cell_type": "code",
   "execution_count": 379,
   "metadata": {
    "collapsed": true
   },
   "outputs": [],
   "source": [
    "mac=mac.reset_index()"
   ]
  },
  {
   "cell_type": "markdown",
   "metadata": {},
   "source": [
    "Merge with single_person_wicd"
   ]
  },
  {
   "cell_type": "code",
   "execution_count": 393,
   "metadata": {
    "collapsed": false
   },
   "outputs": [
    {
     "name": "stdout",
     "output_type": "stream",
     "text": [
      "(15409, 30)\n"
     ]
    },
    {
     "data": {
      "text/plain": [
       "(16087, 12)"
      ]
     },
     "execution_count": 393,
     "metadata": {},
     "output_type": "execute_result"
    }
   ],
   "source": [
    "print mac.shape\n",
    "single_person_wicd.shape"
   ]
  },
  {
   "cell_type": "code",
   "execution_count": 396,
   "metadata": {
    "collapsed": true
   },
   "outputs": [
    {
     "name": "stdout",
     "output_type": "stream",
     "text": [
      "(16087, 42)\n"
     ]
    },
    {
     "data": {
      "text/html": [
       "<div>\n",
       "<table border=\"1\" class=\"dataframe\">\n",
       "  <thead>\n",
       "    <tr style=\"text-align: right;\">\n",
       "      <th></th>\n",
       "      <th>Enc_Nbr_x</th>\n",
       "      <th>Person_Nbr_x</th>\n",
       "      <th>Smoking_Status</th>\n",
       "      <th>Primary_Payer</th>\n",
       "      <th>A1C</th>\n",
       "      <th>BMI</th>\n",
       "      <th>Glucose</th>\n",
       "      <th>BP_Systolic</th>\n",
       "      <th>BP_Diastolic</th>\n",
       "      <th>Enc_Yr_x</th>\n",
       "      <th>...</th>\n",
       "      <th>OS_Macula1_Location</th>\n",
       "      <th>OS_Macula2_Finding</th>\n",
       "      <th>OS_Macula2_Modifer</th>\n",
       "      <th>OS_Macula2_Location</th>\n",
       "      <th>OS_Macula3_Finding</th>\n",
       "      <th>OS_Macula3_Modifer</th>\n",
       "      <th>OS_Macula3_Location</th>\n",
       "      <th>OS_Macula4_Finding</th>\n",
       "      <th>OS_Macula4_Modifer</th>\n",
       "      <th>OS_Macula4_Location</th>\n",
       "    </tr>\n",
       "  </thead>\n",
       "  <tbody>\n",
       "    <tr>\n",
       "      <th>0</th>\n",
       "      <td>123227.0</td>\n",
       "      <td>33.0</td>\n",
       "      <td>Never smoker</td>\n",
       "      <td>Premier Vision Plan</td>\n",
       "      <td>8.0</td>\n",
       "      <td>0.00</td>\n",
       "      <td>130.0</td>\n",
       "      <td>59.0</td>\n",
       "      <td>39.0</td>\n",
       "      <td>2014-12-18 00:00:00</td>\n",
       "      <td>...</td>\n",
       "      <td>NaN</td>\n",
       "      <td>NaN</td>\n",
       "      <td>NaN</td>\n",
       "      <td>NaN</td>\n",
       "      <td>NaN</td>\n",
       "      <td>NaN</td>\n",
       "      <td>NaN</td>\n",
       "      <td>NaN</td>\n",
       "      <td>NaN</td>\n",
       "      <td>NaN</td>\n",
       "    </tr>\n",
       "    <tr>\n",
       "      <th>1</th>\n",
       "      <td>14361139.0</td>\n",
       "      <td>327.0</td>\n",
       "      <td>Never smoker</td>\n",
       "      <td>Medicare</td>\n",
       "      <td>0.0</td>\n",
       "      <td>0.00</td>\n",
       "      <td>121.0</td>\n",
       "      <td>0.0</td>\n",
       "      <td>0.0</td>\n",
       "      <td>2011-12-04 00:00:00</td>\n",
       "      <td>...</td>\n",
       "      <td>NaN</td>\n",
       "      <td>NaN</td>\n",
       "      <td>NaN</td>\n",
       "      <td>NaN</td>\n",
       "      <td>NaN</td>\n",
       "      <td>NaN</td>\n",
       "      <td>NaN</td>\n",
       "      <td>NaN</td>\n",
       "      <td>NaN</td>\n",
       "      <td>NaN</td>\n",
       "    </tr>\n",
       "    <tr>\n",
       "      <th>2</th>\n",
       "      <td>11783809.0</td>\n",
       "      <td>335.0</td>\n",
       "      <td>Former smoker</td>\n",
       "      <td>Blue Shield Of Illinois PPO</td>\n",
       "      <td>0.0</td>\n",
       "      <td>0.00</td>\n",
       "      <td>103.0</td>\n",
       "      <td>0.0</td>\n",
       "      <td>0.0</td>\n",
       "      <td>2013-10-16 00:00:00</td>\n",
       "      <td>...</td>\n",
       "      <td>NaN</td>\n",
       "      <td>NaN</td>\n",
       "      <td>NaN</td>\n",
       "      <td>NaN</td>\n",
       "      <td>NaN</td>\n",
       "      <td>NaN</td>\n",
       "      <td>NaN</td>\n",
       "      <td>NaN</td>\n",
       "      <td>NaN</td>\n",
       "      <td>NaN</td>\n",
       "    </tr>\n",
       "    <tr>\n",
       "      <th>3</th>\n",
       "      <td>6074701.0</td>\n",
       "      <td>1515.0</td>\n",
       "      <td>Never smoker</td>\n",
       "      <td>VOHHA</td>\n",
       "      <td>0.0</td>\n",
       "      <td>0.00</td>\n",
       "      <td>200.0</td>\n",
       "      <td>130.0</td>\n",
       "      <td>80.0</td>\n",
       "      <td>2012-10-01 00:00:00</td>\n",
       "      <td>...</td>\n",
       "      <td>NaN</td>\n",
       "      <td>NaN</td>\n",
       "      <td>NaN</td>\n",
       "      <td>NaN</td>\n",
       "      <td>NaN</td>\n",
       "      <td>NaN</td>\n",
       "      <td>NaN</td>\n",
       "      <td>NaN</td>\n",
       "      <td>NaN</td>\n",
       "      <td>NaN</td>\n",
       "    </tr>\n",
       "    <tr>\n",
       "      <th>4</th>\n",
       "      <td>8583237.0</td>\n",
       "      <td>1519.0</td>\n",
       "      <td>Former smoker</td>\n",
       "      <td>Opticare CountyCare</td>\n",
       "      <td>0.0</td>\n",
       "      <td>37.11</td>\n",
       "      <td>118.0</td>\n",
       "      <td>110.0</td>\n",
       "      <td>80.0</td>\n",
       "      <td>2014-07-01 00:00:00</td>\n",
       "      <td>...</td>\n",
       "      <td>NaN</td>\n",
       "      <td>NaN</td>\n",
       "      <td>NaN</td>\n",
       "      <td>NaN</td>\n",
       "      <td>NaN</td>\n",
       "      <td>NaN</td>\n",
       "      <td>NaN</td>\n",
       "      <td>NaN</td>\n",
       "      <td>NaN</td>\n",
       "      <td>NaN</td>\n",
       "    </tr>\n",
       "  </tbody>\n",
       "</table>\n",
       "<p>5 rows × 42 columns</p>\n",
       "</div>"
      ],
      "text/plain": [
       "    Enc_Nbr_x  Person_Nbr_x Smoking_Status                Primary_Payer  A1C  \\\n",
       "0    123227.0          33.0   Never smoker          Premier Vision Plan  8.0   \n",
       "1  14361139.0         327.0   Never smoker                     Medicare  0.0   \n",
       "2  11783809.0         335.0  Former smoker  Blue Shield Of Illinois PPO  0.0   \n",
       "3   6074701.0        1515.0   Never smoker                        VOHHA  0.0   \n",
       "4   8583237.0        1519.0  Former smoker          Opticare CountyCare  0.0   \n",
       "\n",
       "     BMI  Glucose  BP_Systolic  BP_Diastolic             Enc_Yr_x  \\\n",
       "0   0.00    130.0         59.0          39.0  2014-12-18 00:00:00   \n",
       "1   0.00    121.0          0.0           0.0  2011-12-04 00:00:00   \n",
       "2   0.00    103.0          0.0           0.0  2013-10-16 00:00:00   \n",
       "3   0.00    200.0        130.0          80.0  2012-10-01 00:00:00   \n",
       "4  37.11    118.0        110.0          80.0  2014-07-01 00:00:00   \n",
       "\n",
       "          ...         OS_Macula1_Location OS_Macula2_Finding  \\\n",
       "0         ...                         NaN                NaN   \n",
       "1         ...                         NaN                NaN   \n",
       "2         ...                         NaN                NaN   \n",
       "3         ...                         NaN                NaN   \n",
       "4         ...                         NaN                NaN   \n",
       "\n",
       "   OS_Macula2_Modifer OS_Macula2_Location  OS_Macula3_Finding  \\\n",
       "0                 NaN                 NaN                 NaN   \n",
       "1                 NaN                 NaN                 NaN   \n",
       "2                 NaN                 NaN                 NaN   \n",
       "3                 NaN                 NaN                 NaN   \n",
       "4                 NaN                 NaN                 NaN   \n",
       "\n",
       "  OS_Macula3_Modifer OS_Macula3_Location  OS_Macula4_Finding  \\\n",
       "0                NaN                 NaN                 NaN   \n",
       "1                NaN                 NaN                 NaN   \n",
       "2                NaN                 NaN                 NaN   \n",
       "3                NaN                 NaN                 NaN   \n",
       "4                NaN                 NaN                 NaN   \n",
       "\n",
       "  OS_Macula4_Modifer OS_Macula4_Location  \n",
       "0                NaN                 NaN  \n",
       "1                NaN                 NaN  \n",
       "2                NaN                 NaN  \n",
       "3                NaN                 NaN  \n",
       "4                NaN                 NaN  \n",
       "\n",
       "[5 rows x 42 columns]"
      ]
     },
     "execution_count": 396,
     "metadata": {},
     "output_type": "execute_result"
    }
   ],
   "source": [
    "single_person_wmac=pd.merge(single_person_wicd,mac,left_index=True,right_index=True,how=\"left\")\n",
    "print single_person_wmac.shape\n",
    "single_person_wmac.head()"
   ]
  },
  {
   "cell_type": "code",
   "execution_count": 397,
   "metadata": {
    "collapsed": true
   },
   "outputs": [
    {
     "data": {
      "text/plain": [
       "Index([u'Enc_Nbr_x', u'Person_Nbr_x', u'Smoking_Status', u'Primary_Payer',\n",
       "       u'A1C', u'BMI', u'Glucose', u'BP_Systolic', u'BP_Diastolic',\n",
       "       u'Enc_Yr_x', u'Enc_Time_x', u'ICD', u'index', u'Enc_ID', u'Enc_Nbr_y',\n",
       "       u'Enc_Yr_y', u'Enc_Time_y', u'Person_Nbr_y', u'OD_Macula1_Finding',\n",
       "       u'OD_Macula1_Modifer', u'OD_Macula1_Location', u'OD_Macula2_Finding',\n",
       "       u'OD_Macula2_Modifer', u'OD_Macula2_Location', u'OD_Macula3_Finding',\n",
       "       u'OD_Macula3_Modifer', u'OD_Macula3_Location', u'OD_Macula4_Finding',\n",
       "       u'OD_Macula4_Modifer', u'OD_Macula4_Location', u'OS_Macula1_Finding',\n",
       "       u'OS_Macula1_Modifer', u'OS_Macula1_Location', u'OS_Macula2_Finding',\n",
       "       u'OS_Macula2_Modifer', u'OS_Macula2_Location', u'OS_Macula3_Finding',\n",
       "       u'OS_Macula3_Modifer', u'OS_Macula3_Location', u'OS_Macula4_Finding',\n",
       "       u'OS_Macula4_Modifer', u'OS_Macula4_Location'],\n",
       "      dtype='object')"
      ]
     },
     "execution_count": 397,
     "metadata": {},
     "output_type": "execute_result"
    }
   ],
   "source": [
    "single_person_wmac.columns"
   ]
  },
  {
   "cell_type": "code",
   "execution_count": 398,
   "metadata": {
    "collapsed": true
   },
   "outputs": [
    {
     "name": "stdout",
     "output_type": "stream",
     "text": [
      "(16087, 40)\n"
     ]
    },
    {
     "data": {
      "text/html": [
       "<div>\n",
       "<table border=\"1\" class=\"dataframe\">\n",
       "  <thead>\n",
       "    <tr style=\"text-align: right;\">\n",
       "      <th></th>\n",
       "      <th>Enc_Nbr</th>\n",
       "      <th>Person_Nbr</th>\n",
       "      <th>Smoking_Status</th>\n",
       "      <th>Primary_Payer</th>\n",
       "      <th>A1C</th>\n",
       "      <th>BMI</th>\n",
       "      <th>Glucose</th>\n",
       "      <th>BP_Systolic</th>\n",
       "      <th>BP_Diastolic</th>\n",
       "      <th>Enc_Yr</th>\n",
       "      <th>...</th>\n",
       "      <th>OS_Macula1_Location</th>\n",
       "      <th>OS_Macula2_Finding</th>\n",
       "      <th>OS_Macula2_Modifer</th>\n",
       "      <th>OS_Macula2_Location</th>\n",
       "      <th>OS_Macula3_Finding</th>\n",
       "      <th>OS_Macula3_Modifer</th>\n",
       "      <th>OS_Macula3_Location</th>\n",
       "      <th>OS_Macula4_Finding</th>\n",
       "      <th>OS_Macula4_Modifer</th>\n",
       "      <th>OS_Macula4_Location</th>\n",
       "    </tr>\n",
       "  </thead>\n",
       "  <tbody>\n",
       "    <tr>\n",
       "      <th>0</th>\n",
       "      <td>123227.0</td>\n",
       "      <td>33.0</td>\n",
       "      <td>Never smoker</td>\n",
       "      <td>Premier Vision Plan</td>\n",
       "      <td>8.0</td>\n",
       "      <td>0.00</td>\n",
       "      <td>130.0</td>\n",
       "      <td>59.0</td>\n",
       "      <td>39.0</td>\n",
       "      <td>2014-12-18 00:00:00</td>\n",
       "      <td>...</td>\n",
       "      <td>NaN</td>\n",
       "      <td>NaN</td>\n",
       "      <td>NaN</td>\n",
       "      <td>NaN</td>\n",
       "      <td>NaN</td>\n",
       "      <td>NaN</td>\n",
       "      <td>NaN</td>\n",
       "      <td>NaN</td>\n",
       "      <td>NaN</td>\n",
       "      <td>NaN</td>\n",
       "    </tr>\n",
       "    <tr>\n",
       "      <th>1</th>\n",
       "      <td>14361139.0</td>\n",
       "      <td>327.0</td>\n",
       "      <td>Never smoker</td>\n",
       "      <td>Medicare</td>\n",
       "      <td>0.0</td>\n",
       "      <td>0.00</td>\n",
       "      <td>121.0</td>\n",
       "      <td>0.0</td>\n",
       "      <td>0.0</td>\n",
       "      <td>2011-12-04 00:00:00</td>\n",
       "      <td>...</td>\n",
       "      <td>NaN</td>\n",
       "      <td>NaN</td>\n",
       "      <td>NaN</td>\n",
       "      <td>NaN</td>\n",
       "      <td>NaN</td>\n",
       "      <td>NaN</td>\n",
       "      <td>NaN</td>\n",
       "      <td>NaN</td>\n",
       "      <td>NaN</td>\n",
       "      <td>NaN</td>\n",
       "    </tr>\n",
       "    <tr>\n",
       "      <th>2</th>\n",
       "      <td>11783809.0</td>\n",
       "      <td>335.0</td>\n",
       "      <td>Former smoker</td>\n",
       "      <td>Blue Shield Of Illinois PPO</td>\n",
       "      <td>0.0</td>\n",
       "      <td>0.00</td>\n",
       "      <td>103.0</td>\n",
       "      <td>0.0</td>\n",
       "      <td>0.0</td>\n",
       "      <td>2013-10-16 00:00:00</td>\n",
       "      <td>...</td>\n",
       "      <td>NaN</td>\n",
       "      <td>NaN</td>\n",
       "      <td>NaN</td>\n",
       "      <td>NaN</td>\n",
       "      <td>NaN</td>\n",
       "      <td>NaN</td>\n",
       "      <td>NaN</td>\n",
       "      <td>NaN</td>\n",
       "      <td>NaN</td>\n",
       "      <td>NaN</td>\n",
       "    </tr>\n",
       "    <tr>\n",
       "      <th>3</th>\n",
       "      <td>6074701.0</td>\n",
       "      <td>1515.0</td>\n",
       "      <td>Never smoker</td>\n",
       "      <td>VOHHA</td>\n",
       "      <td>0.0</td>\n",
       "      <td>0.00</td>\n",
       "      <td>200.0</td>\n",
       "      <td>130.0</td>\n",
       "      <td>80.0</td>\n",
       "      <td>2012-10-01 00:00:00</td>\n",
       "      <td>...</td>\n",
       "      <td>NaN</td>\n",
       "      <td>NaN</td>\n",
       "      <td>NaN</td>\n",
       "      <td>NaN</td>\n",
       "      <td>NaN</td>\n",
       "      <td>NaN</td>\n",
       "      <td>NaN</td>\n",
       "      <td>NaN</td>\n",
       "      <td>NaN</td>\n",
       "      <td>NaN</td>\n",
       "    </tr>\n",
       "    <tr>\n",
       "      <th>4</th>\n",
       "      <td>8583237.0</td>\n",
       "      <td>1519.0</td>\n",
       "      <td>Former smoker</td>\n",
       "      <td>Opticare CountyCare</td>\n",
       "      <td>0.0</td>\n",
       "      <td>37.11</td>\n",
       "      <td>118.0</td>\n",
       "      <td>110.0</td>\n",
       "      <td>80.0</td>\n",
       "      <td>2014-07-01 00:00:00</td>\n",
       "      <td>...</td>\n",
       "      <td>NaN</td>\n",
       "      <td>NaN</td>\n",
       "      <td>NaN</td>\n",
       "      <td>NaN</td>\n",
       "      <td>NaN</td>\n",
       "      <td>NaN</td>\n",
       "      <td>NaN</td>\n",
       "      <td>NaN</td>\n",
       "      <td>NaN</td>\n",
       "      <td>NaN</td>\n",
       "    </tr>\n",
       "  </tbody>\n",
       "</table>\n",
       "<p>5 rows × 40 columns</p>\n",
       "</div>"
      ],
      "text/plain": [
       "      Enc_Nbr  Person_Nbr Smoking_Status                Primary_Payer  A1C  \\\n",
       "0    123227.0        33.0   Never smoker          Premier Vision Plan  8.0   \n",
       "1  14361139.0       327.0   Never smoker                     Medicare  0.0   \n",
       "2  11783809.0       335.0  Former smoker  Blue Shield Of Illinois PPO  0.0   \n",
       "3   6074701.0      1515.0   Never smoker                        VOHHA  0.0   \n",
       "4   8583237.0      1519.0  Former smoker          Opticare CountyCare  0.0   \n",
       "\n",
       "     BMI  Glucose  BP_Systolic  BP_Diastolic               Enc_Yr  \\\n",
       "0   0.00    130.0         59.0          39.0  2014-12-18 00:00:00   \n",
       "1   0.00    121.0          0.0           0.0  2011-12-04 00:00:00   \n",
       "2   0.00    103.0          0.0           0.0  2013-10-16 00:00:00   \n",
       "3   0.00    200.0        130.0          80.0  2012-10-01 00:00:00   \n",
       "4  37.11    118.0        110.0          80.0  2014-07-01 00:00:00   \n",
       "\n",
       "          ...         OS_Macula1_Location OS_Macula2_Finding  \\\n",
       "0         ...                         NaN                NaN   \n",
       "1         ...                         NaN                NaN   \n",
       "2         ...                         NaN                NaN   \n",
       "3         ...                         NaN                NaN   \n",
       "4         ...                         NaN                NaN   \n",
       "\n",
       "   OS_Macula2_Modifer OS_Macula2_Location  OS_Macula3_Finding  \\\n",
       "0                 NaN                 NaN                 NaN   \n",
       "1                 NaN                 NaN                 NaN   \n",
       "2                 NaN                 NaN                 NaN   \n",
       "3                 NaN                 NaN                 NaN   \n",
       "4                 NaN                 NaN                 NaN   \n",
       "\n",
       "  OS_Macula3_Modifer OS_Macula3_Location OS_Macula4_Finding  \\\n",
       "0                NaN                 NaN                NaN   \n",
       "1                NaN                 NaN                NaN   \n",
       "2                NaN                 NaN                NaN   \n",
       "3                NaN                 NaN                NaN   \n",
       "4                NaN                 NaN                NaN   \n",
       "\n",
       "   OS_Macula4_Modifer OS_Macula4_Location  \n",
       "0                 NaN                 NaN  \n",
       "1                 NaN                 NaN  \n",
       "2                 NaN                 NaN  \n",
       "3                 NaN                 NaN  \n",
       "4                 NaN                 NaN  \n",
       "\n",
       "[5 rows x 40 columns]"
      ]
     },
     "execution_count": 398,
     "metadata": {},
     "output_type": "execute_result"
    }
   ],
   "source": [
    "del single_person_wmac[\"Person_Nbr_y\"]\n",
    "del single_person_wmac[\"Enc_Time_y\"]\n",
    "single_person_wmac=single_person_wmac.rename(columns={\"Person_Nbr_x\":\"Person_Nbr\",\"Enc_Nbr_x\":\"Enc_Nbr\",\"Enc_Nbr_y\":\"Enc_Nbr_mac\",\"Enc_Yr_x\":\"Enc_Yr\",\"Enc_Time_x\":\"Enc_Time\",\"Enc_Yr_y\":\"Enc_Yr_mac\"})\n",
    "print single_person_wmac.shape\n",
    "single_person_wmac.head()"
   ]
  },
  {
   "cell_type": "code",
   "execution_count": 400,
   "metadata": {
    "collapsed": false
   },
   "outputs": [],
   "source": [
    "single_person_wmac.to_csv(\"single_person_wmac.csv\")"
   ]
  },
  {
   "cell_type": "markdown",
   "metadata": {},
   "source": [
    "Add SL_Lens Readings"
   ]
  },
  {
   "cell_type": "code",
   "execution_count": 102,
   "metadata": {
    "collapsed": false
   },
   "outputs": [
    {
     "name": "stdout",
     "output_type": "stream",
     "text": [
      "(80946, 7)\n",
      "80946\n",
      "16087\n"
     ]
    },
    {
     "data": {
      "text/html": [
       "<div>\n",
       "<table border=\"1\" class=\"dataframe\">\n",
       "  <thead>\n",
       "    <tr style=\"text-align: right;\">\n",
       "      <th></th>\n",
       "      <th>Enc_ID</th>\n",
       "      <th>Enc_Nbr</th>\n",
       "      <th>Enc_Date</th>\n",
       "      <th>Person_ID</th>\n",
       "      <th>Person_Nbr</th>\n",
       "      <th>OD_SL_LENS</th>\n",
       "      <th>OS_SL_LENS</th>\n",
       "    </tr>\n",
       "  </thead>\n",
       "  <tbody>\n",
       "    <tr>\n",
       "      <th>74679</th>\n",
       "      <td>97825c51-4462-eade-1c1d-2baa3400c033</td>\n",
       "      <td>123227</td>\n",
       "      <td>2014-12-18 14:00:00</td>\n",
       "      <td>80d3df88-dddf-5ad3-7cc1-b7b1ac6151fa</td>\n",
       "      <td>33</td>\n",
       "      <td>1+ NS 1-2+ ACC</td>\n",
       "      <td>1+ NS 1-2+ ACC</td>\n",
       "    </tr>\n",
       "    <tr>\n",
       "      <th>54483</th>\n",
       "      <td>a6d9d991-4ff4-79b5-304d-f1b2bff9d6d0</td>\n",
       "      <td>12870648</td>\n",
       "      <td>2012-10-16 03:45:00</td>\n",
       "      <td>adca6fa4-e7d4-d7f8-cf41-27056662d84b</td>\n",
       "      <td>89</td>\n",
       "      <td>nuclear sclerosis 1+</td>\n",
       "      <td>nuclear sclerosis 1+ with trace ACC changes</td>\n",
       "    </tr>\n",
       "    <tr>\n",
       "      <th>54484</th>\n",
       "      <td>fe5eb87c-39b3-4314-0172-4642d51de417</td>\n",
       "      <td>4126172</td>\n",
       "      <td>2014-03-12 15:30:00</td>\n",
       "      <td>adca6fa4-e7d4-d7f8-cf41-27056662d84b</td>\n",
       "      <td>89</td>\n",
       "      <td>nuclear sclerosis 1+</td>\n",
       "      <td>nuclear sclerosis 1+</td>\n",
       "    </tr>\n",
       "    <tr>\n",
       "      <th>54485</th>\n",
       "      <td>ea3c2622-6d1d-53ab-ddf0-9764927f1507</td>\n",
       "      <td>9217142</td>\n",
       "      <td>2014-04-17 18:45:00</td>\n",
       "      <td>adca6fa4-e7d4-d7f8-cf41-27056662d84b</td>\n",
       "      <td>89</td>\n",
       "      <td>nuclear sclerosis 1+</td>\n",
       "      <td>nuclear sclerosis 1+</td>\n",
       "    </tr>\n",
       "    <tr>\n",
       "      <th>54486</th>\n",
       "      <td>71d10fa4-3b0d-fa52-cfbd-ffd0f3d3532d</td>\n",
       "      <td>14968450</td>\n",
       "      <td>2014-05-25 10:45:00</td>\n",
       "      <td>adca6fa4-e7d4-d7f8-cf41-27056662d84b</td>\n",
       "      <td>89</td>\n",
       "      <td>NaN</td>\n",
       "      <td>NaN</td>\n",
       "    </tr>\n",
       "  </tbody>\n",
       "</table>\n",
       "</div>"
      ],
      "text/plain": [
       "                                     Enc_ID   Enc_Nbr            Enc_Date  \\\n",
       "74679  97825c51-4462-eade-1c1d-2baa3400c033    123227 2014-12-18 14:00:00   \n",
       "54483  a6d9d991-4ff4-79b5-304d-f1b2bff9d6d0  12870648 2012-10-16 03:45:00   \n",
       "54484  fe5eb87c-39b3-4314-0172-4642d51de417   4126172 2014-03-12 15:30:00   \n",
       "54485  ea3c2622-6d1d-53ab-ddf0-9764927f1507   9217142 2014-04-17 18:45:00   \n",
       "54486  71d10fa4-3b0d-fa52-cfbd-ffd0f3d3532d  14968450 2014-05-25 10:45:00   \n",
       "\n",
       "                                  Person_ID  Person_Nbr            OD_SL_LENS  \\\n",
       "74679  80d3df88-dddf-5ad3-7cc1-b7b1ac6151fa          33        1+ NS 1-2+ ACC   \n",
       "54483  adca6fa4-e7d4-d7f8-cf41-27056662d84b          89  nuclear sclerosis 1+   \n",
       "54484  adca6fa4-e7d4-d7f8-cf41-27056662d84b          89  nuclear sclerosis 1+   \n",
       "54485  adca6fa4-e7d4-d7f8-cf41-27056662d84b          89  nuclear sclerosis 1+   \n",
       "54486  adca6fa4-e7d4-d7f8-cf41-27056662d84b          89                   NaN   \n",
       "\n",
       "                                        OS_SL_LENS  \n",
       "74679                               1+ NS 1-2+ ACC  \n",
       "54483  nuclear sclerosis 1+ with trace ACC changes  \n",
       "54484                         nuclear sclerosis 1+  \n",
       "54485                         nuclear sclerosis 1+  \n",
       "54486                                          NaN  "
      ]
     },
     "execution_count": 102,
     "metadata": {},
     "output_type": "execute_result"
    }
   ],
   "source": [
    "sl_lens=pd.read_pickle(path+'SL_Lens_for_Enc.pickle')\n",
    "print sl_lens.shape\n",
    "print len(sl_lens.Enc_Nbr.drop_duplicates())\n",
    "print len(sl_lens.Person_Nbr.drop_duplicates())\n",
    "sl_lens.head()"
   ]
  },
  {
   "cell_type": "code",
   "execution_count": 103,
   "metadata": {
    "collapsed": true
   },
   "outputs": [],
   "source": [
    "sl_lens.to_csv('sl_lens.csv')"
   ]
  },
  {
   "cell_type": "code",
   "execution_count": 104,
   "metadata": {
    "collapsed": true
   },
   "outputs": [],
   "source": [
    "sl_lens=sl_lens.reset_index()"
   ]
  },
  {
   "cell_type": "code",
   "execution_count": 404,
   "metadata": {
    "collapsed": false
   },
   "outputs": [
    {
     "name": "stdout",
     "output_type": "stream",
     "text": [
      "(54383, 8)\n"
     ]
    },
    {
     "data": {
      "text/html": [
       "<div>\n",
       "<table border=\"1\" class=\"dataframe\">\n",
       "  <thead>\n",
       "    <tr style=\"text-align: right;\">\n",
       "      <th></th>\n",
       "      <th>Unnamed: 0</th>\n",
       "      <th>Enc_ID</th>\n",
       "      <th>Enc_Nbr</th>\n",
       "      <th>Enc_Date</th>\n",
       "      <th>Person_ID</th>\n",
       "      <th>Person_Nbr</th>\n",
       "      <th>OD_SL_LENS</th>\n",
       "      <th>OS_SL_LENS</th>\n",
       "    </tr>\n",
       "  </thead>\n",
       "  <tbody>\n",
       "    <tr>\n",
       "      <th>0</th>\n",
       "      <td>74679</td>\n",
       "      <td>97825c51-4462-eade-1c1d-2baa3400c033</td>\n",
       "      <td>123227</td>\n",
       "      <td>2014-12-18 14:00:00.000</td>\n",
       "      <td>80d3df88-dddf-5ad3-7cc1-b7b1ac6151fa</td>\n",
       "      <td>33</td>\n",
       "      <td>1+ NS 1-2+ ACC</td>\n",
       "      <td>1+ NS 1-2+ ACC</td>\n",
       "    </tr>\n",
       "    <tr>\n",
       "      <th>1</th>\n",
       "      <td>54483</td>\n",
       "      <td>a6d9d991-4ff4-79b5-304d-f1b2bff9d6d0</td>\n",
       "      <td>12870648</td>\n",
       "      <td>2012-10-16 03:45:00.000</td>\n",
       "      <td>adca6fa4-e7d4-d7f8-cf41-27056662d84b</td>\n",
       "      <td>89</td>\n",
       "      <td>nuclear sclerosis 1+</td>\n",
       "      <td>nuclear sclerosis 1+ with trace ACC changes</td>\n",
       "    </tr>\n",
       "    <tr>\n",
       "      <th>2</th>\n",
       "      <td>54484</td>\n",
       "      <td>fe5eb87c-39b3-4314-0172-4642d51de417</td>\n",
       "      <td>4126172</td>\n",
       "      <td>2014-03-12 15:30:00.000</td>\n",
       "      <td>adca6fa4-e7d4-d7f8-cf41-27056662d84b</td>\n",
       "      <td>89</td>\n",
       "      <td>nuclear sclerosis 1+</td>\n",
       "      <td>nuclear sclerosis 1+</td>\n",
       "    </tr>\n",
       "    <tr>\n",
       "      <th>3</th>\n",
       "      <td>54485</td>\n",
       "      <td>ea3c2622-6d1d-53ab-ddf0-9764927f1507</td>\n",
       "      <td>9217142</td>\n",
       "      <td>2014-04-17 18:45:00.000</td>\n",
       "      <td>adca6fa4-e7d4-d7f8-cf41-27056662d84b</td>\n",
       "      <td>89</td>\n",
       "      <td>nuclear sclerosis 1+</td>\n",
       "      <td>nuclear sclerosis 1+</td>\n",
       "    </tr>\n",
       "    <tr>\n",
       "      <th>5</th>\n",
       "      <td>54487</td>\n",
       "      <td>6073586c-f74c-dda4-1a77-7ae779034993</td>\n",
       "      <td>14537805</td>\n",
       "      <td>2015-03-14 15:30:00.000</td>\n",
       "      <td>adca6fa4-e7d4-d7f8-cf41-27056662d84b</td>\n",
       "      <td>89</td>\n",
       "      <td>clear lens capsule cortex and nucleus</td>\n",
       "      <td>clear lens capsule cortex and nucleus</td>\n",
       "    </tr>\n",
       "  </tbody>\n",
       "</table>\n",
       "</div>"
      ],
      "text/plain": [
       "   Unnamed: 0                                Enc_ID   Enc_Nbr  \\\n",
       "0       74679  97825c51-4462-eade-1c1d-2baa3400c033    123227   \n",
       "1       54483  a6d9d991-4ff4-79b5-304d-f1b2bff9d6d0  12870648   \n",
       "2       54484  fe5eb87c-39b3-4314-0172-4642d51de417   4126172   \n",
       "3       54485  ea3c2622-6d1d-53ab-ddf0-9764927f1507   9217142   \n",
       "5       54487  6073586c-f74c-dda4-1a77-7ae779034993  14537805   \n",
       "\n",
       "                  Enc_Date                             Person_ID  Person_Nbr  \\\n",
       "0  2014-12-18 14:00:00.000  80d3df88-dddf-5ad3-7cc1-b7b1ac6151fa          33   \n",
       "1  2012-10-16 03:45:00.000  adca6fa4-e7d4-d7f8-cf41-27056662d84b          89   \n",
       "2  2014-03-12 15:30:00.000  adca6fa4-e7d4-d7f8-cf41-27056662d84b          89   \n",
       "3  2014-04-17 18:45:00.000  adca6fa4-e7d4-d7f8-cf41-27056662d84b          89   \n",
       "5  2015-03-14 15:30:00.000  adca6fa4-e7d4-d7f8-cf41-27056662d84b          89   \n",
       "\n",
       "                              OD_SL_LENS  \\\n",
       "0                         1+ NS 1-2+ ACC   \n",
       "1                   nuclear sclerosis 1+   \n",
       "2                   nuclear sclerosis 1+   \n",
       "3                   nuclear sclerosis 1+   \n",
       "5  clear lens capsule cortex and nucleus   \n",
       "\n",
       "                                    OS_SL_LENS  \n",
       "0                               1+ NS 1-2+ ACC  \n",
       "1  nuclear sclerosis 1+ with trace ACC changes  \n",
       "2                         nuclear sclerosis 1+  \n",
       "3                         nuclear sclerosis 1+  \n",
       "5        clear lens capsule cortex and nucleus  "
      ]
     },
     "execution_count": 404,
     "metadata": {},
     "output_type": "execute_result"
    }
   ],
   "source": [
    "sl=sl_lens.dropna(subset=[\"OD_SL_LENS\"])\n",
    "print sl.shape\n",
    "sl.head()"
   ]
  },
  {
   "cell_type": "code",
   "execution_count": 405,
   "metadata": {
    "collapsed": true
   },
   "outputs": [],
   "source": [
    "sl.to_csv(\"sl.csv\")"
   ]
  },
  {
   "cell_type": "code",
   "execution_count": 406,
   "metadata": {
    "collapsed": false
   },
   "outputs": [
    {
     "data": {
      "text/plain": [
       "15783"
      ]
     },
     "execution_count": 406,
     "metadata": {},
     "output_type": "execute_result"
    }
   ],
   "source": [
    "len(sl.Person_Nbr.drop_duplicates())"
   ]
  },
  {
   "cell_type": "markdown",
   "metadata": {},
   "source": [
    "Choose the most recent findings"
   ]
  },
  {
   "cell_type": "code",
   "execution_count": 415,
   "metadata": {
    "collapsed": true
   },
   "outputs": [
    {
     "name": "stderr",
     "output_type": "stream",
     "text": [
      "C:\\Users\\mom1\\Anaconda2\\lib\\site-packages\\ipykernel\\__main__.py:1: SettingWithCopyWarning: \n",
      "A value is trying to be set on a copy of a slice from a DataFrame.\n",
      "Try using .loc[row_indexer,col_indexer] = value instead\n",
      "\n",
      "See the caveats in the documentation: http://pandas.pydata.org/pandas-docs/stable/indexing.html#indexing-view-versus-copy\n",
      "  if __name__ == '__main__':\n",
      "C:\\Users\\mom1\\Anaconda2\\lib\\site-packages\\ipykernel\\__main__.py:2: SettingWithCopyWarning: \n",
      "A value is trying to be set on a copy of a slice from a DataFrame.\n",
      "Try using .loc[row_indexer,col_indexer] = value instead\n",
      "\n",
      "See the caveats in the documentation: http://pandas.pydata.org/pandas-docs/stable/indexing.html#indexing-view-versus-copy\n",
      "  from ipykernel import kernelapp as app\n"
     ]
    },
    {
     "name": "stdout",
     "output_type": "stream",
     "text": [
      "(54383, 10)\n"
     ]
    },
    {
     "name": "stderr",
     "output_type": "stream",
     "text": [
      "C:\\Users\\mom1\\Anaconda2\\lib\\site-packages\\ipykernel\\__main__.py:3: SettingWithCopyWarning: \n",
      "A value is trying to be set on a copy of a slice from a DataFrame.\n",
      "Try using .loc[row_indexer,col_indexer] = value instead\n",
      "\n",
      "See the caveats in the documentation: http://pandas.pydata.org/pandas-docs/stable/indexing.html#indexing-view-versus-copy\n",
      "  app.launch_new_instance()\n"
     ]
    },
    {
     "data": {
      "text/plain": [
       "Index([u'Unnamed: 0', u'Enc_ID', u'Enc_Nbr', u'Enc_Date', u'Person_ID',\n",
       "       u'Person_Nbr', u'OD_SL_LENS', u'OS_SL_LENS', u'Enc_Yr', u'Enc_Time'],\n",
       "      dtype='object')"
      ]
     },
     "execution_count": 415,
     "metadata": {},
     "output_type": "execute_result"
    }
   ],
   "source": [
    "sl[\"Enc_Yr\"]=sl.Enc_Date.str.split(\" \",1,expand=True)[0]\n",
    "sl[\"Enc_Time\"]=sl.Enc_Date.str.split(\" \",1,expand=True)[1]\n",
    "sl['Enc_Yr'] =  pd.to_datetime(ale['Enc_Yr'], format='%Y-%m-%d')\n",
    "print sl.shape\n",
    "sl.columns"
   ]
  },
  {
   "cell_type": "code",
   "execution_count": 416,
   "metadata": {
    "collapsed": true
   },
   "outputs": [
    {
     "name": "stdout",
     "output_type": "stream",
     "text": [
      "(15783, 10)\n"
     ]
    },
    {
     "data": {
      "text/html": [
       "<div>\n",
       "<table border=\"1\" class=\"dataframe\">\n",
       "  <thead>\n",
       "    <tr style=\"text-align: right;\">\n",
       "      <th></th>\n",
       "      <th>Unnamed: 0</th>\n",
       "      <th>Enc_ID</th>\n",
       "      <th>Enc_Nbr</th>\n",
       "      <th>Enc_Date</th>\n",
       "      <th>Person_ID</th>\n",
       "      <th>Person_Nbr</th>\n",
       "      <th>OD_SL_LENS</th>\n",
       "      <th>OS_SL_LENS</th>\n",
       "      <th>Enc_Yr</th>\n",
       "      <th>Enc_Time</th>\n",
       "    </tr>\n",
       "  </thead>\n",
       "  <tbody>\n",
       "    <tr>\n",
       "      <th>0</th>\n",
       "      <td>74679</td>\n",
       "      <td>97825c51-4462-eade-1c1d-2baa3400c033</td>\n",
       "      <td>123227</td>\n",
       "      <td>2014-12-18 14:00:00.000</td>\n",
       "      <td>80d3df88-dddf-5ad3-7cc1-b7b1ac6151fa</td>\n",
       "      <td>33</td>\n",
       "      <td>1+ NS 1-2+ ACC</td>\n",
       "      <td>1+ NS 1-2+ ACC</td>\n",
       "      <td>2012-10-16</td>\n",
       "      <td>14:00:00.000</td>\n",
       "    </tr>\n",
       "    <tr>\n",
       "      <th>7</th>\n",
       "      <td>54488</td>\n",
       "      <td>d1e94fb5-ecdd-b363-7e88-a558e01ba87e</td>\n",
       "      <td>455661</td>\n",
       "      <td>2015-07-14 10:15:00.000</td>\n",
       "      <td>adca6fa4-e7d4-d7f8-cf41-27056662d84b</td>\n",
       "      <td>89</td>\n",
       "      <td>clear lens capsule cortex and nucleus</td>\n",
       "      <td>clear lens capsule cortex and nucleus</td>\n",
       "      <td>2016-10-22</td>\n",
       "      <td>10:15:00.000</td>\n",
       "    </tr>\n",
       "    <tr>\n",
       "      <th>14</th>\n",
       "      <td>44579</td>\n",
       "      <td>63ecc259-208f-7ef2-b0f8-acf25e23c264</td>\n",
       "      <td>5786173</td>\n",
       "      <td>2016-04-05 10:15:00.000</td>\n",
       "      <td>ca793eec-f101-2505-42e6-57fefc6baf14</td>\n",
       "      <td>146</td>\n",
       "      <td>2 + NS (undilated)</td>\n",
       "      <td>2 + NS (undilated)</td>\n",
       "      <td>2016-10-05</td>\n",
       "      <td>10:15:00.000</td>\n",
       "    </tr>\n",
       "    <tr>\n",
       "      <th>15</th>\n",
       "      <td>81629</td>\n",
       "      <td>918e81a9-5ea3-933a-6c73-219c07ffb733</td>\n",
       "      <td>14534672</td>\n",
       "      <td>2016-10-05 00:45:00.000</td>\n",
       "      <td>3afb193c-dbf7-9f64-5f95-447f81cd0bdf</td>\n",
       "      <td>196</td>\n",
       "      <td>1+ NS</td>\n",
       "      <td>1+ NS</td>\n",
       "      <td>2016-10-10</td>\n",
       "      <td>00:45:00.000</td>\n",
       "    </tr>\n",
       "    <tr>\n",
       "      <th>18</th>\n",
       "      <td>79263</td>\n",
       "      <td>794f5f00-407f-33d1-fc30-fce766ac075c</td>\n",
       "      <td>2071158</td>\n",
       "      <td>2015-12-01 08:15:00.000</td>\n",
       "      <td>8101be56-67f1-cc74-49d0-9eb3f721cdc6</td>\n",
       "      <td>331</td>\n",
       "      <td>vacuoles</td>\n",
       "      <td>vacuoles</td>\n",
       "      <td>2015-12-19</td>\n",
       "      <td>08:15:00.000</td>\n",
       "    </tr>\n",
       "  </tbody>\n",
       "</table>\n",
       "</div>"
      ],
      "text/plain": [
       "    Unnamed: 0                                Enc_ID   Enc_Nbr  \\\n",
       "0        74679  97825c51-4462-eade-1c1d-2baa3400c033    123227   \n",
       "7        54488  d1e94fb5-ecdd-b363-7e88-a558e01ba87e    455661   \n",
       "14       44579  63ecc259-208f-7ef2-b0f8-acf25e23c264   5786173   \n",
       "15       81629  918e81a9-5ea3-933a-6c73-219c07ffb733  14534672   \n",
       "18       79263  794f5f00-407f-33d1-fc30-fce766ac075c   2071158   \n",
       "\n",
       "                   Enc_Date                             Person_ID  Person_Nbr  \\\n",
       "0   2014-12-18 14:00:00.000  80d3df88-dddf-5ad3-7cc1-b7b1ac6151fa          33   \n",
       "7   2015-07-14 10:15:00.000  adca6fa4-e7d4-d7f8-cf41-27056662d84b          89   \n",
       "14  2016-04-05 10:15:00.000  ca793eec-f101-2505-42e6-57fefc6baf14         146   \n",
       "15  2016-10-05 00:45:00.000  3afb193c-dbf7-9f64-5f95-447f81cd0bdf         196   \n",
       "18  2015-12-01 08:15:00.000  8101be56-67f1-cc74-49d0-9eb3f721cdc6         331   \n",
       "\n",
       "                               OD_SL_LENS  \\\n",
       "0                          1+ NS 1-2+ ACC   \n",
       "7   clear lens capsule cortex and nucleus   \n",
       "14                     2 + NS (undilated)   \n",
       "15                                  1+ NS   \n",
       "18                               vacuoles   \n",
       "\n",
       "                               OS_SL_LENS     Enc_Yr      Enc_Time  \n",
       "0                          1+ NS 1-2+ ACC 2012-10-16  14:00:00.000  \n",
       "7   clear lens capsule cortex and nucleus 2016-10-22  10:15:00.000  \n",
       "14                     2 + NS (undilated) 2016-10-05  10:15:00.000  \n",
       "15                                  1+ NS 2016-10-10  00:45:00.000  \n",
       "18                               vacuoles 2015-12-19  08:15:00.000  "
      ]
     },
     "execution_count": 416,
     "metadata": {},
     "output_type": "execute_result"
    }
   ],
   "source": [
    "b=sl.loc[sl.groupby(['Person_Nbr'])['Enc_Yr'].idxmax()]\n",
    "print b.shape\n",
    "b.head()"
   ]
  },
  {
   "cell_type": "code",
   "execution_count": 417,
   "metadata": {
    "collapsed": true
   },
   "outputs": [],
   "source": [
    "b=b.reset_index()"
   ]
  },
  {
   "cell_type": "markdown",
   "metadata": {},
   "source": [
    "Merge with single_person_wmac"
   ]
  },
  {
   "cell_type": "code",
   "execution_count": 418,
   "metadata": {
    "collapsed": true
   },
   "outputs": [
    {
     "name": "stdout",
     "output_type": "stream",
     "text": [
      "(15783, 11)\n"
     ]
    },
    {
     "data": {
      "text/plain": [
       "(16087, 40)"
      ]
     },
     "execution_count": 418,
     "metadata": {},
     "output_type": "execute_result"
    }
   ],
   "source": [
    "print b.shape\n",
    "single_person_wmac.shape"
   ]
  },
  {
   "cell_type": "code",
   "execution_count": 419,
   "metadata": {
    "collapsed": true
   },
   "outputs": [
    {
     "name": "stdout",
     "output_type": "stream",
     "text": [
      "(16087, 51)\n"
     ]
    },
    {
     "data": {
      "text/html": [
       "<div>\n",
       "<table border=\"1\" class=\"dataframe\">\n",
       "  <thead>\n",
       "    <tr style=\"text-align: right;\">\n",
       "      <th></th>\n",
       "      <th>Enc_Nbr_x</th>\n",
       "      <th>Person_Nbr_x</th>\n",
       "      <th>Smoking_Status</th>\n",
       "      <th>Primary_Payer</th>\n",
       "      <th>A1C</th>\n",
       "      <th>BMI</th>\n",
       "      <th>Glucose</th>\n",
       "      <th>BP_Systolic</th>\n",
       "      <th>BP_Diastolic</th>\n",
       "      <th>Enc_Yr_x</th>\n",
       "      <th>...</th>\n",
       "      <th>Unnamed: 0</th>\n",
       "      <th>Enc_ID_y</th>\n",
       "      <th>Enc_Nbr_y</th>\n",
       "      <th>Enc_Date</th>\n",
       "      <th>Person_ID</th>\n",
       "      <th>Person_Nbr_y</th>\n",
       "      <th>OD_SL_LENS</th>\n",
       "      <th>OS_SL_LENS</th>\n",
       "      <th>Enc_Yr_y</th>\n",
       "      <th>Enc_Time_y</th>\n",
       "    </tr>\n",
       "  </thead>\n",
       "  <tbody>\n",
       "    <tr>\n",
       "      <th>0</th>\n",
       "      <td>123227.0</td>\n",
       "      <td>33.0</td>\n",
       "      <td>Never smoker</td>\n",
       "      <td>Premier Vision Plan</td>\n",
       "      <td>8.0</td>\n",
       "      <td>0.00</td>\n",
       "      <td>130.0</td>\n",
       "      <td>59.0</td>\n",
       "      <td>39.0</td>\n",
       "      <td>2014-12-18 00:00:00</td>\n",
       "      <td>...</td>\n",
       "      <td>74679.0</td>\n",
       "      <td>97825c51-4462-eade-1c1d-2baa3400c033</td>\n",
       "      <td>123227.0</td>\n",
       "      <td>2014-12-18 14:00:00.000</td>\n",
       "      <td>80d3df88-dddf-5ad3-7cc1-b7b1ac6151fa</td>\n",
       "      <td>33.0</td>\n",
       "      <td>1+ NS 1-2+ ACC</td>\n",
       "      <td>1+ NS 1-2+ ACC</td>\n",
       "      <td>2012-10-16</td>\n",
       "      <td>14:00:00.000</td>\n",
       "    </tr>\n",
       "    <tr>\n",
       "      <th>1</th>\n",
       "      <td>14361139.0</td>\n",
       "      <td>327.0</td>\n",
       "      <td>Never smoker</td>\n",
       "      <td>Medicare</td>\n",
       "      <td>0.0</td>\n",
       "      <td>0.00</td>\n",
       "      <td>121.0</td>\n",
       "      <td>0.0</td>\n",
       "      <td>0.0</td>\n",
       "      <td>2011-12-04 00:00:00</td>\n",
       "      <td>...</td>\n",
       "      <td>54488.0</td>\n",
       "      <td>d1e94fb5-ecdd-b363-7e88-a558e01ba87e</td>\n",
       "      <td>455661.0</td>\n",
       "      <td>2015-07-14 10:15:00.000</td>\n",
       "      <td>adca6fa4-e7d4-d7f8-cf41-27056662d84b</td>\n",
       "      <td>89.0</td>\n",
       "      <td>clear lens capsule cortex and nucleus</td>\n",
       "      <td>clear lens capsule cortex and nucleus</td>\n",
       "      <td>2016-10-22</td>\n",
       "      <td>10:15:00.000</td>\n",
       "    </tr>\n",
       "    <tr>\n",
       "      <th>2</th>\n",
       "      <td>11783809.0</td>\n",
       "      <td>335.0</td>\n",
       "      <td>Former smoker</td>\n",
       "      <td>Blue Shield Of Illinois PPO</td>\n",
       "      <td>0.0</td>\n",
       "      <td>0.00</td>\n",
       "      <td>103.0</td>\n",
       "      <td>0.0</td>\n",
       "      <td>0.0</td>\n",
       "      <td>2013-10-16 00:00:00</td>\n",
       "      <td>...</td>\n",
       "      <td>44579.0</td>\n",
       "      <td>63ecc259-208f-7ef2-b0f8-acf25e23c264</td>\n",
       "      <td>5786173.0</td>\n",
       "      <td>2016-04-05 10:15:00.000</td>\n",
       "      <td>ca793eec-f101-2505-42e6-57fefc6baf14</td>\n",
       "      <td>146.0</td>\n",
       "      <td>2 + NS (undilated)</td>\n",
       "      <td>2 + NS (undilated)</td>\n",
       "      <td>2016-10-05</td>\n",
       "      <td>10:15:00.000</td>\n",
       "    </tr>\n",
       "    <tr>\n",
       "      <th>3</th>\n",
       "      <td>6074701.0</td>\n",
       "      <td>1515.0</td>\n",
       "      <td>Never smoker</td>\n",
       "      <td>VOHHA</td>\n",
       "      <td>0.0</td>\n",
       "      <td>0.00</td>\n",
       "      <td>200.0</td>\n",
       "      <td>130.0</td>\n",
       "      <td>80.0</td>\n",
       "      <td>2012-10-01 00:00:00</td>\n",
       "      <td>...</td>\n",
       "      <td>81629.0</td>\n",
       "      <td>918e81a9-5ea3-933a-6c73-219c07ffb733</td>\n",
       "      <td>14534672.0</td>\n",
       "      <td>2016-10-05 00:45:00.000</td>\n",
       "      <td>3afb193c-dbf7-9f64-5f95-447f81cd0bdf</td>\n",
       "      <td>196.0</td>\n",
       "      <td>1+ NS</td>\n",
       "      <td>1+ NS</td>\n",
       "      <td>2016-10-10</td>\n",
       "      <td>00:45:00.000</td>\n",
       "    </tr>\n",
       "    <tr>\n",
       "      <th>4</th>\n",
       "      <td>8583237.0</td>\n",
       "      <td>1519.0</td>\n",
       "      <td>Former smoker</td>\n",
       "      <td>Opticare CountyCare</td>\n",
       "      <td>0.0</td>\n",
       "      <td>37.11</td>\n",
       "      <td>118.0</td>\n",
       "      <td>110.0</td>\n",
       "      <td>80.0</td>\n",
       "      <td>2014-07-01 00:00:00</td>\n",
       "      <td>...</td>\n",
       "      <td>79263.0</td>\n",
       "      <td>794f5f00-407f-33d1-fc30-fce766ac075c</td>\n",
       "      <td>2071158.0</td>\n",
       "      <td>2015-12-01 08:15:00.000</td>\n",
       "      <td>8101be56-67f1-cc74-49d0-9eb3f721cdc6</td>\n",
       "      <td>331.0</td>\n",
       "      <td>vacuoles</td>\n",
       "      <td>vacuoles</td>\n",
       "      <td>2015-12-19</td>\n",
       "      <td>08:15:00.000</td>\n",
       "    </tr>\n",
       "  </tbody>\n",
       "</table>\n",
       "<p>5 rows × 51 columns</p>\n",
       "</div>"
      ],
      "text/plain": [
       "    Enc_Nbr_x  Person_Nbr_x Smoking_Status                Primary_Payer  A1C  \\\n",
       "0    123227.0          33.0   Never smoker          Premier Vision Plan  8.0   \n",
       "1  14361139.0         327.0   Never smoker                     Medicare  0.0   \n",
       "2  11783809.0         335.0  Former smoker  Blue Shield Of Illinois PPO  0.0   \n",
       "3   6074701.0        1515.0   Never smoker                        VOHHA  0.0   \n",
       "4   8583237.0        1519.0  Former smoker          Opticare CountyCare  0.0   \n",
       "\n",
       "     BMI  Glucose  BP_Systolic  BP_Diastolic             Enc_Yr_x  \\\n",
       "0   0.00    130.0         59.0          39.0  2014-12-18 00:00:00   \n",
       "1   0.00    121.0          0.0           0.0  2011-12-04 00:00:00   \n",
       "2   0.00    103.0          0.0           0.0  2013-10-16 00:00:00   \n",
       "3   0.00    200.0        130.0          80.0  2012-10-01 00:00:00   \n",
       "4  37.11    118.0        110.0          80.0  2014-07-01 00:00:00   \n",
       "\n",
       "       ...      Unnamed: 0                              Enc_ID_y   Enc_Nbr_y  \\\n",
       "0      ...         74679.0  97825c51-4462-eade-1c1d-2baa3400c033    123227.0   \n",
       "1      ...         54488.0  d1e94fb5-ecdd-b363-7e88-a558e01ba87e    455661.0   \n",
       "2      ...         44579.0  63ecc259-208f-7ef2-b0f8-acf25e23c264   5786173.0   \n",
       "3      ...         81629.0  918e81a9-5ea3-933a-6c73-219c07ffb733  14534672.0   \n",
       "4      ...         79263.0  794f5f00-407f-33d1-fc30-fce766ac075c   2071158.0   \n",
       "\n",
       "                  Enc_Date                             Person_ID Person_Nbr_y  \\\n",
       "0  2014-12-18 14:00:00.000  80d3df88-dddf-5ad3-7cc1-b7b1ac6151fa         33.0   \n",
       "1  2015-07-14 10:15:00.000  adca6fa4-e7d4-d7f8-cf41-27056662d84b         89.0   \n",
       "2  2016-04-05 10:15:00.000  ca793eec-f101-2505-42e6-57fefc6baf14        146.0   \n",
       "3  2016-10-05 00:45:00.000  3afb193c-dbf7-9f64-5f95-447f81cd0bdf        196.0   \n",
       "4  2015-12-01 08:15:00.000  8101be56-67f1-cc74-49d0-9eb3f721cdc6        331.0   \n",
       "\n",
       "                              OD_SL_LENS  \\\n",
       "0                         1+ NS 1-2+ ACC   \n",
       "1  clear lens capsule cortex and nucleus   \n",
       "2                     2 + NS (undilated)   \n",
       "3                                  1+ NS   \n",
       "4                               vacuoles   \n",
       "\n",
       "                              OS_SL_LENS   Enc_Yr_y    Enc_Time_y  \n",
       "0                         1+ NS 1-2+ ACC 2012-10-16  14:00:00.000  \n",
       "1  clear lens capsule cortex and nucleus 2016-10-22  10:15:00.000  \n",
       "2                     2 + NS (undilated) 2016-10-05  10:15:00.000  \n",
       "3                                  1+ NS 2016-10-10  00:45:00.000  \n",
       "4                               vacuoles 2015-12-19  08:15:00.000  \n",
       "\n",
       "[5 rows x 51 columns]"
      ]
     },
     "execution_count": 419,
     "metadata": {},
     "output_type": "execute_result"
    }
   ],
   "source": [
    "single_person_wsl=pd.merge(single_person_wmac,b,left_index=True,right_index=True,how=\"left\")\n",
    "print single_person_wsl.shape\n",
    "single_person_wsl.head()"
   ]
  },
  {
   "cell_type": "code",
   "execution_count": 420,
   "metadata": {
    "collapsed": true
   },
   "outputs": [
    {
     "data": {
      "text/plain": [
       "Index([u'Enc_Nbr_x', u'Person_Nbr_x', u'Smoking_Status', u'Primary_Payer',\n",
       "       u'A1C', u'BMI', u'Glucose', u'BP_Systolic', u'BP_Diastolic',\n",
       "       u'Enc_Yr_x', u'Enc_Time_x', u'ICD', u'index_x', u'Enc_ID_x',\n",
       "       u'Enc_Nbr_mac', u'Enc_Yr_mac', u'OD_Macula1_Finding',\n",
       "       u'OD_Macula1_Modifer', u'OD_Macula1_Location', u'OD_Macula2_Finding',\n",
       "       u'OD_Macula2_Modifer', u'OD_Macula2_Location', u'OD_Macula3_Finding',\n",
       "       u'OD_Macula3_Modifer', u'OD_Macula3_Location', u'OD_Macula4_Finding',\n",
       "       u'OD_Macula4_Modifer', u'OD_Macula4_Location', u'OS_Macula1_Finding',\n",
       "       u'OS_Macula1_Modifer', u'OS_Macula1_Location', u'OS_Macula2_Finding',\n",
       "       u'OS_Macula2_Modifer', u'OS_Macula2_Location', u'OS_Macula3_Finding',\n",
       "       u'OS_Macula3_Modifer', u'OS_Macula3_Location', u'OS_Macula4_Finding',\n",
       "       u'OS_Macula4_Modifer', u'OS_Macula4_Location', u'index_y',\n",
       "       u'Unnamed: 0', u'Enc_ID_y', u'Enc_Nbr_y', u'Enc_Date', u'Person_ID',\n",
       "       u'Person_Nbr_y', u'OD_SL_LENS', u'OS_SL_LENS', u'Enc_Yr_y',\n",
       "       u'Enc_Time_y'],\n",
       "      dtype='object')"
      ]
     },
     "execution_count": 420,
     "metadata": {},
     "output_type": "execute_result"
    }
   ],
   "source": [
    "single_person_wsl.columns"
   ]
  },
  {
   "cell_type": "code",
   "execution_count": 424,
   "metadata": {
    "collapsed": true
   },
   "outputs": [
    {
     "name": "stdout",
     "output_type": "stream",
     "text": [
      "(16087, 42)\n"
     ]
    },
    {
     "data": {
      "text/html": [
       "<div>\n",
       "<table border=\"1\" class=\"dataframe\">\n",
       "  <thead>\n",
       "    <tr style=\"text-align: right;\">\n",
       "      <th></th>\n",
       "      <th>Enc_Nbr</th>\n",
       "      <th>Person_Nbr</th>\n",
       "      <th>Smoking_Status</th>\n",
       "      <th>Primary_Payer</th>\n",
       "      <th>A1C</th>\n",
       "      <th>BMI</th>\n",
       "      <th>Glucose</th>\n",
       "      <th>BP_Systolic</th>\n",
       "      <th>BP_Diastolic</th>\n",
       "      <th>Enc_Yr</th>\n",
       "      <th>...</th>\n",
       "      <th>OS_Macula3_Finding</th>\n",
       "      <th>OS_Macula3_Modifer</th>\n",
       "      <th>OS_Macula3_Location</th>\n",
       "      <th>OS_Macula4_Finding</th>\n",
       "      <th>OS_Macula4_Modifer</th>\n",
       "      <th>OS_Macula4_Location</th>\n",
       "      <th>Enc_Nbr_sl</th>\n",
       "      <th>OD_SL_LENS</th>\n",
       "      <th>OS_SL_LENS</th>\n",
       "      <th>Enc_Yr_sl</th>\n",
       "    </tr>\n",
       "  </thead>\n",
       "  <tbody>\n",
       "    <tr>\n",
       "      <th>0</th>\n",
       "      <td>123227.0</td>\n",
       "      <td>33.0</td>\n",
       "      <td>Never smoker</td>\n",
       "      <td>Premier Vision Plan</td>\n",
       "      <td>8.0</td>\n",
       "      <td>0.00</td>\n",
       "      <td>130.0</td>\n",
       "      <td>59.0</td>\n",
       "      <td>39.0</td>\n",
       "      <td>2014-12-18 00:00:00</td>\n",
       "      <td>...</td>\n",
       "      <td>NaN</td>\n",
       "      <td>NaN</td>\n",
       "      <td>NaN</td>\n",
       "      <td>NaN</td>\n",
       "      <td>NaN</td>\n",
       "      <td>NaN</td>\n",
       "      <td>123227.0</td>\n",
       "      <td>1+ NS 1-2+ ACC</td>\n",
       "      <td>1+ NS 1-2+ ACC</td>\n",
       "      <td>2012-10-16</td>\n",
       "    </tr>\n",
       "    <tr>\n",
       "      <th>1</th>\n",
       "      <td>14361139.0</td>\n",
       "      <td>327.0</td>\n",
       "      <td>Never smoker</td>\n",
       "      <td>Medicare</td>\n",
       "      <td>0.0</td>\n",
       "      <td>0.00</td>\n",
       "      <td>121.0</td>\n",
       "      <td>0.0</td>\n",
       "      <td>0.0</td>\n",
       "      <td>2011-12-04 00:00:00</td>\n",
       "      <td>...</td>\n",
       "      <td>NaN</td>\n",
       "      <td>NaN</td>\n",
       "      <td>NaN</td>\n",
       "      <td>NaN</td>\n",
       "      <td>NaN</td>\n",
       "      <td>NaN</td>\n",
       "      <td>455661.0</td>\n",
       "      <td>clear lens capsule cortex and nucleus</td>\n",
       "      <td>clear lens capsule cortex and nucleus</td>\n",
       "      <td>2016-10-22</td>\n",
       "    </tr>\n",
       "    <tr>\n",
       "      <th>2</th>\n",
       "      <td>11783809.0</td>\n",
       "      <td>335.0</td>\n",
       "      <td>Former smoker</td>\n",
       "      <td>Blue Shield Of Illinois PPO</td>\n",
       "      <td>0.0</td>\n",
       "      <td>0.00</td>\n",
       "      <td>103.0</td>\n",
       "      <td>0.0</td>\n",
       "      <td>0.0</td>\n",
       "      <td>2013-10-16 00:00:00</td>\n",
       "      <td>...</td>\n",
       "      <td>NaN</td>\n",
       "      <td>NaN</td>\n",
       "      <td>NaN</td>\n",
       "      <td>NaN</td>\n",
       "      <td>NaN</td>\n",
       "      <td>NaN</td>\n",
       "      <td>5786173.0</td>\n",
       "      <td>2 + NS (undilated)</td>\n",
       "      <td>2 + NS (undilated)</td>\n",
       "      <td>2016-10-05</td>\n",
       "    </tr>\n",
       "    <tr>\n",
       "      <th>3</th>\n",
       "      <td>6074701.0</td>\n",
       "      <td>1515.0</td>\n",
       "      <td>Never smoker</td>\n",
       "      <td>VOHHA</td>\n",
       "      <td>0.0</td>\n",
       "      <td>0.00</td>\n",
       "      <td>200.0</td>\n",
       "      <td>130.0</td>\n",
       "      <td>80.0</td>\n",
       "      <td>2012-10-01 00:00:00</td>\n",
       "      <td>...</td>\n",
       "      <td>NaN</td>\n",
       "      <td>NaN</td>\n",
       "      <td>NaN</td>\n",
       "      <td>NaN</td>\n",
       "      <td>NaN</td>\n",
       "      <td>NaN</td>\n",
       "      <td>14534672.0</td>\n",
       "      <td>1+ NS</td>\n",
       "      <td>1+ NS</td>\n",
       "      <td>2016-10-10</td>\n",
       "    </tr>\n",
       "    <tr>\n",
       "      <th>4</th>\n",
       "      <td>8583237.0</td>\n",
       "      <td>1519.0</td>\n",
       "      <td>Former smoker</td>\n",
       "      <td>Opticare CountyCare</td>\n",
       "      <td>0.0</td>\n",
       "      <td>37.11</td>\n",
       "      <td>118.0</td>\n",
       "      <td>110.0</td>\n",
       "      <td>80.0</td>\n",
       "      <td>2014-07-01 00:00:00</td>\n",
       "      <td>...</td>\n",
       "      <td>NaN</td>\n",
       "      <td>NaN</td>\n",
       "      <td>NaN</td>\n",
       "      <td>NaN</td>\n",
       "      <td>NaN</td>\n",
       "      <td>NaN</td>\n",
       "      <td>2071158.0</td>\n",
       "      <td>vacuoles</td>\n",
       "      <td>vacuoles</td>\n",
       "      <td>2015-12-19</td>\n",
       "    </tr>\n",
       "  </tbody>\n",
       "</table>\n",
       "<p>5 rows × 42 columns</p>\n",
       "</div>"
      ],
      "text/plain": [
       "      Enc_Nbr  Person_Nbr Smoking_Status                Primary_Payer  A1C  \\\n",
       "0    123227.0        33.0   Never smoker          Premier Vision Plan  8.0   \n",
       "1  14361139.0       327.0   Never smoker                     Medicare  0.0   \n",
       "2  11783809.0       335.0  Former smoker  Blue Shield Of Illinois PPO  0.0   \n",
       "3   6074701.0      1515.0   Never smoker                        VOHHA  0.0   \n",
       "4   8583237.0      1519.0  Former smoker          Opticare CountyCare  0.0   \n",
       "\n",
       "     BMI  Glucose  BP_Systolic  BP_Diastolic               Enc_Yr    ...      \\\n",
       "0   0.00    130.0         59.0          39.0  2014-12-18 00:00:00    ...       \n",
       "1   0.00    121.0          0.0           0.0  2011-12-04 00:00:00    ...       \n",
       "2   0.00    103.0          0.0           0.0  2013-10-16 00:00:00    ...       \n",
       "3   0.00    200.0        130.0          80.0  2012-10-01 00:00:00    ...       \n",
       "4  37.11    118.0        110.0          80.0  2014-07-01 00:00:00    ...       \n",
       "\n",
       "  OS_Macula3_Finding OS_Macula3_Modifer  OS_Macula3_Location  \\\n",
       "0                NaN                NaN                  NaN   \n",
       "1                NaN                NaN                  NaN   \n",
       "2                NaN                NaN                  NaN   \n",
       "3                NaN                NaN                  NaN   \n",
       "4                NaN                NaN                  NaN   \n",
       "\n",
       "  OS_Macula4_Finding OS_Macula4_Modifer OS_Macula4_Location  Enc_Nbr_sl  \\\n",
       "0                NaN                NaN                 NaN    123227.0   \n",
       "1                NaN                NaN                 NaN    455661.0   \n",
       "2                NaN                NaN                 NaN   5786173.0   \n",
       "3                NaN                NaN                 NaN  14534672.0   \n",
       "4                NaN                NaN                 NaN   2071158.0   \n",
       "\n",
       "                              OD_SL_LENS  \\\n",
       "0                         1+ NS 1-2+ ACC   \n",
       "1  clear lens capsule cortex and nucleus   \n",
       "2                     2 + NS (undilated)   \n",
       "3                                  1+ NS   \n",
       "4                               vacuoles   \n",
       "\n",
       "                              OS_SL_LENS  Enc_Yr_sl  \n",
       "0                         1+ NS 1-2+ ACC 2012-10-16  \n",
       "1  clear lens capsule cortex and nucleus 2016-10-22  \n",
       "2                     2 + NS (undilated) 2016-10-05  \n",
       "3                                  1+ NS 2016-10-10  \n",
       "4                               vacuoles 2015-12-19  \n",
       "\n",
       "[5 rows x 42 columns]"
      ]
     },
     "execution_count": 424,
     "metadata": {},
     "output_type": "execute_result"
    }
   ],
   "source": [
    "del single_person_wsl[\"Person_Nbr_y\"]\n",
    "del single_person_wsl[\"Enc_Time_y\"]\n",
    "del single_person_wsl['index_x']\n",
    "del single_person_wsl['index_y']\n",
    "del single_person_wsl['Enc_ID_x']\n",
    "del single_person_wsl['Enc_ID_y']\n",
    "del single_person_wsl['Unnamed: 0']\n",
    "del single_person_wsl['Enc_Date']\n",
    "del single_person_wsl['Person_ID']\n",
    "single_person_wsl=single_person_wsl.rename(columns={\"Person_Nbr_x\":\"Person_Nbr\",\"Enc_Nbr_x\":\"Enc_Nbr\",\"Enc_Nbr_y\":\"Enc_Nbr_sl\",\n",
    "                                                      \"Enc_Yr_x\":\"Enc_Yr\",\"Enc_Time_x\":\"Enc_Time\",\"Enc_Yr_y\":\"Enc_Yr_sl\"})\n",
    "print single_person_wsl.shape\n",
    "single_person_wsl.head()"
   ]
  },
  {
   "cell_type": "code",
   "execution_count": 425,
   "metadata": {
    "collapsed": true
   },
   "outputs": [],
   "source": [
    "single_person_wsl.to_csv(\"single_person_wsl.csv\")"
   ]
  },
  {
   "cell_type": "markdown",
   "metadata": {},
   "source": [
    "Adding family hist"
   ]
  },
  {
   "cell_type": "code",
   "execution_count": 112,
   "metadata": {
    "collapsed": true
   },
   "outputs": [
    {
     "name": "stdout",
     "output_type": "stream",
     "text": [
      "(59203, 7)\n",
      "14044\n"
     ]
    },
    {
     "data": {
      "text/html": [
       "<div>\n",
       "<table border=\"1\" class=\"dataframe\">\n",
       "  <thead>\n",
       "    <tr style=\"text-align: right;\">\n",
       "      <th></th>\n",
       "      <th>Person_ID</th>\n",
       "      <th>Person_Nbr</th>\n",
       "      <th>Date_Created</th>\n",
       "      <th>Code</th>\n",
       "      <th>Code_System</th>\n",
       "      <th>Family_History</th>\n",
       "      <th>Relation</th>\n",
       "    </tr>\n",
       "  </thead>\n",
       "  <tbody>\n",
       "    <tr>\n",
       "      <th>47872</th>\n",
       "      <td>80d3df88-dddf-5ad3-7cc1-b7b1ac6151fa</td>\n",
       "      <td>33</td>\n",
       "      <td>2014-12-18 14:47:15.980</td>\n",
       "      <td>160347007</td>\n",
       "      <td>SNOMED</td>\n",
       "      <td>Glaucoma</td>\n",
       "      <td>Father</td>\n",
       "    </tr>\n",
       "    <tr>\n",
       "      <th>47869</th>\n",
       "      <td>80d3df88-dddf-5ad3-7cc1-b7b1ac6151fa</td>\n",
       "      <td>33</td>\n",
       "      <td>2014-12-18 14:47:26.897</td>\n",
       "      <td>160274005</td>\n",
       "      <td>SNOMED</td>\n",
       "      <td>No history of Diabetes mellitus</td>\n",
       "      <td>Mother</td>\n",
       "    </tr>\n",
       "    <tr>\n",
       "      <th>47867</th>\n",
       "      <td>80d3df88-dddf-5ad3-7cc1-b7b1ac6151fa</td>\n",
       "      <td>33</td>\n",
       "      <td>2014-12-18 14:47:28.590</td>\n",
       "      <td>160274005</td>\n",
       "      <td>SNOMED</td>\n",
       "      <td>No history of Diabetes mellitus</td>\n",
       "      <td>Father</td>\n",
       "    </tr>\n",
       "    <tr>\n",
       "      <th>47871</th>\n",
       "      <td>80d3df88-dddf-5ad3-7cc1-b7b1ac6151fa</td>\n",
       "      <td>33</td>\n",
       "      <td>2014-12-18 14:47:29.563</td>\n",
       "      <td>160267000</td>\n",
       "      <td>SNOMED</td>\n",
       "      <td>No history of Glaucoma</td>\n",
       "      <td>Mother</td>\n",
       "    </tr>\n",
       "    <tr>\n",
       "      <th>47868</th>\n",
       "      <td>80d3df88-dddf-5ad3-7cc1-b7b1ac6151fa</td>\n",
       "      <td>33</td>\n",
       "      <td>2014-12-18 15:55:35.837</td>\n",
       "      <td>439724007</td>\n",
       "      <td>SNOMED</td>\n",
       "      <td>Heart disease</td>\n",
       "      <td>Brother</td>\n",
       "    </tr>\n",
       "  </tbody>\n",
       "</table>\n",
       "</div>"
      ],
      "text/plain": [
       "                                  Person_ID  Person_Nbr  \\\n",
       "47872  80d3df88-dddf-5ad3-7cc1-b7b1ac6151fa          33   \n",
       "47869  80d3df88-dddf-5ad3-7cc1-b7b1ac6151fa          33   \n",
       "47867  80d3df88-dddf-5ad3-7cc1-b7b1ac6151fa          33   \n",
       "47871  80d3df88-dddf-5ad3-7cc1-b7b1ac6151fa          33   \n",
       "47868  80d3df88-dddf-5ad3-7cc1-b7b1ac6151fa          33   \n",
       "\n",
       "                 Date_Created       Code Code_System  \\\n",
       "47872 2014-12-18 14:47:15.980  160347007      SNOMED   \n",
       "47869 2014-12-18 14:47:26.897  160274005      SNOMED   \n",
       "47867 2014-12-18 14:47:28.590  160274005      SNOMED   \n",
       "47871 2014-12-18 14:47:29.563  160267000      SNOMED   \n",
       "47868 2014-12-18 15:55:35.837  439724007      SNOMED   \n",
       "\n",
       "                        Family_History Relation  \n",
       "47872                         Glaucoma   Father  \n",
       "47869  No history of Diabetes mellitus   Mother  \n",
       "47867  No history of Diabetes mellitus   Father  \n",
       "47871           No history of Glaucoma   Mother  \n",
       "47868                    Heart disease  Brother  "
      ]
     },
     "execution_count": 112,
     "metadata": {},
     "output_type": "execute_result"
    }
   ],
   "source": [
    "family_hist=pd.read_pickle(path+'family_hist_list.pickle')\n",
    "print family_hist.shape\n",
    "print len(family_hist.Person_Nbr.drop_duplicates())\n",
    "family_hist.head()"
   ]
  },
  {
   "cell_type": "code",
   "execution_count": 426,
   "metadata": {
    "collapsed": true
   },
   "outputs": [
    {
     "name": "stdout",
     "output_type": "stream",
     "text": [
      "(59186, 9)\n",
      "14044\n"
     ]
    },
    {
     "data": {
      "text/html": [
       "<div>\n",
       "<table border=\"1\" class=\"dataframe\">\n",
       "  <thead>\n",
       "    <tr style=\"text-align: right;\">\n",
       "      <th></th>\n",
       "      <th>Column</th>\n",
       "      <th>index</th>\n",
       "      <th>Person_ID</th>\n",
       "      <th>Person_Nbr</th>\n",
       "      <th>Date_Created</th>\n",
       "      <th>Code</th>\n",
       "      <th>Code_System</th>\n",
       "      <th>Family_History</th>\n",
       "      <th>Relation</th>\n",
       "    </tr>\n",
       "  </thead>\n",
       "  <tbody>\n",
       "    <tr>\n",
       "      <th>0</th>\n",
       "      <td>0</td>\n",
       "      <td>47872</td>\n",
       "      <td>80d3df88-dddf-5ad3-7cc1-b7b1ac6151fa</td>\n",
       "      <td>33</td>\n",
       "      <td>2014-12-18 14:47:15.980</td>\n",
       "      <td>160347007.0</td>\n",
       "      <td>SNOMED</td>\n",
       "      <td>Glaucoma</td>\n",
       "      <td>Parents</td>\n",
       "    </tr>\n",
       "    <tr>\n",
       "      <th>1</th>\n",
       "      <td>1</td>\n",
       "      <td>47869</td>\n",
       "      <td>80d3df88-dddf-5ad3-7cc1-b7b1ac6151fa</td>\n",
       "      <td>33</td>\n",
       "      <td>2014-12-18 14:47:26.897</td>\n",
       "      <td>160274005.0</td>\n",
       "      <td>SNOMED</td>\n",
       "      <td>No history of Diabetes mellitus</td>\n",
       "      <td>Parents</td>\n",
       "    </tr>\n",
       "    <tr>\n",
       "      <th>2</th>\n",
       "      <td>2</td>\n",
       "      <td>47867</td>\n",
       "      <td>80d3df88-dddf-5ad3-7cc1-b7b1ac6151fa</td>\n",
       "      <td>33</td>\n",
       "      <td>2014-12-18 14:47:28.590</td>\n",
       "      <td>160274005.0</td>\n",
       "      <td>SNOMED</td>\n",
       "      <td>No history of Diabetes mellitus</td>\n",
       "      <td>Parents</td>\n",
       "    </tr>\n",
       "    <tr>\n",
       "      <th>3</th>\n",
       "      <td>3</td>\n",
       "      <td>47871</td>\n",
       "      <td>80d3df88-dddf-5ad3-7cc1-b7b1ac6151fa</td>\n",
       "      <td>33</td>\n",
       "      <td>2014-12-18 14:47:29.563</td>\n",
       "      <td>160267000.0</td>\n",
       "      <td>SNOMED</td>\n",
       "      <td>No history of Glaucoma</td>\n",
       "      <td>Parents</td>\n",
       "    </tr>\n",
       "    <tr>\n",
       "      <th>4</th>\n",
       "      <td>4</td>\n",
       "      <td>47868</td>\n",
       "      <td>80d3df88-dddf-5ad3-7cc1-b7b1ac6151fa</td>\n",
       "      <td>33</td>\n",
       "      <td>2014-12-18 15:55:35.837</td>\n",
       "      <td>439724007.0</td>\n",
       "      <td>SNOMED</td>\n",
       "      <td>Heart Disease</td>\n",
       "      <td>Siblings</td>\n",
       "    </tr>\n",
       "  </tbody>\n",
       "</table>\n",
       "</div>"
      ],
      "text/plain": [
       "   Column  index                             Person_ID  Person_Nbr  \\\n",
       "0       0  47872  80d3df88-dddf-5ad3-7cc1-b7b1ac6151fa          33   \n",
       "1       1  47869  80d3df88-dddf-5ad3-7cc1-b7b1ac6151fa          33   \n",
       "2       2  47867  80d3df88-dddf-5ad3-7cc1-b7b1ac6151fa          33   \n",
       "3       3  47871  80d3df88-dddf-5ad3-7cc1-b7b1ac6151fa          33   \n",
       "4       4  47868  80d3df88-dddf-5ad3-7cc1-b7b1ac6151fa          33   \n",
       "\n",
       "              Date_Created         Code Code_System  \\\n",
       "0  2014-12-18 14:47:15.980  160347007.0      SNOMED   \n",
       "1  2014-12-18 14:47:26.897  160274005.0      SNOMED   \n",
       "2  2014-12-18 14:47:28.590  160274005.0      SNOMED   \n",
       "3  2014-12-18 14:47:29.563  160267000.0      SNOMED   \n",
       "4  2014-12-18 15:55:35.837  439724007.0      SNOMED   \n",
       "\n",
       "                    Family_History  Relation  \n",
       "0                         Glaucoma   Parents  \n",
       "1  No history of Diabetes mellitus   Parents  \n",
       "2  No history of Diabetes mellitus   Parents  \n",
       "3           No history of Glaucoma   Parents  \n",
       "4                    Heart Disease  Siblings  "
      ]
     },
     "execution_count": 426,
     "metadata": {},
     "output_type": "execute_result"
    }
   ],
   "source": [
    "fam_his=pd.read_csv(interpath+'family_hist-csv (1).csv')\n",
    "print fam_his.shape\n",
    "print len(fam_his.Person_Nbr.drop_duplicates())\n",
    "fam_his.head()"
   ]
  },
  {
   "cell_type": "code",
   "execution_count": 427,
   "metadata": {
    "collapsed": true
   },
   "outputs": [],
   "source": [
    "del fam_his[\"Column\"]"
   ]
  },
  {
   "cell_type": "code",
   "execution_count": 428,
   "metadata": {
    "collapsed": false
   },
   "outputs": [
    {
     "data": {
      "text/plain": [
       "1192"
      ]
     },
     "execution_count": 428,
     "metadata": {},
     "output_type": "execute_result"
    }
   ],
   "source": [
    "sum(pd.isnull(fam_his.Code))"
   ]
  },
  {
   "cell_type": "code",
   "execution_count": 429,
   "metadata": {
    "collapsed": true
   },
   "outputs": [
    {
     "name": "stdout",
     "output_type": "stream",
     "text": [
      "(57994, 8)\n",
      "13907\n"
     ]
    },
    {
     "data": {
      "text/html": [
       "<div>\n",
       "<table border=\"1\" class=\"dataframe\">\n",
       "  <thead>\n",
       "    <tr style=\"text-align: right;\">\n",
       "      <th></th>\n",
       "      <th>index</th>\n",
       "      <th>Person_ID</th>\n",
       "      <th>Person_Nbr</th>\n",
       "      <th>Date_Created</th>\n",
       "      <th>Code</th>\n",
       "      <th>Code_System</th>\n",
       "      <th>Family_History</th>\n",
       "      <th>Relation</th>\n",
       "    </tr>\n",
       "  </thead>\n",
       "  <tbody>\n",
       "    <tr>\n",
       "      <th>0</th>\n",
       "      <td>47872</td>\n",
       "      <td>80d3df88-dddf-5ad3-7cc1-b7b1ac6151fa</td>\n",
       "      <td>33</td>\n",
       "      <td>2014-12-18 14:47:15.980</td>\n",
       "      <td>160347007.0</td>\n",
       "      <td>SNOMED</td>\n",
       "      <td>Glaucoma</td>\n",
       "      <td>Parents</td>\n",
       "    </tr>\n",
       "    <tr>\n",
       "      <th>1</th>\n",
       "      <td>47869</td>\n",
       "      <td>80d3df88-dddf-5ad3-7cc1-b7b1ac6151fa</td>\n",
       "      <td>33</td>\n",
       "      <td>2014-12-18 14:47:26.897</td>\n",
       "      <td>160274005.0</td>\n",
       "      <td>SNOMED</td>\n",
       "      <td>No history of Diabetes mellitus</td>\n",
       "      <td>Parents</td>\n",
       "    </tr>\n",
       "    <tr>\n",
       "      <th>2</th>\n",
       "      <td>47867</td>\n",
       "      <td>80d3df88-dddf-5ad3-7cc1-b7b1ac6151fa</td>\n",
       "      <td>33</td>\n",
       "      <td>2014-12-18 14:47:28.590</td>\n",
       "      <td>160274005.0</td>\n",
       "      <td>SNOMED</td>\n",
       "      <td>No history of Diabetes mellitus</td>\n",
       "      <td>Parents</td>\n",
       "    </tr>\n",
       "    <tr>\n",
       "      <th>3</th>\n",
       "      <td>47871</td>\n",
       "      <td>80d3df88-dddf-5ad3-7cc1-b7b1ac6151fa</td>\n",
       "      <td>33</td>\n",
       "      <td>2014-12-18 14:47:29.563</td>\n",
       "      <td>160267000.0</td>\n",
       "      <td>SNOMED</td>\n",
       "      <td>No history of Glaucoma</td>\n",
       "      <td>Parents</td>\n",
       "    </tr>\n",
       "    <tr>\n",
       "      <th>4</th>\n",
       "      <td>47868</td>\n",
       "      <td>80d3df88-dddf-5ad3-7cc1-b7b1ac6151fa</td>\n",
       "      <td>33</td>\n",
       "      <td>2014-12-18 15:55:35.837</td>\n",
       "      <td>439724007.0</td>\n",
       "      <td>SNOMED</td>\n",
       "      <td>Heart Disease</td>\n",
       "      <td>Siblings</td>\n",
       "    </tr>\n",
       "  </tbody>\n",
       "</table>\n",
       "</div>"
      ],
      "text/plain": [
       "   index                             Person_ID  Person_Nbr  \\\n",
       "0  47872  80d3df88-dddf-5ad3-7cc1-b7b1ac6151fa          33   \n",
       "1  47869  80d3df88-dddf-5ad3-7cc1-b7b1ac6151fa          33   \n",
       "2  47867  80d3df88-dddf-5ad3-7cc1-b7b1ac6151fa          33   \n",
       "3  47871  80d3df88-dddf-5ad3-7cc1-b7b1ac6151fa          33   \n",
       "4  47868  80d3df88-dddf-5ad3-7cc1-b7b1ac6151fa          33   \n",
       "\n",
       "              Date_Created         Code Code_System  \\\n",
       "0  2014-12-18 14:47:15.980  160347007.0      SNOMED   \n",
       "1  2014-12-18 14:47:26.897  160274005.0      SNOMED   \n",
       "2  2014-12-18 14:47:28.590  160274005.0      SNOMED   \n",
       "3  2014-12-18 14:47:29.563  160267000.0      SNOMED   \n",
       "4  2014-12-18 15:55:35.837  439724007.0      SNOMED   \n",
       "\n",
       "                    Family_History  Relation  \n",
       "0                         Glaucoma   Parents  \n",
       "1  No history of Diabetes mellitus   Parents  \n",
       "2  No history of Diabetes mellitus   Parents  \n",
       "3           No history of Glaucoma   Parents  \n",
       "4                    Heart Disease  Siblings  "
      ]
     },
     "execution_count": 429,
     "metadata": {},
     "output_type": "execute_result"
    }
   ],
   "source": [
    "fam_his=fam_his.dropna(subset=[\"Code\"])\n",
    "print fam_his.shape\n",
    "print len(fam_his.Person_Nbr.drop_duplicates())\n",
    "fam_his.head()"
   ]
  },
  {
   "cell_type": "code",
   "execution_count": 430,
   "metadata": {
    "collapsed": true
   },
   "outputs": [
    {
     "name": "stdout",
     "output_type": "stream",
     "text": [
      "6\n"
     ]
    },
    {
     "data": {
      "text/plain": [
       "array(['Parents', 'Siblings', 'Relatives', 'Grandparents', 'Children',\n",
       "       'Spouse'], dtype=object)"
      ]
     },
     "execution_count": 430,
     "metadata": {},
     "output_type": "execute_result"
    }
   ],
   "source": [
    "print len(fam_his.Relation.unique())\n",
    "fam_his.Relation.unique()"
   ]
  },
  {
   "cell_type": "code",
   "execution_count": 433,
   "metadata": {
    "collapsed": true
   },
   "outputs": [
    {
     "data": {
      "text/html": [
       "<div>\n",
       "<table border=\"1\" class=\"dataframe\">\n",
       "  <thead>\n",
       "    <tr style=\"text-align: right;\">\n",
       "      <th></th>\n",
       "      <th>Person_Nbr</th>\n",
       "      <th>Relation</th>\n",
       "      <th>Code</th>\n",
       "      <th>Family_History</th>\n",
       "    </tr>\n",
       "  </thead>\n",
       "  <tbody>\n",
       "    <tr>\n",
       "      <th>0</th>\n",
       "      <td>33</td>\n",
       "      <td>Parents</td>\n",
       "      <td>160347007.0</td>\n",
       "      <td>Glaucoma</td>\n",
       "    </tr>\n",
       "    <tr>\n",
       "      <th>1</th>\n",
       "      <td>33</td>\n",
       "      <td>Parents</td>\n",
       "      <td>160274005.0</td>\n",
       "      <td>No history of Diabetes mellitus</td>\n",
       "    </tr>\n",
       "    <tr>\n",
       "      <th>2</th>\n",
       "      <td>33</td>\n",
       "      <td>Parents</td>\n",
       "      <td>160274005.0</td>\n",
       "      <td>No history of Diabetes mellitus</td>\n",
       "    </tr>\n",
       "    <tr>\n",
       "      <th>3</th>\n",
       "      <td>33</td>\n",
       "      <td>Parents</td>\n",
       "      <td>160267000.0</td>\n",
       "      <td>No history of Glaucoma</td>\n",
       "    </tr>\n",
       "    <tr>\n",
       "      <th>4</th>\n",
       "      <td>33</td>\n",
       "      <td>Siblings</td>\n",
       "      <td>439724007.0</td>\n",
       "      <td>Heart Disease</td>\n",
       "    </tr>\n",
       "  </tbody>\n",
       "</table>\n",
       "</div>"
      ],
      "text/plain": [
       "   Person_Nbr  Relation         Code                   Family_History\n",
       "0          33   Parents  160347007.0                         Glaucoma\n",
       "1          33   Parents  160274005.0  No history of Diabetes mellitus\n",
       "2          33   Parents  160274005.0  No history of Diabetes mellitus\n",
       "3          33   Parents  160267000.0           No history of Glaucoma\n",
       "4          33  Siblings  439724007.0                    Heart Disease"
      ]
     },
     "execution_count": 433,
     "metadata": {},
     "output_type": "execute_result"
    }
   ],
   "source": [
    "cols=[\"Person_Nbr\",'Relation',\"Code\",\"Family_History\"]\n",
    "b=fam_his[cols]\n",
    "b.head()"
   ]
  },
  {
   "cell_type": "code",
   "execution_count": 447,
   "metadata": {
    "collapsed": false
   },
   "outputs": [],
   "source": [
    "count=0\n",
    "index=0\n",
    "e=pd.DataFrame(columns=['Person_Nbr', 'Relation',\"Code\",\"Family_History\"])\n",
    "for name, group in b.groupby(['Person_Nbr', 'Relation']):\n",
    "    if len(e)==0:\n",
    "        e.loc[index,\"Person_Nbr\"]=name[0]\n",
    "        e.loc[index,\"Relation\"]=(name[1])\n",
    "        e.loc[index,\"Code\"]=str(group.get_value(index=0,col=2,takeable=True))\n",
    "        e.loc[index,\"Family_History\"]=str(group.get_value(index=0,col=3,takeable=True))\n",
    "        for i in range(len(group.get_values())-1):\n",
    "            i+=1\n",
    "            e.loc[index,\"Code\"]=str(e.loc[index,\"Code\"])+','+str(group.get_value(index=i,col=2,takeable=True))\n",
    "            e.loc[index,\"Family_History\"]=str(e.loc[index,\"Family_History\"])+','+str(group.get_value(index=i,col=3,takeable=True))\n",
    "        e.loc[index,\"Code\"]=e.loc[index,\"Code\"]+';'\n",
    "        e.loc[index,\"Family_History\"]=e.loc[index,\"Family_History\"]+';'\n",
    "        index=index+1\n",
    "    elif (e.loc[index-1,\"Person_Nbr\"]==name[0] ):\n",
    "        e.loc[index-1,\"Relation\"]=e.loc[index-1,\"Relation\"]+';'+(name[1])\n",
    "        for i in range(len(group.get_values())-1):\n",
    "            e.loc[index-1,\"Code\"]=str(e.loc[index-1,\"Code\"])+','+str(group.get_value(index=i,col=2,takeable=True))\n",
    "            e.loc[index-1,\"Family_History\"]=str(e.loc[index-1,\"Family_History\"])+','+str(group.get_value(index=i,col=3,takeable=True))\n",
    "        e.loc[index-1,\"Code\"]=e.loc[index-1,\"Code\"]+';'\n",
    "        e.loc[index-1,\"Family_History\"]=e.loc[index-1,\"Family_History\"]+';'\n",
    "    else:\n",
    "        e.loc[index,\"Person_Nbr\"]=name[0]\n",
    "        e.loc[index,\"Relation\"]=(name[1])\n",
    "        e.loc[index,\"Code\"]=str(group.get_value(index=0,col=2,takeable=True))\n",
    "        e.loc[index,\"Family_History\"]=str(group.get_value(index=0,col=3,takeable=True))\n",
    "        for i in range(len(group.get_values())-1):\n",
    "            i+=1\n",
    "            e.loc[index,\"Code\"]=str(e.loc[index,\"Code\"])+','+str(group.get_value(index=i,col=2,takeable=True))\n",
    "            e.loc[index,\"Family_History\"]=str(e.loc[index,\"Family_History\"])+','+str(group.get_value(index=i,col=3,takeable=True))\n",
    "        e.loc[index,\"Code\"]=e.loc[index,\"Code\"]+';'\n",
    "        e.loc[index-1,\"Family_History\"]=e.loc[index-1,\"Family_History\"]+';'\n",
    "        index=index+1"
   ]
  },
  {
   "cell_type": "code",
   "execution_count": 449,
   "metadata": {
    "collapsed": true
   },
   "outputs": [
    {
     "name": "stdout",
     "output_type": "stream",
     "text": [
      "(13907, 4)\n"
     ]
    },
    {
     "data": {
      "text/html": [
       "<div>\n",
       "<table border=\"1\" class=\"dataframe\">\n",
       "  <thead>\n",
       "    <tr style=\"text-align: right;\">\n",
       "      <th></th>\n",
       "      <th>Person_Nbr</th>\n",
       "      <th>Relation</th>\n",
       "      <th>Code</th>\n",
       "      <th>Family_History</th>\n",
       "    </tr>\n",
       "  </thead>\n",
       "  <tbody>\n",
       "    <tr>\n",
       "      <th>0</th>\n",
       "      <td>33</td>\n",
       "      <td>Parents;Siblings</td>\n",
       "      <td>160347007.0,160274005.0,160274005.0,160267000....</td>\n",
       "      <td>Glaucoma,No history of Diabetes mellitus,No hi...</td>\n",
       "    </tr>\n",
       "    <tr>\n",
       "      <th>1</th>\n",
       "      <td>89</td>\n",
       "      <td>Parents;Relatives</td>\n",
       "      <td>416855002.0,160274005.0,160267000.0,160267000.0;;</td>\n",
       "      <td>Diabetes,No history of Diabetes mellitus,No hi...</td>\n",
       "    </tr>\n",
       "    <tr>\n",
       "      <th>2</th>\n",
       "      <td>146</td>\n",
       "      <td>Parents</td>\n",
       "      <td>416855002.0,275134007.0,160357008.0,160267000....</td>\n",
       "      <td>Diabetes,Arthritis,HBP,No history of Glaucoma,...</td>\n",
       "    </tr>\n",
       "    <tr>\n",
       "      <th>3</th>\n",
       "      <td>196</td>\n",
       "      <td>Parents</td>\n",
       "      <td>416855002.0,160267000.0,160274005.0,160267000.0;</td>\n",
       "      <td>Diabetes,No history of Glaucoma,No history of ...</td>\n",
       "    </tr>\n",
       "    <tr>\n",
       "      <th>4</th>\n",
       "      <td>331</td>\n",
       "      <td>Parents;Siblings</td>\n",
       "      <td>160274005.0,160267000.0,160274005.0,160267000.0;;</td>\n",
       "      <td>No history of Diabetes mellitus,No history of ...</td>\n",
       "    </tr>\n",
       "  </tbody>\n",
       "</table>\n",
       "</div>"
      ],
      "text/plain": [
       "  Person_Nbr           Relation  \\\n",
       "0         33   Parents;Siblings   \n",
       "1         89  Parents;Relatives   \n",
       "2        146            Parents   \n",
       "3        196            Parents   \n",
       "4        331   Parents;Siblings   \n",
       "\n",
       "                                                Code  \\\n",
       "0  160347007.0,160274005.0,160274005.0,160267000....   \n",
       "1  416855002.0,160274005.0,160267000.0,160267000.0;;   \n",
       "2  416855002.0,275134007.0,160357008.0,160267000....   \n",
       "3   416855002.0,160267000.0,160274005.0,160267000.0;   \n",
       "4  160274005.0,160267000.0,160274005.0,160267000.0;;   \n",
       "\n",
       "                                      Family_History  \n",
       "0  Glaucoma,No history of Diabetes mellitus,No hi...  \n",
       "1  Diabetes,No history of Diabetes mellitus,No hi...  \n",
       "2  Diabetes,Arthritis,HBP,No history of Glaucoma,...  \n",
       "3  Diabetes,No history of Glaucoma,No history of ...  \n",
       "4  No history of Diabetes mellitus,No history of ...  "
      ]
     },
     "execution_count": 449,
     "metadata": {},
     "output_type": "execute_result"
    }
   ],
   "source": [
    "print e.shape\n",
    "e.head()"
   ]
  },
  {
   "cell_type": "code",
   "execution_count": 451,
   "metadata": {
    "collapsed": true
   },
   "outputs": [],
   "source": [
    "e.to_csv(\"fam_his_per_person.csv\")"
   ]
  },
  {
   "cell_type": "markdown",
   "metadata": {},
   "source": [
    "Merge with single_person_wsl"
   ]
  },
  {
   "cell_type": "code",
   "execution_count": 450,
   "metadata": {
    "collapsed": false
   },
   "outputs": [
    {
     "name": "stdout",
     "output_type": "stream",
     "text": [
      "(13907, 4)\n"
     ]
    },
    {
     "data": {
      "text/plain": [
       "(16087, 42)"
      ]
     },
     "execution_count": 450,
     "metadata": {},
     "output_type": "execute_result"
    }
   ],
   "source": [
    "print e.shape\n",
    "single_person_wsl.shape"
   ]
  },
  {
   "cell_type": "code",
   "execution_count": 10,
   "metadata": {
    "collapsed": false
   },
   "outputs": [
    {
     "name": "stdout",
     "output_type": "stream",
     "text": [
      "(16087, 46)\n"
     ]
    },
    {
     "data": {
      "text/html": [
       "<div>\n",
       "<table border=\"1\" class=\"dataframe\">\n",
       "  <thead>\n",
       "    <tr style=\"text-align: right;\">\n",
       "      <th></th>\n",
       "      <th>Enc_Nbr</th>\n",
       "      <th>Person_Nbr_x</th>\n",
       "      <th>Smoking_Status</th>\n",
       "      <th>Primary_Payer</th>\n",
       "      <th>A1C</th>\n",
       "      <th>BMI</th>\n",
       "      <th>Glucose</th>\n",
       "      <th>BP_Systolic</th>\n",
       "      <th>BP_Diastolic</th>\n",
       "      <th>Enc_Yr</th>\n",
       "      <th>...</th>\n",
       "      <th>OS_Macula4_Modifer</th>\n",
       "      <th>OS_Macula4_Location</th>\n",
       "      <th>Enc_Nbr_sl</th>\n",
       "      <th>OD_SL_LENS</th>\n",
       "      <th>OS_SL_LENS</th>\n",
       "      <th>Enc_Yr_sl</th>\n",
       "      <th>Person_Nbr_y</th>\n",
       "      <th>Relation</th>\n",
       "      <th>Code</th>\n",
       "      <th>Family_History</th>\n",
       "    </tr>\n",
       "  </thead>\n",
       "  <tbody>\n",
       "    <tr>\n",
       "      <th>0</th>\n",
       "      <td>123227.0</td>\n",
       "      <td>33.0</td>\n",
       "      <td>Never smoker</td>\n",
       "      <td>Premier Vision Plan</td>\n",
       "      <td>8.0</td>\n",
       "      <td>0.00</td>\n",
       "      <td>130.0</td>\n",
       "      <td>59.0</td>\n",
       "      <td>39.0</td>\n",
       "      <td>2014-12-18 00:00:00</td>\n",
       "      <td>...</td>\n",
       "      <td>NaN</td>\n",
       "      <td>NaN</td>\n",
       "      <td>123227.0</td>\n",
       "      <td>1+ NS 1-2+ ACC</td>\n",
       "      <td>1+ NS 1-2+ ACC</td>\n",
       "      <td>2012-10-16</td>\n",
       "      <td>33.0</td>\n",
       "      <td>Parents;Siblings</td>\n",
       "      <td>160347007.0,160274005.0,160274005.0,160267000....</td>\n",
       "      <td>Glaucoma,No history of Diabetes mellitus,No hi...</td>\n",
       "    </tr>\n",
       "    <tr>\n",
       "      <th>1</th>\n",
       "      <td>14361139.0</td>\n",
       "      <td>327.0</td>\n",
       "      <td>Never smoker</td>\n",
       "      <td>Medicare</td>\n",
       "      <td>0.0</td>\n",
       "      <td>0.00</td>\n",
       "      <td>121.0</td>\n",
       "      <td>0.0</td>\n",
       "      <td>0.0</td>\n",
       "      <td>2011-12-04 00:00:00</td>\n",
       "      <td>...</td>\n",
       "      <td>NaN</td>\n",
       "      <td>NaN</td>\n",
       "      <td>455661.0</td>\n",
       "      <td>clear lens capsule cortex and nucleus</td>\n",
       "      <td>clear lens capsule cortex and nucleus</td>\n",
       "      <td>2016-10-22</td>\n",
       "      <td>89.0</td>\n",
       "      <td>Parents;Relatives</td>\n",
       "      <td>416855002.0,160274005.0,160267000.0,160267000.0;;</td>\n",
       "      <td>Diabetes,No history of Diabetes mellitus,No hi...</td>\n",
       "    </tr>\n",
       "    <tr>\n",
       "      <th>2</th>\n",
       "      <td>11783809.0</td>\n",
       "      <td>335.0</td>\n",
       "      <td>Former smoker</td>\n",
       "      <td>Blue Shield Of Illinois PPO</td>\n",
       "      <td>0.0</td>\n",
       "      <td>0.00</td>\n",
       "      <td>103.0</td>\n",
       "      <td>0.0</td>\n",
       "      <td>0.0</td>\n",
       "      <td>2013-10-16 00:00:00</td>\n",
       "      <td>...</td>\n",
       "      <td>NaN</td>\n",
       "      <td>NaN</td>\n",
       "      <td>5786173.0</td>\n",
       "      <td>2 + NS (undilated)</td>\n",
       "      <td>2 + NS (undilated)</td>\n",
       "      <td>2016-10-05</td>\n",
       "      <td>146.0</td>\n",
       "      <td>Parents</td>\n",
       "      <td>416855002.0,275134007.0,160357008.0,160267000....</td>\n",
       "      <td>Diabetes,Arthritis,HBP,No history of Glaucoma,...</td>\n",
       "    </tr>\n",
       "    <tr>\n",
       "      <th>3</th>\n",
       "      <td>6074701.0</td>\n",
       "      <td>1515.0</td>\n",
       "      <td>Never smoker</td>\n",
       "      <td>VOHHA</td>\n",
       "      <td>0.0</td>\n",
       "      <td>0.00</td>\n",
       "      <td>200.0</td>\n",
       "      <td>130.0</td>\n",
       "      <td>80.0</td>\n",
       "      <td>2012-10-01 00:00:00</td>\n",
       "      <td>...</td>\n",
       "      <td>NaN</td>\n",
       "      <td>NaN</td>\n",
       "      <td>14534672.0</td>\n",
       "      <td>1+ NS</td>\n",
       "      <td>1+ NS</td>\n",
       "      <td>2016-10-10</td>\n",
       "      <td>196.0</td>\n",
       "      <td>Parents</td>\n",
       "      <td>416855002.0,160267000.0,160274005.0,160267000.0;</td>\n",
       "      <td>Diabetes,No history of Glaucoma,No history of ...</td>\n",
       "    </tr>\n",
       "    <tr>\n",
       "      <th>4</th>\n",
       "      <td>8583237.0</td>\n",
       "      <td>1519.0</td>\n",
       "      <td>Former smoker</td>\n",
       "      <td>Opticare CountyCare</td>\n",
       "      <td>0.0</td>\n",
       "      <td>37.11</td>\n",
       "      <td>118.0</td>\n",
       "      <td>110.0</td>\n",
       "      <td>80.0</td>\n",
       "      <td>2014-07-01 00:00:00</td>\n",
       "      <td>...</td>\n",
       "      <td>NaN</td>\n",
       "      <td>NaN</td>\n",
       "      <td>2071158.0</td>\n",
       "      <td>vacuoles</td>\n",
       "      <td>vacuoles</td>\n",
       "      <td>2015-12-19</td>\n",
       "      <td>331.0</td>\n",
       "      <td>Parents;Siblings</td>\n",
       "      <td>160274005.0,160267000.0,160274005.0,160267000.0;;</td>\n",
       "      <td>No history of Diabetes mellitus,No history of ...</td>\n",
       "    </tr>\n",
       "  </tbody>\n",
       "</table>\n",
       "<p>5 rows × 46 columns</p>\n",
       "</div>"
      ],
      "text/plain": [
       "      Enc_Nbr  Person_Nbr_x Smoking_Status                Primary_Payer  A1C  \\\n",
       "0    123227.0          33.0   Never smoker          Premier Vision Plan  8.0   \n",
       "1  14361139.0         327.0   Never smoker                     Medicare  0.0   \n",
       "2  11783809.0         335.0  Former smoker  Blue Shield Of Illinois PPO  0.0   \n",
       "3   6074701.0        1515.0   Never smoker                        VOHHA  0.0   \n",
       "4   8583237.0        1519.0  Former smoker          Opticare CountyCare  0.0   \n",
       "\n",
       "     BMI  Glucose  BP_Systolic  BP_Diastolic               Enc_Yr  \\\n",
       "0   0.00    130.0         59.0          39.0  2014-12-18 00:00:00   \n",
       "1   0.00    121.0          0.0           0.0  2011-12-04 00:00:00   \n",
       "2   0.00    103.0          0.0           0.0  2013-10-16 00:00:00   \n",
       "3   0.00    200.0        130.0          80.0  2012-10-01 00:00:00   \n",
       "4  37.11    118.0        110.0          80.0  2014-07-01 00:00:00   \n",
       "\n",
       "                         ...                         OS_Macula4_Modifer  \\\n",
       "0                        ...                                        NaN   \n",
       "1                        ...                                        NaN   \n",
       "2                        ...                                        NaN   \n",
       "3                        ...                                        NaN   \n",
       "4                        ...                                        NaN   \n",
       "\n",
       "  OS_Macula4_Location  Enc_Nbr_sl                             OD_SL_LENS  \\\n",
       "0                 NaN    123227.0                         1+ NS 1-2+ ACC   \n",
       "1                 NaN    455661.0  clear lens capsule cortex and nucleus   \n",
       "2                 NaN   5786173.0                     2 + NS (undilated)   \n",
       "3                 NaN  14534672.0                                  1+ NS   \n",
       "4                 NaN   2071158.0                               vacuoles   \n",
       "\n",
       "                              OS_SL_LENS   Enc_Yr_sl  Person_Nbr_y  \\\n",
       "0                         1+ NS 1-2+ ACC  2012-10-16          33.0   \n",
       "1  clear lens capsule cortex and nucleus  2016-10-22          89.0   \n",
       "2                     2 + NS (undilated)  2016-10-05         146.0   \n",
       "3                                  1+ NS  2016-10-10         196.0   \n",
       "4                               vacuoles  2015-12-19         331.0   \n",
       "\n",
       "            Relation                                               Code  \\\n",
       "0   Parents;Siblings  160347007.0,160274005.0,160274005.0,160267000....   \n",
       "1  Parents;Relatives  416855002.0,160274005.0,160267000.0,160267000.0;;   \n",
       "2            Parents  416855002.0,275134007.0,160357008.0,160267000....   \n",
       "3            Parents   416855002.0,160267000.0,160274005.0,160267000.0;   \n",
       "4   Parents;Siblings  160274005.0,160267000.0,160274005.0,160267000.0;;   \n",
       "\n",
       "                                      Family_History  \n",
       "0  Glaucoma,No history of Diabetes mellitus,No hi...  \n",
       "1  Diabetes,No history of Diabetes mellitus,No hi...  \n",
       "2  Diabetes,Arthritis,HBP,No history of Glaucoma,...  \n",
       "3  Diabetes,No history of Glaucoma,No history of ...  \n",
       "4  No history of Diabetes mellitus,No history of ...  \n",
       "\n",
       "[5 rows x 46 columns]"
      ]
     },
     "execution_count": 10,
     "metadata": {},
     "output_type": "execute_result"
    }
   ],
   "source": [
    "single_person_all=pd.merge(single_person_wsl,e,left_index=True,right_index=True,how=\"left\")\n",
    "print single_person_all.shape\n",
    "single_person_all.head()"
   ]
  },
  {
   "cell_type": "code",
   "execution_count": 11,
   "metadata": {
    "collapsed": false
   },
   "outputs": [],
   "source": [
    "del single_person_all[\"Person_Nbr_y\"]\n",
    "single_person_all=single_person_all.rename(columns={\"Person_Nbr_x\":\"Person_Nbr\"})\n",
    "single_person_all.to_csv(\"single_person_all.csv\")"
   ]
  },
  {
   "cell_type": "code",
   "execution_count": 12,
   "metadata": {
    "collapsed": false
   },
   "outputs": [],
   "source": [
    "single_person_all.to_csv(\"single_person_all.csv\")"
   ]
  },
  {
   "cell_type": "markdown",
   "metadata": {},
   "source": [
    "Adding demographics "
   ]
  },
  {
   "cell_type": "code",
   "execution_count": 13,
   "metadata": {
    "collapsed": true
   },
   "outputs": [],
   "source": [
    "demographics = pd.read_pickle(path + 'demographics.pickle') "
   ]
  },
  {
   "cell_type": "code",
   "execution_count": 14,
   "metadata": {
    "collapsed": false
   },
   "outputs": [
    {
     "name": "stdout",
     "output_type": "stream",
     "text": [
      "(17019, 8)\n",
      "17019\n"
     ]
    },
    {
     "data": {
      "text/html": [
       "<div>\n",
       "<table border=\"1\" class=\"dataframe\">\n",
       "  <thead>\n",
       "    <tr style=\"text-align: right;\">\n",
       "      <th></th>\n",
       "      <th>﻿Person_ID</th>\n",
       "      <th>Person_Nbr</th>\n",
       "      <th>DOB</th>\n",
       "      <th>Gender</th>\n",
       "      <th>Race</th>\n",
       "      <th>Ethnicity</th>\n",
       "      <th>Zip</th>\n",
       "      <th>Age_Censored</th>\n",
       "    </tr>\n",
       "  </thead>\n",
       "  <tbody>\n",
       "    <tr>\n",
       "      <th>14132</th>\n",
       "      <td>18405351-AC64-46A2-A003-8F7889351A13</td>\n",
       "      <td>33</td>\n",
       "      <td>1948-10-15</td>\n",
       "      <td>F</td>\n",
       "      <td>Black/African American (Not Hispanic)</td>\n",
       "      <td>Declined to specify</td>\n",
       "      <td>60616</td>\n",
       "      <td>None</td>\n",
       "    </tr>\n",
       "    <tr>\n",
       "      <th>8747</th>\n",
       "      <td>4ACD51E8-4A9B-4AA6-B635-166ADA5EF02E</td>\n",
       "      <td>89</td>\n",
       "      <td>1955-09-04</td>\n",
       "      <td>M</td>\n",
       "      <td>Declined to specify</td>\n",
       "      <td>Declined to specify</td>\n",
       "      <td>60652</td>\n",
       "      <td>None</td>\n",
       "    </tr>\n",
       "    <tr>\n",
       "      <th>2129</th>\n",
       "      <td>DF25CE0F-E45A-44D2-BE43-F49FE4F5E280</td>\n",
       "      <td>112</td>\n",
       "      <td>1932-11-19</td>\n",
       "      <td>F</td>\n",
       "      <td>NaN</td>\n",
       "      <td>NaN</td>\n",
       "      <td>606372549</td>\n",
       "      <td>None</td>\n",
       "    </tr>\n",
       "    <tr>\n",
       "      <th>6591</th>\n",
       "      <td>7027DD58-6465-496C-880A-A6E825C155A8</td>\n",
       "      <td>146</td>\n",
       "      <td>1948-12-19</td>\n",
       "      <td>F</td>\n",
       "      <td>Declined to specify</td>\n",
       "      <td>Declined to specify</td>\n",
       "      <td>60615</td>\n",
       "      <td>None</td>\n",
       "    </tr>\n",
       "    <tr>\n",
       "      <th>16909</th>\n",
       "      <td>395DD5E7-45F9-456E-A127-9AB929E872F7</td>\n",
       "      <td>196</td>\n",
       "      <td>1955-02-21</td>\n",
       "      <td>F</td>\n",
       "      <td>Declined to specify</td>\n",
       "      <td>Declined to specify</td>\n",
       "      <td>60615</td>\n",
       "      <td>None</td>\n",
       "    </tr>\n",
       "  </tbody>\n",
       "</table>\n",
       "</div>"
      ],
      "text/plain": [
       "                                 ﻿Person_ID  Person_Nbr        DOB Gender  \\\n",
       "14132  18405351-AC64-46A2-A003-8F7889351A13          33 1948-10-15      F   \n",
       "8747   4ACD51E8-4A9B-4AA6-B635-166ADA5EF02E          89 1955-09-04      M   \n",
       "2129   DF25CE0F-E45A-44D2-BE43-F49FE4F5E280         112 1932-11-19      F   \n",
       "6591   7027DD58-6465-496C-880A-A6E825C155A8         146 1948-12-19      F   \n",
       "16909  395DD5E7-45F9-456E-A127-9AB929E872F7         196 1955-02-21      F   \n",
       "\n",
       "                                        Race            Ethnicity        Zip  \\\n",
       "14132  Black/African American (Not Hispanic)  Declined to specify      60616   \n",
       "8747                     Declined to specify  Declined to specify      60652   \n",
       "2129                                     NaN                  NaN  606372549   \n",
       "6591                     Declined to specify  Declined to specify      60615   \n",
       "16909                    Declined to specify  Declined to specify      60615   \n",
       "\n",
       "      Age_Censored  \n",
       "14132         None  \n",
       "8747          None  \n",
       "2129          None  \n",
       "6591          None  \n",
       "16909         None  "
      ]
     },
     "execution_count": 14,
     "metadata": {},
     "output_type": "execute_result"
    }
   ],
   "source": [
    "print demographics.shape\n",
    "print len(demographics.Person_Nbr.drop_duplicates())\n",
    "demographics.head()"
   ]
  },
  {
   "cell_type": "code",
   "execution_count": 15,
   "metadata": {
    "collapsed": true
   },
   "outputs": [],
   "source": [
    "demographics=demographics.reset_index()"
   ]
  },
  {
   "cell_type": "markdown",
   "metadata": {},
   "source": [
    "Finding Age from DOB"
   ]
  },
  {
   "cell_type": "code",
   "execution_count": 18,
   "metadata": {
    "collapsed": false
   },
   "outputs": [
    {
     "data": {
      "text/plain": [
       "datetime.date(2016, 11, 3)"
      ]
     },
     "execution_count": 18,
     "metadata": {},
     "output_type": "execute_result"
    }
   ],
   "source": [
    "temp = pd.DatetimeIndex(all_enc.Enc_Date)\n",
    "max_date=temp.date.max()\n",
    "max_date"
   ]
  },
  {
   "cell_type": "code",
   "execution_count": 19,
   "metadata": {
    "collapsed": false
   },
   "outputs": [],
   "source": [
    "demographics[\"Age\"]=demographics.DOB.apply(lambda x:relativedelta(max_date,x).years)"
   ]
  },
  {
   "cell_type": "markdown",
   "metadata": {},
   "source": [
    "Fixing the zip code column"
   ]
  },
  {
   "cell_type": "code",
   "execution_count": 20,
   "metadata": {
    "collapsed": false
   },
   "outputs": [
    {
     "data": {
      "text/plain": [
       "2012"
      ]
     },
     "execution_count": 20,
     "metadata": {},
     "output_type": "execute_result"
    }
   ],
   "source": [
    "sum(demographics.Zip.apply(lambda x: \"True\" if len(x)>5 else \"False\")==\"True\")"
   ]
  },
  {
   "cell_type": "code",
   "execution_count": 21,
   "metadata": {
    "collapsed": false
   },
   "outputs": [],
   "source": [
    "demographics[\"Zipn\"]=demographics.Zip.apply(lambda x: x[0:5])"
   ]
  },
  {
   "cell_type": "markdown",
   "metadata": {},
   "source": [
    "Standardize the Race and Ethinicity"
   ]
  },
  {
   "cell_type": "code",
   "execution_count": 22,
   "metadata": {
    "collapsed": false
   },
   "outputs": [
    {
     "name": "stdout",
     "output_type": "stream",
     "text": [
      "31\n",
      "['Black/African American (Not Hispanic)' 'Declined to specify' nan\n",
      " 'Black or African American' 'Hispanic' 'Indian' 'Asian'\n",
      " 'Hispanic Or Latino (All Races)' 'White (Not Hispanic / Latino)' 'White'\n",
      " 'Native American Indian' 'Alaskan Native' 'Multi-racial'\n",
      " 'American Indian or Alaska Native' 'Multiracial' 'Other Race (Jamaican)'\n",
      " 'Other Pacific Islander (Not Hawaiian)' 'Greek'\n",
      " 'American Indian/Alaskan Native' 'Other Race' 'Hawaiian'\n",
      " 'Unknown/Not Reported' 'More than one race'\n",
      " 'Native Hawaiian or Other Pacific Islander' 'AA' 'Chinese'\n",
      " 'American Indian' 'African American' 'Caucasian' 'Pakistani' 'Moroccan']\n",
      "16\n"
     ]
    },
    {
     "data": {
      "text/plain": [
       "array(['Declined to specify', nan, 'African American',\n",
       "       'Not Hispanic or Latino', 'Unknown Ethnicity', 'Hispanic or Latino',\n",
       "       'Unknown / Not Reported', 'african american', 'Chinese', 'Black',\n",
       "       'African', 'Caucasion and black', 'Pt declines to answer',\n",
       "       'Black/AA', 'white', 'Black/ AA'], dtype=object)"
      ]
     },
     "execution_count": 22,
     "metadata": {},
     "output_type": "execute_result"
    }
   ],
   "source": [
    "print len(demographics.Race.unique())\n",
    "print demographics.Race.unique()\n",
    "print len(demographics.Ethnicity.unique())\n",
    "demographics.Ethnicity.unique()"
   ]
  },
  {
   "cell_type": "code",
   "execution_count": 23,
   "metadata": {
    "collapsed": false
   },
   "outputs": [],
   "source": [
    "def stand_race(x):\n",
    "    if pd.isnull(x):\n",
    "        return 'Unknown'\n",
    "    elif x=='African American':\n",
    "        return 'Black or African American'\n",
    "    elif x=='Black or African American':\n",
    "        return'Black or African American'\n",
    "    elif x=='Black/African American (Not Hispanic)':\n",
    "        return 'Black or African American'\n",
    "    elif x=='American Indian or Alaska Native':\n",
    "        return 'American Indian or Alaska Native'\n",
    "    elif x==        'American Indian/Alaskan Native':\n",
    "        return'American Indian or Alaska Native'\n",
    "    elif x==        'American Indian':\n",
    "        return 'American Indian or Alaska Native'\n",
    "    elif x==        'Native American Indian':\n",
    "        return'American Indian or Alaska Native'\n",
    "    elif x==        'Alaskan Native':\n",
    "        return 'American Indian or Alaska Native'\n",
    "    elif x==       'Asian':\n",
    "        return'Asian'\n",
    "    elif x==       'Chinese':\n",
    "        return'Asian'\n",
    "    elif x==       'Indian':\n",
    "        return'Asian'\n",
    "    elif x==       'Caucasian':\n",
    "        return'White'\n",
    "    elif x==       'White (Not Hispanic / Latino)':\n",
    "        return'White, not Hispanic or Latino'\n",
    "    elif x==        'White':\n",
    "        return'White'\n",
    "    elif x==       'Declined to specify':\n",
    "        return'Unknown'\n",
    "    elif x==      'Unknown/Not Reported':\n",
    "        return'Unknown'\n",
    "    elif x==      'Greek':\n",
    "        return'White'\n",
    "    elif x==      'Native Hawaiian or Other Pacific Islander':\n",
    "        return'Native Hawaiian and Other Pacific Islander'\n",
    "    elif x==      'Hawaiian':\n",
    "        return'Native Hawaiian and Other Pacific Islander'\n",
    "    elif x==      'Other Pacific Islander (Not Hawaiian)':\n",
    "        return'Native Hawaiian and Other Pacific Islander'\n",
    "    elif x==      'Hispanic Or Latino (All Races)':\n",
    "        return'Hispanic or Latino'\n",
    "    elif x==       'Hispanic':\n",
    "        return'Hispanic or Latino'\n",
    "    elif x==       'More than one race':\n",
    "        return'Two or More Races'\n",
    "    elif x==       'Multiracial':\n",
    "        return'Two or More Races'\n",
    "    elif x==       'Multi-racial':\n",
    "        return'Two or More Races'\n",
    "    elif x=='Moroccan':\n",
    "        return'White'\n",
    "    elif x==       'Other Race':\n",
    "        return'Other Race'\n",
    "    elif x==       'Other Race (Jamaican)':\n",
    "        return'Other Race'"
   ]
  },
  {
   "cell_type": "code",
   "execution_count": 24,
   "metadata": {
    "collapsed": false
   },
   "outputs": [],
   "source": [
    "demographics[\"Racen\"]=demographics.Race.map(stand_race)"
   ]
  },
  {
   "cell_type": "code",
   "execution_count": 25,
   "metadata": {
    "collapsed": false
   },
   "outputs": [
    {
     "name": "stdout",
     "output_type": "stream",
     "text": [
      "11\n"
     ]
    },
    {
     "data": {
      "text/plain": [
       "array(['Black or African American', 'Unknown', 'Hispanic or Latino',\n",
       "       'Asian', 'White, not Hispanic or Latino', 'White',\n",
       "       'American Indian or Alaska Native', 'Two or More Races',\n",
       "       'Other Race', 'Native Hawaiian and Other Pacific Islander', None], dtype=object)"
      ]
     },
     "execution_count": 25,
     "metadata": {},
     "output_type": "execute_result"
    }
   ],
   "source": [
    "print len(demographics.Racen.unique())\n",
    "demographics.Racen.unique()"
   ]
  },
  {
   "cell_type": "code",
   "execution_count": 26,
   "metadata": {
    "collapsed": false
   },
   "outputs": [
    {
     "name": "stdout",
     "output_type": "stream",
     "text": [
      "(17019, 5)\n"
     ]
    },
    {
     "data": {
      "text/html": [
       "<div>\n",
       "<table border=\"1\" class=\"dataframe\">\n",
       "  <thead>\n",
       "    <tr style=\"text-align: right;\">\n",
       "      <th></th>\n",
       "      <th>Person_Nbr</th>\n",
       "      <th>Age</th>\n",
       "      <th>Zipn</th>\n",
       "      <th>Gender</th>\n",
       "      <th>Racen</th>\n",
       "    </tr>\n",
       "  </thead>\n",
       "  <tbody>\n",
       "    <tr>\n",
       "      <th>0</th>\n",
       "      <td>33</td>\n",
       "      <td>68</td>\n",
       "      <td>60616</td>\n",
       "      <td>F</td>\n",
       "      <td>Black or African American</td>\n",
       "    </tr>\n",
       "    <tr>\n",
       "      <th>1</th>\n",
       "      <td>89</td>\n",
       "      <td>61</td>\n",
       "      <td>60652</td>\n",
       "      <td>M</td>\n",
       "      <td>Unknown</td>\n",
       "    </tr>\n",
       "    <tr>\n",
       "      <th>2</th>\n",
       "      <td>112</td>\n",
       "      <td>83</td>\n",
       "      <td>60637</td>\n",
       "      <td>F</td>\n",
       "      <td>Unknown</td>\n",
       "    </tr>\n",
       "    <tr>\n",
       "      <th>3</th>\n",
       "      <td>146</td>\n",
       "      <td>67</td>\n",
       "      <td>60615</td>\n",
       "      <td>F</td>\n",
       "      <td>Unknown</td>\n",
       "    </tr>\n",
       "    <tr>\n",
       "      <th>4</th>\n",
       "      <td>196</td>\n",
       "      <td>61</td>\n",
       "      <td>60615</td>\n",
       "      <td>F</td>\n",
       "      <td>Unknown</td>\n",
       "    </tr>\n",
       "  </tbody>\n",
       "</table>\n",
       "</div>"
      ],
      "text/plain": [
       "   Person_Nbr  Age   Zipn Gender                      Racen\n",
       "0          33   68  60616      F  Black or African American\n",
       "1          89   61  60652      M                    Unknown\n",
       "2         112   83  60637      F                    Unknown\n",
       "3         146   67  60615      F                    Unknown\n",
       "4         196   61  60615      F                    Unknown"
      ]
     },
     "execution_count": 26,
     "metadata": {},
     "output_type": "execute_result"
    }
   ],
   "source": [
    "cols=[\"Person_Nbr\",\"Age\",\"Zipn\",\"Gender\",\"Racen\"]\n",
    "demo=demographics[cols]\n",
    "print demo.shape\n",
    "demo.head()"
   ]
  },
  {
   "cell_type": "markdown",
   "metadata": {},
   "source": [
    "Merge with single_person_all"
   ]
  },
  {
   "cell_type": "code",
   "execution_count": 27,
   "metadata": {
    "collapsed": false
   },
   "outputs": [
    {
     "name": "stdout",
     "output_type": "stream",
     "text": [
      "(17019, 5)\n"
     ]
    },
    {
     "data": {
      "text/plain": [
       "(16087, 45)"
      ]
     },
     "execution_count": 27,
     "metadata": {},
     "output_type": "execute_result"
    }
   ],
   "source": [
    "print demo.shape\n",
    "single_person_all.shape"
   ]
  },
  {
   "cell_type": "code",
   "execution_count": 28,
   "metadata": {
    "collapsed": false
   },
   "outputs": [
    {
     "name": "stdout",
     "output_type": "stream",
     "text": [
      "(16087, 50)\n"
     ]
    },
    {
     "data": {
      "text/html": [
       "<div>\n",
       "<table border=\"1\" class=\"dataframe\">\n",
       "  <thead>\n",
       "    <tr style=\"text-align: right;\">\n",
       "      <th></th>\n",
       "      <th>Enc_Nbr</th>\n",
       "      <th>Person_Nbr_x</th>\n",
       "      <th>Smoking_Status</th>\n",
       "      <th>Primary_Payer</th>\n",
       "      <th>A1C</th>\n",
       "      <th>BMI</th>\n",
       "      <th>Glucose</th>\n",
       "      <th>BP_Systolic</th>\n",
       "      <th>BP_Diastolic</th>\n",
       "      <th>Enc_Yr</th>\n",
       "      <th>...</th>\n",
       "      <th>OS_SL_LENS</th>\n",
       "      <th>Enc_Yr_sl</th>\n",
       "      <th>Relation</th>\n",
       "      <th>Code</th>\n",
       "      <th>Family_History</th>\n",
       "      <th>Person_Nbr_y</th>\n",
       "      <th>Age</th>\n",
       "      <th>Zipn</th>\n",
       "      <th>Gender</th>\n",
       "      <th>Racen</th>\n",
       "    </tr>\n",
       "  </thead>\n",
       "  <tbody>\n",
       "    <tr>\n",
       "      <th>0</th>\n",
       "      <td>123227.0</td>\n",
       "      <td>33.0</td>\n",
       "      <td>Never smoker</td>\n",
       "      <td>Premier Vision Plan</td>\n",
       "      <td>8.0</td>\n",
       "      <td>0.00</td>\n",
       "      <td>130.0</td>\n",
       "      <td>59.0</td>\n",
       "      <td>39.0</td>\n",
       "      <td>2014-12-18 00:00:00</td>\n",
       "      <td>...</td>\n",
       "      <td>1+ NS 1-2+ ACC</td>\n",
       "      <td>2012-10-16</td>\n",
       "      <td>Parents;Siblings</td>\n",
       "      <td>160347007.0,160274005.0,160274005.0,160267000....</td>\n",
       "      <td>Glaucoma,No history of Diabetes mellitus,No hi...</td>\n",
       "      <td>33</td>\n",
       "      <td>68</td>\n",
       "      <td>60616</td>\n",
       "      <td>F</td>\n",
       "      <td>Black or African American</td>\n",
       "    </tr>\n",
       "    <tr>\n",
       "      <th>1</th>\n",
       "      <td>14361139.0</td>\n",
       "      <td>327.0</td>\n",
       "      <td>Never smoker</td>\n",
       "      <td>Medicare</td>\n",
       "      <td>0.0</td>\n",
       "      <td>0.00</td>\n",
       "      <td>121.0</td>\n",
       "      <td>0.0</td>\n",
       "      <td>0.0</td>\n",
       "      <td>2011-12-04 00:00:00</td>\n",
       "      <td>...</td>\n",
       "      <td>clear lens capsule cortex and nucleus</td>\n",
       "      <td>2016-10-22</td>\n",
       "      <td>Parents;Relatives</td>\n",
       "      <td>416855002.0,160274005.0,160267000.0,160267000.0;;</td>\n",
       "      <td>Diabetes,No history of Diabetes mellitus,No hi...</td>\n",
       "      <td>89</td>\n",
       "      <td>61</td>\n",
       "      <td>60652</td>\n",
       "      <td>M</td>\n",
       "      <td>Unknown</td>\n",
       "    </tr>\n",
       "    <tr>\n",
       "      <th>2</th>\n",
       "      <td>11783809.0</td>\n",
       "      <td>335.0</td>\n",
       "      <td>Former smoker</td>\n",
       "      <td>Blue Shield Of Illinois PPO</td>\n",
       "      <td>0.0</td>\n",
       "      <td>0.00</td>\n",
       "      <td>103.0</td>\n",
       "      <td>0.0</td>\n",
       "      <td>0.0</td>\n",
       "      <td>2013-10-16 00:00:00</td>\n",
       "      <td>...</td>\n",
       "      <td>2 + NS (undilated)</td>\n",
       "      <td>2016-10-05</td>\n",
       "      <td>Parents</td>\n",
       "      <td>416855002.0,275134007.0,160357008.0,160267000....</td>\n",
       "      <td>Diabetes,Arthritis,HBP,No history of Glaucoma,...</td>\n",
       "      <td>112</td>\n",
       "      <td>83</td>\n",
       "      <td>60637</td>\n",
       "      <td>F</td>\n",
       "      <td>Unknown</td>\n",
       "    </tr>\n",
       "    <tr>\n",
       "      <th>3</th>\n",
       "      <td>6074701.0</td>\n",
       "      <td>1515.0</td>\n",
       "      <td>Never smoker</td>\n",
       "      <td>VOHHA</td>\n",
       "      <td>0.0</td>\n",
       "      <td>0.00</td>\n",
       "      <td>200.0</td>\n",
       "      <td>130.0</td>\n",
       "      <td>80.0</td>\n",
       "      <td>2012-10-01 00:00:00</td>\n",
       "      <td>...</td>\n",
       "      <td>1+ NS</td>\n",
       "      <td>2016-10-10</td>\n",
       "      <td>Parents</td>\n",
       "      <td>416855002.0,160267000.0,160274005.0,160267000.0;</td>\n",
       "      <td>Diabetes,No history of Glaucoma,No history of ...</td>\n",
       "      <td>146</td>\n",
       "      <td>67</td>\n",
       "      <td>60615</td>\n",
       "      <td>F</td>\n",
       "      <td>Unknown</td>\n",
       "    </tr>\n",
       "    <tr>\n",
       "      <th>4</th>\n",
       "      <td>8583237.0</td>\n",
       "      <td>1519.0</td>\n",
       "      <td>Former smoker</td>\n",
       "      <td>Opticare CountyCare</td>\n",
       "      <td>0.0</td>\n",
       "      <td>37.11</td>\n",
       "      <td>118.0</td>\n",
       "      <td>110.0</td>\n",
       "      <td>80.0</td>\n",
       "      <td>2014-07-01 00:00:00</td>\n",
       "      <td>...</td>\n",
       "      <td>vacuoles</td>\n",
       "      <td>2015-12-19</td>\n",
       "      <td>Parents;Siblings</td>\n",
       "      <td>160274005.0,160267000.0,160274005.0,160267000.0;;</td>\n",
       "      <td>No history of Diabetes mellitus,No history of ...</td>\n",
       "      <td>196</td>\n",
       "      <td>61</td>\n",
       "      <td>60615</td>\n",
       "      <td>F</td>\n",
       "      <td>Unknown</td>\n",
       "    </tr>\n",
       "  </tbody>\n",
       "</table>\n",
       "<p>5 rows × 50 columns</p>\n",
       "</div>"
      ],
      "text/plain": [
       "      Enc_Nbr  Person_Nbr_x Smoking_Status                Primary_Payer  A1C  \\\n",
       "0    123227.0          33.0   Never smoker          Premier Vision Plan  8.0   \n",
       "1  14361139.0         327.0   Never smoker                     Medicare  0.0   \n",
       "2  11783809.0         335.0  Former smoker  Blue Shield Of Illinois PPO  0.0   \n",
       "3   6074701.0        1515.0   Never smoker                        VOHHA  0.0   \n",
       "4   8583237.0        1519.0  Former smoker          Opticare CountyCare  0.0   \n",
       "\n",
       "     BMI  Glucose  BP_Systolic  BP_Diastolic               Enc_Yr  \\\n",
       "0   0.00    130.0         59.0          39.0  2014-12-18 00:00:00   \n",
       "1   0.00    121.0          0.0           0.0  2011-12-04 00:00:00   \n",
       "2   0.00    103.0          0.0           0.0  2013-10-16 00:00:00   \n",
       "3   0.00    200.0        130.0          80.0  2012-10-01 00:00:00   \n",
       "4  37.11    118.0        110.0          80.0  2014-07-01 00:00:00   \n",
       "\n",
       "             ...                                         OS_SL_LENS  \\\n",
       "0            ...                                     1+ NS 1-2+ ACC   \n",
       "1            ...              clear lens capsule cortex and nucleus   \n",
       "2            ...                                 2 + NS (undilated)   \n",
       "3            ...                                              1+ NS   \n",
       "4            ...                                           vacuoles   \n",
       "\n",
       "    Enc_Yr_sl           Relation  \\\n",
       "0  2012-10-16   Parents;Siblings   \n",
       "1  2016-10-22  Parents;Relatives   \n",
       "2  2016-10-05            Parents   \n",
       "3  2016-10-10            Parents   \n",
       "4  2015-12-19   Parents;Siblings   \n",
       "\n",
       "                                                Code  \\\n",
       "0  160347007.0,160274005.0,160274005.0,160267000....   \n",
       "1  416855002.0,160274005.0,160267000.0,160267000.0;;   \n",
       "2  416855002.0,275134007.0,160357008.0,160267000....   \n",
       "3   416855002.0,160267000.0,160274005.0,160267000.0;   \n",
       "4  160274005.0,160267000.0,160274005.0,160267000.0;;   \n",
       "\n",
       "                                      Family_History Person_Nbr_y  Age   Zipn  \\\n",
       "0  Glaucoma,No history of Diabetes mellitus,No hi...           33   68  60616   \n",
       "1  Diabetes,No history of Diabetes mellitus,No hi...           89   61  60652   \n",
       "2  Diabetes,Arthritis,HBP,No history of Glaucoma,...          112   83  60637   \n",
       "3  Diabetes,No history of Glaucoma,No history of ...          146   67  60615   \n",
       "4  No history of Diabetes mellitus,No history of ...          196   61  60615   \n",
       "\n",
       "  Gender                      Racen  \n",
       "0      F  Black or African American  \n",
       "1      M                    Unknown  \n",
       "2      F                    Unknown  \n",
       "3      F                    Unknown  \n",
       "4      F                    Unknown  \n",
       "\n",
       "[5 rows x 50 columns]"
      ]
     },
     "execution_count": 28,
     "metadata": {},
     "output_type": "execute_result"
    }
   ],
   "source": [
    "single_person_all1=pd.merge(single_person_all,demo,left_index=True,right_index=True,how=\"left\")\n",
    "print single_person_all1.shape\n",
    "single_person_all1.head()"
   ]
  },
  {
   "cell_type": "code",
   "execution_count": 29,
   "metadata": {
    "collapsed": true
   },
   "outputs": [],
   "source": [
    "del single_person_all1[\"Person_Nbr_y\"]\n",
    "single_person_all1=single_person_all1.rename(columns={\"Person_Nbr_x\":\"Person_Nbr\"})\n",
    "single_person_all1.to_csv(\"single_person_all1.csv\")"
   ]
  },
  {
   "cell_type": "code",
   "execution_count": 30,
   "metadata": {
    "collapsed": false
   },
   "outputs": [],
   "source": [
    "single_person_all1.to_csv(\"single_person_all1.csv\")"
   ]
  },
  {
   "cell_type": "code",
   "execution_count": 284,
   "metadata": {
    "collapsed": true
   },
   "outputs": [],
   "source": []
  }
 ],
 "metadata": {
  "anaconda-cloud": {},
  "kernelspec": {
   "display_name": "Python [conda root]",
   "language": "python",
   "name": "conda-root-py"
  },
  "language_info": {
   "codemirror_mode": {
    "name": "ipython",
    "version": 2
   },
   "file_extension": ".py",
   "mimetype": "text/x-python",
   "name": "python",
   "nbconvert_exporter": "python",
   "pygments_lexer": "ipython2",
   "version": "2.7.12"
  }
 },
 "nbformat": 4,
 "nbformat_minor": 2
}
