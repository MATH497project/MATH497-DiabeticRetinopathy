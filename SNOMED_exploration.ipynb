{
 "cells": [
  {
   "cell_type": "code",
   "execution_count": 1,
   "metadata": {
    "collapsed": false
   },
   "outputs": [
    {
     "name": "stdout",
     "output_type": "stream",
     "text": [
      "Local data read/write folder path:\n",
      "\tDefault path: /Users/Dan/2017 spring/MATH 497/code and data/data/\n",
      "\n",
      "Data: all_person_data \n",
      "File: all_person_data_Dan_20170406.pickle\n",
      "File already exists.\n",
      "\n",
      "Data: systemic_disease_list \n",
      "File: systemic_disease_list.pickle\n",
      "File already exists.\n",
      "\n",
      "Data: refractive_index \n",
      "File: 2017_03_30_refractive_index_columns.pickle\n",
      "File already exists.\n",
      "\n",
      "Data: demographics \n",
      "File: demographics_Dan_20170304.pickle\n",
      "File already exists.\n",
      "\n",
      "Data: visual_accuity \n",
      "File: 2017_03_30_visual_acuity_columns.pickle\n",
      "File already exists.\n",
      "\n",
      "Data: SNOMED_problem_list \n",
      "File: SNOMED_problem_list.pickle\n",
      "File already exists.\n",
      "\n",
      "Data: family_hist_for_Enc \n",
      "File: family_hist_for_Enc.pickle\n",
      "File already exists.\n",
      "\n",
      "Data: family_hist_list \n",
      "File: family_hist_list.pickle\n",
      "File already exists.\n",
      "\n",
      "Data: person_profile \n",
      "File: person_profile_df.pickle\n",
      "File already exists.\n",
      "\n",
      "Data: baseline_missingHandled \n",
      "File: baseline_missingHandled_Dan_20170406.pickle\n",
      "File already exists.\n",
      "\n",
      "Data: SL_Lens_for_Enc \n",
      "File: SL_Lens_for_Enc.pickle\n",
      "File already exists.\n",
      "\n",
      "Data: all_encounter_data \n",
      "File: all_encounter_data_Dan_20170330.pickle\n",
      "File already exists.\n",
      "\n",
      "Data: macula_findings_for_Enc \n",
      "File: macula_findings_for_Enc.pickle\n",
      "File already exists.\n",
      "\n",
      "Data: baseline_raw \n",
      "File: baseline_raw_Dan_20170406.pickle\n",
      "File already exists.\n",
      "\n",
      "Data: encounters \n",
      "File: encounters.pickle\n",
      "File already exists.\n",
      "\n",
      "Data: systemic_disease_for_Enc \n",
      "File: systemic_disease_for_Enc.pickle\n",
      "File already exists.\n",
      "\n",
      "Data: ICD_for_Enc \n",
      "File: ICD_for_Enc_Dan_20170304.pickle\n",
      "File already exists.\n"
     ]
    }
   ],
   "source": [
    "import reader\n",
    "data = reader.Data()"
   ]
  },
  {
   "cell_type": "code",
   "execution_count": 2,
   "metadata": {
    "collapsed": false
   },
   "outputs": [
    {
     "data": {
      "text/plain": [
       "no_DR    12009\n",
       "mNPDR     2214\n",
       "PDR        964\n",
       "MNPDR      654\n",
       "SNPDR      198\n",
       "Name: recent_DR, dtype: int64"
      ]
     },
     "execution_count": 2,
     "metadata": {},
     "output_type": "execute_result"
    }
   ],
   "source": [
    "data['all_person_data'].recent_DR.value_counts()"
   ]
  },
  {
   "cell_type": "markdown",
   "metadata": {},
   "source": [
    "### Tried to merge the snomed_problem_list with all_encounter_data by date."
   ]
  },
  {
   "cell_type": "code",
   "execution_count": 3,
   "metadata": {
    "collapsed": true
   },
   "outputs": [],
   "source": [
    "import datetime"
   ]
  },
  {
   "cell_type": "code",
   "execution_count": 4,
   "metadata": {
    "collapsed": false
   },
   "outputs": [
    {
     "data": {
      "text/html": [
       "<div>\n",
       "<table border=\"1\" class=\"dataframe\">\n",
       "  <thead>\n",
       "    <tr style=\"text-align: right;\">\n",
       "      <th></th>\n",
       "      <th>Enc_Date</th>\n",
       "      <th>Person_Nbr</th>\n",
       "      <th>Date</th>\n",
       "      <th>Enc_Nbr</th>\n",
       "    </tr>\n",
       "    <tr>\n",
       "      <th>Enc_Nbr</th>\n",
       "      <th></th>\n",
       "      <th></th>\n",
       "      <th></th>\n",
       "      <th></th>\n",
       "    </tr>\n",
       "  </thead>\n",
       "  <tbody>\n",
       "    <tr>\n",
       "      <th>1043</th>\n",
       "      <td>2016-03-08 06:15:00</td>\n",
       "      <td>544674</td>\n",
       "      <td>2016-03-08</td>\n",
       "      <td>1043</td>\n",
       "    </tr>\n",
       "    <tr>\n",
       "      <th>1802</th>\n",
       "      <td>2016-05-13 03:45:00</td>\n",
       "      <td>605657</td>\n",
       "      <td>2016-05-13</td>\n",
       "      <td>1802</td>\n",
       "    </tr>\n",
       "    <tr>\n",
       "      <th>2698</th>\n",
       "      <td>2014-06-08 10:15:00</td>\n",
       "      <td>514762</td>\n",
       "      <td>2014-06-08</td>\n",
       "      <td>2698</td>\n",
       "    </tr>\n",
       "    <tr>\n",
       "      <th>2966</th>\n",
       "      <td>2016-06-24 03:15:00</td>\n",
       "      <td>552364</td>\n",
       "      <td>2016-06-24</td>\n",
       "      <td>2966</td>\n",
       "    </tr>\n",
       "    <tr>\n",
       "      <th>4091</th>\n",
       "      <td>2015-10-29 19:45:00</td>\n",
       "      <td>931187</td>\n",
       "      <td>2015-10-29</td>\n",
       "      <td>4091</td>\n",
       "    </tr>\n",
       "  </tbody>\n",
       "</table>\n",
       "</div>"
      ],
      "text/plain": [
       "                   Enc_Date  Person_Nbr        Date  Enc_Nbr\n",
       "Enc_Nbr                                                     \n",
       "1043    2016-03-08 06:15:00      544674  2016-03-08     1043\n",
       "1802    2016-05-13 03:45:00      605657  2016-05-13     1802\n",
       "2698    2014-06-08 10:15:00      514762  2014-06-08     2698\n",
       "2966    2016-06-24 03:15:00      552364  2016-06-24     2966\n",
       "4091    2015-10-29 19:45:00      931187  2015-10-29     4091"
      ]
     },
     "execution_count": 4,
     "metadata": {},
     "output_type": "execute_result"
    }
   ],
   "source": [
    "d = data['all_encounter_data'][['Enc_Date', 'Person_Nbr']].copy()\n",
    "d['Date'] = d.Enc_Date.map(lambda x: datetime.datetime(x.year, x.month, x.day).strftime('%Y-%m-%d'))\n",
    "d['Enc_Nbr'] = d.index\n",
    "d.head()"
   ]
  },
  {
   "cell_type": "code",
   "execution_count": 5,
   "metadata": {
    "collapsed": false
   },
   "outputs": [
    {
     "data": {
      "text/plain": [
       "61862"
      ]
     },
     "execution_count": 5,
     "metadata": {},
     "output_type": "execute_result"
    }
   ],
   "source": [
    "d.shape[0]"
   ]
  },
  {
   "cell_type": "code",
   "execution_count": 7,
   "metadata": {
    "collapsed": false
   },
   "outputs": [],
   "source": [
    "import pandas as pd\n",
    "sno = pd.read_csv('snocodeTally.csv')\n",
    "snocode = {k:list(v.Class)[0] for k,v in sno.groupby('SNOMED code')}"
   ]
  },
  {
   "cell_type": "code",
   "execution_count": 8,
   "metadata": {
    "collapsed": false
   },
   "outputs": [
    {
     "data": {
      "text/html": [
       "<div>\n",
       "<table border=\"1\" class=\"dataframe\">\n",
       "  <thead>\n",
       "    <tr style=\"text-align: right;\">\n",
       "      <th></th>\n",
       "      <th>Person_ID</th>\n",
       "      <th>Person_Nbr</th>\n",
       "      <th>Date_Created</th>\n",
       "      <th>Concept_ID</th>\n",
       "      <th>Description</th>\n",
       "      <th>Date</th>\n",
       "    </tr>\n",
       "  </thead>\n",
       "  <tbody>\n",
       "    <tr>\n",
       "      <th>69610</th>\n",
       "      <td>80d3df88-dddf-5ad3-7cc1-b7b1ac6151fa</td>\n",
       "      <td>33</td>\n",
       "      <td>2014-12-18 15:51:19.607</td>\n",
       "      <td>41256004</td>\n",
       "      <td>Presbyopia</td>\n",
       "      <td>2014-12-18</td>\n",
       "    </tr>\n",
       "    <tr>\n",
       "      <th>69608</th>\n",
       "      <td>80d3df88-dddf-5ad3-7cc1-b7b1ac6151fa</td>\n",
       "      <td>33</td>\n",
       "      <td>2014-12-18 15:51:28.043</td>\n",
       "      <td>41446000</td>\n",
       "      <td>Blepharitis</td>\n",
       "      <td>2014-12-18</td>\n",
       "    </tr>\n",
       "    <tr>\n",
       "      <th>69609</th>\n",
       "      <td>80d3df88-dddf-5ad3-7cc1-b7b1ac6151fa</td>\n",
       "      <td>33</td>\n",
       "      <td>2014-12-18 16:36:28.083</td>\n",
       "      <td>313436004</td>\n",
       "      <td>Type 2 diabetes mellitus without complication</td>\n",
       "      <td>2014-12-18</td>\n",
       "    </tr>\n",
       "    <tr>\n",
       "      <th>46510</th>\n",
       "      <td>adca6fa4-e7d4-d7f8-cf41-27056662d84b</td>\n",
       "      <td>89</td>\n",
       "      <td>2014-08-12 03:04:55.010</td>\n",
       "      <td>81416004</td>\n",
       "      <td>Open angle with borderline findings</td>\n",
       "      <td>2014-08-12</td>\n",
       "    </tr>\n",
       "    <tr>\n",
       "      <th>46511</th>\n",
       "      <td>adca6fa4-e7d4-d7f8-cf41-27056662d84b</td>\n",
       "      <td>89</td>\n",
       "      <td>2014-08-12 03:04:55.010</td>\n",
       "      <td>28998008</td>\n",
       "      <td>Retinal hemorrhage</td>\n",
       "      <td>2014-08-12</td>\n",
       "    </tr>\n",
       "  </tbody>\n",
       "</table>\n",
       "</div>"
      ],
      "text/plain": [
       "                                  Person_ID  Person_Nbr  \\\n",
       "69610  80d3df88-dddf-5ad3-7cc1-b7b1ac6151fa          33   \n",
       "69608  80d3df88-dddf-5ad3-7cc1-b7b1ac6151fa          33   \n",
       "69609  80d3df88-dddf-5ad3-7cc1-b7b1ac6151fa          33   \n",
       "46510  adca6fa4-e7d4-d7f8-cf41-27056662d84b          89   \n",
       "46511  adca6fa4-e7d4-d7f8-cf41-27056662d84b          89   \n",
       "\n",
       "                 Date_Created  Concept_ID  \\\n",
       "69610 2014-12-18 15:51:19.607    41256004   \n",
       "69608 2014-12-18 15:51:28.043    41446000   \n",
       "69609 2014-12-18 16:36:28.083   313436004   \n",
       "46510 2014-08-12 03:04:55.010    81416004   \n",
       "46511 2014-08-12 03:04:55.010    28998008   \n",
       "\n",
       "                                         Description        Date  \n",
       "69610                                     Presbyopia  2014-12-18  \n",
       "69608                                    Blepharitis  2014-12-18  \n",
       "69609  Type 2 diabetes mellitus without complication  2014-12-18  \n",
       "46510            Open angle with borderline findings  2014-08-12  \n",
       "46511                             Retinal hemorrhage  2014-08-12  "
      ]
     },
     "execution_count": 8,
     "metadata": {},
     "output_type": "execute_result"
    }
   ],
   "source": [
    "d1 = data['SNOMED_problem_list']\n",
    "d1['Date'] = d1.Date_Created.map(lambda x: datetime.datetime(x.year, x.month, x.day).strftime('%Y-%m-%d'))\n",
    "d1.head()"
   ]
  },
  {
   "cell_type": "code",
   "execution_count": 9,
   "metadata": {
    "collapsed": false
   },
   "outputs": [
    {
     "data": {
      "text/plain": [
       "5525"
      ]
     },
     "execution_count": 9,
     "metadata": {},
     "output_type": "execute_result"
    }
   ],
   "source": [
    "d1['sno_diagnosis'] = d1.Concept_ID.map(lambda x: snocode.get(x, float('nan')))\n",
    "d1 = d1[d1.sno_diagnosis.notnull()]\n",
    "d1.shape[0]"
   ]
  },
  {
   "cell_type": "markdown",
   "metadata": {},
   "source": [
    "### But the problem is not every record in snomed table has a linked encounter number with just date as the key."
   ]
  },
  {
   "cell_type": "code",
   "execution_count": 10,
   "metadata": {
    "collapsed": false
   },
   "outputs": [
    {
     "data": {
      "text/html": [
       "<div>\n",
       "<table border=\"1\" class=\"dataframe\">\n",
       "  <thead>\n",
       "    <tr style=\"text-align: right;\">\n",
       "      <th></th>\n",
       "      <th>Enc_Date</th>\n",
       "      <th>Person_Nbr</th>\n",
       "      <th>Date</th>\n",
       "      <th>Enc_Nbr</th>\n",
       "      <th>Person_ID</th>\n",
       "      <th>Date_Created</th>\n",
       "      <th>Concept_ID</th>\n",
       "      <th>Description</th>\n",
       "      <th>sno_diagnosis</th>\n",
       "    </tr>\n",
       "  </thead>\n",
       "  <tbody>\n",
       "    <tr>\n",
       "      <th>0</th>\n",
       "      <td>2016-03-08 06:15:00</td>\n",
       "      <td>544674</td>\n",
       "      <td>2016-03-08</td>\n",
       "      <td>1043.0</td>\n",
       "      <td>NaN</td>\n",
       "      <td>NaT</td>\n",
       "      <td>NaN</td>\n",
       "      <td>NaN</td>\n",
       "      <td>NaN</td>\n",
       "    </tr>\n",
       "    <tr>\n",
       "      <th>1</th>\n",
       "      <td>2016-05-13 03:45:00</td>\n",
       "      <td>605657</td>\n",
       "      <td>2016-05-13</td>\n",
       "      <td>1802.0</td>\n",
       "      <td>NaN</td>\n",
       "      <td>NaT</td>\n",
       "      <td>NaN</td>\n",
       "      <td>NaN</td>\n",
       "      <td>NaN</td>\n",
       "    </tr>\n",
       "    <tr>\n",
       "      <th>2</th>\n",
       "      <td>2014-06-08 10:15:00</td>\n",
       "      <td>514762</td>\n",
       "      <td>2014-06-08</td>\n",
       "      <td>2698.0</td>\n",
       "      <td>NaN</td>\n",
       "      <td>NaT</td>\n",
       "      <td>NaN</td>\n",
       "      <td>NaN</td>\n",
       "      <td>NaN</td>\n",
       "    </tr>\n",
       "    <tr>\n",
       "      <th>3</th>\n",
       "      <td>2016-06-24 03:15:00</td>\n",
       "      <td>552364</td>\n",
       "      <td>2016-06-24</td>\n",
       "      <td>2966.0</td>\n",
       "      <td>b5f2e4f6-89ba-b4d7-25b6-950421f87122</td>\n",
       "      <td>2016-06-24 05:45:06.230</td>\n",
       "      <td>422034002.0</td>\n",
       "      <td>Diabetic retinopathy associated with type 2 di...</td>\n",
       "      <td>1.0</td>\n",
       "    </tr>\n",
       "    <tr>\n",
       "      <th>4</th>\n",
       "      <td>2015-10-29 19:45:00</td>\n",
       "      <td>931187</td>\n",
       "      <td>2015-10-29</td>\n",
       "      <td>4091.0</td>\n",
       "      <td>NaN</td>\n",
       "      <td>NaT</td>\n",
       "      <td>NaN</td>\n",
       "      <td>NaN</td>\n",
       "      <td>NaN</td>\n",
       "    </tr>\n",
       "  </tbody>\n",
       "</table>\n",
       "</div>"
      ],
      "text/plain": [
       "             Enc_Date  Person_Nbr        Date  Enc_Nbr  \\\n",
       "0 2016-03-08 06:15:00      544674  2016-03-08   1043.0   \n",
       "1 2016-05-13 03:45:00      605657  2016-05-13   1802.0   \n",
       "2 2014-06-08 10:15:00      514762  2014-06-08   2698.0   \n",
       "3 2016-06-24 03:15:00      552364  2016-06-24   2966.0   \n",
       "4 2015-10-29 19:45:00      931187  2015-10-29   4091.0   \n",
       "\n",
       "                              Person_ID            Date_Created   Concept_ID  \\\n",
       "0                                   NaN                     NaT          NaN   \n",
       "1                                   NaN                     NaT          NaN   \n",
       "2                                   NaN                     NaT          NaN   \n",
       "3  b5f2e4f6-89ba-b4d7-25b6-950421f87122 2016-06-24 05:45:06.230  422034002.0   \n",
       "4                                   NaN                     NaT          NaN   \n",
       "\n",
       "                                         Description  sno_diagnosis  \n",
       "0                                                NaN            NaN  \n",
       "1                                                NaN            NaN  \n",
       "2                                                NaN            NaN  \n",
       "3  Diabetic retinopathy associated with type 2 di...            1.0  \n",
       "4                                                NaN            NaN  "
      ]
     },
     "execution_count": 10,
     "metadata": {},
     "output_type": "execute_result"
    }
   ],
   "source": [
    "d2 = d.merge(d1, left_on = ['Person_Nbr', 'Date'], right_on = ['Person_Nbr','Date'], how = 'outer')\n",
    "#d2 = d2.drop([], 1)\n",
    "d2.head()"
   ]
  },
  {
   "cell_type": "code",
   "execution_count": 11,
   "metadata": {
    "collapsed": false
   },
   "outputs": [
    {
     "data": {
      "text/plain": [
       "65595"
      ]
     },
     "execution_count": 11,
     "metadata": {},
     "output_type": "execute_result"
    }
   ],
   "source": [
    "d2.shape[0]"
   ]
  },
  {
   "cell_type": "code",
   "execution_count": 33,
   "metadata": {
    "collapsed": false
   },
   "outputs": [
    {
     "data": {
      "text/html": [
       "<div>\n",
       "<table border=\"1\" class=\"dataframe\">\n",
       "  <thead>\n",
       "    <tr style=\"text-align: right;\">\n",
       "      <th></th>\n",
       "      <th>Enc_Date</th>\n",
       "      <th>Person_Nbr</th>\n",
       "      <th>Date</th>\n",
       "      <th>Enc_Nbr</th>\n",
       "      <th>Person_ID</th>\n",
       "      <th>Date_Created</th>\n",
       "      <th>Concept_ID</th>\n",
       "      <th>Description</th>\n",
       "      <th>sno_diagnosis</th>\n",
       "    </tr>\n",
       "  </thead>\n",
       "  <tbody>\n",
       "    <tr>\n",
       "      <th>61948</th>\n",
       "      <td>NaT</td>\n",
       "      <td>112</td>\n",
       "      <td>2014-08-11</td>\n",
       "      <td>NaN</td>\n",
       "      <td>adbfae8e-adbe-c019-839c-e9c58b2692dc</td>\n",
       "      <td>2014-08-11 05:19:55.010</td>\n",
       "      <td>312904009.0</td>\n",
       "      <td>Moderate nonproliferative diabetic retinopathy</td>\n",
       "      <td>1.0</td>\n",
       "    </tr>\n",
       "    <tr>\n",
       "      <th>61949</th>\n",
       "      <td>NaT</td>\n",
       "      <td>567</td>\n",
       "      <td>2014-08-11</td>\n",
       "      <td>NaN</td>\n",
       "      <td>87122fbc-f1b0-71d9-f040-c9e1b05adaae</td>\n",
       "      <td>2014-08-11 17:34:55.010</td>\n",
       "      <td>312903003.0</td>\n",
       "      <td>Mild non-proliferative diabetic retinopathy</td>\n",
       "      <td>1.0</td>\n",
       "    </tr>\n",
       "    <tr>\n",
       "      <th>61950</th>\n",
       "      <td>NaT</td>\n",
       "      <td>844</td>\n",
       "      <td>2014-08-08</td>\n",
       "      <td>NaN</td>\n",
       "      <td>d561da3d-65dd-c244-14a4-a66652a36416</td>\n",
       "      <td>2014-08-08 22:19:55.010</td>\n",
       "      <td>312903003.0</td>\n",
       "      <td>Mild non-proliferative diabetic retinopathy</td>\n",
       "      <td>1.0</td>\n",
       "    </tr>\n",
       "    <tr>\n",
       "      <th>61951</th>\n",
       "      <td>NaT</td>\n",
       "      <td>1138</td>\n",
       "      <td>2014-08-08</td>\n",
       "      <td>NaN</td>\n",
       "      <td>c1da4059-7cd1-f839-76df-7c98e0f69521</td>\n",
       "      <td>2014-08-08 06:04:55.010</td>\n",
       "      <td>312903003.0</td>\n",
       "      <td>Mild non-proliferative diabetic retinopathy</td>\n",
       "      <td>1.0</td>\n",
       "    </tr>\n",
       "    <tr>\n",
       "      <th>61952</th>\n",
       "      <td>NaT</td>\n",
       "      <td>1218</td>\n",
       "      <td>2014-08-12</td>\n",
       "      <td>NaN</td>\n",
       "      <td>643fd77c-bd6b-aea6-8d99-de7e81e874f3</td>\n",
       "      <td>2014-08-12 00:04:55.010</td>\n",
       "      <td>312904009.0</td>\n",
       "      <td>Moderate nonproliferative diabetic retinopathy</td>\n",
       "      <td>1.0</td>\n",
       "    </tr>\n",
       "  </tbody>\n",
       "</table>\n",
       "</div>"
      ],
      "text/plain": [
       "      Enc_Date  Person_Nbr        Date  Enc_Nbr  \\\n",
       "61948      NaT         112  2014-08-11      NaN   \n",
       "61949      NaT         567  2014-08-11      NaN   \n",
       "61950      NaT         844  2014-08-08      NaN   \n",
       "61951      NaT        1138  2014-08-08      NaN   \n",
       "61952      NaT        1218  2014-08-12      NaN   \n",
       "\n",
       "                                  Person_ID            Date_Created  \\\n",
       "61948  adbfae8e-adbe-c019-839c-e9c58b2692dc 2014-08-11 05:19:55.010   \n",
       "61949  87122fbc-f1b0-71d9-f040-c9e1b05adaae 2014-08-11 17:34:55.010   \n",
       "61950  d561da3d-65dd-c244-14a4-a66652a36416 2014-08-08 22:19:55.010   \n",
       "61951  c1da4059-7cd1-f839-76df-7c98e0f69521 2014-08-08 06:04:55.010   \n",
       "61952  643fd77c-bd6b-aea6-8d99-de7e81e874f3 2014-08-12 00:04:55.010   \n",
       "\n",
       "        Concept_ID                                     Description  \\\n",
       "61948  312904009.0  Moderate nonproliferative diabetic retinopathy   \n",
       "61949  312903003.0     Mild non-proliferative diabetic retinopathy   \n",
       "61950  312903003.0     Mild non-proliferative diabetic retinopathy   \n",
       "61951  312903003.0     Mild non-proliferative diabetic retinopathy   \n",
       "61952  312904009.0  Moderate nonproliferative diabetic retinopathy   \n",
       "\n",
       "       sno_diagnosis  \n",
       "61948            1.0  \n",
       "61949            1.0  \n",
       "61950            1.0  \n",
       "61951            1.0  \n",
       "61952            1.0  "
      ]
     },
     "execution_count": 33,
     "metadata": {},
     "output_type": "execute_result"
    }
   ],
   "source": [
    "d2['sno_diagnosis'] = d2.Concept_ID.map(lambda x: snocode.get(x, float('nan')))\n",
    "temp = d2[d2.sno_diagnosis.notnull()]\n",
    "temp[temp.Enc_Nbr.isnull()].head()"
   ]
  },
  {
   "cell_type": "markdown",
   "metadata": {},
   "source": [
    "### 65% snomed diagnosed records have no corresponding encounter data."
   ]
  },
  {
   "cell_type": "code",
   "execution_count": 34,
   "metadata": {
    "collapsed": false
   },
   "outputs": [
    {
     "name": "stdout",
     "output_type": "stream",
     "text": [
      "0.659255242227\n",
      "3647\n",
      "5532\n"
     ]
    }
   ],
   "source": [
    "print(temp[temp.Enc_Nbr.isnull()].shape[0]/float(temp.shape[0]))\n",
    "print(temp[temp.Enc_Nbr.isnull()].shape[0])\n",
    "print(temp.shape[0])"
   ]
  },
  {
   "cell_type": "markdown",
   "metadata": {},
   "source": [
    "### Extract the encounters that are diagnosed as no_DR, no_vision_threatening and vision_threatening with SNOMED codes"
   ]
  },
  {
   "cell_type": "code",
   "execution_count": 14,
   "metadata": {
    "collapsed": false
   },
   "outputs": [
    {
     "data": {
      "text/html": [
       "<div>\n",
       "<table border=\"1\" class=\"dataframe\">\n",
       "  <thead>\n",
       "    <tr style=\"text-align: right;\">\n",
       "      <th></th>\n",
       "      <th>Person_Nbr</th>\n",
       "      <th>Enc_Nbr</th>\n",
       "      <th>sno_diagnosis</th>\n",
       "    </tr>\n",
       "  </thead>\n",
       "  <tbody>\n",
       "    <tr>\n",
       "      <th>3</th>\n",
       "      <td>552364</td>\n",
       "      <td>2966.0</td>\n",
       "      <td>1.0</td>\n",
       "    </tr>\n",
       "    <tr>\n",
       "      <th>5</th>\n",
       "      <td>1048528</td>\n",
       "      <td>4267.0</td>\n",
       "      <td>1.0</td>\n",
       "    </tr>\n",
       "    <tr>\n",
       "      <th>66</th>\n",
       "      <td>415217</td>\n",
       "      <td>21680.0</td>\n",
       "      <td>2.0</td>\n",
       "    </tr>\n",
       "    <tr>\n",
       "      <th>75</th>\n",
       "      <td>702431</td>\n",
       "      <td>22822.0</td>\n",
       "      <td>1.0</td>\n",
       "    </tr>\n",
       "    <tr>\n",
       "      <th>80</th>\n",
       "      <td>994735</td>\n",
       "      <td>23521.0</td>\n",
       "      <td>2.0</td>\n",
       "    </tr>\n",
       "  </tbody>\n",
       "</table>\n",
       "</div>"
      ],
      "text/plain": [
       "    Person_Nbr  Enc_Nbr  sno_diagnosis\n",
       "3       552364   2966.0            1.0\n",
       "5      1048528   4267.0            1.0\n",
       "66      415217  21680.0            2.0\n",
       "75      702431  22822.0            1.0\n",
       "80      994735  23521.0            2.0"
      ]
     },
     "execution_count": 14,
     "metadata": {},
     "output_type": "execute_result"
    }
   ],
   "source": [
    "d3 = d2[d2.sno_diagnosis.notnull()][['Person_Nbr', 'Enc_Nbr', 'sno_diagnosis']].copy()\n",
    "d3.head()"
   ]
  },
  {
   "cell_type": "markdown",
   "metadata": {},
   "source": [
    "### Transfer the original DR-diagnosis to vision-related class"
   ]
  },
  {
   "cell_type": "code",
   "execution_count": 15,
   "metadata": {
    "collapsed": false
   },
   "outputs": [
    {
     "data": {
      "text/html": [
       "<div>\n",
       "<table border=\"1\" class=\"dataframe\">\n",
       "  <thead>\n",
       "    <tr style=\"text-align: right;\">\n",
       "      <th></th>\n",
       "      <th>Person_Nbr</th>\n",
       "      <th>DR_diagnosis</th>\n",
       "      <th>Enc_Date</th>\n",
       "      <th>Enc_Nbr</th>\n",
       "      <th>vision_class</th>\n",
       "    </tr>\n",
       "    <tr>\n",
       "      <th>Enc_Nbr</th>\n",
       "      <th></th>\n",
       "      <th></th>\n",
       "      <th></th>\n",
       "      <th></th>\n",
       "      <th></th>\n",
       "    </tr>\n",
       "  </thead>\n",
       "  <tbody>\n",
       "    <tr>\n",
       "      <th>1043</th>\n",
       "      <td>544674</td>\n",
       "      <td>no_DR</td>\n",
       "      <td>2016-03-08 06:15:00</td>\n",
       "      <td>1043</td>\n",
       "      <td>0</td>\n",
       "    </tr>\n",
       "    <tr>\n",
       "      <th>1802</th>\n",
       "      <td>605657</td>\n",
       "      <td>no_DR</td>\n",
       "      <td>2016-05-13 03:45:00</td>\n",
       "      <td>1802</td>\n",
       "      <td>0</td>\n",
       "    </tr>\n",
       "    <tr>\n",
       "      <th>2698</th>\n",
       "      <td>514762</td>\n",
       "      <td>no_DR</td>\n",
       "      <td>2014-06-08 10:15:00</td>\n",
       "      <td>2698</td>\n",
       "      <td>0</td>\n",
       "    </tr>\n",
       "    <tr>\n",
       "      <th>2966</th>\n",
       "      <td>552364</td>\n",
       "      <td>mNPDR</td>\n",
       "      <td>2016-06-24 03:15:00</td>\n",
       "      <td>2966</td>\n",
       "      <td>1</td>\n",
       "    </tr>\n",
       "    <tr>\n",
       "      <th>4091</th>\n",
       "      <td>931187</td>\n",
       "      <td>no_DR</td>\n",
       "      <td>2015-10-29 19:45:00</td>\n",
       "      <td>4091</td>\n",
       "      <td>0</td>\n",
       "    </tr>\n",
       "  </tbody>\n",
       "</table>\n",
       "</div>"
      ],
      "text/plain": [
       "         Person_Nbr DR_diagnosis            Enc_Date  Enc_Nbr  vision_class\n",
       "Enc_Nbr                                                                    \n",
       "1043         544674        no_DR 2016-03-08 06:15:00     1043             0\n",
       "1802         605657        no_DR 2016-05-13 03:45:00     1802             0\n",
       "2698         514762        no_DR 2014-06-08 10:15:00     2698             0\n",
       "2966         552364        mNPDR 2016-06-24 03:15:00     2966             1\n",
       "4091         931187        no_DR 2015-10-29 19:45:00     4091             0"
      ]
     },
     "execution_count": 15,
     "metadata": {},
     "output_type": "execute_result"
    }
   ],
   "source": [
    "d4 = data['all_encounter_data'][['Person_Nbr', 'DR_diagnosis', 'Enc_Date']].copy()\n",
    "d4['Enc_Nbr'] = d4.index\n",
    "mapping = {\n",
    "    'no_DR': 0,\n",
    "    'mNPDR': 1,\n",
    "    'MNPDR': 1,\n",
    "    'SNPDR': 2,\n",
    "    'PDR':2\n",
    "}\n",
    "d4['vision_class'] = d4.DR_diagnosis.map(lambda x: mapping.get(x))\n",
    "d4.head()"
   ]
  },
  {
   "cell_type": "markdown",
   "metadata": {},
   "source": [
    "### Merge snomed-diagnosed encounters to the original encoutners by Person_Nbr and Enc_Nbr"
   ]
  },
  {
   "cell_type": "code",
   "execution_count": 16,
   "metadata": {
    "collapsed": false
   },
   "outputs": [
    {
     "data": {
      "text/html": [
       "<div>\n",
       "<table border=\"1\" class=\"dataframe\">\n",
       "  <thead>\n",
       "    <tr style=\"text-align: right;\">\n",
       "      <th></th>\n",
       "      <th>Person_Nbr</th>\n",
       "      <th>DR_diagnosis</th>\n",
       "      <th>Enc_Date</th>\n",
       "      <th>Enc_Nbr</th>\n",
       "      <th>vision_class</th>\n",
       "      <th>sno_diagnosis</th>\n",
       "    </tr>\n",
       "  </thead>\n",
       "  <tbody>\n",
       "    <tr>\n",
       "      <th>0</th>\n",
       "      <td>544674</td>\n",
       "      <td>no_DR</td>\n",
       "      <td>2016-03-08 06:15:00</td>\n",
       "      <td>1043</td>\n",
       "      <td>0</td>\n",
       "      <td>NaN</td>\n",
       "    </tr>\n",
       "    <tr>\n",
       "      <th>1</th>\n",
       "      <td>605657</td>\n",
       "      <td>no_DR</td>\n",
       "      <td>2016-05-13 03:45:00</td>\n",
       "      <td>1802</td>\n",
       "      <td>0</td>\n",
       "      <td>NaN</td>\n",
       "    </tr>\n",
       "    <tr>\n",
       "      <th>2</th>\n",
       "      <td>514762</td>\n",
       "      <td>no_DR</td>\n",
       "      <td>2014-06-08 10:15:00</td>\n",
       "      <td>2698</td>\n",
       "      <td>0</td>\n",
       "      <td>NaN</td>\n",
       "    </tr>\n",
       "    <tr>\n",
       "      <th>3</th>\n",
       "      <td>552364</td>\n",
       "      <td>mNPDR</td>\n",
       "      <td>2016-06-24 03:15:00</td>\n",
       "      <td>2966</td>\n",
       "      <td>1</td>\n",
       "      <td>1.0</td>\n",
       "    </tr>\n",
       "    <tr>\n",
       "      <th>4</th>\n",
       "      <td>931187</td>\n",
       "      <td>no_DR</td>\n",
       "      <td>2015-10-29 19:45:00</td>\n",
       "      <td>4091</td>\n",
       "      <td>0</td>\n",
       "      <td>NaN</td>\n",
       "    </tr>\n",
       "  </tbody>\n",
       "</table>\n",
       "</div>"
      ],
      "text/plain": [
       "   Person_Nbr DR_diagnosis            Enc_Date  Enc_Nbr  vision_class  \\\n",
       "0      544674        no_DR 2016-03-08 06:15:00     1043             0   \n",
       "1      605657        no_DR 2016-05-13 03:45:00     1802             0   \n",
       "2      514762        no_DR 2014-06-08 10:15:00     2698             0   \n",
       "3      552364        mNPDR 2016-06-24 03:15:00     2966             1   \n",
       "4      931187        no_DR 2015-10-29 19:45:00     4091             0   \n",
       "\n",
       "   sno_diagnosis  \n",
       "0            NaN  \n",
       "1            NaN  \n",
       "2            NaN  \n",
       "3            1.0  \n",
       "4            NaN  "
      ]
     },
     "execution_count": 16,
     "metadata": {},
     "output_type": "execute_result"
    }
   ],
   "source": [
    "d4 = d4.merge(d3, left_on = ['Person_Nbr', 'Enc_Nbr'], right_on = ['Person_Nbr', 'Enc_Nbr'], how='left')\n",
    "d4.head()"
   ]
  },
  {
   "cell_type": "markdown",
   "metadata": {},
   "source": [
    "### 14% encounters that have both records got a different diagnosis "
   ]
  },
  {
   "cell_type": "code",
   "execution_count": 17,
   "metadata": {
    "collapsed": false
   },
   "outputs": [
    {
     "name": "stdout",
     "output_type": "stream",
     "text": [
      "0.140583554377\n",
      "265\n",
      "1885\n"
     ]
    }
   ],
   "source": [
    "temp = d4[d4.sno_diagnosis.notnull()]\n",
    "print(temp[temp.vision_class!=temp.sno_diagnosis].shape[0]/float(temp.shape[0]))\n",
    "print(temp[temp.vision_class!=temp.sno_diagnosis].shape[0])\n",
    "print(temp.shape[0])"
   ]
  },
  {
   "cell_type": "markdown",
   "metadata": {},
   "source": [
    "### Transfer the encounter-wise profile to person-wise profile"
   ]
  },
  {
   "cell_type": "markdown",
   "metadata": {},
   "source": [
    "#### Map all the NaN value of snomed diagnosis in encounter profile to 0"
   ]
  },
  {
   "cell_type": "code",
   "execution_count": 18,
   "metadata": {
    "collapsed": false
   },
   "outputs": [],
   "source": [
    "import math\n",
    "d4.sno_diagnosis = d4.sno_diagnosis.map(lambda x: 0 if math.isnan(x) else x)"
   ]
  },
  {
   "cell_type": "code",
   "execution_count": 19,
   "metadata": {
    "collapsed": false
   },
   "outputs": [],
   "source": [
    "d5 = data['all_person_data'][['worst_DR','recent_DR']].copy()\n",
    "d5['worst_vis_icd'] = d5.worst_DR.map(lambda x: mapping[x])\n",
    "d5['recent_vis_icd'] = d5.recent_DR.map(lambda x: mapping[x])"
   ]
  },
  {
   "cell_type": "code",
   "execution_count": 20,
   "metadata": {
    "collapsed": true
   },
   "outputs": [],
   "source": [
    "d5['worst_vis_sno'] = d4.groupby('Person_Nbr')['sno_diagnosis'].max()"
   ]
  },
  {
   "cell_type": "code",
   "execution_count": 21,
   "metadata": {
    "collapsed": false,
    "scrolled": false
   },
   "outputs": [],
   "source": [
    "import numpy as np\n",
    "def recent_DR(groupbyblock):\n",
    "    templist = groupbyblock.sort_values(['Enc_Date'],ascending=False)['sno_diagnosis'].values\n",
    "    temp = np.where(templist!=0)[0]\n",
    "    if len(temp) > 0:\n",
    "        return templist[temp[0]]\n",
    "    else:\n",
    "        return 0\n",
    "\n",
    "d5['recent_vis_sno'] = d4.groupby('Person_Nbr').apply(lambda x: recent_DR(x))"
   ]
  },
  {
   "cell_type": "code",
   "execution_count": 22,
   "metadata": {
    "collapsed": false
   },
   "outputs": [
    {
     "data": {
      "text/html": [
       "<div>\n",
       "<table border=\"1\" class=\"dataframe\">\n",
       "  <thead>\n",
       "    <tr style=\"text-align: right;\">\n",
       "      <th></th>\n",
       "      <th>worst_DR</th>\n",
       "      <th>recent_DR</th>\n",
       "      <th>worst_vis_icd</th>\n",
       "      <th>recent_vis_icd</th>\n",
       "      <th>worst_vis_sno</th>\n",
       "      <th>recent_vis_sno</th>\n",
       "    </tr>\n",
       "    <tr>\n",
       "      <th>Person_Nbr</th>\n",
       "      <th></th>\n",
       "      <th></th>\n",
       "      <th></th>\n",
       "      <th></th>\n",
       "      <th></th>\n",
       "      <th></th>\n",
       "    </tr>\n",
       "  </thead>\n",
       "  <tbody>\n",
       "    <tr>\n",
       "      <th>33</th>\n",
       "      <td>no_DR</td>\n",
       "      <td>no_DR</td>\n",
       "      <td>0</td>\n",
       "      <td>0</td>\n",
       "      <td>0.0</td>\n",
       "      <td>0.0</td>\n",
       "    </tr>\n",
       "    <tr>\n",
       "      <th>89</th>\n",
       "      <td>no_DR</td>\n",
       "      <td>no_DR</td>\n",
       "      <td>0</td>\n",
       "      <td>0</td>\n",
       "      <td>0.0</td>\n",
       "      <td>0.0</td>\n",
       "    </tr>\n",
       "    <tr>\n",
       "      <th>146</th>\n",
       "      <td>no_DR</td>\n",
       "      <td>no_DR</td>\n",
       "      <td>0</td>\n",
       "      <td>0</td>\n",
       "      <td>0.0</td>\n",
       "      <td>0.0</td>\n",
       "    </tr>\n",
       "    <tr>\n",
       "      <th>196</th>\n",
       "      <td>no_DR</td>\n",
       "      <td>no_DR</td>\n",
       "      <td>0</td>\n",
       "      <td>0</td>\n",
       "      <td>0.0</td>\n",
       "      <td>0.0</td>\n",
       "    </tr>\n",
       "    <tr>\n",
       "      <th>327</th>\n",
       "      <td>no_DR</td>\n",
       "      <td>no_DR</td>\n",
       "      <td>0</td>\n",
       "      <td>0</td>\n",
       "      <td>0.0</td>\n",
       "      <td>0.0</td>\n",
       "    </tr>\n",
       "  </tbody>\n",
       "</table>\n",
       "</div>"
      ],
      "text/plain": [
       "           worst_DR recent_DR  worst_vis_icd  recent_vis_icd  worst_vis_sno  \\\n",
       "Person_Nbr                                                                    \n",
       "33            no_DR     no_DR              0               0            0.0   \n",
       "89            no_DR     no_DR              0               0            0.0   \n",
       "146           no_DR     no_DR              0               0            0.0   \n",
       "196           no_DR     no_DR              0               0            0.0   \n",
       "327           no_DR     no_DR              0               0            0.0   \n",
       "\n",
       "            recent_vis_sno  \n",
       "Person_Nbr                  \n",
       "33                     0.0  \n",
       "89                     0.0  \n",
       "146                    0.0  \n",
       "196                    0.0  \n",
       "327                    0.0  "
      ]
     },
     "execution_count": 22,
     "metadata": {},
     "output_type": "execute_result"
    }
   ],
   "source": [
    "d5.head()"
   ]
  },
  {
   "cell_type": "code",
   "execution_count": 23,
   "metadata": {
    "collapsed": false
   },
   "outputs": [
    {
     "data": {
      "text/plain": [
       "16039"
      ]
     },
     "execution_count": 23,
     "metadata": {},
     "output_type": "execute_result"
    }
   ],
   "source": [
    "d5.shape[0]"
   ]
  },
  {
   "cell_type": "markdown",
   "metadata": {},
   "source": [
    "### 101 patients that diagnosed as no_DR got a different diagnosis with snomed (in both worst and recent case)"
   ]
  },
  {
   "cell_type": "code",
   "execution_count": 24,
   "metadata": {
    "collapsed": false
   },
   "outputs": [
    {
     "data": {
      "text/plain": [
       "101"
      ]
     },
     "execution_count": 24,
     "metadata": {},
     "output_type": "execute_result"
    }
   ],
   "source": [
    "temp = d5[d5.worst_vis_icd==0]\n",
    "temp[temp.worst_vis_icd!=temp.worst_vis_sno].shape[0]"
   ]
  },
  {
   "cell_type": "code",
   "execution_count": 25,
   "metadata": {
    "collapsed": false
   },
   "outputs": [
    {
     "data": {
      "text/plain": [
       "101"
      ]
     },
     "execution_count": 25,
     "metadata": {},
     "output_type": "execute_result"
    }
   ],
   "source": [
    "temp = d5[d5.recent_vis_icd==0]\n",
    "temp[temp.recent_vis_icd!=temp.recent_vis_sno].shape[0]"
   ]
  },
  {
   "cell_type": "markdown",
   "metadata": {},
   "source": [
    "### Less than 100 patients diagnosed as some kind of vision class got a different diagnosis with snomed"
   ]
  },
  {
   "cell_type": "code",
   "execution_count": 26,
   "metadata": {
    "collapsed": false
   },
   "outputs": [
    {
     "data": {
      "text/plain": [
       "87"
      ]
     },
     "execution_count": 26,
     "metadata": {},
     "output_type": "execute_result"
    }
   ],
   "source": [
    "temp = d5[d5.worst_vis_icd!=0]\n",
    "temp = temp[temp.worst_vis_sno!=0]\n",
    "temp[temp.worst_vis_icd!=temp.worst_vis_sno].shape[0]"
   ]
  },
  {
   "cell_type": "code",
   "execution_count": 27,
   "metadata": {
    "collapsed": false
   },
   "outputs": [
    {
     "data": {
      "text/plain": [
       "96"
      ]
     },
     "execution_count": 27,
     "metadata": {},
     "output_type": "execute_result"
    }
   ],
   "source": [
    "temp = d5[d5.recent_vis_icd!=0]\n",
    "temp = temp[temp.recent_vis_sno!=0]\n",
    "temp[temp.recent_vis_icd!=temp.recent_vis_sno].shape[0]"
   ]
  },
  {
   "cell_type": "markdown",
   "metadata": {},
   "source": [
    "### With ICD we had in total 4030 patients with DR, and with SNOMED we had in total 1053 patients with DR"
   ]
  },
  {
   "cell_type": "code",
   "execution_count": 28,
   "metadata": {
    "collapsed": false
   },
   "outputs": [
    {
     "data": {
      "text/plain": [
       "4030"
      ]
     },
     "execution_count": 28,
     "metadata": {},
     "output_type": "execute_result"
    }
   ],
   "source": [
    "d5[d5.worst_vis_icd!=0].shape[0]"
   ]
  },
  {
   "cell_type": "code",
   "execution_count": 29,
   "metadata": {
    "collapsed": false
   },
   "outputs": [
    {
     "data": {
      "text/plain": [
       "4030"
      ]
     },
     "execution_count": 29,
     "metadata": {},
     "output_type": "execute_result"
    }
   ],
   "source": [
    "d5[d5.recent_vis_icd!=0].shape[0]"
   ]
  },
  {
   "cell_type": "code",
   "execution_count": 30,
   "metadata": {
    "collapsed": false
   },
   "outputs": [
    {
     "data": {
      "text/plain": [
       "1053"
      ]
     },
     "execution_count": 30,
     "metadata": {},
     "output_type": "execute_result"
    }
   ],
   "source": [
    "d5[d5.worst_vis_sno!=0].shape[0]"
   ]
  },
  {
   "cell_type": "code",
   "execution_count": 31,
   "metadata": {
    "collapsed": false
   },
   "outputs": [
    {
     "data": {
      "text/plain": [
       "1053"
      ]
     },
     "execution_count": 31,
     "metadata": {},
     "output_type": "execute_result"
    }
   ],
   "source": [
    "d5[d5.recent_vis_sno!=0].shape[0]"
   ]
  },
  {
   "cell_type": "code",
   "execution_count": null,
   "metadata": {
    "collapsed": true
   },
   "outputs": [],
   "source": []
  }
 ],
 "metadata": {
  "kernelspec": {
   "display_name": "Python 2",
   "language": "python",
   "name": "python2"
  },
  "language_info": {
   "codemirror_mode": {
    "name": "ipython",
    "version": 2
   },
   "file_extension": ".py",
   "mimetype": "text/x-python",
   "name": "python",
   "nbconvert_exporter": "python",
   "pygments_lexer": "ipython2",
   "version": "2.7.13"
  }
 },
 "nbformat": 4,
 "nbformat_minor": 2
}
