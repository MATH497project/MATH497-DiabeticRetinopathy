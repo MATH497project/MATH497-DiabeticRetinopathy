{
 "cells": [
  {
   "cell_type": "code",
   "execution_count": 17,
   "metadata": {
    "collapsed": true
   },
   "outputs": [],
   "source": [
    "import pandas as pd\n",
    "from pprint import pprint\n",
    "import json"
   ]
  },
  {
   "cell_type": "code",
   "execution_count": 3,
   "metadata": {
    "collapsed": true
   },
   "outputs": [],
   "source": [
    "# ICD_list table must be re-built from, presumably, ICD_for_Enc due to some entries being\n",
    "# pre-18th birthday.  ICD_list entries are not timestamped!\n",
    "table_names = ['all_encounter_data', 'demographics', 'encounters', 'family_hist_for_Enc',\n",
    "               'family_hist_list', 'ICD_for_Enc', 'ICD_list', 'macula_findings_for_Enc',\n",
    "               'SL_Lens_for_Enc', 'SNOMED_problem_list', 'systemic_disease_for_Enc', 'systemic_disease_list']\n",
    "\n",
    "person_data = ['demographics','family_hist_list', 'systemic_disease_list', 'SNOMED_problem_list']\n",
    "\n",
    "encounter_data = ['all_encounter_data', 'encounters', 'family_hist_for_Enc', 'ICD_for_Enc', 'macula_findings_for_Enc',\n",
    "                   'SL_Lens_for_Enc', 'systemic_disease_for_Enc']\n"
   ]
  },
  {
   "cell_type": "code",
   "execution_count": 3,
   "metadata": {
    "collapsed": true
   },
   "outputs": [],
   "source": [
    "path = 'E:\\\\anil\\\\IIT Sop\\\\Term02\\\\MATH497\\\\ICO_data\\\\original_pickle\\\\'"
   ]
  },
  {
   "cell_type": "code",
   "execution_count": 4,
   "metadata": {
    "collapsed": true
   },
   "outputs": [],
   "source": [
    "# read tables into dataframes\n",
    "dfs = [pd.read_pickle(path + name + '.pickle') if name != 'ICD_list' else None\n",
    "        for name in table_names ]"
   ]
  },
  {
   "cell_type": "code",
   "execution_count": 5,
   "metadata": {
    "collapsed": false,
    "scrolled": true
   },
   "outputs": [
    {
     "name": "stderr",
     "output_type": "stream",
     "text": [
      "C:\\Program Files\\Anaconda2\\lib\\site-packages\\pandas\\io\\pytables.py:270: PerformanceWarning: \n",
      "your performance may suffer as PyTables will pickle object types that it cannot\n",
      "map directly to c-types [inferred_type->unicode,key->axis0] [items->None]\n",
      "\n",
      "  f(store)\n",
      "C:\\Program Files\\Anaconda2\\lib\\site-packages\\pandas\\io\\pytables.py:270: PerformanceWarning: \n",
      "your performance may suffer as PyTables will pickle object types that it cannot\n",
      "map directly to c-types [inferred_type->unicode,key->block0_items] [items->None]\n",
      "\n",
      "  f(store)\n",
      "C:\\Program Files\\Anaconda2\\lib\\site-packages\\pandas\\io\\pytables.py:270: PerformanceWarning: \n",
      "your performance may suffer as PyTables will pickle object types that it cannot\n",
      "map directly to c-types [inferred_type->unicode,key->block1_items] [items->None]\n",
      "\n",
      "  f(store)\n",
      "C:\\Program Files\\Anaconda2\\lib\\site-packages\\pandas\\io\\pytables.py:270: PerformanceWarning: \n",
      "your performance may suffer as PyTables will pickle object types that it cannot\n",
      "map directly to c-types [inferred_type->unicode,key->block2_items] [items->None]\n",
      "\n",
      "  f(store)\n",
      "C:\\Program Files\\Anaconda2\\lib\\site-packages\\pandas\\core\\generic.py:1138: PerformanceWarning: \n",
      "your performance may suffer as PyTables will pickle object types that it cannot\n",
      "map directly to c-types [inferred_type->mixed,key->block3_values] [items->[u'Enc_ID', u'Person_ID', u'Primary_Payer', u'Smoking_Status', u'BMI', u'BP', u'Glucose', u'MR_OD_SPH', u'MR_OD_CYL', u'MR_OD_AXIS', u'MR_OD_DVA', u'MR_OD_NVA', u'MR_OS_SPH', u'MR_OS_CYL', u'MR_OS_AXIS', u'MR_OS_DVA', u'MR_OS_NVA', u'BB_OD_SPH', u'BB_OD_CYL', u'BB_OD_AXIS', u'BB_OD_DVA', u'BB_OD_NVA', u'BB_OS_SPH', u'BB_OS_CYL', u'BB_OS_AXIS', u'BB_OS_DVA', u'BB_OS_NVA', u'CYCLO_OD_SPH', u'CYCLO_OD_CYL', u'CYCLO_OD_DVA', u'CYCLO_OD_NVA', u'CYCLO_OS_SPH', u'CYCLO_OS_CYL', u'CYCLO_OS_AXIS', u'CYCLO_OS_DVA', u'CYCLO_OS_NVA']]\n",
      "\n",
      "  return pytables.to_hdf(path_or_buf, key, self, **kwargs)\n",
      "C:\\Program Files\\Anaconda2\\lib\\site-packages\\pandas\\io\\pytables.py:270: PerformanceWarning: \n",
      "your performance may suffer as PyTables will pickle object types that it cannot\n",
      "map directly to c-types [inferred_type->unicode,key->block3_items] [items->None]\n",
      "\n",
      "  f(store)\n",
      "C:\\Program Files\\Anaconda2\\lib\\site-packages\\pandas\\core\\generic.py:1138: PerformanceWarning: \n",
      "your performance may suffer as PyTables will pickle object types that it cannot\n",
      "map directly to c-types [inferred_type->mixed,key->block2_values] [items->[u'Person_ID', u'Gender', u'Race', u'Ethnicity', u'Zip', u'Age_Censored']]\n",
      "\n",
      "  return pytables.to_hdf(path_or_buf, key, self, **kwargs)\n",
      "C:\\Program Files\\Anaconda2\\lib\\site-packages\\pandas\\core\\generic.py:1138: PerformanceWarning: \n",
      "your performance may suffer as PyTables will pickle object types that it cannot\n",
      "map directly to c-types [inferred_type->mixed,key->block2_values] [items->[u'Person_ID', u'Enc_ID', u'Code', u'Code_System', u'Family_History', u'Relation']]\n",
      "\n",
      "  return pytables.to_hdf(path_or_buf, key, self, **kwargs)\n",
      "C:\\Program Files\\Anaconda2\\lib\\site-packages\\pandas\\core\\generic.py:1138: PerformanceWarning: \n",
      "your performance may suffer as PyTables will pickle object types that it cannot\n",
      "map directly to c-types [inferred_type->mixed,key->block2_values] [items->[u'Person_ID', u'Code', u'Code_System', u'Family_History', u'Relation']]\n",
      "\n",
      "  return pytables.to_hdf(path_or_buf, key, self, **kwargs)\n",
      "C:\\Program Files\\Anaconda2\\lib\\site-packages\\pandas\\core\\generic.py:1138: PerformanceWarning: \n",
      "your performance may suffer as PyTables will pickle object types that it cannot\n",
      "map directly to c-types [inferred_type->mixed,key->block2_values] [items->[u'Person_ID', u'Enc_ID', u'Diagnosis_Code_ID', u'Description']]\n",
      "\n",
      "  return pytables.to_hdf(path_or_buf, key, self, **kwargs)\n",
      "C:\\Program Files\\Anaconda2\\lib\\site-packages\\pandas\\core\\generic.py:1138: PerformanceWarning: \n",
      "your performance may suffer as PyTables will pickle object types that it cannot\n",
      "map directly to c-types [inferred_type->mixed,key->block3_values] [items->[u'Enc_ID', u'Person_ID', u'OD_Macula1_Finding', u'OD_Macula1_Modifer', u'OD_Macula2_Finding', u'OD_Macula2_Modifer', u'OD_Macula3_Finding', u'OD_Macula3_Modifer', u'OD_Macula4_Finding', u'OS_Macula1_Finding', u'OS_Macula1_Modifer', u'OS_Macula2_Finding', u'OS_Macula2_Modifer', u'OS_Macula2_Location', u'OS_Macula3_Finding', u'OS_Macula3_Modifer', u'OS_Macula4_Finding']]\n",
      "\n",
      "  return pytables.to_hdf(path_or_buf, key, self, **kwargs)\n",
      "C:\\Program Files\\Anaconda2\\lib\\site-packages\\pandas\\core\\generic.py:1138: PerformanceWarning: \n",
      "your performance may suffer as PyTables will pickle object types that it cannot\n",
      "map directly to c-types [inferred_type->mixed,key->block2_values] [items->[u'Enc_ID', u'Person_ID', u'OD_SL_LENS', u'OS_SL_LENS']]\n",
      "\n",
      "  return pytables.to_hdf(path_or_buf, key, self, **kwargs)\n",
      "C:\\Program Files\\Anaconda2\\lib\\site-packages\\pandas\\core\\generic.py:1138: PerformanceWarning: \n",
      "your performance may suffer as PyTables will pickle object types that it cannot\n",
      "map directly to c-types [inferred_type->mixed,key->block2_values] [items->[u'Person_ID', u'Enc_ID', u'Snomed_Code', u'Systemic_Diseases']]\n",
      "\n",
      "  return pytables.to_hdf(path_or_buf, key, self, **kwargs)\n",
      "C:\\Program Files\\Anaconda2\\lib\\site-packages\\pandas\\core\\generic.py:1138: PerformanceWarning: \n",
      "your performance may suffer as PyTables will pickle object types that it cannot\n",
      "map directly to c-types [inferred_type->mixed,key->block2_values] [items->[u'Person_ID', u'Snomed_Code', u'Systemic_Diseases']]\n",
      "\n",
      "  return pytables.to_hdf(path_or_buf, key, self, **kwargs)\n"
     ]
    }
   ],
   "source": [
    "df_index =0\n",
    "for df in dfs:\n",
    "    if df is not None:\n",
    "        df.columns = [col.decode(\"utf-8-sig\") for col in df.columns]\n",
    "        df.to_hdf('allDFs.hdf', table_names[df_index], format='fixed')\n",
    "    df_index+=1"
   ]
  },
  {
   "cell_type": "code",
   "execution_count": 4,
   "metadata": {
    "collapsed": false
   },
   "outputs": [],
   "source": [
    "dfs=[]\n",
    "for df_name in table_names:\n",
    "    if df_name!='ICD_list':\n",
    "        dfs.append(pd.read_hdf('allDFs.hdf', df_name))\n",
    "    else:\n",
    "        dfs.append(None)"
   ]
  },
  {
   "cell_type": "code",
   "execution_count": 11,
   "metadata": {
    "collapsed": true
   },
   "outputs": [],
   "source": [
    "# rename columns in all dataframes to avoid unicode decode error\n",
    "for df in dfs:\n",
    "    if df is not None:\n",
    "        df.columns = [col.decode(\"utf-8-sig\") for col in df.columns]"
   ]
  },
  {
   "cell_type": "code",
   "execution_count": 17,
   "metadata": {
    "collapsed": false,
    "scrolled": true
   },
   "outputs": [
    {
     "ename": "KeyboardInterrupt",
     "evalue": "",
     "output_type": "error",
     "traceback": [
      "\u001b[0;31m---------------------------------------------------------------------------\u001b[0m",
      "\u001b[0;31mKeyboardInterrupt\u001b[0m                         Traceback (most recent call last)",
      "\u001b[0;32m<ipython-input-17-294422849fae>\u001b[0m in \u001b[0;36m<module>\u001b[0;34m()\u001b[0m\n\u001b[1;32m      6\u001b[0m         \u001b[0mperson_data_df\u001b[0m \u001b[1;33m=\u001b[0m \u001b[0mdfs\u001b[0m\u001b[1;33m[\u001b[0m\u001b[0mdf_index\u001b[0m \u001b[1;33m]\u001b[0m\u001b[1;33m.\u001b[0m\u001b[0mcopy\u001b[0m\u001b[1;33m(\u001b[0m\u001b[1;33m)\u001b[0m\u001b[1;33m\u001b[0m\u001b[0m\n\u001b[1;32m      7\u001b[0m     \u001b[1;32melse\u001b[0m\u001b[1;33m:\u001b[0m\u001b[1;33m\u001b[0m\u001b[0m\n\u001b[0;32m----> 8\u001b[0;31m         \u001b[0mperson_data_df\u001b[0m \u001b[1;33m=\u001b[0m \u001b[0mpd\u001b[0m\u001b[1;33m.\u001b[0m\u001b[0mmerge\u001b[0m\u001b[1;33m(\u001b[0m\u001b[0mperson_data_df\u001b[0m\u001b[1;33m,\u001b[0m \u001b[0mdfs\u001b[0m\u001b[1;33m[\u001b[0m\u001b[0mdf_index\u001b[0m\u001b[1;33m]\u001b[0m\u001b[1;33m,\u001b[0m \u001b[0mon\u001b[0m\u001b[1;33m=\u001b[0m\u001b[1;34m'Person_ID'\u001b[0m\u001b[1;33m,\u001b[0m \u001b[0mhow\u001b[0m\u001b[1;33m=\u001b[0m\u001b[1;34m'outer'\u001b[0m\u001b[1;33m,\u001b[0m \u001b[0msuffixes\u001b[0m\u001b[1;33m=\u001b[0m\u001b[1;33m[\u001b[0m\u001b[1;34m''\u001b[0m\u001b[1;33m,\u001b[0m \u001b[0mperson_df_name\u001b[0m\u001b[1;33m]\u001b[0m \u001b[1;33m)\u001b[0m\u001b[1;33m\u001b[0m\u001b[0m\n\u001b[0m\u001b[1;32m      9\u001b[0m     \u001b[0mi\u001b[0m\u001b[1;33m+=\u001b[0m\u001b[1;36m1\u001b[0m\u001b[1;33m\u001b[0m\u001b[0m\n\u001b[1;32m     10\u001b[0m \u001b[1;32mprint\u001b[0m \u001b[0mlen\u001b[0m\u001b[1;33m(\u001b[0m\u001b[0mperson_data_df\u001b[0m\u001b[1;33m)\u001b[0m\u001b[1;33m\u001b[0m\u001b[0m\n",
      "\u001b[0;32mC:\\Program Files\\Anaconda2\\lib\\site-packages\\pandas\\tools\\merge.pyc\u001b[0m in \u001b[0;36mmerge\u001b[0;34m(left, right, how, on, left_on, right_on, left_index, right_index, sort, suffixes, copy, indicator)\u001b[0m\n\u001b[1;32m     60\u001b[0m                          \u001b[0mright_index\u001b[0m\u001b[1;33m=\u001b[0m\u001b[0mright_index\u001b[0m\u001b[1;33m,\u001b[0m \u001b[0msort\u001b[0m\u001b[1;33m=\u001b[0m\u001b[0msort\u001b[0m\u001b[1;33m,\u001b[0m \u001b[0msuffixes\u001b[0m\u001b[1;33m=\u001b[0m\u001b[0msuffixes\u001b[0m\u001b[1;33m,\u001b[0m\u001b[1;33m\u001b[0m\u001b[0m\n\u001b[1;32m     61\u001b[0m                          copy=copy, indicator=indicator)\n\u001b[0;32m---> 62\u001b[0;31m     \u001b[1;32mreturn\u001b[0m \u001b[0mop\u001b[0m\u001b[1;33m.\u001b[0m\u001b[0mget_result\u001b[0m\u001b[1;33m(\u001b[0m\u001b[1;33m)\u001b[0m\u001b[1;33m\u001b[0m\u001b[0m\n\u001b[0m\u001b[1;32m     63\u001b[0m \u001b[1;32mif\u001b[0m \u001b[0m__debug__\u001b[0m\u001b[1;33m:\u001b[0m\u001b[1;33m\u001b[0m\u001b[0m\n\u001b[1;32m     64\u001b[0m     \u001b[0mmerge\u001b[0m\u001b[1;33m.\u001b[0m\u001b[0m__doc__\u001b[0m \u001b[1;33m=\u001b[0m \u001b[0m_merge_doc\u001b[0m \u001b[1;33m%\u001b[0m \u001b[1;34m'\\nleft : DataFrame'\u001b[0m\u001b[1;33m\u001b[0m\u001b[0m\n",
      "\u001b[0;32mC:\\Program Files\\Anaconda2\\lib\\site-packages\\pandas\\tools\\merge.pyc\u001b[0m in \u001b[0;36mget_result\u001b[0;34m(self)\u001b[0m\n\u001b[1;32m    562\u001b[0m             \u001b[1;33m[\u001b[0m\u001b[1;33m(\u001b[0m\u001b[0mldata\u001b[0m\u001b[1;33m,\u001b[0m \u001b[0mlindexers\u001b[0m\u001b[1;33m)\u001b[0m\u001b[1;33m,\u001b[0m \u001b[1;33m(\u001b[0m\u001b[0mrdata\u001b[0m\u001b[1;33m,\u001b[0m \u001b[0mrindexers\u001b[0m\u001b[1;33m)\u001b[0m\u001b[1;33m]\u001b[0m\u001b[1;33m,\u001b[0m\u001b[1;33m\u001b[0m\u001b[0m\n\u001b[1;32m    563\u001b[0m             \u001b[0maxes\u001b[0m\u001b[1;33m=\u001b[0m\u001b[1;33m[\u001b[0m\u001b[0mllabels\u001b[0m\u001b[1;33m.\u001b[0m\u001b[0mappend\u001b[0m\u001b[1;33m(\u001b[0m\u001b[0mrlabels\u001b[0m\u001b[1;33m)\u001b[0m\u001b[1;33m,\u001b[0m \u001b[0mjoin_index\u001b[0m\u001b[1;33m]\u001b[0m\u001b[1;33m,\u001b[0m\u001b[1;33m\u001b[0m\u001b[0m\n\u001b[0;32m--> 564\u001b[0;31m             concat_axis=0, copy=self.copy)\n\u001b[0m\u001b[1;32m    565\u001b[0m \u001b[1;33m\u001b[0m\u001b[0m\n\u001b[1;32m    566\u001b[0m         \u001b[0mtyp\u001b[0m \u001b[1;33m=\u001b[0m \u001b[0mself\u001b[0m\u001b[1;33m.\u001b[0m\u001b[0mleft\u001b[0m\u001b[1;33m.\u001b[0m\u001b[0m_constructor\u001b[0m\u001b[1;33m\u001b[0m\u001b[0m\n",
      "\u001b[0;32mC:\\Program Files\\Anaconda2\\lib\\site-packages\\pandas\\core\\internals.pyc\u001b[0m in \u001b[0;36mconcatenate_block_managers\u001b[0;34m(mgrs_indexers, axes, concat_axis, copy)\u001b[0m\n\u001b[1;32m   4823\u001b[0m     blocks = [make_block(\n\u001b[1;32m   4824\u001b[0m         \u001b[0mconcatenate_join_units\u001b[0m\u001b[1;33m(\u001b[0m\u001b[0mjoin_units\u001b[0m\u001b[1;33m,\u001b[0m \u001b[0mconcat_axis\u001b[0m\u001b[1;33m,\u001b[0m \u001b[0mcopy\u001b[0m\u001b[1;33m=\u001b[0m\u001b[0mcopy\u001b[0m\u001b[1;33m)\u001b[0m\u001b[1;33m,\u001b[0m\u001b[1;33m\u001b[0m\u001b[0m\n\u001b[0;32m-> 4825\u001b[0;31m         placement=placement) for placement, join_units in concat_plan]\n\u001b[0m\u001b[1;32m   4826\u001b[0m \u001b[1;33m\u001b[0m\u001b[0m\n\u001b[1;32m   4827\u001b[0m     \u001b[1;32mreturn\u001b[0m \u001b[0mBlockManager\u001b[0m\u001b[1;33m(\u001b[0m\u001b[0mblocks\u001b[0m\u001b[1;33m,\u001b[0m \u001b[0maxes\u001b[0m\u001b[1;33m)\u001b[0m\u001b[1;33m\u001b[0m\u001b[0m\n",
      "\u001b[0;32mC:\\Program Files\\Anaconda2\\lib\\site-packages\\pandas\\core\\internals.pyc\u001b[0m in \u001b[0;36mconcatenate_join_units\u001b[0;34m(join_units, concat_axis, copy)\u001b[0m\n\u001b[1;32m   4926\u001b[0m         \u001b[0mconcat_values\u001b[0m \u001b[1;33m=\u001b[0m \u001b[0mto_concat\u001b[0m\u001b[1;33m[\u001b[0m\u001b[1;36m0\u001b[0m\u001b[1;33m]\u001b[0m\u001b[1;33m\u001b[0m\u001b[0m\n\u001b[1;32m   4927\u001b[0m         \u001b[1;32mif\u001b[0m \u001b[0mcopy\u001b[0m \u001b[1;32mand\u001b[0m \u001b[0mconcat_values\u001b[0m\u001b[1;33m.\u001b[0m\u001b[0mbase\u001b[0m \u001b[1;32mis\u001b[0m \u001b[1;32mnot\u001b[0m \u001b[0mNone\u001b[0m\u001b[1;33m:\u001b[0m\u001b[1;33m\u001b[0m\u001b[0m\n\u001b[0;32m-> 4928\u001b[0;31m             \u001b[0mconcat_values\u001b[0m \u001b[1;33m=\u001b[0m \u001b[0mconcat_values\u001b[0m\u001b[1;33m.\u001b[0m\u001b[0mcopy\u001b[0m\u001b[1;33m(\u001b[0m\u001b[1;33m)\u001b[0m\u001b[1;33m\u001b[0m\u001b[0m\n\u001b[0m\u001b[1;32m   4929\u001b[0m     \u001b[1;32melse\u001b[0m\u001b[1;33m:\u001b[0m\u001b[1;33m\u001b[0m\u001b[0m\n\u001b[1;32m   4930\u001b[0m         \u001b[0mconcat_values\u001b[0m \u001b[1;33m=\u001b[0m \u001b[0m_concat\u001b[0m\u001b[1;33m.\u001b[0m\u001b[0m_concat_compat\u001b[0m\u001b[1;33m(\u001b[0m\u001b[0mto_concat\u001b[0m\u001b[1;33m,\u001b[0m \u001b[0maxis\u001b[0m\u001b[1;33m=\u001b[0m\u001b[0mconcat_axis\u001b[0m\u001b[1;33m)\u001b[0m\u001b[1;33m\u001b[0m\u001b[0m\n",
      "\u001b[0;31mKeyboardInterrupt\u001b[0m: "
     ]
    }
   ],
   "source": [
    "i=0\n",
    "person_data_df = None\n",
    "for person_df_name in person_data:\n",
    "    df_index = table_names.index(person_df_name)\n",
    "    if i == 0 :\n",
    "        person_data_df = dfs[df_index ].copy()\n",
    "    else:\n",
    "        person_data_df = pd.merge(person_data_df, dfs[df_index], on='Person_ID', how='outer', suffixes=['', person_df_name] )\n",
    "    i+=1\n",
    "print len(person_data_df)\n",
    "person_data_df.drop_duplicates(inplace=True)\n",
    "print len(person_data_df)\n",
    "\n",
    "person_data_df.to_hdf('allDFs.hdf', 'person_data_df', format='fixed')\n",
    "# person_data_df.to_pickle('personFull.pickle')"
   ]
  },
  {
   "cell_type": "code",
   "execution_count": 15,
   "metadata": {
    "collapsed": false,
    "scrolled": true
   },
   "outputs": [
    {
     "name": "stdout",
     "output_type": "stream",
     "text": [
      "<class 'pandas.core.frame.DataFrame'>\n",
      "Int64Index: 11398124 entries, 0 to 11398123\n",
      "Data columns (total 28 columns):\n",
      "Person_ID                            object\n",
      "Person_Nbr                           float64\n",
      "Date_Created                         datetime64[ns]\n",
      "Code                                 object\n",
      "Code_System                          object\n",
      "Family_History                       object\n",
      "Relation                             object\n",
      "Person_Nbrfamily_hist_list           float64\n",
      "Date_Createdfamily_hist_list         datetime64[ns]\n",
      "Codefamily_hist_list                 object\n",
      "Code_Systemfamily_hist_list          object\n",
      "Family_Historyfamily_hist_list       object\n",
      "Relationfamily_hist_list             object\n",
      "Person_Nbrdemographics               float64\n",
      "DOB                                  datetime64[ns]\n",
      "Gender                               object\n",
      "Race                                 object\n",
      "Ethnicity                            object\n",
      "Zip                                  object\n",
      "Age_Censored                         object\n",
      "Person_Nbrsystemic_disease_list      float64\n",
      "Date_Createdsystemic_disease_list    datetime64[ns]\n",
      "Snomed_Code                          object\n",
      "Systemic_Diseases                    object\n",
      "Person_NbrSNOMED_problem_list        float64\n",
      "Date_CreatedSNOMED_problem_list      datetime64[ns]\n",
      "Concept_ID                           float64\n",
      "Description                          object\n",
      "dtypes: datetime64[ns](5), float64(6), object(17)\n",
      "memory usage: -1650602528.0+ bytes\n"
     ]
    }
   ],
   "source": [
    "person_data_df.info()"
   ]
  },
  {
   "cell_type": "code",
   "execution_count": 17,
   "metadata": {
    "collapsed": false
   },
   "outputs": [
    {
     "data": {
      "text/plain": [
       "33662"
      ]
     },
     "execution_count": 17,
     "metadata": {},
     "output_type": "execute_result"
    }
   ],
   "source": [
    "len(person_data_df['Person_ID'].unique())"
   ]
  },
  {
   "cell_type": "code",
   "execution_count": 18,
   "metadata": {
    "collapsed": false,
    "scrolled": true
   },
   "outputs": [
    {
     "data": {
      "text/html": [
       "<div>\n",
       "<table border=\"1\" class=\"dataframe\">\n",
       "  <thead>\n",
       "    <tr style=\"text-align: right;\">\n",
       "      <th></th>\n",
       "      <th>Person_ID</th>\n",
       "      <th>Person_Nbr</th>\n",
       "      <th>Date_Created</th>\n",
       "      <th>Code</th>\n",
       "      <th>Code_System</th>\n",
       "      <th>Family_History</th>\n",
       "      <th>Relation</th>\n",
       "      <th>Person_Nbrfamily_hist_list</th>\n",
       "      <th>Date_Createdfamily_hist_list</th>\n",
       "      <th>Codefamily_hist_list</th>\n",
       "      <th>...</th>\n",
       "      <th>Zip</th>\n",
       "      <th>Age_Censored</th>\n",
       "      <th>Person_Nbrsystemic_disease_list</th>\n",
       "      <th>Date_Createdsystemic_disease_list</th>\n",
       "      <th>Snomed_Code</th>\n",
       "      <th>Systemic_Diseases</th>\n",
       "      <th>Person_NbrSNOMED_problem_list</th>\n",
       "      <th>Date_CreatedSNOMED_problem_list</th>\n",
       "      <th>Concept_ID</th>\n",
       "      <th>Description</th>\n",
       "    </tr>\n",
       "  </thead>\n",
       "  <tbody>\n",
       "    <tr>\n",
       "      <th>0</th>\n",
       "      <td>80d3df88-dddf-5ad3-7cc1-b7b1ac6151fa</td>\n",
       "      <td>33.0</td>\n",
       "      <td>2014-12-18 14:47:15.980</td>\n",
       "      <td>160347007</td>\n",
       "      <td>SNOMED</td>\n",
       "      <td>Glaucoma</td>\n",
       "      <td>Father</td>\n",
       "      <td>33.0</td>\n",
       "      <td>2014-12-18 14:47:15.980</td>\n",
       "      <td>160347007</td>\n",
       "      <td>...</td>\n",
       "      <td>NaN</td>\n",
       "      <td>NaN</td>\n",
       "      <td>33.0</td>\n",
       "      <td>2014-12-18 14:34:34.807</td>\n",
       "      <td>44054006</td>\n",
       "      <td>Diabetes type 2</td>\n",
       "      <td>33.0</td>\n",
       "      <td>2014-12-18 15:51:19.607</td>\n",
       "      <td>41256004.0</td>\n",
       "      <td>Presbyopia</td>\n",
       "    </tr>\n",
       "    <tr>\n",
       "      <th>1</th>\n",
       "      <td>80d3df88-dddf-5ad3-7cc1-b7b1ac6151fa</td>\n",
       "      <td>33.0</td>\n",
       "      <td>2014-12-18 14:47:15.980</td>\n",
       "      <td>160347007</td>\n",
       "      <td>SNOMED</td>\n",
       "      <td>Glaucoma</td>\n",
       "      <td>Father</td>\n",
       "      <td>33.0</td>\n",
       "      <td>2014-12-18 14:47:15.980</td>\n",
       "      <td>160347007</td>\n",
       "      <td>...</td>\n",
       "      <td>NaN</td>\n",
       "      <td>NaN</td>\n",
       "      <td>33.0</td>\n",
       "      <td>2014-12-18 14:34:34.807</td>\n",
       "      <td>44054006</td>\n",
       "      <td>Diabetes type 2</td>\n",
       "      <td>33.0</td>\n",
       "      <td>2014-12-18 15:51:28.043</td>\n",
       "      <td>41446000.0</td>\n",
       "      <td>Blepharitis</td>\n",
       "    </tr>\n",
       "    <tr>\n",
       "      <th>2</th>\n",
       "      <td>80d3df88-dddf-5ad3-7cc1-b7b1ac6151fa</td>\n",
       "      <td>33.0</td>\n",
       "      <td>2014-12-18 14:47:15.980</td>\n",
       "      <td>160347007</td>\n",
       "      <td>SNOMED</td>\n",
       "      <td>Glaucoma</td>\n",
       "      <td>Father</td>\n",
       "      <td>33.0</td>\n",
       "      <td>2014-12-18 14:47:15.980</td>\n",
       "      <td>160347007</td>\n",
       "      <td>...</td>\n",
       "      <td>NaN</td>\n",
       "      <td>NaN</td>\n",
       "      <td>33.0</td>\n",
       "      <td>2014-12-18 14:34:34.807</td>\n",
       "      <td>44054006</td>\n",
       "      <td>Diabetes type 2</td>\n",
       "      <td>33.0</td>\n",
       "      <td>2014-12-18 16:36:28.083</td>\n",
       "      <td>313436004.0</td>\n",
       "      <td>Type 2 diabetes mellitus without complication</td>\n",
       "    </tr>\n",
       "    <tr>\n",
       "      <th>3</th>\n",
       "      <td>80d3df88-dddf-5ad3-7cc1-b7b1ac6151fa</td>\n",
       "      <td>33.0</td>\n",
       "      <td>2014-12-18 14:47:15.980</td>\n",
       "      <td>160347007</td>\n",
       "      <td>SNOMED</td>\n",
       "      <td>Glaucoma</td>\n",
       "      <td>Father</td>\n",
       "      <td>33.0</td>\n",
       "      <td>2014-12-18 14:47:15.980</td>\n",
       "      <td>160347007</td>\n",
       "      <td>...</td>\n",
       "      <td>NaN</td>\n",
       "      <td>NaN</td>\n",
       "      <td>33.0</td>\n",
       "      <td>2014-12-18 14:34:39.193</td>\n",
       "      <td>38341003</td>\n",
       "      <td>Hypertension</td>\n",
       "      <td>33.0</td>\n",
       "      <td>2014-12-18 15:51:19.607</td>\n",
       "      <td>41256004.0</td>\n",
       "      <td>Presbyopia</td>\n",
       "    </tr>\n",
       "    <tr>\n",
       "      <th>4</th>\n",
       "      <td>80d3df88-dddf-5ad3-7cc1-b7b1ac6151fa</td>\n",
       "      <td>33.0</td>\n",
       "      <td>2014-12-18 14:47:15.980</td>\n",
       "      <td>160347007</td>\n",
       "      <td>SNOMED</td>\n",
       "      <td>Glaucoma</td>\n",
       "      <td>Father</td>\n",
       "      <td>33.0</td>\n",
       "      <td>2014-12-18 14:47:15.980</td>\n",
       "      <td>160347007</td>\n",
       "      <td>...</td>\n",
       "      <td>NaN</td>\n",
       "      <td>NaN</td>\n",
       "      <td>33.0</td>\n",
       "      <td>2014-12-18 14:34:39.193</td>\n",
       "      <td>38341003</td>\n",
       "      <td>Hypertension</td>\n",
       "      <td>33.0</td>\n",
       "      <td>2014-12-18 15:51:28.043</td>\n",
       "      <td>41446000.0</td>\n",
       "      <td>Blepharitis</td>\n",
       "    </tr>\n",
       "  </tbody>\n",
       "</table>\n",
       "<p>5 rows × 28 columns</p>\n",
       "</div>"
      ],
      "text/plain": [
       "                              Person_ID  Person_Nbr            Date_Created  \\\n",
       "0  80d3df88-dddf-5ad3-7cc1-b7b1ac6151fa        33.0 2014-12-18 14:47:15.980   \n",
       "1  80d3df88-dddf-5ad3-7cc1-b7b1ac6151fa        33.0 2014-12-18 14:47:15.980   \n",
       "2  80d3df88-dddf-5ad3-7cc1-b7b1ac6151fa        33.0 2014-12-18 14:47:15.980   \n",
       "3  80d3df88-dddf-5ad3-7cc1-b7b1ac6151fa        33.0 2014-12-18 14:47:15.980   \n",
       "4  80d3df88-dddf-5ad3-7cc1-b7b1ac6151fa        33.0 2014-12-18 14:47:15.980   \n",
       "\n",
       "        Code Code_System Family_History Relation  Person_Nbrfamily_hist_list  \\\n",
       "0  160347007      SNOMED       Glaucoma   Father                        33.0   \n",
       "1  160347007      SNOMED       Glaucoma   Father                        33.0   \n",
       "2  160347007      SNOMED       Glaucoma   Father                        33.0   \n",
       "3  160347007      SNOMED       Glaucoma   Father                        33.0   \n",
       "4  160347007      SNOMED       Glaucoma   Father                        33.0   \n",
       "\n",
       "  Date_Createdfamily_hist_list Codefamily_hist_list  \\\n",
       "0      2014-12-18 14:47:15.980            160347007   \n",
       "1      2014-12-18 14:47:15.980            160347007   \n",
       "2      2014-12-18 14:47:15.980            160347007   \n",
       "3      2014-12-18 14:47:15.980            160347007   \n",
       "4      2014-12-18 14:47:15.980            160347007   \n",
       "\n",
       "                       ...                        Zip Age_Censored  \\\n",
       "0                      ...                        NaN          NaN   \n",
       "1                      ...                        NaN          NaN   \n",
       "2                      ...                        NaN          NaN   \n",
       "3                      ...                        NaN          NaN   \n",
       "4                      ...                        NaN          NaN   \n",
       "\n",
       "  Person_Nbrsystemic_disease_list  Date_Createdsystemic_disease_list  \\\n",
       "0                            33.0            2014-12-18 14:34:34.807   \n",
       "1                            33.0            2014-12-18 14:34:34.807   \n",
       "2                            33.0            2014-12-18 14:34:34.807   \n",
       "3                            33.0            2014-12-18 14:34:39.193   \n",
       "4                            33.0            2014-12-18 14:34:39.193   \n",
       "\n",
       "  Snomed_Code Systemic_Diseases Person_NbrSNOMED_problem_list  \\\n",
       "0    44054006   Diabetes type 2                          33.0   \n",
       "1    44054006   Diabetes type 2                          33.0   \n",
       "2    44054006   Diabetes type 2                          33.0   \n",
       "3    38341003      Hypertension                          33.0   \n",
       "4    38341003      Hypertension                          33.0   \n",
       "\n",
       "  Date_CreatedSNOMED_problem_list   Concept_ID  \\\n",
       "0         2014-12-18 15:51:19.607   41256004.0   \n",
       "1         2014-12-18 15:51:28.043   41446000.0   \n",
       "2         2014-12-18 16:36:28.083  313436004.0   \n",
       "3         2014-12-18 15:51:19.607   41256004.0   \n",
       "4         2014-12-18 15:51:28.043   41446000.0   \n",
       "\n",
       "                                     Description  \n",
       "0                                     Presbyopia  \n",
       "1                                    Blepharitis  \n",
       "2  Type 2 diabetes mellitus without complication  \n",
       "3                                     Presbyopia  \n",
       "4                                    Blepharitis  \n",
       "\n",
       "[5 rows x 28 columns]"
      ]
     },
     "execution_count": 18,
     "metadata": {},
     "output_type": "execute_result"
    }
   ],
   "source": [
    "person_data_df.head()"
   ]
  },
  {
   "cell_type": "code",
   "execution_count": 28,
   "metadata": {
    "collapsed": false
   },
   "outputs": [
    {
     "name": "stdout",
     "output_type": "stream",
     "text": [
      "family_hist_list 59203\n",
      "row 40000\n",
      "row 0\n",
      "row 10000\n",
      "row 20000\n",
      "row 50000\n",
      "row 60000\n",
      "row 30000\n",
      "demographics 17019\n",
      "row 0\n",
      "row 10000\n",
      "systemic_disease_list 60233\n",
      "row 0\n",
      "row 10000\n",
      "row 50000\n",
      "row 30000\n",
      "row 40000\n",
      "row 20000\n",
      "row 60000\n",
      "SNOMED_problem_list 78914\n",
      "row 0\n",
      "row 30000\n",
      "row 70000\n",
      "row 40000\n",
      "row 50000\n",
      "row 10000\n",
      "row 60000\n",
      "row 20000\n"
     ]
    }
   ],
   "source": [
    "persons = {} \n",
    "id_key ='Person_ID'\n",
    "for person_df_name in person_data:\n",
    "    print person_df_name,\n",
    "    df_index = table_names.index(person_df_name)\n",
    "    person_data_df = dfs[df_index]\n",
    "    if person_data_df is not None:\n",
    "        print len(person_data_df)\n",
    "        for i, dfrow in person_data_df.iterrows():\n",
    "            rowdict = dict(dfrow)\n",
    "            id_value = rowdict[id_key]\n",
    "            \n",
    "            for k, v in rowdict.iteritems():\n",
    "                if isinstance(v, pd.tslib.Timestamp):\n",
    "                    rowdict[k] = v.toordinal()\n",
    "            \n",
    "            if id_value not in persons:\n",
    "                persons[id_value] = {}\n",
    "                \n",
    "            \n",
    "            persons[id_value].setdefault(person_df_name, []).append(rowdict)\n",
    "            \n",
    "            if i%10000==0:\n",
    "                print \"row \"+ str(i)\n",
    "\n",
    "with open('allPersons.json', 'w') as fh:\n",
    "    json.dump(persons, fh)            \n",
    "            \n"
   ]
  },
  {
   "cell_type": "code",
   "execution_count": null,
   "metadata": {
    "collapsed": true
   },
   "outputs": [],
   "source": [
    ":"
   ]
  }
 ],
 "metadata": {
  "kernelspec": {
   "display_name": "Python [Root]",
   "language": "python",
   "name": "Python [Root]"
  },
  "language_info": {
   "codemirror_mode": {
    "name": "ipython",
    "version": 3
   },
   "file_extension": ".py",
   "mimetype": "text/x-python",
   "name": "python",
   "nbconvert_exporter": "python",
   "pygments_lexer": "ipython3",
   "version": "3.5.2"
  }
 },
 "nbformat": 4,
 "nbformat_minor": 0
}
