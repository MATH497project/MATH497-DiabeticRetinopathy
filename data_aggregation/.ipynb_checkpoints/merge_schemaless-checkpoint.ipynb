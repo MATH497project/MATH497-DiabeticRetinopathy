{
 "cells": [
  {
   "cell_type": "code",
   "execution_count": 1,
   "metadata": {
    "collapsed": true
   },
   "outputs": [],
   "source": [
    "import pandas as pd\n",
    "from pprint import pprint\n",
    "import json"
   ]
  },
  {
   "cell_type": "code",
   "execution_count": 2,
   "metadata": {
    "collapsed": true
   },
   "outputs": [],
   "source": [
    "# ICD_list table must be re-built from, presumably, ICD_for_Enc due to some entries being\n",
    "# pre-18th birthday.  ICD_list entries are not timestamped!\n",
    "table_names = ['all_encounter_data', 'demographics', 'encounters', 'family_hist_for_Enc',\n",
    "               'family_hist_list', 'ICD_for_Enc', 'ICD_list', 'macula_findings_for_Enc',\n",
    "               'SL_Lens_for_Enc', 'SNOMED_problem_list', 'systemic_disease_for_Enc', 'systemic_disease_list']\n",
    "\n",
    "person_data = ['demographics','family_hist_list', 'systemic_disease_list', 'SNOMED_problem_list']\n",
    "\n",
    "encounter_data = ['all_encounter_data', 'encounters', 'family_hist_for_Enc', 'ICD_for_Enc', 'macula_findings_for_Enc',\n",
    "                   'SL_Lens_for_Enc', 'systemic_disease_for_Enc']\n"
   ]
  },
  {
   "cell_type": "code",
   "execution_count": 5,
   "metadata": {
    "collapsed": true
   },
   "outputs": [],
   "source": [
    "path = 'C:\\\\Users\\\\asimon6\\\\Downloads\\\\ICO_data\\\\'"
   ]
  },
  {
   "cell_type": "code",
   "execution_count": 6,
   "metadata": {
    "collapsed": false
   },
   "outputs": [],
   "source": [
    "# read tables into dataframes\n",
    "dfs = [pd.read_pickle(path + name + '.pickle') if name != 'ICD_list' else None\n",
    "        for name in table_names ]"
   ]
  },
  {
   "cell_type": "code",
   "execution_count": 7,
   "metadata": {
    "collapsed": true
   },
   "outputs": [],
   "source": [
    "# rename columns in all dataframes to avoid unicode decode error\n",
    "for df in dfs:\n",
    "    if df is not None:\n",
    "        df.columns = [col.decode(\"utf-8-sig\") for col in df.columns]"
   ]
  },
  {
   "cell_type": "code",
   "execution_count": 8,
   "metadata": {
    "collapsed": false
   },
   "outputs": [
    {
     "name": "stdout",
     "output_type": "stream",
     "text": [
      "[u'Enc_ID' u'Enc_Nbr' u'Enc_Date' u'Person_ID' u'Person_Nbr'\n",
      " u'Primary_Payer' u'Smoking_Status' u'BMI' u'BP' u'Glucose' u'A1C'\n",
      " u'MR_OD_SPH' u'MR_OD_CYL' u'MR_OD_AXIS' u'MR_OD_DVA' u'MR_OD_NVA'\n",
      " u'MR_OS_SPH' u'MR_OS_CYL' u'MR_OS_AXIS' u'MR_OS_DVA' u'MR_OS_NVA'\n",
      " u'BB_OD_SPH' u'BB_OD_CYL' u'BB_OD_AXIS' u'BB_OD_DVA' u'BB_OD_NVA'\n",
      " u'BB_OS_SPH' u'BB_OS_CYL' u'BB_OS_AXIS' u'BB_OS_DVA' u'BB_OS_NVA'\n",
      " u'CYCLO_OD_SPH' u'CYCLO_OD_CYL' u'CYCLO_OD_AXIS' u'CYCLO_OD_DVA'\n",
      " u'CYCLO_OD_NVA' u'CYCLO_OS_SPH' u'CYCLO_OS_CYL' u'CYCLO_OS_AXIS'\n",
      " u'CYCLO_OS_DVA' u'CYCLO_OS_NVA']\n",
      "[u'Person_ID' u'Person_Nbr' u'DOB' u'Gender' u'Race' u'Ethnicity' u'Zip'\n",
      " u'Age_Censored']\n",
      "[u'Person_ID' u'Person_Nbr' u'Enc_ID' u'Enc_Nbr' u'Enc_Timestamp']\n",
      "[u'Person_ID' u'Person_Nbr' u'Enc_ID' u'Enc_Nbr' u'Enc_Date' u'Code'\n",
      " u'Code_System' u'Family_History' u'Relation']\n",
      "[u'Person_ID' u'Person_Nbr' u'Date_Created' u'Code' u'Code_System'\n",
      " u'Family_History' u'Relation']\n",
      "[u'Person_ID' u'Person_Nbr' u'Enc_ID' u'Enc_Nbr' u'Enc_Timestamp'\n",
      " u'Diagnosis_Code_ID' u'Description']\n",
      "[u'Enc_ID' u'Enc_Nbr' u'Enc_Date' u'Person_ID' u'Person_Nbr'\n",
      " u'OD_Macula1_Finding' u'OD_Macula1_Modifer' u'OD_Macula1_Location'\n",
      " u'OD_Macula2_Finding' u'OD_Macula2_Modifer' u'OD_Macula2_Location'\n",
      " u'OD_Macula3_Finding' u'OD_Macula3_Modifer' u'OD_Macula3_Location'\n",
      " u'OD_Macula4_Finding' u'OD_Macula4_Modifer' u'OD_Macula4_Location'\n",
      " u'OS_Macula1_Finding' u'OS_Macula1_Modifer' u'OS_Macula1_Location'\n",
      " u'OS_Macula2_Finding' u'OS_Macula2_Modifer' u'OS_Macula2_Location'\n",
      " u'OS_Macula3_Finding' u'OS_Macula3_Modifer' u'OS_Macula3_Location'\n",
      " u'OS_Macula4_Finding' u'OS_Macula4_Modifer' u'OS_Macula4_Location']\n",
      "[u'Enc_ID' u'Enc_Nbr' u'Enc_Date' u'Person_ID' u'Person_Nbr' u'OD_SL_LENS'\n",
      " u'OS_SL_LENS']\n",
      "[u'Person_ID' u'Person_Nbr' u'Date_Created' u'Concept_ID' u'Description']\n",
      "[u'Person_ID' u'Person_Nbr' u'Enc_ID' u'Enc_Nbr' u'Enc_Date' u'Snomed_Code'\n",
      " u'Systemic_Diseases']\n",
      "[u'Person_ID' u'Person_Nbr' u'Date_Created' u'Snomed_Code'\n",
      " u'Systemic_Diseases']\n"
     ]
    }
   ],
   "source": [
    "for df in dfs:\n",
    "    if df is not None:\n",
    "        print df.columns.values"
   ]
  },
  {
   "cell_type": "code",
   "execution_count": 20,
   "metadata": {
    "collapsed": false,
    "scrolled": true
   },
   "outputs": [],
   "source": [
    "# aggregate all person data by Person_ID\n",
    "persons = {} \n",
    "id_key ='Person_Nbr'\n",
    "for person_df_name in person_data:\n",
    "#     print person_df_name,\n",
    "    df_index = table_names.index(person_df_name)\n",
    "    person_data_df = dfs[df_index]\n",
    "\n",
    "    if person_data_df is not None:\n",
    "#         print len(person_data_df)\n",
    "        for i, dfrow in person_data_df.iterrows():\n",
    "            rowdict = dict(dfrow)\n",
    "            id_value = rowdict[id_key]\n",
    "            \n",
    "            for k, v in rowdict.iteritems():\n",
    "                if isinstance(v, pd.tslib.Timestamp):\n",
    "                    rowdict[k] = v.toordinal()\n",
    "            \n",
    "            if id_value not in persons:\n",
    "                persons[id_value] = {}\n",
    "            \n",
    "            persons[id_value].setdefault(person_df_name, []).append(rowdict)\n",
    "\n",
    "\n",
    "with open('allPersons.json', 'w') as fh:\n",
    "    json.dump(persons, fh)            \n",
    "            \n"
   ]
  },
  {
   "cell_type": "code",
   "execution_count": 25,
   "metadata": {
    "collapsed": false
   },
   "outputs": [
    {
     "name": "stdout",
     "output_type": "stream",
     "text": [
      "{'SNOMED_problem_list': [{u'Concept_ID': 38101003L,\n",
      "                          u'Date_Created': 736174,\n",
      "                          u'Description': 'Hypermetropia',\n",
      "                          u'Person_ID': '1736529d-ece1-bbd8-0a84-203e53f8f162',\n",
      "                          u'Person_Nbr': 109227L},\n",
      "                         {u'Concept_ID': 111552007L,\n",
      "                          u'Date_Created': 736174,\n",
      "                          u'Description': 'Diabetes mellitus without complication',\n",
      "                          u'Person_ID': '1736529d-ece1-bbd8-0a84-203e53f8f162',\n",
      "                          u'Person_Nbr': 109227L},\n",
      "                         {u'Concept_ID': 41446000L,\n",
      "                          u'Date_Created': 736174,\n",
      "                          u'Description': 'Blepharitis',\n",
      "                          u'Person_ID': '1736529d-ece1-bbd8-0a84-203e53f8f162',\n",
      "                          u'Person_Nbr': 109227L}],\n",
      " 'demographics': [{u'Age_Censored': 'None',\n",
      "                   u'DOB': 714287,\n",
      "                   u'Ethnicity': 'Not Hispanic or Latino',\n",
      "                   u'Gender': 'F',\n",
      "                   u'Person_ID': 'E6121EF6-660A-4A34-B4B4-ECB513E3C916',\n",
      "                   u'Person_Nbr': 109227L,\n",
      "                   u'Race': 'Black/African American (Not Hispanic)',\n",
      "                   u'Zip': '60419'}],\n",
      " 'family_hist_list': [{u'Code': '416855002',\n",
      "                       u'Code_System': 'SNOMED',\n",
      "                       u'Date_Created': 736174,\n",
      "                       u'Family_History': 'Diabetes mellitus',\n",
      "                       u'Person_ID': '1736529d-ece1-bbd8-0a84-203e53f8f162',\n",
      "                       u'Person_Nbr': 109227L,\n",
      "                       u'Relation': 'Mother'},\n",
      "                      {u'Code': '160274005',\n",
      "                       u'Code_System': 'SNOMED',\n",
      "                       u'Date_Created': 736174,\n",
      "                       u'Family_History': 'No history of Diabetes mellitus',\n",
      "                       u'Person_ID': '1736529d-ece1-bbd8-0a84-203e53f8f162',\n",
      "                       u'Person_Nbr': 109227L,\n",
      "                       u'Relation': 'Father'},\n",
      "                      {u'Code': '160267000',\n",
      "                       u'Code_System': 'SNOMED',\n",
      "                       u'Date_Created': 736174,\n",
      "                       u'Family_History': 'No history of Glaucoma',\n",
      "                       u'Person_ID': '1736529d-ece1-bbd8-0a84-203e53f8f162',\n",
      "                       u'Person_Nbr': 109227L,\n",
      "                       u'Relation': 'Father'},\n",
      "                      {u'Code': '160267000',\n",
      "                       u'Code_System': 'SNOMED',\n",
      "                       u'Date_Created': 736174,\n",
      "                       u'Family_History': 'No history of Glaucoma',\n",
      "                       u'Person_ID': '1736529d-ece1-bbd8-0a84-203e53f8f162',\n",
      "                       u'Person_Nbr': 109227L,\n",
      "                       u'Relation': 'Mother'},\n",
      "                      {u'Code': '160357008',\n",
      "                       u'Code_System': 'SNOMED',\n",
      "                       u'Date_Created': 736174,\n",
      "                       u'Family_History': 'Hypertension',\n",
      "                       u'Person_ID': '1736529d-ece1-bbd8-0a84-203e53f8f162',\n",
      "                       u'Person_Nbr': 109227L,\n",
      "                       u'Relation': 'Mother'},\n",
      "                      {u'Code': '430679000',\n",
      "                       u'Code_System': 'SNOMED',\n",
      "                       u'Date_Created': 736174,\n",
      "                       u'Family_History': 'Diabetes mellitus type 2',\n",
      "                       u'Person_ID': '1736529d-ece1-bbd8-0a84-203e53f8f162',\n",
      "                       u'Person_Nbr': 109227L,\n",
      "                       u'Relation': 'Brother'}],\n",
      " 'systemic_disease_list': [{u'Date_Created': 736174,\n",
      "                            u'Person_ID': '1736529d-ece1-bbd8-0a84-203e53f8f162',\n",
      "                            u'Person_Nbr': 109227L,\n",
      "                            u'Snomed_Code': '44054006',\n",
      "                            u'Systemic_Diseases': 'Diabetes type 2'},\n",
      "                           {u'Date_Created': 736174,\n",
      "                            u'Person_ID': '1736529d-ece1-bbd8-0a84-203e53f8f162',\n",
      "                            u'Person_Nbr': 109227L,\n",
      "                            u'Snomed_Code': '56265001',\n",
      "                            u'Systemic_Diseases': 'Heart disease'},\n",
      "                           {u'Date_Created': 736174,\n",
      "                            u'Person_ID': '1736529d-ece1-bbd8-0a84-203e53f8f162',\n",
      "                            u'Person_Nbr': 109227L,\n",
      "                            u'Snomed_Code': '38341003',\n",
      "                            u'Systemic_Diseases': 'Hypertension'},\n",
      "                           {u'Date_Created': 736174,\n",
      "                            u'Person_ID': '1736529d-ece1-bbd8-0a84-203e53f8f162',\n",
      "                            u'Person_Nbr': 109227L,\n",
      "                            u'Snomed_Code': '230690007',\n",
      "                            u'Systemic_Diseases': 'Stroke'},\n",
      "                           {u'Date_Created': 736174,\n",
      "                            u'Person_ID': '1736529d-ece1-bbd8-0a84-203e53f8f162',\n",
      "                            u'Person_Nbr': 109227L,\n",
      "                            u'Snomed_Code': '13644009',\n",
      "                            u'Systemic_Diseases': 'Hypercholesterolaemia'}]}\n"
     ]
    }
   ],
   "source": [
    "for person_id in persons:\n",
    "    pprint(persons[person_id])\n",
    "    break"
   ]
  },
  {
   "cell_type": "code",
   "execution_count": 29,
   "metadata": {
    "collapsed": false
   },
   "outputs": [
    {
     "name": "stdout",
     "output_type": "stream",
     "text": [
      "{'SNOMED_problem_list': {'maximum': 31, 'minimum': 1},\n",
      " 'demographics': {'maximum': 1, 'minimum': 1},\n",
      " 'family_hist_list': {'maximum': 38, 'minimum': 1},\n",
      " 'systemic_disease_list': {'maximum': 42, 'minimum': 1}}\n"
     ]
    }
   ],
   "source": [
    "# find the range of count of rows nested under person id for all keys(table names)\n",
    "all_count_by_table_name_person = {}\n",
    "for person_id in persons:\n",
    "    person = persons[person_id]\n",
    "    for table_name in person:\n",
    "        all_count_by_table_name_person.setdefault(table_name, set()).add(len(person[table_name]))\n",
    "\n",
    "min_max_count_by_table_name_person = {}\n",
    "for table_name in all_count_by_table_name_person:\n",
    "    min_max_count_by_table_name_person[table_name] = {}\n",
    "    min_max_count_by_table_name_person[table_name]['minimum'] = min(all_count_by_table_name_person[table_name])\n",
    "    min_max_count_by_table_name_person[table_name]['maximum'] = max(all_count_by_table_name_person[table_name])\n",
    "\n",
    "pprint(min_max_count_by_table_name_person)"
   ]
  },
  {
   "cell_type": "code",
   "execution_count": 18,
   "metadata": {
    "collapsed": false,
    "scrolled": false
   },
   "outputs": [],
   "source": [
    "# aggregate all encounter data by Enc_ID\n",
    "encounters = {} \n",
    "id_key = 'Enc_Nbr'\n",
    "for encounter_df_name in encounter_data:\n",
    "#     print encounter_df_name,\n",
    "    df_index = table_names.index(encounter_df_name)\n",
    "    encounter_df = dfs[df_index]\n",
    "\n",
    "    if encounter_df is not None:\n",
    "#         print len(encounter_df)\n",
    "#         print encounter_df.columns.values\n",
    "        for i, dfrow in encounter_df.iterrows():\n",
    "            rowdict = dict(dfrow)\n",
    "            id_value = rowdict[id_key]\n",
    "            \n",
    "            for k, v in rowdict.iteritems():\n",
    "                if isinstance(v, pd.tslib.Timestamp):\n",
    "                    rowdict[k] = v.toordinal()\n",
    "            \n",
    "            if id_value not in encounters:\n",
    "                encounters[id_value] = {}\n",
    "            \n",
    "            encounters[id_value].setdefault(encounter_df_name, []).append(rowdict)\n",
    "\n",
    "with open('allEncounters.json', 'w') as fh:\n",
    "    json.dump(encounters, fh)            "
   ]
  },
  {
   "cell_type": "code",
   "execution_count": 19,
   "metadata": {
    "collapsed": false,
    "scrolled": true
   },
   "outputs": [
    {
     "name": "stdout",
     "output_type": "stream",
     "text": [
      "{'ICD_for_Enc': [{u'Description': 'Diabetes Mellitus Type 2 Uncomplicated',\n",
      "                  u'Diagnosis_Code_ID': '250.00',\n",
      "                  u'Enc_ID': '62655f1c-00b1-7ed5-20f6-286326ca69de',\n",
      "                  u'Enc_Nbr': 16187393L,\n",
      "                  u'Enc_Timestamp': 735403,\n",
      "                  u'Person_ID': '0b012af0-c12f-63a6-b24a-d180a8366bb4',\n",
      "                  u'Person_Nbr': 590433L},\n",
      "                 {u'Description': 'Benign neoplasm of pituitary gland and craniopharyngeal duct',\n",
      "                  u'Diagnosis_Code_ID': '227.3',\n",
      "                  u'Enc_ID': '62655f1c-00b1-7ed5-20f6-286326ca69de',\n",
      "                  u'Enc_Nbr': 16187393L,\n",
      "                  u'Enc_Timestamp': 735403,\n",
      "                  u'Person_ID': '0b012af0-c12f-63a6-b24a-d180a8366bb4',\n",
      "                  u'Person_Nbr': 590433L}],\n",
      " 'SL_Lens_for_Enc': [{u'Enc_Date': 735403,\n",
      "                      u'Enc_ID': '62655f1c-00b1-7ed5-20f6-286326ca69de',\n",
      "                      u'Enc_Nbr': 16187393L,\n",
      "                      u'OD_SL_LENS': 'trace NS trace ACC spoking',\n",
      "                      u'OS_SL_LENS': 'trace NS trace ACC',\n",
      "                      u'Person_ID': '0b012af0-c12f-63a6-b24a-d180a8366bb4',\n",
      "                      u'Person_Nbr': 590433L}],\n",
      " 'all_encounter_data': [{u'A1C': 4.9,\n",
      "                         u'BB_OD_AXIS': nan,\n",
      "                         u'BB_OD_CYL': nan,\n",
      "                         u'BB_OD_DVA': nan,\n",
      "                         u'BB_OD_NVA': nan,\n",
      "                         u'BB_OD_SPH': nan,\n",
      "                         u'BB_OS_AXIS': nan,\n",
      "                         u'BB_OS_CYL': nan,\n",
      "                         u'BB_OS_DVA': nan,\n",
      "                         u'BB_OS_NVA': nan,\n",
      "                         u'BB_OS_SPH': nan,\n",
      "                         u'BMI': '29.63',\n",
      "                         u'BP': '118 / 58',\n",
      "                         u'CYCLO_OD_AXIS': nan,\n",
      "                         u'CYCLO_OD_CYL': nan,\n",
      "                         u'CYCLO_OD_DVA': nan,\n",
      "                         u'CYCLO_OD_NVA': nan,\n",
      "                         u'CYCLO_OD_SPH': nan,\n",
      "                         u'CYCLO_OS_AXIS': nan,\n",
      "                         u'CYCLO_OS_CYL': nan,\n",
      "                         u'CYCLO_OS_DVA': nan,\n",
      "                         u'CYCLO_OS_NVA': nan,\n",
      "                         u'CYCLO_OS_SPH': nan,\n",
      "                         u'Enc_Date': 735403,\n",
      "                         u'Enc_ID': '62655f1c-00b1-7ed5-20f6-286326ca69de',\n",
      "                         u'Enc_Nbr': 16187393L,\n",
      "                         u'Glucose': '146',\n",
      "                         u'MR_OD_AXIS': nan,\n",
      "                         u'MR_OD_CYL': nan,\n",
      "                         u'MR_OD_DVA': nan,\n",
      "                         u'MR_OD_NVA': nan,\n",
      "                         u'MR_OD_SPH': nan,\n",
      "                         u'MR_OS_AXIS': nan,\n",
      "                         u'MR_OS_CYL': nan,\n",
      "                         u'MR_OS_DVA': nan,\n",
      "                         u'MR_OS_NVA': nan,\n",
      "                         u'MR_OS_SPH': nan,\n",
      "                         u'Person_ID': '0b012af0-c12f-63a6-b24a-d180a8366bb4',\n",
      "                         u'Person_Nbr': 590433L,\n",
      "                         u'Primary_Payer': 'Adv Cigna Health Spring HMO',\n",
      "                         u'Smoking_Status': 'Never smoker'}],\n",
      " 'encounters': [{u'Enc_ID': '62655f1c-00b1-7ed5-20f6-286326ca69de',\n",
      "                 u'Enc_Nbr': 16187393L,\n",
      "                 u'Enc_Timestamp': 735403,\n",
      "                 u'Person_ID': '000A0509-AFAB-460B-979E-557B3259D26F',\n",
      "                 u'Person_Nbr': 590433L}],\n",
      " 'macula_findings_for_Enc': [{u'Enc_Date': 735403,\n",
      "                              u'Enc_ID': '62655f1c-00b1-7ed5-20f6-286326ca69de',\n",
      "                              u'Enc_Nbr': 16187393L,\n",
      "                              u'OD_Macula1_Finding': 'flat no hemorrhages exudates or pigmentary changes',\n",
      "                              u'OD_Macula1_Location': nan,\n",
      "                              u'OD_Macula1_Modifer': nan,\n",
      "                              u'OD_Macula2_Finding': nan,\n",
      "                              u'OD_Macula2_Location': nan,\n",
      "                              u'OD_Macula2_Modifer': nan,\n",
      "                              u'OD_Macula3_Finding': nan,\n",
      "                              u'OD_Macula3_Location': nan,\n",
      "                              u'OD_Macula3_Modifer': nan,\n",
      "                              u'OD_Macula4_Finding': nan,\n",
      "                              u'OD_Macula4_Location': nan,\n",
      "                              u'OD_Macula4_Modifer': nan,\n",
      "                              u'OS_Macula1_Finding': 'flat no hemorrhages exudates or pigmentary changes',\n",
      "                              u'OS_Macula1_Location': nan,\n",
      "                              u'OS_Macula1_Modifer': nan,\n",
      "                              u'OS_Macula2_Finding': nan,\n",
      "                              u'OS_Macula2_Location': nan,\n",
      "                              u'OS_Macula2_Modifer': nan,\n",
      "                              u'OS_Macula3_Finding': nan,\n",
      "                              u'OS_Macula3_Location': nan,\n",
      "                              u'OS_Macula3_Modifer': nan,\n",
      "                              u'OS_Macula4_Finding': nan,\n",
      "                              u'OS_Macula4_Location': nan,\n",
      "                              u'OS_Macula4_Modifer': nan,\n",
      "                              u'Person_ID': '0b012af0-c12f-63a6-b24a-d180a8366bb4',\n",
      "                              u'Person_Nbr': 590433L}]}\n"
     ]
    }
   ],
   "source": [
    "for encounter_id in encounters:\n",
    "    if 'ICD_for_Enc' in encounters[encounter_id]:\n",
    "        if len(encounters[encounter_id]['ICD_for_Enc']) >1:\n",
    "            pprint(encounters[encounter_id])\n",
    "            break"
   ]
  },
  {
   "cell_type": "code",
   "execution_count": 30,
   "metadata": {
    "collapsed": false
   },
   "outputs": [
    {
     "name": "stdout",
     "output_type": "stream",
     "text": [
      "{'ICD_for_Enc': {'maximum': 21, 'minimum': 1},\n",
      " 'SL_Lens_for_Enc': {'maximum': 1, 'minimum': 1},\n",
      " 'all_encounter_data': {'maximum': 6, 'minimum': 1},\n",
      " 'encounters': {'maximum': 1, 'minimum': 1},\n",
      " 'family_hist_for_Enc': {'maximum': 14, 'minimum': 1},\n",
      " 'macula_findings_for_Enc': {'maximum': 1, 'minimum': 1},\n",
      " 'systemic_disease_for_Enc': {'maximum': 30, 'minimum': 1}}\n"
     ]
    }
   ],
   "source": [
    "# find the range of count of rows nested under encounter id for all keys(table names)\n",
    "all_count_by_table_name_encounter = {}\n",
    "for encounter_id in encounters:\n",
    "    encounter = encounters[encounter_id]\n",
    "    for table_name in encounter:\n",
    "        all_count_by_table_name_encounter.setdefault(table_name, set()).add(len(encounter[table_name]))\n",
    "\n",
    "min_max_count_by_table_name_encounter = {}\n",
    "for table_name in all_count_by_table_name_encounter:\n",
    "    min_max_count_by_table_name_encounter[table_name] = {}\n",
    "    min_max_count_by_table_name_encounter[table_name]['minimum'] = min(all_count_by_table_name_encounter[table_name])\n",
    "    min_max_count_by_table_name_encounter[table_name]['maximum'] = max(all_count_by_table_name_encounter[table_name])\n",
    "\n",
    "pprint(min_max_count_by_table_name_encounter)"
   ]
  }
 ],
 "metadata": {
  "kernelspec": {
   "display_name": "Python [Root]",
   "language": "python",
   "name": "Python [Root]"
  },
  "language_info": {
   "codemirror_mode": {
    "name": "ipython",
    "version": 3
   },
   "file_extension": ".py",
   "mimetype": "text/x-python",
   "name": "python",
   "nbconvert_exporter": "python",
   "pygments_lexer": "ipython3",
   "version": "3.5.2"
  }
 },
 "nbformat": 4,
 "nbformat_minor": 0
}
