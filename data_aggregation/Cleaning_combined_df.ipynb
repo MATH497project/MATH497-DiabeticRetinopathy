{
 "cells": [
  {
   "cell_type": "code",
   "execution_count": 1,
   "metadata": {
    "collapsed": false
   },
   "outputs": [
    {
     "data": {
      "text/html": [
       "<style>.container { width:100% !important; }</style>"
      ],
      "text/plain": [
       "<IPython.core.display.HTML object>"
      ]
     },
     "metadata": {},
     "output_type": "display_data"
    }
   ],
   "source": [
    "%matplotlib inline \n",
    "import pandas as pd\n",
    "from pprint import pprint\n",
    "import json\n",
    "import numpy as np\n",
    "import matplotlib\n",
    "import matplotlib.pyplot as plt\n",
    "import seaborn as sns\n",
    "from datetime import datetime\n",
    "sns.set(color_codes=True)\n",
    "\n",
    "from IPython.core.display import display, HTML\n",
    "display(HTML(\"<style>.container { width:100% !important; }</style>\"))\n",
    "pd.set_option('display.width', 1000)"
   ]
  },
  {
   "cell_type": "code",
   "execution_count": 2,
   "metadata": {
    "collapsed": true
   },
   "outputs": [],
   "source": [
    "path_to_combined_pickle = 'E:\\\\anil\\\\IIT Sop\\\\Term02\\\\MATH497\\\\ICO_data\\\\original_pickle\\\\20170226_ICO_Data_combined.pickle'"
   ]
  },
  {
   "cell_type": "code",
   "execution_count": 3,
   "metadata": {
    "collapsed": false
   },
   "outputs": [],
   "source": [
    "combined_data_df = pd.read_pickle(path_to_combined_pickle)"
   ]
  },
  {
   "cell_type": "code",
   "execution_count": 4,
   "metadata": {
    "collapsed": true
   },
   "outputs": [],
   "source": [
    "# add count of encounters\n",
    "combined_data_df['encounters_count'] = combined_data_df['encounters'].apply(len)"
   ]
  },
  {
   "cell_type": "code",
   "execution_count": 5,
   "metadata": {
    "collapsed": true
   },
   "outputs": [],
   "source": [
    "# add age calculated from DOB\n",
    "def calculate_age(DOB_ordinal):\n",
    "    DOB = pd.tslib.Timestamp.fromordinal(DOB_ordinal)\n",
    "    return datetime.now().year - int(datetime.strftime(DOB, '%Y')) \n",
    "\n",
    "combined_data_df['Age'] = combined_data_df['DOB'].apply(calculate_age)"
   ]
  },
  {
   "cell_type": "code",
   "execution_count": 6,
   "metadata": {
    "collapsed": true
   },
   "outputs": [],
   "source": [
    "# normalize 'Zip' to 5 digit zip code\n",
    "def normalize_zip(non_std_zip):\n",
    "    if non_std_zip == 'NULL' or pd.isnull(non_std_zip):\n",
    "        return float('nan')\n",
    "    std_zip = non_std_zip[:5]\n",
    "    return std_zip\n",
    "\n",
    "combined_data_df['zip_code'] = combined_data_df['Zip'].apply(normalize_zip)"
   ]
  },
  {
   "cell_type": "code",
   "execution_count": 7,
   "metadata": {
    "collapsed": true
   },
   "outputs": [],
   "source": [
    "combined_data_df.to_pickle(path_to_combined_pickle)"
   ]
  },
  {
   "cell_type": "code",
   "execution_count": 8,
   "metadata": {
    "collapsed": false
   },
   "outputs": [
    {
     "data": {
      "text/html": [
       "<div>\n",
       "<table border=\"1\" class=\"dataframe\">\n",
       "  <thead>\n",
       "    <tr style=\"text-align: right;\">\n",
       "      <th></th>\n",
       "      <th>Age_Censored</th>\n",
       "      <th>DOB</th>\n",
       "      <th>Ethnicity</th>\n",
       "      <th>Gender</th>\n",
       "      <th>Person_ID</th>\n",
       "      <th>Race</th>\n",
       "      <th>SNOMED_problem_list</th>\n",
       "      <th>SNOMED_problem_list_count</th>\n",
       "      <th>Zip</th>\n",
       "      <th>encounters</th>\n",
       "      <th>family_hist_list</th>\n",
       "      <th>family_hist_list_count</th>\n",
       "      <th>systemic_disease_list</th>\n",
       "      <th>systemic_disease_list_count</th>\n",
       "      <th>Race_Std</th>\n",
       "      <th>encounters_count</th>\n",
       "      <th>Age</th>\n",
       "      <th>zip_code</th>\n",
       "    </tr>\n",
       "    <tr>\n",
       "      <th>Person_Nbr</th>\n",
       "      <th></th>\n",
       "      <th></th>\n",
       "      <th></th>\n",
       "      <th></th>\n",
       "      <th></th>\n",
       "      <th></th>\n",
       "      <th></th>\n",
       "      <th></th>\n",
       "      <th></th>\n",
       "      <th></th>\n",
       "      <th></th>\n",
       "      <th></th>\n",
       "      <th></th>\n",
       "      <th></th>\n",
       "      <th></th>\n",
       "      <th></th>\n",
       "      <th></th>\n",
       "      <th></th>\n",
       "    </tr>\n",
       "  </thead>\n",
       "  <tbody>\n",
       "    <tr>\n",
       "      <th>109227</th>\n",
       "      <td>None</td>\n",
       "      <td>714287</td>\n",
       "      <td>Not Hispanic or Latino</td>\n",
       "      <td>F</td>\n",
       "      <td>E6121EF6-660A-4A34-B4B4-ECB513E3C916</td>\n",
       "      <td>Black/African American (Not Hispanic)</td>\n",
       "      <td>[{u'Description': u'Hypermetropia', u'Concept_...</td>\n",
       "      <td>3.0</td>\n",
       "      <td>60419</td>\n",
       "      <td>[{u'OD_Macula2_Modifer': nan, u'OS_SL_LENS': n...</td>\n",
       "      <td>[{u'Code': u'416855002', u'Relation': u'Mother...</td>\n",
       "      <td>6.0</td>\n",
       "      <td>[{u'Systemic_Diseases': u'Diabetes type 2', u'...</td>\n",
       "      <td>5.0</td>\n",
       "      <td>Black or African American</td>\n",
       "      <td>1</td>\n",
       "      <td>61</td>\n",
       "      <td>60419</td>\n",
       "    </tr>\n",
       "    <tr>\n",
       "      <th>622597</th>\n",
       "      <td>None</td>\n",
       "      <td>716389</td>\n",
       "      <td>Declined to specify</td>\n",
       "      <td>F</td>\n",
       "      <td>E50C7786-EA20-41F9-8308-C5590839B518</td>\n",
       "      <td>Declined to specify</td>\n",
       "      <td>[{u'Description': u'Tear film insufficiency', ...</td>\n",
       "      <td>4.0</td>\n",
       "      <td>604261306</td>\n",
       "      <td>[{u'OD_Macula2_Modifer': nan, u'OS_SL_LENS': u...</td>\n",
       "      <td>[{u'Code': u'416855002', u'Relation': u'Father...</td>\n",
       "      <td>5.0</td>\n",
       "      <td>[{u'Systemic_Diseases': u'Diabetes', u'Snomed_...</td>\n",
       "      <td>7.0</td>\n",
       "      <td>Unknown</td>\n",
       "      <td>4</td>\n",
       "      <td>55</td>\n",
       "      <td>60426</td>\n",
       "    </tr>\n",
       "    <tr>\n",
       "      <th>196620</th>\n",
       "      <td>None</td>\n",
       "      <td>717417</td>\n",
       "      <td>Not Hispanic or Latino</td>\n",
       "      <td>M</td>\n",
       "      <td>8BEEFFD7-7B53-4BA1-ABC2-9B244E81ADA1</td>\n",
       "      <td>Black or African American</td>\n",
       "      <td>[{u'Description': u'Presbyopia', u'Concept_ID'...</td>\n",
       "      <td>4.0</td>\n",
       "      <td>60609</td>\n",
       "      <td>[{u'OD_Macula2_Modifer': nan, u'OS_SL_LENS': u...</td>\n",
       "      <td>[{u'Code': u'416855002', u'Relation': u'Father...</td>\n",
       "      <td>8.0</td>\n",
       "      <td>[{u'Systemic_Diseases': u'Diabetes Type II', u...</td>\n",
       "      <td>8.0</td>\n",
       "      <td>Black or African American</td>\n",
       "      <td>1</td>\n",
       "      <td>52</td>\n",
       "      <td>60609</td>\n",
       "    </tr>\n",
       "    <tr>\n",
       "      <th>884751</th>\n",
       "      <td>None</td>\n",
       "      <td>714436</td>\n",
       "      <td>Unknown Ethnicity</td>\n",
       "      <td>M</td>\n",
       "      <td>9CD7E60C-2E0A-4E25-84C0-2440F8C83FC3</td>\n",
       "      <td>White</td>\n",
       "      <td>[{u'Description': u'Proliferative diabetic ret...</td>\n",
       "      <td>4.0</td>\n",
       "      <td>60608</td>\n",
       "      <td>[{u'OD_Macula2_Modifer': nan, u'OS_SL_LENS': u...</td>\n",
       "      <td>[{u'Code': u'439724007', u'Relation': u'Mother...</td>\n",
       "      <td>2.0</td>\n",
       "      <td>[{u'Systemic_Diseases': u'Diabetic retinopathy...</td>\n",
       "      <td>8.0</td>\n",
       "      <td>White</td>\n",
       "      <td>1</td>\n",
       "      <td>60</td>\n",
       "      <td>60608</td>\n",
       "    </tr>\n",
       "    <tr>\n",
       "      <th>819216</th>\n",
       "      <td>None</td>\n",
       "      <td>727602</td>\n",
       "      <td>Hispanic or Latino</td>\n",
       "      <td>F</td>\n",
       "      <td>52C478F4-B3F2-457C-8A72-E18458BCCB96</td>\n",
       "      <td>Hispanic</td>\n",
       "      <td>[{u'Description': u'Central retinal vein occlu...</td>\n",
       "      <td>1.0</td>\n",
       "      <td>60647</td>\n",
       "      <td>[{u'OD_Macula2_Modifer': nan, u'OS_SL_LENS': u...</td>\n",
       "      <td>[{u'Code': u'NULL', u'Relation': u'Mother', u'...</td>\n",
       "      <td>2.0</td>\n",
       "      <td>[{u'Systemic_Diseases': u'Diabetes mellitus ty...</td>\n",
       "      <td>2.0</td>\n",
       "      <td>Hispanic or Latino</td>\n",
       "      <td>1</td>\n",
       "      <td>24</td>\n",
       "      <td>60647</td>\n",
       "    </tr>\n",
       "  </tbody>\n",
       "</table>\n",
       "</div>"
      ],
      "text/plain": [
       "           Age_Censored     DOB               Ethnicity Gender                             Person_ID                                   Race                                SNOMED_problem_list  SNOMED_problem_list_count        Zip                                         encounters                                   family_hist_list  family_hist_list_count                              systemic_disease_list  systemic_disease_list_count                   Race_Std  encounters_count  Age zip_code\n",
       "Person_Nbr                                                                                                                                                                                                                                                                                                                                                                                                                                                                                                   \n",
       "109227             None  714287  Not Hispanic or Latino      F  E6121EF6-660A-4A34-B4B4-ECB513E3C916  Black/African American (Not Hispanic)  [{u'Description': u'Hypermetropia', u'Concept_...                        3.0      60419  [{u'OD_Macula2_Modifer': nan, u'OS_SL_LENS': n...  [{u'Code': u'416855002', u'Relation': u'Mother...                     6.0  [{u'Systemic_Diseases': u'Diabetes type 2', u'...                          5.0  Black or African American                 1   61    60419\n",
       "622597             None  716389     Declined to specify      F  E50C7786-EA20-41F9-8308-C5590839B518                    Declined to specify  [{u'Description': u'Tear film insufficiency', ...                        4.0  604261306  [{u'OD_Macula2_Modifer': nan, u'OS_SL_LENS': u...  [{u'Code': u'416855002', u'Relation': u'Father...                     5.0  [{u'Systemic_Diseases': u'Diabetes', u'Snomed_...                          7.0                    Unknown                 4   55    60426\n",
       "196620             None  717417  Not Hispanic or Latino      M  8BEEFFD7-7B53-4BA1-ABC2-9B244E81ADA1              Black or African American  [{u'Description': u'Presbyopia', u'Concept_ID'...                        4.0      60609  [{u'OD_Macula2_Modifer': nan, u'OS_SL_LENS': u...  [{u'Code': u'416855002', u'Relation': u'Father...                     8.0  [{u'Systemic_Diseases': u'Diabetes Type II', u...                          8.0  Black or African American                 1   52    60609\n",
       "884751             None  714436       Unknown Ethnicity      M  9CD7E60C-2E0A-4E25-84C0-2440F8C83FC3                                  White  [{u'Description': u'Proliferative diabetic ret...                        4.0      60608  [{u'OD_Macula2_Modifer': nan, u'OS_SL_LENS': u...  [{u'Code': u'439724007', u'Relation': u'Mother...                     2.0  [{u'Systemic_Diseases': u'Diabetic retinopathy...                          8.0                      White                 1   60    60608\n",
       "819216             None  727602      Hispanic or Latino      F  52C478F4-B3F2-457C-8A72-E18458BCCB96                               Hispanic  [{u'Description': u'Central retinal vein occlu...                        1.0      60647  [{u'OD_Macula2_Modifer': nan, u'OS_SL_LENS': u...  [{u'Code': u'NULL', u'Relation': u'Mother', u'...                     2.0  [{u'Systemic_Diseases': u'Diabetes mellitus ty...                          2.0         Hispanic or Latino                 1   24    60647"
      ]
     },
     "execution_count": 8,
     "metadata": {},
     "output_type": "execute_result"
    }
   ],
   "source": [
    "combined_data_df.head()"
   ]
  },
  {
   "cell_type": "code",
   "execution_count": 9,
   "metadata": {
    "collapsed": false
   },
   "outputs": [
    {
     "data": {
      "text/plain": [
       "<matplotlib.axes._subplots.AxesSubplot at 0x63eac18>"
      ]
     },
     "execution_count": 9,
     "metadata": {},
     "output_type": "execute_result"
    },
    {
     "data": {
      "image/png": "[encoded data removed]",
      "text/plain": [
       "<matplotlib.figure.Figure at 0x4cc89710>"
      ]
     },
     "metadata": {},
     "output_type": "display_data"
    }
   ],
   "source": [
    "combined_data_df['Age'].hist()"
   ]
  },
  {
   "cell_type": "code",
   "execution_count": 10,
   "metadata": {
    "collapsed": false
   },
   "outputs": [
    {
     "data": {
      "text/plain": [
       "60619    1256\n",
       "60653    1088\n",
       "60617     992\n",
       "60620     986\n",
       "60628     985\n",
       "60616     927\n",
       "60637     854\n",
       "60649     817\n",
       "60615     653\n",
       "60609     629\n",
       "60636     556\n",
       "60621     533\n",
       "60629     446\n",
       "60643     399\n",
       "60608     364\n",
       "60632     251\n",
       "60652     203\n",
       "60623     185\n",
       "60827     177\n",
       "60409     175\n",
       "60644     159\n",
       "60651     152\n",
       "60624     151\n",
       "60612     151\n",
       "60640     139\n",
       "60639     134\n",
       "60419     112\n",
       "60605     112\n",
       "60473      97\n",
       "60647      95\n",
       "         ... \n",
       "97838       1\n",
       "50310       1\n",
       "46341       1\n",
       "46347       1\n",
       "60040       1\n",
       "60042       1\n",
       "62708       1\n",
       "30324       1\n",
       "62703       1\n",
       "78540       1\n",
       "60203       1\n",
       "66160       1\n",
       "64069       1\n",
       "2891        1\n",
       "61114       1\n",
       "47804       1\n",
       "46385       1\n",
       "46411       1\n",
       "30004       1\n",
       "29209       1\n",
       "61115       1\n",
       "46222       1\n",
       "60442       1\n",
       "46361       1\n",
       "46368       1\n",
       "60142       1\n",
       "60061       1\n",
       "60064       1\n",
       "60067       1\n",
       "61455       1\n",
       "Name: zip_code, dtype: int64"
      ]
     },
     "execution_count": 10,
     "metadata": {},
     "output_type": "execute_result"
    }
   ],
   "source": [
    "combined_data_df['zip_code'].value_counts()"
   ]
  }
 ],
 "metadata": {
  "kernelspec": {
   "display_name": "Python [default]",
   "language": "python",
   "name": "python2"
  },
  "language_info": {
   "codemirror_mode": {
    "name": "ipython",
    "version": 2
   },
   "file_extension": ".py",
   "mimetype": "text/x-python",
   "name": "python",
   "nbconvert_exporter": "python",
   "pygments_lexer": "ipython2",
   "version": "2.7.13"
  }
 },
 "nbformat": 4,
 "nbformat_minor": 2
}
