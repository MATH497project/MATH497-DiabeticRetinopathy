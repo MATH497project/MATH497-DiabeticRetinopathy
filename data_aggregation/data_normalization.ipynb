{
 "cells": [
  {
   "cell_type": "code",
   "execution_count": 41,
   "metadata": {
    "collapsed": true
   },
   "outputs": [],
   "source": [
    "import pandas as pd\n",
    "from pprint import pprint\n",
    "import json\n",
    "import numpy as np"
   ]
  },
  {
   "cell_type": "code",
   "execution_count": 35,
   "metadata": {
    "collapsed": false
   },
   "outputs": [
    {
     "data": {
      "text/html": [
       "<style>.container { width:100% !important; }</style>"
      ],
      "text/plain": [
       "<IPython.core.display.HTML object>"
      ]
     },
     "metadata": {},
     "output_type": "display_data"
    }
   ],
   "source": [
    "from IPython.core.display import display, HTML\n",
    "display(HTML(\"<style>.container { width:100% !important; }</style>\"))\n",
    "pd.set_option('display.width', 1000)"
   ]
  },
  {
   "cell_type": "code",
   "execution_count": 2,
   "metadata": {
    "collapsed": true
   },
   "outputs": [],
   "source": [
    "# ICD_list table must be re-built from, presumably, ICD_for_Enc due to some entries being\n",
    "# pre-18th birthday.  ICD_list entries are not timestamped!\n",
    "table_names = ['all_encounter_data', 'demographics', 'encounters', 'family_hist_for_Enc',\n",
    "               'family_hist_list', 'ICD_for_Enc', 'ICD_list', 'macula_findings_for_Enc',\n",
    "               'SL_Lens_for_Enc', 'SNOMED_problem_list', 'systemic_disease_for_Enc', 'systemic_disease_list']\n",
    "\n",
    "person_data = ['demographics','family_hist_list', 'systemic_disease_list', 'SNOMED_problem_list']\n",
    "\n",
    "encounter_data = ['all_encounter_data', 'encounters', 'family_hist_for_Enc', 'ICD_for_Enc', 'macula_findings_for_Enc',\n",
    "                   'SL_Lens_for_Enc', 'systemic_disease_for_Enc']"
   ]
  },
  {
   "cell_type": "code",
   "execution_count": 3,
   "metadata": {
    "collapsed": true
   },
   "outputs": [],
   "source": [
    "path = 'E:\\\\anil\\\\IIT Sop\\\\Term02\\\\MATH497\\\\ICO_data\\\\original_pickle\\\\'"
   ]
  },
  {
   "cell_type": "code",
   "execution_count": 18,
   "metadata": {
    "collapsed": false
   },
   "outputs": [
    {
     "name": "stdout",
     "output_type": "stream",
     "text": [
      "\n"
     ]
    }
   ],
   "source": [
    "# read tables into dataframes\n",
    "dfs = [ pd.read_pickle(path + name + '.pickle') if name != 'ICD_list' else None\n",
    "        for name in table_names ]"
   ]
  },
  {
   "cell_type": "code",
   "execution_count": 19,
   "metadata": {
    "collapsed": true
   },
   "outputs": [],
   "source": [
    "# rename columns in all dataframes to avoid unicode decode error\n",
    "for df in dfs:\n",
    "    if df is not None:\n",
    "        df.columns = [col.decode(\"utf-8-sig\") for col in df.columns]\n",
    "        "
   ]
  },
  {
   "cell_type": "code",
   "execution_count": 37,
   "metadata": {
    "collapsed": false
   },
   "outputs": [],
   "source": [
    "# list of lists of columns to normalize\n",
    "normalized_tbls = ['encounterIds', 'personIds', 'snomed', 'icd']\n",
    "normalize_lists = {\n",
    "    'encounterIds' : {'tables': ['all_encounter_data' , 'encounters', 'family_hist_for_Enc', 'ICD_for_Enc', 'macula_findings_for_Enc', 'SL_Lens_for_Enc', 'systemic_disease_for_Enc'],\n",
    "                    'columns': ['Enc_ID', 'Enc_Nbr', 'Enc_Date', 'Enc_Timestamp']},\n",
    "    'personIds' : {'tables': ['all_encounter_data', 'demographics', 'encounters', 'family_hist_for_Enc',\n",
    "               'family_hist_list', 'ICD_for_Enc', 'macula_findings_for_Enc',\n",
    "               'SL_Lens_for_Enc', 'SNOMED_problem_list', 'systemic_disease_for_Enc', 'systemic_disease_list'],\n",
    "                 'columns':[u'Person_ID', u'Person_Nbr']},\n",
    "    'snomed' : {'tables': ['SNOMED_problem_list', 'systemic_disease_for_Enc', 'systemic_disease_list'],\n",
    "                 'columns':[u'Concept_ID', 'Description','Snomed_Code', 'Systemic_Diseases']},\n",
    "    'icd' : {'tables': ['ICD_for_Enc'],\n",
    "             'columns': ['Diagnosis_Code_ID', 'Description']}\n",
    "    \n",
    "}"
   ]
  },
  {
   "cell_type": "code",
   "execution_count": 42,
   "metadata": {
    "collapsed": false
   },
   "outputs": [],
   "source": [
    "normalized_dfs = []\n",
    "for normalize_list_key in normalized_tbls:\n",
    "#     print normalize_list_key\n",
    "    tables = normalize_lists[normalize_list_key]['tables']\n",
    "    columns_norm = normalize_lists[normalize_list_key]['columns']\n",
    "#     print columns_norm\n",
    "    norm_df_rows = set()\n",
    "    for tableName in tables:\n",
    "#         print tableName, \",\",\n",
    "        df_index = table_names.index(tableName)\n",
    "        df = dfs[df_index]\n",
    "        columnsInDf = set(df.columns.values)\n",
    "        for i, dfrow in df.iterrows():\n",
    "            rowdict = dict(dfrow)\n",
    "            norm_df_row = []\n",
    "            for column in columns_norm:\n",
    "                if column in columnsInDf:\n",
    "                    val = rowdict[column]\n",
    "                    if pd.isnull(val) or val=='NULL':\n",
    "                        norm_df_row.append(np.nan)\n",
    "                    else:\n",
    "                        norm_df_row.append(val)\n",
    "                else:\n",
    "                    norm_df_row.append(np.nan)\n",
    "        \n",
    "            norm_df_rows.add(tuple(norm_df_row))\n",
    "#     print \"\"\n",
    "    normalized_dfs.append(pd.DataFrame([list(row) for row in norm_df_rows], columns=columns_norm))\n"
   ]
  },
  {
   "cell_type": "code",
   "execution_count": 32,
   "metadata": {
    "collapsed": false
   },
   "outputs": [],
   "source": [
    "for i, normalize_list_key in enumerate(normalized_tbls):\n",
    "    normalized_dfs[i].to_pickle(normalize_list_key+\"_normalized.pickle\")\n"
   ]
  },
  {
   "cell_type": "code",
   "execution_count": 43,
   "metadata": {
    "collapsed": false
   },
   "outputs": [
    {
     "name": "stdout",
     "output_type": "stream",
     "text": [
      "    Concept_ID                               Description Snomed_Code           Systemic_Diseases\n",
      "0          NaN                                       NaN         NaN  vertigo (migraine-induced)\n",
      "1  246938006.0                            Corneal dellen         NaN                         NaN\n",
      "2          NaN                                       NaN         NaN                 Cholesterol\n",
      "3          NaN                                       NaN         NaN                Endometrosis\n",
      "4  193489006.0                           Diabetic iritis         NaN                         NaN\n",
      "5          NaN                                       NaN         NaN          Blood clot in lung\n",
      "6          NaN                                       NaN         NaN    Quadruple Bypass Surgery\n",
      "7          NaN                                       NaN         NaN                         AKI\n",
      "8          NaN                                       NaN         NaN           Urinary Frequency\n",
      "9  366066006.0  Suppression (binocular vision) - finding         NaN                         NaN\n"
     ]
    }
   ],
   "source": [
    "for i, normalize_list_key in enumerate(normalized_tbls):\n",
    "    print normalized_dfs[i].head(10)"
   ]
  }
 ],
 "metadata": {
  "kernelspec": {
   "display_name": "Python [default]",
   "language": "python",
   "name": "python2"
  },
  "language_info": {
   "codemirror_mode": {
    "name": "ipython",
    "version": 2
   },
   "file_extension": ".py",
   "mimetype": "text/x-python",
   "name": "python",
   "nbconvert_exporter": "python",
   "pygments_lexer": "ipython2",
   "version": "2.7.13"
  }
 },
 "nbformat": 4,
 "nbformat_minor": 2
}
