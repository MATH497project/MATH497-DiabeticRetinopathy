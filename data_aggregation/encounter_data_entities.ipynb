{
 "cells": [
  {
   "cell_type": "code",
   "execution_count": 1,
   "metadata": {
    "collapsed": true
   },
   "outputs": [],
   "source": [
    "import pandas as pd\n",
    "from pprint import pprint\n",
    "import json\n",
    "import numpy as np"
   ]
  },
  {
   "cell_type": "code",
   "execution_count": 2,
   "metadata": {
    "collapsed": false
   },
   "outputs": [
    {
     "data": {
      "text/html": [
       "<style>.container { width:100% !important; }</style>"
      ],
      "text/plain": [
       "<IPython.core.display.HTML object>"
      ]
     },
     "metadata": {},
     "output_type": "execute_result"
    }
   ],
   "source": [
    "from IPython.core.display import display, HTML\n",
    "display(HTML(\"<style>.container { width:100% !important; }</style>\"))\n",
    "pd.set_option('display.width', 1000)"
   ]
  },
  {
   "cell_type": "code",
   "execution_count": 3,
   "metadata": {
    "collapsed": true
   },
   "outputs": [],
   "source": [
    "# ICD_list table must be re-built from, presumably, ICD_for_Enc due to some entries being\n",
    "# pre-18th birthday.  ICD_list entries are not timestamped!\n",
    "table_names = ['all_encounter_data', 'demographics', 'encounters', 'family_hist_for_Enc',\n",
    "               'family_hist_list', 'ICD_for_Enc', 'ICD_list', 'macula_findings_for_Enc',\n",
    "               'SL_Lens_for_Enc', 'SNOMED_problem_list', 'systemic_disease_for_Enc', 'systemic_disease_list']\n",
    "\n",
    "person_data = ['demographics','family_hist_list', 'systemic_disease_list', 'SNOMED_problem_list']\n",
    "\n",
    "encounter_data = ['all_encounter_data', 'encounters', 'family_hist_for_Enc', 'ICD_for_Enc', 'macula_findings_for_Enc',\n",
    "                   'SL_Lens_for_Enc', 'systemic_disease_for_Enc']"
   ]
  },
  {
   "cell_type": "code",
   "execution_count": 4,
   "metadata": {
    "collapsed": true
   },
   "outputs": [],
   "source": [
    "path = 'E:\\\\anil\\\\IIT Sop\\\\Term02\\\\MATH497\\\\ICO_data\\\\original_pickle\\\\'"
   ]
  },
  {
   "cell_type": "code",
   "execution_count": 5,
   "metadata": {
    "collapsed": false
   },
   "outputs": [],
   "source": [
    "# read tables into dataframes\n",
    "dfs = [ pd.read_pickle(path + name + '.pickle') if name != 'ICD_list' else None\n",
    "        for name in table_names ]"
   ]
  },
  {
   "cell_type": "code",
   "execution_count": 6,
   "metadata": {
    "collapsed": true
   },
   "outputs": [],
   "source": [
    "# rename columns in all dataframes to avoid unicode decode error\n",
    "for df in dfs:\n",
    "    if df is not None:\n",
    "        df.columns = [col.decode(\"utf-8-sig\") for col in df.columns]"
   ]
  },
  {
   "cell_type": "code",
   "execution_count": 8,
   "metadata": {
    "collapsed": false,
    "scrolled": true
   },
   "outputs": [
    {
     "name": "stdout",
     "output_type": "stream",
     "text": [
      "[u'Enc_ID' u'Enc_Nbr' u'Enc_Date' u'Person_ID' u'Person_Nbr'\n",
      " u'Primary_Payer' u'Smoking_Status' u'BMI' u'BP' u'Glucose' u'A1C'\n",
      " u'MR_OD_SPH' u'MR_OD_CYL' u'MR_OD_AXIS' u'MR_OD_DVA' u'MR_OD_NVA'\n",
      " u'MR_OS_SPH' u'MR_OS_CYL' u'MR_OS_AXIS' u'MR_OS_DVA' u'MR_OS_NVA'\n",
      " u'BB_OD_SPH' u'BB_OD_CYL' u'BB_OD_AXIS' u'BB_OD_DVA' u'BB_OD_NVA'\n",
      " u'BB_OS_SPH' u'BB_OS_CYL' u'BB_OS_AXIS' u'BB_OS_DVA' u'BB_OS_NVA'\n",
      " u'CYCLO_OD_SPH' u'CYCLO_OD_CYL' u'CYCLO_OD_AXIS' u'CYCLO_OD_DVA'\n",
      " u'CYCLO_OD_NVA' u'CYCLO_OS_SPH' u'CYCLO_OS_CYL' u'CYCLO_OS_AXIS'\n",
      " u'CYCLO_OS_DVA' u'CYCLO_OS_NVA']\n",
      "[u'Person_ID' u'Person_Nbr' u'DOB' u'Gender' u'Race' u'Ethnicity' u'Zip'\n",
      " u'Age_Censored']\n",
      "[u'Person_ID' u'Person_Nbr' u'Enc_ID' u'Enc_Nbr' u'Enc_Timestamp']\n",
      "[u'Person_ID' u'Person_Nbr' u'Enc_ID' u'Enc_Nbr' u'Enc_Date' u'Code'\n",
      " u'Code_System' u'Family_History' u'Relation']\n",
      "[u'Person_ID' u'Person_Nbr' u'Date_Created' u'Code' u'Code_System'\n",
      " u'Family_History' u'Relation']\n",
      "[u'Person_ID' u'Person_Nbr' u'Enc_ID' u'Enc_Nbr' u'Enc_Timestamp'\n",
      " u'Diagnosis_Code_ID' u'Description']\n",
      "[u'Enc_ID' u'Enc_Nbr' u'Enc_Date' u'Person_ID' u'Person_Nbr'\n",
      " u'OD_Macula1_Finding' u'OD_Macula1_Modifer' u'OD_Macula1_Location'\n",
      " u'OD_Macula2_Finding' u'OD_Macula2_Modifer' u'OD_Macula2_Location'\n",
      " u'OD_Macula3_Finding' u'OD_Macula3_Modifer' u'OD_Macula3_Location'\n",
      " u'OD_Macula4_Finding' u'OD_Macula4_Modifer' u'OD_Macula4_Location'\n",
      " u'OS_Macula1_Finding' u'OS_Macula1_Modifer' u'OS_Macula1_Location'\n",
      " u'OS_Macula2_Finding' u'OS_Macula2_Modifer' u'OS_Macula2_Location'\n",
      " u'OS_Macula3_Finding' u'OS_Macula3_Modifer' u'OS_Macula3_Location'\n",
      " u'OS_Macula4_Finding' u'OS_Macula4_Modifer' u'OS_Macula4_Location']\n",
      "[u'Enc_ID' u'Enc_Nbr' u'Enc_Date' u'Person_ID' u'Person_Nbr' u'OD_SL_LENS'\n",
      " u'OS_SL_LENS']\n",
      "[u'Person_ID' u'Person_Nbr' u'Date_Created' u'Concept_ID' u'Description']\n",
      "[u'Person_ID' u'Person_Nbr' u'Enc_ID' u'Enc_Nbr' u'Enc_Date' u'Snomed_Code'\n",
      " u'Systemic_Diseases']\n",
      "[u'Person_ID' u'Person_Nbr' u'Date_Created' u'Snomed_Code'\n",
      " u'Systemic_Diseases']\n"
     ]
    }
   ],
   "source": [
    "# aggregate encounter nbrs under person number from tables with encounter numbers\n",
    "encounter_key = 'u'Enc_Nbr'\n",
    "for df in dfs:\n",
    "    if df is not None:\n",
    "        print(df.columns.values)"
   ]
  },
  {
   "cell_type": "markdown",
   "metadata": {},
   "source": [
    "#### Grouping all encounter nbrs under respective person nbr"
   ]
  },
  {
   "cell_type": "code",
   "execution_count": 18,
   "metadata": {
    "collapsed": false
   },
   "outputs": [],
   "source": [
    "encounter_key = 'Enc_Nbr'\n",
    "person_key = 'Person_Nbr'\n",
    "encounters_by_person = {}\n",
    "for df in dfs:\n",
    "    if df is not None:\n",
    "        df_columns =set(df.columns.values)\n",
    "        if encounter_key in df_columns and person_key in df_columns:\n",
    "            for row_index, dfrow in df.iterrows():\n",
    "                rowdict = dict(dfrow)\n",
    "                person_nbr = rowdict[person_key]\n",
    "                encounter_nbr = rowdict[encounter_key]\n",
    "                encounters_by_person.setdefault(person_nbr, set()).add(encounter_nbr)"
   ]
  },
  {
   "cell_type": "code",
   "execution_count": 21,
   "metadata": {
    "collapsed": false
   },
   "outputs": [
    {
     "name": "stdout",
     "output_type": "stream",
     "text": [
      "set([3689952L,\n",
      "     9254247L,\n",
      "     10967288L,\n",
      "     11247025L,\n",
      "     11311562L,\n",
      "     11328070L,\n",
      "     13085096L])\n"
     ]
    }
   ],
   "source": [
    "for person_nbr in encounters_by_person:\n",
    "    if len(encounters_by_person[person_nbr])>5:\n",
    "        pprint(encounters_by_person[person_nbr])\n",
    "        break"
   ]
  },
  {
   "cell_type": "markdown",
   "metadata": {
    "collapsed": false
   },
   "source": [
    "#### Now grouping other measurements and properties under encounter_nbrs"
   ]
  },
  {
   "cell_type": "code",
   "execution_count": 23,
   "metadata": {
    "collapsed": false,
    "scrolled": false
   },
   "outputs": [
    {
     "name": "stdout",
     "output_type": "stream",
     "text": [
      "all_encounter_data\n",
      "demographics\n",
      "encounters\n",
      "family_hist_for_Enc\n",
      "family_hist_list\n",
      "ICD_for_Enc\n",
      "ICD_list\n",
      "macula_findings_for_Enc\n",
      "SL_Lens_for_Enc\n",
      "SNOMED_problem_list\n",
      "systemic_disease_for_Enc\n",
      "systemic_disease_list\n"
     ]
    }
   ],
   "source": [
    "encounter_key = 'Enc_Nbr'\n",
    "# columns_to_ignore = [u'Person_ID', u'Person_Nbr', u'Enc_ID', u'Enc_Nbr', u'Enc_Date']\n",
    "data_by_encounters = {}\n",
    "data_by_encounters_type = {}\n",
    "for df_index, df in enumerate(dfs):\n",
    "    df_name = table_names[df_index]\n",
    "    print df_name\n",
    "    data_by_encounters[df_name] = {}\n",
    "    if df is not None:\n",
    "        df_columns =set(df.columns.values)\n",
    "        if encounter_key in df_columns:\n",
    "            # check if encounter is primary key in the table\n",
    "            if len(df) == len(df[encounter_key].unique()):\n",
    "                data_by_encounters_type[df_name] = 'single'\n",
    "                for row_index, dfrow in df.iterrows():\n",
    "                    rowdict = dict(dfrow)\n",
    "                    \n",
    "                    for k, v in rowdict.iteritems():\n",
    "                        if isinstance(v, pd.tslib.Timestamp):\n",
    "                            rowdict[k] = v.toordinal()\n",
    "                    \n",
    "                    encounter_nbr = rowdict[encounter_key]\n",
    "                    data_by_encounters[df_name][encounter_nbr] = rowdict\n",
    "            else:\n",
    "                data_by_encounters_type[df_name] = 'list'\n",
    "                for row_index, dfrow in df.iterrows():\n",
    "                    rowdict = dict(dfrow)\n",
    "                    for k, v in rowdict.iteritems():\n",
    "                        if isinstance(v, pd.tslib.Timestamp):\n",
    "                            rowdict[k] = v.toordinal()\n",
    "                    encounter_nbr = rowdict[encounter_key]\n",
    "                    data_by_encounters[df_name].setdefault(encounter_nbr, []).append(rowdict)"
   ]
  },
  {
   "cell_type": "markdown",
   "metadata": {},
   "source": [
    "## Aggregating encounter entities under respective person entity"
   ]
  },
  {
   "cell_type": "code",
   "execution_count": 65,
   "metadata": {
    "collapsed": false
   },
   "outputs": [],
   "source": [
    "all_persons = []\n",
    "for person_nbr in encounters_by_person:\n",
    "    person_object = {person_key:person_nbr, 'encounter_objects':[]}\n",
    "    for enc_nbr in encounters_by_person[person_nbr]:\n",
    "        encounter_object = {encounter_key: enc_nbr}\n",
    "        for df_name in data_by_encounters_type:\n",
    "            if enc_nbr in data_by_encounters[df_name]:\n",
    "                encounter_object[df_name] = data_by_encounters[df_name][enc_nbr]\n",
    "                if data_by_encounters_type[df_name] !=\"single\":\n",
    "                    encounter_object[df_name+\"_count\"] = len(data_by_encounters[df_name][enc_nbr])\n",
    "        person_object['encounter_objects'].append(encounter_object)\n",
    "\n",
    "    all_persons.append(person_object)"
   ]
  },
  {
   "cell_type": "code",
   "execution_count": 29,
   "metadata": {
    "collapsed": false,
    "scrolled": false
   },
   "outputs": [],
   "source": [
    "# checking for aggregation consistency\n",
    "n = 0\n",
    "for person in all_persons:\n",
    "    person_nbr=person[person_key]\n",
    "    for enc_obj in person['encounter_objects']:\n",
    "        enc_nbr=enc_obj[encounter_key]\n",
    "        for df_name in data_by_encounters_type:\n",
    "            if data_by_encounters_type[df_name] == \"single\":\n",
    "                if df_name in enc_obj:\n",
    "                    if person_key in enc_obj[df_name]:\n",
    "                        if person_nbr != enc_obj[df_name][person_key]:\n",
    "                            print \"Person nbr does not match\", person_nbr, enc_nbr, df_name\n",
    "                    if encounter_key in enc_obj[df_name]:\n",
    "                        if enc_nbr != enc_obj[df_name][encounter_key]:\n",
    "                            print \"Encounter nbr does not match\", person_nbr, enc_nbr, df_name\n",
    "                \n",
    "            else:\n",
    "                if df_name in enc_obj:\n",
    "                    for rp_index, repeated_property in enumerate(enc_obj[df_name]):\n",
    "                        if person_key in repeated_property:\n",
    "                            if person_nbr != repeated_property[person_key]:\n",
    "                                print \"Person nbr does not match\", person_nbr, enc_nbr, df_name, rp_index\n",
    "                        if encounter_key in repeated_property:\n",
    "                            if enc_nbr != repeated_property[encounter_key]:\n",
    "                                print \"Encounter nbr does not match\", person_nbr, enc_nbr, df_name, rp_index\n",
    "            \n",
    "            \n",
    "#     n+=1\n",
    "#     if n>2:break"
   ]
  },
  {
   "cell_type": "markdown",
   "metadata": {},
   "source": [
    "## Dropping duplicated columns and then full na rows across tables"
   ]
  },
  {
   "cell_type": "code",
   "execution_count": 66,
   "metadata": {
    "collapsed": true
   },
   "outputs": [],
   "source": [
    "with open('20170224_encounter_objects_before_duplicate_fields_drop.json', 'w') as fh:\n",
    "    json.dump(all_persons, fh)"
   ]
  },
  {
   "cell_type": "code",
   "execution_count": 67,
   "metadata": {
    "collapsed": false
   },
   "outputs": [],
   "source": [
    "# drop repeated columns in nested fields except from table \"encounters\"\n",
    "\n",
    "\n",
    "columns_to_drop = ['Enc_ID', 'Enc_Nbr', 'Enc_Date', 'Person_ID', 'Person_Nbr','Date_Created', 'Enc_Timestamp']\n",
    "\n",
    "\n",
    "for person_index in range(len(all_persons)):\n",
    "    \n",
    "    for enc_obj_index in range(len(all_persons[person_index]['encounter_objects'])):\n",
    "    \n",
    "        enc_obj = all_persons[person_index]['encounter_objects'][enc_obj_index]\n",
    "    \n",
    "        for df_name in data_by_encounters_type:\n",
    "            if data_by_encounters_type[df_name] == \"single\":\n",
    "                if df_name in enc_obj and df_name!='encounters':\n",
    "                    for column_to_drop in columns_to_drop:\n",
    "                        try:\n",
    "                            del enc_obj[df_name][column_to_drop]\n",
    "                        except:\n",
    "                            pass\n",
    "                \n",
    "            else:\n",
    "                if df_name in enc_obj and df_name!='encounters':\n",
    "                    for rp_index in range(len(enc_obj[df_name])):\n",
    "                        for column_to_drop in columns_to_drop:\n",
    "                            try:\n",
    "                                del enc_obj[df_name][rp_index][column_to_drop]\n",
    "                            except:\n",
    "                                pass\n",
    "                    \n",
    "            \n",
    "        all_persons[person_index]['encounter_objects'][enc_obj_index] = enc_obj"
   ]
  },
  {
   "cell_type": "code",
   "execution_count": 68,
   "metadata": {
    "collapsed": true
   },
   "outputs": [],
   "source": [
    "# drop full na object rows\n",
    "# !does not seem to be working!!\n",
    "\n",
    "for person_index in range(len(all_persons)):\n",
    "    \n",
    "    for enc_obj_index in range(len(all_persons[person_index]['encounter_objects'])):\n",
    "        enc_obj = all_persons[person_index]['encounter_objects'][enc_obj_index]\n",
    "        for df_name in data_by_encounters_type:\n",
    "            if data_by_encounters_type[df_name] == \"single\":\n",
    "                if df_name in enc_obj:\n",
    "                    if all(pd.isnull(enc_obj[df_name].values())):\n",
    "                        enc_obj[df_name] = float('nan')\n",
    "            else:\n",
    "                if df_name in enc_obj:\n",
    "                    for rp_index in reversed(range(len(enc_obj[df_name]))):\n",
    "                        if all(pd.isnull(enc_obj[df_name][rp_index].values())):\n",
    "                            del enc_obj[df_name][rp_index]\n",
    "        \n",
    "        all_persons[person_index]['encounter_objects'][enc_obj_index] = enc_obj"
   ]
  },
  {
   "cell_type": "code",
   "execution_count": 69,
   "metadata": {
    "collapsed": true
   },
   "outputs": [],
   "source": [
    "with open('20170224_encounter_objects.json', 'w') as fh:\n",
    "    json.dump(all_persons, fh)"
   ]
  },
  {
   "cell_type": "code",
   "execution_count": 70,
   "metadata": {
    "collapsed": false
   },
   "outputs": [],
   "source": [
    "# creating a dataframe from aggregated data\n",
    "combined_ecounters_df = pd.DataFrame.from_dict({(person_obj[person_key],enc_obj[encounter_key]): enc_obj\n",
    "                           for person_obj in all_persons\n",
    "                           for enc_obj in person_obj['encounter_objects']},\n",
    "                       orient='index')"
   ]
  },
  {
   "cell_type": "code",
   "execution_count": 76,
   "metadata": {
    "collapsed": false
   },
   "outputs": [
    {
     "data": {
      "text/html": [
       "<div>\n",
       "<table border=\"1\" class=\"dataframe\">\n",
       "  <thead>\n",
       "    <tr style=\"text-align: right;\">\n",
       "      <th></th>\n",
       "      <th></th>\n",
       "      <th>all_encounter_data_count</th>\n",
       "      <th>Enc_Nbr</th>\n",
       "      <th>macula_findings_for_Enc</th>\n",
       "      <th>SL_Lens_for_Enc</th>\n",
       "      <th>all_encounter_data</th>\n",
       "      <th>ICD_for_Enc_count</th>\n",
       "      <th>encounters</th>\n",
       "      <th>ICD_for_Enc</th>\n",
       "      <th>systemic_disease_for_Enc_count</th>\n",
       "      <th>systemic_disease_for_Enc</th>\n",
       "      <th>family_hist_for_Enc</th>\n",
       "      <th>family_hist_for_Enc_count</th>\n",
       "    </tr>\n",
       "  </thead>\n",
       "  <tbody>\n",
       "    <tr>\n",
       "      <th>33</th>\n",
       "      <th>123227</th>\n",
       "      <td>2.0</td>\n",
       "      <td>123227</td>\n",
       "      <td>{u'OD_Macula2_Modifer': nan, u'OD_Macula3_Find...</td>\n",
       "      <td>{u'OS_SL_LENS': u'1+ NS 1-2+ ACC', u'OD_SL_LEN...</td>\n",
       "      <td>[{u'MR_OD_DVA': u'20/20', u'BB_OD_SPH': nan, u...</td>\n",
       "      <td>3.0</td>\n",
       "      <td>{u'Person_ID': u'18405351-AC64-46A2-A003-8F788...</td>\n",
       "      <td>[{u'Description': u'Presbyopia', u'Diagnosis_C...</td>\n",
       "      <td>3.0</td>\n",
       "      <td>[{u'Snomed_Code': u'44054006', u'Systemic_Dise...</td>\n",
       "      <td>[{u'Code': u'160347007', u'Code_System': u'SNO...</td>\n",
       "      <td>6.0</td>\n",
       "    </tr>\n",
       "    <tr>\n",
       "      <th rowspan=\"9\" valign=\"top\">89</th>\n",
       "      <th>233159</th>\n",
       "      <td>1.0</td>\n",
       "      <td>233159</td>\n",
       "      <td>NaN</td>\n",
       "      <td>NaN</td>\n",
       "      <td>[{u'MR_OD_DVA': nan, u'BB_OD_SPH': nan, u'CYCL...</td>\n",
       "      <td>NaN</td>\n",
       "      <td>{u'Person_ID': u'4ACD51E8-4A9B-4AA6-B635-166AD...</td>\n",
       "      <td>NaN</td>\n",
       "      <td>NaN</td>\n",
       "      <td>NaN</td>\n",
       "      <td>NaN</td>\n",
       "      <td>NaN</td>\n",
       "    </tr>\n",
       "    <tr>\n",
       "      <th>455661</th>\n",
       "      <td>1.0</td>\n",
       "      <td>455661</td>\n",
       "      <td>NaN</td>\n",
       "      <td>{u'OS_SL_LENS': u'clear lens capsule cortex an...</td>\n",
       "      <td>[{u'MR_OD_DVA': nan, u'BB_OD_SPH': nan, u'CYCL...</td>\n",
       "      <td>3.0</td>\n",
       "      <td>{u'Person_ID': u'4ACD51E8-4A9B-4AA6-B635-166AD...</td>\n",
       "      <td>[{u'Description': u'Anatomical narrow angle bo...</td>\n",
       "      <td>1.0</td>\n",
       "      <td>[{u'Snomed_Code': u'NULL', u'Systemic_Diseases...</td>\n",
       "      <td>[{u'Code': u'160267000', u'Code_System': u'SNO...</td>\n",
       "      <td>5.0</td>\n",
       "    </tr>\n",
       "    <tr>\n",
       "      <th>4126172</th>\n",
       "      <td>1.0</td>\n",
       "      <td>4126172</td>\n",
       "      <td>{u'OD_Macula2_Modifer': nan, u'OD_Macula3_Find...</td>\n",
       "      <td>{u'OS_SL_LENS': u'nuclear sclerosis 1+', u'OD_...</td>\n",
       "      <td>[{u'MR_OD_DVA': nan, u'BB_OD_SPH': nan, u'CYCL...</td>\n",
       "      <td>3.0</td>\n",
       "      <td>{u'Person_ID': u'4ACD51E8-4A9B-4AA6-B635-166AD...</td>\n",
       "      <td>[{u'Description': u'Retinal hemorrhage', u'Dia...</td>\n",
       "      <td>NaN</td>\n",
       "      <td>NaN</td>\n",
       "      <td>NaN</td>\n",
       "      <td>NaN</td>\n",
       "    </tr>\n",
       "    <tr>\n",
       "      <th>9217142</th>\n",
       "      <td>1.0</td>\n",
       "      <td>9217142</td>\n",
       "      <td>{u'OD_Macula2_Modifer': nan, u'OD_Macula3_Find...</td>\n",
       "      <td>{u'OS_SL_LENS': u'nuclear sclerosis 1+', u'OD_...</td>\n",
       "      <td>[{u'MR_OD_DVA': nan, u'BB_OD_SPH': nan, u'CYCL...</td>\n",
       "      <td>1.0</td>\n",
       "      <td>{u'Person_ID': u'4ACD51E8-4A9B-4AA6-B635-166AD...</td>\n",
       "      <td>[{u'Description': u'Anatomical narrow angle bo...</td>\n",
       "      <td>NaN</td>\n",
       "      <td>NaN</td>\n",
       "      <td>NaN</td>\n",
       "      <td>NaN</td>\n",
       "    </tr>\n",
       "    <tr>\n",
       "      <th>10658304</th>\n",
       "      <td>1.0</td>\n",
       "      <td>10658304</td>\n",
       "      <td>{u'OD_Macula2_Modifer': nan, u'OD_Macula3_Find...</td>\n",
       "      <td>{u'OS_SL_LENS': u'clear lens capsule cortex an...</td>\n",
       "      <td>[{u'MR_OD_DVA': u'20/20', u'BB_OD_SPH': nan, u...</td>\n",
       "      <td>3.0</td>\n",
       "      <td>{u'Person_ID': u'4ACD51E8-4A9B-4AA6-B635-166AD...</td>\n",
       "      <td>[{u'Description': u'Anatomical narrow angle bi...</td>\n",
       "      <td>NaN</td>\n",
       "      <td>NaN</td>\n",
       "      <td>NaN</td>\n",
       "      <td>NaN</td>\n",
       "    </tr>\n",
       "    <tr>\n",
       "      <th>12870648</th>\n",
       "      <td>1.0</td>\n",
       "      <td>12870648</td>\n",
       "      <td>{u'OD_Macula2_Modifer': nan, u'OD_Macula3_Find...</td>\n",
       "      <td>{u'OS_SL_LENS': u'nuclear sclerosis 1+ with tr...</td>\n",
       "      <td>[{u'MR_OD_DVA': nan, u'BB_OD_SPH': nan, u'CYCL...</td>\n",
       "      <td>2.0</td>\n",
       "      <td>{u'Person_ID': u'4ACD51E8-4A9B-4AA6-B635-166AD...</td>\n",
       "      <td>[{u'Description': u'Anatomical narrow angle bo...</td>\n",
       "      <td>NaN</td>\n",
       "      <td>NaN</td>\n",
       "      <td>NaN</td>\n",
       "      <td>NaN</td>\n",
       "    </tr>\n",
       "    <tr>\n",
       "      <th>13815981</th>\n",
       "      <td>1.0</td>\n",
       "      <td>13815981</td>\n",
       "      <td>NaN</td>\n",
       "      <td>NaN</td>\n",
       "      <td>[{u'MR_OD_DVA': nan, u'BB_OD_SPH': nan, u'CYCL...</td>\n",
       "      <td>NaN</td>\n",
       "      <td>{u'Person_ID': u'4ACD51E8-4A9B-4AA6-B635-166AD...</td>\n",
       "      <td>NaN</td>\n",
       "      <td>NaN</td>\n",
       "      <td>NaN</td>\n",
       "      <td>NaN</td>\n",
       "      <td>NaN</td>\n",
       "    </tr>\n",
       "    <tr>\n",
       "      <th>14537805</th>\n",
       "      <td>1.0</td>\n",
       "      <td>14537805</td>\n",
       "      <td>NaN</td>\n",
       "      <td>{u'OS_SL_LENS': u'clear lens capsule cortex an...</td>\n",
       "      <td>[{u'MR_OD_DVA': nan, u'BB_OD_SPH': nan, u'CYCL...</td>\n",
       "      <td>1.0</td>\n",
       "      <td>{u'Person_ID': u'4ACD51E8-4A9B-4AA6-B635-166AD...</td>\n",
       "      <td>[{u'Description': u'Primary angle closure with...</td>\n",
       "      <td>NaN</td>\n",
       "      <td>NaN</td>\n",
       "      <td>NaN</td>\n",
       "      <td>NaN</td>\n",
       "    </tr>\n",
       "    <tr>\n",
       "      <th>14968450</th>\n",
       "      <td>1.0</td>\n",
       "      <td>14968450</td>\n",
       "      <td>NaN</td>\n",
       "      <td>NaN</td>\n",
       "      <td>[{u'MR_OD_DVA': nan, u'BB_OD_SPH': nan, u'CYCL...</td>\n",
       "      <td>4.0</td>\n",
       "      <td>{u'Person_ID': u'4ACD51E8-4A9B-4AA6-B635-166AD...</td>\n",
       "      <td>[{u'Description': u'Diabetes Mellitus Type 2 U...</td>\n",
       "      <td>NaN</td>\n",
       "      <td>NaN</td>\n",
       "      <td>NaN</td>\n",
       "      <td>NaN</td>\n",
       "    </tr>\n",
       "  </tbody>\n",
       "</table>\n",
       "</div>"
      ],
      "text/plain": [
       "             all_encounter_data_count   Enc_Nbr                            macula_findings_for_Enc                                    SL_Lens_for_Enc                                 all_encounter_data  ICD_for_Enc_count                                         encounters                                        ICD_for_Enc  systemic_disease_for_Enc_count                           systemic_disease_for_Enc                                family_hist_for_Enc  family_hist_for_Enc_count\n",
       "33 123227                         2.0    123227  {u'OD_Macula2_Modifer': nan, u'OD_Macula3_Find...  {u'OS_SL_LENS': u'1+ NS 1-2+ ACC', u'OD_SL_LEN...  [{u'MR_OD_DVA': u'20/20', u'BB_OD_SPH': nan, u...                3.0  {u'Person_ID': u'18405351-AC64-46A2-A003-8F788...  [{u'Description': u'Presbyopia', u'Diagnosis_C...                             3.0  [{u'Snomed_Code': u'44054006', u'Systemic_Dise...  [{u'Code': u'160347007', u'Code_System': u'SNO...                        6.0\n",
       "89 233159                         1.0    233159                                                NaN                                                NaN  [{u'MR_OD_DVA': nan, u'BB_OD_SPH': nan, u'CYCL...                NaN  {u'Person_ID': u'4ACD51E8-4A9B-4AA6-B635-166AD...                                                NaN                             NaN                                                NaN                                                NaN                        NaN\n",
       "   455661                         1.0    455661                                                NaN  {u'OS_SL_LENS': u'clear lens capsule cortex an...  [{u'MR_OD_DVA': nan, u'BB_OD_SPH': nan, u'CYCL...                3.0  {u'Person_ID': u'4ACD51E8-4A9B-4AA6-B635-166AD...  [{u'Description': u'Anatomical narrow angle bo...                             1.0  [{u'Snomed_Code': u'NULL', u'Systemic_Diseases...  [{u'Code': u'160267000', u'Code_System': u'SNO...                        5.0\n",
       "   4126172                        1.0   4126172  {u'OD_Macula2_Modifer': nan, u'OD_Macula3_Find...  {u'OS_SL_LENS': u'nuclear sclerosis 1+', u'OD_...  [{u'MR_OD_DVA': nan, u'BB_OD_SPH': nan, u'CYCL...                3.0  {u'Person_ID': u'4ACD51E8-4A9B-4AA6-B635-166AD...  [{u'Description': u'Retinal hemorrhage', u'Dia...                             NaN                                                NaN                                                NaN                        NaN\n",
       "   9217142                        1.0   9217142  {u'OD_Macula2_Modifer': nan, u'OD_Macula3_Find...  {u'OS_SL_LENS': u'nuclear sclerosis 1+', u'OD_...  [{u'MR_OD_DVA': nan, u'BB_OD_SPH': nan, u'CYCL...                1.0  {u'Person_ID': u'4ACD51E8-4A9B-4AA6-B635-166AD...  [{u'Description': u'Anatomical narrow angle bo...                             NaN                                                NaN                                                NaN                        NaN\n",
       "   10658304                       1.0  10658304  {u'OD_Macula2_Modifer': nan, u'OD_Macula3_Find...  {u'OS_SL_LENS': u'clear lens capsule cortex an...  [{u'MR_OD_DVA': u'20/20', u'BB_OD_SPH': nan, u...                3.0  {u'Person_ID': u'4ACD51E8-4A9B-4AA6-B635-166AD...  [{u'Description': u'Anatomical narrow angle bi...                             NaN                                                NaN                                                NaN                        NaN\n",
       "   12870648                       1.0  12870648  {u'OD_Macula2_Modifer': nan, u'OD_Macula3_Find...  {u'OS_SL_LENS': u'nuclear sclerosis 1+ with tr...  [{u'MR_OD_DVA': nan, u'BB_OD_SPH': nan, u'CYCL...                2.0  {u'Person_ID': u'4ACD51E8-4A9B-4AA6-B635-166AD...  [{u'Description': u'Anatomical narrow angle bo...                             NaN                                                NaN                                                NaN                        NaN\n",
       "   13815981                       1.0  13815981                                                NaN                                                NaN  [{u'MR_OD_DVA': nan, u'BB_OD_SPH': nan, u'CYCL...                NaN  {u'Person_ID': u'4ACD51E8-4A9B-4AA6-B635-166AD...                                                NaN                             NaN                                                NaN                                                NaN                        NaN\n",
       "   14537805                       1.0  14537805                                                NaN  {u'OS_SL_LENS': u'clear lens capsule cortex an...  [{u'MR_OD_DVA': nan, u'BB_OD_SPH': nan, u'CYCL...                1.0  {u'Person_ID': u'4ACD51E8-4A9B-4AA6-B635-166AD...  [{u'Description': u'Primary angle closure with...                             NaN                                                NaN                                                NaN                        NaN\n",
       "   14968450                       1.0  14968450                                                NaN                                                NaN  [{u'MR_OD_DVA': nan, u'BB_OD_SPH': nan, u'CYCL...                4.0  {u'Person_ID': u'4ACD51E8-4A9B-4AA6-B635-166AD...  [{u'Description': u'Diabetes Mellitus Type 2 U...                             NaN                                                NaN                                                NaN                        NaN"
      ]
     },
     "execution_count": 76,
     "metadata": {},
     "output_type": "execute_result"
    }
   ],
   "source": [
    "combined_ecounters_df.head(10)"
   ]
  },
  {
   "cell_type": "code",
   "execution_count": 75,
   "metadata": {
    "collapsed": false
   },
   "outputs": [
    {
     "data": {
      "text/plain": [
       "233159                                                    NaN\n",
       "455661      [{u'Code': u'160267000', u'Code_System': u'SNO...\n",
       "4126172                                                   NaN\n",
       "9217142                                                   NaN\n",
       "10658304                                                  NaN\n",
       "12870648                                                  NaN\n",
       "13815981                                                  NaN\n",
       "14537805                                                  NaN\n",
       "14968450                                                  NaN\n",
       "Name: family_hist_for_Enc, dtype: object"
      ]
     },
     "execution_count": 75,
     "metadata": {},
     "output_type": "execute_result"
    }
   ],
   "source": [
    "combined_ecounters_df.loc[89,'family_hist_for_Enc']"
   ]
  }
 ],
 "metadata": {
  "kernelspec": {
   "display_name": "Python 2",
   "language": "python",
   "name": "python2"
  },
  "language_info": {
   "codemirror_mode": {
    "name": "ipython",
    "version": 2.0
   },
   "file_extension": ".py",
   "mimetype": "text/x-python",
   "name": "python",
   "nbconvert_exporter": "python",
   "pygments_lexer": "ipython2",
   "version": "2.7.13"
  }
 },
 "nbformat": 4,
 "nbformat_minor": 0
}