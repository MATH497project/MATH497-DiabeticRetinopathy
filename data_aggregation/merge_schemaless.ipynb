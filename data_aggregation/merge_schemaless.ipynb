{
 "cells": [
  {
   "cell_type": "code",
   "execution_count": 17,
   "metadata": {
    "collapsed": true
   },
   "outputs": [],
   "source": [
    "import pandas as pd\n",
    "from pprint import pprint\n",
    "import json"
   ]
  },
  {
   "cell_type": "code",
   "execution_count": 3,
   "metadata": {
    "collapsed": true
   },
   "outputs": [],
   "source": [
    "# ICD_list table must be re-built from, presumably, ICD_for_Enc due to some entries being\n",
    "# pre-18th birthday.  ICD_list entries are not timestamped!\n",
    "table_names = ['all_encounter_data', 'demographics', 'encounters', 'family_hist_for_Enc',\n",
    "               'family_hist_list', 'ICD_for_Enc', 'ICD_list', 'macula_findings_for_Enc',\n",
    "               'SL_Lens_for_Enc', 'SNOMED_problem_list', 'systemic_disease_for_Enc', 'systemic_disease_list']\n",
    "\n",
    "person_data = ['demographics','family_hist_list', 'systemic_disease_list', 'SNOMED_problem_list']\n",
    "\n",
    "encounter_data = ['all_encounter_data', 'encounters', 'family_hist_for_Enc', 'ICD_for_Enc', 'macula_findings_for_Enc',\n",
    "                   'SL_Lens_for_Enc', 'systemic_disease_for_Enc']\n"
   ]
  },
  {
   "cell_type": "code",
   "execution_count": 3,
   "metadata": {
    "collapsed": true
   },
   "outputs": [],
   "source": [
    "path = 'E:\\\\anil\\\\IIT Sop\\\\Term02\\\\MATH497\\\\ICO_data\\\\original_pickle\\\\'"
   ]
  },
  {
   "cell_type": "code",
   "execution_count": 4,
   "metadata": {
    "collapsed": true
   },
   "outputs": [],
   "source": [
    "# read tables into dataframes\n",
    "dfs = [pd.read_pickle(path + name + '.pickle') if name != 'ICD_list' else None\n",
    "        for name in table_names ]"
   ]
  },
  {
   "cell_type": "code",
   "execution_count": 11,
   "metadata": {
    "collapsed": true
   },
   "outputs": [],
   "source": [
    "# rename columns in all dataframes to avoid unicode decode error\n",
    "for df in dfs:\n",
    "    if df is not None:\n",
    "        df.columns = [col.decode(\"utf-8-sig\") for col in df.columns]"
   ]
  },
  {
   "cell_type": "code",
   "execution_count": 29,
   "metadata": {
    "collapsed": false
   },
   "outputs": [],
   "source": [
    "# aggregate all person data by Person_ID\n",
    "persons = {} \n",
    "id_key ='Person_ID'\n",
    "for person_df_name in person_data:\n",
    "#     print person_df_name,\n",
    "    df_index = table_names.index(person_df_name)\n",
    "    person_data_df = dfs[df_index]\n",
    "\n",
    "    if person_data_df is not None:\n",
    "#         print len(person_data_df)\n",
    "        for i, dfrow in person_data_df.iterrows():\n",
    "            rowdict = dict(dfrow)\n",
    "            id_value = rowdict[id_key]\n",
    "            \n",
    "            for k, v in rowdict.iteritems():\n",
    "                if isinstance(v, pd.tslib.Timestamp):\n",
    "                    rowdict[k] = v.toordinal()\n",
    "            \n",
    "            if id_value not in persons:\n",
    "                persons[id_value] = {}\n",
    "            \n",
    "            persons[id_value].setdefault(person_df_name, []).append(rowdict)\n",
    "            \n",
    "\n",
    "\n",
    "with open('allPersons.json', 'w') as fh:\n",
    "    json.dump(persons, fh)            \n",
    "            \n"
   ]
  },
  {
   "cell_type": "code",
   "execution_count": null,
   "metadata": {
    "collapsed": false,
    "scrolled": false
   },
   "outputs": [
    {
     "name": "stdout",
     "output_type": "stream",
     "text": [
      "all_encounter_data 82432\n",
      "row 0\n",
      "row 70000\n",
      "row 50000\n",
      "row 60000\n",
      "row 40000\n",
      "row 10000\n",
      "row 20000\n",
      "row 30000\n",
      "row 80000\n",
      "encounters 85829\n",
      "row 0\n",
      "row 40000\n",
      "row 20000\n",
      "row 30000\n",
      "row 80000\n",
      "row 50000\n",
      "row 70000\n",
      "row 60000\n",
      "row 10000\n",
      "family_hist_for_Enc 41672\n",
      "row 0\n",
      "row 10000\n",
      "row 20000\n",
      "row 40000\n",
      "ICD_for_Enc 207255\n",
      "row 0\n",
      "row 30000\n",
      "row 40000\n",
      "row 200000\n",
      "row 110000\n",
      "row 60000\n",
      "row 50000\n",
      "row 100000\n",
      "row 180000\n",
      "row 170000\n",
      "row 80000\n",
      "row 190000\n",
      "row 150000\n",
      "row 20000\n",
      "row 90000\n",
      "row 10000\n",
      "row 70000\n",
      "row 140000\n",
      "row 120000\n",
      "row 160000\n",
      "row 130000\n",
      "macula_findings_for_Enc 80946\n",
      "row 30000\n",
      "row 40000\n",
      "row 80000\n",
      "row 70000\n",
      "row 50000\n",
      "row 0\n",
      "row 10000\n",
      "row 60000\n",
      "row 20000\n",
      "SL_Lens_for_Enc 80946\n",
      "row 0\n",
      "row 80000\n",
      "row 70000\n",
      "row 40000\n",
      "row 50000\n",
      "row 20000\n",
      "row 30000\n",
      "row 60000\n",
      "row 10000\n",
      "systemic_disease_for_Enc 59536\n",
      "row 0\n",
      "row 60000\n",
      "row 30000\n",
      "row 40000\n",
      "row 50000\n",
      "row 20000\n"
     ]
    }
   ],
   "source": [
    "# aggregate all encounter data by Enc_ID\n",
    "encounters = {} \n",
    "id_key ='Enc_ID'\n",
    "for encounter_df_name in encounter_data:\n",
    "    print encounter_df_name,\n",
    "    df_index = table_names.index(encounter_df_name)\n",
    "    encounter_df = dfs[df_index]\n",
    "\n",
    "    if encounter_df is not None:\n",
    "        print len(encounter_df)\n",
    "#         print encounter_df.columns.values\n",
    "        for i, dfrow in encounter_df.iterrows():\n",
    "            rowdict = dict(dfrow)\n",
    "            id_value = rowdict[id_key]\n",
    "            \n",
    "            for k, v in rowdict.iteritems():\n",
    "                if isinstance(v, pd.tslib.Timestamp):\n",
    "                    rowdict[k] = v.toordinal()\n",
    "            \n",
    "            if id_value not in persons:\n",
    "                encounters[id_value] = {}\n",
    "            \n",
    "            encounters[id_value].setdefault(encounter_df_name, []).append(rowdict)\n",
    "\n",
    "with open('allEncounters.json', 'w') as fh:\n",
    "    json.dump(persons, fh)            "
   ]
  }
 ],
 "metadata": {
  "kernelspec": {
   "display_name": "Python [default]",
   "language": "python",
   "name": "python2"
  },
  "language_info": {
   "codemirror_mode": {
    "name": "ipython",
    "version": 2
   },
   "file_extension": ".py",
   "mimetype": "text/x-python",
   "name": "python",
   "nbconvert_exporter": "python",
   "pygments_lexer": "ipython2",
   "version": "2.7.13"
  }
 },
 "nbformat": 4,
 "nbformat_minor": 0
}
