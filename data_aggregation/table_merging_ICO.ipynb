{
 "cells": [
  {
   "cell_type": "code",
   "execution_count": 1,
   "metadata": {
    "collapsed": true
   },
   "outputs": [],
   "source": [
    "import pandas as pd\n",
    "from pprint import pprint\n",
    "import json\n",
    "import numpy as np"
   ]
  },
  {
   "cell_type": "code",
   "execution_count": 2,
   "metadata": {
    "collapsed": true
   },
   "outputs": [],
   "source": [
    "path = 'E:\\\\anil\\\\IIT Sop\\\\Term02\\\\MATH497\\\\ICO_data\\\\original_pickle\\\\'"
   ]
  },
  {
   "cell_type": "code",
   "execution_count": 3,
   "metadata": {
    "collapsed": true
   },
   "outputs": [],
   "source": [
    "# ICD_list table must be re-built from, presumably, ICD_for_Enc due to some entries being\n",
    "# pre-18th birthday.  ICD_list entries are not timestamped!\n",
    "table_names = ['all_encounter_data', 'demographics', 'encounters', 'family_hist_for_Enc',\n",
    "               'family_hist_list', 'ICD_for_Enc', 'ICD_list', 'macula_findings_for_Enc',\n",
    "               'SL_Lens_for_Enc', 'SNOMED_problem_list', 'systemic_disease_for_Enc', 'systemic_disease_list']\n",
    "\n",
    "person_data = ['demographics','family_hist_list', 'systemic_disease_list', 'SNOMED_problem_list']\n",
    "\n",
    "encounter_data = ['all_encounter_data', 'encounters', 'family_hist_for_Enc', 'ICD_for_Enc', 'macula_findings_for_Enc',\n",
    "                   'SL_Lens_for_Enc', 'systemic_disease_for_Enc']"
   ]
  },
  {
   "cell_type": "code",
   "execution_count": 4,
   "metadata": {
    "collapsed": false
   },
   "outputs": [],
   "source": [
    "# read tables into dataframes\n",
    "dfs = [ pd.read_pickle(path + name + '.pickle') if name != 'ICD_list' else None\n",
    "        for name in table_names ]\n",
    "\n",
    "# rename columns in all dataframes to avoid unicode decode error\n",
    "for df in dfs:\n",
    "    if df is not None:\n",
    "        df.columns = [col.decode(\"utf-8-sig\") for col in df.columns]\n"
   ]
  },
  {
   "cell_type": "markdown",
   "metadata": {},
   "source": [
    "#### Grouping all encounter nbrs under respective person nbr"
   ]
  },
  {
   "cell_type": "code",
   "execution_count": 5,
   "metadata": {
    "collapsed": false
   },
   "outputs": [],
   "source": [
    "# aggregate encounter nbrs under person number from tables with encounter numbers\n",
    "encounter_key = 'Enc_Nbr'\n",
    "person_key = 'Person_Nbr'\n",
    "encounters_by_person = {}\n",
    "for df in dfs:\n",
    "    if df is not None:\n",
    "        df_columns =set(df.columns.values)\n",
    "        if encounter_key in df_columns and person_key in df_columns:\n",
    "            for row_index, dfrow in df.iterrows():\n",
    "                rowdict = dict(dfrow)\n",
    "                person_nbr = rowdict[person_key]\n",
    "                encounter_nbr = rowdict[encounter_key]\n",
    "                encounters_by_person.setdefault(person_nbr, set()).add(encounter_nbr)"
   ]
  },
  {
   "cell_type": "code",
   "execution_count": 7,
   "metadata": {
    "collapsed": false
   },
   "outputs": [],
   "source": [
    "encounter_nbr_to_person_nbr = {}\n",
    "for person_nbr, encounter_nbrs in  encounters_by_person.iteritems():\n",
    "    for encounter_nbr in encounter_nbrs:\n",
    "        encounter_nbr_to_person_nbr.setdefault(encounter_nbr, set()).add(person_nbr)\n",
    "\n",
    "for encounter_nbr, person_nbrs in encounter_nbr_to_person_nbr.iteritems():\n",
    "    if len(person_nbrs)>1:\n",
    "        print 'Encounter {} mapped to multiple persons {}'.format(encounter_nbr, str(list(person_nbrs)))\n"
   ]
  },
  {
   "cell_type": "markdown",
   "metadata": {
    "collapsed": false
   },
   "source": [
    "#### Grouping properties under Person_Nbr (person related information)"
   ]
  },
  {
   "cell_type": "code",
   "execution_count": 9,
   "metadata": {
    "collapsed": false,
    "scrolled": false
   },
   "outputs": [
    {
     "name": "stdout",
     "output_type": "stream",
     "text": [
      "Processing dataframe: demographics\n",
      "Processing dataframe: family_hist_list\n",
      "Processing dataframe: SNOMED_problem_list\n",
      "Processing dataframe: systemic_disease_list\n"
     ]
    }
   ],
   "source": [
    "person_key = 'Person_Nbr'\n",
    "encounter_key = 'Enc_Nbr'\n",
    "# columns_to_ignore = [u'Person_ID', u'Person_Nbr', u'Enc_ID', u'Enc_Nbr', u'Enc_Date']\n",
    "data_by_persons = {}\n",
    "data_by_persons_type = {}\n",
    "for df_index, df in enumerate(dfs):\n",
    "    df_name = table_names[df_index]\n",
    "    data_by_persons[df_name] = {}\n",
    "    if df is not None:\n",
    "        df_columns =set(df.columns.values)\n",
    "        if person_key in df_columns and encounter_key not in df_columns:\n",
    "            print 'Processing dataframe: {}'.format(df_name)\n",
    "            # check if encounter is primary key in the table\n",
    "            if len(df) == len(df[person_key].unique()):\n",
    "                data_by_persons_type[df_name] = 'single'\n",
    "                for row_index, dfrow in df.iterrows():\n",
    "                    rowdict = dict(dfrow)\n",
    "                    \n",
    "                    for k, v in rowdict.iteritems():\n",
    "                        if isinstance(v, pd.tslib.Timestamp):\n",
    "                            rowdict[k] = v.toordinal()\n",
    "                    \n",
    "                    person_nbr = rowdict[person_key]\n",
    "                    data_by_persons[df_name][person_nbr] = rowdict\n",
    "            else:\n",
    "                data_by_persons_type[df_name] = 'list'\n",
    "                for row_index, dfrow in df.iterrows():\n",
    "                    rowdict = dict(dfrow)\n",
    "                    for k, v in rowdict.iteritems():\n",
    "                        if isinstance(v, pd.tslib.Timestamp):\n",
    "                            rowdict[k] = v.toordinal()\n",
    "                    person_nbr = rowdict[person_key]\n",
    "                    data_by_persons[df_name].setdefault(person_nbr, []).append(rowdict)"
   ]
  },
  {
   "cell_type": "markdown",
   "metadata": {
    "collapsed": false
   },
   "source": [
    "#### Grouping properties under encounter_nbrs (encounter related information)"
   ]
  },
  {
   "cell_type": "code",
   "execution_count": 10,
   "metadata": {
    "collapsed": false,
    "scrolled": false
   },
   "outputs": [
    {
     "name": "stdout",
     "output_type": "stream",
     "text": [
      "Processing dataframe: all_encounter_data\n",
      "Processing dataframe: encounters\n",
      "Processing dataframe: family_hist_for_Enc\n",
      "Processing dataframe: ICD_for_Enc\n",
      "Processing dataframe: macula_findings_for_Enc\n",
      "Processing dataframe: SL_Lens_for_Enc\n",
      "Processing dataframe: systemic_disease_for_Enc\n"
     ]
    }
   ],
   "source": [
    "encounter_key = 'Enc_Nbr'\n",
    "# columns_to_ignore = [u'Person_ID', u'Person_Nbr', u'Enc_ID', u'Enc_Nbr', u'Enc_Date']\n",
    "data_by_encounters = {}\n",
    "data_by_encounters_type = {}\n",
    "for df_index, df in enumerate(dfs):\n",
    "    df_name = table_names[df_index]\n",
    "    \n",
    "    data_by_encounters[df_name] = {}\n",
    "    if df is not None:\n",
    "        df_columns =set(df.columns.values)\n",
    "        if encounter_key in df_columns:\n",
    "            print 'Processing dataframe: {}'.format(df_name)\n",
    "            # check if encounter is primary key in the table\n",
    "            if len(df) == len(df[encounter_key].unique()):\n",
    "                data_by_encounters_type[df_name] = 'single'\n",
    "                for row_index, dfrow in df.iterrows():\n",
    "                    rowdict = dict(dfrow)\n",
    "                    \n",
    "                    for k, v in rowdict.iteritems():\n",
    "                        if isinstance(v, pd.tslib.Timestamp):\n",
    "                            rowdict[k] = v.toordinal()\n",
    "                    \n",
    "                    encounter_nbr = rowdict[encounter_key]\n",
    "                    data_by_encounters[df_name][encounter_nbr] = rowdict\n",
    "            else:\n",
    "                data_by_encounters_type[df_name] = 'list'\n",
    "                for row_index, dfrow in df.iterrows():\n",
    "                    rowdict = dict(dfrow)\n",
    "                    for k, v in rowdict.iteritems():\n",
    "                        if isinstance(v, pd.tslib.Timestamp):\n",
    "                            rowdict[k] = v.toordinal()\n",
    "                    encounter_nbr = rowdict[encounter_key]\n",
    "                    data_by_encounters[df_name].setdefault(encounter_nbr, []).append(rowdict)"
   ]
  },
  {
   "cell_type": "markdown",
   "metadata": {},
   "source": [
    "## Aggregating encounter entities under respective person entity"
   ]
  },
  {
   "cell_type": "code",
   "execution_count": 11,
   "metadata": {
    "collapsed": false
   },
   "outputs": [],
   "source": [
    "all_persons = []\n",
    "for person_nbr in encounters_by_person:\n",
    "    person_object = {person_key:person_nbr, 'encounters':[]}\n",
    "    \n",
    "    # insert all person related info in person_object\n",
    "    for df_name in data_by_persons_type:\n",
    "        if data_by_persons_type[df_name] ==\"single\":\n",
    "            if person_nbr in data_by_persons[df_name]:\n",
    "                person_single_data_row = data_by_persons[df_name][person_nbr]\n",
    "                for key, value in person_single_data_row.iteritems():\n",
    "                    person_object[key] = value\n",
    "        else:\n",
    "            if person_nbr in data_by_persons[df_name]:\n",
    "                person_multiple_data_row = data_by_persons[df_name][person_nbr]\n",
    "                person_object[df_name] = person_multiple_data_row \n",
    "                person_object[df_name+\"_count\"] = len(person_multiple_data_row)\n",
    "                \n",
    "                \n",
    "    # insert all encounter related information as a an encounter object into the person object                   \n",
    "    for enc_nbr in encounters_by_person[person_nbr]:\n",
    "        encounter_object = {encounter_key: enc_nbr}\n",
    "        for df_name in data_by_encounters_type:\n",
    "            if data_by_encounters_type[df_name] ==\"single\":\n",
    "                if enc_nbr in data_by_encounters[df_name]:\n",
    "                    encounter_single_data_row = data_by_encounters[df_name][enc_nbr]\n",
    "                    for key, value in encounter_single_data_row.iteritems():\n",
    "                        encounter_object[key] = value\n",
    "            else:\n",
    "                if enc_nbr in data_by_encounters[df_name]:\n",
    "                    encounter_multiple_data_row = data_by_encounters[df_name][enc_nbr]\n",
    "                    encounter_object[df_name] = encounter_multiple_data_row\n",
    "                    encounter_object[df_name+\"_count\"] = len(encounter_multiple_data_row)\n",
    "\n",
    "                    \n",
    "        person_object['encounters'].append(encounter_object)\n",
    "\n",
    "    all_persons.append(person_object)"
   ]
  },
  {
   "cell_type": "markdown",
   "metadata": {},
   "source": [
    "## Dropping duplicated columns and then full na rows across tables"
   ]
  },
  {
   "cell_type": "code",
   "execution_count": 12,
   "metadata": {
    "collapsed": true
   },
   "outputs": [],
   "source": [
    "with open('20170226_ICO_data_combined_before_duplicate_fields_drop.json', 'w') as fh:\n",
    "    json.dump(all_persons, fh)"
   ]
  },
  {
   "cell_type": "code",
   "execution_count": 13,
   "metadata": {
    "collapsed": false
   },
   "outputs": [],
   "source": [
    "# drop repeated columns in nested fields\n",
    "\n",
    "\n",
    "columns_to_drop = ['Enc_ID', 'Enc_Nbr', 'Enc_Date', 'Person_ID', 'Person_Nbr','Date_Created', 'Enc_Timestamp']\n",
    "\n",
    "\n",
    "for person_index in range(len(all_persons)):\n",
    "    \n",
    "    for df_name in data_by_persons_type:\n",
    "        if data_by_persons_type[df_name] != \"single\":\n",
    "            if df_name in all_persons[person_index] and df_name!='encounters':\n",
    "                for rp_index in range(len(all_persons[person_index][df_name])):\n",
    "                    for column_to_drop in columns_to_drop:\n",
    "                        try:\n",
    "                            del all_persons[person_index][df_name][rp_index][column_to_drop]\n",
    "                        except:\n",
    "                            pass\n",
    "\n",
    "        \n",
    "            \n",
    "    \n",
    "    for enc_obj_index in range(len(all_persons[person_index]['encounters'])):\n",
    "    \n",
    "        enc_obj = all_persons[person_index]['encounters'][enc_obj_index]\n",
    "    \n",
    "        for df_name in data_by_encounters_type:\n",
    "            if data_by_encounters_type[df_name] != \"single\":\n",
    "                if df_name in enc_obj:\n",
    "                    for rp_index in range(len(enc_obj[df_name])):\n",
    "                        for column_to_drop in columns_to_drop:\n",
    "                            try:\n",
    "                                del enc_obj[df_name][rp_index][column_to_drop]\n",
    "                            except:\n",
    "                                pass\n",
    "                    \n",
    "            \n",
    "        all_persons[person_index]['encounters'][enc_obj_index] = enc_obj"
   ]
  },
  {
   "cell_type": "code",
   "execution_count": 14,
   "metadata": {
    "collapsed": false
   },
   "outputs": [],
   "source": [
    "# drop full na object rows for list properties\n",
    "for person_index in range(len(all_persons)):\n",
    "    for df_name in data_by_persons_type:\n",
    "        if data_by_persons_type[df_name] != \"single\":\n",
    "            if df_name in all_persons[person_index] and df_name!='encounters':\n",
    "                for rp_index in reversed(range(len(all_persons[person_index][df_name]))):\n",
    "                    if all(pd.isnull(all_persons[person_index][df_name][rp_index].values())):\n",
    "                        del all_persons[person_index][df_name][rp_index]\n",
    "                \n",
    "    for enc_obj_index in range(len(all_persons[person_index]['encounters'])):\n",
    "        enc_obj = all_persons[person_index]['encounters'][enc_obj_index]\n",
    "        for df_name in data_by_encounters_type:\n",
    "            if data_by_encounters_type[df_name] != \"single\":\n",
    "                if df_name in enc_obj:\n",
    "                    for rp_index in reversed(range(len(enc_obj[df_name]))):\n",
    "                        if all(pd.isnull(enc_obj[df_name][rp_index].values())):\n",
    "                            del enc_obj[df_name][rp_index]\n",
    "        \n",
    "        all_persons[person_index]['encounters'][enc_obj_index] = enc_obj"
   ]
  },
  {
   "cell_type": "code",
   "execution_count": 15,
   "metadata": {
    "collapsed": true
   },
   "outputs": [],
   "source": [
    "# update counts for list properties\n",
    "for person_index in range(len(all_persons)):\n",
    "    for df_name in data_by_persons_type:\n",
    "        if data_by_persons_type[df_name] != \"single\":\n",
    "            if df_name in all_persons[person_index] and df_name!='encounters':\n",
    "                all_persons[person_index][df_name+\"_count\"] = len(all_persons[person_index][df_name])\n",
    "                \n",
    "                    \n",
    "                        \n",
    "                \n",
    "    for enc_obj_index in range(len(all_persons[person_index]['encounters'])):\n",
    "        enc_obj = all_persons[person_index]['encounters'][enc_obj_index]\n",
    "        for df_name in data_by_encounters_type:\n",
    "            if data_by_encounters_type[df_name] != \"single\":\n",
    "                if df_name in enc_obj:\n",
    "                    enc_obj[df_name+\"_count\"] = len(enc_obj[df_name])\n",
    "        all_persons[person_index]['encounters'][enc_obj_index] = enc_obj"
   ]
  },
  {
   "cell_type": "code",
   "execution_count": 16,
   "metadata": {
    "collapsed": true
   },
   "outputs": [],
   "source": [
    "with open('20170226_ICO_data_after_duplicate_fields_drop.json', 'w') as fh:\n",
    "    json.dump(all_persons, fh)"
   ]
  },
  {
   "cell_type": "code",
   "execution_count": 21,
   "metadata": {
    "collapsed": false
   },
   "outputs": [],
   "source": [
    "# creating a dataframe from aggregated data\n",
    "combined_data_df = pd.DataFrame.from_records(all_persons)\n",
    "combined_data_df.set_index(['Person_Nbr'], inplace=True)"
   ]
  },
  {
   "cell_type": "code",
   "execution_count": 23,
   "metadata": {
    "collapsed": false
   },
   "outputs": [],
   "source": [
    "# TODO Similar functions for processing nested/list data has to be written\n",
    "# add std race column\n",
    "def standardize_race(race):\n",
    "    standard_race_conversion_dict = {'African American':'Black or African American',\n",
    "     'Black or African American':'Black or African American',\n",
    "     'Black/African American (Not Hispanic)':'Black or African American',\n",
    "     'American Indian or Alaska Native':'American Indian or Alaska Native',\n",
    "     'American Indian/Alaskan Native':'American Indian or Alaska Native',\n",
    "     'American Indian':'American Indian or Alaska Native',\n",
    "     'Native American Indian':'American Indian or Alaska Native',\n",
    "     'Alaskan Native':'American Indian or Alaska Native',\n",
    "     'Asian':'Asian','Chinese':'Asian','Indian':'Asian','Caucasian':'White',\n",
    "     'White (Not Hispanic / Latino)':'White, not Hispanic or Latino',\n",
    "     'White':'White','Declined to specify':'Unknown',\n",
    "     'Unknown/Not Reported':'Unknown','Greek':'White',\n",
    "     'Native Hawaiian or Other Pacific Islander':'Native Hawaiian and Other Pacific Islander',\n",
    "     'Hawaiian':'Native Hawaiian and Other Pacific Islander',\n",
    "     'Other Pacific Islander (Not Hawaiian)':'Native Hawaiian and Other Pacific Islander',\n",
    "     'Hispanic Or Latino (All Races)':'Hispanic or Latino','Hispanic':'Hispanic or Latino',\n",
    "     'More than one race':'Two or More Races','Multiracial':'Two or More Races',\n",
    "     'Multi-racial':'Two or More Races','Moroccan':'White',float('nan'):'Unknown',\n",
    "     'Other Race':'Other Race','Other Race (Jamaican)':'Other Race'\n",
    "    }\n",
    "    \n",
    "    if race in standard_race_conversion_dict:\n",
    "        return standard_race_conversion_dict[race]\n",
    "    return 'Unknown'\n",
    "    \n",
    "combined_data_df['Race_Std'] = combined_data_df['Race'].apply(standardize_race)"
   ]
  },
  {
   "cell_type": "code",
   "execution_count": 26,
   "metadata": {
    "collapsed": false
   },
   "outputs": [
    {
     "data": {
      "text/html": [
       "<div>\n",
       "<table border=\"1\" class=\"dataframe\">\n",
       "  <thead>\n",
       "    <tr style=\"text-align: right;\">\n",
       "      <th></th>\n",
       "      <th>Age_Censored</th>\n",
       "      <th>DOB</th>\n",
       "      <th>Ethnicity</th>\n",
       "      <th>Gender</th>\n",
       "      <th>Person_ID</th>\n",
       "      <th>Race</th>\n",
       "      <th>SNOMED_problem_list</th>\n",
       "      <th>SNOMED_problem_list_count</th>\n",
       "      <th>Zip</th>\n",
       "      <th>encounters</th>\n",
       "      <th>family_hist_list</th>\n",
       "      <th>family_hist_list_count</th>\n",
       "      <th>systemic_disease_list</th>\n",
       "      <th>systemic_disease_list_count</th>\n",
       "      <th>Race_Std</th>\n",
       "    </tr>\n",
       "    <tr>\n",
       "      <th>Person_Nbr</th>\n",
       "      <th></th>\n",
       "      <th></th>\n",
       "      <th></th>\n",
       "      <th></th>\n",
       "      <th></th>\n",
       "      <th></th>\n",
       "      <th></th>\n",
       "      <th></th>\n",
       "      <th></th>\n",
       "      <th></th>\n",
       "      <th></th>\n",
       "      <th></th>\n",
       "      <th></th>\n",
       "      <th></th>\n",
       "      <th></th>\n",
       "    </tr>\n",
       "  </thead>\n",
       "  <tbody>\n",
       "    <tr>\n",
       "      <th>109227</th>\n",
       "      <td>None</td>\n",
       "      <td>714287</td>\n",
       "      <td>Not Hispanic or Latino</td>\n",
       "      <td>F</td>\n",
       "      <td>E6121EF6-660A-4A34-B4B4-ECB513E3C916</td>\n",
       "      <td>Black/African American (Not Hispanic)</td>\n",
       "      <td>[{u'Concept_ID': 38101003, u'Description': u'H...</td>\n",
       "      <td>3.0</td>\n",
       "      <td>60419</td>\n",
       "      <td>[{u'OD_Macula2_Modifer': nan, u'OS_SL_LENS': n...</td>\n",
       "      <td>[{u'Code': u'416855002', u'Family_History': u'...</td>\n",
       "      <td>6.0</td>\n",
       "      <td>[{u'Systemic_Diseases': u'Diabetes type 2', u'...</td>\n",
       "      <td>5.0</td>\n",
       "      <td>Black or African American</td>\n",
       "    </tr>\n",
       "    <tr>\n",
       "      <th>622597</th>\n",
       "      <td>None</td>\n",
       "      <td>716389</td>\n",
       "      <td>Declined to specify</td>\n",
       "      <td>F</td>\n",
       "      <td>E50C7786-EA20-41F9-8308-C5590839B518</td>\n",
       "      <td>Declined to specify</td>\n",
       "      <td>[{u'Concept_ID': 46152009, u'Description': u'T...</td>\n",
       "      <td>4.0</td>\n",
       "      <td>604261306</td>\n",
       "      <td>[{u'OD_Macula2_Modifer': nan, u'OS_SL_LENS': u...</td>\n",
       "      <td>[{u'Code': u'416855002', u'Family_History': u'...</td>\n",
       "      <td>5.0</td>\n",
       "      <td>[{u'Systemic_Diseases': u'Diabetes', u'Snomed_...</td>\n",
       "      <td>7.0</td>\n",
       "      <td>Unknown</td>\n",
       "    </tr>\n",
       "    <tr>\n",
       "      <th>196620</th>\n",
       "      <td>None</td>\n",
       "      <td>717417</td>\n",
       "      <td>Not Hispanic or Latino</td>\n",
       "      <td>M</td>\n",
       "      <td>8BEEFFD7-7B53-4BA1-ABC2-9B244E81ADA1</td>\n",
       "      <td>Black or African American</td>\n",
       "      <td>[{u'Concept_ID': 41256004, u'Description': u'P...</td>\n",
       "      <td>4.0</td>\n",
       "      <td>60609</td>\n",
       "      <td>[{u'OD_Macula2_Modifer': nan, u'OS_SL_LENS': u...</td>\n",
       "      <td>[{u'Code': u'416855002', u'Family_History': u'...</td>\n",
       "      <td>8.0</td>\n",
       "      <td>[{u'Systemic_Diseases': u'Diabetes Type II', u...</td>\n",
       "      <td>8.0</td>\n",
       "      <td>Black or African American</td>\n",
       "    </tr>\n",
       "    <tr>\n",
       "      <th>884751</th>\n",
       "      <td>None</td>\n",
       "      <td>714436</td>\n",
       "      <td>Unknown Ethnicity</td>\n",
       "      <td>M</td>\n",
       "      <td>9CD7E60C-2E0A-4E25-84C0-2440F8C83FC3</td>\n",
       "      <td>White</td>\n",
       "      <td>[{u'Concept_ID': 59276001, u'Description': u'P...</td>\n",
       "      <td>4.0</td>\n",
       "      <td>60608</td>\n",
       "      <td>[{u'OD_Macula2_Modifer': nan, u'OS_SL_LENS': u...</td>\n",
       "      <td>[{u'Code': u'439724007', u'Family_History': u'...</td>\n",
       "      <td>2.0</td>\n",
       "      <td>[{u'Systemic_Diseases': u'Diabetic retinopathy...</td>\n",
       "      <td>8.0</td>\n",
       "      <td>White</td>\n",
       "    </tr>\n",
       "    <tr>\n",
       "      <th>819216</th>\n",
       "      <td>None</td>\n",
       "      <td>727602</td>\n",
       "      <td>Hispanic or Latino</td>\n",
       "      <td>F</td>\n",
       "      <td>52C478F4-B3F2-457C-8A72-E18458BCCB96</td>\n",
       "      <td>Hispanic</td>\n",
       "      <td>[{u'Concept_ID': 68478007, u'Description': u'C...</td>\n",
       "      <td>1.0</td>\n",
       "      <td>60647</td>\n",
       "      <td>[{u'OD_Macula2_Modifer': nan, u'OS_SL_LENS': u...</td>\n",
       "      <td>[{u'Code': u'NULL', u'Family_History': u'Diabe...</td>\n",
       "      <td>2.0</td>\n",
       "      <td>[{u'Systemic_Diseases': u'Diabetes mellitus ty...</td>\n",
       "      <td>2.0</td>\n",
       "      <td>Hispanic or Latino</td>\n",
       "    </tr>\n",
       "  </tbody>\n",
       "</table>\n",
       "</div>"
      ],
      "text/plain": [
       "           Age_Censored     DOB               Ethnicity Gender  \\\n",
       "Person_Nbr                                                       \n",
       "109227             None  714287  Not Hispanic or Latino      F   \n",
       "622597             None  716389     Declined to specify      F   \n",
       "196620             None  717417  Not Hispanic or Latino      M   \n",
       "884751             None  714436       Unknown Ethnicity      M   \n",
       "819216             None  727602      Hispanic or Latino      F   \n",
       "\n",
       "                                       Person_ID  \\\n",
       "Person_Nbr                                         \n",
       "109227      E6121EF6-660A-4A34-B4B4-ECB513E3C916   \n",
       "622597      E50C7786-EA20-41F9-8308-C5590839B518   \n",
       "196620      8BEEFFD7-7B53-4BA1-ABC2-9B244E81ADA1   \n",
       "884751      9CD7E60C-2E0A-4E25-84C0-2440F8C83FC3   \n",
       "819216      52C478F4-B3F2-457C-8A72-E18458BCCB96   \n",
       "\n",
       "                                             Race  \\\n",
       "Person_Nbr                                          \n",
       "109227      Black/African American (Not Hispanic)   \n",
       "622597                        Declined to specify   \n",
       "196620                  Black or African American   \n",
       "884751                                      White   \n",
       "819216                                   Hispanic   \n",
       "\n",
       "                                          SNOMED_problem_list  \\\n",
       "Person_Nbr                                                      \n",
       "109227      [{u'Concept_ID': 38101003, u'Description': u'H...   \n",
       "622597      [{u'Concept_ID': 46152009, u'Description': u'T...   \n",
       "196620      [{u'Concept_ID': 41256004, u'Description': u'P...   \n",
       "884751      [{u'Concept_ID': 59276001, u'Description': u'P...   \n",
       "819216      [{u'Concept_ID': 68478007, u'Description': u'C...   \n",
       "\n",
       "            SNOMED_problem_list_count        Zip  \\\n",
       "Person_Nbr                                         \n",
       "109227                            3.0      60419   \n",
       "622597                            4.0  604261306   \n",
       "196620                            4.0      60609   \n",
       "884751                            4.0      60608   \n",
       "819216                            1.0      60647   \n",
       "\n",
       "                                                   encounters  \\\n",
       "Person_Nbr                                                      \n",
       "109227      [{u'OD_Macula2_Modifer': nan, u'OS_SL_LENS': n...   \n",
       "622597      [{u'OD_Macula2_Modifer': nan, u'OS_SL_LENS': u...   \n",
       "196620      [{u'OD_Macula2_Modifer': nan, u'OS_SL_LENS': u...   \n",
       "884751      [{u'OD_Macula2_Modifer': nan, u'OS_SL_LENS': u...   \n",
       "819216      [{u'OD_Macula2_Modifer': nan, u'OS_SL_LENS': u...   \n",
       "\n",
       "                                             family_hist_list  \\\n",
       "Person_Nbr                                                      \n",
       "109227      [{u'Code': u'416855002', u'Family_History': u'...   \n",
       "622597      [{u'Code': u'416855002', u'Family_History': u'...   \n",
       "196620      [{u'Code': u'416855002', u'Family_History': u'...   \n",
       "884751      [{u'Code': u'439724007', u'Family_History': u'...   \n",
       "819216      [{u'Code': u'NULL', u'Family_History': u'Diabe...   \n",
       "\n",
       "            family_hist_list_count  \\\n",
       "Person_Nbr                           \n",
       "109227                         6.0   \n",
       "622597                         5.0   \n",
       "196620                         8.0   \n",
       "884751                         2.0   \n",
       "819216                         2.0   \n",
       "\n",
       "                                        systemic_disease_list  \\\n",
       "Person_Nbr                                                      \n",
       "109227      [{u'Systemic_Diseases': u'Diabetes type 2', u'...   \n",
       "622597      [{u'Systemic_Diseases': u'Diabetes', u'Snomed_...   \n",
       "196620      [{u'Systemic_Diseases': u'Diabetes Type II', u...   \n",
       "884751      [{u'Systemic_Diseases': u'Diabetic retinopathy...   \n",
       "819216      [{u'Systemic_Diseases': u'Diabetes mellitus ty...   \n",
       "\n",
       "            systemic_disease_list_count                   Race_Std  \n",
       "Person_Nbr                                                          \n",
       "109227                              5.0  Black or African American  \n",
       "622597                              7.0                    Unknown  \n",
       "196620                              8.0  Black or African American  \n",
       "884751                              8.0                      White  \n",
       "819216                              2.0         Hispanic or Latino  "
      ]
     },
     "execution_count": 26,
     "metadata": {},
     "output_type": "execute_result"
    }
   ],
   "source": [
    "combined_data_df.head()"
   ]
  },
  {
   "cell_type": "code",
   "execution_count": 29,
   "metadata": {
    "collapsed": false
   },
   "outputs": [
    {
     "data": {
      "text/plain": [
       "[{u'Enc_Date': 736174,\n",
       "  u'Enc_ID': '47c5d7b3-76c9-3798-7207-9adff688646a',\n",
       "  'Enc_Nbr': 4086734L,\n",
       "  u'Enc_Timestamp': 736174,\n",
       "  'ICD_for_Enc': [{u'Description': 'Hypermetropia bilateral',\n",
       "    u'Diagnosis_Code_ID': 'H52.03'},\n",
       "   {u'Description': 'Type II diabetes without complications',\n",
       "    u'Diagnosis_Code_ID': 'E11.9'},\n",
       "   {u'Description': 'Blepharitis of rt upper eyelid',\n",
       "    u'Diagnosis_Code_ID': 'H01.001'}],\n",
       "  'ICD_for_Enc_count': 3,\n",
       "  u'OD_Macula1_Finding': 'flat no hemorrhages exudates pigmentary changes or no macular edema',\n",
       "  u'OD_Macula1_Location': nan,\n",
       "  u'OD_Macula1_Modifer': nan,\n",
       "  u'OD_Macula2_Finding': nan,\n",
       "  u'OD_Macula2_Location': nan,\n",
       "  u'OD_Macula2_Modifer': nan,\n",
       "  u'OD_Macula3_Finding': nan,\n",
       "  u'OD_Macula3_Location': nan,\n",
       "  u'OD_Macula3_Modifer': nan,\n",
       "  u'OD_Macula4_Finding': nan,\n",
       "  u'OD_Macula4_Location': nan,\n",
       "  u'OD_Macula4_Modifer': nan,\n",
       "  u'OD_SL_LENS': nan,\n",
       "  u'OS_Macula1_Finding': 'flat no hemorrhages exudates pigmentary changes or no macular edema',\n",
       "  u'OS_Macula1_Location': nan,\n",
       "  u'OS_Macula1_Modifer': nan,\n",
       "  u'OS_Macula2_Finding': nan,\n",
       "  u'OS_Macula2_Location': nan,\n",
       "  u'OS_Macula2_Modifer': nan,\n",
       "  u'OS_Macula3_Finding': nan,\n",
       "  u'OS_Macula3_Location': nan,\n",
       "  u'OS_Macula3_Modifer': nan,\n",
       "  u'OS_Macula4_Finding': nan,\n",
       "  u'OS_Macula4_Location': nan,\n",
       "  u'OS_Macula4_Modifer': nan,\n",
       "  u'OS_SL_LENS': nan,\n",
       "  u'Person_ID': 'E6121EF6-660A-4A34-B4B4-ECB513E3C916',\n",
       "  u'Person_Nbr': 109227L,\n",
       "  'all_encounter_data': [{u'A1C': nan,\n",
       "    u'BB_OD_AXIS': nan,\n",
       "    u'BB_OD_CYL': nan,\n",
       "    u'BB_OD_DVA': nan,\n",
       "    u'BB_OD_NVA': nan,\n",
       "    u'BB_OD_SPH': nan,\n",
       "    u'BB_OS_AXIS': nan,\n",
       "    u'BB_OS_CYL': nan,\n",
       "    u'BB_OS_DVA': nan,\n",
       "    u'BB_OS_NVA': nan,\n",
       "    u'BB_OS_SPH': nan,\n",
       "    u'BMI': nan,\n",
       "    u'BP': '170/ 90',\n",
       "    u'CYCLO_OD_AXIS': nan,\n",
       "    u'CYCLO_OD_CYL': nan,\n",
       "    u'CYCLO_OD_DVA': nan,\n",
       "    u'CYCLO_OD_NVA': nan,\n",
       "    u'CYCLO_OD_SPH': nan,\n",
       "    u'CYCLO_OS_AXIS': nan,\n",
       "    u'CYCLO_OS_CYL': nan,\n",
       "    u'CYCLO_OS_DVA': nan,\n",
       "    u'CYCLO_OS_NVA': nan,\n",
       "    u'CYCLO_OS_SPH': nan,\n",
       "    u'Glucose': nan,\n",
       "    u'MR_OD_AXIS': '115',\n",
       "    u'MR_OD_CYL': '-0.50',\n",
       "    u'MR_OD_DVA': '20/20',\n",
       "    u'MR_OD_NVA': '20/20-',\n",
       "    u'MR_OD_SPH': '+0.50',\n",
       "    u'MR_OS_AXIS': '100',\n",
       "    u'MR_OS_CYL': '-0.25',\n",
       "    u'MR_OS_DVA': '20/20',\n",
       "    u'MR_OS_NVA': '20/20',\n",
       "    u'MR_OS_SPH': '+0.75',\n",
       "    u'Primary_Payer': 'United Health Care PPO',\n",
       "    u'Smoking_Status': 'Never smoker'}],\n",
       "  'all_encounter_data_count': 1,\n",
       "  'family_hist_for_Enc': [{u'Code': '430679000',\n",
       "    u'Code_System': 'SNOMED',\n",
       "    u'Family_History': 'Diabetes mellitus type 2',\n",
       "    u'Relation': 'Brother'},\n",
       "   {u'Code': '160267000',\n",
       "    u'Code_System': 'SNOMED',\n",
       "    u'Family_History': 'No history of Glaucoma',\n",
       "    u'Relation': 'Mother'},\n",
       "   {u'Code': '160267000',\n",
       "    u'Code_System': 'SNOMED',\n",
       "    u'Family_History': 'No history of Glaucoma',\n",
       "    u'Relation': 'Father'},\n",
       "   {u'Code': '160357008',\n",
       "    u'Code_System': 'SNOMED',\n",
       "    u'Family_History': 'Hypertension',\n",
       "    u'Relation': 'Mother'},\n",
       "   {u'Code': '416855002',\n",
       "    u'Code_System': 'SNOMED',\n",
       "    u'Family_History': 'Diabetes mellitus',\n",
       "    u'Relation': 'Mother'},\n",
       "   {u'Code': '160274005',\n",
       "    u'Code_System': 'SNOMED',\n",
       "    u'Family_History': 'No history of Diabetes mellitus',\n",
       "    u'Relation': 'Father'}],\n",
       "  'family_hist_for_Enc_count': 6,\n",
       "  'systemic_disease_for_Enc': [{u'Snomed_Code': '44054006',\n",
       "    u'Systemic_Diseases': 'Diabetes type 2'},\n",
       "   {u'Snomed_Code': '56265001', u'Systemic_Diseases': 'Heart disease'},\n",
       "   {u'Snomed_Code': '13644009', u'Systemic_Diseases': 'Hypercholesterolaemia'},\n",
       "   {u'Snomed_Code': '38341003', u'Systemic_Diseases': 'Hypertension'},\n",
       "   {u'Snomed_Code': '230690007', u'Systemic_Diseases': 'Stroke'}],\n",
       "  'systemic_disease_for_Enc_count': 5}]"
      ]
     },
     "execution_count": 29,
     "metadata": {},
     "output_type": "execute_result"
    }
   ],
   "source": [
    "# to access encounters for a given Person_Nbr\n",
    "# these objects have nested encounter related info like all_encounter_data, systemic_disease_for_Enc, family_hist_for_Enc\n",
    "combined_data_df.loc[109227, 'encounters']"
   ]
  },
  {
   "cell_type": "code",
   "execution_count": 25,
   "metadata": {
    "collapsed": true
   },
   "outputs": [],
   "source": [
    "combined_data_df.to_pickle(path+'20170226_ICO_Data_combined.pickle')"
   ]
  }
 ],
 "metadata": {
  "kernelspec": {
   "display_name": "Python [default]",
   "language": "python",
   "name": "python2"
  },
  "language_info": {
   "codemirror_mode": {
    "name": "ipython",
    "version": 2
   },
   "file_extension": ".py",
   "mimetype": "text/x-python",
   "name": "python",
   "nbconvert_exporter": "python",
   "pygments_lexer": "ipython2",
   "version": "2.7.13"
  }
 },
 "nbformat": 4,
 "nbformat_minor": 0
}
