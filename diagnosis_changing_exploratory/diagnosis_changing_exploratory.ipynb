{
 "cells": [
  {
   "cell_type": "code",
   "execution_count": 1,
   "metadata": {
    "collapsed": true
   },
   "outputs": [],
   "source": [
    "import reader"
   ]
  },
  {
   "cell_type": "code",
   "execution_count": 2,
   "metadata": {
    "collapsed": false
   },
   "outputs": [
    {
     "name": "stdout",
     "output_type": "stream",
     "text": [
      "Local data read/write folder path:\n",
      "\tDefault path: /Users/Dan/2017 spring/MATH 497/code and data/data/\n",
      "\n",
      "Data: systemic_disease_list \n",
      "File: systemic_disease_list.pickle\n",
      "File already exists.\n",
      "\n",
      "Data: SNOMED_problem_list \n",
      "File: SNOMED_problem_list.pickle\n",
      "File already exists.\n",
      "\n",
      "Data: macula_findings_for_Enc \n",
      "File: macula_findings_for_Enc.pickle\n",
      "File already exists.\n",
      "\n",
      "Data: SL_Lens_for_Enc \n",
      "File: SL_Lens_for_Enc.pickle\n",
      "File already exists.\n",
      "\n",
      "Data: family_hist_list \n",
      "File: family_hist_list.pickle\n",
      "File already exists.\n",
      "\n",
      "Data: systemic_disease_for_Enc \n",
      "File: systemic_disease_for_Enc.pickle\n",
      "File already exists.\n",
      "\n",
      "Data: all_person_data \n",
      "File: all_person_data_Richard_20170307.pickle\n",
      "File does not exist. Searching from drive...\n",
      "\tGot the file id. Print metadata:\n",
      "\t\tTitle: all_person_data_Richard_20170307.pickle\n",
      "\t\tMIME type: application/octet-stream\n",
      "\tDownload Progress: 37%\n",
      "\tDownload Progress: 75%\n",
      "\tDownload Progress: 100%\n",
      "\tDownload Complete\n",
      "\n",
      "Data: family_hist_for_Enc \n",
      "File: family_hist_for_Enc.pickle\n",
      "File already exists.\n",
      "\n",
      "Data: person_profile \n",
      "File: person_profile_df.pickle\n",
      "File already exists.\n",
      "\n",
      "Data: all_encounter_data \n",
      "File: all_encounter_data_Richard_20170307.pickle\n",
      "File already exists.\n",
      "\n",
      "Data: encounters \n",
      "File: encounters.pickle\n",
      "File already exists.\n",
      "\n",
      "Data: demographics \n",
      "File: demographics_processed_Dan_20170304.pickle\n",
      "File already exists.\n",
      "\n",
      "Data: ICD_for_Enc \n",
      "File: ICD_for_Enc_processed_Dan_20170304.pickle\n",
      "File already exists.\n"
     ]
    }
   ],
   "source": [
    "data=reader.Data()"
   ]
  },
  {
   "cell_type": "code",
   "execution_count": 3,
   "metadata": {
    "collapsed": false
   },
   "outputs": [
    {
     "data": {
      "text/plain": [
       "array(['Enc_Date', 'Person_Nbr', 'Primary_Payer', 'Smoking_Status',\n",
       "       'MR_OD_SPH', 'MR_OD_CYL', 'MR_OD_AXIS', 'MR_OD_DVA', 'MR_OD_NVA',\n",
       "       'MR_OS_SPH', 'MR_OS_CYL', 'MR_OS_AXIS', 'MR_OS_DVA', 'MR_OS_NVA',\n",
       "       'BB_OD_SPH', 'BB_OD_CYL', 'BB_OD_AXIS', 'BB_OD_DVA', 'BB_OD_NVA',\n",
       "       'BB_OS_SPH', 'BB_OS_CYL', 'BB_OS_AXIS', 'BB_OS_DVA', 'BB_OS_NVA',\n",
       "       'CYCLO_OD_SPH', 'CYCLO_OD_CYL', 'CYCLO_OD_AXIS', 'CYCLO_OD_DVA',\n",
       "       'CYCLO_OD_NVA', 'CYCLO_OS_SPH', 'CYCLO_OS_CYL', 'CYCLO_OS_AXIS',\n",
       "       'CYCLO_OS_DVA', 'CYCLO_OS_NVA', 'Glucose', 'BMI', 'BP_Systolic',\n",
       "       'A1C', 'BP_Diastolic', 'ME', 'MNPDR', 'DM', 'SNPDR',\n",
       "       'Glaucoma_Suspect', 'mNPDR', 'Open_angle_Glaucoma', 'PDR',\n",
       "       'Cataract'], dtype=object)"
      ]
     },
     "execution_count": 3,
     "metadata": {},
     "output_type": "execute_result"
    }
   ],
   "source": [
    "data['all_encounter_data'].columns.values"
   ]
  },
  {
   "cell_type": "code",
   "execution_count": 4,
   "metadata": {
    "collapsed": false
   },
   "outputs": [
    {
     "data": {
      "text/html": [
       "<div>\n",
       "<table border=\"1\" class=\"dataframe\">\n",
       "  <thead>\n",
       "    <tr style=\"text-align: right;\">\n",
       "      <th></th>\n",
       "      <th>Enc_Date</th>\n",
       "      <th>Person_Nbr</th>\n",
       "      <th>mNPDR</th>\n",
       "      <th>MNPDR</th>\n",
       "      <th>SNPDR</th>\n",
       "      <th>PDR</th>\n",
       "    </tr>\n",
       "    <tr>\n",
       "      <th>Enc_Nbr</th>\n",
       "      <th></th>\n",
       "      <th></th>\n",
       "      <th></th>\n",
       "      <th></th>\n",
       "      <th></th>\n",
       "      <th></th>\n",
       "    </tr>\n",
       "  </thead>\n",
       "  <tbody>\n",
       "    <tr>\n",
       "      <th>1043</th>\n",
       "      <td>2016-03-08 06:15:00</td>\n",
       "      <td>544674</td>\n",
       "      <td>False</td>\n",
       "      <td>False</td>\n",
       "      <td>False</td>\n",
       "      <td>False</td>\n",
       "    </tr>\n",
       "    <tr>\n",
       "      <th>1802</th>\n",
       "      <td>2016-05-13 03:45:00</td>\n",
       "      <td>605657</td>\n",
       "      <td>False</td>\n",
       "      <td>False</td>\n",
       "      <td>False</td>\n",
       "      <td>False</td>\n",
       "    </tr>\n",
       "    <tr>\n",
       "      <th>2698</th>\n",
       "      <td>2014-06-08 10:15:00</td>\n",
       "      <td>514762</td>\n",
       "      <td>False</td>\n",
       "      <td>False</td>\n",
       "      <td>False</td>\n",
       "      <td>False</td>\n",
       "    </tr>\n",
       "    <tr>\n",
       "      <th>2966</th>\n",
       "      <td>2016-06-24 03:15:00</td>\n",
       "      <td>552364</td>\n",
       "      <td>True</td>\n",
       "      <td>False</td>\n",
       "      <td>False</td>\n",
       "      <td>False</td>\n",
       "    </tr>\n",
       "    <tr>\n",
       "      <th>4091</th>\n",
       "      <td>2015-10-29 19:45:00</td>\n",
       "      <td>931187</td>\n",
       "      <td>False</td>\n",
       "      <td>False</td>\n",
       "      <td>False</td>\n",
       "      <td>False</td>\n",
       "    </tr>\n",
       "  </tbody>\n",
       "</table>\n",
       "</div>"
      ],
      "text/plain": [
       "                   Enc_Date  Person_Nbr  mNPDR  MNPDR  SNPDR    PDR\n",
       "Enc_Nbr                                                            \n",
       "1043    2016-03-08 06:15:00      544674  False  False  False  False\n",
       "1802    2016-05-13 03:45:00      605657  False  False  False  False\n",
       "2698    2014-06-08 10:15:00      514762  False  False  False  False\n",
       "2966    2016-06-24 03:15:00      552364   True  False  False  False\n",
       "4091    2015-10-29 19:45:00      931187  False  False  False  False"
      ]
     },
     "execution_count": 4,
     "metadata": {},
     "output_type": "execute_result"
    }
   ],
   "source": [
    "df = data['all_encounter_data'][['Enc_Date','Person_Nbr','mNPDR', 'MNPDR', 'SNPDR', 'PDR']].copy()\n",
    "df.head()"
   ]
  },
  {
   "cell_type": "code",
   "execution_count": 5,
   "metadata": {
    "collapsed": false
   },
   "outputs": [
    {
     "data": {
      "text/plain": [
       "(61862, 6)"
      ]
     },
     "execution_count": 5,
     "metadata": {},
     "output_type": "execute_result"
    }
   ],
   "source": [
    "df.shape"
   ]
  },
  {
   "cell_type": "code",
   "execution_count": 6,
   "metadata": {
    "collapsed": false
   },
   "outputs": [
    {
     "data": {
      "text/plain": [
       "mNPDR    3795\n",
       "MNPDR    2012\n",
       "SNPDR     907\n",
       "PDR      3676\n",
       "dtype: int64"
      ]
     },
     "execution_count": 6,
     "metadata": {},
     "output_type": "execute_result"
    }
   ],
   "source": [
    "df[['mNPDR', 'MNPDR', 'SNPDR', 'PDR']].sum(axis=0)"
   ]
  },
  {
   "cell_type": "markdown",
   "metadata": {},
   "source": [
    "There are encounters have more than one diagnosis of DR."
   ]
  },
  {
   "cell_type": "code",
   "execution_count": 7,
   "metadata": {
    "collapsed": false
   },
   "outputs": [
    {
     "data": {
      "text/plain": [
       "Counter({0: 52011, 1: 9322, 2: 519, 3: 10})"
      ]
     },
     "execution_count": 7,
     "metadata": {},
     "output_type": "execute_result"
    }
   ],
   "source": [
    "from collections import Counter\n",
    "Counter(df[['mNPDR', 'MNPDR', 'SNPDR', 'PDR']].sum(axis=1))"
   ]
  },
  {
   "cell_type": "markdown",
   "metadata": {},
   "source": [
    "With the multi-diagnosis encounter records and group all the encounters into person file, there are 555 people have 2 diagnosis, 98 people have 3 and 10 people have 4. But we can't tell if the diagnosis comes with a series of encounters or just in one encounter."
   ]
  },
  {
   "cell_type": "code",
   "execution_count": 8,
   "metadata": {
    "collapsed": true
   },
   "outputs": [],
   "source": [
    "tmp={k:v[['mNPDR', 'MNPDR', 'SNPDR', 'PDR']].sum(axis=0) for k,v in df.groupby('Person_Nbr')}"
   ]
  },
  {
   "cell_type": "code",
   "execution_count": 9,
   "metadata": {
    "collapsed": true
   },
   "outputs": [],
   "source": [
    "tmp1 = {k:len(v[~v.isin([0])].index.tolist()) for k,v in tmp.items()}"
   ]
  },
  {
   "cell_type": "code",
   "execution_count": 10,
   "metadata": {
    "collapsed": false
   },
   "outputs": [
    {
     "data": {
      "text/plain": [
       "Counter({0: 12323, 1: 3053, 2: 555, 3: 98, 4: 10})"
      ]
     },
     "execution_count": 10,
     "metadata": {},
     "output_type": "execute_result"
    }
   ],
   "source": [
    "Counter(tmp1.values())"
   ]
  },
  {
   "cell_type": "markdown",
   "metadata": {},
   "source": [
    "So I select the encounters that have only 1 diagnosis and ignore the multi-diagnosis situations. There are 449 people have more than 1 diagnosis, and these diagnosis must come with a encounter sequence. But the encounters I have ignored may influece the people amount here."
   ]
  },
  {
   "cell_type": "code",
   "execution_count": 11,
   "metadata": {
    "collapsed": false
   },
   "outputs": [],
   "source": [
    "df1=df[df[['mNPDR', 'MNPDR', 'SNPDR', 'PDR']].sum(axis=1).isin([1])]"
   ]
  },
  {
   "cell_type": "code",
   "execution_count": 12,
   "metadata": {
    "collapsed": false
   },
   "outputs": [],
   "source": [
    "temp={k:v[['mNPDR', 'MNPDR', 'SNPDR', 'PDR']].sum(axis=0) for k,v in df1.groupby('Person_Nbr')}"
   ]
  },
  {
   "cell_type": "code",
   "execution_count": 13,
   "metadata": {
    "collapsed": false
   },
   "outputs": [
    {
     "data": {
      "text/plain": [
       "3629"
      ]
     },
     "execution_count": 13,
     "metadata": {},
     "output_type": "execute_result"
    }
   ],
   "source": [
    "len(temp)"
   ]
  },
  {
   "cell_type": "code",
   "execution_count": 14,
   "metadata": {
    "collapsed": false
   },
   "outputs": [
    {
     "data": {
      "text/plain": [
       "mNPDR    0\n",
       "MNPDR    2\n",
       "SNPDR    0\n",
       "PDR      0\n",
       "dtype: int64"
      ]
     },
     "execution_count": 14,
     "metadata": {},
     "output_type": "execute_result"
    }
   ],
   "source": [
    "temp[863]"
   ]
  },
  {
   "cell_type": "code",
   "execution_count": 15,
   "metadata": {
    "collapsed": false
   },
   "outputs": [],
   "source": [
    "temp1 = {k:len(v[~v.isin([0])].index.tolist()) for k,v in temp.items()}"
   ]
  },
  {
   "cell_type": "code",
   "execution_count": 16,
   "metadata": {
    "collapsed": false
   },
   "outputs": [
    {
     "data": {
      "text/plain": [
       "Counter({1: 3180, 2: 388, 3: 57, 4: 4})"
      ]
     },
     "execution_count": 16,
     "metadata": {},
     "output_type": "execute_result"
    }
   ],
   "source": [
    "Counter(temp1.values())"
   ]
  },
  {
   "cell_type": "markdown",
   "metadata": {},
   "source": [
    "The multi_diagnosis encounters may mislead our decision with 340 people, out of 663 people who have multiple diagnosis in total.  "
   ]
  },
  {
   "cell_type": "code",
   "execution_count": 17,
   "metadata": {
    "collapsed": true
   },
   "outputs": [],
   "source": [
    "df2=df[df[['mNPDR', 'MNPDR', 'SNPDR', 'PDR']].sum(axis=1).isin([2,3])]"
   ]
  },
  {
   "cell_type": "code",
   "execution_count": 18,
   "metadata": {
    "collapsed": true
   },
   "outputs": [],
   "source": [
    "temp2={k:v[['mNPDR', 'MNPDR', 'SNPDR', 'PDR']].sum(axis=0) for k,v in df2.groupby('Person_Nbr')}"
   ]
  },
  {
   "cell_type": "code",
   "execution_count": 19,
   "metadata": {
    "collapsed": false
   },
   "outputs": [
    {
     "data": {
      "text/plain": [
       "340"
      ]
     },
     "execution_count": 19,
     "metadata": {},
     "output_type": "execute_result"
    }
   ],
   "source": [
    "len(temp2)"
   ]
  },
  {
   "cell_type": "code",
   "execution_count": 20,
   "metadata": {
    "collapsed": false
   },
   "outputs": [
    {
     "data": {
      "text/plain": [
       "mNPDR    0\n",
       "MNPDR    1\n",
       "SNPDR    0\n",
       "PDR      1\n",
       "dtype: int64"
      ]
     },
     "execution_count": 20,
     "metadata": {},
     "output_type": "execute_result"
    }
   ],
   "source": [
    "temp2[863]"
   ]
  },
  {
   "cell_type": "code",
   "execution_count": 21,
   "metadata": {
    "collapsed": true
   },
   "outputs": [],
   "source": [
    "temp3 = {k:len(v[~v.isin([0])].index.tolist()) for k,v in temp2.items()}"
   ]
  },
  {
   "cell_type": "code",
   "execution_count": 22,
   "metadata": {
    "collapsed": false
   },
   "outputs": [
    {
     "data": {
      "text/plain": [
       "Counter({2: 305, 3: 31, 4: 4})"
      ]
     },
     "execution_count": 22,
     "metadata": {},
     "output_type": "execute_result"
    }
   ],
   "source": [
    "Counter(temp3.values())"
   ]
  },
  {
   "cell_type": "markdown",
   "metadata": {},
   "source": [
    "There are overlap between the sets I extracted above. \n",
    "\n",
    "Among 3180 people who is extracted in the previous step to own only one diagnosis throughout their entire record, 127 also have multi-diagnosis encounters at the same time. Shall we delete the multi_diagnosis ones from their records? I don't think it is a good idea... "
   ]
  },
  {
   "cell_type": "code",
   "execution_count": 23,
   "metadata": {
    "collapsed": false
   },
   "outputs": [
    {
     "data": {
      "text/plain": [
       "127"
      ]
     },
     "execution_count": 23,
     "metadata": {},
     "output_type": "execute_result"
    }
   ],
   "source": [
    "len(set([k for k,v in temp1.items() if v==1])&set(temp3.keys()))"
   ]
  },
  {
   "cell_type": "markdown",
   "metadata": {},
   "source": [
    "87 people only have multi-diagnosis encounters, they have no single-diagnosis encounters."
   ]
  },
  {
   "cell_type": "code",
   "execution_count": 24,
   "metadata": {
    "collapsed": false
   },
   "outputs": [
    {
     "data": {
      "text/plain": [
       "87"
      ]
     },
     "execution_count": 24,
     "metadata": {},
     "output_type": "execute_result"
    }
   ],
   "source": [
    "len([k for k in temp3.keys() if k not in temp1.keys()])"
   ]
  },
  {
   "cell_type": "markdown",
   "metadata": {},
   "source": [
    "Among 449 people who is extracted in the pervious step to own a diagnosis sequence, 126 have multi-diagnosis encounters. "
   ]
  },
  {
   "cell_type": "code",
   "execution_count": 25,
   "metadata": {
    "collapsed": false
   },
   "outputs": [
    {
     "data": {
      "text/plain": [
       "449"
      ]
     },
     "execution_count": 25,
     "metadata": {},
     "output_type": "execute_result"
    }
   ],
   "source": [
    "len(set([k for k,v in temp1.items() if v>1]))"
   ]
  },
  {
   "cell_type": "code",
   "execution_count": 27,
   "metadata": {
    "collapsed": false
   },
   "outputs": [
    {
     "data": {
      "text/plain": [
       "323"
      ]
     },
     "execution_count": 27,
     "metadata": {},
     "output_type": "execute_result"
    }
   ],
   "source": [
    "len([k1 for k1 in set([k for k,v in temp1.items() if v>1]) if k1 not in temp3.keys()])"
   ]
  },
  {
   "cell_type": "code",
   "execution_count": 26,
   "metadata": {
    "collapsed": false
   },
   "outputs": [
    {
     "data": {
      "text/plain": [
       "126"
      ]
     },
     "execution_count": 26,
     "metadata": {},
     "output_type": "execute_result"
    }
   ],
   "source": [
    "len(set([k for k,v in temp1.items() if v>1])&set(temp3.keys()))"
   ]
  },
  {
   "cell_type": "code",
   "execution_count": 43,
   "metadata": {
    "collapsed": false
   },
   "outputs": [
    {
     "data": {
      "text/plain": [
       "214"
      ]
     },
     "execution_count": 43,
     "metadata": {},
     "output_type": "execute_result"
    }
   ],
   "source": [
    "len([k1 for k1 in temp3.keys() if k1 not in set([k for k,v in temp1.items() if v>1])])"
   ]
  },
  {
   "cell_type": "markdown",
   "metadata": {},
   "source": [
    "### My conclusion: \n",
    "\n",
    "#### 3716 people have DR diagnosis. 663 of 3716 have multiple DR diagnosis throughout their entire record\n",
    "\n",
    "#### -323 of 663 have a pure diagnosis sequence. \n",
    "(This is the amount of people we can definitely use to study the diagnosis changing.)\n",
    "\n",
    "#### -126 of 663 have both diagnosis sequence and multi-diagnosis encounters\n",
    "(With some deletion/cleaning, this amount of people could be used by our purpose.)\n",
    "\n",
    "#### -214 of 663  have multi-diagnosis encounters\n",
    "##### --127 of 214 have both multi-diagnosis encounters and single-diagnosis encounters\n",
    "##### --87 people have only multi-diagnosis encounters\n",
    "(These people can't be used in my view, they have no difference with the single-diagnosis patients.)\n",
    "\n",
    "#### Of course all above may or may not have encounters without DR diagnosis"
   ]
  },
  {
   "cell_type": "code",
   "execution_count": 28,
   "metadata": {
    "collapsed": false
   },
   "outputs": [
    {
     "data": {
      "text/html": [
       "<div>\n",
       "<table border=\"1\" class=\"dataframe\">\n",
       "  <thead>\n",
       "    <tr style=\"text-align: right;\">\n",
       "      <th></th>\n",
       "      <th>Enc_Date</th>\n",
       "      <th>Person_Nbr</th>\n",
       "      <th>mNPDR</th>\n",
       "      <th>MNPDR</th>\n",
       "      <th>SNPDR</th>\n",
       "      <th>PDR</th>\n",
       "    </tr>\n",
       "    <tr>\n",
       "      <th>Enc_Nbr</th>\n",
       "      <th></th>\n",
       "      <th></th>\n",
       "      <th></th>\n",
       "      <th></th>\n",
       "      <th></th>\n",
       "      <th></th>\n",
       "    </tr>\n",
       "  </thead>\n",
       "  <tbody>\n",
       "    <tr>\n",
       "      <th>286486</th>\n",
       "      <td>2015-11-16 11:45:00</td>\n",
       "      <td>639475</td>\n",
       "      <td>False</td>\n",
       "      <td>True</td>\n",
       "      <td>False</td>\n",
       "      <td>False</td>\n",
       "    </tr>\n",
       "    <tr>\n",
       "      <th>483707</th>\n",
       "      <td>2011-11-23 13:15:00</td>\n",
       "      <td>639475</td>\n",
       "      <td>False</td>\n",
       "      <td>False</td>\n",
       "      <td>False</td>\n",
       "      <td>False</td>\n",
       "    </tr>\n",
       "    <tr>\n",
       "      <th>3723748</th>\n",
       "      <td>2011-12-04 19:15:00</td>\n",
       "      <td>639475</td>\n",
       "      <td>False</td>\n",
       "      <td>False</td>\n",
       "      <td>False</td>\n",
       "      <td>False</td>\n",
       "    </tr>\n",
       "    <tr>\n",
       "      <th>4539952</th>\n",
       "      <td>2014-10-08 08:15:00</td>\n",
       "      <td>639475</td>\n",
       "      <td>False</td>\n",
       "      <td>False</td>\n",
       "      <td>False</td>\n",
       "      <td>False</td>\n",
       "    </tr>\n",
       "    <tr>\n",
       "      <th>5154739</th>\n",
       "      <td>2016-08-02 23:45:00</td>\n",
       "      <td>639475</td>\n",
       "      <td>False</td>\n",
       "      <td>False</td>\n",
       "      <td>True</td>\n",
       "      <td>False</td>\n",
       "    </tr>\n",
       "    <tr>\n",
       "      <th>7605153</th>\n",
       "      <td>2014-05-21 03:15:00</td>\n",
       "      <td>639475</td>\n",
       "      <td>True</td>\n",
       "      <td>False</td>\n",
       "      <td>False</td>\n",
       "      <td>False</td>\n",
       "    </tr>\n",
       "    <tr>\n",
       "      <th>10912274</th>\n",
       "      <td>2016-08-06 03:30:00</td>\n",
       "      <td>639475</td>\n",
       "      <td>False</td>\n",
       "      <td>False</td>\n",
       "      <td>False</td>\n",
       "      <td>True</td>\n",
       "    </tr>\n",
       "    <tr>\n",
       "      <th>10960755</th>\n",
       "      <td>2016-07-22 13:00:00</td>\n",
       "      <td>639475</td>\n",
       "      <td>False</td>\n",
       "      <td>False</td>\n",
       "      <td>False</td>\n",
       "      <td>False</td>\n",
       "    </tr>\n",
       "    <tr>\n",
       "      <th>11416041</th>\n",
       "      <td>2011-11-17 17:45:00</td>\n",
       "      <td>639475</td>\n",
       "      <td>False</td>\n",
       "      <td>False</td>\n",
       "      <td>False</td>\n",
       "      <td>False</td>\n",
       "    </tr>\n",
       "    <tr>\n",
       "      <th>13482828</th>\n",
       "      <td>2016-10-04 10:30:00</td>\n",
       "      <td>639475</td>\n",
       "      <td>False</td>\n",
       "      <td>False</td>\n",
       "      <td>False</td>\n",
       "      <td>True</td>\n",
       "    </tr>\n",
       "  </tbody>\n",
       "</table>\n",
       "</div>"
      ],
      "text/plain": [
       "                    Enc_Date  Person_Nbr  mNPDR  MNPDR  SNPDR    PDR\n",
       "Enc_Nbr                                                             \n",
       "286486   2015-11-16 11:45:00      639475  False   True  False  False\n",
       "483707   2011-11-23 13:15:00      639475  False  False  False  False\n",
       "3723748  2011-12-04 19:15:00      639475  False  False  False  False\n",
       "4539952  2014-10-08 08:15:00      639475  False  False  False  False\n",
       "5154739  2016-08-02 23:45:00      639475  False  False   True  False\n",
       "7605153  2014-05-21 03:15:00      639475   True  False  False  False\n",
       "10912274 2016-08-06 03:30:00      639475  False  False  False   True\n",
       "10960755 2016-07-22 13:00:00      639475  False  False  False  False\n",
       "11416041 2011-11-17 17:45:00      639475  False  False  False  False\n",
       "13482828 2016-10-04 10:30:00      639475  False  False  False   True"
      ]
     },
     "execution_count": 28,
     "metadata": {},
     "output_type": "execute_result"
    }
   ],
   "source": [
    "# Example of pure diagnosis sequence\n",
    "df[df.Person_Nbr.isin([639475])]"
   ]
  },
  {
   "cell_type": "code",
   "execution_count": 29,
   "metadata": {
    "collapsed": false
   },
   "outputs": [
    {
     "data": {
      "text/html": [
       "<div>\n",
       "<table border=\"1\" class=\"dataframe\">\n",
       "  <thead>\n",
       "    <tr style=\"text-align: right;\">\n",
       "      <th></th>\n",
       "      <th>Enc_Date</th>\n",
       "      <th>Person_Nbr</th>\n",
       "      <th>mNPDR</th>\n",
       "      <th>MNPDR</th>\n",
       "      <th>SNPDR</th>\n",
       "      <th>PDR</th>\n",
       "    </tr>\n",
       "    <tr>\n",
       "      <th>Enc_Nbr</th>\n",
       "      <th></th>\n",
       "      <th></th>\n",
       "      <th></th>\n",
       "      <th></th>\n",
       "      <th></th>\n",
       "      <th></th>\n",
       "    </tr>\n",
       "  </thead>\n",
       "  <tbody>\n",
       "    <tr>\n",
       "      <th>2181817</th>\n",
       "      <td>2011-12-12 23:45:00</td>\n",
       "      <td>186925</td>\n",
       "      <td>True</td>\n",
       "      <td>True</td>\n",
       "      <td>False</td>\n",
       "      <td>True</td>\n",
       "    </tr>\n",
       "    <tr>\n",
       "      <th>5676339</th>\n",
       "      <td>2013-05-06 10:00:00</td>\n",
       "      <td>186925</td>\n",
       "      <td>False</td>\n",
       "      <td>False</td>\n",
       "      <td>True</td>\n",
       "      <td>False</td>\n",
       "    </tr>\n",
       "    <tr>\n",
       "      <th>7103183</th>\n",
       "      <td>2016-07-05 21:00:00</td>\n",
       "      <td>186925</td>\n",
       "      <td>False</td>\n",
       "      <td>False</td>\n",
       "      <td>False</td>\n",
       "      <td>True</td>\n",
       "    </tr>\n",
       "    <tr>\n",
       "      <th>8432456</th>\n",
       "      <td>2013-04-03 03:30:00</td>\n",
       "      <td>186925</td>\n",
       "      <td>False</td>\n",
       "      <td>False</td>\n",
       "      <td>True</td>\n",
       "      <td>True</td>\n",
       "    </tr>\n",
       "    <tr>\n",
       "      <th>9577267</th>\n",
       "      <td>2015-12-14 01:45:00</td>\n",
       "      <td>186925</td>\n",
       "      <td>False</td>\n",
       "      <td>False</td>\n",
       "      <td>True</td>\n",
       "      <td>False</td>\n",
       "    </tr>\n",
       "    <tr>\n",
       "      <th>9833154</th>\n",
       "      <td>2013-07-19 23:15:00</td>\n",
       "      <td>186925</td>\n",
       "      <td>False</td>\n",
       "      <td>False</td>\n",
       "      <td>True</td>\n",
       "      <td>True</td>\n",
       "    </tr>\n",
       "    <tr>\n",
       "      <th>9942232</th>\n",
       "      <td>2016-03-02 02:45:00</td>\n",
       "      <td>186925</td>\n",
       "      <td>False</td>\n",
       "      <td>False</td>\n",
       "      <td>False</td>\n",
       "      <td>True</td>\n",
       "    </tr>\n",
       "    <tr>\n",
       "      <th>11265339</th>\n",
       "      <td>2016-02-06 08:00:00</td>\n",
       "      <td>186925</td>\n",
       "      <td>False</td>\n",
       "      <td>False</td>\n",
       "      <td>False</td>\n",
       "      <td>True</td>\n",
       "    </tr>\n",
       "    <tr>\n",
       "      <th>11664322</th>\n",
       "      <td>2016-09-06 08:45:00</td>\n",
       "      <td>186925</td>\n",
       "      <td>False</td>\n",
       "      <td>False</td>\n",
       "      <td>False</td>\n",
       "      <td>True</td>\n",
       "    </tr>\n",
       "    <tr>\n",
       "      <th>14092477</th>\n",
       "      <td>2012-07-20 01:15:00</td>\n",
       "      <td>186925</td>\n",
       "      <td>True</td>\n",
       "      <td>False</td>\n",
       "      <td>False</td>\n",
       "      <td>False</td>\n",
       "    </tr>\n",
       "    <tr>\n",
       "      <th>14409371</th>\n",
       "      <td>2014-01-16 16:15:00</td>\n",
       "      <td>186925</td>\n",
       "      <td>False</td>\n",
       "      <td>False</td>\n",
       "      <td>True</td>\n",
       "      <td>True</td>\n",
       "    </tr>\n",
       "    <tr>\n",
       "      <th>14484579</th>\n",
       "      <td>2013-12-09 02:30:00</td>\n",
       "      <td>186925</td>\n",
       "      <td>False</td>\n",
       "      <td>False</td>\n",
       "      <td>False</td>\n",
       "      <td>True</td>\n",
       "    </tr>\n",
       "    <tr>\n",
       "      <th>14496790</th>\n",
       "      <td>2016-06-18 04:30:00</td>\n",
       "      <td>186925</td>\n",
       "      <td>False</td>\n",
       "      <td>False</td>\n",
       "      <td>False</td>\n",
       "      <td>True</td>\n",
       "    </tr>\n",
       "    <tr>\n",
       "      <th>14702115</th>\n",
       "      <td>2013-12-07 22:45:00</td>\n",
       "      <td>186925</td>\n",
       "      <td>False</td>\n",
       "      <td>False</td>\n",
       "      <td>True</td>\n",
       "      <td>True</td>\n",
       "    </tr>\n",
       "    <tr>\n",
       "      <th>15024156</th>\n",
       "      <td>2014-03-15 06:00:00</td>\n",
       "      <td>186925</td>\n",
       "      <td>False</td>\n",
       "      <td>False</td>\n",
       "      <td>True</td>\n",
       "      <td>True</td>\n",
       "    </tr>\n",
       "    <tr>\n",
       "      <th>16450694</th>\n",
       "      <td>2016-01-18 06:45:00</td>\n",
       "      <td>186925</td>\n",
       "      <td>False</td>\n",
       "      <td>False</td>\n",
       "      <td>True</td>\n",
       "      <td>True</td>\n",
       "    </tr>\n",
       "    <tr>\n",
       "      <th>16529961</th>\n",
       "      <td>2013-02-11 02:30:00</td>\n",
       "      <td>186925</td>\n",
       "      <td>True</td>\n",
       "      <td>False</td>\n",
       "      <td>False</td>\n",
       "      <td>False</td>\n",
       "    </tr>\n",
       "  </tbody>\n",
       "</table>\n",
       "</div>"
      ],
      "text/plain": [
       "                    Enc_Date  Person_Nbr  mNPDR  MNPDR  SNPDR    PDR\n",
       "Enc_Nbr                                                             \n",
       "2181817  2011-12-12 23:45:00      186925   True   True  False   True\n",
       "5676339  2013-05-06 10:00:00      186925  False  False   True  False\n",
       "7103183  2016-07-05 21:00:00      186925  False  False  False   True\n",
       "8432456  2013-04-03 03:30:00      186925  False  False   True   True\n",
       "9577267  2015-12-14 01:45:00      186925  False  False   True  False\n",
       "9833154  2013-07-19 23:15:00      186925  False  False   True   True\n",
       "9942232  2016-03-02 02:45:00      186925  False  False  False   True\n",
       "11265339 2016-02-06 08:00:00      186925  False  False  False   True\n",
       "11664322 2016-09-06 08:45:00      186925  False  False  False   True\n",
       "14092477 2012-07-20 01:15:00      186925   True  False  False  False\n",
       "14409371 2014-01-16 16:15:00      186925  False  False   True   True\n",
       "14484579 2013-12-09 02:30:00      186925  False  False  False   True\n",
       "14496790 2016-06-18 04:30:00      186925  False  False  False   True\n",
       "14702115 2013-12-07 22:45:00      186925  False  False   True   True\n",
       "15024156 2014-03-15 06:00:00      186925  False  False   True   True\n",
       "16450694 2016-01-18 06:45:00      186925  False  False   True   True\n",
       "16529961 2013-02-11 02:30:00      186925   True  False  False  False"
      ]
     },
     "execution_count": 29,
     "metadata": {},
     "output_type": "execute_result"
    }
   ],
   "source": [
    "# Example of mixture of diagnosis sequence and multi-diagnosis encounters\n",
    "df[df.Person_Nbr.isin([186925])]"
   ]
  },
  {
   "cell_type": "code",
   "execution_count": 53,
   "metadata": {
    "collapsed": false
   },
   "outputs": [
    {
     "data": {
      "text/html": [
       "<div>\n",
       "<table border=\"1\" class=\"dataframe\">\n",
       "  <thead>\n",
       "    <tr style=\"text-align: right;\">\n",
       "      <th></th>\n",
       "      <th>Enc_Date</th>\n",
       "      <th>Person_Nbr</th>\n",
       "      <th>mNPDR</th>\n",
       "      <th>MNPDR</th>\n",
       "      <th>SNPDR</th>\n",
       "      <th>PDR</th>\n",
       "    </tr>\n",
       "    <tr>\n",
       "      <th>Enc_Nbr</th>\n",
       "      <th></th>\n",
       "      <th></th>\n",
       "      <th></th>\n",
       "      <th></th>\n",
       "      <th></th>\n",
       "      <th></th>\n",
       "    </tr>\n",
       "  </thead>\n",
       "  <tbody>\n",
       "    <tr>\n",
       "      <th>2513688</th>\n",
       "      <td>2013-09-13 03:30:00</td>\n",
       "      <td>138753</td>\n",
       "      <td>False</td>\n",
       "      <td>False</td>\n",
       "      <td>True</td>\n",
       "      <td>False</td>\n",
       "    </tr>\n",
       "    <tr>\n",
       "      <th>15601634</th>\n",
       "      <td>2013-08-14 03:00:00</td>\n",
       "      <td>138753</td>\n",
       "      <td>False</td>\n",
       "      <td>True</td>\n",
       "      <td>True</td>\n",
       "      <td>False</td>\n",
       "    </tr>\n",
       "  </tbody>\n",
       "</table>\n",
       "</div>"
      ],
      "text/plain": [
       "                    Enc_Date  Person_Nbr  mNPDR  MNPDR SNPDR    PDR\n",
       "Enc_Nbr                                                            \n",
       "2513688  2013-09-13 03:30:00      138753  False  False  True  False\n",
       "15601634 2013-08-14 03:00:00      138753  False   True  True  False"
      ]
     },
     "execution_count": 53,
     "metadata": {},
     "output_type": "execute_result"
    }
   ],
   "source": [
    "# Example of people who have both multi-diagnosis encounters and single-diagnosis encounters\n",
    "df[df.Person_Nbr.isin([138753])]"
   ]
  },
  {
   "cell_type": "code",
   "execution_count": 52,
   "metadata": {
    "collapsed": false
   },
   "outputs": [
    {
     "data": {
      "text/html": [
       "<div>\n",
       "<table border=\"1\" class=\"dataframe\">\n",
       "  <thead>\n",
       "    <tr style=\"text-align: right;\">\n",
       "      <th></th>\n",
       "      <th>Enc_Date</th>\n",
       "      <th>Person_Nbr</th>\n",
       "      <th>mNPDR</th>\n",
       "      <th>MNPDR</th>\n",
       "      <th>SNPDR</th>\n",
       "      <th>PDR</th>\n",
       "    </tr>\n",
       "    <tr>\n",
       "      <th>Enc_Nbr</th>\n",
       "      <th></th>\n",
       "      <th></th>\n",
       "      <th></th>\n",
       "      <th></th>\n",
       "      <th></th>\n",
       "      <th></th>\n",
       "    </tr>\n",
       "  </thead>\n",
       "  <tbody>\n",
       "    <tr>\n",
       "      <th>5528625</th>\n",
       "      <td>2012-10-15 21:15:00</td>\n",
       "      <td>476849</td>\n",
       "      <td>True</td>\n",
       "      <td>True</td>\n",
       "      <td>False</td>\n",
       "      <td>False</td>\n",
       "    </tr>\n",
       "  </tbody>\n",
       "</table>\n",
       "</div>"
      ],
      "text/plain": [
       "                   Enc_Date  Person_Nbr mNPDR MNPDR  SNPDR    PDR\n",
       "Enc_Nbr                                                          \n",
       "5528625 2012-10-15 21:15:00      476849  True  True  False  False"
      ]
     },
     "execution_count": 52,
     "metadata": {},
     "output_type": "execute_result"
    }
   ],
   "source": [
    "# Example of people who have only multi-diagnosis encounters\n",
    "df[df.Person_Nbr.isin([476849])]"
   ]
  },
  {
   "cell_type": "markdown",
   "metadata": {},
   "source": [
    "For people who have pure diagnosis sequence, how is their situation changing over time?"
   ]
  },
  {
   "cell_type": "code",
   "execution_count": 30,
   "metadata": {
    "collapsed": true
   },
   "outputs": [],
   "source": [
    "index = [k1 for k1 in set([k for k,v in temp1.items() if v>1]) if k1 not in temp3.keys()]"
   ]
  },
  {
   "cell_type": "code",
   "execution_count": 31,
   "metadata": {
    "collapsed": false
   },
   "outputs": [
    {
     "data": {
      "text/html": [
       "<div>\n",
       "<table border=\"1\" class=\"dataframe\">\n",
       "  <thead>\n",
       "    <tr style=\"text-align: right;\">\n",
       "      <th></th>\n",
       "      <th>Enc_Date</th>\n",
       "      <th>Person_Nbr</th>\n",
       "      <th>mNPDR</th>\n",
       "      <th>MNPDR</th>\n",
       "      <th>SNPDR</th>\n",
       "      <th>PDR</th>\n",
       "    </tr>\n",
       "    <tr>\n",
       "      <th>Enc_Nbr</th>\n",
       "      <th></th>\n",
       "      <th></th>\n",
       "      <th></th>\n",
       "      <th></th>\n",
       "      <th></th>\n",
       "      <th></th>\n",
       "    </tr>\n",
       "  </thead>\n",
       "  <tbody>\n",
       "    <tr>\n",
       "      <th>8341</th>\n",
       "      <td>2013-11-03 04:30:00</td>\n",
       "      <td>1003061</td>\n",
       "      <td>False</td>\n",
       "      <td>False</td>\n",
       "      <td>False</td>\n",
       "      <td>False</td>\n",
       "    </tr>\n",
       "    <tr>\n",
       "      <th>9831</th>\n",
       "      <td>2014-06-09 16:45:00</td>\n",
       "      <td>800883</td>\n",
       "      <td>False</td>\n",
       "      <td>True</td>\n",
       "      <td>False</td>\n",
       "      <td>False</td>\n",
       "    </tr>\n",
       "    <tr>\n",
       "      <th>16624</th>\n",
       "      <td>2015-02-06 06:00:00</td>\n",
       "      <td>556527</td>\n",
       "      <td>False</td>\n",
       "      <td>False</td>\n",
       "      <td>False</td>\n",
       "      <td>False</td>\n",
       "    </tr>\n",
       "    <tr>\n",
       "      <th>20261</th>\n",
       "      <td>2012-04-21 04:45:00</td>\n",
       "      <td>764764</td>\n",
       "      <td>False</td>\n",
       "      <td>False</td>\n",
       "      <td>False</td>\n",
       "      <td>True</td>\n",
       "    </tr>\n",
       "    <tr>\n",
       "      <th>44860</th>\n",
       "      <td>2016-10-17 16:15:00</td>\n",
       "      <td>771595</td>\n",
       "      <td>False</td>\n",
       "      <td>False</td>\n",
       "      <td>False</td>\n",
       "      <td>True</td>\n",
       "    </tr>\n",
       "  </tbody>\n",
       "</table>\n",
       "</div>"
      ],
      "text/plain": [
       "                   Enc_Date  Person_Nbr  mNPDR  MNPDR  SNPDR    PDR\n",
       "Enc_Nbr                                                            \n",
       "8341    2013-11-03 04:30:00     1003061  False  False  False  False\n",
       "9831    2014-06-09 16:45:00      800883  False   True  False  False\n",
       "16624   2015-02-06 06:00:00      556527  False  False  False  False\n",
       "20261   2012-04-21 04:45:00      764764  False  False  False   True\n",
       "44860   2016-10-17 16:15:00      771595  False  False  False   True"
      ]
     },
     "execution_count": 31,
     "metadata": {},
     "output_type": "execute_result"
    }
   ],
   "source": [
    "df3 = df[df[['mNPDR', 'MNPDR', 'SNPDR', 'PDR']].sum(axis=1).isin([0,1])]\n",
    "df3 = df3[df3.Person_Nbr.isin(index)]\n",
    "df3.head()"
   ]
  },
  {
   "cell_type": "code",
   "execution_count": 39,
   "metadata": {
    "collapsed": false,
    "scrolled": true
   },
   "outputs": [
    {
     "data": {
      "text/plain": [
       "(12789760,\n",
       " [{Timestamp('2012-01-28 08:30:00'): 'mNPDR'},\n",
       "  {Timestamp('2012-03-19 07:45:00'): 'MNPDR'},\n",
       "  {Timestamp('2012-09-03 19:45:00'): 'MNPDR'},\n",
       "  {Timestamp('2013-09-03 02:45:00'): 'MNPDR'},\n",
       "  {Timestamp('2014-07-04 11:45:00'): 'MNPDR'},\n",
       "  {Timestamp('2014-08-02 12:30:00'): 'unknown'},\n",
       "  {Timestamp('2014-10-12 22:15:00'): 'mNPDR'},\n",
       "  {Timestamp('2015-07-20 06:15:00'): 'MNPDR'},\n",
       "  {Timestamp('2016-01-07 21:15:00'): 'PDR'}])"
      ]
     },
     "execution_count": 39,
     "metadata": {},
     "output_type": "execute_result"
    }
   ],
   "source": [
    "import pprint\n",
    "d={}\n",
    "for k,v in df3.groupby('Person_Nbr'):\n",
    "    l=[]\n",
    "    t = v.sort_values(by=['Enc_Date'], ascending=True)\n",
    "    for k in t.index:\n",
    "        t1=t.loc[k,]\n",
    "        if len(t1[t1==True])>0:\n",
    "            l.append({t.loc[k,'Enc_Date']: (t1[t1==True].index[0])})\n",
    "        else:\n",
    "            l.append({t.loc[k,'Enc_Date']: 'unknown'})\n",
    "    d[k]=l\n",
    "    \n",
    "d.items()[0]"
   ]
  },
  {
   "cell_type": "code",
   "execution_count": 40,
   "metadata": {
    "collapsed": false
   },
   "outputs": [],
   "source": [
    "dictionary={'mNPDR':1, 'MNPDR':2, 'SNPDR':3, 'PDR':4}\n",
    "def f(dic):\n",
    "    l=[]\n",
    "    t=[]\n",
    "    for idx, v in enumerate(dic):\n",
    "        t.append(v.keys()[0])\n",
    "        if v.values()[0]=='unknown':\n",
    "            if idx!=0:\n",
    "                l.append(l[idx-1])\n",
    "            else:\n",
    "                l.append(0)\n",
    "        else:\n",
    "            l.append(dictionary[v.values()[0]])\n",
    "    return (t,l)"
   ]
  },
  {
   "cell_type": "code",
   "execution_count": 41,
   "metadata": {
    "collapsed": false
   },
   "outputs": [],
   "source": [
    "import matplotlib.pyplot as plt\n",
    "import matplotlib.dates "
   ]
  },
  {
   "cell_type": "code",
   "execution_count": 42,
   "metadata": {
    "collapsed": false
   },
   "outputs": [
    {
     "data": {
      "image/png": "[encoded data removed]",
      "text/plain": [
       "<matplotlib.figure.Figure at 0x12dde2a90>"
      ]
     },
     "metadata": {},
     "output_type": "display_data"
    }
   ],
   "source": [
    "i=0\n",
    "for k,v in d.items():\n",
    "    t,l = f(v)\n",
    "    plt.plot(t,l)\n",
    "    i+=1\n",
    "    if i>9:\n",
    "        break\n",
    "plt.yticks(range(0,5), ['unknown', 'mNPDR', 'MNPDR', 'SNPDR', 'PDR'])\n",
    "plt.ylabel('Severity of DR')\n",
    "plt.xlabel('Year')\n",
    "#plt.savefig('hhh.jpg')\n",
    "plt.show()"
   ]
  },
  {
   "cell_type": "code",
   "execution_count": null,
   "metadata": {
    "collapsed": true
   },
   "outputs": [],
   "source": []
  },
  {
   "cell_type": "code",
   "execution_count": null,
   "metadata": {
    "collapsed": true
   },
   "outputs": [],
   "source": []
  }
 ],
 "metadata": {
  "kernelspec": {
   "display_name": "Python 2",
   "language": "python",
   "name": "python2"
  },
  "language_info": {
   "codemirror_mode": {
    "name": "ipython",
    "version": 2
   },
   "file_extension": ".py",
   "mimetype": "text/x-python",
   "name": "python",
   "nbconvert_exporter": "python",
   "pygments_lexer": "ipython2",
   "version": "2.7.13"
  }
 },
 "nbformat": 4,
 "nbformat_minor": 2
}
