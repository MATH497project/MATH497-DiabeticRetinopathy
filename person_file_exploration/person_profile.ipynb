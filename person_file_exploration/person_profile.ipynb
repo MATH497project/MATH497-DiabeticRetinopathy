{
 "cells": [
  {
   "cell_type": "code",
   "execution_count": 1,
   "metadata": {
    "collapsed": false
   },
   "outputs": [],
   "source": [
    "import pandas as pd\n",
    "import numpy as np\n",
    "from pandas import DataFrame\n",
    "import os\n",
    "import reader"
   ]
  },
  {
   "cell_type": "code",
   "execution_count": 32,
   "metadata": {
    "collapsed": false
   },
   "outputs": [
    {
     "name": "stdout",
     "output_type": "stream",
     "text": [
      "Local data read/write folder path:\n",
      "\tCustomed path: /Users/Dan/百度云同步盘/丝打底/2017 spring/MATH 497/code and data/data/\n",
      "\n",
      "Data: systemic_disease_list \n",
      "File: systemic_disease_list.pickle\n",
      "File already exists.\n",
      "\n",
      "Data: SNOMED_problem_list \n",
      "File: SNOMED_problem_list.pickle\n",
      "File already exists.\n",
      "\n",
      "Data: macula_findings_for_Enc \n",
      "File: macula_findings_for_Enc.pickle\n",
      "File already exists.\n",
      "\n",
      "Data: SL_Lens_for_Enc \n",
      "File: SL_Lens_for_Enc.pickle\n",
      "File already exists.\n",
      "\n",
      "Data: family_hist_list \n",
      "File: family_hist_list.pickle\n",
      "File already exists.\n",
      "\n",
      "Data: systemic_disease_for_Enc \n",
      "File: systemic_disease_for_Enc.pickle\n",
      "File already exists.\n",
      "\n",
      "Data: family_hist_for_Enc \n",
      "File: family_hist_for_Enc.pickle\n",
      "File already exists.\n",
      "\n",
      "Data: all_encounter_data \n",
      "File: all_encounter_data.pickle\n",
      "File already exists.\n",
      "\n",
      "Data: encounters \n",
      "File: encounters.pickle\n",
      "File already exists.\n",
      "\n",
      "Data: demographics \n",
      "File: demographics.pickle\n",
      "File already exists.\n",
      "\n",
      "Data: ICD_for_Enc \n",
      "File: ICD_for_Enc.pickle\n",
      "File already exists.\n"
     ]
    }
   ],
   "source": [
    "path = os.getcwd()+'/data/'\n",
    "data = reader.Data(path)"
   ]
  },
  {
   "cell_type": "code",
   "execution_count": 33,
   "metadata": {
    "collapsed": false
   },
   "outputs": [
    {
     "data": {
      "text/html": [
       "<div>\n",
       "<table border=\"1\" class=\"dataframe\">\n",
       "  <thead>\n",
       "    <tr style=\"text-align: right;\">\n",
       "      <th></th>\n",
       "      <th>﻿Person_ID</th>\n",
       "      <th>Person_Nbr</th>\n",
       "      <th>DOB</th>\n",
       "      <th>Gender</th>\n",
       "      <th>Race</th>\n",
       "      <th>Ethnicity</th>\n",
       "      <th>Zip</th>\n",
       "      <th>Age_Censored</th>\n",
       "    </tr>\n",
       "  </thead>\n",
       "  <tbody>\n",
       "    <tr>\n",
       "      <th>14132</th>\n",
       "      <td>18405351-AC64-46A2-A003-8F7889351A13</td>\n",
       "      <td>33</td>\n",
       "      <td>1948-10-15</td>\n",
       "      <td>F</td>\n",
       "      <td>Black/African American (Not Hispanic)</td>\n",
       "      <td>Declined to specify</td>\n",
       "      <td>60616</td>\n",
       "      <td>None</td>\n",
       "    </tr>\n",
       "    <tr>\n",
       "      <th>8747</th>\n",
       "      <td>4ACD51E8-4A9B-4AA6-B635-166ADA5EF02E</td>\n",
       "      <td>89</td>\n",
       "      <td>1955-09-04</td>\n",
       "      <td>M</td>\n",
       "      <td>Declined to specify</td>\n",
       "      <td>Declined to specify</td>\n",
       "      <td>60652</td>\n",
       "      <td>None</td>\n",
       "    </tr>\n",
       "    <tr>\n",
       "      <th>2129</th>\n",
       "      <td>DF25CE0F-E45A-44D2-BE43-F49FE4F5E280</td>\n",
       "      <td>112</td>\n",
       "      <td>1932-11-19</td>\n",
       "      <td>F</td>\n",
       "      <td>NaN</td>\n",
       "      <td>NaN</td>\n",
       "      <td>606372549</td>\n",
       "      <td>None</td>\n",
       "    </tr>\n",
       "    <tr>\n",
       "      <th>6591</th>\n",
       "      <td>7027DD58-6465-496C-880A-A6E825C155A8</td>\n",
       "      <td>146</td>\n",
       "      <td>1948-12-19</td>\n",
       "      <td>F</td>\n",
       "      <td>Declined to specify</td>\n",
       "      <td>Declined to specify</td>\n",
       "      <td>60615</td>\n",
       "      <td>None</td>\n",
       "    </tr>\n",
       "    <tr>\n",
       "      <th>16909</th>\n",
       "      <td>395DD5E7-45F9-456E-A127-9AB929E872F7</td>\n",
       "      <td>196</td>\n",
       "      <td>1955-02-21</td>\n",
       "      <td>F</td>\n",
       "      <td>Declined to specify</td>\n",
       "      <td>Declined to specify</td>\n",
       "      <td>60615</td>\n",
       "      <td>None</td>\n",
       "    </tr>\n",
       "  </tbody>\n",
       "</table>\n",
       "</div>"
      ],
      "text/plain": [
       "                                 ﻿Person_ID  Person_Nbr        DOB Gender  \\\n",
       "14132  18405351-AC64-46A2-A003-8F7889351A13          33 1948-10-15      F   \n",
       "8747   4ACD51E8-4A9B-4AA6-B635-166ADA5EF02E          89 1955-09-04      M   \n",
       "2129   DF25CE0F-E45A-44D2-BE43-F49FE4F5E280         112 1932-11-19      F   \n",
       "6591   7027DD58-6465-496C-880A-A6E825C155A8         146 1948-12-19      F   \n",
       "16909  395DD5E7-45F9-456E-A127-9AB929E872F7         196 1955-02-21      F   \n",
       "\n",
       "                                        Race            Ethnicity        Zip  \\\n",
       "14132  Black/African American (Not Hispanic)  Declined to specify      60616   \n",
       "8747                     Declined to specify  Declined to specify      60652   \n",
       "2129                                     NaN                  NaN  606372549   \n",
       "6591                     Declined to specify  Declined to specify      60615   \n",
       "16909                    Declined to specify  Declined to specify      60615   \n",
       "\n",
       "      Age_Censored  \n",
       "14132         None  \n",
       "8747          None  \n",
       "2129          None  \n",
       "6591          None  \n",
       "16909         None  "
      ]
     },
     "execution_count": 33,
     "metadata": {},
     "output_type": "execute_result"
    }
   ],
   "source": [
    "data['demographics'].head()"
   ]
  },
  {
   "cell_type": "code",
   "execution_count": 4,
   "metadata": {
    "collapsed": false
   },
   "outputs": [
    {
     "data": {
      "text/html": [
       "<div>\n",
       "<table border=\"1\" class=\"dataframe\">\n",
       "  <thead>\n",
       "    <tr style=\"text-align: right;\">\n",
       "      <th></th>\n",
       "      <th>Person_ID</th>\n",
       "      <th>Person_Nbr</th>\n",
       "      <th>Date_Created</th>\n",
       "      <th>Code</th>\n",
       "      <th>Code_System</th>\n",
       "      <th>Family_History</th>\n",
       "      <th>Relation</th>\n",
       "    </tr>\n",
       "  </thead>\n",
       "  <tbody>\n",
       "    <tr>\n",
       "      <th>47872</th>\n",
       "      <td>80d3df88-dddf-5ad3-7cc1-b7b1ac6151fa</td>\n",
       "      <td>33</td>\n",
       "      <td>2014-12-18 14:47:15.980</td>\n",
       "      <td>160347007</td>\n",
       "      <td>SNOMED</td>\n",
       "      <td>Glaucoma</td>\n",
       "      <td>Father</td>\n",
       "    </tr>\n",
       "    <tr>\n",
       "      <th>47869</th>\n",
       "      <td>80d3df88-dddf-5ad3-7cc1-b7b1ac6151fa</td>\n",
       "      <td>33</td>\n",
       "      <td>2014-12-18 14:47:26.897</td>\n",
       "      <td>160274005</td>\n",
       "      <td>SNOMED</td>\n",
       "      <td>No history of Diabetes mellitus</td>\n",
       "      <td>Mother</td>\n",
       "    </tr>\n",
       "    <tr>\n",
       "      <th>47867</th>\n",
       "      <td>80d3df88-dddf-5ad3-7cc1-b7b1ac6151fa</td>\n",
       "      <td>33</td>\n",
       "      <td>2014-12-18 14:47:28.590</td>\n",
       "      <td>160274005</td>\n",
       "      <td>SNOMED</td>\n",
       "      <td>No history of Diabetes mellitus</td>\n",
       "      <td>Father</td>\n",
       "    </tr>\n",
       "    <tr>\n",
       "      <th>47871</th>\n",
       "      <td>80d3df88-dddf-5ad3-7cc1-b7b1ac6151fa</td>\n",
       "      <td>33</td>\n",
       "      <td>2014-12-18 14:47:29.563</td>\n",
       "      <td>160267000</td>\n",
       "      <td>SNOMED</td>\n",
       "      <td>No history of Glaucoma</td>\n",
       "      <td>Mother</td>\n",
       "    </tr>\n",
       "    <tr>\n",
       "      <th>47868</th>\n",
       "      <td>80d3df88-dddf-5ad3-7cc1-b7b1ac6151fa</td>\n",
       "      <td>33</td>\n",
       "      <td>2014-12-18 15:55:35.837</td>\n",
       "      <td>439724007</td>\n",
       "      <td>SNOMED</td>\n",
       "      <td>Heart disease</td>\n",
       "      <td>Brother</td>\n",
       "    </tr>\n",
       "  </tbody>\n",
       "</table>\n",
       "</div>"
      ],
      "text/plain": [
       "                                  Person_ID  Person_Nbr  \\\n",
       "47872  80d3df88-dddf-5ad3-7cc1-b7b1ac6151fa          33   \n",
       "47869  80d3df88-dddf-5ad3-7cc1-b7b1ac6151fa          33   \n",
       "47867  80d3df88-dddf-5ad3-7cc1-b7b1ac6151fa          33   \n",
       "47871  80d3df88-dddf-5ad3-7cc1-b7b1ac6151fa          33   \n",
       "47868  80d3df88-dddf-5ad3-7cc1-b7b1ac6151fa          33   \n",
       "\n",
       "                 Date_Created       Code Code_System  \\\n",
       "47872 2014-12-18 14:47:15.980  160347007      SNOMED   \n",
       "47869 2014-12-18 14:47:26.897  160274005      SNOMED   \n",
       "47867 2014-12-18 14:47:28.590  160274005      SNOMED   \n",
       "47871 2014-12-18 14:47:29.563  160267000      SNOMED   \n",
       "47868 2014-12-18 15:55:35.837  439724007      SNOMED   \n",
       "\n",
       "                        Family_History Relation  \n",
       "47872                         Glaucoma   Father  \n",
       "47869  No history of Diabetes mellitus   Mother  \n",
       "47867  No history of Diabetes mellitus   Father  \n",
       "47871           No history of Glaucoma   Mother  \n",
       "47868                    Heart disease  Brother  "
      ]
     },
     "execution_count": 4,
     "metadata": {},
     "output_type": "execute_result"
    }
   ],
   "source": [
    "data['family_hist_list'].head()"
   ]
  },
  {
   "cell_type": "markdown",
   "metadata": {
    "collapsed": false
   },
   "source": [
    "There are 443 different relationships"
   ]
  },
  {
   "cell_type": "code",
   "execution_count": 53,
   "metadata": {
    "collapsed": false
   },
   "outputs": [
    {
     "data": {
      "text/plain": [
       "443"
      ]
     },
     "execution_count": 53,
     "metadata": {},
     "output_type": "execute_result"
    }
   ],
   "source": [
    "temp=list(data['family_hist_list'][data['family_hist_list'].Relation.notnull()].Relation.drop_duplicates())\n",
    "len(temp)"
   ]
  },
  {
   "cell_type": "code",
   "execution_count": 6,
   "metadata": {
    "collapsed": false
   },
   "outputs": [
    {
     "data": {
      "text/html": [
       "<div>\n",
       "<table border=\"1\" class=\"dataframe\">\n",
       "  <thead>\n",
       "    <tr style=\"text-align: right;\">\n",
       "      <th></th>\n",
       "      <th>﻿Person_ID</th>\n",
       "      <th>Person_Nbr</th>\n",
       "      <th>Enc_ID</th>\n",
       "      <th>Enc_Nbr</th>\n",
       "      <th>Enc_Timestamp</th>\n",
       "    </tr>\n",
       "  </thead>\n",
       "  <tbody>\n",
       "    <tr>\n",
       "      <th>10335</th>\n",
       "      <td>18405351-AC64-46A2-A003-8F7889351A13</td>\n",
       "      <td>33</td>\n",
       "      <td>97825c51-4462-eade-1c1d-2baa3400c033</td>\n",
       "      <td>123227</td>\n",
       "      <td>2014-12-18 14:00:00</td>\n",
       "    </tr>\n",
       "    <tr>\n",
       "      <th>59383</th>\n",
       "      <td>4ACD51E8-4A9B-4AA6-B635-166ADA5EF02E</td>\n",
       "      <td>89</td>\n",
       "      <td>a6d9d991-4ff4-79b5-304d-f1b2bff9d6d0</td>\n",
       "      <td>12870648</td>\n",
       "      <td>2012-10-16 03:45:00</td>\n",
       "    </tr>\n",
       "    <tr>\n",
       "      <th>56011</th>\n",
       "      <td>4ACD51E8-4A9B-4AA6-B635-166ADA5EF02E</td>\n",
       "      <td>89</td>\n",
       "      <td>fe5eb87c-39b3-4314-0172-4642d51de417</td>\n",
       "      <td>4126172</td>\n",
       "      <td>2014-03-12 15:30:00</td>\n",
       "    </tr>\n",
       "    <tr>\n",
       "      <th>78800</th>\n",
       "      <td>4ACD51E8-4A9B-4AA6-B635-166ADA5EF02E</td>\n",
       "      <td>89</td>\n",
       "      <td>ea3c2622-6d1d-53ab-ddf0-9764927f1507</td>\n",
       "      <td>9217142</td>\n",
       "      <td>2014-04-17 18:45:00</td>\n",
       "    </tr>\n",
       "    <tr>\n",
       "      <th>3870</th>\n",
       "      <td>4ACD51E8-4A9B-4AA6-B635-166ADA5EF02E</td>\n",
       "      <td>89</td>\n",
       "      <td>71d10fa4-3b0d-fa52-cfbd-ffd0f3d3532d</td>\n",
       "      <td>14968450</td>\n",
       "      <td>2014-05-25 10:45:00</td>\n",
       "    </tr>\n",
       "  </tbody>\n",
       "</table>\n",
       "</div>"
      ],
      "text/plain": [
       "                                 ﻿Person_ID  Person_Nbr  \\\n",
       "10335  18405351-AC64-46A2-A003-8F7889351A13          33   \n",
       "59383  4ACD51E8-4A9B-4AA6-B635-166ADA5EF02E          89   \n",
       "56011  4ACD51E8-4A9B-4AA6-B635-166ADA5EF02E          89   \n",
       "78800  4ACD51E8-4A9B-4AA6-B635-166ADA5EF02E          89   \n",
       "3870   4ACD51E8-4A9B-4AA6-B635-166ADA5EF02E          89   \n",
       "\n",
       "                                     Enc_ID   Enc_Nbr       Enc_Timestamp  \n",
       "10335  97825c51-4462-eade-1c1d-2baa3400c033    123227 2014-12-18 14:00:00  \n",
       "59383  a6d9d991-4ff4-79b5-304d-f1b2bff9d6d0  12870648 2012-10-16 03:45:00  \n",
       "56011  fe5eb87c-39b3-4314-0172-4642d51de417   4126172 2014-03-12 15:30:00  \n",
       "78800  ea3c2622-6d1d-53ab-ddf0-9764927f1507   9217142 2014-04-17 18:45:00  \n",
       "3870   71d10fa4-3b0d-fa52-cfbd-ffd0f3d3532d  14968450 2014-05-25 10:45:00  "
      ]
     },
     "execution_count": 6,
     "metadata": {},
     "output_type": "execute_result"
    }
   ],
   "source": [
    "data['encounters'].head()"
   ]
  },
  {
   "cell_type": "markdown",
   "metadata": {},
   "source": [
    " ### Process family history"
   ]
  },
  {
   "cell_type": "code",
   "execution_count": 7,
   "metadata": {
    "collapsed": false
   },
   "outputs": [],
   "source": [
    "# Create Date variable\n",
    "from datetime import datetime\n",
    "data['family_hist_list']['Date'] = [datetime.strftime(item, '%Y-%m-%d') for item in data['family_hist_list']['Date_Created']]"
   ]
  },
  {
   "cell_type": "code",
   "execution_count": 8,
   "metadata": {
    "collapsed": false
   },
   "outputs": [],
   "source": [
    "# Individual family history grouped by the relationship\n",
    "# Date of collecting could be omited\n",
    "family_hist_list = {k:[{'Relation':k1,\n",
    "                        'History':[{'Code': a, 'Family_history': b} for a,b in zip(v1.Code, v1.Family_History)]}\n",
    "              for k1, v1 in v.groupby('Relation')]\n",
    "           for k,v in data['family_hist_list'].groupby('Person_Nbr')}"
   ]
  },
  {
   "cell_type": "code",
   "execution_count": 9,
   "metadata": {
    "collapsed": false
   },
   "outputs": [
    {
     "data": {
      "text/plain": [
       "[{'History': [{'Code': '430679000',\n",
       "    'Family_history': 'Diabetes mellitus type 2'}],\n",
       "  'Relation': 'Brother'},\n",
       " {'History': [{'Code': '160274005',\n",
       "    'Family_history': 'No history of Diabetes mellitus'},\n",
       "   {'Code': '160267000', 'Family_history': 'No history of Glaucoma'}],\n",
       "  'Relation': 'Father'},\n",
       " {'History': [{'Code': '416855002', 'Family_history': 'Diabetes mellitus'},\n",
       "   {'Code': '160267000', 'Family_history': 'No history of Glaucoma'},\n",
       "   {'Code': '160357008', 'Family_history': 'Hypertension'}],\n",
       "  'Relation': 'Mother'}]"
      ]
     },
     "execution_count": 9,
     "metadata": {},
     "output_type": "execute_result"
    }
   ],
   "source": [
    "family_hist_list[109227]"
   ]
  },
  {
   "cell_type": "markdown",
   "metadata": {},
   "source": [
    "### Process demographics"
   ]
  },
  {
   "cell_type": "code",
   "execution_count": 10,
   "metadata": {
    "collapsed": false
   },
   "outputs": [
    {
     "data": {
      "text/plain": [
       "True"
      ]
     },
     "execution_count": 10,
     "metadata": {},
     "output_type": "execute_result"
    }
   ],
   "source": [
    "# There is no person duplicated in demographics\n",
    "len(data['demographics'].Person_Nbr.drop_duplicates()) == len(data['demographics'])"
   ]
  },
  {
   "cell_type": "code",
   "execution_count": 34,
   "metadata": {
    "collapsed": false
   },
   "outputs": [],
   "source": [
    "# Normalize zip code with only 5 digits\n",
    "def clean_zip(zip):\n",
    "    if len(zip)<5:\n",
    "        return 'Null'\n",
    "    else:\n",
    "        return zip[:5]\n",
    "data['demographics']['Zip'] = demographics.Zip.map(lambda x: clean_zip(x))"
   ]
  },
  {
   "cell_type": "code",
   "execution_count": 35,
   "metadata": {
    "collapsed": false
   },
   "outputs": [
    {
     "data": {
      "text/html": [
       "<div>\n",
       "<table border=\"1\" class=\"dataframe\">\n",
       "  <thead>\n",
       "    <tr style=\"text-align: right;\">\n",
       "      <th></th>\n",
       "      <th>﻿Person_ID</th>\n",
       "      <th>Person_Nbr</th>\n",
       "      <th>DOB</th>\n",
       "      <th>Gender</th>\n",
       "      <th>Race</th>\n",
       "      <th>Ethnicity</th>\n",
       "      <th>Zip</th>\n",
       "      <th>Age_Censored</th>\n",
       "    </tr>\n",
       "  </thead>\n",
       "  <tbody>\n",
       "    <tr>\n",
       "      <th>14132</th>\n",
       "      <td>18405351-AC64-46A2-A003-8F7889351A13</td>\n",
       "      <td>33</td>\n",
       "      <td>1948-10-15</td>\n",
       "      <td>F</td>\n",
       "      <td>Black/African American (Not Hispanic)</td>\n",
       "      <td>Declined to specify</td>\n",
       "      <td>60616</td>\n",
       "      <td>None</td>\n",
       "    </tr>\n",
       "    <tr>\n",
       "      <th>8747</th>\n",
       "      <td>4ACD51E8-4A9B-4AA6-B635-166ADA5EF02E</td>\n",
       "      <td>89</td>\n",
       "      <td>1955-09-04</td>\n",
       "      <td>M</td>\n",
       "      <td>Declined to specify</td>\n",
       "      <td>Declined to specify</td>\n",
       "      <td>60652</td>\n",
       "      <td>None</td>\n",
       "    </tr>\n",
       "    <tr>\n",
       "      <th>2129</th>\n",
       "      <td>DF25CE0F-E45A-44D2-BE43-F49FE4F5E280</td>\n",
       "      <td>112</td>\n",
       "      <td>1932-11-19</td>\n",
       "      <td>F</td>\n",
       "      <td>NaN</td>\n",
       "      <td>NaN</td>\n",
       "      <td>60637</td>\n",
       "      <td>None</td>\n",
       "    </tr>\n",
       "    <tr>\n",
       "      <th>6591</th>\n",
       "      <td>7027DD58-6465-496C-880A-A6E825C155A8</td>\n",
       "      <td>146</td>\n",
       "      <td>1948-12-19</td>\n",
       "      <td>F</td>\n",
       "      <td>Declined to specify</td>\n",
       "      <td>Declined to specify</td>\n",
       "      <td>60615</td>\n",
       "      <td>None</td>\n",
       "    </tr>\n",
       "    <tr>\n",
       "      <th>16909</th>\n",
       "      <td>395DD5E7-45F9-456E-A127-9AB929E872F7</td>\n",
       "      <td>196</td>\n",
       "      <td>1955-02-21</td>\n",
       "      <td>F</td>\n",
       "      <td>Declined to specify</td>\n",
       "      <td>Declined to specify</td>\n",
       "      <td>60615</td>\n",
       "      <td>None</td>\n",
       "    </tr>\n",
       "  </tbody>\n",
       "</table>\n",
       "</div>"
      ],
      "text/plain": [
       "                                 ﻿Person_ID  Person_Nbr        DOB Gender  \\\n",
       "14132  18405351-AC64-46A2-A003-8F7889351A13          33 1948-10-15      F   \n",
       "8747   4ACD51E8-4A9B-4AA6-B635-166ADA5EF02E          89 1955-09-04      M   \n",
       "2129   DF25CE0F-E45A-44D2-BE43-F49FE4F5E280         112 1932-11-19      F   \n",
       "6591   7027DD58-6465-496C-880A-A6E825C155A8         146 1948-12-19      F   \n",
       "16909  395DD5E7-45F9-456E-A127-9AB929E872F7         196 1955-02-21      F   \n",
       "\n",
       "                                        Race            Ethnicity    Zip  \\\n",
       "14132  Black/African American (Not Hispanic)  Declined to specify  60616   \n",
       "8747                     Declined to specify  Declined to specify  60652   \n",
       "2129                                     NaN                  NaN  60637   \n",
       "6591                     Declined to specify  Declined to specify  60615   \n",
       "16909                    Declined to specify  Declined to specify  60615   \n",
       "\n",
       "      Age_Censored  \n",
       "14132         None  \n",
       "8747          None  \n",
       "2129          None  \n",
       "6591          None  \n",
       "16909         None  "
      ]
     },
     "execution_count": 35,
     "metadata": {},
     "output_type": "execute_result"
    }
   ],
   "source": [
    "data['demographics'].head()"
   ]
  },
  {
   "cell_type": "code",
   "execution_count": 43,
   "metadata": {
    "collapsed": false
   },
   "outputs": [
    {
     "data": {
      "text/html": [
       "<div>\n",
       "<table border=\"1\" class=\"dataframe\">\n",
       "  <thead>\n",
       "    <tr style=\"text-align: right;\">\n",
       "      <th></th>\n",
       "      <th>﻿Person_ID</th>\n",
       "      <th>Person_Nbr</th>\n",
       "      <th>DOB</th>\n",
       "      <th>Gender</th>\n",
       "      <th>Race</th>\n",
       "      <th>Ethnicity</th>\n",
       "      <th>Zip</th>\n",
       "      <th>Age_Censored</th>\n",
       "    </tr>\n",
       "  </thead>\n",
       "  <tbody>\n",
       "    <tr>\n",
       "      <th>7038</th>\n",
       "      <td>DEC00BF4-F6F8-46F2-87D9-B1F94E16EB6B</td>\n",
       "      <td>16320</td>\n",
       "      <td>1939-04-09</td>\n",
       "      <td>F</td>\n",
       "      <td>Declined to specify</td>\n",
       "      <td>Declined to specify</td>\n",
       "      <td>Null</td>\n",
       "      <td>None</td>\n",
       "    </tr>\n",
       "    <tr>\n",
       "      <th>12820</th>\n",
       "      <td>7286E85A-473F-4C94-A684-489E6932E02A</td>\n",
       "      <td>211308</td>\n",
       "      <td>1975-01-26</td>\n",
       "      <td>M</td>\n",
       "      <td>Declined to specify</td>\n",
       "      <td>Unknown Ethnicity</td>\n",
       "      <td>Null</td>\n",
       "      <td>None</td>\n",
       "    </tr>\n",
       "    <tr>\n",
       "      <th>10604</th>\n",
       "      <td>663B54A6-C6DD-4858-AE78-8AFDA98E78F4</td>\n",
       "      <td>496337</td>\n",
       "      <td>1959-08-05</td>\n",
       "      <td>F</td>\n",
       "      <td>NaN</td>\n",
       "      <td>Unknown Ethnicity</td>\n",
       "      <td>Null</td>\n",
       "      <td>None</td>\n",
       "    </tr>\n",
       "    <tr>\n",
       "      <th>2065</th>\n",
       "      <td>4CCDD77B-12DF-4943-BA78-F387C3AD2182</td>\n",
       "      <td>542734</td>\n",
       "      <td>1927-05-07</td>\n",
       "      <td>M</td>\n",
       "      <td>Black/African American (Not Hispanic)</td>\n",
       "      <td>Not Hispanic or Latino</td>\n",
       "      <td>Null</td>\n",
       "      <td>None</td>\n",
       "    </tr>\n",
       "    <tr>\n",
       "      <th>10147</th>\n",
       "      <td>0B7013D0-89BD-45C4-B615-E8DE442CC984</td>\n",
       "      <td>663472</td>\n",
       "      <td>1980-01-05</td>\n",
       "      <td>M</td>\n",
       "      <td>Alaskan Native</td>\n",
       "      <td>Hispanic or Latino</td>\n",
       "      <td>Null</td>\n",
       "      <td>None</td>\n",
       "    </tr>\n",
       "    <tr>\n",
       "      <th>11573</th>\n",
       "      <td>1D4E4067-929B-4687-A38F-C69D0AD4DF2D</td>\n",
       "      <td>782993</td>\n",
       "      <td>1951-07-26</td>\n",
       "      <td>F</td>\n",
       "      <td>Black or African American</td>\n",
       "      <td>Not Hispanic or Latino</td>\n",
       "      <td>Null</td>\n",
       "      <td>None</td>\n",
       "    </tr>\n",
       "    <tr>\n",
       "      <th>11355</th>\n",
       "      <td>6000BEE0-6407-4EA2-A88E-53E7C6C796CF</td>\n",
       "      <td>849189</td>\n",
       "      <td>1971-10-02</td>\n",
       "      <td>M</td>\n",
       "      <td>Black or African American</td>\n",
       "      <td>Not Hispanic or Latino</td>\n",
       "      <td>Null</td>\n",
       "      <td>None</td>\n",
       "    </tr>\n",
       "    <tr>\n",
       "      <th>7264</th>\n",
       "      <td>6556347D-22F7-4D17-9917-976441C5FBCD</td>\n",
       "      <td>850308</td>\n",
       "      <td>1901-01-06</td>\n",
       "      <td>F</td>\n",
       "      <td>White</td>\n",
       "      <td>Not Hispanic or Latino</td>\n",
       "      <td>Null</td>\n",
       "      <td>None</td>\n",
       "    </tr>\n",
       "    <tr>\n",
       "      <th>15440</th>\n",
       "      <td>50C8AC9E-D3D4-4279-BC5C-50EC7CEEC2F6</td>\n",
       "      <td>1014237</td>\n",
       "      <td>1966-10-02</td>\n",
       "      <td>M</td>\n",
       "      <td>Declined to specify</td>\n",
       "      <td>Declined to specify</td>\n",
       "      <td>Null</td>\n",
       "      <td>None</td>\n",
       "    </tr>\n",
       "    <tr>\n",
       "      <th>9073</th>\n",
       "      <td>DA5EECE7-B999-4FBA-AB93-C4E5F0CB8BA1</td>\n",
       "      <td>1041124</td>\n",
       "      <td>2011-10-30</td>\n",
       "      <td>M</td>\n",
       "      <td>Asian</td>\n",
       "      <td>Not Hispanic or Latino</td>\n",
       "      <td>Null</td>\n",
       "      <td>All</td>\n",
       "    </tr>\n",
       "  </tbody>\n",
       "</table>\n",
       "</div>"
      ],
      "text/plain": [
       "                                 ﻿Person_ID  Person_Nbr        DOB Gender  \\\n",
       "7038   DEC00BF4-F6F8-46F2-87D9-B1F94E16EB6B       16320 1939-04-09      F   \n",
       "12820  7286E85A-473F-4C94-A684-489E6932E02A      211308 1975-01-26      M   \n",
       "10604  663B54A6-C6DD-4858-AE78-8AFDA98E78F4      496337 1959-08-05      F   \n",
       "2065   4CCDD77B-12DF-4943-BA78-F387C3AD2182      542734 1927-05-07      M   \n",
       "10147  0B7013D0-89BD-45C4-B615-E8DE442CC984      663472 1980-01-05      M   \n",
       "11573  1D4E4067-929B-4687-A38F-C69D0AD4DF2D      782993 1951-07-26      F   \n",
       "11355  6000BEE0-6407-4EA2-A88E-53E7C6C796CF      849189 1971-10-02      M   \n",
       "7264   6556347D-22F7-4D17-9917-976441C5FBCD      850308 1901-01-06      F   \n",
       "15440  50C8AC9E-D3D4-4279-BC5C-50EC7CEEC2F6     1014237 1966-10-02      M   \n",
       "9073   DA5EECE7-B999-4FBA-AB93-C4E5F0CB8BA1     1041124 2011-10-30      M   \n",
       "\n",
       "                                        Race               Ethnicity   Zip  \\\n",
       "7038                     Declined to specify     Declined to specify  Null   \n",
       "12820                    Declined to specify       Unknown Ethnicity  Null   \n",
       "10604                                    NaN       Unknown Ethnicity  Null   \n",
       "2065   Black/African American (Not Hispanic)  Not Hispanic or Latino  Null   \n",
       "10147                         Alaskan Native      Hispanic or Latino  Null   \n",
       "11573              Black or African American  Not Hispanic or Latino  Null   \n",
       "11355              Black or African American  Not Hispanic or Latino  Null   \n",
       "7264                                   White  Not Hispanic or Latino  Null   \n",
       "15440                    Declined to specify     Declined to specify  Null   \n",
       "9073                                   Asian  Not Hispanic or Latino  Null   \n",
       "\n",
       "      Age_Censored  \n",
       "7038          None  \n",
       "12820         None  \n",
       "10604         None  \n",
       "2065          None  \n",
       "10147         None  \n",
       "11573         None  \n",
       "11355         None  \n",
       "7264          None  \n",
       "15440         None  \n",
       "9073           All  "
      ]
     },
     "execution_count": 43,
     "metadata": {},
     "output_type": "execute_result"
    }
   ],
   "source": [
    "# Null cases for zip code\n",
    "data['demographics'][data['demographics'].Zip=='Null']"
   ]
  },
  {
   "cell_type": "code",
   "execution_count": 44,
   "metadata": {
    "collapsed": true
   },
   "outputs": [],
   "source": [
    "data['demographics'].to_pickle(path+'demographics_processed_Dan_20170304.pickle')"
   ]
  },
  {
   "cell_type": "code",
   "execution_count": 49,
   "metadata": {
    "collapsed": true
   },
   "outputs": [],
   "source": [
    "data['demographics']['Age']=data['demographics']['DOB'].map(lambda x: datetime.now().year - x.year)"
   ]
  },
  {
   "cell_type": "code",
   "execution_count": 50,
   "metadata": {
    "collapsed": false
   },
   "outputs": [],
   "source": [
    "demographics=data['demographics'].set_index('Person_Nbr')[['Age', 'Gender', 'Race', 'Ethnicity', 'Zip', 'Age_Censored']].T.to_dict()"
   ]
  },
  {
   "cell_type": "code",
   "execution_count": 52,
   "metadata": {
    "collapsed": false
   },
   "outputs": [
    {
     "data": {
      "text/plain": [
       "{'Age': 61,\n",
       " 'Age_Censored': 'None',\n",
       " 'Ethnicity': 'Not Hispanic or Latino',\n",
       " 'Gender': 'F',\n",
       " 'Race': 'Black/African American (Not Hispanic)',\n",
       " 'Zip': '60419'}"
      ]
     },
     "execution_count": 52,
     "metadata": {},
     "output_type": "execute_result"
    }
   ],
   "source": [
    "demographics[109227]"
   ]
  },
  {
   "cell_type": "code",
   "execution_count": 53,
   "metadata": {
    "collapsed": false
   },
   "outputs": [
    {
     "data": {
      "text/plain": [
       "True"
      ]
     },
     "execution_count": 53,
     "metadata": {},
     "output_type": "execute_result"
    }
   ],
   "source": [
    "# People in demographics have fully covered people in family_hist_list\n",
    "set(demographics.keys())&set(family_hist_list.keys())==set(family_hist_list)"
   ]
  },
  {
   "cell_type": "markdown",
   "metadata": {},
   "source": [
    "### Process encounter list"
   ]
  },
  {
   "cell_type": "code",
   "execution_count": 20,
   "metadata": {
    "collapsed": false
   },
   "outputs": [],
   "source": [
    "# Create Date variable\n",
    "#data['encounters']['Enc_Date'] = pd.to_datetime([datetime.strftime(item, '%Y-%m-%d') for item in data['encounters']['Enc_Timestamp']])"
   ]
  },
  {
   "cell_type": "code",
   "execution_count": 54,
   "metadata": {
    "collapsed": false
   },
   "outputs": [],
   "source": [
    "Enc_list = {k:sorted([{'Enc_Nbr': a, 'Enc_Date': b} for a,b in zip(v.Enc_Nbr, v.Enc_Timestamp)], key=lambda x:x['Enc_Date']) for k,v in data['encounters'].groupby('Person_Nbr')}"
   ]
  },
  {
   "cell_type": "code",
   "execution_count": 55,
   "metadata": {
    "collapsed": false
   },
   "outputs": [
    {
     "data": {
      "text/plain": [
       "[{'Enc_Date': Timestamp('2016-07-29 12:30:00'), 'Enc_Nbr': 4086734}]"
      ]
     },
     "execution_count": 55,
     "metadata": {},
     "output_type": "execute_result"
    }
   ],
   "source": [
    "Enc_list[109227]"
   ]
  },
  {
   "cell_type": "code",
   "execution_count": 56,
   "metadata": {
    "collapsed": false
   },
   "outputs": [
    {
     "data": {
      "text/plain": [
       "True"
      ]
     },
     "execution_count": 56,
     "metadata": {},
     "output_type": "execute_result"
    }
   ],
   "source": [
    "set(Enc_list.keys())&set(demographics.keys())==set(Enc_list)\n",
    "# People in demographics have fully covered people in encouters"
   ]
  },
  {
   "cell_type": "code",
   "execution_count": 57,
   "metadata": {
    "collapsed": false
   },
   "outputs": [
    {
     "data": {
      "text/plain": [
       "True"
      ]
     },
     "execution_count": 57,
     "metadata": {},
     "output_type": "execute_result"
    }
   ],
   "source": [
    "set(Enc_list)&set(family_hist_list) == set(family_hist_list)\n",
    "# People has family history record must have encounter records, encounters fully cover family_hist_list"
   ]
  },
  {
   "cell_type": "markdown",
   "metadata": {},
   "source": [
    "### Merge into a dictionary of profile"
   ]
  },
  {
   "cell_type": "code",
   "execution_count": 58,
   "metadata": {
    "collapsed": false
   },
   "outputs": [],
   "source": [
    "profile_full={}\n",
    "for k,v in demographics.items():\n",
    "    profile_full[k]=v\n",
    "    \n",
    "    # patint may or may nor have a family history\n",
    "    profile_full[k]['family_hist_list'] = {}\n",
    "    profile_full[k]['family_hist_list_count'] = 0\n",
    "    if k in family_hist_list.keys():\n",
    "        profile_full[k]['family_hist_list'] = family_hist_list[k]\n",
    "        profile_full[k]['family_hist_list_count'] = len(family_hist_list[k])\n",
    "    \n",
    "    # patient may or may not have encounter records\n",
    "    profile_full[k]['Enc_list'] = {}\n",
    "    profile_full[k]['Enc_list_count'] = 0\n",
    "    profile_full[k]['Enc_list_span'] = 0\n",
    "\n",
    "    if k in Enc_list.keys():\n",
    "        profile_full[k]['Enc_list'] = Enc_list[k]\n",
    "        profile_full[k]['Enc_list_count'] = len(Enc_list[k])\n",
    "        profile_full[k]['Enc_list_span'] = datetime.now().year - int(datetime.strftime(datetime.date(Enc_list[k][0]['Enc_Date']), '%Y'))\n"
   ]
  },
  {
   "cell_type": "code",
   "execution_count": 59,
   "metadata": {
    "collapsed": false
   },
   "outputs": [
    {
     "data": {
      "text/plain": [
       "{'Age': 61,\n",
       " 'Age_Censored': 'None',\n",
       " 'Enc_list': [{'Enc_Date': Timestamp('2016-07-29 12:30:00'),\n",
       "   'Enc_Nbr': 4086734}],\n",
       " 'Enc_list_count': 1,\n",
       " 'Enc_list_span': 1,\n",
       " 'Ethnicity': 'Not Hispanic or Latino',\n",
       " 'Gender': 'F',\n",
       " 'Race': 'Black/African American (Not Hispanic)',\n",
       " 'Zip': '60419',\n",
       " 'family_hist_list': [{'History': [{'Code': '430679000',\n",
       "     'Family_history': 'Diabetes mellitus type 2'}],\n",
       "   'Relation': 'Brother'},\n",
       "  {'History': [{'Code': '160274005',\n",
       "     'Family_history': 'No history of Diabetes mellitus'},\n",
       "    {'Code': '160267000', 'Family_history': 'No history of Glaucoma'}],\n",
       "   'Relation': 'Father'},\n",
       "  {'History': [{'Code': '416855002', 'Family_history': 'Diabetes mellitus'},\n",
       "    {'Code': '160267000', 'Family_history': 'No history of Glaucoma'},\n",
       "    {'Code': '160357008', 'Family_history': 'Hypertension'}],\n",
       "   'Relation': 'Mother'}],\n",
       " 'family_hist_list_count': 3}"
      ]
     },
     "execution_count": 59,
     "metadata": {},
     "output_type": "execute_result"
    }
   ],
   "source": [
    "profile_full[109227]"
   ]
  },
  {
   "cell_type": "code",
   "execution_count": 58,
   "metadata": {
    "collapsed": false
   },
   "outputs": [
    {
     "data": {
      "text/plain": [
       "17019"
      ]
     },
     "execution_count": 58,
     "metadata": {},
     "output_type": "execute_result"
    }
   ],
   "source": [
    "len(profile_full)"
   ]
  },
  {
   "cell_type": "markdown",
   "metadata": {},
   "source": [
    "Shall we remove the profiles that has no history and no encounters? "
   ]
  },
  {
   "cell_type": "code",
   "execution_count": 26,
   "metadata": {
    "collapsed": false
   },
   "outputs": [
    {
     "data": {
      "text/plain": [
       "2975"
      ]
     },
     "execution_count": 26,
     "metadata": {},
     "output_type": "execute_result"
    }
   ],
   "source": [
    "len(set(demographics)-set(family_hist_list))\n",
    "# That is to remove 2975 patients"
   ]
  },
  {
   "cell_type": "code",
   "execution_count": 27,
   "metadata": {
    "collapsed": false
   },
   "outputs": [
    {
     "data": {
      "text/plain": [
       "14044"
      ]
     },
     "execution_count": 27,
     "metadata": {},
     "output_type": "execute_result"
    }
   ],
   "source": [
    "len(set(family_hist_list)&set(Enc_list))\n",
    "# So that only 14044 patients left have both records"
   ]
  },
  {
   "cell_type": "code",
   "execution_count": 28,
   "metadata": {
    "collapsed": false
   },
   "outputs": [
    {
     "data": {
      "text/plain": [
       "510"
      ]
     },
     "execution_count": 28,
     "metadata": {},
     "output_type": "execute_result"
    }
   ],
   "source": [
    "len(set(demographics)-set(Enc_list))"
   ]
  },
  {
   "cell_type": "markdown",
   "metadata": {},
   "source": [
    "We have in total 17019 patients. 510 of total have no encounter records. 2465 of total have no encounter records and no family records. If we want a profile that everyone has both records, we need to remove all 2975 patients. "
   ]
  },
  {
   "cell_type": "code",
   "execution_count": 60,
   "metadata": {
    "collapsed": false
   },
   "outputs": [],
   "source": [
    "# Remove patients have no family or no encounter records\n",
    "profile={}\n",
    "for k,v in demographics.items():\n",
    "    if k in set(family_hist_list)&set(Enc_list):\n",
    "        profile[k]=v\n",
    "        \n",
    "        profile[k]['family_hist_list'] = family_hist_list[k]\n",
    "        profile[k]['family_hist_list_count'] = len(family_hist_list[k])\n",
    "\n",
    "        profile[k]['Enc_list'] = Enc_list[k]\n",
    "        profile[k]['Enc_list_count'] = len(Enc_list[k])\n",
    "        profile_full[k]['Enc_list_span'] = datetime.now().year - int(datetime.strftime(datetime.date(Enc_list[k][0]['Enc_Date']), '%Y'))\n",
    "    else:\n",
    "        continue"
   ]
  },
  {
   "cell_type": "code",
   "execution_count": 61,
   "metadata": {
    "collapsed": false
   },
   "outputs": [
    {
     "data": {
      "text/plain": [
       "{'Age': 61,\n",
       " 'Age_Censored': 'None',\n",
       " 'Enc_list': [{'Enc_Date': Timestamp('2016-07-29 12:30:00'),\n",
       "   'Enc_Nbr': 4086734}],\n",
       " 'Enc_list_count': 1,\n",
       " 'Enc_list_span': 1,\n",
       " 'Ethnicity': 'Not Hispanic or Latino',\n",
       " 'Gender': 'F',\n",
       " 'Race': 'Black/African American (Not Hispanic)',\n",
       " 'Zip': '60419',\n",
       " 'family_hist_list': [{'History': [{'Code': '430679000',\n",
       "     'Family_history': 'Diabetes mellitus type 2'}],\n",
       "   'Relation': 'Brother'},\n",
       "  {'History': [{'Code': '160274005',\n",
       "     'Family_history': 'No history of Diabetes mellitus'},\n",
       "    {'Code': '160267000', 'Family_history': 'No history of Glaucoma'}],\n",
       "   'Relation': 'Father'},\n",
       "  {'History': [{'Code': '416855002', 'Family_history': 'Diabetes mellitus'},\n",
       "    {'Code': '160267000', 'Family_history': 'No history of Glaucoma'},\n",
       "    {'Code': '160357008', 'Family_history': 'Hypertension'}],\n",
       "   'Relation': 'Mother'}],\n",
       " 'family_hist_list_count': 3}"
      ]
     },
     "execution_count": 61,
     "metadata": {},
     "output_type": "execute_result"
    }
   ],
   "source": [
    "profile[109227]"
   ]
  },
  {
   "cell_type": "code",
   "execution_count": 31,
   "metadata": {
    "collapsed": false
   },
   "outputs": [
    {
     "data": {
      "text/plain": [
       "14044"
      ]
     },
     "execution_count": 31,
     "metadata": {},
     "output_type": "execute_result"
    }
   ],
   "source": [
    "len(profile)"
   ]
  },
  {
   "cell_type": "markdown",
   "metadata": {},
   "source": [
    "(Or we can only remove 510 patients that lack encounter records and omit family part for now)"
   ]
  },
  {
   "cell_type": "code",
   "execution_count": 62,
   "metadata": {
    "collapsed": true
   },
   "outputs": [],
   "source": [
    "# Remove patients have no encounter records\n",
    "profile1={}\n",
    "for k,v in demographics.items():\n",
    "    if k in set(Enc_list):\n",
    "        profile1[k]=v\n",
    "\n",
    "        profile1[k]['Enc_list'] = Enc_list[k]\n",
    "        profile1[k]['Enc_list_count'] = len(Enc_list[k])\n",
    "        profile_full[k]['Enc_list_span'] = datetime.now().year - int(datetime.strftime(datetime.date(Enc_list[k][0]['Enc_Date']), '%Y'))\n",
    "        \n",
    "        profile1[k]['family_hist_list'] = {}\n",
    "        profile1[k]['family_hist_list_count'] = 0\n",
    "        \n",
    "        if k in family_hist_list.keys():\n",
    "            profile1[k]['family_hist_list'] = family_hist_list[k]\n",
    "            profile1[k]['family_hist_list_count'] = len(family_hist_list[k])\n",
    "    else:\n",
    "        continue"
   ]
  },
  {
   "cell_type": "code",
   "execution_count": 63,
   "metadata": {
    "collapsed": false
   },
   "outputs": [
    {
     "data": {
      "text/plain": [
       "{'Age': 61,\n",
       " 'Age_Censored': 'None',\n",
       " 'Enc_list': [{'Enc_Date': Timestamp('2016-07-29 12:30:00'),\n",
       "   'Enc_Nbr': 4086734}],\n",
       " 'Enc_list_count': 1,\n",
       " 'Enc_list_span': 1,\n",
       " 'Ethnicity': 'Not Hispanic or Latino',\n",
       " 'Gender': 'F',\n",
       " 'Race': 'Black/African American (Not Hispanic)',\n",
       " 'Zip': '60419',\n",
       " 'family_hist_list': [{'History': [{'Code': '430679000',\n",
       "     'Family_history': 'Diabetes mellitus type 2'}],\n",
       "   'Relation': 'Brother'},\n",
       "  {'History': [{'Code': '160274005',\n",
       "     'Family_history': 'No history of Diabetes mellitus'},\n",
       "    {'Code': '160267000', 'Family_history': 'No history of Glaucoma'}],\n",
       "   'Relation': 'Father'},\n",
       "  {'History': [{'Code': '416855002', 'Family_history': 'Diabetes mellitus'},\n",
       "    {'Code': '160267000', 'Family_history': 'No history of Glaucoma'},\n",
       "    {'Code': '160357008', 'Family_history': 'Hypertension'}],\n",
       "   'Relation': 'Mother'}],\n",
       " 'family_hist_list_count': 3}"
      ]
     },
     "execution_count": 63,
     "metadata": {},
     "output_type": "execute_result"
    }
   ],
   "source": [
    "profile1[109227]"
   ]
  },
  {
   "cell_type": "code",
   "execution_count": 34,
   "metadata": {
    "collapsed": false
   },
   "outputs": [
    {
     "data": {
      "text/plain": [
       "16509"
      ]
     },
     "execution_count": 34,
     "metadata": {},
     "output_type": "execute_result"
    }
   ],
   "source": [
    "len(profile1)"
   ]
  },
  {
   "cell_type": "code",
   "execution_count": 66,
   "metadata": {
    "collapsed": false
   },
   "outputs": [
    {
     "data": {
      "text/html": [
       "<div>\n",
       "<table border=\"1\" class=\"dataframe\">\n",
       "  <thead>\n",
       "    <tr style=\"text-align: right;\">\n",
       "      <th></th>\n",
       "      <th>Zip</th>\n",
       "      <th>Gender</th>\n",
       "      <th>Age</th>\n",
       "      <th>Enc_list</th>\n",
       "      <th>Age_Censored</th>\n",
       "      <th>family_hist_list</th>\n",
       "      <th>Enc_list_count</th>\n",
       "      <th>Race</th>\n",
       "      <th>family_hist_list_count</th>\n",
       "      <th>Enc_list_span</th>\n",
       "      <th>Ethnicity</th>\n",
       "    </tr>\n",
       "  </thead>\n",
       "  <tbody>\n",
       "    <tr>\n",
       "      <th>33</th>\n",
       "      <td>60616</td>\n",
       "      <td>F</td>\n",
       "      <td>69</td>\n",
       "      <td>[{u'Enc_Date': 2014-12-18 14:00:00, u'Enc_Nbr'...</td>\n",
       "      <td>None</td>\n",
       "      <td>[{u'Relation': u'Brother', u'History': [{'Code...</td>\n",
       "      <td>1</td>\n",
       "      <td>Black/African American (Not Hispanic)</td>\n",
       "      <td>4</td>\n",
       "      <td>3</td>\n",
       "      <td>Declined to specify</td>\n",
       "    </tr>\n",
       "    <tr>\n",
       "      <th>89</th>\n",
       "      <td>60652</td>\n",
       "      <td>M</td>\n",
       "      <td>62</td>\n",
       "      <td>[{u'Enc_Date': 2012-10-16 03:45:00, u'Enc_Nbr'...</td>\n",
       "      <td>None</td>\n",
       "      <td>[{u'Relation': u'Father', u'History': [{'Code'...</td>\n",
       "      <td>9</td>\n",
       "      <td>Declined to specify</td>\n",
       "      <td>3</td>\n",
       "      <td>5</td>\n",
       "      <td>Declined to specify</td>\n",
       "    </tr>\n",
       "    <tr>\n",
       "      <th>146</th>\n",
       "      <td>60615</td>\n",
       "      <td>F</td>\n",
       "      <td>69</td>\n",
       "      <td>[{u'Enc_Date': 2012-11-04 19:45:00, u'Enc_Nbr'...</td>\n",
       "      <td>None</td>\n",
       "      <td>[{u'Relation': u'Father', u'History': [{'Code'...</td>\n",
       "      <td>5</td>\n",
       "      <td>Declined to specify</td>\n",
       "      <td>2</td>\n",
       "      <td>5</td>\n",
       "      <td>Declined to specify</td>\n",
       "    </tr>\n",
       "    <tr>\n",
       "      <th>196</th>\n",
       "      <td>60615</td>\n",
       "      <td>F</td>\n",
       "      <td>62</td>\n",
       "      <td>[{u'Enc_Date': 2016-10-05 00:45:00, u'Enc_Nbr'...</td>\n",
       "      <td>None</td>\n",
       "      <td>[{u'Relation': u'Father', u'History': [{'Code'...</td>\n",
       "      <td>2</td>\n",
       "      <td>Declined to specify</td>\n",
       "      <td>2</td>\n",
       "      <td>1</td>\n",
       "      <td>Declined to specify</td>\n",
       "    </tr>\n",
       "    <tr>\n",
       "      <th>327</th>\n",
       "      <td>60411</td>\n",
       "      <td>F</td>\n",
       "      <td>73</td>\n",
       "      <td>[{u'Enc_Date': 2011-12-04 11:00:00, u'Enc_Nbr'...</td>\n",
       "      <td>None</td>\n",
       "      <td>{}</td>\n",
       "      <td>1</td>\n",
       "      <td>Black or African American</td>\n",
       "      <td>0</td>\n",
       "      <td>6</td>\n",
       "      <td>African American</td>\n",
       "    </tr>\n",
       "  </tbody>\n",
       "</table>\n",
       "</div>"
      ],
      "text/plain": [
       "       Zip Gender  Age                                           Enc_list  \\\n",
       "33   60616      F   69  [{u'Enc_Date': 2014-12-18 14:00:00, u'Enc_Nbr'...   \n",
       "89   60652      M   62  [{u'Enc_Date': 2012-10-16 03:45:00, u'Enc_Nbr'...   \n",
       "146  60615      F   69  [{u'Enc_Date': 2012-11-04 19:45:00, u'Enc_Nbr'...   \n",
       "196  60615      F   62  [{u'Enc_Date': 2016-10-05 00:45:00, u'Enc_Nbr'...   \n",
       "327  60411      F   73  [{u'Enc_Date': 2011-12-04 11:00:00, u'Enc_Nbr'...   \n",
       "\n",
       "    Age_Censored                                   family_hist_list  \\\n",
       "33          None  [{u'Relation': u'Brother', u'History': [{'Code...   \n",
       "89          None  [{u'Relation': u'Father', u'History': [{'Code'...   \n",
       "146         None  [{u'Relation': u'Father', u'History': [{'Code'...   \n",
       "196         None  [{u'Relation': u'Father', u'History': [{'Code'...   \n",
       "327         None                                                 {}   \n",
       "\n",
       "     Enc_list_count                                   Race  \\\n",
       "33                1  Black/African American (Not Hispanic)   \n",
       "89                9                    Declined to specify   \n",
       "146               5                    Declined to specify   \n",
       "196               2                    Declined to specify   \n",
       "327               1              Black or African American   \n",
       "\n",
       "     family_hist_list_count  Enc_list_span            Ethnicity  \n",
       "33                        4              3  Declined to specify  \n",
       "89                        3              5  Declined to specify  \n",
       "146                       2              5  Declined to specify  \n",
       "196                       2              1  Declined to specify  \n",
       "327                       0              6     African American  "
      ]
     },
     "execution_count": 66,
     "metadata": {},
     "output_type": "execute_result"
    }
   ],
   "source": [
    "temp=pd.DataFrame.from_dict(profile1, orient='index')\n",
    "temp.head()"
   ]
  },
  {
   "cell_type": "code",
   "execution_count": 67,
   "metadata": {
    "collapsed": true
   },
   "outputs": [],
   "source": [
    "temp.to_pickle(path+'person_profile_df.pickle')"
   ]
  },
  {
   "cell_type": "markdown",
   "metadata": {},
   "source": [
    "### Tried to process SNOMED code list for person"
   ]
  },
  {
   "cell_type": "code",
   "execution_count": 36,
   "metadata": {
    "collapsed": false
   },
   "outputs": [
    {
     "data": {
      "text/html": [
       "<div>\n",
       "<table border=\"1\" class=\"dataframe\">\n",
       "  <thead>\n",
       "    <tr style=\"text-align: right;\">\n",
       "      <th></th>\n",
       "      <th>Person_ID</th>\n",
       "      <th>Person_Nbr</th>\n",
       "      <th>Date_Created</th>\n",
       "      <th>Concept_ID</th>\n",
       "      <th>Description</th>\n",
       "    </tr>\n",
       "  </thead>\n",
       "  <tbody>\n",
       "    <tr>\n",
       "      <th>69610</th>\n",
       "      <td>80d3df88-dddf-5ad3-7cc1-b7b1ac6151fa</td>\n",
       "      <td>33</td>\n",
       "      <td>2014-12-18 15:51:19.607</td>\n",
       "      <td>41256004</td>\n",
       "      <td>Presbyopia</td>\n",
       "    </tr>\n",
       "    <tr>\n",
       "      <th>69608</th>\n",
       "      <td>80d3df88-dddf-5ad3-7cc1-b7b1ac6151fa</td>\n",
       "      <td>33</td>\n",
       "      <td>2014-12-18 15:51:28.043</td>\n",
       "      <td>41446000</td>\n",
       "      <td>Blepharitis</td>\n",
       "    </tr>\n",
       "    <tr>\n",
       "      <th>69609</th>\n",
       "      <td>80d3df88-dddf-5ad3-7cc1-b7b1ac6151fa</td>\n",
       "      <td>33</td>\n",
       "      <td>2014-12-18 16:36:28.083</td>\n",
       "      <td>313436004</td>\n",
       "      <td>Type 2 diabetes mellitus without complication</td>\n",
       "    </tr>\n",
       "    <tr>\n",
       "      <th>46510</th>\n",
       "      <td>adca6fa4-e7d4-d7f8-cf41-27056662d84b</td>\n",
       "      <td>89</td>\n",
       "      <td>2014-08-12 03:04:55.010</td>\n",
       "      <td>81416004</td>\n",
       "      <td>Open angle with borderline findings</td>\n",
       "    </tr>\n",
       "    <tr>\n",
       "      <th>46511</th>\n",
       "      <td>adca6fa4-e7d4-d7f8-cf41-27056662d84b</td>\n",
       "      <td>89</td>\n",
       "      <td>2014-08-12 03:04:55.010</td>\n",
       "      <td>28998008</td>\n",
       "      <td>Retinal hemorrhage</td>\n",
       "    </tr>\n",
       "  </tbody>\n",
       "</table>\n",
       "</div>"
      ],
      "text/plain": [
       "                                  Person_ID  Person_Nbr  \\\n",
       "69610  80d3df88-dddf-5ad3-7cc1-b7b1ac6151fa          33   \n",
       "69608  80d3df88-dddf-5ad3-7cc1-b7b1ac6151fa          33   \n",
       "69609  80d3df88-dddf-5ad3-7cc1-b7b1ac6151fa          33   \n",
       "46510  adca6fa4-e7d4-d7f8-cf41-27056662d84b          89   \n",
       "46511  adca6fa4-e7d4-d7f8-cf41-27056662d84b          89   \n",
       "\n",
       "                 Date_Created  Concept_ID  \\\n",
       "69610 2014-12-18 15:51:19.607    41256004   \n",
       "69608 2014-12-18 15:51:28.043    41446000   \n",
       "69609 2014-12-18 16:36:28.083   313436004   \n",
       "46510 2014-08-12 03:04:55.010    81416004   \n",
       "46511 2014-08-12 03:04:55.010    28998008   \n",
       "\n",
       "                                         Description  \n",
       "69610                                     Presbyopia  \n",
       "69608                                    Blepharitis  \n",
       "69609  Type 2 diabetes mellitus without complication  \n",
       "46510            Open angle with borderline findings  \n",
       "46511                             Retinal hemorrhage  "
      ]
     },
     "execution_count": 36,
     "metadata": {},
     "output_type": "execute_result"
    }
   ],
   "source": [
    "data['SNOMED_problem_list'].head()"
   ]
  },
  {
   "cell_type": "code",
   "execution_count": 64,
   "metadata": {
    "collapsed": false
   },
   "outputs": [
    {
     "data": {
      "text/plain": [
       "['44054006', '56265001', '38341003', '230690007', '13644009']"
      ]
     },
     "execution_count": 64,
     "metadata": {},
     "output_type": "execute_result"
    }
   ],
   "source": [
    "{k:list(v) for k,v in data['systemic_disease_list'].groupby('Person_Nbr')['Snomed_Code']}[109227]"
   ]
  },
  {
   "cell_type": "code",
   "execution_count": 65,
   "metadata": {
    "collapsed": false
   },
   "outputs": [
    {
     "data": {
      "text/plain": [
       "[38101003, 111552007, 41446000]"
      ]
     },
     "execution_count": 65,
     "metadata": {},
     "output_type": "execute_result"
    }
   ],
   "source": [
    "{k:list(v) for k,v in data['SNOMED_problem_list'].groupby('Person_Nbr')['Concept_ID']}[109227]"
   ]
  },
  {
   "cell_type": "code",
   "execution_count": null,
   "metadata": {
    "collapsed": true
   },
   "outputs": [],
   "source": []
  }
 ],
 "metadata": {
  "anaconda-cloud": {},
  "kernelspec": {
   "display_name": "Python 2",
   "language": "python",
   "name": "python2"
  },
  "language_info": {
   "codemirror_mode": {
    "name": "ipython",
    "version": 2
   },
   "file_extension": ".py",
   "mimetype": "text/x-python",
   "name": "python",
   "nbconvert_exporter": "python",
   "pygments_lexer": "ipython2",
   "version": "2.7.13"
  }
 },
 "nbformat": 4,
 "nbformat_minor": 0
}
