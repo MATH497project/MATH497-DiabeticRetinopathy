{
 "cells": [
  {
   "cell_type": "code",
   "execution_count": 32,
   "metadata": {
    "collapsed": false
   },
   "outputs": [],
   "source": [
    "import os.path, sys\n",
    "sys.path.append(os.path.join(os.path.dirname(os.path.realpath('__file__')), os.pardir))\n",
    "import reader\n",
    "import numpy as np\n",
    "import pandas as pd\n",
    "import os\n",
    "from sklearn.ensemble import RandomForestClassifier\n",
    "from sklearn.preprocessing import LabelEncoder\n",
    "from sklearn.model_selection import cross_val_score\n"
   ]
  },
  {
   "cell_type": "code",
   "execution_count": 33,
   "metadata": {
    "collapsed": false,
    "scrolled": false
   },
   "outputs": [
    {
     "name": "stdout",
     "output_type": "stream",
     "text": [
      "Local data read/write folder path:\n",
      "\tDefault path: E:\\anil\\IIT Sop\\Term02\\MATH497\\MATH497-DiabeticRetinopathy/data/\n",
      "\n",
      "Data: baseline_raw \n",
      "File: baseline_raw_Dan_20170406.pickle\n",
      "File already exists.\n",
      "\n",
      "Data: baseline_missing_handled \n",
      "File: baseline_missingHandled_Dan_20170406.pickle\n",
      "File already exists.\n"
     ]
    }
   ],
   "source": [
    "data=reader.Data()"
   ]
  },
  {
   "cell_type": "code",
   "execution_count": 34,
   "metadata": {
    "collapsed": false
   },
   "outputs": [
    {
     "data": {
      "text/plain": [
       "no_DR    12009\n",
       "mNPDR     2055\n",
       "PDR       1040\n",
       "MNPDR      711\n",
       "SNPDR      224\n",
       "Name: worst_DR, dtype: int64"
      ]
     },
     "execution_count": 34,
     "metadata": {},
     "output_type": "execute_result"
    }
   ],
   "source": [
    "data[data_set_name]['worst_DR'].value_counts()"
   ]
  },
  {
   "cell_type": "code",
   "execution_count": 35,
   "metadata": {
    "collapsed": false
   },
   "outputs": [
    {
     "data": {
      "text/plain": [
       "no_DR    12009\n",
       "mNPDR     2214\n",
       "PDR        964\n",
       "MNPDR      654\n",
       "SNPDR      198\n",
       "Name: recent_DR, dtype: int64"
      ]
     },
     "execution_count": 35,
     "metadata": {},
     "output_type": "execute_result"
    }
   ],
   "source": [
    "data[data_set_name]['recent_DR'].value_counts()"
   ]
  },
  {
   "cell_type": "code",
   "execution_count": 36,
   "metadata": {
    "collapsed": true
   },
   "outputs": [],
   "source": [
    "# data_set_name = 'baseline_raw'\n",
    "data_set_name = 'baseline_missing_handled'"
   ]
  },
  {
   "cell_type": "code",
   "execution_count": 37,
   "metadata": {
    "collapsed": false
   },
   "outputs": [],
   "source": [
    "dr_label_encoder = LabelEncoder()\n",
    "data[data_set_name]['worst_DR_num'] = dr_label_encoder.fit_transform(data[data_set_name]['worst_DR'])\n",
    "data[data_set_name]['recent_DR_num'] = dr_label_encoder.fit_transform(data[data_set_name]['recent_DR'])\n"
   ]
  },
  {
   "cell_type": "code",
   "execution_count": 38,
   "metadata": {
    "collapsed": false
   },
   "outputs": [
    {
     "data": {
      "text/plain": [
       "Index([u'A1C', u'BMI', u'Glucose', u'BP_Diastolic', u'BP_Systolic', u'DM',\n",
       "       u'ME', u'Glaucoma_Suspect', u'Open_angle_Glaucoma', u'Cataract',\n",
       "       u'Gender_F', u'Gender_M', u'Gender_U', u'Race_Asian',\n",
       "       u'Race_Black or African American', u'Race_Hispanic or Latino',\n",
       "       u'Race_Other', u'Race_White', u'Age_group_(18, 48]',\n",
       "       u'Age_group_(49, 55]', u'Age_group_(56, 60]', u'Age_group_(61, 66]',\n",
       "       u'Age_group_(67, 74]', u'Age_group_(75, 114]', u'worst_DR',\n",
       "       u'recent_DR', u'worst_DR_num', u'recent_DR_num'],\n",
       "      dtype='object')"
      ]
     },
     "execution_count": 38,
     "metadata": {},
     "output_type": "execute_result"
    }
   ],
   "source": [
    "data[data_set_name].columns"
   ]
  },
  {
   "cell_type": "code",
   "execution_count": 101,
   "metadata": {
    "collapsed": true
   },
   "outputs": [],
   "source": [
    "predictors = [u'A1C', u'BMI', u'Glucose', u'BP_Diastolic', u'BP_Systolic',\n",
    "#               u'DM',u'ME', u'Glaucoma_Suspect', u'Open_angle_Glaucoma', u'Cataract',\n",
    "       u'Gender_F', u'Gender_M', u'Gender_U', u'Race_Asian',\n",
    "       u'Race_Black or African American', u'Race_Hispanic or Latino',\n",
    "       u'Race_Other', u'Race_White', u'Age_group_(18, 48]',\n",
    "       u'Age_group_(49, 55]', u'Age_group_(56, 60]', u'Age_group_(61, 66]',\n",
    "       u'Age_group_(67, 74]', u'Age_group_(75, 114]'\n",
    "             ]"
   ]
  },
  {
   "cell_type": "code",
   "execution_count": 116,
   "metadata": {
    "collapsed": true
   },
   "outputs": [],
   "source": [
    "from sklearn.model_selection import train_test_split\n",
    "X = data[data_set_name][predictors]\n",
    "y = data[data_set_name]['worst_DR_num']\n",
    "\n",
    "X_train, X_test, y_train, y_test = train_test_split(X, y, test_size=0.33, random_state=210)"
   ]
  },
  {
   "cell_type": "code",
   "execution_count": 117,
   "metadata": {
    "collapsed": false
   },
   "outputs": [
    {
     "data": {
      "text/plain": [
       "RandomForestClassifier(bootstrap=True, class_weight=None, criterion='gini',\n",
       "            max_depth=None, max_features='auto', max_leaf_nodes=None,\n",
       "            min_impurity_split=1e-07, min_samples_leaf=1,\n",
       "            min_samples_split=2, min_weight_fraction_leaf=0.0,\n",
       "            n_estimators=20, n_jobs=1, oob_score=False, random_state=210,\n",
       "            verbose=0, warm_start=False)"
      ]
     },
     "execution_count": 117,
     "metadata": {},
     "output_type": "execute_result"
    }
   ],
   "source": [
    "# Create a random forest classifier.\n",
    "forest = RandomForestClassifier(n_estimators=20, random_state=210)\n",
    "forest.fit(X_train, y_train)"
   ]
  },
  {
   "cell_type": "code",
   "execution_count": 118,
   "metadata": {
    "collapsed": false
   },
   "outputs": [
    {
     "data": {
      "image/png": "[encoded data removed]",
      "text/plain": [
       "<matplotlib.figure.Figure at 0x132197b8>"
      ]
     },
     "metadata": {},
     "output_type": "display_data"
    }
   ],
   "source": [
    "%matplotlib inline\n",
    "import matplotlib.pyplot as plt\n",
    "\n",
    "importances = forest.feature_importances_\n",
    "std = np.std([tree.feature_importances_ for tree in forest.estimators_],\n",
    "             axis=0)\n",
    "indices = np.argsort(importances)[::-1]\n",
    "\n",
    "# Print the feature ranking\n",
    "# print(\"Feature ranking:\")\n",
    "\n",
    "# for f in range(X.shape[1]):\n",
    "#     print(\"%d. feature %d (%f)\" % (f + 1, indices[f], importances[indices[f]]))\n",
    "\n",
    "# Plot the feature importances of the forest\n",
    "plt.figure()\n",
    "plt.title(\"Feature importances\")\n",
    "plt.bar(range(X.shape[1]), importances[indices],\n",
    "       yerr=std[indices], align=\"center\")\n",
    "plt.xticks(range(X.shape[1]), [predictors[int(i)] for i in indices], rotation='vertical')\n",
    "plt.xlim([-1, X.shape[1]])\n",
    "plt.show()"
   ]
  },
  {
   "cell_type": "code",
   "execution_count": 119,
   "metadata": {
    "collapsed": false
   },
   "outputs": [
    {
     "name": "stdout",
     "output_type": "stream",
     "text": [
      "             precision    recall  f1-score   support\n",
      "\n",
      "          0       0.05      0.01      0.02       216\n",
      "          1       0.08      0.01      0.02       356\n",
      "          2       0.00      0.00      0.00        67\n",
      "          3       0.15      0.04      0.06       678\n",
      "          4       0.76      0.95      0.84      3976\n",
      "\n",
      "avg / total       0.60      0.72      0.64      5293\n",
      "\n",
      "[[   2    5    1    7  201]\n",
      " [   7    5    2   15  327]\n",
      " [   1    4    0    3   59]\n",
      " [  13   13    2   28  622]\n",
      " [  20   34    2  138 3782]]\n"
     ]
    }
   ],
   "source": [
    "from sklearn.metrics import classification_report, f1_score, accuracy_score, confusion_matrix\n",
    "y_test_predicted = forest.predict(X_test)\n",
    "print(classification_report(y_test, y_test_predicted))\n",
    "print(confusion_matrix(y_test, y_test_predicted))"
   ]
  },
  {
   "cell_type": "code",
   "execution_count": 120,
   "metadata": {
    "collapsed": false
   },
   "outputs": [
    {
     "name": "stdout",
     "output_type": "stream",
     "text": [
      "[ 0.72914072  0.72024922  0.7271028   0.71713396  0.7319202   0.72988147\n",
      "  0.72177168  0.7099189   0.72114785  0.71910112]\n",
      "0.722736792688\n",
      "0.00643433106128\n"
     ]
    }
   ],
   "source": [
    "\n",
    "scores = cross_val_score(RandomForestClassifier(n_estimators=20),  # steps to convert raw messages into models\n",
    "                         X,  # training data\n",
    "                         y,  # training labels\n",
    "                         cv=10,  # split data randomly into 10 parts: 9 for training, 1 for scoring\n",
    "                         scoring='accuracy',  # which scoring metric?\n",
    "                         n_jobs=-1,  # -1 = use all cores = faster\n",
    "                          #So train-test split is same\n",
    "                         )\n",
    "print(scores)\n",
    "print(scores.mean())\n",
    "print(scores.std())\n",
    "\n"
   ]
  },
  {
   "cell_type": "code",
   "execution_count": null,
   "metadata": {
    "collapsed": true
   },
   "outputs": [],
   "source": []
  }
 ],
 "metadata": {
  "kernelspec": {
   "display_name": "Python [default]",
   "language": "python",
   "name": "python2"
  },
  "language_info": {
   "codemirror_mode": {
    "name": "ipython",
    "version": 2
   },
   "file_extension": ".py",
   "mimetype": "text/x-python",
   "name": "python",
   "nbconvert_exporter": "python",
   "pygments_lexer": "ipython2",
   "version": "2.7.13"
  }
 },
 "nbformat": 4,
 "nbformat_minor": 2
}
